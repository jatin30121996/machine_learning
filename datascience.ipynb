{
 "cells": [
  {
   "cell_type": "code",
   "execution_count": 1,
   "metadata": {},
   "outputs": [
    {
     "data": {
      "text/plain": [
       "2"
      ]
     },
     "execution_count": 1,
     "metadata": {},
     "output_type": "execute_result"
    }
   ],
   "source": [
    "import numpy as np\n",
    "a = np.array([[1,2],[3,5],[5,3]])\n",
    "a.ndim"
   ]
  },
  {
   "cell_type": "code",
   "execution_count": 2,
   "metadata": {},
   "outputs": [
    {
     "name": "stdout",
     "output_type": "stream",
     "text": [
      "8\n"
     ]
    }
   ],
   "source": [
    "a = np.array([[1,2],[3,5],[3,5]], dtype=np.float64)\n",
    "print(a.itemsize)"
   ]
  },
  {
   "cell_type": "code",
   "execution_count": 3,
   "metadata": {},
   "outputs": [
    {
     "data": {
      "text/plain": [
       "(3, 2)"
      ]
     },
     "execution_count": 3,
     "metadata": {},
     "output_type": "execute_result"
    }
   ],
   "source": [
    "a.shape"
   ]
  },
  {
   "cell_type": "code",
   "execution_count": 4,
   "metadata": {},
   "outputs": [
    {
     "data": {
      "text/plain": [
       "6"
      ]
     },
     "execution_count": 4,
     "metadata": {},
     "output_type": "execute_result"
    }
   ],
   "source": [
    "a.size"
   ]
  },
  {
   "cell_type": "code",
   "execution_count": 5,
   "metadata": {},
   "outputs": [
    {
     "name": "stdout",
     "output_type": "stream",
     "text": [
      "[[1.+0.j 2.+0.j]\n",
      " [3.+0.j 5.+0.j]\n",
      " [3.+0.j 5.+0.j]]\n"
     ]
    }
   ],
   "source": [
    "a = np.array([[1,2],[3,5],[3,5]], dtype=complex)\n",
    "print(a)"
   ]
  },
  {
   "cell_type": "code",
   "execution_count": 6,
   "metadata": {},
   "outputs": [
    {
     "data": {
      "text/plain": [
       "array([1, 3])"
      ]
     },
     "execution_count": 6,
     "metadata": {},
     "output_type": "execute_result"
    }
   ],
   "source": [
    "np.arange(1,5,2)"
   ]
  },
  {
   "cell_type": "code",
   "execution_count": 7,
   "metadata": {},
   "outputs": [
    {
     "data": {
      "text/plain": [
       "array([1.        , 1.44444444, 1.88888889, 2.33333333, 2.77777778,\n",
       "       3.22222222, 3.66666667, 4.11111111, 4.55555556, 5.        ])"
      ]
     },
     "execution_count": 7,
     "metadata": {},
     "output_type": "execute_result"
    }
   ],
   "source": [
    "np.linspace(1,5,10)"
   ]
  },
  {
   "cell_type": "code",
   "execution_count": 8,
   "metadata": {},
   "outputs": [
    {
     "name": "stdout",
     "output_type": "stream",
     "text": [
      "1\n",
      "5\n",
      "19\n",
      "[3 8 8]\n",
      "[ 7 12]\n"
     ]
    }
   ],
   "source": [
    "a = np.array([[1,2],[3,5],[3,5]])\n",
    "print(a.min())\n",
    "print(a.max())\n",
    "print(a.sum())\n",
    "print(a.sum(axis=1))\n",
    "print(a.sum(axis=0))"
   ]
  },
  {
   "cell_type": "code",
   "execution_count": 9,
   "metadata": {},
   "outputs": [
    {
     "data": {
      "text/plain": [
       "1.4624940645653537"
      ]
     },
     "execution_count": 9,
     "metadata": {},
     "output_type": "execute_result"
    }
   ],
   "source": [
    "np.std(a)"
   ]
  },
  {
   "cell_type": "code",
   "execution_count": 10,
   "metadata": {},
   "outputs": [
    {
     "name": "stdout",
     "output_type": "stream",
     "text": [
      "[[2 3]\n",
      " [3 4]] \n",
      " [[3 4]\n",
      " [3 5]]\n"
     ]
    }
   ],
   "source": [
    "a = np.array([[2,3],[3,4]])\n",
    "b = np.array([[3,4],[3,5]])\n",
    "print(a,\"\\n\",b)"
   ]
  },
  {
   "cell_type": "code",
   "execution_count": 11,
   "metadata": {},
   "outputs": [
    {
     "name": "stdout",
     "output_type": "stream",
     "text": [
      "[[5 7]\n",
      " [6 9]]\n"
     ]
    }
   ],
   "source": [
    "print(a+b)"
   ]
  },
  {
   "cell_type": "code",
   "execution_count": 12,
   "metadata": {},
   "outputs": [
    {
     "data": {
      "text/plain": [
       "array([[15, 23],\n",
       "       [21, 32]])"
      ]
     },
     "execution_count": 12,
     "metadata": {},
     "output_type": "execute_result"
    }
   ],
   "source": [
    "np.dot(a,b)"
   ]
  },
  {
   "cell_type": "code",
   "execution_count": 13,
   "metadata": {},
   "outputs": [
    {
     "name": "stdout",
     "output_type": "stream",
     "text": [
      "          SYMBOL  SERIES         DATE1  PREV_CLOSE   OPEN_PRICE   HIGH_PRICE  \\\n",
      "0      20MICRONS      EQ   09-Oct-2020       27.95        27.95        28.35   \n",
      "1     21STCENMGM      EQ   09-Oct-2020       10.10        10.30        10.30   \n",
      "2     3IINFOTECH      EQ   09-Oct-2020        3.35         3.35         3.40   \n",
      "3        3MINDIA      EQ   09-Oct-2020    18896.70     18988.00     19549.95   \n",
      "4         5PAISA      BE   09-Oct-2020      351.20       368.75       368.75   \n",
      "...          ...     ...           ...         ...          ...          ...   \n",
      "1980   ZODJRDMKJ      EQ   09-Oct-2020       24.15        24.15        25.30   \n",
      "1981        ZOTA      EQ   09-Oct-2020      145.75       145.95       147.90   \n",
      "1982       ZUARI      EQ   09-Oct-2020       82.70        83.20        83.25   \n",
      "1983   ZUARIGLOB      EQ   09-Oct-2020       50.30        50.70        51.00   \n",
      "1984   ZYDUSWELL      EQ   09-Oct-2020     1787.25      1808.00      1852.00   \n",
      "\n",
      "       LOW_PRICE  LAST_PRICE   CLOSE_PRICE   AVG_PRICE   TTL_TRD_QNTY  \\\n",
      "0          27.30        27.5         27.60       27.66          23126   \n",
      "1           9.90       10.15         10.15       10.21           1258   \n",
      "2           3.20        3.25          3.25        3.29        2319853   \n",
      "3       18708.00       19510      19491.40    19255.64           3258   \n",
      "4         361.20       365.1        367.80      368.18          19782   \n",
      "...          ...         ...           ...         ...            ...   \n",
      "1980       23.65        25.2         25.20       24.19            455   \n",
      "1981      145.30       146.3        146.10      145.78           1125   \n",
      "1982       81.80        81.8         82.15       82.62           2059   \n",
      "1983       48.20          50         49.45       49.91           6587   \n",
      "1984     1776.30        1840       1801.75     1793.82          33699   \n",
      "\n",
      "       TURNOVER_LACS   NO_OF_TRADES  DELIV_QTY  DELIV_PER  \n",
      "0               6.40            471      15111      65.34  \n",
      "1               0.13             11       1123      89.27  \n",
      "2              76.25           1689    1643353      70.84  \n",
      "3             627.35           1818       1809      55.52  \n",
      "4              72.83            526          -          -  \n",
      "...              ...            ...        ...        ...  \n",
      "1980            0.11              7        351      77.14  \n",
      "1981            1.64             71        900         80  \n",
      "1982            1.70             95       1336      64.89  \n",
      "1983            3.29            186       3801       57.7  \n",
      "1984          604.50           3459      23504      69.75  \n",
      "\n",
      "[1985 rows x 15 columns]\n"
     ]
    }
   ],
   "source": [
    "import pandas as pd\n",
    "df = pd.read_csv(\"sec_bhavdata_full.csv\")\n",
    "print(df)"
   ]
  },
  {
   "cell_type": "code",
   "execution_count": 14,
   "metadata": {},
   "outputs": [
    {
     "data": {
      "text/plain": [
       "(1985, 15)"
      ]
     },
     "execution_count": 14,
     "metadata": {},
     "output_type": "execute_result"
    }
   ],
   "source": [
    "df.shape"
   ]
  },
  {
   "cell_type": "code",
   "execution_count": 15,
   "metadata": {},
   "outputs": [
    {
     "data": {
      "text/html": [
       "<div>\n",
       "<style scoped>\n",
       "    .dataframe tbody tr th:only-of-type {\n",
       "        vertical-align: middle;\n",
       "    }\n",
       "\n",
       "    .dataframe tbody tr th {\n",
       "        vertical-align: top;\n",
       "    }\n",
       "\n",
       "    .dataframe thead th {\n",
       "        text-align: right;\n",
       "    }\n",
       "</style>\n",
       "<table border=\"1\" class=\"dataframe\">\n",
       "  <thead>\n",
       "    <tr style=\"text-align: right;\">\n",
       "      <th></th>\n",
       "      <th>LOW_PRICE</th>\n",
       "      <th>PREV_CLOSE</th>\n",
       "    </tr>\n",
       "  </thead>\n",
       "  <tbody>\n",
       "    <tr>\n",
       "      <th>0</th>\n",
       "      <td>27.30</td>\n",
       "      <td>27.95</td>\n",
       "    </tr>\n",
       "    <tr>\n",
       "      <th>1</th>\n",
       "      <td>9.90</td>\n",
       "      <td>10.10</td>\n",
       "    </tr>\n",
       "    <tr>\n",
       "      <th>2</th>\n",
       "      <td>3.20</td>\n",
       "      <td>3.35</td>\n",
       "    </tr>\n",
       "    <tr>\n",
       "      <th>3</th>\n",
       "      <td>18708.00</td>\n",
       "      <td>18896.70</td>\n",
       "    </tr>\n",
       "    <tr>\n",
       "      <th>4</th>\n",
       "      <td>361.20</td>\n",
       "      <td>351.20</td>\n",
       "    </tr>\n",
       "    <tr>\n",
       "      <th>...</th>\n",
       "      <td>...</td>\n",
       "      <td>...</td>\n",
       "    </tr>\n",
       "    <tr>\n",
       "      <th>1980</th>\n",
       "      <td>23.65</td>\n",
       "      <td>24.15</td>\n",
       "    </tr>\n",
       "    <tr>\n",
       "      <th>1981</th>\n",
       "      <td>145.30</td>\n",
       "      <td>145.75</td>\n",
       "    </tr>\n",
       "    <tr>\n",
       "      <th>1982</th>\n",
       "      <td>81.80</td>\n",
       "      <td>82.70</td>\n",
       "    </tr>\n",
       "    <tr>\n",
       "      <th>1983</th>\n",
       "      <td>48.20</td>\n",
       "      <td>50.30</td>\n",
       "    </tr>\n",
       "    <tr>\n",
       "      <th>1984</th>\n",
       "      <td>1776.30</td>\n",
       "      <td>1787.25</td>\n",
       "    </tr>\n",
       "  </tbody>\n",
       "</table>\n",
       "<p>1985 rows × 2 columns</p>\n",
       "</div>"
      ],
      "text/plain": [
       "       LOW_PRICE  PREV_CLOSE\n",
       "0          27.30       27.95\n",
       "1           9.90       10.10\n",
       "2           3.20        3.35\n",
       "3       18708.00    18896.70\n",
       "4         361.20      351.20\n",
       "...          ...         ...\n",
       "1980       23.65       24.15\n",
       "1981      145.30      145.75\n",
       "1982       81.80       82.70\n",
       "1983       48.20       50.30\n",
       "1984     1776.30     1787.25\n",
       "\n",
       "[1985 rows x 2 columns]"
      ]
     },
     "execution_count": 15,
     "metadata": {},
     "output_type": "execute_result"
    }
   ],
   "source": [
    "df[[' LOW_PRICE', 'PREV_CLOSE']]"
   ]
  },
  {
   "cell_type": "code",
   "execution_count": 16,
   "metadata": {},
   "outputs": [
    {
     "data": {
      "text/plain": [
       "60175.35"
      ]
     },
     "execution_count": 16,
     "metadata": {},
     "output_type": "execute_result"
    }
   ],
   "source": [
    "df['PREV_CLOSE'].max()"
   ]
  },
  {
   "cell_type": "code",
   "execution_count": 17,
   "metadata": {},
   "outputs": [
    {
     "data": {
      "text/plain": [
       "2186.598103397098"
      ]
     },
     "execution_count": 17,
     "metadata": {},
     "output_type": "execute_result"
    }
   ],
   "source": [
    "df['PREV_CLOSE'].std()"
   ]
  },
  {
   "cell_type": "code",
   "execution_count": 18,
   "metadata": {},
   "outputs": [
    {
     "data": {
      "text/html": [
       "<div>\n",
       "<style scoped>\n",
       "    .dataframe tbody tr th:only-of-type {\n",
       "        vertical-align: middle;\n",
       "    }\n",
       "\n",
       "    .dataframe tbody tr th {\n",
       "        vertical-align: top;\n",
       "    }\n",
       "\n",
       "    .dataframe thead th {\n",
       "        text-align: right;\n",
       "    }\n",
       "</style>\n",
       "<table border=\"1\" class=\"dataframe\">\n",
       "  <thead>\n",
       "    <tr style=\"text-align: right;\">\n",
       "      <th></th>\n",
       "      <th>SYMBOL</th>\n",
       "      <th>SERIES</th>\n",
       "      <th>DATE1</th>\n",
       "      <th>PREV_CLOSE</th>\n",
       "      <th>OPEN_PRICE</th>\n",
       "      <th>HIGH_PRICE</th>\n",
       "      <th>LOW_PRICE</th>\n",
       "      <th>LAST_PRICE</th>\n",
       "      <th>CLOSE_PRICE</th>\n",
       "      <th>AVG_PRICE</th>\n",
       "      <th>TTL_TRD_QNTY</th>\n",
       "      <th>TURNOVER_LACS</th>\n",
       "      <th>NO_OF_TRADES</th>\n",
       "      <th>DELIV_QTY</th>\n",
       "      <th>DELIV_PER</th>\n",
       "    </tr>\n",
       "  </thead>\n",
       "  <tbody>\n",
       "    <tr>\n",
       "      <th>1154</th>\n",
       "      <td>MRF</td>\n",
       "      <td>EQ</td>\n",
       "      <td>09-Oct-2020</td>\n",
       "      <td>60175.35</td>\n",
       "      <td>60677.9</td>\n",
       "      <td>60677.9</td>\n",
       "      <td>58542.65</td>\n",
       "      <td>58798</td>\n",
       "      <td>58784.9</td>\n",
       "      <td>59335.48</td>\n",
       "      <td>12645</td>\n",
       "      <td>7502.97</td>\n",
       "      <td>6314</td>\n",
       "      <td>4241</td>\n",
       "      <td>33.54</td>\n",
       "    </tr>\n",
       "  </tbody>\n",
       "</table>\n",
       "</div>"
      ],
      "text/plain": [
       "     SYMBOL  SERIES         DATE1  PREV_CLOSE   OPEN_PRICE   HIGH_PRICE  \\\n",
       "1154    MRF      EQ   09-Oct-2020    60175.35      60677.9      60677.9   \n",
       "\n",
       "       LOW_PRICE  LAST_PRICE   CLOSE_PRICE   AVG_PRICE   TTL_TRD_QNTY  \\\n",
       "1154    58542.65       58798       58784.9    59335.48          12645   \n",
       "\n",
       "       TURNOVER_LACS   NO_OF_TRADES  DELIV_QTY  DELIV_PER  \n",
       "1154         7502.97           6314       4241      33.54  "
      ]
     },
     "execution_count": 18,
     "metadata": {},
     "output_type": "execute_result"
    }
   ],
   "source": [
    "df[df.PREV_CLOSE==df.PREV_CLOSE.max()]"
   ]
  },
  {
   "cell_type": "code",
   "execution_count": 19,
   "metadata": {},
   "outputs": [
    {
     "data": {
      "text/html": [
       "<div>\n",
       "<style scoped>\n",
       "    .dataframe tbody tr th:only-of-type {\n",
       "        vertical-align: middle;\n",
       "    }\n",
       "\n",
       "    .dataframe tbody tr th {\n",
       "        vertical-align: top;\n",
       "    }\n",
       "\n",
       "    .dataframe thead th {\n",
       "        text-align: right;\n",
       "    }\n",
       "</style>\n",
       "<table border=\"1\" class=\"dataframe\">\n",
       "  <thead>\n",
       "    <tr style=\"text-align: right;\">\n",
       "      <th></th>\n",
       "      <th>SERIES</th>\n",
       "      <th>PREV_CLOSE</th>\n",
       "    </tr>\n",
       "  </thead>\n",
       "  <tbody>\n",
       "    <tr>\n",
       "      <th>1154</th>\n",
       "      <td>EQ</td>\n",
       "      <td>60175.35</td>\n",
       "    </tr>\n",
       "  </tbody>\n",
       "</table>\n",
       "</div>"
      ],
      "text/plain": [
       "      SERIES  PREV_CLOSE\n",
       "1154      EQ    60175.35"
      ]
     },
     "execution_count": 19,
     "metadata": {},
     "output_type": "execute_result"
    }
   ],
   "source": [
    "df[[' SERIES', 'PREV_CLOSE']][df.PREV_CLOSE==df['PREV_CLOSE'].max()]"
   ]
  },
  {
   "cell_type": "code",
   "execution_count": 20,
   "metadata": {},
   "outputs": [
    {
     "name": "stdout",
     "output_type": "stream",
     "text": [
      "        day  Temperature  Windspeed  event\n",
      "0  1/1/2017           32          6   Rain\n",
      "1  i/2/2017           35          7  Sunny\n",
      "2  1/3/2017           28          2   Snow\n"
     ]
    }
   ],
   "source": [
    "weather_data = [\n",
    "    ('1/1/2017',32,6,'Rain'),\n",
    "    ('i/2/2017',35,7,'Sunny'),\n",
    "    ('1/3/2017',28,2,'Snow')\n",
    "]\n",
    "df=pd.DataFrame(weather_data, columns=['day','Temperature','Windspeed','event'])\n",
    "print(df)"
   ]
  },
  {
   "cell_type": "code",
   "execution_count": 21,
   "metadata": {},
   "outputs": [
    {
     "name": "stdout",
     "output_type": "stream",
     "text": [
      "          SYMBOL  SERIES         DATE1  PREV_CLOSE   OPEN_PRICE   HIGH_PRICE  \\\n",
      "0      20MICRONS      EQ   09-Oct-2020       27.95        27.95        28.35   \n",
      "1     21STCENMGM      EQ   09-Oct-2020       10.10        10.30        10.30   \n",
      "2     3IINFOTECH      EQ   09-Oct-2020        3.35         3.35         3.40   \n",
      "3        3MINDIA      EQ   09-Oct-2020    18896.70     18988.00     19549.95   \n",
      "4         5PAISA      BE   09-Oct-2020      351.20       368.75       368.75   \n",
      "...          ...     ...           ...         ...          ...          ...   \n",
      "1980   ZODJRDMKJ      EQ   09-Oct-2020       24.15        24.15        25.30   \n",
      "1981        ZOTA      EQ   09-Oct-2020      145.75       145.95       147.90   \n",
      "1982       ZUARI      EQ   09-Oct-2020       82.70        83.20        83.25   \n",
      "1983   ZUARIGLOB      EQ   09-Oct-2020       50.30        50.70        51.00   \n",
      "1984   ZYDUSWELL      EQ   09-Oct-2020     1787.25      1808.00      1852.00   \n",
      "\n",
      "       LOW_PRICE  LAST_PRICE   CLOSE_PRICE   AVG_PRICE   TTL_TRD_QNTY  \\\n",
      "0          27.30        27.5         27.60       27.66          23126   \n",
      "1           9.90       10.15         10.15       10.21           1258   \n",
      "2           3.20        3.25          3.25        3.29        2319853   \n",
      "3       18708.00       19510      19491.40    19255.64           3258   \n",
      "4         361.20       365.1        367.80      368.18          19782   \n",
      "...          ...         ...           ...         ...            ...   \n",
      "1980       23.65        25.2         25.20       24.19            455   \n",
      "1981      145.30       146.3        146.10      145.78           1125   \n",
      "1982       81.80        81.8         82.15       82.62           2059   \n",
      "1983       48.20          50         49.45       49.91           6587   \n",
      "1984     1776.30        1840       1801.75     1793.82          33699   \n",
      "\n",
      "       TURNOVER_LACS   NO_OF_TRADES  DELIV_QTY  DELIV_PER  \n",
      "0               6.40            471      15111      65.34  \n",
      "1               0.13             11       1123      89.27  \n",
      "2              76.25           1689    1643353      70.84  \n",
      "3             627.35           1818       1809      55.52  \n",
      "4              72.83            526          -          -  \n",
      "...              ...            ...        ...        ...  \n",
      "1980            0.11              7        351      77.14  \n",
      "1981            1.64             71        900         80  \n",
      "1982            1.70             95       1336      64.89  \n",
      "1983            3.29            186       3801       57.7  \n",
      "1984          604.50           3459      23504      69.75  \n",
      "\n",
      "[1985 rows x 15 columns]\n"
     ]
    }
   ],
   "source": [
    "df = pd.read_csv('sec_bhavdata_full.csv')\n",
    "print(df)"
   ]
  },
  {
   "cell_type": "code",
   "execution_count": 22,
   "metadata": {},
   "outputs": [],
   "source": [
    "df_stocks=pd.DataFrame({\n",
    "    'tickers':['GOOGL','WMT','MSFT'],\n",
    "    'price':[845,65,64],\n",
    "    'pe':[30.37,14.26,30.97],\n",
    "    'eps':[27.82,4.61,2.12]\n",
    "})\n",
    "df_weather = pd.DataFrame({\n",
    "    'day':['1/1/2020','1/2/2020','1/3/2020'],\n",
    "    'temperature':[32,35,28],\n",
    "    'event':['Rain','Sunny','Snow']\n",
    "})\n",
    "with pd.ExcelWriter('stocks_weather.xlsx') as writer:\n",
    "    df_stocks.to_excel(writer, sheet_name='stocks')\n",
    "    df_weather.to_excel(writer, sheet_name=\"weather\")"
   ]
  },
  {
   "cell_type": "code",
   "execution_count": 23,
   "metadata": {},
   "outputs": [
    {
     "name": "stdout",
     "output_type": "stream",
     "text": [
      "   Unnamed: 0        Day  Temperature  windspeed  event\n",
      "0           0 2020-01-01         32.0        6.0   Rain\n",
      "1           1 2020-02-01          NaN        7.0  Sunny\n",
      "2           2 2020-03-01         28.0        NaN   Snow\n",
      "3           3 2020-04-01          NaN        7.0    NaN\n",
      "4           4 2020-05-01         32.0        NaN   Rain\n",
      "5           5 2020-06-01         31.0        3.0  Sunny\n",
      "6           6 2020-06-01         34.0        5.0    NaN\n"
     ]
    }
   ],
   "source": [
    "df = pd.read_excel('Book.xlsx')\n",
    "print(df)"
   ]
  },
  {
   "cell_type": "code",
   "execution_count": 24,
   "metadata": {},
   "outputs": [
    {
     "name": "stdout",
     "output_type": "stream",
     "text": [
      "   Unnamed: 0 tickers  price     pe    eps\n",
      "0           0   GOOGL    845  30.37  27.82\n",
      "1           1     WMT     65  14.26   4.61\n",
      "2           2    MSFT     64  30.97   2.12\n"
     ]
    }
   ],
   "source": [
    "df1 = pd.read_excel('stocks_weather.xlsx')\n",
    "print(df1)"
   ]
  },
  {
   "cell_type": "code",
   "execution_count": 25,
   "metadata": {},
   "outputs": [
    {
     "name": "stdout",
     "output_type": "stream",
     "text": [
      "   Unnamed: 0        Day  Temperature  windspeed  event\n",
      "0           0 2020-01-01         32.0        6.0   Rain\n",
      "1           1 2020-02-01          NaN        7.0  Sunny\n",
      "2           2 2020-03-01         28.0        NaN   Snow\n",
      "3           3 2020-04-01          NaN        7.0    NaN\n",
      "4           4 2020-05-01         32.0        NaN   Rain\n",
      "5           5 2020-06-01         31.0        3.0  Sunny\n",
      "6           6 2020-06-01         34.0        5.0    NaN\n"
     ]
    }
   ],
   "source": [
    "newdf = df.replace(-9999,np.NaN)\n",
    "print(newdf)"
   ]
  },
  {
   "cell_type": "code",
   "execution_count": 26,
   "metadata": {},
   "outputs": [
    {
     "name": "stdout",
     "output_type": "stream",
     "text": [
      "   Unnamed: 0        Day  Temperature  windspeed  event\n",
      "0           0 2020-01-01         32.0        6.0   Rain\n",
      "1           1 2020-02-01          NaN        7.0  Sunny\n",
      "2           2 2020-03-01         28.0        NaN   Snow\n",
      "3           3 2020-04-01          NaN        7.0    NaN\n",
      "4           4 2020-05-01         32.0        NaN   Rain\n",
      "5           5 2020-06-01         31.0        3.0  Sunny\n",
      "6           6 2020-06-01         34.0        5.0    NaN\n"
     ]
    }
   ],
   "source": [
    "print(newdf)"
   ]
  },
  {
   "cell_type": "code",
   "execution_count": 27,
   "metadata": {},
   "outputs": [
    {
     "name": "stdout",
     "output_type": "stream",
     "text": [
      "   Unnamed: 0        Day  Temperature  windspeed  event\n",
      "0           0 2020-01-01         32.0        6.0   Rain\n",
      "1           1 2020-02-01         32.0        7.0  Sunny\n",
      "2           2 2020-03-01         28.0        7.0   Snow\n",
      "3           3 2020-04-01         28.0        7.0   Snow\n",
      "4           4 2020-05-01         32.0        7.0   Rain\n",
      "5           5 2020-06-01         31.0        3.0  Sunny\n",
      "6           6 2020-06-01         34.0        5.0  Sunny\n"
     ]
    }
   ],
   "source": [
    "newdf = df.fillna(method='ffill')\n",
    "print(newdf)"
   ]
  },
  {
   "cell_type": "code",
   "execution_count": 28,
   "metadata": {},
   "outputs": [
    {
     "name": "stdout",
     "output_type": "stream",
     "text": [
      "       city  temperature  humidity\n",
      "0     Mumai           17        80\n",
      "1     Delhi           45        90\n",
      "2  Banglore           30        30\n"
     ]
    }
   ],
   "source": [
    "india_weather=pd.DataFrame({\n",
    "    'city':['Mumai','Delhi','Banglore'],\n",
    "    'temperature':[17,45,30],\n",
    "    \"humidity\":[80,90,30]\n",
    "})\n",
    "print(india_weather)"
   ]
  },
  {
   "cell_type": "code",
   "execution_count": 29,
   "metadata": {},
   "outputs": [
    {
     "name": "stdout",
     "output_type": "stream",
     "text": [
      "       city  temperature  humidity\n",
      "0  new york           21        80\n",
      "1   chicago           14        60\n",
      "2   orlando           40        40\n"
     ]
    }
   ],
   "source": [
    "usa_weather=pd.DataFrame({\n",
    "    'city':['new york','chicago','orlando'],\n",
    "    'temperature':[21,14,40],\n",
    "    \"humidity\":[80,60,40]\n",
    "})\n",
    "print(usa_weather)"
   ]
  },
  {
   "cell_type": "code",
   "execution_count": 30,
   "metadata": {},
   "outputs": [
    {
     "name": "stdout",
     "output_type": "stream",
     "text": [
      "       city  temperature  humidity\n",
      "0     Mumai           17        80\n",
      "1     Delhi           45        90\n",
      "2  Banglore           30        30\n",
      "3  new york           21        80\n",
      "4   chicago           14        60\n",
      "5   orlando           40        40\n"
     ]
    }
   ],
   "source": [
    "df= pd.concat([india_weather, usa_weather],ignore_index=True)\n",
    "print(df)"
   ]
  },
  {
   "cell_type": "code",
   "execution_count": 31,
   "metadata": {},
   "outputs": [
    {
     "name": "stdout",
     "output_type": "stream",
     "text": [
      "             city  temperature  humidity\n",
      "india 0     Mumai           17        80\n",
      "      1     Delhi           45        90\n",
      "      2  Banglore           30        30\n",
      "usa   0  new york           21        80\n",
      "      1   chicago           14        60\n",
      "      2   orlando           40        40\n"
     ]
    }
   ],
   "source": [
    "df= pd.concat([india_weather, usa_weather],keys=[\"india\", \"usa\"])\n",
    "print(df)"
   ]
  },
  {
   "cell_type": "code",
   "execution_count": 32,
   "metadata": {},
   "outputs": [
    {
     "name": "stdout",
     "output_type": "stream",
     "text": [
      "0      run\n",
      "1     walk\n",
      "2      sit\n",
      "3    stand\n",
      "dtype: object\n"
     ]
    }
   ],
   "source": [
    "df = pd.Series(['run', 'walk', 'sit', 'stand'])\n",
    "print(df)"
   ]
  },
  {
   "cell_type": "code",
   "execution_count": 33,
   "metadata": {},
   "outputs": [
    {
     "name": "stdout",
     "output_type": "stream",
     "text": [
      "       city  temperature  humidity      city  temperature  humidity      0\n",
      "0     Mumai         17.0      80.0  new york         21.0      80.0    run\n",
      "1     Delhi         45.0      90.0   chicago         14.0      60.0   walk\n",
      "2  Banglore         30.0      30.0   orlando         40.0      40.0    sit\n",
      "3  Banglore         30.0      30.0   orlando         40.0      40.0  stand\n"
     ]
    }
   ],
   "source": [
    "df = pd.concat([india_weather, usa_weather,df], axis=1)\n",
    "newdf = df.fillna(method='ffill')\n",
    "print(newdf)"
   ]
  },
  {
   "cell_type": "code",
   "execution_count": null,
   "metadata": {},
   "outputs": [],
   "source": [
    "from matplotlib import pyplot as plt\n",
    "x=[1,2,3,4,5,6,7]\n",
    "y=[58,51,52,48,37,49,45]\n",
    "plt.xlabel('Day')\n",
    "plt.ylabel('temperature')\n",
    "plt.title('weather')\n",
    "plt.plot(x,y,color='red', linewidth=5,linestyle='dotted')\n",
    "plt.show()"
   ]
  },
  {
   "cell_type": "code",
   "execution_count": null,
   "metadata": {},
   "outputs": [],
   "source": [
    "plt.plot(x,y,color='red', linewidth=1,marker='+', markersize=34,alpha=0.3)"
   ]
  },
  {
   "cell_type": "code",
   "execution_count": null,
   "metadata": {},
   "outputs": [],
   "source": [
    "days = [1,2,3,4,5,6,7]\n",
    "max_t = [32,45,33,56,55,43,23]\n",
    "min_t = [33,22,32,4,44,56,54]\n",
    "average_t=[33,34,45,44,23,35,32]\n",
    "plt.xlabel(\"Days\")\n",
    "plt.ylabel(\"Temperature\")\n",
    "plt.plot(days,max_t,label=\"max\")\n",
    "plt.plot(days,min_t,label=\"min\")\n",
    "plt.plot(days,average_t,label=\"average\")\n",
    "plt.legend(loc=\"best\", shadow=True, fontsize=\"large\")\n",
    "plt.grid()\n",
    "plt.show()"
   ]
  },
  {
   "cell_type": "code",
   "execution_count": null,
   "metadata": {},
   "outputs": [],
   "source": [
    "company = ['Google', 'Amazon', 'MSFT', 'FB']\n",
    "revenue = [98,45,39,100]\n",
    "plt.ylabel('revenue')\n",
    "plt.title('US Tech Stocks')\n",
    "plt.bar(company,revenue)\n",
    "plt.show()"
   ]
  },
  {
   "cell_type": "code",
   "execution_count": null,
   "metadata": {},
   "outputs": [],
   "source": [
    "company = ['Google', 'Amazon', 'MSFT', 'FB']\n",
    "revenue = [98,45,39,100]\n",
    "plt.xlabel('revenue')\n",
    "plt.title('US Tech Stocks')\n",
    "plt.barh(company,revenue)\n",
    "plt.grid()\n",
    "plt.show()"
   ]
  },
  {
   "cell_type": "code",
   "execution_count": null,
   "metadata": {},
   "outputs": [],
   "source": [
    "sugar_men=[100,45,67,89,98,76,54,66,88,20]\n",
    "sugar_women=[20,67,89,66,55,78,79,99,87,67]\n",
    "plt.xlabel('sugar level')\n",
    "plt.ylabel('Patient number')\n",
    "plt.hist([sugar_men, sugar_women], bins=[40,60,80,100],rwidth=0.95,color=['green','yellow'],label=['men', 'women'])\n",
    "plt.legend()\n",
    "plt.grid()\n",
    "plt.show()"
   ]
  },
  {
   "cell_type": "code",
   "execution_count": null,
   "metadata": {},
   "outputs": [],
   "source": [
    "sugar_men=[100,45,67,89,98,76,54,66,88,20]\n",
    "sugar_women=[20,67,89,66,55,78,79,99,87,67]\n",
    "plt.ylabel('sugar level')\n",
    "plt.xlabel('Patient number')\n",
    "plt.hist([sugar_men, sugar_women], bins=[40,60,80,100],rwidth=0.95,color=['green','yellow'],label=['men', 'women'],orientation='horizontal')\n",
    "plt.legend()\n",
    "plt.grid()\n",
    "plt.show()"
   ]
  },
  {
   "cell_type": "code",
   "execution_count": null,
   "metadata": {},
   "outputs": [],
   "source": [
    "exp_vals = [1400,600,300,410,250]\n",
    "exp_labels = [\"Home Rent\",\"Food\",\"Phone/Internet bill\", \"car\", \"other utilities\"]\n",
    "plt.axis(\"equal\")\n",
    "plt.pie(exp_vals, labels=exp_labels,explode=[0.1,0,0,0,0.8],autopct='%1.2f%%')\n",
    "plt.show()"
   ]
  },
  {
   "cell_type": "code",
   "execution_count": 1,
   "metadata": {},
   "outputs": [
    {
     "data": {
      "text/plain": [
       "array([628715.75342466])"
      ]
     },
     "execution_count": 1,
     "metadata": {},
     "output_type": "execute_result"
    }
   ],
   "source": [
    "from sklearn import linear_model\n",
    "import numpy as np\n",
    "import pandas as pd\n",
    "df = pd.read_csv(\"homeprice.csv\")\n",
    "reg = linear_model.LinearRegression()\n",
    "reg.fit(df[['area']],df.price)\n",
    "reg.predict([[3300]])"
   ]
  },
  {
   "cell_type": "code",
   "execution_count": 6,
   "metadata": {},
   "outputs": [
    {
     "ename": "SyntaxError",
     "evalue": "positional argument follows keyword argument (<ipython-input-6-621c61ead85e>, line 5)",
     "output_type": "error",
     "traceback": [
      "\u001b[1;36m  File \u001b[1;32m\"<ipython-input-6-621c61ead85e>\"\u001b[1;36m, line \u001b[1;32m5\u001b[0m\n\u001b[1;33m    sns.replot(x=\"PREV_CLOSE\",\"OPEN_PRICE\",data = a)\u001b[0m\n\u001b[1;37m                              ^\u001b[0m\n\u001b[1;31mSyntaxError\u001b[0m\u001b[1;31m:\u001b[0m positional argument follows keyword argument\n"
     ]
    }
   ],
   "source": [
    "import pandas as pd\n",
    "import matplotlib.pyplot as plt\n",
    "import seaborn as sns\n",
    "a = sns.load_dataset(\"sec_bhavdata_full.csv\")\n",
    "sns.replot(x=\"PREV_CLOSE\",\" OPEN_PRICE\",data = a)"
   ]
  },
  {
   "cell_type": "code",
   "execution_count": 2,
   "metadata": {},
   "outputs": [
    {
     "data": {
      "text/html": [
       "<div>\n",
       "<style scoped>\n",
       "    .dataframe tbody tr th:only-of-type {\n",
       "        vertical-align: middle;\n",
       "    }\n",
       "\n",
       "    .dataframe tbody tr th {\n",
       "        vertical-align: top;\n",
       "    }\n",
       "\n",
       "    .dataframe thead th {\n",
       "        text-align: right;\n",
       "    }\n",
       "</style>\n",
       "<table border=\"1\" class=\"dataframe\">\n",
       "  <thead>\n",
       "    <tr style=\"text-align: right;\">\n",
       "      <th></th>\n",
       "      <th>v1</th>\n",
       "      <th>v2</th>\n",
       "      <th>Unnamed: 2</th>\n",
       "      <th>Unnamed: 3</th>\n",
       "      <th>Unnamed: 4</th>\n",
       "    </tr>\n",
       "  </thead>\n",
       "  <tbody>\n",
       "    <tr>\n",
       "      <th>0</th>\n",
       "      <td>ham</td>\n",
       "      <td>Go until jurong point, crazy.. Available only ...</td>\n",
       "      <td>NaN</td>\n",
       "      <td>NaN</td>\n",
       "      <td>NaN</td>\n",
       "    </tr>\n",
       "    <tr>\n",
       "      <th>1</th>\n",
       "      <td>ham</td>\n",
       "      <td>Ok lar... Joking wif u oni...</td>\n",
       "      <td>NaN</td>\n",
       "      <td>NaN</td>\n",
       "      <td>NaN</td>\n",
       "    </tr>\n",
       "    <tr>\n",
       "      <th>2</th>\n",
       "      <td>spam</td>\n",
       "      <td>Free entry in 2 a wkly comp to win FA Cup fina...</td>\n",
       "      <td>NaN</td>\n",
       "      <td>NaN</td>\n",
       "      <td>NaN</td>\n",
       "    </tr>\n",
       "    <tr>\n",
       "      <th>3</th>\n",
       "      <td>ham</td>\n",
       "      <td>U dun say so early hor... U c already then say...</td>\n",
       "      <td>NaN</td>\n",
       "      <td>NaN</td>\n",
       "      <td>NaN</td>\n",
       "    </tr>\n",
       "    <tr>\n",
       "      <th>4</th>\n",
       "      <td>ham</td>\n",
       "      <td>Nah I don't think he goes to usf, he lives aro...</td>\n",
       "      <td>NaN</td>\n",
       "      <td>NaN</td>\n",
       "      <td>NaN</td>\n",
       "    </tr>\n",
       "    <tr>\n",
       "      <th>...</th>\n",
       "      <td>...</td>\n",
       "      <td>...</td>\n",
       "      <td>...</td>\n",
       "      <td>...</td>\n",
       "      <td>...</td>\n",
       "    </tr>\n",
       "    <tr>\n",
       "      <th>5567</th>\n",
       "      <td>spam</td>\n",
       "      <td>This is the 2nd time we have tried 2 contact u...</td>\n",
       "      <td>NaN</td>\n",
       "      <td>NaN</td>\n",
       "      <td>NaN</td>\n",
       "    </tr>\n",
       "    <tr>\n",
       "      <th>5568</th>\n",
       "      <td>ham</td>\n",
       "      <td>Will Ì_ b going to esplanade fr home?</td>\n",
       "      <td>NaN</td>\n",
       "      <td>NaN</td>\n",
       "      <td>NaN</td>\n",
       "    </tr>\n",
       "    <tr>\n",
       "      <th>5569</th>\n",
       "      <td>ham</td>\n",
       "      <td>Pity, * was in mood for that. So...any other s...</td>\n",
       "      <td>NaN</td>\n",
       "      <td>NaN</td>\n",
       "      <td>NaN</td>\n",
       "    </tr>\n",
       "    <tr>\n",
       "      <th>5570</th>\n",
       "      <td>ham</td>\n",
       "      <td>The guy did some bitching but I acted like i'd...</td>\n",
       "      <td>NaN</td>\n",
       "      <td>NaN</td>\n",
       "      <td>NaN</td>\n",
       "    </tr>\n",
       "    <tr>\n",
       "      <th>5571</th>\n",
       "      <td>ham</td>\n",
       "      <td>Rofl. Its true to its name</td>\n",
       "      <td>NaN</td>\n",
       "      <td>NaN</td>\n",
       "      <td>NaN</td>\n",
       "    </tr>\n",
       "  </tbody>\n",
       "</table>\n",
       "<p>5572 rows × 5 columns</p>\n",
       "</div>"
      ],
      "text/plain": [
       "        v1                                                 v2 Unnamed: 2  \\\n",
       "0      ham  Go until jurong point, crazy.. Available only ...        NaN   \n",
       "1      ham                      Ok lar... Joking wif u oni...        NaN   \n",
       "2     spam  Free entry in 2 a wkly comp to win FA Cup fina...        NaN   \n",
       "3      ham  U dun say so early hor... U c already then say...        NaN   \n",
       "4      ham  Nah I don't think he goes to usf, he lives aro...        NaN   \n",
       "...    ...                                                ...        ...   \n",
       "5567  spam  This is the 2nd time we have tried 2 contact u...        NaN   \n",
       "5568   ham              Will Ì_ b going to esplanade fr home?        NaN   \n",
       "5569   ham  Pity, * was in mood for that. So...any other s...        NaN   \n",
       "5570   ham  The guy did some bitching but I acted like i'd...        NaN   \n",
       "5571   ham                         Rofl. Its true to its name        NaN   \n",
       "\n",
       "     Unnamed: 3 Unnamed: 4  \n",
       "0           NaN        NaN  \n",
       "1           NaN        NaN  \n",
       "2           NaN        NaN  \n",
       "3           NaN        NaN  \n",
       "4           NaN        NaN  \n",
       "...         ...        ...  \n",
       "5567        NaN        NaN  \n",
       "5568        NaN        NaN  \n",
       "5569        NaN        NaN  \n",
       "5570        NaN        NaN  \n",
       "5571        NaN        NaN  \n",
       "\n",
       "[5572 rows x 5 columns]"
      ]
     },
     "execution_count": 2,
     "metadata": {},
     "output_type": "execute_result"
    }
   ],
   "source": [
    "import pandas as pd\n",
    "df = pd.read_csv(\"spam.csv\",encoding='ISO-8859-1')\n",
    "df"
   ]
  },
  {
   "cell_type": "code",
   "execution_count": null,
   "metadata": {},
   "outputs": [],
   "source": []
  }
 ],
 "metadata": {
  "kernelspec": {
   "display_name": "Python 3",
   "language": "python",
   "name": "python3"
  },
  "language_info": {
   "codemirror_mode": {
    "name": "ipython",
    "version": 3
   },
   "file_extension": ".py",
   "mimetype": "text/x-python",
   "name": "python",
   "nbconvert_exporter": "python",
   "pygments_lexer": "ipython3",
   "version": "3.8.3"
  }
 },
 "nbformat": 4,
 "nbformat_minor": 4
}
