{
 "cells": [
  {
   "cell_type": "code",
   "execution_count": 1,
   "id": "515b7120",
   "metadata": {},
   "outputs": [],
   "source": [
    "import tensorflow as tf\n",
    "import numpy as np"
   ]
  },
  {
   "cell_type": "code",
   "execution_count": 2,
   "id": "1e023efa",
   "metadata": {},
   "outputs": [
    {
     "data": {
      "text/plain": [
       "[[1, 3], [], [7]]"
      ]
     },
     "execution_count": 2,
     "metadata": {},
     "output_type": "execute_result"
    }
   ],
   "source": [
    "T, F = True, False\n",
    "tf.ragged.boolean_mask(data=[[1, 2, 3], [4, 5, 6], [7, 8, 9]], mask=[[T, F, T], [F, F, F], [T, F, F]]).to_list()"
   ]
  },
  {
   "cell_type": "code",
   "execution_count": 3,
   "id": "c9ea9cb8",
   "metadata": {},
   "outputs": [
    {
     "data": {
      "text/plain": [
       "<tf.RaggedTensor [[1, 2], [3], [4, 5, 6]]>"
      ]
     },
     "execution_count": 3,
     "metadata": {},
     "output_type": "execute_result"
    }
   ],
   "source": [
    "tf.ragged.constant([[1, 2], [3], [4, 5, 6]])"
   ]
  },
  {
   "cell_type": "code",
   "execution_count": 4,
   "id": "74d426cf",
   "metadata": {},
   "outputs": [
    {
     "data": {
      "text/plain": [
       "<tf.RaggedTensor [[b'a_X_d_X_f'], [b'b_X_e_X_g', b'c_X_e_X_g']]>"
      ]
     },
     "execution_count": 4,
     "metadata": {},
     "output_type": "execute_result"
    }
   ],
   "source": [
    "tf.ragged.cross([tf.ragged.constant([['a'], ['b', 'c']]), tf.ragged.constant([['d'], ['e']]), \n",
    "                 tf.ragged.constant([['f'], ['g']])])"
   ]
  },
  {
   "cell_type": "code",
   "execution_count": 5,
   "id": "dc553f74",
   "metadata": {},
   "outputs": [
    {
     "data": {
      "text/plain": [
       "<tf.RaggedTensor [[5684865645872741371], [1392610987527938559, 6629649657679214674]]>"
      ]
     },
     "execution_count": 5,
     "metadata": {},
     "output_type": "execute_result"
    }
   ],
   "source": [
    "tf.ragged.cross_hashed([tf.ragged.constant([['a'], ['b', 'c']]), tf.ragged.constant([['d'], ['e']]), \n",
    "                 tf.ragged.constant([['f'], ['g']])])"
   ]
  },
  {
   "cell_type": "code",
   "execution_count": 7,
   "id": "431cb966",
   "metadata": {},
   "outputs": [
    {
     "data": {
      "text/plain": [
       "<tf.RaggedTensor [[1, 1, 1], [], [1]]>"
      ]
     },
     "execution_count": 7,
     "metadata": {},
     "output_type": "execute_result"
    }
   ],
   "source": [
    "rt = tf.ragged.constant([[1, 2, 3], [], [4]])\n",
    "tf.ragged.map_flat_values(tf.ones_like, rt)"
   ]
  },
  {
   "cell_type": "code",
   "execution_count": 8,
   "id": "ec3864a0",
   "metadata": {},
   "outputs": [
    {
     "data": {
      "text/plain": [
       "[[0, 1, 2], [], [8, 9, 10, 11]]"
      ]
     },
     "execution_count": 8,
     "metadata": {},
     "output_type": "execute_result"
    }
   ],
   "source": [
    "tf.ragged.range([0, 5, 8], [3, 3, 12]).to_list()"
   ]
  },
  {
   "cell_type": "code",
   "execution_count": 10,
   "id": "7a67db37",
   "metadata": {},
   "outputs": [
    {
     "name": "stdout",
     "output_type": "stream",
     "text": [
      "tf.Tensor([0 0 0 2 2 3 4 4 4], shape=(9,), dtype=int64)\n"
     ]
    }
   ],
   "source": [
    "print(tf.ragged.row_splits_to_segment_ids([0, 3, 3, 5, 6, 9]))"
   ]
  },
  {
   "cell_type": "code",
   "execution_count": 11,
   "id": "6ea8f02c",
   "metadata": {},
   "outputs": [
    {
     "name": "stdout",
     "output_type": "stream",
     "text": [
      "tf.Tensor([0 3 3 5 6 9], shape=(6,), dtype=int64)\n"
     ]
    }
   ],
   "source": [
    "print(tf.ragged.segment_ids_to_row_splits([0, 0, 0, 2, 2, 3, 4, 4, 4]))"
   ]
  },
  {
   "cell_type": "code",
   "execution_count": 13,
   "id": "78b39e6d",
   "metadata": {},
   "outputs": [
    {
     "name": "stdout",
     "output_type": "stream",
     "text": [
      "<tf.RaggedTensor [[[1, 2], [3, 4, 5]],\n",
      " [[6], [7, 7, 8]]]>\n",
      "<tf.RaggedTensor [[[1, 2], [6]],\n",
      " [[3, 4, 5], [7, 7, 8]]]>\n"
     ]
    }
   ],
   "source": [
    "t1 = tf.ragged.constant([[1, 2], [3, 4, 5]])\n",
    "t2 = tf.ragged.constant([[6], [7, 7, 8]])\n",
    "print(tf.ragged.stack([t1, t2], axis=0))\n",
    "print(tf.ragged.stack([t1, t2], axis=1))"
   ]
  },
  {
   "cell_type": "code",
   "execution_count": 14,
   "id": "8d3435ad",
   "metadata": {},
   "outputs": [
    {
     "data": {
      "text/plain": [
       "<tf.RaggedTensor [[b'b'], [], [b'c', b'd'], [b'a', b'e'], []]>"
      ]
     },
     "execution_count": 14,
     "metadata": {},
     "output_type": "execute_result"
    }
   ],
   "source": [
    "data = ['a', 'b', 'c', 'd', 'e']\n",
    "partitions = [3, 0, 2, 2, 3]\n",
    "num_partitions = 5\n",
    "tf.ragged.stack_dynamic_partitions(data, partitions, num_partitions)"
   ]
  },
  {
   "cell_type": "code",
   "execution_count": 15,
   "id": "1f24a2b7",
   "metadata": {},
   "outputs": [
    {
     "data": {
      "text/plain": [
       "<tf.Tensor: shape=(2, 3), dtype=float32, numpy=\n",
       "array([[ 0.8673864 , -0.29899067, -0.9310337 ],\n",
       "       [-1.5828488 ,  1.2481191 , -0.6770643 ]], dtype=float32)>"
      ]
     },
     "execution_count": 15,
     "metadata": {},
     "output_type": "execute_result"
    }
   ],
   "source": [
    "g = tf.random.Generator.from_seed(123)\n",
    "g.normal(shape=(2, 3))"
   ]
  },
  {
   "cell_type": "code",
   "execution_count": 18,
   "id": "1633c091",
   "metadata": {},
   "outputs": [
    {
     "data": {
      "text/plain": [
       "<tf.Tensor: shape=(1, 5), dtype=int64, numpy=array([[0, 1, 1, 0, 1]], dtype=int64)>"
      ]
     },
     "execution_count": 18,
     "metadata": {},
     "output_type": "execute_result"
    }
   ],
   "source": [
    "tf.random.categorical(tf.math.log([[0.5, 0.5]]), 5)"
   ]
  },
  {
   "cell_type": "code",
   "execution_count": 19,
   "id": "4763c97c",
   "metadata": {},
   "outputs": [
    {
     "data": {
      "text/plain": [
       "<tf.Tensor: shape=(3,), dtype=int64, numpy=array([1234,    0,    0], dtype=int64)>"
      ]
     },
     "execution_count": 19,
     "metadata": {},
     "output_type": "execute_result"
    }
   ],
   "source": [
    "tf.random.create_rng_state(1234, \"philox\")"
   ]
  },
  {
   "cell_type": "code",
   "execution_count": 23,
   "id": "ed2f4295",
   "metadata": {},
   "outputs": [
    {
     "data": {
      "text/plain": [
       "(10, 2)"
      ]
     },
     "execution_count": 23,
     "metadata": {},
     "output_type": "execute_result"
    }
   ],
   "source": [
    "tf.random.gamma([10], [0.5, 1.5]).numpy().shape"
   ]
  },
  {
   "cell_type": "code",
   "execution_count": 24,
   "id": "d1f77a79",
   "metadata": {},
   "outputs": [
    {
     "data": {
      "text/plain": [
       "<tf.Tensor: shape=(2, 2), dtype=float32, numpy=\n",
       "array([[-0.8113182 ,  1.4845988 ],\n",
       "       [ 0.06532937, -2.4427042 ]], dtype=float32)>"
      ]
     },
     "execution_count": 24,
     "metadata": {},
     "output_type": "execute_result"
    }
   ],
   "source": [
    "tf.random.normal([2, 2], 0, 1, tf.float32, seed=1)"
   ]
  },
  {
   "cell_type": "code",
   "execution_count": 25,
   "id": "5621609c",
   "metadata": {},
   "outputs": [
    {
     "data": {
      "text/plain": [
       "<tf.Tensor: shape=(5, 2), dtype=float32, numpy=\n",
       "array([[2., 2.],\n",
       "       [0., 4.],\n",
       "       [0., 2.],\n",
       "       [1., 2.],\n",
       "       [0., 1.]], dtype=float32)>"
      ]
     },
     "execution_count": 25,
     "metadata": {},
     "output_type": "execute_result"
    }
   ],
   "source": [
    "tf.random.poisson([5], [0.5, 1.5])"
   ]
  },
  {
   "cell_type": "code",
   "execution_count": 26,
   "id": "897233a6",
   "metadata": {},
   "outputs": [
    {
     "name": "stdout",
     "output_type": "stream",
     "text": [
      "tf.Tensor([0.5380393], shape=(1,), dtype=float32)\n",
      "tf.Tensor([0.3253647], shape=(1,), dtype=float32)\n"
     ]
    }
   ],
   "source": [
    "tf.random.set_seed(1234)\n",
    "print(tf.random.uniform([1]))\n",
    "print(tf.random.uniform([1]))"
   ]
  },
  {
   "cell_type": "code",
   "execution_count": 28,
   "id": "e23f2a4a",
   "metadata": {},
   "outputs": [
    {
     "data": {
      "text/plain": [
       "<tf.Tensor: shape=(2,), dtype=int32, numpy=array([ 5, 16])>"
      ]
     },
     "execution_count": 28,
     "metadata": {},
     "output_type": "execute_result"
    }
   ],
   "source": [
    "counts = [10., 20.]\n",
    "probs = [0.8]\n",
    "binomial_samples = tf.random.stateless_binomial(shape=[2], seed=[123, 456], counts=counts, probs=probs)\n",
    "binomial_samples"
   ]
  },
  {
   "cell_type": "code",
   "execution_count": 29,
   "id": "c897c187",
   "metadata": {},
   "outputs": [],
   "source": [
    "samples = tf.random.stateless_categorical(tf.math.log([[0.5, 0.5]]), 5, seed=[7, 17])"
   ]
  },
  {
   "cell_type": "code",
   "execution_count": 30,
   "id": "93aaba27",
   "metadata": {},
   "outputs": [],
   "source": [
    "samples = tf.random.stateless_gamma([10, 2], seed=[12, 34], alpha=[0.5, 1.5])"
   ]
  },
  {
   "cell_type": "code",
   "execution_count": 36,
   "id": "f8c462e4",
   "metadata": {},
   "outputs": [
    {
     "data": {
      "text/plain": [
       "<tf.Tensor: shape=(2, 2), dtype=float32, numpy=\n",
       "array([[ 0.359035  ,  0.9027202 ],\n",
       "       [-0.06132288,  0.16664371]], dtype=float32)>"
      ]
     },
     "execution_count": 36,
     "metadata": {},
     "output_type": "execute_result"
    }
   ],
   "source": [
    "tf.random.stateless_normal(shape=[2, 2], seed=[2, 4])"
   ]
  },
  {
   "cell_type": "code",
   "execution_count": 41,
   "id": "2521898c",
   "metadata": {},
   "outputs": [],
   "source": [
    "samples = tf.random.stateless_poisson([10, 2], seed=[12, 34], lam=[5, 15])"
   ]
  },
  {
   "cell_type": "code",
   "execution_count": 42,
   "id": "65c89d08",
   "metadata": {},
   "outputs": [
    {
     "data": {
      "text/plain": [
       "<tf.Tensor: shape=(2,), dtype=float32, numpy=array([4.8121715, 3.7068176], dtype=float32)>"
      ]
     },
     "execution_count": 42,
     "metadata": {},
     "output_type": "execute_result"
    }
   ],
   "source": [
    "tf.random.truncated_normal(shape=[2], mean=3, stddev=1, dtype=tf.float32)"
   ]
  },
  {
   "cell_type": "code",
   "execution_count": 44,
   "id": "3925b35a",
   "metadata": {},
   "outputs": [
    {
     "data": {
      "text/plain": [
       "array([0.6765541 , 0.31846166], dtype=float32)"
      ]
     },
     "execution_count": 44,
     "metadata": {},
     "output_type": "execute_result"
    }
   ],
   "source": [
    "tf.random.uniform(shape=[2]).numpy()"
   ]
  },
  {
   "cell_type": "code",
   "execution_count": 46,
   "id": "52598859",
   "metadata": {},
   "outputs": [
    {
     "name": "stdout",
     "output_type": "stream",
     "text": [
      "[1105988140          3]\n"
     ]
    }
   ],
   "source": [
    "master_seed = [1, 2]\n",
    "replica_id = 3\n",
    "replica_seed = tf.random.experimental.stateless_fold_in(master_seed, replica_id)\n",
    "print(replica_seed.numpy())"
   ]
  },
  {
   "cell_type": "code",
   "execution_count": 47,
   "id": "380dc266",
   "metadata": {},
   "outputs": [
    {
     "data": {
      "text/plain": [
       "array([0.03197195, 0.8979765 , 0.13253039], dtype=float32)"
      ]
     },
     "execution_count": 47,
     "metadata": {},
     "output_type": "execute_result"
    }
   ],
   "source": [
    "tf.random.stateless_normal(shape=[3], seed=replica_seed).numpy()"
   ]
  },
  {
   "cell_type": "code",
   "execution_count": 48,
   "id": "909b2d36",
   "metadata": {},
   "outputs": [],
   "source": [
    "seed = [1, 2]\n",
    "new_seeds = tf.random.experimental.stateless_split(seed, num=3)"
   ]
  },
  {
   "cell_type": "code",
   "execution_count": 49,
   "id": "0ce724c1",
   "metadata": {},
   "outputs": [
    {
     "data": {
      "text/plain": [
       "<tf.Tensor: shape=(3, 2), dtype=int32, numpy=\n",
       "array([[1105988140, 1738052849],\n",
       "       [-335576002,  370444179],\n",
       "       [  10670227, -246211131]])>"
      ]
     },
     "execution_count": 49,
     "metadata": {},
     "output_type": "execute_result"
    }
   ],
   "source": [
    "new_seeds"
   ]
  },
  {
   "cell_type": "code",
   "execution_count": 58,
   "id": "8c69a681",
   "metadata": {},
   "outputs": [
    {
     "data": {
      "text/plain": [
       "<tf.Tensor: shape=(), dtype=int32, numpy=5>"
      ]
     },
     "execution_count": 58,
     "metadata": {},
     "output_type": "execute_result"
    }
   ],
   "source": [
    "tf.add(2, 3)"
   ]
  },
  {
   "cell_type": "code",
   "execution_count": 71,
   "id": "04a9f61a",
   "metadata": {},
   "outputs": [
    {
     "data": {
      "text/plain": [
       "<tf.Tensor: shape=(2, 2, 4), dtype=float32, numpy=\n",
       "array([[[2.6, 3.6, 4.6, 5.6],\n",
       "        [3.4, 4.4, 5.4, 6.4]],\n",
       "\n",
       "       [[2.6, 3.6, 4.6, 5.6],\n",
       "        [3.4, 4.4, 5.4, 6.4]]], dtype=float32)>"
      ]
     },
     "execution_count": 71,
     "metadata": {},
     "output_type": "execute_result"
    }
   ],
   "source": [
    "a = tf.constant([[[1,2., 3. ,4],\n",
    "                 [5, 6, 7, 8.]],\n",
    "                 [[1, 2, 3, 4],\n",
    "                 [5, 6, 7, 8]]])\n",
    "b = 0.2\n",
    "args = a\n",
    "arg = b\n",
    "tf.raw_ops.AdjustContrastv2(images=a, contrast_factor=b)"
   ]
  },
  {
   "cell_type": "code",
   "execution_count": 72,
   "id": "4407512a",
   "metadata": {},
   "outputs": [
    {
     "data": {
      "text/plain": [
       "AnonymousMemoryCache(handle=<tf.Tensor: shape=(), dtype=resource, value=<Resource Tensor>>, deleter=<tf.Tensor: shape=(), dtype=variant, value=<[empty]>>)"
      ]
     },
     "execution_count": 72,
     "metadata": {},
     "output_type": "execute_result"
    }
   ],
   "source": [
    "tf.raw_ops.AnonymousMemoryCache()"
   ]
  },
  {
   "cell_type": "code",
   "execution_count": 11,
   "id": "544500a5",
   "metadata": {},
   "outputs": [
    {
     "data": {
      "text/plain": [
       "<tensorflow.python.framework.sparse_tensor.SparseTensor at 0x1ef9df4cb50>"
      ]
     },
     "execution_count": 11,
     "metadata": {},
     "output_type": "execute_result"
    }
   ],
   "source": [
    "import tensorflow as tf\n",
    "import collections\n",
    "a = collections.OrderedDict([\n",
    "    ((0, 0, 0), 1),\n",
    "    ((0, 0, 1), 2),\n",
    "    ((0, 1, 0), 3),\n",
    "    ((1, 0, 0), 4),\n",
    "    ((1, 1, 0), 5),\n",
    "    ((1, 1, 1), 6)\n",
    "])\n",
    "a = tf.sparse.SparseTensor(list(a.keys()), list(a.values()), dense_shape=[2, 2, 2])\n",
    "b = collections.OrderedDict([\n",
    "    ((0, 0, 0), 1),\n",
    "    ((0, 0, 1), 3),\n",
    "    ((0, 1, 0), 2),\n",
    "    ((1, 0, 0), 4),\n",
    "    ((1, 0, 1), 5),\n",
    "    ((1, 1, 0), 5),\n",
    "    ((1, 1, 1), 6),\n",
    "    ((1, 1, 2), 7),\n",
    "    ((1, 1, 3), 8)\n",
    "])\n",
    "b = tf.sparse.SparseTensor(list(b.keys()), list(b.values()), dense_shape=[2, 2, 4])\n",
    "tf.sets.difference(a, b)"
   ]
  },
  {
   "cell_type": "code",
   "execution_count": 15,
   "id": "36b79a7b",
   "metadata": {},
   "outputs": [
    {
     "data": {
      "text/plain": [
       "<tensorflow.python.framework.sparse_tensor.SparseTensor at 0x1ef9dd59bb0>"
      ]
     },
     "execution_count": 15,
     "metadata": {},
     "output_type": "execute_result"
    }
   ],
   "source": [
    "a = collections.OrderedDict([\n",
    "    ((0, 0, 0), 1),\n",
    "    ((0, 0, 1), 2),\n",
    "    ((0, 1, 0), 3),\n",
    "    ((1, 0, 0), 4),\n",
    "    ((1, 1, 0), 5),\n",
    "    ((1, 1, 1), 6)\n",
    "])\n",
    "a = tf.sparse.SparseTensor(list(a.keys()), list(a.values()), dense_shape=[2, 2, 2])\n",
    "b = collections.OrderedDict([\n",
    "    ((0, 0, 0), 1),\n",
    "    ((1, 0, 0), 4),\n",
    "    ((1, 1, 0), 5),\n",
    "    ((1, 1, 1), 6),\n",
    "    ((1, 1, 2), 7),\n",
    "    ((1, 1, 3), 8)\n",
    "])\n",
    "b = tf.sparse.SparseTensor(list(b.keys()), list(b.values()), dense_shape=[2, 2, 4])\n",
    "tf.sets.intersection(a, b)"
   ]
  },
  {
   "cell_type": "code",
   "execution_count": 17,
   "id": "dd99713f",
   "metadata": {},
   "outputs": [
    {
     "data": {
      "text/plain": [
       "<tf.Tensor: shape=(2, 2), dtype=int32, numpy=\n",
       "array([[2, 1],\n",
       "       [1, 2]])>"
      ]
     },
     "execution_count": 17,
     "metadata": {},
     "output_type": "execute_result"
    }
   ],
   "source": [
    "tf.sets.size(a)"
   ]
  },
  {
   "cell_type": "code",
   "execution_count": 18,
   "id": "459b78fa",
   "metadata": {},
   "outputs": [
    {
     "data": {
      "text/plain": [
       "<tensorflow.python.framework.sparse_tensor.SparseTensor at 0x1ef9dd45e50>"
      ]
     },
     "execution_count": 18,
     "metadata": {},
     "output_type": "execute_result"
    }
   ],
   "source": [
    "tf.sets.union(a, b)"
   ]
  },
  {
   "cell_type": "code",
   "execution_count": 20,
   "id": "70ebde16",
   "metadata": {},
   "outputs": [
    {
     "data": {
      "text/plain": [
       "<tf.Tensor: shape=(10,), dtype=float32, numpy=array([-5., -4., -3., -2., -1.,  0.,  1.,  2.,  3.,  4.], dtype=float32)>"
      ]
     },
     "execution_count": 20,
     "metadata": {},
     "output_type": "execute_result"
    }
   ],
   "source": [
    "x = tf.signal.fftshift([0., 1., 2., 3., 4., -5., -4., -3., -2., -1.])\n",
    "x"
   ]
  },
  {
   "cell_type": "code",
   "execution_count": 21,
   "id": "f62e2280",
   "metadata": {},
   "outputs": [
    {
     "name": "stdout",
     "output_type": "stream",
     "text": [
      "(3, 49, 512)\n"
     ]
    },
    {
     "data": {
      "text/plain": [
       "TensorShape([3, 51, 512])"
      ]
     },
     "execution_count": 21,
     "metadata": {},
     "output_type": "execute_result"
    }
   ],
   "source": [
    "audio = tf.random.normal([3, 9152])\n",
    "frames = tf.signal.frame(audio, 512, 180)\n",
    "print(frames.shape)\n",
    "frames = tf.signal.frame(audio, 512, 180, pad_end=True)\n",
    "frames.shape"
   ]
  },
  {
   "cell_type": "code",
   "execution_count": 2,
   "id": "c30f8dd1",
   "metadata": {},
   "outputs": [
    {
     "data": {
      "text/plain": [
       "array([[ 4., -4.,  3.],\n",
       "       [-2., -2., -3.],\n",
       "       [ 1.,  2.,  0.]], dtype=float32)"
      ]
     },
     "execution_count": 2,
     "metadata": {},
     "output_type": "execute_result"
    }
   ],
   "source": [
    "x = tf.signal.ifftshift([[0., 1., 2.], [3., 4., -4.], [-3., -2, -2.]])\n",
    "x.numpy()"
   ]
  },
  {
   "cell_type": "code",
   "execution_count": 5,
   "id": "3268cb62",
   "metadata": {},
   "outputs": [
    {
     "data": {
      "text/plain": [
       "True"
      ]
     },
     "execution_count": 5,
     "metadata": {},
     "output_type": "execute_result"
    }
   ],
   "source": [
    "@tf.function\n",
    "def compare_round_trip():\n",
    "    samples = 1000\n",
    "    frame_length = 400\n",
    "    halflen = frame_length // 2\n",
    "    waveform = tf.random.normal(dtype=tf.float32, shape=[samples])\n",
    "    waveform_pad = tf.pad(waveform, [[halflen, 0], ])\n",
    "    mdct = tf.signal.mdct(waveform_pad, frame_length, pad_end=True, window_fn=tf.signal.vorbis_window)\n",
    "    inverse_mdct = tf.signal.inverse_mdct(mdct, window_fn = tf.signal.vorbis_window)\n",
    "    inverse_mdct = inverse_mdct[halflen: halflen + samples]\n",
    "    return waveform, inverse_mdct\n",
    "waveform, inverse_mdct = compare_round_trip()\n",
    "np.allclose(waveform.numpy(), inverse_mdct.numpy(), rtol=1e-4, atol=1e-4)"
   ]
  },
  {
   "cell_type": "code",
   "execution_count": 6,
   "id": "e0098530",
   "metadata": {},
   "outputs": [],
   "source": [
    "frame_length = 400\n",
    "frame_step = 160\n",
    "waveform = tf.random.normal(dtype=tf.float32, shape=[1000])\n",
    "stft = tf.signal.stft(waveform, frame_length, frame_step)\n",
    "inverse_stft = tf.signal.inverse_stft(stft, frame_length, frame_step, \n",
    "                                      window_fn=tf.signal.inverse_stft_window_fn(frame_step))"
   ]
  },
  {
   "cell_type": "code",
   "execution_count": 7,
   "id": "5c1d7c5f",
   "metadata": {},
   "outputs": [
    {
     "data": {
      "text/plain": [
       "<tf.Tensor: shape=(4, 257), dtype=complex64, numpy=\n",
       "array([[ -2.8446941  +0.j        ,   5.3732967  +1.7902546j ,\n",
       "          1.1398463  -7.836358j  , ...,  -2.1922164  -5.0909967j ,\n",
       "         -0.5662749 +11.075725j  ,   7.495332   +0.j        ],\n",
       "       [ -7.8079243  +0.j        ,   6.7324414  -0.28440523j,\n",
       "         -5.177349   +1.5616751j , ...,  -2.0817778 +12.072857j  ,\n",
       "         20.032576   -9.07289j   , -27.01425    +0.j        ],\n",
       "       [ -7.2388678  +0.j        ,   0.70787805 +4.753273j  ,\n",
       "          3.2563577  +3.5734901j , ...,  13.32057   +15.141276j  ,\n",
       "          0.57915413-19.72313j   , -14.363477   +0.j        ],\n",
       "       [  0.07500219 +0.j        ,  -1.6847193  +0.7277355j ,\n",
       "          1.8169441  +3.4809396j , ...,  -9.732126   +3.4250848j ,\n",
       "          2.6644375  +6.021352j  ,   3.2287974  +0.j        ]],\n",
       "      dtype=complex64)>"
      ]
     },
     "execution_count": 7,
     "metadata": {},
     "output_type": "execute_result"
    }
   ],
   "source": [
    "stft"
   ]
  },
  {
   "cell_type": "code",
   "execution_count": 11,
   "id": "293b1510",
   "metadata": {},
   "outputs": [
    {
     "data": {
      "text/plain": [
       "<tf.Tensor: shape=(12,), dtype=float32, numpy=\n",
       "array([0.00495747, 0.15976831, 0.5168664 , 0.8560661 , 0.98715454,\n",
       "       0.9999877 , 0.9999877 , 0.98715454, 0.8560661 , 0.5168664 ,\n",
       "       0.15976831, 0.00495747], dtype=float32)>"
      ]
     },
     "execution_count": 11,
     "metadata": {},
     "output_type": "execute_result"
    }
   ],
   "source": [
    "tf.signal.kaiser_bessel_derived_window(12)"
   ]
  },
  {
   "cell_type": "code",
   "execution_count": 26,
   "id": "718ff391",
   "metadata": {},
   "outputs": [
    {
     "data": {
      "text/plain": [
       "<tf.Tensor: shape=(3, 4), dtype=int32, numpy=\n",
       "array([[1, 0, 0, 0],\n",
       "       [0, 0, 2, 0],\n",
       "       [0, 0, 0, 0]])>"
      ]
     },
     "execution_count": 26,
     "metadata": {},
     "output_type": "execute_result"
    }
   ],
   "source": [
    "data2 = tf.sparse.SparseTensor(indices=[[0, 0], [1, 2]], values=[1, 2], dense_shape=[3, 4])\n",
    "tf.sparse.to_dense(data2)"
   ]
  },
  {
   "cell_type": "code",
   "execution_count": 22,
   "id": "ab21f83a",
   "metadata": {},
   "outputs": [
    {
     "data": {
      "text/plain": [
       "<tf.Tensor: shape=(3, 4), dtype=int32, numpy=\n",
       "array([[2, 0, 0, 0],\n",
       "       [0, 0, 4, 0],\n",
       "       [0, 0, 0, 0]])>"
      ]
     },
     "execution_count": 22,
     "metadata": {},
     "output_type": "execute_result"
    }
   ],
   "source": [
    "data1 = tf.sparse.SparseTensor(indices=[[0, 0], [1, 2]], values=[1, 2], dense_shape=[3, 4])\n",
    "data3 = tf.sparse.add(data, data1)\n",
    "tf.sparse.to_dense(data3)"
   ]
  },
  {
   "cell_type": "code",
   "execution_count": 23,
   "id": "c8055858",
   "metadata": {},
   "outputs": [
    {
     "name": "stdout",
     "output_type": "stream",
     "text": [
      "SparseTensor(indices=tf.Tensor(\n",
      "[[    0    10]\n",
      " [    0    20]\n",
      " [    0    30]\n",
      " [    1    11]\n",
      " [    1   101]\n",
      " [    1 10001]], shape=(6, 2), dtype=int64), values=tf.Tensor([1 2 1 2 1 1], shape=(6,), dtype=int64), dense_shape=tf.Tensor([    2 10002], shape=(2,), dtype=int64))\n"
     ]
    }
   ],
   "source": [
    "data = np.array([[10, 20, 30, 20], [11, 101, 11, 10001]], dtype=np.int64)\n",
    "output = tf.sparse.bincount(data, axis=-1)\n",
    "print(output)"
   ]
  },
  {
   "cell_type": "code",
   "execution_count": 27,
   "id": "bdea49a6",
   "metadata": {},
   "outputs": [
    {
     "data": {
      "text/plain": [
       "<tensorflow.python.framework.sparse_tensor.SparseTensor at 0x2cbe6fce4c0>"
      ]
     },
     "execution_count": 27,
     "metadata": {},
     "output_type": "execute_result"
    }
   ],
   "source": [
    "tf.sparse.concat(1, [data2, data1])"
   ]
  },
  {
   "cell_type": "code",
   "execution_count": 28,
   "id": "339ec75d",
   "metadata": {},
   "outputs": [
    {
     "data": {
      "text/plain": [
       "<tf.Tensor: shape=(2,), dtype=string, numpy=array([b'a_Y_c', b'b_Y_d'], dtype=object)>"
      ]
     },
     "execution_count": 28,
     "metadata": {},
     "output_type": "execute_result"
    }
   ],
   "source": [
    "inp_0 = tf.constant([[\"a\"], [\"b\"]])\n",
    "inp_1 = tf.constant([[\"c\"], [\"d\"]])\n",
    "output = tf.sparse.cross([inp_0, inp_1], separator=\"_Y_\")\n",
    "output.values"
   ]
  },
  {
   "cell_type": "code",
   "execution_count": 33,
   "id": "4b4bacda",
   "metadata": {},
   "outputs": [
    {
     "data": {
      "text/plain": [
       "[1, 10, 10, 3]"
      ]
     },
     "execution_count": 33,
     "metadata": {},
     "output_type": "execute_result"
    }
   ],
   "source": [
    "sp = tf.sparse.SparseTensor(indices=[[3, 4, 1]], values=[7,], dense_shape=[10, 10, 3])\n",
    "tf.sparse.expand_dims(sp, axis=0).shape.as_list()"
   ]
  },
  {
   "cell_type": "code",
   "execution_count": 35,
   "id": "002f7cec",
   "metadata": {},
   "outputs": [
    {
     "data": {
      "text/plain": [
       "[5, 5]"
      ]
     },
     "execution_count": 35,
     "metadata": {},
     "output_type": "execute_result"
    }
   ],
   "source": [
    "tf.sparse.eye(5, 5).shape.as_list()"
   ]
  },
  {
   "cell_type": "code",
   "execution_count": 39,
   "id": "ccfba6e9",
   "metadata": {},
   "outputs": [
    {
     "data": {
      "text/plain": [
       "(<tensorflow.python.framework.sparse_tensor.SparseTensor at 0x2cb803dd070>,\n",
       " <tf.Tensor: shape=(3,), dtype=bool, numpy=array([False, False,  True])>)"
      ]
     },
     "execution_count": 39,
     "metadata": {},
     "output_type": "execute_result"
    }
   ],
   "source": [
    "a = tf.sparse.fill_empty_rows(data1, default_value=-1)\n",
    "a"
   ]
  },
  {
   "cell_type": "code",
   "execution_count": 40,
   "id": "6b789371",
   "metadata": {},
   "outputs": [
    {
     "data": {
      "text/plain": [
       "[5]"
      ]
     },
     "execution_count": 40,
     "metadata": {},
     "output_type": "execute_result"
    }
   ],
   "source": [
    "sp = tf.sparse.from_dense([0, 0, 3, 0, 1])\n",
    "sp.shape.as_list()"
   ]
  },
  {
   "cell_type": "code",
   "execution_count": 41,
   "id": "da7831e1",
   "metadata": {},
   "outputs": [
    {
     "name": "stdout",
     "output_type": "stream",
     "text": [
      "[[2]\n",
      " [4]]\n",
      "[3 1]\n"
     ]
    }
   ],
   "source": [
    "print(sp.indices.numpy())\n",
    "print(sp.values.numpy())"
   ]
  },
  {
   "cell_type": "code",
   "execution_count": 42,
   "id": "45587935",
   "metadata": {},
   "outputs": [
    {
     "data": {
      "text/plain": [
       "array([[1, 1, 0],\n",
       "       [0, 1, 0],\n",
       "       [1, 0, 0]])"
      ]
     },
     "execution_count": 42,
     "metadata": {},
     "output_type": "execute_result"
    }
   ],
   "source": [
    "s = tf.sparse.from_dense([\n",
    "    [1, 2, 0],\n",
    "    [0, 4, 0],\n",
    "    [1, 0, 0]\n",
    "])\n",
    "tf.sparse.to_dense(tf.sparse.map_values(tf.ones_like, s)).numpy()"
   ]
  },
  {
   "cell_type": "code",
   "execution_count": 55,
   "id": "4331def1",
   "metadata": {},
   "outputs": [
    {
     "name": "stdout",
     "output_type": "stream",
     "text": [
      "tf.Tensor(\n",
      "[[0]\n",
      " [1]], shape=(2, 1), dtype=int64)\n",
      "tf.Tensor([0 1], shape=(2,), dtype=int32)\n",
      "tf.Tensor([7], shape=(1,), dtype=int64)\n"
     ]
    }
   ],
   "source": [
    "sp_zero = tf.sparse.SparseTensor([[0]], [0], [7])\n",
    "sp_one = tf.sparse.SparseTensor([[1]], [1], [7])\n",
    "res = tf.sparse.maximum(sp_zero, sp_one)\n",
    "print(res.indices)\n",
    "print(res.values)\n",
    "print(res.dense_shape)"
   ]
  },
  {
   "cell_type": "code",
   "execution_count": 56,
   "id": "a59636a2",
   "metadata": {},
   "outputs": [
    {
     "name": "stdout",
     "output_type": "stream",
     "text": [
      "tf.Tensor(\n",
      "[[0]\n",
      " [1]], shape=(2, 1), dtype=int64)\n",
      "tf.Tensor([0 0], shape=(2,), dtype=int32)\n",
      "tf.Tensor([7], shape=(1,), dtype=int64)\n"
     ]
    }
   ],
   "source": [
    "res = tf.sparse.minimum(sp_zero, sp_one)\n",
    "print(res.indices)\n",
    "print(res.values)\n",
    "print(res.dense_shape)"
   ]
  },
  {
   "cell_type": "code",
   "execution_count": 57,
   "id": "72e2f534",
   "metadata": {},
   "outputs": [
    {
     "name": "stdout",
     "output_type": "stream",
     "text": [
      "tf.Tensor(3, shape=(), dtype=int32)\n",
      "tf.Tensor([1 3 2], shape=(3,), dtype=int32)\n",
      "tf.Tensor([2 3], shape=(2,), dtype=int32)\n",
      "tf.Tensor(\n",
      "[[2]\n",
      " [3]], shape=(2, 1), dtype=int32)\n",
      "tf.Tensor(3, shape=(), dtype=int32)\n"
     ]
    }
   ],
   "source": [
    "x = tf.sparse.SparseTensor([[0, 0], [0, 2], [1, 1]], [1, 2, 3], [2, 3])\n",
    "print(tf.sparse.reduce_max(x))\n",
    "print(tf.sparse.reduce_max(x, 0))\n",
    "print(tf.sparse.reduce_max(x, 1))\n",
    "print(tf.sparse.reduce_max(x, 1, keepdims=True))\n",
    "print(tf.sparse.reduce_max(x, [0, 1]))"
   ]
  },
  {
   "cell_type": "code",
   "execution_count": 58,
   "id": "ce3fcbb8",
   "metadata": {},
   "outputs": [
    {
     "name": "stdout",
     "output_type": "stream",
     "text": [
      "tf.Tensor(3, shape=(), dtype=int32)\n",
      "tf.Tensor([1 1 1], shape=(3,), dtype=int32)\n",
      "tf.Tensor([2 1], shape=(2,), dtype=int32)\n",
      "tf.Tensor(\n",
      "[[2]\n",
      " [1]], shape=(2, 1), dtype=int32)\n",
      "tf.Tensor(3, shape=(), dtype=int32)\n"
     ]
    }
   ],
   "source": [
    "x = tf.sparse.SparseTensor([[0, 0], [0, 2], [1, 1]], [1, 1, 1], [2, 3])\n",
    "print(tf.sparse.reduce_sum(x))\n",
    "print(tf.sparse.reduce_sum(x, 0))\n",
    "print(tf.sparse.reduce_sum(x, 1))\n",
    "print(tf.sparse.reduce_sum(x, 1, keepdims=True))\n",
    "print(tf.sparse.reduce_sum(x, [0, 1]))"
   ]
  },
  {
   "cell_type": "code",
   "execution_count": 62,
   "id": "9faeb900",
   "metadata": {},
   "outputs": [
    {
     "name": "stdout",
     "output_type": "stream",
     "text": [
      "tf.Tensor([[0 0 0 0]], shape=(1, 4), dtype=int32)\n",
      "tf.Tensor(\n",
      "[[ 1  2  3  4]\n",
      " [-1 -2 -3 -4]], shape=(2, 4), dtype=int32)\n",
      "tf.Tensor(\n",
      "[[ 1  2  3  4]\n",
      " [ 0  0  0  0]\n",
      " [-1 -2 -3 -4]\n",
      " [ 0  0  0  0]], shape=(4, 4), dtype=int32)\n",
      "tf.Tensor(\n",
      "[[0 0 0 0]\n",
      " [5 6 7 8]], shape=(2, 4), dtype=int32)\n",
      "tf.Tensor(\n",
      "[[0 0 0 0]\n",
      " [5 6 7 8]], shape=(2, 4), dtype=int32)\n"
     ]
    }
   ],
   "source": [
    "c = tf.constant([[1, 2, 3, 4], [-1, -2, -3, -4], [5, 6, 7, 8]])\n",
    "print(tf.sparse.segment_sum(c, tf.constant([0, 1]), tf.constant([0, 0])))\n",
    "print(tf.sparse.segment_sum(c, tf.constant([0, 1]), tf.constant([0, 1])))\n",
    "print(tf.sparse.segment_sum(c, tf.constant([0, 1]), tf.constant([0, 2]), num_segments=4))\n",
    "print(tf.sparse.segment_sum(c, tf.constant([0, 1, 2]), tf.constant([0, 0, 1])))\n",
    "print(tf.math.segment_sum(c, tf.constant([0, 0, 1])))"
   ]
  },
  {
   "cell_type": "code",
   "execution_count": 64,
   "id": "5430dc36",
   "metadata": {},
   "outputs": [
    {
     "data": {
      "text/plain": [
       "<tf.Tensor: shape=(2, 7), dtype=int32, numpy=\n",
       "array([[0, 0, 1, 0, 2, 3, 0],\n",
       "       [4, 5, 0, 0, 0, 0, 0]])>"
      ]
     },
     "execution_count": 64,
     "metadata": {},
     "output_type": "execute_result"
    }
   ],
   "source": [
    "indices = [[0, 2], [0, 4], [0, 5], [1, 0], [1, 1]]\n",
    "values = [1, 2, 3, 4, 5]\n",
    "t = tf.SparseTensor(indices=indices, values=values, dense_shape=[2, 7])\n",
    "tf.sparse.to_dense(t)"
   ]
  },
  {
   "cell_type": "code",
   "execution_count": 65,
   "id": "4307e8c8",
   "metadata": {},
   "outputs": [
    {
     "name": "stdout",
     "output_type": "stream",
     "text": [
      "tf.Tensor(\n",
      "[[2 3 0]\n",
      " [0 0 0]], shape=(2, 3), dtype=int32)\n",
      "tf.Tensor(\n",
      "[[0 0 1 0]\n",
      " [4 5 0 0]], shape=(2, 4), dtype=int32)\n"
     ]
    }
   ],
   "source": [
    "output = tf.sparse.split(sp_input=t, num_split=2, axis=1)\n",
    "print(tf.sparse.to_dense(output[1]))\n",
    "print(tf.sparse.to_dense(output[0]))"
   ]
  },
  {
   "cell_type": "code",
   "execution_count": 66,
   "id": "05e304a4",
   "metadata": {},
   "outputs": [
    {
     "name": "stdout",
     "output_type": "stream",
     "text": [
      "tf.Tensor([[4 5 0 0 0 0 0]], shape=(1, 7), dtype=int32)\n",
      "tf.Tensor([[0 0 1 0 2 3 0]], shape=(1, 7), dtype=int32)\n"
     ]
    }
   ],
   "source": [
    "output = tf.sparse.split(sp_input=t, num_split=2, axis=0)\n",
    "print(tf.sparse.to_dense(output[1]))\n",
    "print(tf.sparse.to_dense(output[0]))"
   ]
  },
  {
   "cell_type": "code",
   "execution_count": 67,
   "id": "04a1d070",
   "metadata": {},
   "outputs": [
    {
     "name": "stdout",
     "output_type": "stream",
     "text": [
      "tf.Tensor(\n",
      "[[2 3 0]\n",
      " [0 0 0]], shape=(2, 3), dtype=int32)\n",
      "tf.Tensor(\n",
      "[[0 0 1 0]\n",
      " [4 5 0 0]], shape=(2, 4), dtype=int32)\n"
     ]
    }
   ],
   "source": [
    "output = tf.sparse.split(sp_input=t, num_split=2, axis=-1)\n",
    "print(tf.sparse.to_dense(output[1]))\n",
    "print(tf.sparse.to_dense(output[0]))"
   ]
  },
  {
   "cell_type": "code",
   "execution_count": 68,
   "id": "cb48bfd4",
   "metadata": {},
   "outputs": [
    {
     "data": {
      "text/plain": [
       "array([[0, 7, 0, 8, 0],\n",
       "       [0, 0, 0, 0, 0],\n",
       "       [9, 0, 0, 0, 0]])"
      ]
     },
     "execution_count": 68,
     "metadata": {},
     "output_type": "execute_result"
    }
   ],
   "source": [
    "sp_input = tf.SparseTensor(dense_shape=[3, 5], values=[7, 8, 9], indices=[[0, 1], [0, 3], [2, 0]])\n",
    "tf.sparse.to_dense(sp_input).numpy()"
   ]
  },
  {
   "cell_type": "code",
   "execution_count": 69,
   "id": "d743176e",
   "metadata": {},
   "outputs": [
    {
     "data": {
      "text/plain": [
       "array([b'3.14', b'2.72'], dtype=object)"
      ]
     },
     "execution_count": 69,
     "metadata": {},
     "output_type": "execute_result"
    }
   ],
   "source": [
    "tf.strings.as_string([3.1415926, 2.71828], precision=2).numpy()"
   ]
  },
  {
   "cell_type": "code",
   "execution_count": 70,
   "id": "ae791248",
   "metadata": {},
   "outputs": [
    {
     "data": {
      "text/plain": [
       "array([b'h', b'e', b'l', b'l', b'o'], dtype=object)"
      ]
     },
     "execution_count": 70,
     "metadata": {},
     "output_type": "execute_result"
    }
   ],
   "source": [
    "tf.strings.bytes_split('hello').numpy()"
   ]
  },
  {
   "cell_type": "code",
   "execution_count": 71,
   "id": "79c09d25",
   "metadata": {},
   "outputs": [
    {
     "data": {
      "text/plain": [
       "<tf.Tensor: shape=(), dtype=string, numpy=b'a: [0 1], b: [1 3], suffix'>"
      ]
     },
     "execution_count": 71,
     "metadata": {},
     "output_type": "execute_result"
    }
   ],
   "source": [
    "tensor_a = tf.range(2)\n",
    "tensor_b = tf.range(1, 4, 2)\n",
    "tf.strings.format(\"a: {}, b: {}, suffix\", (tensor_a, tensor_b))"
   ]
  },
  {
   "cell_type": "code",
   "execution_count": 72,
   "id": "5ed1a7a8",
   "metadata": {},
   "outputs": [
    {
     "data": {
      "text/plain": [
       "array([b'abcdefghi', b'123456789'], dtype=object)"
      ]
     },
     "execution_count": 72,
     "metadata": {},
     "output_type": "execute_result"
    }
   ],
   "source": [
    "tf.strings.join([['abc', '123'], ['def', '456'], ['ghi', '789']]).numpy()"
   ]
  },
  {
   "cell_type": "code",
   "execution_count": 73,
   "id": "89d62b2f",
   "metadata": {},
   "outputs": [
    {
     "data": {
      "text/plain": [
       "array([ 5, 10,  5])"
      ]
     },
     "execution_count": 73,
     "metadata": {},
     "output_type": "execute_result"
    }
   ],
   "source": [
    "strings = tf.constant([\"Hello\", \"Tensorflow\", \"\\u0001F642\"])\n",
    "tf.strings.length(strings).numpy()"
   ]
  },
  {
   "cell_type": "code",
   "execution_count": 74,
   "id": "1fe23cca",
   "metadata": {},
   "outputs": [
    {
     "data": {
      "text/plain": [
       "<tf.Tensor: shape=(), dtype=string, numpy=b'camelcase strigs and all caps'>"
      ]
     },
     "execution_count": 74,
     "metadata": {},
     "output_type": "execute_result"
    }
   ],
   "source": [
    "tf.strings.lower(\"CamelCase strigs and ALL CAPS\")"
   ]
  },
  {
   "cell_type": "code",
   "execution_count": 75,
   "id": "499b6b8f",
   "metadata": {},
   "outputs": [
    {
     "data": {
      "text/plain": [
       "array([b'A B', b'B C', b'C D'], dtype=object)"
      ]
     },
     "execution_count": 75,
     "metadata": {},
     "output_type": "execute_result"
    }
   ],
   "source": [
    "tf.strings.ngrams([\"A\", \"B\", \"C\", \"D\"], 2).numpy()"
   ]
  },
  {
   "cell_type": "code",
   "execution_count": 76,
   "id": "646a4202",
   "metadata": {},
   "outputs": [
    {
     "data": {
      "text/plain": [
       "b'abc123def456'"
      ]
     },
     "execution_count": 76,
     "metadata": {},
     "output_type": "execute_result"
    }
   ],
   "source": [
    "tf.strings.reduce_join([['abc', '123'], ['def', '456']]).numpy()"
   ]
  },
  {
   "cell_type": "code",
   "execution_count": 77,
   "id": "f91841d3",
   "metadata": {},
   "outputs": [
    {
     "data": {
      "text/plain": [
       "<tf.Tensor: shape=(2,), dtype=bool, numpy=array([ True, False])>"
      ]
     },
     "execution_count": 77,
     "metadata": {},
     "output_type": "execute_result"
    }
   ],
   "source": [
    "tf.strings.regex_full_match([\"TF lib\", \"lib TF\"], \".*lib$\")"
   ]
  },
  {
   "cell_type": "code",
   "execution_count": 78,
   "id": "cc89bb09",
   "metadata": {},
   "outputs": [
    {
     "data": {
      "text/plain": [
       "<tf.Tensor: shape=(), dtype=string, numpy=b'Text with tags.   contains html '>"
      ]
     },
     "execution_count": 78,
     "metadata": {},
     "output_type": "execute_result"
    }
   ],
   "source": [
    "tf.strings.regex_replace(\"Text with tags.<br /> <b>contains html</b>\", \"<[^>]+>\", \" \")"
   ]
  },
  {
   "cell_type": "code",
   "execution_count": 79,
   "id": "3497b4dd",
   "metadata": {},
   "outputs": [
    {
     "data": {
      "text/plain": [
       "array([b'Hello', b'World'], dtype=object)"
      ]
     },
     "execution_count": 79,
     "metadata": {},
     "output_type": "execute_result"
    }
   ],
   "source": [
    "tf.strings.split('Hello World').numpy()"
   ]
  },
  {
   "cell_type": "code",
   "execution_count": 81,
   "id": "91ac2eb0",
   "metadata": {},
   "outputs": [
    {
     "data": {
      "text/plain": [
       "array([b'Tensorflow', b'The Python library'], dtype=object)"
      ]
     },
     "execution_count": 81,
     "metadata": {},
     "output_type": "execute_result"
    }
   ],
   "source": [
    "tf.strings.strip([\"\\nTensorflow\", \"    The Python library   \"]).numpy()"
   ]
  },
  {
   "cell_type": "code",
   "execution_count": 83,
   "id": "03c1fce4",
   "metadata": {},
   "outputs": [
    {
     "data": {
      "text/plain": [
       "array([b'el', b'or'], dtype=object)"
      ]
     },
     "execution_count": 83,
     "metadata": {},
     "output_type": "execute_result"
    }
   ],
   "source": [
    "tf.strings.substr([\"hello\", \"world\"], 1, 2).numpy()"
   ]
  },
  {
   "cell_type": "code",
   "execution_count": 84,
   "id": "572659eb",
   "metadata": {},
   "outputs": [
    {
     "data": {
      "text/plain": [
       "<tf.Tensor: shape=(3,), dtype=int64, numpy=array([2, 2, 1], dtype=int64)>"
      ]
     },
     "execution_count": 84,
     "metadata": {},
     "output_type": "execute_result"
    }
   ],
   "source": [
    "tf.strings.to_hash_bucket([\"Hello\", \"tensorflow\", \"2.x\"], 3)"
   ]
  },
  {
   "cell_type": "code",
   "execution_count": 85,
   "id": "21f59393",
   "metadata": {},
   "outputs": [
    {
     "data": {
      "text/plain": [
       "array([1, 0, 2], dtype=int64)"
      ]
     },
     "execution_count": 85,
     "metadata": {},
     "output_type": "execute_result"
    }
   ],
   "source": [
    "tf.strings.to_hash_bucket_fast([\"hello\", \"Tensorflow\", \"2.x\"], 3).numpy()"
   ]
  },
  {
   "cell_type": "code",
   "execution_count": 86,
   "id": "0dcbc99b",
   "metadata": {},
   "outputs": [
    {
     "data": {
      "text/plain": [
       "array([1, 0], dtype=int64)"
      ]
     },
     "execution_count": 86,
     "metadata": {},
     "output_type": "execute_result"
    }
   ],
   "source": [
    "tf.strings.to_hash_bucket_strong([\"hello\", \"TF\"], 3, [1, 2]).numpy()"
   ]
  },
  {
   "cell_type": "code",
   "execution_count": 2,
   "id": "389b9dd4",
   "metadata": {},
   "outputs": [
    {
     "data": {
      "text/plain": [
       "<tf.Tensor: shape=(), dtype=float32, numpy=1.55>"
      ]
     },
     "execution_count": 2,
     "metadata": {},
     "output_type": "execute_result"
    }
   ],
   "source": [
    "tf.strings.to_number(\"1.55\")"
   ]
  },
  {
   "cell_type": "code",
   "execution_count": 11,
   "id": "2f4361a2",
   "metadata": {},
   "outputs": [
    {
     "data": {
      "text/plain": [
       "[[71, 246, 246, 100, 110, 105, 103, 104, 116], [1, 102, 54, 48, 97]]"
      ]
     },
     "execution_count": 11,
     "metadata": {},
     "output_type": "execute_result"
    }
   ],
   "source": [
    "inputs = [s.encode('utf8') for s in (u\"G\\xf6\\xf6dnight\", u\"\\u0001f60a\")]\n",
    "tf.strings.unicode_decode(inputs, \"UTF-8\").to_list()"
   ]
  },
  {
   "cell_type": "code",
   "execution_count": 4,
   "id": "8d22d46f",
   "metadata": {},
   "outputs": [
    {
     "name": "stdout",
     "output_type": "stream",
     "text": [
      "[[71, 246, 246, 100, 110, 105, 103, 104, 116], [1, 102, 54, 48, 97]]\n"
     ]
    },
    {
     "data": {
      "text/plain": [
       "[[0, 1, 3, 5, 6, 7, 8, 9, 10], [0, 1, 2, 3, 4]]"
      ]
     },
     "execution_count": 4,
     "metadata": {},
     "output_type": "execute_result"
    }
   ],
   "source": [
    "result = tf.strings.unicode_decode_with_offsets(input, \"utf-8\")\n",
    "print(result[0].to_list())\n",
    "result[1].to_list()"
   ]
  },
  {
   "cell_type": "code",
   "execution_count": 7,
   "id": "766d8606",
   "metadata": {},
   "outputs": [
    {
     "name": "stdout",
     "output_type": "stream",
     "text": [
      "tf.Tensor([b'G\\xc3\\xb6\\xc3\\xb6dnight' b'\\xf0\\x9f\\x98\\x8a'], shape=(2,), dtype=string)\n"
     ]
    }
   ],
   "source": [
    "input = tf.ragged.constant([[71, 246, 246, 100, 110, 105, 103, 104, 116], [128522]])\n",
    "print(tf.strings.unicode_encode(input, \"UTF-8\"))"
   ]
  },
  {
   "cell_type": "code",
   "execution_count": 8,
   "id": "0c286c31",
   "metadata": {},
   "outputs": [
    {
     "data": {
      "text/plain": [
       "<tf.Tensor: shape=(3,), dtype=int32, numpy=array([0, 0, 0])>"
      ]
     },
     "execution_count": 8,
     "metadata": {},
     "output_type": "execute_result"
    }
   ],
   "source": [
    "tf.strings.unicode_script([1, 31, 38])"
   ]
  },
  {
   "cell_type": "code",
   "execution_count": 12,
   "id": "fd7751dc",
   "metadata": {},
   "outputs": [
    {
     "data": {
      "text/plain": [
       "[[b'G', b'\\xc3\\xb6', b'\\xc3\\xb6', b'd', b'n', b'i', b'g', b'h', b't'],\n",
       " [b'\\x01', b'f', b'6', b'0', b'a']]"
      ]
     },
     "execution_count": 12,
     "metadata": {},
     "output_type": "execute_result"
    }
   ],
   "source": [
    "tf.strings.unicode_split(inputs, \"UTF-8\").to_list()"
   ]
  },
  {
   "cell_type": "code",
   "execution_count": 13,
   "id": "c26b0c9a",
   "metadata": {},
   "outputs": [
    {
     "name": "stdout",
     "output_type": "stream",
     "text": [
      "[[b'G', b'\\xc3\\xb6', b'\\xc3\\xb6', b'd', b'n', b'i', b'g', b'h', b't'], [b'\\x01', b'f', b'6', b'0', b'a']]\n",
      "[[0, 1, 3, 5, 6, 7, 8, 9, 10], [0, 1, 2, 3, 4]]\n"
     ]
    }
   ],
   "source": [
    "result = tf.strings.unicode_split_with_offsets(inputs, \"UTF-8\")\n",
    "print(result[0].to_list())\n",
    "print(result[1].to_list())"
   ]
  },
  {
   "cell_type": "code",
   "execution_count": 14,
   "id": "902d4184",
   "metadata": {},
   "outputs": [
    {
     "data": {
      "text/plain": [
       "<tf.Tensor: shape=(3,), dtype=string, numpy=\n",
       "array([b'\\x00H\\x00e\\x00l\\x00l\\x00o',\n",
       "       b'\\x00t\\x00e\\x00n\\x00s\\x00o\\x00r\\x00f\\x00l\\x00o\\x00w',\n",
       "       b'\\x002\\x00.\\x00x'], dtype=object)>"
      ]
     },
     "execution_count": 14,
     "metadata": {},
     "output_type": "execute_result"
    }
   ],
   "source": [
    "tf.strings.unicode_transcode([\"Hello\", \"tensorflow\", \"2.x\"], \"UTF-8\", \"UTF-16-BE\")"
   ]
  },
  {
   "cell_type": "code",
   "execution_count": 17,
   "id": "9aed746c",
   "metadata": {},
   "outputs": [
    {
     "data": {
      "text/plain": [
       "<tf.Tensor: shape=(2, 3), dtype=string, numpy=\n",
       "array([[b'Y', b'6', b'6'],\n",
       "       [b'Y:p', b'q:G', b'c:a']], dtype=object)>"
      ]
     },
     "execution_count": 17,
     "metadata": {},
     "output_type": "execute_result"
    }
   ],
   "source": [
    "inputs = [['Y', 'q', 'c'], ['Y', '6', '6'], ['p', 'G', 'a']]\n",
    "output_array = tf.strings.unsorted_segment_join(inputs=inputs, segment_ids=[1, 0, 1], num_segments=2, separator=\":\")\n",
    "output_array"
   ]
  },
  {
   "cell_type": "code",
   "execution_count": 18,
   "id": "8fd41ca0",
   "metadata": {},
   "outputs": [
    {
     "data": {
      "text/plain": [
       "<tf.Tensor: shape=(), dtype=string, numpy=b'CAMELCASE STRING AND ALL CAPS'>"
      ]
     },
     "execution_count": 18,
     "metadata": {},
     "output_type": "execute_result"
    }
   ],
   "source": [
    "tf.strings.upper(\"CamelCase string and ALL CAPS\")"
   ]
  },
  {
   "cell_type": "code",
   "execution_count": null,
   "id": "52409bb9",
   "metadata": {},
   "outputs": [],
   "source": []
  }
 ],
 "metadata": {
  "kernelspec": {
   "display_name": "Python 3",
   "language": "python",
   "name": "python3"
  },
  "language_info": {
   "codemirror_mode": {
    "name": "ipython",
    "version": 3
   },
   "file_extension": ".py",
   "mimetype": "text/x-python",
   "name": "python",
   "nbconvert_exporter": "python",
   "pygments_lexer": "ipython3",
   "version": "3.8.8"
  }
 },
 "nbformat": 4,
 "nbformat_minor": 5
}
