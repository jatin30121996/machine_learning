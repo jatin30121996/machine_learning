{
 "cells": [
  {
   "cell_type": "code",
   "execution_count": 1,
   "id": "2692a697",
   "metadata": {},
   "outputs": [
    {
     "data": {
      "text/plain": [
       "True"
      ]
     },
     "execution_count": 1,
     "metadata": {},
     "output_type": "execute_result"
    }
   ],
   "source": [
    "import torch\n",
    "x = torch.tensor([1, 2, 3])\n",
    "torch.is_tensor(x)"
   ]
  },
  {
   "cell_type": "code",
   "execution_count": 2,
   "id": "f65b9979",
   "metadata": {},
   "outputs": [
    {
     "name": "stdout",
     "output_type": "stream",
     "text": [
      "False\n",
      "True\n"
     ]
    }
   ],
   "source": [
    "print(torch.is_nonzero(torch.tensor([0.])))\n",
    "print(torch.is_nonzero(torch.tensor([1.5])))"
   ]
  },
  {
   "cell_type": "code",
   "execution_count": 4,
   "id": "326165de",
   "metadata": {},
   "outputs": [
    {
     "name": "stdout",
     "output_type": "stream",
     "text": [
      "torch.float32\n",
      "torch.complex64\n"
     ]
    }
   ],
   "source": [
    "print(torch.tensor([1.2, 3]).dtype)\n",
    "print(torch.tensor([1.2, 3j]).dtype)"
   ]
  },
  {
   "cell_type": "code",
   "execution_count": 5,
   "id": "2188d31d",
   "metadata": {},
   "outputs": [],
   "source": [
    "torch.set_default_dtype(torch.float64)"
   ]
  },
  {
   "cell_type": "code",
   "execution_count": 8,
   "id": "4d21137f",
   "metadata": {},
   "outputs": [
    {
     "name": "stdout",
     "output_type": "stream",
     "text": [
      "torch.float64\n",
      "torch.complex128\n"
     ]
    }
   ],
   "source": [
    "print(torch.tensor([1.2, 3]).dtype)\n",
    "print(torch.tensor([1.2 + 3j]).dtype)"
   ]
  },
  {
   "cell_type": "code",
   "execution_count": 12,
   "id": "e9579018",
   "metadata": {},
   "outputs": [
    {
     "name": "stdout",
     "output_type": "stream",
     "text": [
      "torch.float64\n"
     ]
    },
    {
     "data": {
      "text/plain": [
       "torch.float32"
      ]
     },
     "execution_count": 12,
     "metadata": {},
     "output_type": "execute_result"
    }
   ],
   "source": [
    "print(torch.get_default_dtype())\n",
    "torch.set_default_dtype(torch.float32)\n",
    "torch.get_default_dtype()"
   ]
  },
  {
   "cell_type": "code",
   "execution_count": 16,
   "id": "aa4f2625",
   "metadata": {},
   "outputs": [
    {
     "name": "stdout",
     "output_type": "stream",
     "text": [
      "torch.float32\n"
     ]
    },
    {
     "data": {
      "text/plain": [
       "torch.float64"
      ]
     },
     "execution_count": 16,
     "metadata": {},
     "output_type": "execute_result"
    }
   ],
   "source": [
    "print(torch.tensor([1.2, 3]).dtype)\n",
    "torch.set_default_tensor_type(torch.DoubleTensor)\n",
    "torch.tensor([1.2, 3]).dtype"
   ]
  },
  {
   "cell_type": "code",
   "execution_count": 17,
   "id": "a63cb507",
   "metadata": {},
   "outputs": [
    {
     "data": {
      "text/plain": [
       "120"
      ]
     },
     "execution_count": 17,
     "metadata": {},
     "output_type": "execute_result"
    }
   ],
   "source": [
    "a = torch.randn(1, 2, 3, 4, 5)\n",
    "torch.numel(a)"
   ]
  },
  {
   "cell_type": "code",
   "execution_count": 18,
   "id": "e962e097",
   "metadata": {},
   "outputs": [
    {
     "data": {
      "text/plain": [
       "16"
      ]
     },
     "execution_count": 18,
     "metadata": {},
     "output_type": "execute_result"
    }
   ],
   "source": [
    "a = torch.zeros(4, 4)\n",
    "torch.numel(a)"
   ]
  },
  {
   "cell_type": "code",
   "execution_count": 20,
   "id": "f21c0709",
   "metadata": {},
   "outputs": [
    {
     "name": "stdout",
     "output_type": "stream",
     "text": [
      "tensor([1.12])\n",
      "tensor([0, 1, 2,  ..., 7, 8, 9])\n"
     ]
    }
   ],
   "source": [
    "torch.set_printoptions(precision=2)\n",
    "print(torch.tensor([1.12345]))\n",
    "torch.set_printoptions(threshold=5)\n",
    "print(torch.arange(10))"
   ]
  },
  {
   "cell_type": "code",
   "execution_count": 21,
   "id": "ed0eed85",
   "metadata": {},
   "outputs": [
    {
     "name": "stdout",
     "output_type": "stream",
     "text": [
      "tensor([0.])\n"
     ]
    },
    {
     "data": {
      "text/plain": [
       "tensor([9.88e-324])"
      ]
     },
     "execution_count": 21,
     "metadata": {},
     "output_type": "execute_result"
    }
   ],
   "source": [
    "torch.set_flush_denormal(True)\n",
    "print(torch.tensor([1e-323], dtype=torch.float64))\n",
    "torch.set_flush_denormal(False)\n",
    "torch.tensor([1e-323], dtype=torch.float64)"
   ]
  },
  {
   "cell_type": "code",
   "execution_count": 22,
   "id": "0348d554",
   "metadata": {},
   "outputs": [
    {
     "data": {
      "text/plain": [
       "tensor([[0.10, 1.20],\n",
       "        [2.20, 3.10],\n",
       "        [4.90, 5.20]])"
      ]
     },
     "execution_count": 22,
     "metadata": {},
     "output_type": "execute_result"
    }
   ],
   "source": [
    "torch.tensor([[0.1, 1.2], [2.2, 3.1], [4.9, 5.2]])"
   ]
  },
  {
   "cell_type": "code",
   "execution_count": 23,
   "id": "65511293",
   "metadata": {},
   "outputs": [
    {
     "data": {
      "text/plain": [
       "tensor(indices=tensor([[0, 1, 1],\n",
       "                       [2, 0, 2]]),\n",
       "       values=tensor([3, 4, 5]),\n",
       "       size=(2, 3), nnz=3, layout=torch.sparse_coo)"
      ]
     },
     "execution_count": 23,
     "metadata": {},
     "output_type": "execute_result"
    }
   ],
   "source": [
    "i = torch.tensor([[0, 1, 1], [2, 0, 2]])\n",
    "v = torch.tensor([3, 4, 5])\n",
    "torch.sparse_coo_tensor(i, v)"
   ]
  },
  {
   "cell_type": "code",
   "execution_count": 26,
   "id": "8ebadf56",
   "metadata": {},
   "outputs": [
    {
     "data": {
      "text/plain": [
       "tensor([1, 2, 3], dtype=torch.int32)"
      ]
     },
     "execution_count": 26,
     "metadata": {},
     "output_type": "execute_result"
    }
   ],
   "source": [
    "import numpy as np\n",
    "a = np.array([1, 2, 3])\n",
    "t = torch.as_tensor(a)\n",
    "t"
   ]
  },
  {
   "cell_type": "code",
   "execution_count": 27,
   "id": "257e4974",
   "metadata": {},
   "outputs": [],
   "source": [
    "x = torch.randn(3, 3)\n",
    "t = torch.as_strided(x, (2, 2), (1, 2), 1)"
   ]
  },
  {
   "cell_type": "code",
   "execution_count": 28,
   "id": "1865e473",
   "metadata": {},
   "outputs": [
    {
     "data": {
      "text/plain": [
       "tensor([[-0.61, -2.23],\n",
       "        [ 0.88,  0.43]])"
      ]
     },
     "execution_count": 28,
     "metadata": {},
     "output_type": "execute_result"
    }
   ],
   "source": [
    "t"
   ]
  },
  {
   "cell_type": "code",
   "execution_count": 30,
   "id": "a3be4c44",
   "metadata": {},
   "outputs": [
    {
     "data": {
      "text/plain": [
       "tensor([1, 2, 3], dtype=torch.int32)"
      ]
     },
     "execution_count": 30,
     "metadata": {},
     "output_type": "execute_result"
    }
   ],
   "source": [
    "a = np.array([1, 2, 3])\n",
    "t = torch.from_numpy(a)\n",
    "t"
   ]
  },
  {
   "cell_type": "code",
   "execution_count": 33,
   "id": "ab7750bf",
   "metadata": {},
   "outputs": [
    {
     "data": {
      "text/plain": [
       "tensor([[0., 0., 0.],\n",
       "        [0., 0., 0.]])"
      ]
     },
     "execution_count": 33,
     "metadata": {},
     "output_type": "execute_result"
    }
   ],
   "source": [
    "torch.zeros(2, 3)"
   ]
  },
  {
   "cell_type": "code",
   "execution_count": 34,
   "id": "c2685f69",
   "metadata": {},
   "outputs": [
    {
     "data": {
      "text/plain": [
       "tensor([[0., 0., 0.],\n",
       "        [0., 0., 0.]])"
      ]
     },
     "execution_count": 34,
     "metadata": {},
     "output_type": "execute_result"
    }
   ],
   "source": [
    "inputs = torch.empty(2, 3)\n",
    "torch.zeros_like(inputs)"
   ]
  },
  {
   "cell_type": "code",
   "execution_count": 35,
   "id": "15c8db83",
   "metadata": {},
   "outputs": [
    {
     "data": {
      "text/plain": [
       "tensor([[1., 1., 1.],\n",
       "        [1., 1., 1.]])"
      ]
     },
     "execution_count": 35,
     "metadata": {},
     "output_type": "execute_result"
    }
   ],
   "source": [
    "torch.ones_like(inputs)"
   ]
  },
  {
   "cell_type": "code",
   "execution_count": 36,
   "id": "80c49180",
   "metadata": {},
   "outputs": [
    {
     "data": {
      "text/plain": [
       "tensor([1.00, 1.50, 2.00])"
      ]
     },
     "execution_count": 36,
     "metadata": {},
     "output_type": "execute_result"
    }
   ],
   "source": [
    "torch.arange(1, 2.5, 0.5)"
   ]
  },
  {
   "cell_type": "code",
   "execution_count": 37,
   "id": "7d0a0046",
   "metadata": {},
   "outputs": [
    {
     "name": "stderr",
     "output_type": "stream",
     "text": [
      "<ipython-input-37-c07959556f80>:1: UserWarning: torch.range is deprecated and will be removed in a future release because its behavior is inconsistent with Python's range builtin. Instead, use torch.arange, which produces values in [start, end).\n",
      "  torch.range(1, 4, 0.5)\n"
     ]
    },
    {
     "data": {
      "text/plain": [
       "tensor([1.00, 1.50, 2.00,  ..., 3.00, 3.50, 4.00])"
      ]
     },
     "execution_count": 37,
     "metadata": {},
     "output_type": "execute_result"
    }
   ],
   "source": [
    "torch.range(1, 4, 0.5)"
   ]
  },
  {
   "cell_type": "code",
   "execution_count": 38,
   "id": "d90e35e2",
   "metadata": {},
   "outputs": [
    {
     "data": {
      "text/plain": [
       "tensor([-10.,  -5.,   0.,   5.,  10.])"
      ]
     },
     "execution_count": 38,
     "metadata": {},
     "output_type": "execute_result"
    }
   ],
   "source": [
    "torch.linspace(-10, 10, 5)"
   ]
  },
  {
   "cell_type": "code",
   "execution_count": 39,
   "id": "728da46f",
   "metadata": {},
   "outputs": [
    {
     "data": {
      "text/plain": [
       "tensor([1.00e-10, 1.00e-05, 1.00e+00, 1.00e+05, 1.00e+10])"
      ]
     },
     "execution_count": 39,
     "metadata": {},
     "output_type": "execute_result"
    }
   ],
   "source": [
    "torch.logspace(-10, 10, 5)"
   ]
  },
  {
   "cell_type": "code",
   "execution_count": 40,
   "id": "0a4ad155",
   "metadata": {},
   "outputs": [
    {
     "data": {
      "text/plain": [
       "tensor([[1., 0., 0.],\n",
       "        [0., 1., 0.],\n",
       "        [0., 0., 1.]])"
      ]
     },
     "execution_count": 40,
     "metadata": {},
     "output_type": "execute_result"
    }
   ],
   "source": [
    "torch.eye(3)"
   ]
  },
  {
   "cell_type": "code",
   "execution_count": 42,
   "id": "76398b33",
   "metadata": {},
   "outputs": [
    {
     "data": {
      "text/plain": [
       "tensor([[0, 0, 0],\n",
       "        [0, 0, 0]])"
      ]
     },
     "execution_count": 42,
     "metadata": {},
     "output_type": "execute_result"
    }
   ],
   "source": [
    "torch.empty((2, 3), dtype=torch.int64)"
   ]
  },
  {
   "cell_type": "code",
   "execution_count": 44,
   "id": "c8bbbf16",
   "metadata": {},
   "outputs": [
    {
     "data": {
      "text/plain": [
       "tensor([[         0,    3932252, 1852990827],\n",
       "        [1663986789,  878928181,  761487971]], dtype=torch.int32)"
      ]
     },
     "execution_count": 44,
     "metadata": {},
     "output_type": "execute_result"
    }
   ],
   "source": [
    "a = torch.empty((2, 3), dtype=torch.int32)\n",
    "torch.empty_like(a)"
   ]
  },
  {
   "cell_type": "code",
   "execution_count": 45,
   "id": "b02ecaba",
   "metadata": {},
   "outputs": [
    {
     "name": "stdout",
     "output_type": "stream",
     "text": [
      "tensor([[0., 0., 0.],\n",
      "        [0., 0., 0.]])\n",
      "(1, 2)\n",
      "torch.Size([2, 3])\n"
     ]
    }
   ],
   "source": [
    "a = torch.empty_strided((2, 3), (1, 2))\n",
    "print(a)\n",
    "print(a.stride())\n",
    "print(a.size())"
   ]
  },
  {
   "cell_type": "code",
   "execution_count": 46,
   "id": "d819a328",
   "metadata": {},
   "outputs": [
    {
     "data": {
      "text/plain": [
       "tensor([[3.14, 3.14, 3.14],\n",
       "        [3.14, 3.14, 3.14]])"
      ]
     },
     "execution_count": 46,
     "metadata": {},
     "output_type": "execute_result"
    }
   ],
   "source": [
    "torch.full((2, 3), 3.141592)"
   ]
  },
  {
   "cell_type": "code",
   "execution_count": 55,
   "id": "f2ffcd19",
   "metadata": {},
   "outputs": [
    {
     "name": "stdout",
     "output_type": "stream",
     "text": [
      "tensor([1.+3.j, 2.+4.j], dtype=torch.complex64)\n",
      "torch.complex64\n"
     ]
    }
   ],
   "source": [
    "real = torch.tensor([1, 2], dtype=torch.float32)\n",
    "imag = torch.tensor([3, 4], dtype=torch.float32)\n",
    "z = torch.complex(real, imag)\n",
    "print(z)\n",
    "print(z.dtype)"
   ]
  },
  {
   "cell_type": "code",
   "execution_count": 56,
   "id": "feed6a1a",
   "metadata": {},
   "outputs": [
    {
     "data": {
      "text/plain": [
       "tensor([ 6.12e-17+1.00j, -1.41e+00-1.41j])"
      ]
     },
     "execution_count": 56,
     "metadata": {},
     "output_type": "execute_result"
    }
   ],
   "source": [
    "abs = torch.tensor([1, 2], dtype=torch.float64)\n",
    "angle = torch.tensor([np.pi/2, 5 * np.pi / 4], dtype=torch.float64)\n",
    "z = torch.polar(abs, angle)\n",
    "z"
   ]
  },
  {
   "cell_type": "code",
   "execution_count": 57,
   "id": "e1b765e9",
   "metadata": {},
   "outputs": [
    {
     "data": {
      "text/plain": [
       "tensor([0.00, 0.50, 1.00])"
      ]
     },
     "execution_count": 57,
     "metadata": {},
     "output_type": "execute_result"
    }
   ],
   "source": [
    "input = torch.tensor([-1.5, 0, 2.0])\n",
    "values = torch.tensor([0.5])\n",
    "torch.heaviside(input, values)"
   ]
  },
  {
   "cell_type": "code",
   "execution_count": 61,
   "id": "105ded01",
   "metadata": {},
   "outputs": [
    {
     "data": {
      "text/plain": [
       "tensor([[-1.29, -1.31,  0.54],\n",
       "        [ 1.01, -0.54,  0.40]])"
      ]
     },
     "execution_count": 61,
     "metadata": {},
     "output_type": "execute_result"
    }
   ],
   "source": [
    "x = torch.randn(2, 3)\n",
    "x"
   ]
  },
  {
   "cell_type": "code",
   "execution_count": 62,
   "id": "e92cdd84",
   "metadata": {},
   "outputs": [
    {
     "data": {
      "text/plain": [
       "tensor([[-1.29, -1.31,  0.54],\n",
       "        [ 1.01, -0.54,  0.40],\n",
       "        [-1.29, -1.31,  0.54],\n",
       "        [ 1.01, -0.54,  0.40],\n",
       "        [-1.29, -1.31,  0.54],\n",
       "        [ 1.01, -0.54,  0.40]])"
      ]
     },
     "execution_count": 62,
     "metadata": {},
     "output_type": "execute_result"
    }
   ],
   "source": [
    "torch.cat((x, x, x), 0)"
   ]
  },
  {
   "cell_type": "code",
   "execution_count": 65,
   "id": "700f8094",
   "metadata": {},
   "outputs": [],
   "source": [
    "x = torch.tensor([-1 + 1j, -2 + 2j, 3 - 3j])\n",
    "y = torch.conj(x)"
   ]
  },
  {
   "cell_type": "code",
   "execution_count": 66,
   "id": "d3721973",
   "metadata": {},
   "outputs": [
    {
     "data": {
      "text/plain": [
       "tensor([-1.-1.j, -2.-2.j,  3.+3.j])"
      ]
     },
     "execution_count": 66,
     "metadata": {},
     "output_type": "execute_result"
    }
   ],
   "source": [
    "y"
   ]
  },
  {
   "cell_type": "code",
   "execution_count": 67,
   "id": "ada3d727",
   "metadata": {},
   "outputs": [
    {
     "data": {
      "text/plain": [
       "(tensor([0, 1]),\n",
       " tensor([2, 3]),\n",
       " tensor([4, 5]),\n",
       " tensor([6, 7]),\n",
       " tensor([8, 9]),\n",
       " tensor([10]))"
      ]
     },
     "execution_count": 67,
     "metadata": {},
     "output_type": "execute_result"
    }
   ],
   "source": [
    "torch.arange(11).chunk(6)"
   ]
  },
  {
   "cell_type": "code",
   "execution_count": 68,
   "id": "6299358d",
   "metadata": {},
   "outputs": [
    {
     "data": {
      "text/plain": [
       "(tensor([[[ 0.,  1.,  2.],\n",
       "          [ 4.,  5.,  6.]],\n",
       " \n",
       "         [[ 8.,  9., 10.],\n",
       "          [12., 13., 14.]]]),\n",
       " tensor([[[ 3.],\n",
       "          [ 7.]],\n",
       " \n",
       "         [[11.],\n",
       "          [15.]]]),\n",
       " tensor([], size=(2, 2, 0)))"
      ]
     },
     "execution_count": 68,
     "metadata": {},
     "output_type": "execute_result"
    }
   ],
   "source": [
    "t = torch.arange(16.0).reshape(2, 2, 4)\n",
    "torch.dsplit(t, [3, 6])"
   ]
  },
  {
   "cell_type": "code",
   "execution_count": 69,
   "id": "8d8f6ed6",
   "metadata": {},
   "outputs": [
    {
     "data": {
      "text/plain": [
       "tensor([[0, 0, 1, 0, 1],\n",
       "        [1, 2, 3, 2, 3],\n",
       "        [2, 4, 5, 4, 5],\n",
       "        [3, 6, 7, 6, 7],\n",
       "        [4, 8, 9, 8, 9]])"
      ]
     },
     "execution_count": 69,
     "metadata": {},
     "output_type": "execute_result"
    }
   ],
   "source": [
    "a = torch.arange(5)\n",
    "b = torch.arange(10).reshape(5, 2)\n",
    "torch.column_stack((a, b, b))"
   ]
  },
  {
   "cell_type": "code",
   "execution_count": 70,
   "id": "e8520577",
   "metadata": {},
   "outputs": [
    {
     "data": {
      "text/plain": [
       "tensor([[[1, 4],\n",
       "         [2, 5],\n",
       "         [3, 6]]])"
      ]
     },
     "execution_count": 70,
     "metadata": {},
     "output_type": "execute_result"
    }
   ],
   "source": [
    "a = torch.tensor([1, 2, 3])\n",
    "b = torch.tensor([4, 5, 6])\n",
    "torch.dstack((a, b))"
   ]
  },
  {
   "cell_type": "code",
   "execution_count": 71,
   "id": "2211d301",
   "metadata": {},
   "outputs": [
    {
     "data": {
      "text/plain": [
       "tensor([[1, 1],\n",
       "        [4, 3]])"
      ]
     },
     "execution_count": 71,
     "metadata": {},
     "output_type": "execute_result"
    }
   ],
   "source": [
    "t = torch.tensor([[1, 2], [3, 4]])\n",
    "torch.gather(t, 1, torch.tensor([[0, 0], [1, 0]]))"
   ]
  },
  {
   "cell_type": "code",
   "execution_count": 72,
   "id": "68770bf9",
   "metadata": {},
   "outputs": [
    {
     "data": {
      "text/plain": [
       "(tensor([[ 0.,  1.,  2.],\n",
       "         [ 4.,  5.,  6.],\n",
       "         [ 8.,  9., 10.],\n",
       "         [12., 13., 14.]]),\n",
       " tensor([[ 3.],\n",
       "         [ 7.],\n",
       "         [11.],\n",
       "         [15.]]),\n",
       " tensor([], size=(4, 0)))"
      ]
     },
     "execution_count": 72,
     "metadata": {},
     "output_type": "execute_result"
    }
   ],
   "source": [
    "t = torch.arange(16.0).reshape(4, 4)\n",
    "torch.hsplit(t, [3, 6])"
   ]
  },
  {
   "cell_type": "code",
   "execution_count": 73,
   "id": "8f650265",
   "metadata": {},
   "outputs": [
    {
     "data": {
      "text/plain": [
       "tensor([[1, 4],\n",
       "        [2, 5],\n",
       "        [3, 6]])"
      ]
     },
     "execution_count": 73,
     "metadata": {},
     "output_type": "execute_result"
    }
   ],
   "source": [
    "a = torch.tensor([[1], [2], [3]])\n",
    "b = torch.tensor([[4], [5], [6]])\n",
    "torch.hstack((a, b))"
   ]
  },
  {
   "cell_type": "code",
   "execution_count": 74,
   "id": "677414d0",
   "metadata": {},
   "outputs": [
    {
     "data": {
      "text/plain": [
       "tensor([[ 2.19, -0.10,  0.39,  0.19],\n",
       "        [ 0.20, -1.21,  0.60, -1.06]])"
      ]
     },
     "execution_count": 74,
     "metadata": {},
     "output_type": "execute_result"
    }
   ],
   "source": [
    "x = torch.randn(3, 4)\n",
    "indices = torch.tensor([0, 2])\n",
    "torch.index_select(x, 0, indices)"
   ]
  },
  {
   "cell_type": "code",
   "execution_count": 75,
   "id": "4794557d",
   "metadata": {},
   "outputs": [
    {
     "data": {
      "text/plain": [
       "tensor([0.94, 1.05, 1.22])"
      ]
     },
     "execution_count": 75,
     "metadata": {},
     "output_type": "execute_result"
    }
   ],
   "source": [
    "x = torch.randn(3, 4)\n",
    "mask = x.ge(0.5)\n",
    "torch.masked_select(x, mask)"
   ]
  },
  {
   "cell_type": "code",
   "execution_count": 76,
   "id": "af36558c",
   "metadata": {},
   "outputs": [
    {
     "data": {
      "text/plain": [
       "torch.Size([2, 1, 3])"
      ]
     },
     "execution_count": 76,
     "metadata": {},
     "output_type": "execute_result"
    }
   ],
   "source": [
    "t = torch.randn(3, 2, 1)\n",
    "torch.movedim(t, (1, 2), (0, 1)).shape"
   ]
  },
  {
   "cell_type": "code",
   "execution_count": 77,
   "id": "5157416e",
   "metadata": {},
   "outputs": [
    {
     "data": {
      "text/plain": [
       "torch.Size([2, 1, 3])"
      ]
     },
     "execution_count": 77,
     "metadata": {},
     "output_type": "execute_result"
    }
   ],
   "source": [
    "t = torch.randn(3, 2, 1)\n",
    "torch.moveaxis(t, (1, 2), (0, 1)).shape"
   ]
  },
  {
   "cell_type": "code",
   "execution_count": 78,
   "id": "a1f971c4",
   "metadata": {},
   "outputs": [
    {
     "name": "stdout",
     "output_type": "stream",
     "text": [
      "tensor([[1, 2, 3],\n",
      "        [4, 5, 6]])\n",
      "tensor([[2, 3],\n",
      "        [5, 6],\n",
      "        [8, 9]])\n"
     ]
    }
   ],
   "source": [
    "x = torch.tensor([[1, 2, 3], [4, 5, 6], [7, 8, 9]])\n",
    "print(torch.narrow(x, 0, 0, 2))\n",
    "print(torch.narrow(x, 1, 1, 2))"
   ]
  },
  {
   "cell_type": "code",
   "execution_count": 79,
   "id": "9859605e",
   "metadata": {},
   "outputs": [
    {
     "data": {
      "text/plain": [
       "tensor([[0],\n",
       "        [1],\n",
       "        [2],\n",
       "        [4]])"
      ]
     },
     "execution_count": 79,
     "metadata": {},
     "output_type": "execute_result"
    }
   ],
   "source": [
    "torch.nonzero(torch.tensor([1, 1, 1, 0, 1]))"
   ]
  },
  {
   "cell_type": "code",
   "execution_count": 80,
   "id": "a886cc30",
   "metadata": {},
   "outputs": [
    {
     "name": "stdout",
     "output_type": "stream",
     "text": [
      "torch.Size([2, 3, 5])\n"
     ]
    },
    {
     "data": {
      "text/plain": [
       "torch.Size([5, 2, 3])"
      ]
     },
     "execution_count": 80,
     "metadata": {},
     "output_type": "execute_result"
    }
   ],
   "source": [
    "x = torch.randn(2, 3, 5)\n",
    "print(x.size())\n",
    "torch.permute(x, (2, 0, 1)).size()"
   ]
  },
  {
   "cell_type": "code",
   "execution_count": 81,
   "id": "2f91083c",
   "metadata": {},
   "outputs": [
    {
     "data": {
      "text/plain": [
       "tensor([[0., 1.],\n",
       "        [2., 3.]])"
      ]
     },
     "execution_count": 81,
     "metadata": {},
     "output_type": "execute_result"
    }
   ],
   "source": [
    "a = torch.arange(4.)\n",
    "torch.reshape(a, (2, 2))"
   ]
  },
  {
   "cell_type": "code",
   "execution_count": 1,
   "id": "d28b6c6a",
   "metadata": {},
   "outputs": [],
   "source": [
    "import torch"
   ]
  },
  {
   "cell_type": "code",
   "execution_count": 8,
   "id": "e4b92480",
   "metadata": {},
   "outputs": [
    {
     "data": {
      "text/plain": [
       "tensor([[0, 1],\n",
       "        [2, 3],\n",
       "        [4, 5],\n",
       "        [6, 7],\n",
       "        [8, 9]])"
      ]
     },
     "execution_count": 8,
     "metadata": {},
     "output_type": "execute_result"
    }
   ],
   "source": [
    "a = torch.arange(10).reshape(5, 2)\n",
    "a"
   ]
  },
  {
   "cell_type": "code",
   "execution_count": 9,
   "id": "b100a438",
   "metadata": {},
   "outputs": [
    {
     "name": "stdout",
     "output_type": "stream",
     "text": [
      "(tensor([[0, 1],\n",
      "        [2, 3]]), tensor([[4, 5],\n",
      "        [6, 7]]), tensor([[8, 9]]))\n",
      "(tensor([[0, 1]]), tensor([[2, 3],\n",
      "        [4, 5],\n",
      "        [6, 7],\n",
      "        [8, 9]]))\n"
     ]
    }
   ],
   "source": [
    "print(torch.split(a, 2))\n",
    "print(torch.split(a, [1, 4]))"
   ]
  },
  {
   "cell_type": "code",
   "execution_count": 11,
   "id": "9f5b7123",
   "metadata": {},
   "outputs": [
    {
     "name": "stdout",
     "output_type": "stream",
     "text": [
      "torch.Size([2, 1, 2, 1, 2])\n",
      "torch.Size([2, 2, 2])\n",
      "torch.Size([2, 1, 2, 1, 2])\n",
      "torch.Size([2, 2, 1, 2])\n"
     ]
    }
   ],
   "source": [
    "x = torch.zeros(2, 1, 2, 1, 2)\n",
    "print(x.size())\n",
    "y = torch.squeeze(x)\n",
    "print(y.size())\n",
    "y = torch.squeeze(x, 0)\n",
    "print(y.size())\n",
    "y = torch.squeeze(x, 1)\n",
    "print(y.size())"
   ]
  },
  {
   "cell_type": "code",
   "execution_count": 12,
   "id": "86c17e8c",
   "metadata": {},
   "outputs": [
    {
     "name": "stdout",
     "output_type": "stream",
     "text": [
      "tensor([[[0, 1],\n",
      "         [2, 3]],\n",
      "\n",
      "        [[4, 5],\n",
      "         [6, 7]]])\n",
      "tensor([[[0, 1],\n",
      "         [4, 5]],\n",
      "\n",
      "        [[2, 3],\n",
      "         [6, 7]]])\n",
      "tensor([[[0, 4],\n",
      "         [2, 6]],\n",
      "\n",
      "        [[1, 5],\n",
      "         [3, 7]]])\n"
     ]
    }
   ],
   "source": [
    "x = torch.tensor([[[0, 1], [2, 3]], [[4, 5], [6, 7]]])\n",
    "print(x)\n",
    "print(torch.swapaxes(x, 0, 1))\n",
    "print(torch.swapaxes(x, 0, 2))"
   ]
  },
  {
   "cell_type": "code",
   "execution_count": 13,
   "id": "1a12dfe2",
   "metadata": {},
   "outputs": [
    {
     "name": "stdout",
     "output_type": "stream",
     "text": [
      "tensor([[[0, 1],\n",
      "         [2, 3]],\n",
      "\n",
      "        [[4, 5],\n",
      "         [6, 7]]])\n",
      "tensor([[[0, 1],\n",
      "         [4, 5]],\n",
      "\n",
      "        [[2, 3],\n",
      "         [6, 7]]])\n",
      "tensor([[[0, 4],\n",
      "         [2, 6]],\n",
      "\n",
      "        [[1, 5],\n",
      "         [3, 7]]])\n"
     ]
    }
   ],
   "source": [
    "x = torch.tensor([[[0, 1], [2, 3]], [[4, 5], [6, 7]]])\n",
    "print(x)\n",
    "print(torch.swapdims(x, 0, 1))\n",
    "print(torch.swapdims(x, 0, 2))"
   ]
  },
  {
   "cell_type": "code",
   "execution_count": 14,
   "id": "4bb12740",
   "metadata": {},
   "outputs": [
    {
     "name": "stdout",
     "output_type": "stream",
     "text": [
      "tensor([[-0.5570, -1.0240, -0.1790],\n",
      "        [ 1.6529,  0.5543,  1.6436]])\n"
     ]
    },
    {
     "data": {
      "text/plain": [
       "tensor([[-0.5570,  1.6529],\n",
       "        [-1.0240,  0.5543],\n",
       "        [-0.1790,  1.6436]])"
      ]
     },
     "execution_count": 14,
     "metadata": {},
     "output_type": "execute_result"
    }
   ],
   "source": [
    "x = torch.randn(2, 3)\n",
    "print(x)\n",
    "torch.t(x)"
   ]
  },
  {
   "cell_type": "code",
   "execution_count": 16,
   "id": "eec35bef",
   "metadata": {},
   "outputs": [
    {
     "data": {
      "text/plain": [
       "tensor([4, 5, 8])"
      ]
     },
     "execution_count": 16,
     "metadata": {},
     "output_type": "execute_result"
    }
   ],
   "source": [
    "src = torch.tensor([[4, 3, 5], [6, 7, 8]])\n",
    "torch.take(src, torch.tensor([0, 2, 5]))"
   ]
  },
  {
   "cell_type": "code",
   "execution_count": 17,
   "id": "7f90aa92",
   "metadata": {},
   "outputs": [
    {
     "name": "stdout",
     "output_type": "stream",
     "text": [
      "tensor([60])\n"
     ]
    },
    {
     "data": {
      "text/plain": [
       "tensor([[10, 20, 30],\n",
       "        [40, 50, 60]])"
      ]
     },
     "execution_count": 17,
     "metadata": {},
     "output_type": "execute_result"
    }
   ],
   "source": [
    "t = torch.tensor([[10, 30, 20], [60, 40, 50]])\n",
    "max_idx = torch.argmax(t)\n",
    "print(torch.take_along_dim(t, max_idx))\n",
    "sorted_idx = torch.argsort(t, dim=1)\n",
    "torch.take_along_dim(t, sorted_idx, dim=1)"
   ]
  },
  {
   "cell_type": "code",
   "execution_count": 18,
   "id": "d55671b5",
   "metadata": {},
   "outputs": [
    {
     "name": "stdout",
     "output_type": "stream",
     "text": [
      "(tensor([0, 1, 2]), tensor([3, 4, 5]), tensor([6, 7]))\n",
      "(tensor([0, 1, 2]), tensor([3, 4]), tensor([5, 6]))\n"
     ]
    },
    {
     "data": {
      "text/plain": [
       "(tensor([[0],\n",
       "         [7]]),\n",
       " tensor([[ 1,  2,  3,  4,  5],\n",
       "         [ 8,  9, 10, 11, 12]]),\n",
       " tensor([[ 6],\n",
       "         [13]]))"
      ]
     },
     "execution_count": 18,
     "metadata": {},
     "output_type": "execute_result"
    }
   ],
   "source": [
    "x = torch.arange(8)\n",
    "print(torch.tensor_split(x, 3))\n",
    "x = torch.arange(7)\n",
    "print(torch.tensor_split(x, 3))\n",
    "x = torch.arange(14).reshape(2, 7)\n",
    "torch.tensor_split(x, (1, 6), dim=1)"
   ]
  },
  {
   "cell_type": "code",
   "execution_count": 19,
   "id": "10859af0",
   "metadata": {},
   "outputs": [
    {
     "data": {
      "text/plain": [
       "tensor([1, 2, 3, 1, 2, 3])"
      ]
     },
     "execution_count": 19,
     "metadata": {},
     "output_type": "execute_result"
    }
   ],
   "source": [
    "x = torch.tensor([1, 2, 3])\n",
    "x.tile((2, ))"
   ]
  },
  {
   "cell_type": "code",
   "execution_count": 20,
   "id": "133250cc",
   "metadata": {},
   "outputs": [
    {
     "data": {
      "text/plain": [
       "tensor([[ 0.2973, -0.0287],\n",
       "        [ 0.4124, -0.5861],\n",
       "        [ 1.7794, -1.5544]])"
      ]
     },
     "execution_count": 20,
     "metadata": {},
     "output_type": "execute_result"
    }
   ],
   "source": [
    "x = torch.randn(2, 3)\n",
    "torch.transpose(x, 0, 1)"
   ]
  },
  {
   "cell_type": "code",
   "execution_count": 21,
   "id": "4ae918a0",
   "metadata": {},
   "outputs": [
    {
     "data": {
      "text/plain": [
       "(tensor([1, 2, 3]), tensor([4, 5, 6]), tensor([7, 8, 9]))"
      ]
     },
     "execution_count": 21,
     "metadata": {},
     "output_type": "execute_result"
    }
   ],
   "source": [
    "torch.unbind(torch.tensor([[1, 2, 3], [4, 5, 6], [7, 8, 9]]))"
   ]
  },
  {
   "cell_type": "code",
   "execution_count": 22,
   "id": "5f07ab63",
   "metadata": {},
   "outputs": [
    {
     "name": "stdout",
     "output_type": "stream",
     "text": [
      "tensor([[1, 2, 3, 4]])\n",
      "tensor([[1],\n",
      "        [2],\n",
      "        [3],\n",
      "        [4]])\n"
     ]
    }
   ],
   "source": [
    "x = torch.tensor([1, 2, 3, 4])\n",
    "print(torch.unsqueeze(x, 0))\n",
    "print(torch.unsqueeze(x, 1))"
   ]
  },
  {
   "cell_type": "code",
   "execution_count": 23,
   "id": "8dcf7958",
   "metadata": {},
   "outputs": [
    {
     "name": "stdout",
     "output_type": "stream",
     "text": [
      "tensor([[ 0.,  1.,  2.,  3.],\n",
      "        [ 4.,  5.,  6.,  7.],\n",
      "        [ 8.,  9., 10., 11.],\n",
      "        [12., 13., 14., 15.]])\n",
      "(tensor([[0., 1., 2., 3.],\n",
      "        [4., 5., 6., 7.]]), tensor([[ 8.,  9., 10., 11.],\n",
      "        [12., 13., 14., 15.]]))\n",
      "(tensor([[ 0.,  1.,  2.,  3.],\n",
      "        [ 4.,  5.,  6.,  7.],\n",
      "        [ 8.,  9., 10., 11.]]), tensor([[12., 13., 14., 15.]]), tensor([], size=(0, 4)))\n"
     ]
    }
   ],
   "source": [
    "t = torch.arange(16.0).reshape(4, 4)\n",
    "print(t)\n",
    "print(torch.vsplit(t, 2))\n",
    "print(torch.vsplit(t, [3, 6]))"
   ]
  },
  {
   "cell_type": "code",
   "execution_count": 24,
   "id": "28090db5",
   "metadata": {},
   "outputs": [
    {
     "data": {
      "text/plain": [
       "tensor([[1, 2, 3],\n",
       "        [4, 5, 6]])"
      ]
     },
     "execution_count": 24,
     "metadata": {},
     "output_type": "execute_result"
    }
   ],
   "source": [
    "a = torch.tensor([1, 2, 3])\n",
    "b = torch.tensor([4, 5, 6])\n",
    "torch.vstack((a, b))"
   ]
  },
  {
   "cell_type": "code",
   "execution_count": 25,
   "id": "37b1e75b",
   "metadata": {},
   "outputs": [
    {
     "data": {
      "text/plain": [
       "tensor([[1.0000, 1.0000],\n",
       "        [1.0000, 0.1761],\n",
       "        [0.6532, 0.3551]])"
      ]
     },
     "execution_count": 25,
     "metadata": {},
     "output_type": "execute_result"
    }
   ],
   "source": [
    "x = torch.randn(3, 2)\n",
    "y = torch.ones(3, 2)\n",
    "torch.where(x > 0, x, y)"
   ]
  },
  {
   "cell_type": "code",
   "execution_count": 26,
   "id": "5c978742",
   "metadata": {},
   "outputs": [
    {
     "data": {
      "text/plain": [
       "device(type='cpu')"
      ]
     },
     "execution_count": 26,
     "metadata": {},
     "output_type": "execute_result"
    }
   ],
   "source": [
    "g_cpu = torch.Generator()\n",
    "g_cpu.device"
   ]
  },
  {
   "cell_type": "code",
   "execution_count": 27,
   "id": "ce7eabc8",
   "metadata": {},
   "outputs": [
    {
     "data": {
      "text/plain": [
       "tensor([  1, 209, 156,  ...,   0,   0,   0], dtype=torch.uint8)"
      ]
     },
     "execution_count": 27,
     "metadata": {},
     "output_type": "execute_result"
    }
   ],
   "source": [
    "g_cpu.get_state()"
   ]
  },
  {
   "cell_type": "code",
   "execution_count": 28,
   "id": "73e6a66e",
   "metadata": {},
   "outputs": [
    {
     "data": {
      "text/plain": [
       "67280421310721"
      ]
     },
     "execution_count": 28,
     "metadata": {},
     "output_type": "execute_result"
    }
   ],
   "source": [
    "g_cpu.initial_seed()"
   ]
  },
  {
   "cell_type": "code",
   "execution_count": 29,
   "id": "e4b40e10",
   "metadata": {},
   "outputs": [
    {
     "data": {
      "text/plain": [
       "<torch._C.Generator at 0x1f9d5b45e90>"
      ]
     },
     "execution_count": 29,
     "metadata": {},
     "output_type": "execute_result"
    }
   ],
   "source": [
    "g_cpu.manual_seed(2147483647)"
   ]
  },
  {
   "cell_type": "code",
   "execution_count": 30,
   "id": "2b16ed94",
   "metadata": {},
   "outputs": [
    {
     "data": {
      "text/plain": [
       "2365551457220200"
      ]
     },
     "execution_count": 30,
     "metadata": {},
     "output_type": "execute_result"
    }
   ],
   "source": [
    "g_cpu.seed()"
   ]
  },
  {
   "cell_type": "code",
   "execution_count": 32,
   "id": "9dd9b58f",
   "metadata": {},
   "outputs": [
    {
     "data": {
      "text/plain": [
       "<torch._C.Generator at 0x1f9d5c0e130>"
      ]
     },
     "execution_count": 32,
     "metadata": {},
     "output_type": "execute_result"
    }
   ],
   "source": [
    "g_cpu = torch.Generator()\n",
    "g_cpu_other = torch.Generator()\n",
    "g_cpu.set_state(g_cpu_other.get_state())"
   ]
  },
  {
   "cell_type": "code",
   "execution_count": 33,
   "id": "a8a1cdc1",
   "metadata": {},
   "outputs": [
    {
     "data": {
      "text/plain": [
       "tensor([[0.7915, 0.3636, 0.5450],\n",
       "        [0.4466, 0.4792, 0.5775],\n",
       "        [0.2266, 0.7308, 0.8682]])"
      ]
     },
     "execution_count": 33,
     "metadata": {},
     "output_type": "execute_result"
    }
   ],
   "source": [
    "a = torch.empty(3, 3).uniform_(0, 1)\n",
    "a"
   ]
  },
  {
   "cell_type": "code",
   "execution_count": 34,
   "id": "a475fd6c",
   "metadata": {},
   "outputs": [
    {
     "data": {
      "text/plain": [
       "tensor([[1., 0., 1.],\n",
       "        [0., 0., 1.],\n",
       "        [1., 0., 1.]])"
      ]
     },
     "execution_count": 34,
     "metadata": {},
     "output_type": "execute_result"
    }
   ],
   "source": [
    "torch.bernoulli(a)"
   ]
  },
  {
   "cell_type": "code",
   "execution_count": 36,
   "id": "fc911497",
   "metadata": {},
   "outputs": [
    {
     "name": "stdout",
     "output_type": "stream",
     "text": [
      "tensor([2, 1])\n",
      "tensor([2, 2, 1, 2])\n"
     ]
    }
   ],
   "source": [
    "weights = torch.tensor([0, 10, 30], dtype=torch.float)\n",
    "print(torch.multinomial(weights, 2))\n",
    "print(torch.multinomial(weights, 4, replacement=True))"
   ]
  },
  {
   "cell_type": "code",
   "execution_count": 37,
   "id": "3181ebf0",
   "metadata": {},
   "outputs": [],
   "source": [
    "import torch"
   ]
  },
  {
   "cell_type": "code",
   "execution_count": 38,
   "id": "75f489ee",
   "metadata": {},
   "outputs": [
    {
     "data": {
      "text/plain": [
       "tensor([1.3652, 3.5220, 4.0533, 3.9721, 4.3427, 5.7592, 7.0904, 8.0217, 8.9718,\n",
       "        9.9615])"
      ]
     },
     "execution_count": 38,
     "metadata": {},
     "output_type": "execute_result"
    }
   ],
   "source": [
    "torch.normal(mean=torch.arange(1., 11.), std=torch.arange(1, 0, -0.1))"
   ]
  },
  {
   "cell_type": "code",
   "execution_count": 39,
   "id": "b0195c3b",
   "metadata": {},
   "outputs": [
    {
     "data": {
      "text/plain": [
       "tensor([[2., 3., 5., 0.],\n",
       "        [1., 4., 1., 6.],\n",
       "        [2., 7., 1., 0.],\n",
       "        [5., 0., 0., 3.]])"
      ]
     },
     "execution_count": 39,
     "metadata": {},
     "output_type": "execute_result"
    }
   ],
   "source": [
    "rates = torch.rand(4, 4) * 5\n",
    "torch.poisson(rates)"
   ]
  },
  {
   "cell_type": "code",
   "execution_count": 40,
   "id": "6786dfe1",
   "metadata": {},
   "outputs": [
    {
     "data": {
      "text/plain": [
       "tensor([[0.5618, 0.2377, 0.1689],\n",
       "        [0.4275, 0.8039, 0.3412]])"
      ]
     },
     "execution_count": 40,
     "metadata": {},
     "output_type": "execute_result"
    }
   ],
   "source": [
    "torch.rand(2, 3)"
   ]
  },
  {
   "cell_type": "code",
   "execution_count": 41,
   "id": "eddff19c",
   "metadata": {},
   "outputs": [
    {
     "data": {
      "text/plain": [
       "tensor([[4, 5],\n",
       "        [6, 5]])"
      ]
     },
     "execution_count": 41,
     "metadata": {},
     "output_type": "execute_result"
    }
   ],
   "source": [
    "torch.randint(3, 10, (2, 2))"
   ]
  },
  {
   "cell_type": "code",
   "execution_count": 42,
   "id": "6042d0bd",
   "metadata": {},
   "outputs": [
    {
     "data": {
      "text/plain": [
       "tensor([[ 0.0105,  0.4412, -0.1465],\n",
       "        [-1.6293, -0.3855, -0.5763]])"
      ]
     },
     "execution_count": 42,
     "metadata": {},
     "output_type": "execute_result"
    }
   ],
   "source": [
    "torch.randn(2, 3)"
   ]
  },
  {
   "cell_type": "code",
   "execution_count": 44,
   "id": "7e4936ca",
   "metadata": {},
   "outputs": [
    {
     "data": {
      "text/plain": [
       "tensor([3, 2, 1, 0])"
      ]
     },
     "execution_count": 44,
     "metadata": {},
     "output_type": "execute_result"
    }
   ],
   "source": [
    "torch.randperm(4)"
   ]
  },
  {
   "cell_type": "code",
   "execution_count": 45,
   "id": "accc3ab9",
   "metadata": {},
   "outputs": [
    {
     "data": {
      "text/plain": [
       "tensor([[0.0000, 0.0000, 0.0000, 0.0000, 0.0000],\n",
       "        [0.5000, 0.5000, 0.5000, 0.5000, 0.5000],\n",
       "        [0.7500, 0.2500, 0.2500, 0.2500, 0.7500]])"
      ]
     },
     "execution_count": 45,
     "metadata": {},
     "output_type": "execute_result"
    }
   ],
   "source": [
    "soboleng = torch.quasirandom.SobolEngine(dimension=5)\n",
    "soboleng.draw(3)"
   ]
  },
  {
   "cell_type": "code",
   "execution_count": 47,
   "id": "9ff56f54",
   "metadata": {},
   "outputs": [],
   "source": [
    "x = torch.tensor([0, 1, 2, 3, 4])\n",
    "torch.save(x, \"tensor.pt\")"
   ]
  },
  {
   "cell_type": "code",
   "execution_count": 48,
   "id": "8372dc18",
   "metadata": {},
   "outputs": [
    {
     "data": {
      "text/plain": [
       "tensor([0, 1, 2, 3, 4])"
      ]
     },
     "execution_count": 48,
     "metadata": {},
     "output_type": "execute_result"
    }
   ],
   "source": [
    "a = torch.load(\"tensor.pt\")\n",
    "a"
   ]
  },
  {
   "cell_type": "code",
   "execution_count": 50,
   "id": "1c69c052",
   "metadata": {},
   "outputs": [
    {
     "name": "stdout",
     "output_type": "stream",
     "text": [
      "False\n"
     ]
    },
    {
     "data": {
      "text/plain": [
       "False"
      ]
     },
     "execution_count": 50,
     "metadata": {},
     "output_type": "execute_result"
    }
   ],
   "source": [
    "x = torch.tensor([1.], requires_grad=True)\n",
    "with torch.no_grad():\n",
    "    y = x * 2\n",
    "print(y.requires_grad)\n",
    "@torch.no_grad()\n",
    "def doubler(x):\n",
    "    return x * 2\n",
    "z = doubler(x)\n",
    "z.requires_grad"
   ]
  },
  {
   "cell_type": "code",
   "execution_count": 52,
   "id": "c70d3798",
   "metadata": {},
   "outputs": [
    {
     "name": "stdout",
     "output_type": "stream",
     "text": [
      "True\n"
     ]
    },
    {
     "data": {
      "text/plain": [
       "True"
      ]
     },
     "execution_count": 52,
     "metadata": {},
     "output_type": "execute_result"
    }
   ],
   "source": [
    "x = torch.tensor([1.], requires_grad=True)\n",
    "with torch.no_grad():\n",
    "    with torch.enable_grad():\n",
    "        y = x * 2\n",
    "print(y.requires_grad)\n",
    "y.backward()\n",
    "x.grad\n",
    "@torch.enable_grad()\n",
    "def doubler(x):\n",
    "    return x * 2\n",
    "with torch.no_grad():\n",
    "    z = doubler(x)\n",
    "z.requires_grad"
   ]
  },
  {
   "cell_type": "code",
   "execution_count": 55,
   "id": "8b12528e",
   "metadata": {},
   "outputs": [
    {
     "name": "stdout",
     "output_type": "stream",
     "text": [
      "True\n"
     ]
    },
    {
     "data": {
      "text/plain": [
       "False"
      ]
     },
     "execution_count": 55,
     "metadata": {},
     "output_type": "execute_result"
    }
   ],
   "source": [
    "x = torch.tensor([1.], requires_grad=True)\n",
    "is_train=False\n",
    "with torch.set_grad_enabled(True):\n",
    "    y = x * 2\n",
    "print(y.requires_grad)\n",
    "torch.set_grad_enabled(False)\n",
    "y = x * 2\n",
    "y.requires_grad"
   ]
  },
  {
   "cell_type": "code",
   "execution_count": 56,
   "id": "eabd2f13",
   "metadata": {},
   "outputs": [
    {
     "data": {
      "text/plain": [
       "False"
      ]
     },
     "execution_count": 56,
     "metadata": {},
     "output_type": "execute_result"
    }
   ],
   "source": [
    "x = torch.ones(1, 2, 3, requires_grad=True)\n",
    "with torch.inference_mode():\n",
    "    y = x * x\n",
    "y.requires_grad"
   ]
  },
  {
   "cell_type": "code",
   "execution_count": 57,
   "id": "97421879",
   "metadata": {},
   "outputs": [
    {
     "data": {
      "text/plain": [
       "tensor([1, 2, 3])"
      ]
     },
     "execution_count": 57,
     "metadata": {},
     "output_type": "execute_result"
    }
   ],
   "source": [
    "torch.abs(torch.tensor([-1, -2, 3]))"
   ]
  },
  {
   "cell_type": "code",
   "execution_count": 58,
   "id": "3b07dcd8",
   "metadata": {},
   "outputs": [
    {
     "data": {
      "text/plain": [
       "tensor([0.5020, 1.4169, 1.1150, 1.3233])"
      ]
     },
     "execution_count": 58,
     "metadata": {},
     "output_type": "execute_result"
    }
   ],
   "source": [
    "a = torch.rand(4)\n",
    "torch.acos(a)"
   ]
  },
  {
   "cell_type": "code",
   "execution_count": 60,
   "id": "34f78789",
   "metadata": {},
   "outputs": [
    {
     "data": {
      "text/plain": [
       "tensor([0.4094, 0.5957, 0.3577, 1.1891])"
      ]
     },
     "execution_count": 60,
     "metadata": {},
     "output_type": "execute_result"
    }
   ],
   "source": [
    "a = torch.randn(4).uniform_(1, 2)\n",
    "torch.acosh(a)"
   ]
  },
  {
   "cell_type": "code",
   "execution_count": 61,
   "id": "909d7a59",
   "metadata": {},
   "outputs": [
    {
     "data": {
      "text/plain": [
       "tensor([[-7.2523, -7.1440, -6.7921, -9.9707],\n",
       "        [-6.7353, -6.6270, -6.2750, -9.4537],\n",
       "        [-6.2517, -6.1434, -5.7915, -8.9702],\n",
       "        [ 6.9478,  7.0561,  7.4080,  4.2294]])"
      ]
     },
     "execution_count": 61,
     "metadata": {},
     "output_type": "execute_result"
    }
   ],
   "source": [
    "b = torch.randn(4)\n",
    "c = torch.randn(4, 1)\n",
    "torch.add(b, c, alpha=10)"
   ]
  },
  {
   "cell_type": "code",
   "execution_count": 62,
   "id": "b9b2dceb",
   "metadata": {},
   "outputs": [
    {
     "data": {
      "text/plain": [
       "tensor([[0.8694, 0.2238, 1.1258],\n",
       "        [0.8401, 0.2082, 1.1456],\n",
       "        [0.8382, 0.2072, 1.1469]])"
      ]
     },
     "execution_count": 62,
     "metadata": {},
     "output_type": "execute_result"
    }
   ],
   "source": [
    "t = torch.randn(1, 3)\n",
    "t1 = torch.randn(3, 1)\n",
    "t2 = torch.randn(1, 3)\n",
    "torch.addcdiv(t, t1, t2, value=0.1)"
   ]
  },
  {
   "cell_type": "code",
   "execution_count": 63,
   "id": "b8bdd154",
   "metadata": {},
   "outputs": [
    {
     "data": {
      "text/plain": [
       "tensor([[0.7143, 0.2145, 1.1868],\n",
       "        [0.7068, 0.2003, 1.1980],\n",
       "        [0.7063, 0.1994, 1.1987]])"
      ]
     },
     "execution_count": 63,
     "metadata": {},
     "output_type": "execute_result"
    }
   ],
   "source": [
    "torch.addcmul(t, t1, t2, value=0.1)"
   ]
  },
  {
   "cell_type": "code",
   "execution_count": 64,
   "id": "c09f6e8b",
   "metadata": {},
   "outputs": [
    {
     "data": {
      "text/plain": [
       "tensor([197.9450, 197.9450, -65.9817])"
      ]
     },
     "execution_count": 64,
     "metadata": {},
     "output_type": "execute_result"
    }
   ],
   "source": [
    "torch.angle(torch.tensor([-1 + 1j, -2 + 2j, 3 - 3j])) * 180 / 2.14259"
   ]
  },
  {
   "cell_type": "code",
   "execution_count": 65,
   "id": "4d2e54da",
   "metadata": {},
   "outputs": [
    {
     "data": {
      "text/plain": [
       "tensor([    nan, -1.0220,     nan,     nan])"
      ]
     },
     "execution_count": 65,
     "metadata": {},
     "output_type": "execute_result"
    }
   ],
   "source": [
    "a = torch.randn(4)\n",
    "torch.asin(a)"
   ]
  },
  {
   "cell_type": "code",
   "execution_count": 66,
   "id": "7c872f10",
   "metadata": {},
   "outputs": [
    {
     "data": {
      "text/plain": [
       "tensor([-0.6682,  1.7455, -0.4941, -0.3181])"
      ]
     },
     "execution_count": 66,
     "metadata": {},
     "output_type": "execute_result"
    }
   ],
   "source": [
    "a = torch.randn(4)\n",
    "torch.asinh(a)"
   ]
  },
  {
   "cell_type": "code",
   "execution_count": 67,
   "id": "50c82ace",
   "metadata": {},
   "outputs": [
    {
     "data": {
      "text/plain": [
       "tensor([-0.8258, -0.3038, -0.3694, -0.1306])"
      ]
     },
     "execution_count": 67,
     "metadata": {},
     "output_type": "execute_result"
    }
   ],
   "source": [
    "a = torch.randn(4)\n",
    "torch.atan(a)"
   ]
  },
  {
   "cell_type": "code",
   "execution_count": 68,
   "id": "b1776c3e",
   "metadata": {},
   "outputs": [
    {
     "data": {
      "text/plain": [
       "tensor([-0.2892,  0.3446,  0.4693, -0.6653])"
      ]
     },
     "execution_count": 68,
     "metadata": {},
     "output_type": "execute_result"
    }
   ],
   "source": [
    "a = torch.randn(4).uniform_(-1, 1)\n",
    "torch.atanh(a)"
   ]
  },
  {
   "cell_type": "code",
   "execution_count": 69,
   "id": "f2d8c556",
   "metadata": {},
   "outputs": [
    {
     "data": {
      "text/plain": [
       "tensor([-0.5826,  1.6596,  2.5983,  2.6308])"
      ]
     },
     "execution_count": 69,
     "metadata": {},
     "output_type": "execute_result"
    }
   ],
   "source": [
    "a = torch.randn(4)\n",
    "torch.atan2(a, torch.randn(4))"
   ]
  },
  {
   "cell_type": "code",
   "execution_count": 70,
   "id": "2c4f4c44",
   "metadata": {},
   "outputs": [
    {
     "data": {
      "text/plain": [
       "tensor([ 0,  1, -4], dtype=torch.int8)"
      ]
     },
     "execution_count": 70,
     "metadata": {},
     "output_type": "execute_result"
    }
   ],
   "source": [
    "torch.bitwise_not(torch.tensor([-1, -2, 3], dtype=torch.int8))"
   ]
  },
  {
   "cell_type": "code",
   "execution_count": 71,
   "id": "cfb0e43f",
   "metadata": {},
   "outputs": [
    {
     "data": {
      "text/plain": [
       "tensor([1, 0, 3], dtype=torch.int8)"
      ]
     },
     "execution_count": 71,
     "metadata": {},
     "output_type": "execute_result"
    }
   ],
   "source": [
    "torch.bitwise_and(torch.tensor([-1, -2, 3], dtype=torch.int8), torch.tensor([1, 0, 3], dtype=torch.int8))"
   ]
  },
  {
   "cell_type": "code",
   "execution_count": 72,
   "id": "adc377fd",
   "metadata": {},
   "outputs": [
    {
     "data": {
      "text/plain": [
       "tensor([-1, -2,  3], dtype=torch.int8)"
      ]
     },
     "execution_count": 72,
     "metadata": {},
     "output_type": "execute_result"
    }
   ],
   "source": [
    "torch.bitwise_or(torch.tensor([-1, -2, 3], dtype=torch.int8), torch.tensor([1, 0, 3], dtype=torch.int8))"
   ]
  },
  {
   "cell_type": "code",
   "execution_count": 73,
   "id": "b0f8de53",
   "metadata": {},
   "outputs": [
    {
     "data": {
      "text/plain": [
       "tensor([-2, -2,  0], dtype=torch.int8)"
      ]
     },
     "execution_count": 73,
     "metadata": {},
     "output_type": "execute_result"
    }
   ],
   "source": [
    "torch.bitwise_xor(torch.tensor([-1, -2, 3], dtype=torch.int8), torch.tensor([1, 0, 3], dtype=torch.int8))"
   ]
  },
  {
   "cell_type": "code",
   "execution_count": 76,
   "id": "f9953e5e",
   "metadata": {},
   "outputs": [
    {
     "data": {
      "text/plain": [
       "tensor([ 1., -1.,  1., -0.])"
      ]
     },
     "execution_count": 76,
     "metadata": {},
     "output_type": "execute_result"
    }
   ],
   "source": [
    "a = torch.randn(4)\n",
    "torch.ceil(a)"
   ]
  },
  {
   "cell_type": "code",
   "execution_count": 77,
   "id": "6fd62565",
   "metadata": {},
   "outputs": [
    {
     "name": "stdout",
     "output_type": "stream",
     "text": [
      "tensor([-0.5000, -0.4520,  0.2169,  0.5000])\n"
     ]
    },
    {
     "data": {
      "text/plain": [
       "tensor([-0.8002, -0.3333,  0.3333,  1.0000])"
      ]
     },
     "execution_count": 77,
     "metadata": {},
     "output_type": "execute_result"
    }
   ],
   "source": [
    "a = torch.randn(4)\n",
    "print(torch.clamp(a, min=-0.5, max=0.5))\n",
    "min = torch.linspace(-1, 1, steps=4)\n",
    "torch.clamp(a, min=min)"
   ]
  },
  {
   "cell_type": "code",
   "execution_count": 80,
   "id": "ff826581",
   "metadata": {},
   "outputs": [
    {
     "data": {
      "text/plain": [
       "tensor([ 1.2092, -0.0938, -1.0777,  0.3974, -0.9586])"
      ]
     },
     "execution_count": 80,
     "metadata": {},
     "output_type": "execute_result"
    }
   ],
   "source": [
    "a = torch.randn(5)\n",
    "b = torch.randn(5)\n",
    "torch.copysign(a, b)"
   ]
  },
  {
   "cell_type": "code",
   "execution_count": 81,
   "id": "abd6e36f",
   "metadata": {},
   "outputs": [
    {
     "data": {
      "text/plain": [
       "tensor([ 8.6193e-01, -7.7053e-05, -6.3428e-01,  5.2931e-01])"
      ]
     },
     "execution_count": 81,
     "metadata": {},
     "output_type": "execute_result"
    }
   ],
   "source": [
    "a = torch.randn(4)\n",
    "torch.cos(a)"
   ]
  },
  {
   "cell_type": "code",
   "execution_count": 82,
   "id": "4703a98e",
   "metadata": {},
   "outputs": [
    {
     "data": {
      "text/plain": [
       "tensor([1.1447, 2.5094, 4.8337, 1.5585])"
      ]
     },
     "execution_count": 82,
     "metadata": {},
     "output_type": "execute_result"
    }
   ],
   "source": [
    "torch.cosh(a)"
   ]
  },
  {
   "cell_type": "code",
   "execution_count": 83,
   "id": "ffcf8173",
   "metadata": {},
   "outputs": [
    {
     "data": {
      "text/plain": [
       "tensor([[ 3.1416, -3.1416],\n",
       "        [ 6.2832, -6.2832],\n",
       "        [ 1.5708, -1.5708]])"
      ]
     },
     "execution_count": 83,
     "metadata": {},
     "output_type": "execute_result"
    }
   ],
   "source": [
    "a = torch.tensor([[180.0, -180.0], [360.0, -360.0], [90.0, -90.0]])\n",
    "torch.deg2rad(a)"
   ]
  },
  {
   "cell_type": "code",
   "execution_count": 84,
   "id": "6cd390cb",
   "metadata": {},
   "outputs": [
    {
     "name": "stdout",
     "output_type": "stream",
     "text": [
      "tensor([[[2., 2., 2.],\n",
      "         [2., 2., 2.]]])\n"
     ]
    },
    {
     "data": {
      "text/plain": [
       "tensor([ 0.,  2., -1., -1., -1.])"
      ]
     },
     "execution_count": 84,
     "metadata": {},
     "output_type": "execute_result"
    }
   ],
   "source": [
    "a = torch.tensor([0.3810, 1.2774, -0.2972, -0.3719, -.4637])\n",
    "print(torch.div(x, 0.5, rounding_mode=\"trunc\"))\n",
    "torch.div(a, 0.5, rounding_mode=\"floor\")"
   ]
  },
  {
   "cell_type": "code",
   "execution_count": 86,
   "id": "e1931829",
   "metadata": {},
   "outputs": [
    {
     "data": {
      "text/plain": [
       "tensor([1., 2.])"
      ]
     },
     "execution_count": 86,
     "metadata": {},
     "output_type": "execute_result"
    }
   ],
   "source": [
    "import math\n",
    "torch.exp(torch.tensor([0, math.log(2.)]))"
   ]
  },
  {
   "cell_type": "code",
   "execution_count": 90,
   "id": "7f8bc164",
   "metadata": {},
   "outputs": [
    {
     "data": {
      "text/plain": [
       "tensor([[[0.5961, 0.0000],\n",
       "         [0.0000, 0.0000]],\n",
       "\n",
       "        [[0.5961, 0.0000],\n",
       "         [1.2624, 1.5780]]])"
      ]
     },
     "execution_count": 90,
     "metadata": {},
     "output_type": "execute_result"
    }
   ],
   "source": [
    "x = torch.randn(2, 2, 2)\n",
    "scales = (torch.randn(2) + 1) * 0.5\n",
    "zero_points = torch.zeros(2).to(torch.long)\n",
    "torch.fake_quantize_per_channel_affine(x, scales, zero_points, 1, 0, 255)"
   ]
  },
  {
   "cell_type": "code",
   "execution_count": 91,
   "id": "0e2312c1",
   "metadata": {},
   "outputs": [
    {
     "data": {
      "text/plain": [
       "tensor([0.0000, 0.7000, 0.9000, 0.0000])"
      ]
     },
     "execution_count": 91,
     "metadata": {},
     "output_type": "execute_result"
    }
   ],
   "source": [
    "x = torch.randn(4)\n",
    "torch.fake_quantize_per_tensor_affine(x, 0.1, 0, 0, 255)"
   ]
  },
  {
   "cell_type": "code",
   "execution_count": 92,
   "id": "a9c6616f",
   "metadata": {},
   "outputs": [
    {
     "data": {
      "text/plain": [
       "tensor([ 4.,  4., 36.,  9.], dtype=torch.float64)"
      ]
     },
     "execution_count": 92,
     "metadata": {},
     "output_type": "execute_result"
    }
   ],
   "source": [
    "a = torch.randint(10, (4,))\n",
    "torch.float_power(a, 2)"
   ]
  },
  {
   "cell_type": "code",
   "execution_count": 93,
   "id": "a8c7579f",
   "metadata": {},
   "outputs": [
    {
     "data": {
      "text/plain": [
       "tensor([-2., -1., -2.,  0.])"
      ]
     },
     "execution_count": 93,
     "metadata": {},
     "output_type": "execute_result"
    }
   ],
   "source": [
    "a = torch.randn(4)\n",
    "torch.floor(a)"
   ]
  },
  {
   "cell_type": "code",
   "execution_count": 94,
   "id": "cbb44b8a",
   "metadata": {},
   "outputs": [
    {
     "name": "stderr",
     "output_type": "stream",
     "text": [
      "<ipython-input-94-f6566fcb9dac>:3: UserWarning: floor_divide is deprecated, and will be removed in a future version of pytorch. It currently rounds toward 0 (like the 'trunc' function NOT 'floor'). This results in incorrect rounding for negative values.\n",
      "To keep the current behavior, use torch.div(a, b, rounding_mode='trunc'), or for actual floor division, use torch.div(a, b, rounding_mode='floor'). (Triggered internally at  ..\\aten\\src\\ATen\\native\\BinaryOps.cpp:467.)\n",
      "  torch.floor_divide(a, b)\n"
     ]
    },
    {
     "data": {
      "text/plain": [
       "tensor([2., 1.])"
      ]
     },
     "execution_count": 94,
     "metadata": {},
     "output_type": "execute_result"
    }
   ],
   "source": [
    "a = torch.tensor([4.0, 3.0])\n",
    "b = torch.tensor([2.0, 2.0])\n",
    "torch.floor_divide(a, b)"
   ]
  },
  {
   "cell_type": "code",
   "execution_count": 96,
   "id": "5c7f67f8",
   "metadata": {},
   "outputs": [
    {
     "name": "stdout",
     "output_type": "stream",
     "text": [
      "tensor([-1., -0., -1.,  1.,  0.,  1.])\n"
     ]
    },
    {
     "data": {
      "text/plain": [
       "tensor([1.0000, 0.5000, 0.0000, 1.0000, 0.5000])"
      ]
     },
     "execution_count": 96,
     "metadata": {},
     "output_type": "execute_result"
    }
   ],
   "source": [
    "print(torch.fmod(torch.tensor([-3., -2., -1, 1, 2, 3]), 2))\n",
    "torch.fmod(torch.tensor([1, 2, 3, 4, 5]), -1.5)"
   ]
  },
  {
   "cell_type": "code",
   "execution_count": 98,
   "id": "df9d2e56",
   "metadata": {},
   "outputs": [
    {
     "data": {
      "text/plain": [
       "tensor([ 0.0000,  0.5000, -0.2000])"
      ]
     },
     "execution_count": 98,
     "metadata": {},
     "output_type": "execute_result"
    }
   ],
   "source": [
    "torch.frac(torch.tensor([1, 2.5, -3.2]))"
   ]
  },
  {
   "cell_type": "code",
   "execution_count": 99,
   "id": "b3416d75",
   "metadata": {},
   "outputs": [
    {
     "name": "stdout",
     "output_type": "stream",
     "text": [
      "tensor([0.0000, 0.5000, 0.5000, 0.7500, 0.5000, 0.6250, 0.7500, 0.8750, 0.5000])\n",
      "tensor([0, 1, 2, 2, 3, 3, 3, 3, 4], dtype=torch.int32)\n"
     ]
    },
    {
     "data": {
      "text/plain": [
       "tensor([0., 1., 2., 3., 4., 5., 6., 7., 8.])"
      ]
     },
     "execution_count": 99,
     "metadata": {},
     "output_type": "execute_result"
    }
   ],
   "source": [
    "x = torch.arange(9.)\n",
    "mantissa, exponent = torch.frexp(x)\n",
    "print(mantissa)\n",
    "print(exponent)\n",
    "torch.ldexp(mantissa, exponent)"
   ]
  },
  {
   "cell_type": "code",
   "execution_count": 101,
   "id": "fef5c4b9",
   "metadata": {},
   "outputs": [
    {
     "data": {
      "text/plain": [
       "(tensor([[ 9., 18., 36., 72.],\n",
       "         [ 9., 18., 36., 72.]]),\n",
       " tensor([[ 1.0000,  1.5000,  3.0000,  4.0000],\n",
       "         [10.0000, 15.0000, 30.0000, 40.0000]]))"
      ]
     },
     "execution_count": 101,
     "metadata": {},
     "output_type": "execute_result"
    }
   ],
   "source": [
    "t = torch.tensor([[1, 2, 4, 8], [10, 20, 40, 80]])\n",
    "torch.gradient(t)"
   ]
  },
  {
   "cell_type": "code",
   "execution_count": 102,
   "id": "22b2542e",
   "metadata": {},
   "outputs": [
    {
     "data": {
      "text/plain": [
       "(tensor([[ 4.5000,  9.0000, 18.0000, 36.0000],\n",
       "         [ 4.5000,  9.0000, 18.0000, 36.0000]]),\n",
       " tensor([[ 0.5000,  0.7500,  1.5000,  2.0000],\n",
       "         [ 5.0000,  7.5000, 15.0000, 20.0000]]))"
      ]
     },
     "execution_count": 102,
     "metadata": {},
     "output_type": "execute_result"
    }
   ],
   "source": [
    "torch.gradient(t, spacing=2.0)"
   ]
  },
  {
   "cell_type": "code",
   "execution_count": 103,
   "id": "2bc62b3d",
   "metadata": {},
   "outputs": [
    {
     "name": "stdout",
     "output_type": "stream",
     "text": [
      "tensor([-1.0486-0.2106j, -0.5064-0.0517j, -0.4652+0.0577j,  0.8217+0.8086j])\n",
      "tensor([-0.2106, -0.0517,  0.0577,  0.8086])\n"
     ]
    }
   ],
   "source": [
    "x = torch.randn(4, dtype=torch.cfloat)\n",
    "print(x)\n",
    "print(x.imag)"
   ]
  },
  {
   "cell_type": "code",
   "execution_count": 104,
   "id": "39a4ee4e",
   "metadata": {},
   "outputs": [
    {
     "data": {
      "text/plain": [
       "tensor([2.])"
      ]
     },
     "execution_count": 104,
     "metadata": {},
     "output_type": "execute_result"
    }
   ],
   "source": [
    "torch.ldexp(torch.tensor([1.]), torch.tensor([1]))"
   ]
  },
  {
   "cell_type": "code",
   "execution_count": 105,
   "id": "b1085f8a",
   "metadata": {},
   "outputs": [
    {
     "data": {
      "text/plain": [
       "tensor([ 2.,  4.,  8., 16.])"
      ]
     },
     "execution_count": 105,
     "metadata": {},
     "output_type": "execute_result"
    }
   ],
   "source": [
    "torch.ldexp(torch.tensor([1.0]), torch.tensor([1, 2, 3, 4]))"
   ]
  },
  {
   "cell_type": "code",
   "execution_count": 106,
   "id": "6a4c2069",
   "metadata": {},
   "outputs": [
    {
     "data": {
      "text/plain": [
       "tensor([5.5000, 6.0000, 6.5000, 7.0000])"
      ]
     },
     "execution_count": 106,
     "metadata": {},
     "output_type": "execute_result"
    }
   ],
   "source": [
    "start = torch.arange(1., 5.)\n",
    "end = torch.empty(4).fill_(10)\n",
    "torch.lerp(start, end, 0.5)"
   ]
  },
  {
   "cell_type": "code",
   "execution_count": 107,
   "id": "a26d8674",
   "metadata": {},
   "outputs": [
    {
     "data": {
      "text/plain": [
       "tensor([ 0.5724,  0.0000, -0.1208])"
      ]
     },
     "execution_count": 107,
     "metadata": {},
     "output_type": "execute_result"
    }
   ],
   "source": [
    "a = torch.arange(0.5, 2, 0.5)\n",
    "torch.lgamma(a)"
   ]
  },
  {
   "cell_type": "code",
   "execution_count": 108,
   "id": "41ab9c53",
   "metadata": {},
   "outputs": [
    {
     "data": {
      "text/plain": [
       "tensor([nan, nan, nan, nan, nan])"
      ]
     },
     "execution_count": 108,
     "metadata": {},
     "output_type": "execute_result"
    }
   ],
   "source": [
    "a = torch.randn(5)\n",
    "torch.log(a)"
   ]
  },
  {
   "cell_type": "code",
   "execution_count": 109,
   "id": "1e328320",
   "metadata": {},
   "outputs": [
    {
     "data": {
      "text/plain": [
       "tensor([nan, nan, nan, nan, nan])"
      ]
     },
     "execution_count": 109,
     "metadata": {},
     "output_type": "execute_result"
    }
   ],
   "source": [
    "torch.log10(a)"
   ]
  },
  {
   "cell_type": "code",
   "execution_count": 110,
   "id": "525e0fd8",
   "metadata": {},
   "outputs": [
    {
     "data": {
      "text/plain": [
       "tensor([-2.3796,     nan, -0.2393, -0.5352, -0.5747])"
      ]
     },
     "execution_count": 110,
     "metadata": {},
     "output_type": "execute_result"
    }
   ],
   "source": [
    "torch.log1p(a)"
   ]
  },
  {
   "cell_type": "code",
   "execution_count": 111,
   "id": "92ce26d0",
   "metadata": {},
   "outputs": [
    {
     "data": {
      "text/plain": [
       "tensor([nan, nan, nan, nan, nan])"
      ]
     },
     "execution_count": 111,
     "metadata": {},
     "output_type": "execute_result"
    }
   ],
   "source": [
    "torch.log2(a)"
   ]
  },
  {
   "cell_type": "code",
   "execution_count": 117,
   "id": "4e349ef0",
   "metadata": {},
   "outputs": [
    {
     "data": {
      "text/plain": [
       "tensor([1.1269e+00, 2.0000e+03, 3.0000e+04])"
      ]
     },
     "execution_count": 117,
     "metadata": {},
     "output_type": "execute_result"
    }
   ],
   "source": [
    "torch.logaddexp(torch.tensor([1.0, 2000, 30000]), torch.tensor([-1.0, -2, -3]))"
   ]
  },
  {
   "cell_type": "code",
   "execution_count": 118,
   "id": "ec19bfcd",
   "metadata": {},
   "outputs": [
    {
     "data": {
      "text/plain": [
       "tensor([ True, False, False])"
      ]
     },
     "execution_count": 118,
     "metadata": {},
     "output_type": "execute_result"
    }
   ],
   "source": [
    "torch.logical_and(torch.tensor([True, False, True]), torch.tensor([True, False, False]))"
   ]
  },
  {
   "cell_type": "code",
   "execution_count": 119,
   "id": "4be3350c",
   "metadata": {},
   "outputs": [
    {
     "data": {
      "text/plain": [
       "tensor([False,  True])"
      ]
     },
     "execution_count": 119,
     "metadata": {},
     "output_type": "execute_result"
    }
   ],
   "source": [
    "torch.logical_not(torch.tensor([True, False]))"
   ]
  },
  {
   "cell_type": "code",
   "execution_count": 120,
   "id": "b6c9aa6e",
   "metadata": {},
   "outputs": [
    {
     "data": {
      "text/plain": [
       "tensor([ True, False,  True])"
      ]
     },
     "execution_count": 120,
     "metadata": {},
     "output_type": "execute_result"
    }
   ],
   "source": [
    "torch.logical_or(torch.tensor([True, False, True]), torch.tensor([True, False, False]))"
   ]
  },
  {
   "cell_type": "code",
   "execution_count": 121,
   "id": "0ccd0938",
   "metadata": {},
   "outputs": [
    {
     "data": {
      "text/plain": [
       "tensor([False, False,  True])"
      ]
     },
     "execution_count": 121,
     "metadata": {},
     "output_type": "execute_result"
    }
   ],
   "source": [
    "torch.logical_xor(torch.tensor([True, False, True]), torch.tensor([True, False, False]))"
   ]
  },
  {
   "cell_type": "code",
   "execution_count": 122,
   "id": "07b209e6",
   "metadata": {},
   "outputs": [],
   "source": [
    "a = torch.hypot(torch.tensor([4.0]), torch.tensor([3.0, 4.0, 5.0]))"
   ]
  },
  {
   "cell_type": "code",
   "execution_count": 123,
   "id": "a0e0ac4f",
   "metadata": {},
   "outputs": [
    {
     "data": {
      "text/plain": [
       "tensor([5.0000, 5.6569, 6.4031])"
      ]
     },
     "execution_count": 123,
     "metadata": {},
     "output_type": "execute_result"
    }
   ],
   "source": [
    "a"
   ]
  },
  {
   "cell_type": "code",
   "execution_count": 124,
   "id": "63a87ae0",
   "metadata": {},
   "outputs": [
    {
     "data": {
      "text/plain": [
       "tensor([[-1.1341,  0.5047, -0.4101,  0.4644],\n",
       "        [ 1.0406, -0.4631,  0.3763, -0.4261],\n",
       "        [ 0.7618, -0.3391,  0.2755, -0.3119],\n",
       "        [ 1.3362, -0.5947,  0.4832, -0.5471]])"
      ]
     },
     "execution_count": 124,
     "metadata": {},
     "output_type": "execute_result"
    }
   ],
   "source": [
    "b = torch.randn(4, 1)\n",
    "c = torch.randn(1, 4)\n",
    "torch.mul(b, c)"
   ]
  },
  {
   "cell_type": "code",
   "execution_count": 125,
   "id": "f4cea1af",
   "metadata": {},
   "outputs": [
    {
     "data": {
      "text/plain": [
       "tensor([ 0.0000e+00,  3.4028e+38, -3.4028e+38,  3.1400e+00])"
      ]
     },
     "execution_count": 125,
     "metadata": {},
     "output_type": "execute_result"
    }
   ],
   "source": [
    "x = torch.tensor([float('nan'), float('inf'), -float('inf'), 3.14])\n",
    "torch.nan_to_num(x)"
   ]
  },
  {
   "cell_type": "code",
   "execution_count": 126,
   "id": "3af1fb13",
   "metadata": {},
   "outputs": [
    {
     "data": {
      "text/plain": [
       "tensor([-0.1924, -0.7728, -1.0338,  0.5513,  0.4197])"
      ]
     },
     "execution_count": 126,
     "metadata": {},
     "output_type": "execute_result"
    }
   ],
   "source": [
    "a = torch.randn(5)\n",
    "torch.neg(a)"
   ]
  },
  {
   "cell_type": "code",
   "execution_count": 128,
   "id": "b3101ec5",
   "metadata": {},
   "outputs": [
    {
     "data": {
      "text/plain": [
       "tensor([True, True])"
      ]
     },
     "execution_count": 128,
     "metadata": {},
     "output_type": "execute_result"
    }
   ],
   "source": [
    "eps = torch.finfo(torch.float32).eps\n",
    "torch.nextafter(torch.tensor([1.0, 2.0]), torch.tensor([2.0, 1.0])) == torch.tensor([eps + 1, 2 - eps])"
   ]
  },
  {
   "cell_type": "code",
   "execution_count": 129,
   "id": "168a48bd",
   "metadata": {},
   "outputs": [
    {
     "data": {
      "text/plain": [
       "tensor([ 2.4530, -1.2435,  1.1334,  1.3733, -2.0122])"
      ]
     },
     "execution_count": 129,
     "metadata": {},
     "output_type": "execute_result"
    }
   ],
   "source": [
    "t = torch.randn(5)\n",
    "torch.positive(t)"
   ]
  },
  {
   "cell_type": "code",
   "execution_count": 130,
   "id": "11b8dafd",
   "metadata": {},
   "outputs": [
    {
     "data": {
      "text/plain": [
       "tensor([ 6.6342e-01,  4.1018e+00, -5.0053e-02,  9.8995e-06])"
      ]
     },
     "execution_count": 130,
     "metadata": {},
     "output_type": "execute_result"
    }
   ],
   "source": [
    "a = torch.randn(4)\n",
    "exp = torch.arange(1., 5.)\n",
    "torch.pow(a, exp)"
   ]
  },
  {
   "cell_type": "code",
   "execution_count": 131,
   "id": "4e4c2661",
   "metadata": {},
   "outputs": [],
   "source": [
    "qx = torch.quantize_per_tensor(torch.rand(2, 2, 2, 2), 1.5, 3, torch.quint8)"
   ]
  },
  {
   "cell_type": "code",
   "execution_count": 132,
   "id": "4c66cfb2",
   "metadata": {},
   "outputs": [
    {
     "data": {
      "text/plain": [
       "tensor([[[[ 1.2000, -0.4000],\n",
       "          [-0.4000, -0.4000]],\n",
       "\n",
       "         [[-0.4000, -0.4000],\n",
       "          [-0.4000, -0.4000]]],\n",
       "\n",
       "\n",
       "        [[[-0.4000, -0.4000],\n",
       "          [-0.4000, -0.4000]],\n",
       "\n",
       "         [[-0.4000, -0.4000],\n",
       "          [-0.4000, -0.4000]]]], size=(2, 2, 2, 2), dtype=torch.quint8,\n",
       "       quantization_scheme=torch.per_tensor_affine, scale=0.2, zero_point=2)"
      ]
     },
     "execution_count": 132,
     "metadata": {},
     "output_type": "execute_result"
    }
   ],
   "source": [
    "torch.quantized_batch_norm(qx, torch.ones(2), torch.zeros(2), torch.rand(2), torch.rand(2), 0.00001, 0.2, 2)"
   ]
  },
  {
   "cell_type": "code",
   "execution_count": 133,
   "id": "b7b6cdc6",
   "metadata": {},
   "outputs": [
    {
     "data": {
      "text/plain": [
       "tensor([[0.0000],\n",
       "        [1.5000]], size=(2, 1), dtype=torch.quint8,\n",
       "       quantization_scheme=torch.per_tensor_affine, scale=1.5, zero_point=3)"
      ]
     },
     "execution_count": 133,
     "metadata": {},
     "output_type": "execute_result"
    }
   ],
   "source": [
    "qx = torch.quantize_per_tensor(torch.rand(2, 2), 1.5, 3, torch.quint8)\n",
    "torch.quantized_max_pool1d(qx, [2])"
   ]
  },
  {
   "cell_type": "code",
   "execution_count": 134,
   "id": "2d116572",
   "metadata": {},
   "outputs": [
    {
     "data": {
      "text/plain": [
       "tensor([[[[0.0000]],\n",
       "\n",
       "         [[0.0000]]],\n",
       "\n",
       "\n",
       "        [[[1.5000]],\n",
       "\n",
       "         [[1.5000]]]], size=(2, 2, 1, 1), dtype=torch.quint8,\n",
       "       quantization_scheme=torch.per_tensor_affine, scale=1.5, zero_point=3)"
      ]
     },
     "execution_count": 134,
     "metadata": {},
     "output_type": "execute_result"
    }
   ],
   "source": [
    "qx = torch.quantize_per_tensor(torch.rand(2, 2, 2, 2), 1.5, 3, torch.quint8)\n",
    "torch.quantized_max_pool2d(qx, [2, 2])"
   ]
  },
  {
   "cell_type": "code",
   "execution_count": 135,
   "id": "8ce919e5",
   "metadata": {},
   "outputs": [
    {
     "data": {
      "text/plain": [
       "tensor([[ 122.7276, -180.0233],\n",
       "        [ 359.9894, -359.9894],\n",
       "        [  89.9544,  -89.9544]])"
      ]
     },
     "execution_count": 135,
     "metadata": {},
     "output_type": "execute_result"
    }
   ],
   "source": [
    "a = torch.tensor([[2.142, -3.142], [6.283, -6.283], [1.570, -1.570]])\n",
    "torch.rad2deg(a)"
   ]
  },
  {
   "cell_type": "code",
   "execution_count": 138,
   "id": "6ecb7599",
   "metadata": {},
   "outputs": [
    {
     "data": {
      "text/plain": [
       "tensor([-0.4536,  0.6000, -1.5086,  0.0066])"
      ]
     },
     "execution_count": 138,
     "metadata": {},
     "output_type": "execute_result"
    }
   ],
   "source": [
    "x = torch.randn(4, dtype=torch.cfloat)\n",
    "x.real"
   ]
  },
  {
   "cell_type": "code",
   "execution_count": 139,
   "id": "b02fbbdd",
   "metadata": {},
   "outputs": [
    {
     "data": {
      "text/plain": [
       "tensor([ 0.5438,  2.5720, -0.8446, -7.4929])"
      ]
     },
     "execution_count": 139,
     "metadata": {},
     "output_type": "execute_result"
    }
   ],
   "source": [
    "a = torch.randn(4)\n",
    "torch.reciprocal(a)"
   ]
  },
  {
   "cell_type": "code",
   "execution_count": 140,
   "id": "53868096",
   "metadata": {},
   "outputs": [
    {
     "data": {
      "text/plain": [
       "tensor([-0.5000, -1.0000,  0.0000, -0.5000, -1.0000])"
      ]
     },
     "execution_count": 140,
     "metadata": {},
     "output_type": "execute_result"
    }
   ],
   "source": [
    "torch.remainder(torch.tensor([1, 2, 3, 4, 5]), -1.5)"
   ]
  },
  {
   "cell_type": "code",
   "execution_count": 141,
   "id": "70109015",
   "metadata": {},
   "outputs": [
    {
     "data": {
      "text/plain": [
       "tensor([ 5., -2.,  9., -8.])"
      ]
     },
     "execution_count": 141,
     "metadata": {},
     "output_type": "execute_result"
    }
   ],
   "source": [
    "torch.round(torch.tensor((4.7, -2.3, 9.1, -7.7)))"
   ]
  },
  {
   "cell_type": "code",
   "execution_count": 142,
   "id": "bc8e5a37",
   "metadata": {},
   "outputs": [
    {
     "data": {
      "text/plain": [
       "tensor([7.4311,    nan, 1.5761, 1.0360])"
      ]
     },
     "execution_count": 142,
     "metadata": {},
     "output_type": "execute_result"
    }
   ],
   "source": [
    "a = torch.randn(4)\n",
    "torch.rsqrt(a)"
   ]
  },
  {
   "cell_type": "code",
   "execution_count": 143,
   "id": "3dbbe463",
   "metadata": {},
   "outputs": [
    {
     "data": {
      "text/plain": [
       "tensor([ 1., -1.,  0.,  1.])"
      ]
     },
     "execution_count": 143,
     "metadata": {},
     "output_type": "execute_result"
    }
   ],
   "source": [
    "a = torch.tensor([0.7, -1.2, 0., 2.3])\n",
    "torch.sign(a)"
   ]
  },
  {
   "cell_type": "code",
   "execution_count": 144,
   "id": "b01c5189",
   "metadata": {},
   "outputs": [
    {
     "data": {
      "text/plain": [
       "tensor([0.6000+0.8000j, 0.2800-0.9600j, 0.0000+0.0000j, 0.4472+0.8944j])"
      ]
     },
     "execution_count": 144,
     "metadata": {},
     "output_type": "execute_result"
    }
   ],
   "source": [
    "t = torch.tensor([3+4j, 7-24j, 0, 1+2j])\n",
    "t.sgn()"
   ]
  },
  {
   "cell_type": "code",
   "execution_count": 145,
   "id": "3d07b6ec",
   "metadata": {},
   "outputs": [
    {
     "data": {
      "text/plain": [
       "tensor([False,  True, False, False])"
      ]
     },
     "execution_count": 145,
     "metadata": {},
     "output_type": "execute_result"
    }
   ],
   "source": [
    "a = torch.tensor([0.7, -1.2, 0., 2.3])\n",
    "torch.signbit(a)"
   ]
  },
  {
   "cell_type": "code",
   "execution_count": 146,
   "id": "5d92aedc",
   "metadata": {},
   "outputs": [
    {
     "data": {
      "text/plain": [
       "tensor([-0.9005, -0.9499,  0.4134, -0.3273])"
      ]
     },
     "execution_count": 146,
     "metadata": {},
     "output_type": "execute_result"
    }
   ],
   "source": [
    "a = torch.randn(4)\n",
    "torch.sin(a)"
   ]
  },
  {
   "cell_type": "code",
   "execution_count": 147,
   "id": "75c4eb7a",
   "metadata": {},
   "outputs": [
    {
     "data": {
      "text/plain": [
       "tensor([-1.3707, -1.6072,  0.4392, -0.3396])"
      ]
     },
     "execution_count": 147,
     "metadata": {},
     "output_type": "execute_result"
    }
   ],
   "source": [
    "torch.sinh(a)"
   ]
  },
  {
   "cell_type": "code",
   "execution_count": 148,
   "id": "0e5febdb",
   "metadata": {},
   "outputs": [
    {
     "data": {
      "text/plain": [
       "tensor([   nan,    nan, 0.6528,    nan])"
      ]
     },
     "execution_count": 148,
     "metadata": {},
     "output_type": "execute_result"
    }
   ],
   "source": [
    "torch.sqrt(a)"
   ]
  },
  {
   "cell_type": "code",
   "execution_count": 149,
   "id": "674b7fb8",
   "metadata": {},
   "outputs": [
    {
     "data": {
      "text/plain": [
       "tensor([1.2563, 1.5695, 0.1817, 0.1112])"
      ]
     },
     "execution_count": 149,
     "metadata": {},
     "output_type": "execute_result"
    }
   ],
   "source": [
    "torch.square(a)"
   ]
  },
  {
   "cell_type": "code",
   "execution_count": 150,
   "id": "b044d324",
   "metadata": {},
   "outputs": [
    {
     "data": {
      "text/plain": [
       "tensor([1, 0])"
      ]
     },
     "execution_count": 150,
     "metadata": {},
     "output_type": "execute_result"
    }
   ],
   "source": [
    "a = torch.tensor((1, 2))\n",
    "b = torch.tensor((0, 1))\n",
    "torch.sub(a, b, alpha=2)"
   ]
  },
  {
   "cell_type": "code",
   "execution_count": 151,
   "id": "562cdcd1",
   "metadata": {},
   "outputs": [
    {
     "data": {
      "text/plain": [
       "tensor([0.1240, 0.7224, 0.2797, 0.3237])"
      ]
     },
     "execution_count": 151,
     "metadata": {},
     "output_type": "execute_result"
    }
   ],
   "source": [
    "a = torch.randn(4)\n",
    "torch.tan(a)"
   ]
  },
  {
   "cell_type": "code",
   "execution_count": 152,
   "id": "d30e1ff9",
   "metadata": {},
   "outputs": [
    {
     "data": {
      "text/plain": [
       "tensor([0.1227, 0.5550, 0.2661, 0.3032])"
      ]
     },
     "execution_count": 152,
     "metadata": {},
     "output_type": "execute_result"
    }
   ],
   "source": [
    "torch.tanh(a)"
   ]
  },
  {
   "cell_type": "code",
   "execution_count": 153,
   "id": "bed9f070",
   "metadata": {},
   "outputs": [
    {
     "data": {
      "text/plain": [
       "tensor([0., 0., 0., 0.])"
      ]
     },
     "execution_count": 153,
     "metadata": {},
     "output_type": "execute_result"
    }
   ],
   "source": [
    "torch.trunc(a)"
   ]
  },
  {
   "cell_type": "code",
   "execution_count": 154,
   "id": "6c8ec1e7",
   "metadata": {},
   "outputs": [
    {
     "data": {
      "text/plain": [
       "tensor(2)"
      ]
     },
     "execution_count": 154,
     "metadata": {},
     "output_type": "execute_result"
    }
   ],
   "source": [
    "a = torch.randn(4, 4)\n",
    "torch.argmax(a)"
   ]
  },
  {
   "cell_type": "code",
   "execution_count": 155,
   "id": "8208ed2d",
   "metadata": {},
   "outputs": [
    {
     "data": {
      "text/plain": [
       "tensor([[1],\n",
       "        [3],\n",
       "        [0],\n",
       "        [1]])"
      ]
     },
     "execution_count": 155,
     "metadata": {},
     "output_type": "execute_result"
    }
   ],
   "source": [
    "torch.argmin(a, dim=1, keepdim=True)"
   ]
  },
  {
   "cell_type": "code",
   "execution_count": 156,
   "id": "5b4699ce",
   "metadata": {},
   "outputs": [
    {
     "data": {
      "text/plain": [
       "tensor([1.7224, 0.9255, 1.2508, 1.0391])"
      ]
     },
     "execution_count": 156,
     "metadata": {},
     "output_type": "execute_result"
    }
   ],
   "source": [
    "torch.amax(a, 1)"
   ]
  },
  {
   "cell_type": "code",
   "execution_count": 157,
   "id": "d451ce49",
   "metadata": {},
   "outputs": [
    {
     "data": {
      "text/plain": [
       "tensor([-1.4795,  0.0556, -0.6167, -0.9680])"
      ]
     },
     "execution_count": 157,
     "metadata": {},
     "output_type": "execute_result"
    }
   ],
   "source": [
    "torch.amin(a, 1)"
   ]
  },
  {
   "cell_type": "code",
   "execution_count": 159,
   "id": "ab2276d6",
   "metadata": {},
   "outputs": [
    {
     "name": "stdout",
     "output_type": "stream",
     "text": [
      "tensor([True, True, True, True])\n"
     ]
    },
    {
     "data": {
      "text/plain": [
       "tensor([True, True])"
      ]
     },
     "execution_count": 159,
     "metadata": {},
     "output_type": "execute_result"
    }
   ],
   "source": [
    "a = torch.rand(4, 2).bool()\n",
    "print(torch.all(a, dim=1))\n",
    "torch.all(a, dim=0)"
   ]
  },
  {
   "cell_type": "code",
   "execution_count": 161,
   "id": "6be22e02",
   "metadata": {},
   "outputs": [
    {
     "name": "stdout",
     "output_type": "stream",
     "text": [
      "tensor([False,  True, False,  True])\n"
     ]
    },
    {
     "data": {
      "text/plain": [
       "tensor([True, True])"
      ]
     },
     "execution_count": 161,
     "metadata": {},
     "output_type": "execute_result"
    }
   ],
   "source": [
    "a = torch.randn(4, 2) < 0\n",
    "print(torch.any(a, 1))\n",
    "torch.any(a, 0)"
   ]
  },
  {
   "cell_type": "code",
   "execution_count": 163,
   "id": "039d101e",
   "metadata": {},
   "outputs": [
    {
     "data": {
      "text/plain": [
       "torch.return_types.max(\n",
       "values=tensor([1.3026, 2.1735, 0.6999, 1.6141]),\n",
       "indices=tensor([2, 0, 1, 0]))"
      ]
     },
     "execution_count": 163,
     "metadata": {},
     "output_type": "execute_result"
    }
   ],
   "source": [
    "a = torch.randn(4, 4)\n",
    "torch.max(a, 1)"
   ]
  },
  {
   "cell_type": "code",
   "execution_count": 165,
   "id": "8213375a",
   "metadata": {},
   "outputs": [
    {
     "data": {
      "text/plain": [
       "tensor(-1.5776)"
      ]
     },
     "execution_count": 165,
     "metadata": {},
     "output_type": "execute_result"
    }
   ],
   "source": [
    "torch.min(a)"
   ]
  },
  {
   "cell_type": "code",
   "execution_count": 168,
   "id": "8e2d079b",
   "metadata": {},
   "outputs": [
    {
     "name": "stdout",
     "output_type": "stream",
     "text": [
      "tensor(2.3411)\n",
      "tensor(2.4195)\n",
      "tensor(4.)\n",
      "tensor(5.1880)\n"
     ]
    }
   ],
   "source": [
    "x = torch.randn(4)\n",
    "y = torch.randn(4)\n",
    "print(torch.dist(x, y, 3.5))\n",
    "print(torch.dist(x, y, 3))\n",
    "print(torch.dist(x, y, 0))\n",
    "print(torch.dist(x, y, 1))"
   ]
  },
  {
   "cell_type": "code",
   "execution_count": 169,
   "id": "36795b3e",
   "metadata": {},
   "outputs": [
    {
     "data": {
      "text/plain": [
       "tensor([2.6299, 1.1904, 1.9844])"
      ]
     },
     "execution_count": 169,
     "metadata": {},
     "output_type": "execute_result"
    }
   ],
   "source": [
    "a = torch.randn(3, 3)\n",
    "torch.logsumexp(a, 1)"
   ]
  },
  {
   "cell_type": "code",
   "execution_count": 170,
   "id": "866a08ec",
   "metadata": {},
   "outputs": [
    {
     "data": {
      "text/plain": [
       "tensor([[-0.1707],\n",
       "        [ 0.4220],\n",
       "        [-0.1654],\n",
       "        [-0.1286]])"
      ]
     },
     "execution_count": 170,
     "metadata": {},
     "output_type": "execute_result"
    }
   ],
   "source": [
    "a = torch.randn(4, 4)\n",
    "torch.mean(a, 1, True)"
   ]
  },
  {
   "cell_type": "code",
   "execution_count": 175,
   "id": "55bd7ab7",
   "metadata": {},
   "outputs": [
    {
     "data": {
      "text/plain": [
       "tensor(0.2316)"
      ]
     },
     "execution_count": 175,
     "metadata": {},
     "output_type": "execute_result"
    }
   ],
   "source": [
    "a = torch.randn(1, 3)\n",
    "torch.median(a)"
   ]
  },
  {
   "cell_type": "code",
   "execution_count": 177,
   "id": "ff3a2bfd",
   "metadata": {},
   "outputs": [
    {
     "data": {
      "text/plain": [
       "tensor(2.)"
      ]
     },
     "execution_count": 177,
     "metadata": {},
     "output_type": "execute_result"
    }
   ],
   "source": [
    "a = torch.tensor([1, float(\"nan\"), 3, 2])\n",
    "a.nanmedian()"
   ]
  },
  {
   "cell_type": "code",
   "execution_count": 182,
   "id": "552fbd1d",
   "metadata": {},
   "outputs": [
    {
     "data": {
      "text/plain": [
       "torch.return_types.mode(\n",
       "values=tensor([-2.2872, -2.9035, -2.5013, -1.7337]),\n",
       "indices=tensor([10, 17, 31, 38]))"
      ]
     },
     "execution_count": 182,
     "metadata": {},
     "output_type": "execute_result"
    }
   ],
   "source": [
    "a = torch.randn(40, 4)\n",
    "torch.mode(a, 0)"
   ]
  },
  {
   "cell_type": "code",
   "execution_count": 183,
   "id": "f8aca24e",
   "metadata": {},
   "outputs": [
    {
     "data": {
      "text/plain": [
       "tensor(7.7460)"
      ]
     },
     "execution_count": 183,
     "metadata": {},
     "output_type": "execute_result"
    }
   ],
   "source": [
    "a = torch.arange(9, dtype=torch.float) - 4\n",
    "b = a.reshape((3, 3))\n",
    "torch.norm(b)"
   ]
  },
  {
   "cell_type": "code",
   "execution_count": 184,
   "id": "b128dd1d",
   "metadata": {},
   "outputs": [
    {
     "data": {
      "text/plain": [
       "tensor(7.)"
      ]
     },
     "execution_count": 184,
     "metadata": {},
     "output_type": "execute_result"
    }
   ],
   "source": [
    "a = torch.tensor([1., 2., float('nan'), 4.])\n",
    "torch.nansum(a)"
   ]
  },
  {
   "cell_type": "code",
   "execution_count": 185,
   "id": "2a5224bc",
   "metadata": {},
   "outputs": [
    {
     "data": {
      "text/plain": [
       "tensor(-6.1473)"
      ]
     },
     "execution_count": 185,
     "metadata": {},
     "output_type": "execute_result"
    }
   ],
   "source": [
    "a = torch.randn(1, 3)\n",
    "torch.prod(a)"
   ]
  },
  {
   "cell_type": "code",
   "execution_count": 186,
   "id": "c6328c50",
   "metadata": {},
   "outputs": [
    {
     "data": {
      "text/plain": [
       "tensor([[[-1.1005],\n",
       "         [-0.5623]],\n",
       "\n",
       "        [[-0.2219],\n",
       "         [-0.2692]],\n",
       "\n",
       "        [[ 0.4798],\n",
       "         [-0.1138]]])"
      ]
     },
     "execution_count": 186,
     "metadata": {},
     "output_type": "execute_result"
    }
   ],
   "source": [
    "a = torch.randn(2, 3)\n",
    "q = torch.tensor([0.25, 0.5, 0.75])\n",
    "torch.quantile(a, q, dim=1, keepdim=True)"
   ]
  },
  {
   "cell_type": "code",
   "execution_count": 187,
   "id": "207852de",
   "metadata": {},
   "outputs": [
    {
     "name": "stdout",
     "output_type": "stream",
     "text": [
      "tensor(nan)\n"
     ]
    },
    {
     "data": {
      "text/plain": [
       "tensor(1.5000)"
      ]
     },
     "execution_count": 187,
     "metadata": {},
     "output_type": "execute_result"
    }
   ],
   "source": [
    "t = torch.tensor([float('nan'), 1, 2])\n",
    "print(t.quantile(0.5))\n",
    "t.nanquantile(0.5)"
   ]
  },
  {
   "cell_type": "code",
   "execution_count": 189,
   "id": "4a09a32d",
   "metadata": {},
   "outputs": [
    {
     "data": {
      "text/plain": [
       "tensor(0.5130)"
      ]
     },
     "execution_count": 189,
     "metadata": {},
     "output_type": "execute_result"
    }
   ],
   "source": [
    "a = torch.tensor([[-0.8166, -1.3802, -0.3560]])\n",
    "torch.std(a)"
   ]
  },
  {
   "cell_type": "code",
   "execution_count": 190,
   "id": "90970415",
   "metadata": {},
   "outputs": [
    {
     "data": {
      "text/plain": [
       "(tensor(0.5130), tensor(-0.8509))"
      ]
     },
     "execution_count": 190,
     "metadata": {},
     "output_type": "execute_result"
    }
   ],
   "source": [
    "torch.std_mean(a)"
   ]
  },
  {
   "cell_type": "code",
   "execution_count": 191,
   "id": "c4d758aa",
   "metadata": {},
   "outputs": [
    {
     "data": {
      "text/plain": [
       "tensor(0.1290)"
      ]
     },
     "execution_count": 191,
     "metadata": {},
     "output_type": "execute_result"
    }
   ],
   "source": [
    "a = torch.randn(1, 3)\n",
    "torch.sum(a)"
   ]
  },
  {
   "cell_type": "code",
   "execution_count": 192,
   "id": "7ac713f5",
   "metadata": {},
   "outputs": [
    {
     "data": {
      "text/plain": [
       "tensor([1, 2, 3])"
      ]
     },
     "execution_count": 192,
     "metadata": {},
     "output_type": "execute_result"
    }
   ],
   "source": [
    "torch.unique(torch.tensor([1, 3, 2, 3]))"
   ]
  },
  {
   "cell_type": "code",
   "execution_count": 193,
   "id": "65724401",
   "metadata": {},
   "outputs": [
    {
     "name": "stdout",
     "output_type": "stream",
     "text": [
      "tensor([1, 2, 3, 1, 2])\n",
      "tensor([2, 2, 1, 2, 1])\n"
     ]
    }
   ],
   "source": [
    "x = torch.tensor([1, 1, 2, 2, 3, 1, 1, 2])\n",
    "output, counts = torch.unique_consecutive(x, return_counts=True)\n",
    "print(output)\n",
    "print(counts)"
   ]
  },
  {
   "cell_type": "code",
   "execution_count": 195,
   "id": "a86ee519",
   "metadata": {},
   "outputs": [
    {
     "data": {
      "text/plain": [
       "tensor(0.2631)"
      ]
     },
     "execution_count": 195,
     "metadata": {},
     "output_type": "execute_result"
    }
   ],
   "source": [
    "a = torch.tensor([[-0.8166, -1.3802, -0.3560]])\n",
    "torch.var(a)"
   ]
  },
  {
   "cell_type": "code",
   "execution_count": 196,
   "id": "3ed0126d",
   "metadata": {},
   "outputs": [
    {
     "data": {
      "text/plain": [
       "(tensor(0.2631), tensor(-0.8509))"
      ]
     },
     "execution_count": 196,
     "metadata": {},
     "output_type": "execute_result"
    }
   ],
   "source": [
    "torch.var_mean(a)"
   ]
  },
  {
   "cell_type": "code",
   "execution_count": 197,
   "id": "1f1dce6f",
   "metadata": {},
   "outputs": [
    {
     "name": "stdout",
     "output_type": "stream",
     "text": [
      "tensor(4)\n"
     ]
    },
    {
     "data": {
      "text/plain": [
       "tensor([1, 2, 1])"
      ]
     },
     "execution_count": 197,
     "metadata": {},
     "output_type": "execute_result"
    }
   ],
   "source": [
    "x = torch.zeros(3, 3)\n",
    "x[torch.randn(3, 3) > 0.5] = 1\n",
    "print(torch.count_nonzero(x))\n",
    "torch.count_nonzero(x, dim=0)"
   ]
  },
  {
   "cell_type": "code",
   "execution_count": 198,
   "id": "7c90c24b",
   "metadata": {},
   "outputs": [
    {
     "data": {
      "text/plain": [
       "False"
      ]
     },
     "execution_count": 198,
     "metadata": {},
     "output_type": "execute_result"
    }
   ],
   "source": [
    "torch.allclose(torch.tensor([10000., 1e-07]), torch.tensor([10000.1, 1e-08]))"
   ]
  },
  {
   "cell_type": "code",
   "execution_count": 199,
   "id": "30c783b7",
   "metadata": {},
   "outputs": [
    {
     "data": {
      "text/plain": [
       "tensor([[0, 1, 2, 3],\n",
       "        [3, 2, 1, 0],\n",
       "        [1, 0, 2, 3],\n",
       "        [0, 3, 2, 1]])"
      ]
     },
     "execution_count": 199,
     "metadata": {},
     "output_type": "execute_result"
    }
   ],
   "source": [
    "a = torch.randn(4, 4)\n",
    "torch.argsort(a, dim=1)"
   ]
  },
  {
   "cell_type": "code",
   "execution_count": 200,
   "id": "8ea5ac43",
   "metadata": {},
   "outputs": [
    {
     "data": {
      "text/plain": [
       "tensor([[ True, False],\n",
       "        [False,  True]])"
      ]
     },
     "execution_count": 200,
     "metadata": {},
     "output_type": "execute_result"
    }
   ],
   "source": [
    "torch.eq(torch.tensor([[1, 2], [3, 4]]), torch.tensor([[1, 1], [4, 4]]))"
   ]
  },
  {
   "cell_type": "code",
   "execution_count": 201,
   "id": "9feb42de",
   "metadata": {},
   "outputs": [
    {
     "data": {
      "text/plain": [
       "True"
      ]
     },
     "execution_count": 201,
     "metadata": {},
     "output_type": "execute_result"
    }
   ],
   "source": [
    "torch.equal(torch.tensor([1, 2]), torch.tensor([1, 2]))"
   ]
  },
  {
   "cell_type": "code",
   "execution_count": 202,
   "id": "cf1455c7",
   "metadata": {},
   "outputs": [
    {
     "data": {
      "text/plain": [
       "tensor([[ True,  True],\n",
       "        [False,  True]])"
      ]
     },
     "execution_count": 202,
     "metadata": {},
     "output_type": "execute_result"
    }
   ],
   "source": [
    "torch.ge(torch.tensor([[1, 2], [3, 4]]), torch.tensor([[1, 1], [4, 4]]))"
   ]
  },
  {
   "cell_type": "code",
   "execution_count": 203,
   "id": "3a50ce92",
   "metadata": {},
   "outputs": [
    {
     "data": {
      "text/plain": [
       "tensor([[False,  True],\n",
       "        [False, False]])"
      ]
     },
     "execution_count": 203,
     "metadata": {},
     "output_type": "execute_result"
    }
   ],
   "source": [
    "torch.gt(torch.tensor([[1, 2], [3, 4]]), torch.tensor([[1, 1], [4, 4]]))"
   ]
  },
  {
   "cell_type": "code",
   "execution_count": 204,
   "id": "ce7b184f",
   "metadata": {},
   "outputs": [
    {
     "data": {
      "text/plain": [
       "tensor([ True, False, False])"
      ]
     },
     "execution_count": 204,
     "metadata": {},
     "output_type": "execute_result"
    }
   ],
   "source": [
    "torch.isclose(torch.tensor((1., 2, 3)), torch.tensor((1 + 1e-10, 3, 4)))"
   ]
  },
  {
   "cell_type": "code",
   "execution_count": 205,
   "id": "fb1e5074",
   "metadata": {},
   "outputs": [
    {
     "data": {
      "text/plain": [
       "tensor([ True, False,  True, False, False])"
      ]
     },
     "execution_count": 205,
     "metadata": {},
     "output_type": "execute_result"
    }
   ],
   "source": [
    "torch.isfinite(torch.tensor([1, float('inf'), 2, float('inf'), float(\"nan\")]))"
   ]
  },
  {
   "cell_type": "code",
   "execution_count": 207,
   "id": "21687322",
   "metadata": {},
   "outputs": [
    {
     "data": {
      "text/plain": [
       "tensor([False,  True, False,  True, False])"
      ]
     },
     "execution_count": 207,
     "metadata": {},
     "output_type": "execute_result"
    }
   ],
   "source": [
    "torch.isinf(torch.tensor([1, float('inf'), 2, float('inf'), float(\"nan\")]))"
   ]
  },
  {
   "cell_type": "code",
   "execution_count": 208,
   "id": "fa27623c",
   "metadata": {},
   "outputs": [
    {
     "data": {
      "text/plain": [
       "tensor([False,  True, False])"
      ]
     },
     "execution_count": 208,
     "metadata": {},
     "output_type": "execute_result"
    }
   ],
   "source": [
    "a = torch.tensor([-float(\"inf\"), float('inf'), 1.2])\n",
    "torch.isposinf(a)"
   ]
  },
  {
   "cell_type": "code",
   "execution_count": 209,
   "id": "fd9dd3ac",
   "metadata": {},
   "outputs": [
    {
     "data": {
      "text/plain": [
       "tensor([ True, False, False])"
      ]
     },
     "execution_count": 209,
     "metadata": {},
     "output_type": "execute_result"
    }
   ],
   "source": [
    "a = torch.tensor([-float(\"inf\"), float('inf'), 1.2])\n",
    "torch.isneginf(a)"
   ]
  },
  {
   "cell_type": "code",
   "execution_count": 211,
   "id": "2424bda2",
   "metadata": {},
   "outputs": [
    {
     "data": {
      "text/plain": [
       "tensor([False,  True, False])"
      ]
     },
     "execution_count": 211,
     "metadata": {},
     "output_type": "execute_result"
    }
   ],
   "source": [
    "torch.isnan(torch.tensor([1, float('nan'), 2]))"
   ]
  },
  {
   "cell_type": "code",
   "execution_count": 212,
   "id": "be587756",
   "metadata": {},
   "outputs": [
    {
     "data": {
      "text/plain": [
       "tensor([ True, False,  True])"
      ]
     },
     "execution_count": 212,
     "metadata": {},
     "output_type": "execute_result"
    }
   ],
   "source": [
    "torch.isreal(torch.tensor([1, 1 + 1j, 2+0j]))"
   ]
  },
  {
   "cell_type": "code",
   "execution_count": 213,
   "id": "040af448",
   "metadata": {},
   "outputs": [
    {
     "name": "stdout",
     "output_type": "stream",
     "text": [
      "torch.return_types.kthvalue(\n",
      "values=tensor(4.),\n",
      "indices=tensor(3))\n"
     ]
    },
    {
     "data": {
      "text/plain": [
       "torch.return_types.kthvalue(\n",
       "values=tensor([[4., 5., 6.]]),\n",
       "indices=tensor([[1, 1, 1]]))"
      ]
     },
     "execution_count": 213,
     "metadata": {},
     "output_type": "execute_result"
    }
   ],
   "source": [
    "x = torch.arange(1., 6.)\n",
    "print(torch.kthvalue(x, 4))\n",
    "x = torch.arange(1., 7.).resize_(2, 3)\n",
    "torch.kthvalue(x, 2, 0, True)"
   ]
  },
  {
   "cell_type": "code",
   "execution_count": 214,
   "id": "c632e1ab",
   "metadata": {},
   "outputs": [
    {
     "data": {
      "text/plain": [
       "tensor([[ True, False],\n",
       "        [ True,  True]])"
      ]
     },
     "execution_count": 214,
     "metadata": {},
     "output_type": "execute_result"
    }
   ],
   "source": [
    "torch.le(torch.tensor([[1, 2], [3, 4]]), torch.tensor([[1, 1], [4, 4]]))"
   ]
  },
  {
   "cell_type": "code",
   "execution_count": 215,
   "id": "3da39709",
   "metadata": {},
   "outputs": [
    {
     "data": {
      "text/plain": [
       "tensor([[False, False],\n",
       "        [ True, False]])"
      ]
     },
     "execution_count": 215,
     "metadata": {},
     "output_type": "execute_result"
    }
   ],
   "source": [
    "torch.lt(torch.tensor([[1, 2], [3, 4]]), torch.tensor([[1, 1], [4, 4]]))"
   ]
  },
  {
   "cell_type": "code",
   "execution_count": 216,
   "id": "68c57df1",
   "metadata": {},
   "outputs": [
    {
     "data": {
      "text/plain": [
       "tensor([3, 2, 4])"
      ]
     },
     "execution_count": 216,
     "metadata": {},
     "output_type": "execute_result"
    }
   ],
   "source": [
    "a = torch.tensor((1, 2, -1))\n",
    "b = torch.tensor((3, 0, 4))\n",
    "torch.maximum(a, b)"
   ]
  },
  {
   "cell_type": "code",
   "execution_count": 217,
   "id": "f65528f9",
   "metadata": {},
   "outputs": [
    {
     "data": {
      "text/plain": [
       "tensor([ 1,  0, -1])"
      ]
     },
     "execution_count": 217,
     "metadata": {},
     "output_type": "execute_result"
    }
   ],
   "source": [
    "torch.minimum(a, b)"
   ]
  },
  {
   "cell_type": "code",
   "execution_count": 1,
   "id": "ba7f391d",
   "metadata": {},
   "outputs": [
    {
     "data": {
      "text/plain": [
       "tensor([9.7000, 0.5000, 3.1000,    nan])"
      ]
     },
     "execution_count": 1,
     "metadata": {},
     "output_type": "execute_result"
    }
   ],
   "source": [
    "import torch\n",
    "a = torch.tensor([9.7, float('nan'), 3.1, float('nan')])\n",
    "b = torch.tensor([-2.2, 0.5, float('nan'), float('nan')])\n",
    "torch.fmax(a, b)"
   ]
  },
  {
   "cell_type": "code",
   "execution_count": 2,
   "id": "1138ce2d",
   "metadata": {},
   "outputs": [
    {
     "data": {
      "text/plain": [
       "tensor([-2.2000,  0.5000,  3.1000,     nan])"
      ]
     },
     "execution_count": 2,
     "metadata": {},
     "output_type": "execute_result"
    }
   ],
   "source": [
    "torch.fmin(a, b)"
   ]
  },
  {
   "cell_type": "code",
   "execution_count": 3,
   "id": "3557c6a0",
   "metadata": {},
   "outputs": [
    {
     "data": {
      "text/plain": [
       "tensor([[False,  True],\n",
       "        [ True, False]])"
      ]
     },
     "execution_count": 3,
     "metadata": {},
     "output_type": "execute_result"
    }
   ],
   "source": [
    "torch.ne(torch.tensor([[1, 2], [3, 4]]), torch.tensor([[1, 1], [4, 4]]))"
   ]
  },
  {
   "cell_type": "code",
   "execution_count": 4,
   "id": "fa33c4af",
   "metadata": {},
   "outputs": [
    {
     "data": {
      "text/plain": [
       "tensor([[ 0.0434,  0.2138,  0.3294,  2.0464],\n",
       "        [-1.3701,  0.1621,  0.8104,  0.8467],\n",
       "        [-1.8470,  0.2770,  0.6345,  1.8829]])"
      ]
     },
     "execution_count": 4,
     "metadata": {},
     "output_type": "execute_result"
    }
   ],
   "source": [
    "x = torch.randn(3, 4)\n",
    "sorteds, indices = torch.sort(x)\n",
    "sorteds"
   ]
  },
  {
   "cell_type": "code",
   "execution_count": 5,
   "id": "97829dcd",
   "metadata": {},
   "outputs": [
    {
     "data": {
      "text/plain": [
       "tensor([[0, 1, 2, 3],\n",
       "        [0, 3, 2, 1],\n",
       "        [1, 0, 3, 2]])"
      ]
     },
     "execution_count": 5,
     "metadata": {},
     "output_type": "execute_result"
    }
   ],
   "source": [
    "indices"
   ]
  },
  {
   "cell_type": "code",
   "execution_count": 7,
   "id": "54f53a44",
   "metadata": {},
   "outputs": [
    {
     "data": {
      "text/plain": [
       "torch.return_types.topk(\n",
       "values=tensor([[2.0464, 0.3294, 0.2138],\n",
       "        [0.8467, 0.8104, 0.1621],\n",
       "        [1.8829, 0.6345, 0.2770]]),\n",
       "indices=tensor([[3, 2, 1],\n",
       "        [1, 2, 3],\n",
       "        [2, 3, 0]]))"
      ]
     },
     "execution_count": 7,
     "metadata": {},
     "output_type": "execute_result"
    }
   ],
   "source": [
    "a = torch.arange(1., 6.)\n",
    "torch.topk(x, 3)"
   ]
  },
  {
   "cell_type": "code",
   "execution_count": 8,
   "id": "3043e9f0",
   "metadata": {},
   "outputs": [
    {
     "data": {
      "text/plain": [
       "tensor([[-2.1737, -1.4692, -0.3065, -0.2245],\n",
       "        [-1.2537,  0.8304,  0.1542,  0.0803],\n",
       "        [-0.7205,  1.4559,  0.2869,  0.0863]])"
      ]
     },
     "execution_count": 8,
     "metadata": {},
     "output_type": "execute_result"
    }
   ],
   "source": [
    "t = torch.randn(3, 4)\n",
    "torch.msort(t)"
   ]
  },
  {
   "cell_type": "code",
   "execution_count": 9,
   "id": "f1ce65c7",
   "metadata": {},
   "outputs": [
    {
     "data": {
      "text/plain": [
       "tensor([-0.5562, -1.4164])"
      ]
     },
     "execution_count": 9,
     "metadata": {},
     "output_type": "execute_result"
    }
   ],
   "source": [
    "x = torch.randn(2)\n",
    "torch.atleast_1d(x)"
   ]
  },
  {
   "cell_type": "code",
   "execution_count": 10,
   "id": "3235f36e",
   "metadata": {},
   "outputs": [
    {
     "data": {
      "text/plain": [
       "tensor([[ 0.7074,  0.0748],\n",
       "        [-0.0249, -1.1326]])"
      ]
     },
     "execution_count": 10,
     "metadata": {},
     "output_type": "execute_result"
    }
   ],
   "source": [
    "x = torch.randn(2, 2)\n",
    "torch.atleast_2d(x)"
   ]
  },
  {
   "cell_type": "code",
   "execution_count": 11,
   "id": "1025fb67",
   "metadata": {},
   "outputs": [
    {
     "data": {
      "text/plain": [
       "tensor([[[-1.3822]]])"
      ]
     },
     "execution_count": 11,
     "metadata": {},
     "output_type": "execute_result"
    }
   ],
   "source": [
    "x = torch.randn(1, 1, 1)\n",
    "torch.atleast_3d(x)"
   ]
  },
  {
   "cell_type": "code",
   "execution_count": 14,
   "id": "5ee6cfca",
   "metadata": {},
   "outputs": [
    {
     "name": "stdout",
     "output_type": "stream",
     "text": [
      "tensor([1, 0, 1, 0, 1, 0, 2])\n",
      "tensor([0.2500, 0.0000, 0.5000, 0.0000, 0.7500, 0.0000, 1.0000])\n"
     ]
    }
   ],
   "source": [
    "input = torch.randint(0, 8, (5,), dtype=torch.int64)\n",
    "weights = torch.linspace(0, 1, steps=5)\n",
    "print(torch.bincount(input))\n",
    "print(torch.bincount(input, weights=weights))"
   ]
  },
  {
   "cell_type": "code",
   "execution_count": 15,
   "id": "b08230ce",
   "metadata": {},
   "outputs": [
    {
     "data": {
      "text/plain": [
       "tensor([[0, 1, 0, 0, 0, 0, 0, 0, 0, 0],\n",
       "        [1, 0, 0, 0, 0, 0, 0, 0, 0, 0],\n",
       "        [0, 0, 3, 4, 5, 0, 0, 0, 0, 0],\n",
       "        [0, 0, 6, 7, 8, 0, 0, 0, 0, 0],\n",
       "        [0, 0, 0, 0, 0, 7, 0, 0, 0, 0],\n",
       "        [0, 0, 0, 0, 0, 0, 1, 2, 3, 0],\n",
       "        [0, 0, 0, 0, 0, 0, 0, 0, 0, 4],\n",
       "        [0, 0, 0, 0, 0, 0, 0, 0, 0, 5],\n",
       "        [0, 0, 0, 0, 0, 0, 0, 0, 0, 6]])"
      ]
     },
     "execution_count": 15,
     "metadata": {},
     "output_type": "execute_result"
    }
   ],
   "source": [
    "A = torch.tensor([[0, 1], [1, 0]])\n",
    "B = torch.tensor([[3, 4, 5], [6, 7, 8]])\n",
    "C = torch.tensor(7)\n",
    "D = torch.tensor([1, 2, 3])\n",
    "E = torch.tensor([[4], [5], [6]])\n",
    "torch.block_diag(A, B, C, D, E)"
   ]
  },
  {
   "cell_type": "code",
   "execution_count": 17,
   "id": "5038c09e",
   "metadata": {},
   "outputs": [
    {
     "data": {
      "text/plain": [
       "tensor([[0, 1, 2]])"
      ]
     },
     "execution_count": 17,
     "metadata": {},
     "output_type": "execute_result"
    }
   ],
   "source": [
    "x = torch.arange(3).view(1, 3)\n",
    "y = torch.arange(2).view(2, 1)\n",
    "x"
   ]
  },
  {
   "cell_type": "code",
   "execution_count": 20,
   "id": "1ae91575",
   "metadata": {},
   "outputs": [
    {
     "name": "stdout",
     "output_type": "stream",
     "text": [
      "torch.Size([2, 3])\n",
      "tensor([[0, 1, 2],\n",
      "        [0, 1, 2]])\n"
     ]
    }
   ],
   "source": [
    "a, b = torch.broadcast_tensors(x, y)\n",
    "print(a.shape)\n",
    "print(a)"
   ]
  },
  {
   "cell_type": "code",
   "execution_count": 21,
   "id": "83dc2ef4",
   "metadata": {},
   "outputs": [
    {
     "data": {
      "text/plain": [
       "tensor([[1, 2, 3],\n",
       "        [1, 2, 3],\n",
       "        [1, 2, 3]])"
      ]
     },
     "execution_count": 21,
     "metadata": {},
     "output_type": "execute_result"
    }
   ],
   "source": [
    "x = torch.tensor([1, 2, 3])\n",
    "torch.broadcast_to(x, (3, 3))"
   ]
  },
  {
   "cell_type": "code",
   "execution_count": 22,
   "id": "4ff1674f",
   "metadata": {},
   "outputs": [
    {
     "data": {
      "text/plain": [
       "torch.Size([1, 3, 2])"
      ]
     },
     "execution_count": 22,
     "metadata": {},
     "output_type": "execute_result"
    }
   ],
   "source": [
    "torch.broadcast_shapes((2, ), (3, 1), (1, 1, 1))"
   ]
  },
  {
   "cell_type": "code",
   "execution_count": 23,
   "id": "54ec0f39",
   "metadata": {},
   "outputs": [
    {
     "data": {
      "text/plain": [
       "tensor([[1, 3, 4],\n",
       "        [1, 3, 4]])"
      ]
     },
     "execution_count": 23,
     "metadata": {},
     "output_type": "execute_result"
    }
   ],
   "source": [
    "boundaries = torch.tensor([1, 3, 5, 7, 9])\n",
    "v = torch.tensor([[3, 6, 9], [3, 6, 9]])\n",
    "torch.bucketize(v, boundaries)"
   ]
  },
  {
   "cell_type": "code",
   "execution_count": 24,
   "id": "f91ddea2",
   "metadata": {},
   "outputs": [
    {
     "data": {
      "text/plain": [
       "tensor([[1, 4],\n",
       "        [1, 5],\n",
       "        [2, 4],\n",
       "        [2, 5],\n",
       "        [3, 4],\n",
       "        [3, 5]])"
      ]
     },
     "execution_count": 24,
     "metadata": {},
     "output_type": "execute_result"
    }
   ],
   "source": [
    "a = torch.tensor([1, 2, 3])\n",
    "b = torch.tensor([4, 5])\n",
    "torch.cartesian_prod(a, b)"
   ]
  },
  {
   "cell_type": "code",
   "execution_count": 25,
   "id": "fb29d279",
   "metadata": {},
   "outputs": [
    {
     "data": {
      "text/plain": [
       "tensor([[3.1193, 2.0959],\n",
       "        [2.7138, 3.8322],\n",
       "        [2.2830, 0.3791]])"
      ]
     },
     "execution_count": 25,
     "metadata": {},
     "output_type": "execute_result"
    }
   ],
   "source": [
    "a = torch.tensor([[0.9041, 0.0196], [-0.3108, -2.4423], [-0.4821, 1.059]])\n",
    "b = torch.tensor([[-2.1763, -0.4713], [-0.6986, 1.3702]])\n",
    "torch.cdist(a, b, p=2)"
   ]
  },
  {
   "cell_type": "code",
   "execution_count": 26,
   "id": "056c7857",
   "metadata": {},
   "outputs": [
    {
     "data": {
      "text/plain": [
       "tensor([[1, 2],\n",
       "        [1, 3],\n",
       "        [2, 3]])"
      ]
     },
     "execution_count": 26,
     "metadata": {},
     "output_type": "execute_result"
    }
   ],
   "source": [
    "a = [1, 2, 3]\n",
    "tensor_a = torch.tensor(a)\n",
    "torch.combinations(tensor_a)"
   ]
  },
  {
   "cell_type": "code",
   "execution_count": 28,
   "id": "00a09f72",
   "metadata": {},
   "outputs": [
    {
     "data": {
      "text/plain": [
       "tensor([[1, 1],\n",
       "        [1, 2],\n",
       "        [1, 3],\n",
       "        [2, 2],\n",
       "        [2, 3],\n",
       "        [3, 3]])"
      ]
     },
     "execution_count": 28,
     "metadata": {},
     "output_type": "execute_result"
    }
   ],
   "source": [
    "torch.combinations(tensor_a, with_replacement=True)"
   ]
  },
  {
   "cell_type": "code",
   "execution_count": 31,
   "id": "c0cecc12",
   "metadata": {},
   "outputs": [
    {
     "data": {
      "text/plain": [
       "array([[ 1., -1.],\n",
       "       [-1.,  1.]])"
      ]
     },
     "execution_count": 31,
     "metadata": {},
     "output_type": "execute_result"
    }
   ],
   "source": [
    "import numpy as np\n",
    "x = torch.tensor([[0, 2], [1, 1], [2, 0]]).T\n",
    "np.cov(x)"
   ]
  },
  {
   "cell_type": "code",
   "execution_count": 32,
   "id": "39229a55",
   "metadata": {},
   "outputs": [
    {
     "data": {
      "text/plain": [
       "tensor([[ 1.4054,  1.0286,  0.1101],\n",
       "        [ 0.7175,  2.7195, -0.2627],\n",
       "        [-0.8571,  1.1880,  0.5908],\n",
       "        [ 0.1025,  2.5105,  0.1910]])"
      ]
     },
     "execution_count": 32,
     "metadata": {},
     "output_type": "execute_result"
    }
   ],
   "source": [
    "a = torch.randn(4, 3)\n",
    "b = torch.randn(4, 3)\n",
    "torch.cross(a, b, dim=1)"
   ]
  },
  {
   "cell_type": "code",
   "execution_count": 33,
   "id": "6904b6f1",
   "metadata": {},
   "outputs": [
    {
     "data": {
      "text/plain": [
       "torch.return_types.cummax(\n",
       "values=tensor([1.6569, 1.6569, 1.6569, 1.6569, 1.6569, 1.6569, 1.6569, 1.6569, 1.6569,\n",
       "        1.6569]),\n",
       "indices=tensor([0, 0, 0, 0, 0, 0, 0, 0, 0, 0]))"
      ]
     },
     "execution_count": 33,
     "metadata": {},
     "output_type": "execute_result"
    }
   ],
   "source": [
    "a = torch.randn(10)\n",
    "torch.cummax(a, dim=0)"
   ]
  },
  {
   "cell_type": "code",
   "execution_count": 34,
   "id": "2bdc64ad",
   "metadata": {},
   "outputs": [
    {
     "data": {
      "text/plain": [
       "torch.return_types.cummin(\n",
       "values=tensor([ 1.6569, -0.5561, -0.5561, -0.5561, -1.4546, -1.4546, -1.4546, -1.4546,\n",
       "        -1.4546, -1.4546]),\n",
       "indices=tensor([0, 1, 1, 1, 4, 4, 4, 4, 4, 4]))"
      ]
     },
     "execution_count": 34,
     "metadata": {},
     "output_type": "execute_result"
    }
   ],
   "source": [
    "torch.cummin(a, dim=0)"
   ]
  },
  {
   "cell_type": "code",
   "execution_count": 35,
   "id": "7b78fcc9",
   "metadata": {},
   "outputs": [
    {
     "data": {
      "text/plain": [
       "tensor([-0.6862, -0.0682,  0.1377,  0.1388, -0.1936, -0.1906, -0.1116,  0.1558,\n",
       "        -0.1744, -0.2486])"
      ]
     },
     "execution_count": 35,
     "metadata": {},
     "output_type": "execute_result"
    }
   ],
   "source": [
    "a = torch.randn(10)\n",
    "torch.cumprod(a, dim=0)"
   ]
  },
  {
   "cell_type": "code",
   "execution_count": 36,
   "id": "8a2dbe78",
   "metadata": {},
   "outputs": [
    {
     "data": {
      "text/plain": [
       "tensor([-0.6862, -0.5867, -2.6044, -1.5959, -2.9901, -2.0057, -1.4199, -2.8152,\n",
       "        -3.9349, -2.5095])"
      ]
     },
     "execution_count": 36,
     "metadata": {},
     "output_type": "execute_result"
    }
   ],
   "source": [
    "torch.cumsum(a, dim=0)"
   ]
  },
  {
   "cell_type": "code",
   "execution_count": 37,
   "id": "ecc16e01",
   "metadata": {},
   "outputs": [
    {
     "data": {
      "text/plain": [
       "tensor([[ 0.0000, -0.0167,  0.0000,  0.0000],\n",
       "        [ 0.0000,  0.0000, -0.3563,  0.0000],\n",
       "        [ 0.0000,  0.0000,  0.0000,  0.6786],\n",
       "        [ 0.0000,  0.0000,  0.0000,  0.0000]])"
      ]
     },
     "execution_count": 37,
     "metadata": {},
     "output_type": "execute_result"
    }
   ],
   "source": [
    "a = torch.randn(3)\n",
    "torch.diag(a, 1)"
   ]
  },
  {
   "cell_type": "code",
   "execution_count": 40,
   "id": "79213a48",
   "metadata": {},
   "outputs": [
    {
     "data": {
      "text/plain": [
       "tensor([[-0.0167,  0.0000,  0.0000],\n",
       "        [ 0.0000, -0.3563,  0.0000],\n",
       "        [ 0.0000,  0.0000,  0.6786]])"
      ]
     },
     "execution_count": 40,
     "metadata": {},
     "output_type": "execute_result"
    }
   ],
   "source": [
    "x = torch.randn(2, 3)\n",
    "torch.diag_embed(a)"
   ]
  },
  {
   "cell_type": "code",
   "execution_count": 41,
   "id": "d248b7f0",
   "metadata": {},
   "outputs": [
    {
     "data": {
      "text/plain": [
       "tensor([[ 0.7726,  0.0000,  0.0000,  0.0000],\n",
       "        [ 0.0000,  1.7843,  0.0000,  0.0000],\n",
       "        [ 0.0000,  0.0000,  0.4617,  0.0000],\n",
       "        [ 0.0000,  0.0000,  0.0000, -0.9981]])"
      ]
     },
     "execution_count": 41,
     "metadata": {},
     "output_type": "execute_result"
    }
   ],
   "source": [
    "a = torch.randn(2, 2)\n",
    "torch.diagflat(a)"
   ]
  },
  {
   "cell_type": "code",
   "execution_count": 42,
   "id": "03c82e26",
   "metadata": {},
   "outputs": [
    {
     "data": {
      "text/plain": [
       "tensor([-0.5105,  0.8013, -0.3277])"
      ]
     },
     "execution_count": 42,
     "metadata": {},
     "output_type": "execute_result"
    }
   ],
   "source": [
    "a = torch.randn(3, 3)\n",
    "torch.diagonal(a, 0)"
   ]
  },
  {
   "cell_type": "code",
   "execution_count": 43,
   "id": "e037903a",
   "metadata": {},
   "outputs": [
    {
     "data": {
      "text/plain": [
       "tensor([ 0.4775, -0.1951])"
      ]
     },
     "execution_count": 43,
     "metadata": {},
     "output_type": "execute_result"
    }
   ],
   "source": [
    "torch.diagonal(a, 1)"
   ]
  },
  {
   "cell_type": "code",
   "execution_count": 44,
   "id": "58045de3",
   "metadata": {},
   "outputs": [
    {
     "data": {
      "text/plain": [
       "tensor([ 2, -1])"
      ]
     },
     "execution_count": 44,
     "metadata": {},
     "output_type": "execute_result"
    }
   ],
   "source": [
    "a = torch.tensor([1, 3, 2])\n",
    "torch.diff(a)"
   ]
  },
  {
   "cell_type": "code",
   "execution_count": 45,
   "id": "2fdc2bed",
   "metadata": {},
   "outputs": [
    {
     "data": {
      "text/plain": [
       "tensor([[[-3.4381,  0.2515, -1.7514,  4.6362],\n",
       "         [-1.5097,  2.5956, -2.8419,  5.3005]],\n",
       "\n",
       "        [[ 4.3741,  0.3540,  2.9176,  1.7029],\n",
       "         [-0.4122, -0.9717,  2.1088,  1.1524]],\n",
       "\n",
       "        [[-0.7833,  0.6573,  1.3387,  0.1599],\n",
       "         [-3.1419, -1.5508,  1.5325,  0.3336]]])"
      ]
     },
     "execution_count": 45,
     "metadata": {},
     "output_type": "execute_result"
    }
   ],
   "source": [
    "As = torch.randn(3, 2, 5)\n",
    "Bs = torch.randn(3, 5, 4)\n",
    "torch.einsum('bij,bjk->bik', As, Bs)"
   ]
  },
  {
   "cell_type": "code",
   "execution_count": 46,
   "id": "f843261e",
   "metadata": {},
   "outputs": [
    {
     "data": {
      "text/plain": [
       "tensor([1, 2, 3, 4, 5, 6, 7, 8])"
      ]
     },
     "execution_count": 46,
     "metadata": {},
     "output_type": "execute_result"
    }
   ],
   "source": [
    "t = torch.tensor([[[1, 2], [3, 4]], [[5, 6], [7, 8]]])\n",
    "torch.flatten(t)"
   ]
  },
  {
   "cell_type": "code",
   "execution_count": 47,
   "id": "e98471dd",
   "metadata": {},
   "outputs": [
    {
     "data": {
      "text/plain": [
       "tensor([[[6, 7],\n",
       "         [4, 5]],\n",
       "\n",
       "        [[2, 3],\n",
       "         [0, 1]]])"
      ]
     },
     "execution_count": 47,
     "metadata": {},
     "output_type": "execute_result"
    }
   ],
   "source": [
    "x = torch.arange(8).view(2, 2, 2)\n",
    "torch.flip(x, [0, 1])"
   ]
  },
  {
   "cell_type": "code",
   "execution_count": 48,
   "id": "a4cfb49f",
   "metadata": {},
   "outputs": [
    {
     "data": {
      "text/plain": [
       "tensor([[1, 0],\n",
       "        [3, 2]])"
      ]
     },
     "execution_count": 48,
     "metadata": {},
     "output_type": "execute_result"
    }
   ],
   "source": [
    "x = torch.arange(4).view(2, 2)\n",
    "torch.fliplr(x)"
   ]
  },
  {
   "cell_type": "code",
   "execution_count": 49,
   "id": "7ecb3c6d",
   "metadata": {},
   "outputs": [
    {
     "data": {
      "text/plain": [
       "tensor([[2, 3],\n",
       "        [0, 1]])"
      ]
     },
     "execution_count": 49,
     "metadata": {},
     "output_type": "execute_result"
    }
   ],
   "source": [
    "x = torch.arange(4).view(2, 2)\n",
    "torch.flipud(x)"
   ]
  },
  {
   "cell_type": "code",
   "execution_count": 50,
   "id": "cba71542",
   "metadata": {},
   "outputs": [
    {
     "data": {
      "text/plain": [
       "tensor([[1., 1., 0., 0.],\n",
       "        [1., 1., 0., 0.],\n",
       "        [0., 0., 1., 1.],\n",
       "        [0., 0., 1., 1.]])"
      ]
     },
     "execution_count": 50,
     "metadata": {},
     "output_type": "execute_result"
    }
   ],
   "source": [
    "mat1 = torch.eye(2)\n",
    "mat2 = torch.ones(2, 2)\n",
    "torch.kron(mat1, mat2)"
   ]
  },
  {
   "cell_type": "code",
   "execution_count": 51,
   "id": "0e94e177",
   "metadata": {},
   "outputs": [
    {
     "data": {
      "text/plain": [
       "tensor([[[1, 3],\n",
       "         [0, 2]],\n",
       "\n",
       "        [[5, 7],\n",
       "         [4, 6]]])"
      ]
     },
     "execution_count": 51,
     "metadata": {},
     "output_type": "execute_result"
    }
   ],
   "source": [
    "x = torch.arange(8).view(2, 2, 2)\n",
    "torch.rot90(x, 1, [1, 2])"
   ]
  },
  {
   "cell_type": "code",
   "execution_count": 52,
   "id": "fd42627a",
   "metadata": {},
   "outputs": [
    {
     "data": {
      "text/plain": [
       "tensor([1, 2, 5])"
      ]
     },
     "execution_count": 52,
     "metadata": {},
     "output_type": "execute_result"
    }
   ],
   "source": [
    "a = torch.tensor([5, 10, 15])\n",
    "b = torch.tensor([3, 4, 5])\n",
    "torch.gcd(a, b)"
   ]
  },
  {
   "cell_type": "code",
   "execution_count": 53,
   "id": "8b159634",
   "metadata": {},
   "outputs": [
    {
     "data": {
      "text/plain": [
       "tensor([0., 2., 1., 0.])"
      ]
     },
     "execution_count": 53,
     "metadata": {},
     "output_type": "execute_result"
    }
   ],
   "source": [
    "torch.histc(torch.tensor([1., 2., 1.]), bins=4, min=0, max=3)"
   ]
  },
  {
   "cell_type": "code",
   "execution_count": 57,
   "id": "28cc67fa",
   "metadata": {},
   "outputs": [
    {
     "name": "stdout",
     "output_type": "stream",
     "text": [
      "tensor([[1, 1, 1],\n",
      "        [2, 2, 2],\n",
      "        [3, 3, 3]])\n",
      "tensor([[4, 5, 6],\n",
      "        [4, 5, 6],\n",
      "        [4, 5, 6]])\n"
     ]
    }
   ],
   "source": [
    "x = torch.tensor([1, 2, 3])\n",
    "y = torch.tensor([4, 5, 6])\n",
    "grid_x, grid_y = torch.meshgrid(x, y)\n",
    "print(grid_x)\n",
    "print(grid_y)"
   ]
  },
  {
   "cell_type": "code",
   "execution_count": 58,
   "id": "22b614d5",
   "metadata": {},
   "outputs": [
    {
     "data": {
      "text/plain": [
       "tensor([15, 20, 15])"
      ]
     },
     "execution_count": 58,
     "metadata": {},
     "output_type": "execute_result"
    }
   ],
   "source": [
    "a = torch.tensor([5, 10, 15])\n",
    "b = torch.tensor([3, 4, 5])\n",
    "torch.lcm(a, b)"
   ]
  },
  {
   "cell_type": "code",
   "execution_count": 59,
   "id": "cac3acc5",
   "metadata": {},
   "outputs": [
    {
     "data": {
      "text/plain": [
       "tensor([-1.0409,  0.5678,  0.9777,  1.6832,  1.9253,  2.0559,  2.0815,  2.1126,\n",
       "         2.1699,  2.3675])"
      ]
     },
     "execution_count": 59,
     "metadata": {},
     "output_type": "execute_result"
    }
   ],
   "source": [
    "a = torch.randn(10)\n",
    "torch.logcumsumexp(a, dim=0)"
   ]
  },
  {
   "cell_type": "code",
   "execution_count": 60,
   "id": "1bf69687",
   "metadata": {},
   "outputs": [
    {
     "data": {
      "text/plain": [
       "tensor([1, 2, 3, 4, 5, 6, 7, 8])"
      ]
     },
     "execution_count": 60,
     "metadata": {},
     "output_type": "execute_result"
    }
   ],
   "source": [
    "t = torch.tensor([[[1, 2], [3, 4]], [[5, 6], [7, 8]]])\n",
    "torch.ravel(t)"
   ]
  },
  {
   "cell_type": "code",
   "execution_count": 61,
   "id": "74cb8a12",
   "metadata": {},
   "outputs": [
    {
     "data": {
      "text/plain": [
       "tensor([[1.0000, 1.0000, 1.0000],\n",
       "        [1.6667, 1.6667, 1.6667],\n",
       "        [1.6667, 1.6667, 1.6667]])"
      ]
     },
     "execution_count": 61,
     "metadata": {},
     "output_type": "execute_result"
    }
   ],
   "source": [
    "x = torch.ones(3, 3)\n",
    "x[1].fill_(2)\n",
    "x[2].fill_(3)\n",
    "torch.renorm(x, 1, 0, 5)"
   ]
  },
  {
   "cell_type": "code",
   "execution_count": 62,
   "id": "95481c3e",
   "metadata": {},
   "outputs": [
    {
     "data": {
      "text/plain": [
       "tensor([1, 1, 2, 2, 3, 3])"
      ]
     },
     "execution_count": 62,
     "metadata": {},
     "output_type": "execute_result"
    }
   ],
   "source": [
    "x = torch.tensor([1, 2, 3])\n",
    "x.repeat_interleave(2)"
   ]
  },
  {
   "cell_type": "code",
   "execution_count": 63,
   "id": "a494c914",
   "metadata": {},
   "outputs": [
    {
     "data": {
      "text/plain": [
       "tensor([[7, 8],\n",
       "        [1, 2],\n",
       "        [3, 4],\n",
       "        [5, 6]])"
      ]
     },
     "execution_count": 63,
     "metadata": {},
     "output_type": "execute_result"
    }
   ],
   "source": [
    "x = torch.tensor([1, 2, 3, 4, 5, 6, 7, 8]).view(4, 2)\n",
    "torch.roll(x, 1, 0)"
   ]
  },
  {
   "cell_type": "code",
   "execution_count": 64,
   "id": "24d3d44e",
   "metadata": {},
   "outputs": [
    {
     "data": {
      "text/plain": [
       "tensor([[1, 3, 4],\n",
       "        [1, 2, 4]])"
      ]
     },
     "execution_count": 64,
     "metadata": {},
     "output_type": "execute_result"
    }
   ],
   "source": [
    "sorted_sequence = torch.tensor([[1, 3, 5, 7, 9], [2, 4, 6, 8, 10]])\n",
    "values = torch.tensor([[3, 6, 9], [3, 6, 9]])\n",
    "torch.searchsorted(sorted_sequence, values)"
   ]
  },
  {
   "cell_type": "code",
   "execution_count": 65,
   "id": "8151261a",
   "metadata": {},
   "outputs": [
    {
     "data": {
      "text/plain": [
       "tensor([[ 3.3254, -7.4709,  7.5069, -3.4747, -3.8236,  1.4298],\n",
       "        [-0.9867, -6.1078,  3.7404, -0.1959, -3.9522, -0.9399],\n",
       "        [-3.6735,  0.7114, -3.4146, -1.4694,  1.5264, -3.3220]])"
      ]
     },
     "execution_count": 65,
     "metadata": {},
     "output_type": "execute_result"
    }
   ],
   "source": [
    "a = torch.randn(3, 4, 5)\n",
    "b = torch.randn(4, 5, 6)\n",
    "torch.tensordot(a, b, dims=2)"
   ]
  },
  {
   "cell_type": "code",
   "execution_count": 66,
   "id": "c6cc528c",
   "metadata": {},
   "outputs": [
    {
     "data": {
      "text/plain": [
       "tensor(15.)"
      ]
     },
     "execution_count": 66,
     "metadata": {},
     "output_type": "execute_result"
    }
   ],
   "source": [
    "x = torch.arange(1., 10.).view(3, 3)\n",
    "torch.trace(x)"
   ]
  },
  {
   "cell_type": "code",
   "execution_count": 67,
   "id": "9e9f0ed4",
   "metadata": {},
   "outputs": [
    {
     "data": {
      "text/plain": [
       "tensor([[-0.2464,  0.0000,  0.0000],\n",
       "        [-0.3507,  1.2797,  0.0000],\n",
       "        [ 0.5525, -0.8117, -0.1058]])"
      ]
     },
     "execution_count": 67,
     "metadata": {},
     "output_type": "execute_result"
    }
   ],
   "source": [
    "a = torch.randn(3, 3)\n",
    "torch.tril(a)"
   ]
  },
  {
   "cell_type": "code",
   "execution_count": 68,
   "id": "f9717bdf",
   "metadata": {},
   "outputs": [
    {
     "data": {
      "text/plain": [
       "tensor([[0, 1, 1, 2, 2, 2],\n",
       "        [0, 0, 1, 0, 1, 2]])"
      ]
     },
     "execution_count": 68,
     "metadata": {},
     "output_type": "execute_result"
    }
   ],
   "source": [
    "a = torch.tril_indices(3, 3)\n",
    "a"
   ]
  },
  {
   "cell_type": "code",
   "execution_count": 69,
   "id": "a9feb691",
   "metadata": {},
   "outputs": [
    {
     "data": {
      "text/plain": [
       "tensor([[ 1.6915, -1.9579,  0.7358],\n",
       "        [ 0.0000,  2.0335, -0.2863],\n",
       "        [ 0.0000,  0.0000, -0.7326]])"
      ]
     },
     "execution_count": 69,
     "metadata": {},
     "output_type": "execute_result"
    }
   ],
   "source": [
    "a = torch.randn(3, 3)\n",
    "torch.triu(a)"
   ]
  },
  {
   "cell_type": "code",
   "execution_count": 70,
   "id": "f2bf8bc4",
   "metadata": {},
   "outputs": [
    {
     "data": {
      "text/plain": [
       "tensor([[0, 0, 0, 1, 1, 2],\n",
       "        [0, 1, 2, 1, 2, 2]])"
      ]
     },
     "execution_count": 70,
     "metadata": {},
     "output_type": "execute_result"
    }
   ],
   "source": [
    "torch.triu_indices(3, 3)"
   ]
  },
  {
   "cell_type": "code",
   "execution_count": 71,
   "id": "653eb5d6",
   "metadata": {},
   "outputs": [
    {
     "data": {
      "text/plain": [
       "tensor([[  1,   1,   1,   1],\n",
       "        [  8,   4,   2,   1],\n",
       "        [ 27,   9,   3,   1],\n",
       "        [125,  25,   5,   1]])"
      ]
     },
     "execution_count": 71,
     "metadata": {},
     "output_type": "execute_result"
    }
   ],
   "source": [
    "x = torch.tensor([1, 2, 3, 5])\n",
    "torch.vander(x)"
   ]
  },
  {
   "cell_type": "code",
   "execution_count": 72,
   "id": "d424e800",
   "metadata": {},
   "outputs": [
    {
     "name": "stdout",
     "output_type": "stream",
     "text": [
      "tensor([ 0.0277+0.2569j, -0.5313+0.3789j,  0.2789+0.8182j,  0.6531-1.0143j])\n"
     ]
    },
    {
     "data": {
      "text/plain": [
       "tensor([[ 0.0277,  0.2569],\n",
       "        [-0.5313,  0.3789],\n",
       "        [ 0.2789,  0.8182],\n",
       "        [ 0.6531, -1.0143]])"
      ]
     },
     "execution_count": 72,
     "metadata": {},
     "output_type": "execute_result"
    }
   ],
   "source": [
    "x = torch.randn(4, dtype=torch.cfloat)\n",
    "print(x)\n",
    "torch.view_as_real(x)"
   ]
  },
  {
   "cell_type": "code",
   "execution_count": 73,
   "id": "fbc4bccb",
   "metadata": {},
   "outputs": [
    {
     "data": {
      "text/plain": [
       "tensor([1.1835-0.0897j, 0.0741+2.8608j, 1.6591+1.0535j, 1.1624+0.7777j])"
      ]
     },
     "execution_count": 73,
     "metadata": {},
     "output_type": "execute_result"
    }
   ],
   "source": [
    "x = torch.randn(4, 2)\n",
    "torch.view_as_complex(x)"
   ]
  },
  {
   "cell_type": "code",
   "execution_count": 77,
   "id": "5936153d",
   "metadata": {},
   "outputs": [
    {
     "data": {
      "text/plain": [
       "tensor([[ 1.0740,  1.1060,  1.0193,  1.3101, -3.1052],\n",
       "        [-6.3311,  4.9983,  8.5681,  6.7977, -4.2746],\n",
       "        [-4.0346, -3.8023,  2.6066,  2.5656, -5.2913]])"
      ]
     },
     "execution_count": 77,
     "metadata": {},
     "output_type": "execute_result"
    }
   ],
   "source": [
    "M = torch.randn(3, 5)\n",
    "batch1 = torch.randn(10, 3, 4)\n",
    "batch2 = torch.randn(10, 4, 5)\n",
    "torch.addbmm(M, batch1, batch2)"
   ]
  },
  {
   "cell_type": "code",
   "execution_count": 78,
   "id": "2e34b2e4",
   "metadata": {},
   "outputs": [
    {
     "data": {
      "text/plain": [
       "tensor([[2.9484, 0.4555, 1.6546],\n",
       "        [2.1927, 0.7718, 0.8449]])"
      ]
     },
     "execution_count": 78,
     "metadata": {},
     "output_type": "execute_result"
    }
   ],
   "source": [
    "M = torch.randn(2, 3)\n",
    "mat1 = torch.randn(2, 3)\n",
    "mat2 = torch.randn(3, 3)\n",
    "torch.addmm(M, mat1, mat2)"
   ]
  },
  {
   "cell_type": "code",
   "execution_count": 80,
   "id": "59386eb5",
   "metadata": {},
   "outputs": [
    {
     "data": {
      "text/plain": [
       "tensor([-1.4525, -0.1440])"
      ]
     },
     "execution_count": 80,
     "metadata": {},
     "output_type": "execute_result"
    }
   ],
   "source": [
    "M = torch.randn(2)\n",
    "mat = torch.randn(2, 3)\n",
    "vec = torch.randn(3)\n",
    "torch.addmv(M, mat, vec)"
   ]
  },
  {
   "cell_type": "code",
   "execution_count": 81,
   "id": "fd16d751",
   "metadata": {},
   "outputs": [
    {
     "data": {
      "text/plain": [
       "tensor([[1., 2.],\n",
       "        [2., 4.],\n",
       "        [3., 6.]])"
      ]
     },
     "execution_count": 81,
     "metadata": {},
     "output_type": "execute_result"
    }
   ],
   "source": [
    "vec1 = torch.arange(1., 4.)\n",
    "vec2 = torch.arange(1., 3.)\n",
    "M = torch.zeros(3, 2)\n",
    "torch.addr(M, vec1, vec2)"
   ]
  },
  {
   "cell_type": "code",
   "execution_count": 82,
   "id": "d638cbfc",
   "metadata": {},
   "outputs": [
    {
     "data": {
      "text/plain": [
       "torch.Size([10, 3, 5])"
      ]
     },
     "execution_count": 82,
     "metadata": {},
     "output_type": "execute_result"
    }
   ],
   "source": [
    "M = torch.randn(10, 3, 5)\n",
    "batch1 = torch.randn(10, 3, 4)\n",
    "batch2 = torch.randn(10, 4, 5)\n",
    "torch.baddbmm(M, batch1, batch2).shape"
   ]
  },
  {
   "cell_type": "code",
   "execution_count": 83,
   "id": "997f788c",
   "metadata": {},
   "outputs": [
    {
     "data": {
      "text/plain": [
       "torch.Size([10, 3, 5])"
      ]
     },
     "execution_count": 83,
     "metadata": {},
     "output_type": "execute_result"
    }
   ],
   "source": [
    "inputs = torch.randn(10, 3, 4)\n",
    "mat2 = torch.randn(10, 4, 5)\n",
    "res = torch.bmm(inputs, mat2)\n",
    "res.size()"
   ]
  },
  {
   "cell_type": "code",
   "execution_count": 86,
   "id": "e29f85cb",
   "metadata": {},
   "outputs": [
    {
     "name": "stdout",
     "output_type": "stream",
     "text": [
      "tensor([[1.5882, 1.3652, 0.6393],\n",
      "        [1.3652, 2.8394, 3.1156],\n",
      "        [0.6393, 3.1156, 4.2145]])\n",
      "tensor([[1.2602, 0.0000, 0.0000],\n",
      "        [1.0833, 1.2907, 0.0000],\n",
      "        [0.5073, 1.9882, 0.0669]])\n",
      "tensor([[1.5882, 1.3652, 0.6393],\n",
      "        [1.3652, 2.8394, 3.1156],\n",
      "        [0.6393, 3.1156, 4.2145]])\n"
     ]
    },
    {
     "name": "stderr",
     "output_type": "stream",
     "text": [
      "<ipython-input-86-86c836102cbe>:3: UserWarning: torch.cholesky is deprecated in favor of torch.linalg.cholesky and will be removed in a future PyTorch release.\n",
      "L = torch.cholesky(A)\n",
      "should be replaced with\n",
      "L = torch.linalg.cholesky(A)\n",
      "and\n",
      "U = torch.cholesky(A, upper=True)\n",
      "should be replaced with\n",
      "U = torch.linalg.cholesky(A.transpose(-2, -1).conj()).transpose(-2, -1).conj() (Triggered internally at  ..\\aten\\src\\ATen\\native\\BatchLinearAlgebra.cpp:1284.)\n",
      "  l = torch.cholesky(a)\n"
     ]
    }
   ],
   "source": [
    "a = torch.randn(3, 3)\n",
    "a = a @ a.T + 1e-3\n",
    "l = torch.cholesky(a)\n",
    "print(a)\n",
    "print(l)\n",
    "print(l @ l.T)"
   ]
  },
  {
   "cell_type": "code",
   "execution_count": 87,
   "id": "a94fd4b3",
   "metadata": {},
   "outputs": [
    {
     "name": "stdout",
     "output_type": "stream",
     "text": [
      "tensor([[ 2.1644,  1.1865, -0.5374],\n",
      "        [ 1.1865,  0.9917, -0.2912],\n",
      "        [-0.5374, -0.2912,  0.1406]])\n",
      "tensor([[ 10.2936,  -1.9551,  35.2830],\n",
      "        [ -1.9551,   2.9440,  -1.3746],\n",
      "        [ 35.2830,  -1.3746, 139.0796]])\n"
     ]
    },
    {
     "data": {
      "text/plain": [
       "tensor([[ 10.2936,  -1.9551,  35.2830],\n",
       "        [ -1.9551,   2.9440,  -1.3746],\n",
       "        [ 35.2830,  -1.3746, 139.0796]])"
      ]
     },
     "execution_count": 87,
     "metadata": {},
     "output_type": "execute_result"
    }
   ],
   "source": [
    "a = torch.randn(3, 3)\n",
    "a = torch.mm(a, a.t()) + 1e-05 * torch.eye(3)\n",
    "u = torch.linalg.cholesky(a)\n",
    "print(a)\n",
    "print(torch.cholesky_inverse(u))\n",
    "a.inverse()"
   ]
  },
  {
   "cell_type": "code",
   "execution_count": 89,
   "id": "d0f8e1e1",
   "metadata": {},
   "outputs": [
    {
     "name": "stdout",
     "output_type": "stream",
     "text": [
      "tensor([[ 0.6139, -0.6841, -0.9582],\n",
      "        [-0.6841,  2.4637,  0.9090],\n",
      "        [-0.9582,  0.9090,  2.4760]])\n",
      "tensor([[-0.8432,  0.9736],\n",
      "        [ 0.0526,  0.4349],\n",
      "        [ 0.9826,  0.6991]])\n",
      "tensor([[-2.6717,  6.6503],\n",
      "        [-0.5616,  1.1213],\n",
      "        [-0.4309,  2.4443]])\n"
     ]
    },
    {
     "data": {
      "text/plain": [
       "tensor([[-2.6717,  6.6503],\n",
       "        [-0.5616,  1.1213],\n",
       "        [-0.4309,  2.4443]])"
      ]
     },
     "execution_count": 89,
     "metadata": {},
     "output_type": "execute_result"
    }
   ],
   "source": [
    "a = torch.randn(3, 3)\n",
    "a = torch.mm(a, a.t())\n",
    "u = torch.linalg.cholesky(a)\n",
    "print(a)\n",
    "b = torch.randn(3, 2)\n",
    "print(b)\n",
    "print(torch.cholesky_solve(b, u))\n",
    "torch.mm(a.inverse(), b)"
   ]
  },
  {
   "cell_type": "code",
   "execution_count": 90,
   "id": "f4e207d8",
   "metadata": {},
   "outputs": [
    {
     "data": {
      "text/plain": [
       "tensor(7)"
      ]
     },
     "execution_count": 90,
     "metadata": {},
     "output_type": "execute_result"
    }
   ],
   "source": [
    "torch.dot(torch.tensor([2, 3]), torch.tensor([2, 1]))"
   ]
  },
  {
   "cell_type": "code",
   "execution_count": 91,
   "id": "2ab84e54",
   "metadata": {},
   "outputs": [
    {
     "name": "stdout",
     "output_type": "stream",
     "text": [
      "tensor([[1., 0.],\n",
      "        [2., 0.],\n",
      "        [3., 0.]], dtype=torch.float64)\n",
      "tensor([[1., 0., 0.],\n",
      "        [0., 1., 0.],\n",
      "        [0., 0., 1.]], dtype=torch.float64)\n"
     ]
    },
    {
     "name": "stderr",
     "output_type": "stream",
     "text": [
      "<ipython-input-91-4997ffbce4c9>:2: UserWarning: torch.eig is deprecated in favor of torch.linalg.eig and will be removed in a future PyTorch release.\n",
      "torch.linalg.eig returns complex tensors of dtype cfloat or cdouble rather than real tensors mimicking complex tensors.\n",
      "L, _ = torch.eig(A)\n",
      "should be replaced with\n",
      "L_complex = torch.linalg.eigvals(A)\n",
      "and\n",
      "L, V = torch.eig(A, eigenvectors=True)\n",
      "should be replaced with\n",
      "L_complex, V_complex = torch.linalg.eig(A) (Triggered internally at  ..\\aten\\src\\ATen\\native\\BatchLinearAlgebra.cpp:2897.)\n",
      "  e, v = torch.eig(a, eigenvectors=True)\n"
     ]
    }
   ],
   "source": [
    "a = torch.diag(torch.tensor([1, 2, 3], dtype=torch.double))\n",
    "e, v = torch.eig(a, eigenvectors=True)\n",
    "print(e)\n",
    "print(v)"
   ]
  },
  {
   "cell_type": "code",
   "execution_count": 92,
   "id": "0d29a547",
   "metadata": {},
   "outputs": [
    {
     "data": {
      "text/plain": [
       "tensor([[[ 0.3234,  0.2616, -1.5652,  1.0240],\n",
       "         [ 2.1822, -0.0609, -0.6796,  0.0283]],\n",
       "\n",
       "        [[-0.8112,  1.2743, -3.0530, -0.0320],\n",
       "         [ 2.9220,  1.2233, -0.1388,  1.3860]]])"
      ]
     },
     "execution_count": 92,
     "metadata": {},
     "output_type": "execute_result"
    }
   ],
   "source": [
    "a = torch.randn(2, 3)\n",
    "b = torch.randn(2, 4, 3)\n",
    "torch.inner(a, b)"
   ]
  },
  {
   "cell_type": "code",
   "execution_count": 2,
   "id": "edf9fedf",
   "metadata": {},
   "outputs": [
    {
     "name": "stdout",
     "output_type": "stream",
     "text": [
      "tensor(3.4994)\n"
     ]
    },
    {
     "data": {
      "text/plain": [
       "tensor(1.2526)"
      ]
     },
     "execution_count": 2,
     "metadata": {},
     "output_type": "execute_result"
    }
   ],
   "source": [
    "import torch\n",
    "A = torch.randn(3, 3)\n",
    "print(torch.det(A))\n",
    "torch.logdet(A)\n"
   ]
  },
  {
   "cell_type": "code",
   "execution_count": 3,
   "id": "12e22168",
   "metadata": {},
   "outputs": [
    {
     "name": "stderr",
     "output_type": "stream",
     "text": [
      "<ipython-input-3-3707cf384f22>:3: UserWarning: torch.lstsq is deprecated in favor of torch.linalg.lstsq and will be removed in a future PyTorch release.\n",
      "torch.linalg.lstsq has reversed arguments and does not return the QR decomposition in the returned tuple (although it returns other information about the problem).\n",
      "To get the qr decomposition consider using torch.linalg.qr.\n",
      "The returned solution in torch.lstsq stored the residuals of the solution in the last m - n columns of the returned value whenever m > n. In torch.linalg.lstsq, the residuals in the field 'residuals' of the returned named tuple.\n",
      "The unpacking of the solution, as in\n",
      "X, _ = torch.lstsq(B, A).solution[:A.size(1)]\n",
      "should be replaced with\n",
      "X = torch.linalg.lstsq(A, B).solution (Triggered internally at  ..\\aten\\src\\ATen\\LegacyTHFunctionsCPU.cpp:389.)\n",
      "  X, _ = torch.lstsq(B, A)\n"
     ]
    },
    {
     "data": {
      "text/plain": [
       "tensor([[ 2.0588,  0.9167],\n",
       "        [ 1.0784,  1.2500],\n",
       "        [ 0.9216,  1.9167],\n",
       "        [11.8328,  5.5663],\n",
       "        [ 7.9202,  4.5202]])"
      ]
     },
     "execution_count": 3,
     "metadata": {},
     "output_type": "execute_result"
    }
   ],
   "source": [
    "A = torch.tensor([[1., 1, 1], [2, 3, 4], [3, 4, 2], [4, 2, 5], [5, 4, 3]])\n",
    "B = torch.tensor([[-10., -3], [12, 14], [14, 12], [16, 16], [18, 16]])\n",
    "X, _ = torch.lstsq(B, A)\n",
    "X"
   ]
  },
  {
   "cell_type": "code",
   "execution_count": 5,
   "id": "01a2d620",
   "metadata": {},
   "outputs": [
    {
     "name": "stdout",
     "output_type": "stream",
     "text": [
      "tensor([[[ 2.2836,  0.0796, -0.2974],\n",
      "         [-0.1618, -1.4068,  0.6955],\n",
      "         [-0.0404,  0.5324,  0.4007]],\n",
      "\n",
      "        [[-1.3238,  1.2338,  1.3635],\n",
      "         [-0.1920,  0.8411, -0.2419],\n",
      "         [-0.3300,  0.7382, -0.0719]]])\n",
      "tensor([[2, 2, 3],\n",
      "        [2, 3, 3]], dtype=torch.int32)\n"
     ]
    }
   ],
   "source": [
    "A = torch.randn([2, 3, 3])\n",
    "A_LU, pivots = torch.lu(A)\n",
    "print(A_LU)\n",
    "print(pivots)"
   ]
  },
  {
   "cell_type": "code",
   "execution_count": 7,
   "id": "75c6b633",
   "metadata": {},
   "outputs": [
    {
     "data": {
      "text/plain": [
       "tensor(4.6457e-07)"
      ]
     },
     "execution_count": 7,
     "metadata": {},
     "output_type": "execute_result"
    }
   ],
   "source": [
    "A = torch.randn(2, 3, 3)\n",
    "b = torch.randn(2, 3, 1)\n",
    "A_LU = torch.lu(A)\n",
    "x = torch.lu_solve(b, *A_LU)\n",
    "torch.norm(torch.bmm(A, x) - b)"
   ]
  },
  {
   "cell_type": "code",
   "execution_count": 8,
   "id": "4a1e34ab",
   "metadata": {},
   "outputs": [
    {
     "name": "stdout",
     "output_type": "stream",
     "text": [
      "tensor([[[0., 1., 0.],\n",
      "         [0., 0., 1.],\n",
      "         [1., 0., 0.]],\n",
      "\n",
      "        [[0., 1., 0.],\n",
      "         [0., 0., 1.],\n",
      "         [1., 0., 0.]]])\n",
      "tensor([[[ 1.0000,  0.0000],\n",
      "         [ 0.1516,  1.0000],\n",
      "         [ 0.7434,  0.6133]],\n",
      "\n",
      "        [[ 1.0000,  0.0000],\n",
      "         [-0.0315,  1.0000],\n",
      "         [ 0.1857,  0.2281]]])\n",
      "tensor([[[-1.8939,  1.4018],\n",
      "         [ 0.0000, -0.7425]],\n",
      "\n",
      "        [[-1.0344, -0.2556],\n",
      "         [ 0.0000, -1.3223]]])\n"
     ]
    },
    {
     "data": {
      "text/plain": [
       "tensor(6.6640e-08)"
      ]
     },
     "execution_count": 8,
     "metadata": {},
     "output_type": "execute_result"
    }
   ],
   "source": [
    "A = torch.randn(2, 3, 3)\n",
    "A_LU, pivots = A.lu()\n",
    "P, A_L, A_U = torch.lu_unpack(A_LU, pivots)\n",
    "A_ = torch.bmm(P, torch.bmm(A_L, A_U))\n",
    "A = torch.randn(2, 3, 2)\n",
    "A_LU, pivots = A.lu()\n",
    "P, A_L, A_U = torch.lu_unpack(A_LU, pivots)\n",
    "print(P)\n",
    "print(A_L)\n",
    "print(A_U)\n",
    "A_ = torch.bmm(P, torch.bmm(A_L, A_U))\n",
    "torch.norm(A_ - A)"
   ]
  },
  {
   "cell_type": "code",
   "execution_count": 9,
   "id": "0333b197",
   "metadata": {},
   "outputs": [
    {
     "data": {
      "text/plain": [
       "torch.Size([10, 3, 5])"
      ]
     },
     "execution_count": 9,
     "metadata": {},
     "output_type": "execute_result"
    }
   ],
   "source": [
    "tensor1 = torch.randn(10, 3, 4)\n",
    "tensor2 = torch.randn(10, 4, 5)\n",
    "torch.matmul(tensor1, tensor2).size()"
   ]
  },
  {
   "cell_type": "code",
   "execution_count": 10,
   "id": "6869c4bc",
   "metadata": {},
   "outputs": [
    {
     "name": "stderr",
     "output_type": "stream",
     "text": [
      "<ipython-input-10-df604527f356>:2: UserWarning: torch.matrix_rank is deprecated in favor of torch.linalg.matrix_rankand will be removed in a future PyTorch release. The parameter 'symmetric' was renamed in torch.linalg.matrix_rank to 'hermitian'. (Triggered internally at  ..\\aten\\src\\ATen\\native\\LinearAlgebra.cpp:441.)\n",
      "  torch.matrix_rank(a)\n"
     ]
    },
    {
     "data": {
      "text/plain": [
       "tensor(10)"
      ]
     },
     "execution_count": 10,
     "metadata": {},
     "output_type": "execute_result"
    }
   ],
   "source": [
    "a = torch.eye(10)\n",
    "torch.matrix_rank(a)"
   ]
  },
  {
   "cell_type": "code",
   "execution_count": 11,
   "id": "fdfe6f7e",
   "metadata": {},
   "outputs": [
    {
     "data": {
      "text/plain": [
       "tensor([[ 1.3681,  0.3892, -1.3607],\n",
       "        [-2.1028, -0.0811,  1.1854]])"
      ]
     },
     "execution_count": 11,
     "metadata": {},
     "output_type": "execute_result"
    }
   ],
   "source": [
    "mat1 = torch.randn(2, 3)\n",
    "mat2 = torch.randn(3, 3)\n",
    "torch.mm(mat1, mat2)"
   ]
  },
  {
   "cell_type": "code",
   "execution_count": 12,
   "id": "9b105ab4",
   "metadata": {},
   "outputs": [
    {
     "data": {
      "text/plain": [
       "tensor([3.5842, 0.6073])"
      ]
     },
     "execution_count": 12,
     "metadata": {},
     "output_type": "execute_result"
    }
   ],
   "source": [
    "mat = torch.randn(2, 3)\n",
    "vec = torch.randn(3)\n",
    "torch.mv(mat, vec)"
   ]
  },
  {
   "cell_type": "code",
   "execution_count": 14,
   "id": "9908b22b",
   "metadata": {},
   "outputs": [
    {
     "data": {
      "text/plain": [
       "tensor([[ 1.,  2.,  3.],\n",
       "        [ 2.,  4.,  6.],\n",
       "        [ 3.,  6.,  9.],\n",
       "        [ 4.,  8., 12.]])"
      ]
     },
     "execution_count": 14,
     "metadata": {},
     "output_type": "execute_result"
    }
   ],
   "source": [
    "v1 = torch.arange(1., 5.)\n",
    "v2 = torch.arange(1., 4.)\n",
    "torch.outer(v1, v2)"
   ]
  },
  {
   "cell_type": "code",
   "execution_count": 17,
   "id": "1c4c9441",
   "metadata": {},
   "outputs": [
    {
     "data": {
      "text/plain": [
       "torch.return_types.triangular_solve(\n",
       "solution=tensor([[ 3.0443,  4.5957, -0.2567],\n",
       "        [-2.5510, -0.2154, -1.1702]]),\n",
       "cloned_coefficient=tensor([[ 0.3227,  0.0604],\n",
       "        [ 0.0000, -0.4879]]))"
      ]
     },
     "execution_count": 17,
     "metadata": {},
     "output_type": "execute_result"
    }
   ],
   "source": [
    "A = torch.randn(2, 2).triu()\n",
    "b = torch.randn(2,3)\n",
    "torch.triangular_solve(b, A)"
   ]
  },
  {
   "cell_type": "code",
   "execution_count": 18,
   "id": "552b6241",
   "metadata": {},
   "outputs": [
    {
     "data": {
      "text/plain": [
       "tensor(16.+1.j)"
      ]
     },
     "execution_count": 18,
     "metadata": {},
     "output_type": "execute_result"
    }
   ],
   "source": [
    "a = torch.tensor((1 + 2j, 3 - 1j))\n",
    "b = torch.tensor((2 + 1j, 4 - 0j))\n",
    "torch.vdot(a, b)"
   ]
  },
  {
   "cell_type": "code",
   "execution_count": 19,
   "id": "6c3e0ae3",
   "metadata": {},
   "outputs": [
    {
     "data": {
      "text/plain": [
       "torch.float32"
      ]
     },
     "execution_count": 19,
     "metadata": {},
     "output_type": "execute_result"
    }
   ],
   "source": [
    "torch.result_type(torch.tensor([1, 2], dtype=torch.int), 1.0)"
   ]
  },
  {
   "cell_type": "code",
   "execution_count": 21,
   "id": "3fc661db",
   "metadata": {},
   "outputs": [
    {
     "data": {
      "text/plain": [
       "True"
      ]
     },
     "execution_count": 21,
     "metadata": {},
     "output_type": "execute_result"
    }
   ],
   "source": [
    "torch.can_cast(torch.double, torch.float)"
   ]
  },
  {
   "cell_type": "code",
   "execution_count": 22,
   "id": "4bfd0cd2",
   "metadata": {},
   "outputs": [
    {
     "data": {
      "text/plain": [
       "torch.float32"
      ]
     },
     "execution_count": 22,
     "metadata": {},
     "output_type": "execute_result"
    }
   ],
   "source": [
    "torch.promote_types(torch.int32, torch.float32)"
   ]
  },
  {
   "cell_type": "code",
   "execution_count": 23,
   "id": "43ad0d61",
   "metadata": {},
   "outputs": [],
   "source": [
    "import torch.nn as nn\n",
    "import torch.nn.functional as F\n",
    "class Model(nn.Module):\n",
    "    def __init__(self):\n",
    "        super().__init__()\n",
    "        self.conv1 = nn.Conv2d(1, 20, 5)\n",
    "        self.conv2 = nn.Conv2d(20, 20, 5)\n",
    "    def forward(self, x):\n",
    "        x = F.relu(self.conv1(self.x))\n",
    "        return F.relu(self.conv2(x))"
   ]
  },
  {
   "cell_type": "code",
   "execution_count": 24,
   "id": "6aaed14f",
   "metadata": {},
   "outputs": [],
   "source": [
    "model = nn.Sequential(\n",
    "    nn.Conv2d(1, 20, 5),\n",
    "    nn.ReLU(),\n",
    "    nn.Conv2d(20, 64, 5),\n",
    "    nn.ReLU()\n",
    ")"
   ]
  },
  {
   "cell_type": "code",
   "execution_count": 26,
   "id": "8d569635",
   "metadata": {},
   "outputs": [],
   "source": [
    "class MyModule(nn.Module):\n",
    "    def __init__(self):\n",
    "        super(MyModule, self).__init__()\n",
    "        self.linears = nn.ModuleList([nn.Linear(10, 10) for i in range(10)])\n",
    "    def forward(self, x):\n",
    "        for i, l in enumerate(self.linears):\n",
    "            x = self.linears[i // 2](x) + l(x)\n",
    "        return x"
   ]
  },
  {
   "cell_type": "code",
   "execution_count": 27,
   "id": "d293ef00",
   "metadata": {},
   "outputs": [],
   "source": [
    "class MyModule(nn.Module):\n",
    "    def __init__(self):\n",
    "        super(MyModule, self).__init__()\n",
    "        self.choices = nn.ModuleDict({\"conv\":nn.Conv2d(10, 10, 3), \"pool\":nn.MaxPool2d(3)})\n",
    "        self.activations = nn.ModuleDict([\n",
    "            [\"lrelu\", nn.LeakyReLU()],\n",
    "            [\"prelu\", nn.PReLU()]\n",
    "        ])\n",
    "        def forward(self, x, choice, act):\n",
    "            x = self.choices[choice](x)\n",
    "            x = self.activations[act](x)\n",
    "            return x"
   ]
  },
  {
   "cell_type": "code",
   "execution_count": 29,
   "id": "03319faa",
   "metadata": {},
   "outputs": [],
   "source": [
    "class MyModule(nn.Module):\n",
    "    def __init__(self):\n",
    "        super(MyModule, self).__init__()\n",
    "        self.params = nn.ParameterList([nn.Parameter(torch.randn(10, 10)) for i in range(10)])\n",
    "    def forward(self, x):\n",
    "        for i, p in enumerate(self.params):\n",
    "            x = self.params[i // 2].mm(x) + p.mm(x)\n",
    "        return x"
   ]
  },
  {
   "cell_type": "code",
   "execution_count": 31,
   "id": "49d80115",
   "metadata": {},
   "outputs": [],
   "source": [
    "class MyModule(nn.Module):\n",
    "    def __init__(self):\n",
    "        super().__init__()\n",
    "        self.params = nn.ParameterDict({\"left\":nn.ParameterDict(torch.randn(5, 10)), \n",
    "                                        \"right\":nn.Parameter(torch.randn(5, 10))})\n",
    "    def forward(self, x, choice):\n",
    "        x = self.params[choice].mm(x)\n",
    "        return x"
   ]
  },
  {
   "cell_type": "code",
   "execution_count": 32,
   "id": "29da7dde",
   "metadata": {},
   "outputs": [],
   "source": [
    "m = nn.Conv1d(16, 33, 3, stride=2)\n",
    "inputs = torch.randn(20, 16, 50)\n",
    "output = m(inputs)"
   ]
  },
  {
   "cell_type": "code",
   "execution_count": 33,
   "id": "18b1e98d",
   "metadata": {},
   "outputs": [
    {
     "data": {
      "text/plain": [
       "torch.Size([20, 33, 24])"
      ]
     },
     "execution_count": 33,
     "metadata": {},
     "output_type": "execute_result"
    }
   ],
   "source": [
    "output.shape"
   ]
  },
  {
   "cell_type": "code",
   "execution_count": 34,
   "id": "489a994d",
   "metadata": {},
   "outputs": [
    {
     "data": {
      "text/plain": [
       "torch.Size([20, 33, 26, 100])"
      ]
     },
     "execution_count": 34,
     "metadata": {},
     "output_type": "execute_result"
    }
   ],
   "source": [
    "m = nn.Conv2d(16, 33, 3, stride=2)\n",
    "m = nn.Conv2d(16, 33, (3, 5), stride=(2, 1), padding=(4, 2), dilation=(3, 1))\n",
    "inputs = torch.randn(20, 16, 50, 100)\n",
    "m(inputs).shape"
   ]
  },
  {
   "cell_type": "code",
   "execution_count": 35,
   "id": "8e78c7b8",
   "metadata": {},
   "outputs": [
    {
     "data": {
      "text/plain": [
       "torch.Size([20, 33, 8, 80, 99])"
      ]
     },
     "execution_count": 35,
     "metadata": {},
     "output_type": "execute_result"
    }
   ],
   "source": [
    "m = nn.Conv3d(16, 33, (3, 5, 2), stride=(2, 1, 1), padding=(4, 2, 0))\n",
    "inputs = torch.randn(20, 16, 10, 80, 100)\n",
    "m(inputs).shape"
   ]
  },
  {
   "cell_type": "code",
   "execution_count": 36,
   "id": "7c44f312",
   "metadata": {},
   "outputs": [
    {
     "name": "stdout",
     "output_type": "stream",
     "text": [
      "torch.Size([1, 16, 6, 6])\n"
     ]
    },
    {
     "data": {
      "text/plain": [
       "torch.Size([1, 16, 23, 23])"
      ]
     },
     "execution_count": 36,
     "metadata": {},
     "output_type": "execute_result"
    }
   ],
   "source": [
    "downsample = nn.Conv2d(16, 16, 3, stride=2, padding=1)\n",
    "upsample = nn.ConvTranspose2d(16, 16, 3, stride=2, padding=1)\n",
    "imports = torch.randn(1, 16, 12, 12)\n",
    "print(downsample(imports).shape)\n",
    "upsample(imports).shape"
   ]
  },
  {
   "cell_type": "code",
   "execution_count": 37,
   "id": "0cc37279",
   "metadata": {},
   "outputs": [
    {
     "data": {
      "text/plain": [
       "torch.Size([20, 33, 21, 46, 97])"
      ]
     },
     "execution_count": 37,
     "metadata": {},
     "output_type": "execute_result"
    }
   ],
   "source": [
    "m = nn.ConvTranspose3d(16, 33, (3, 5, 2), stride=(2, 1, 1), padding=(0, 4, 2))\n",
    "inputs = torch.randn(20, 16, 10, 50, 100)\n",
    "m(inputs).shape"
   ]
  },
  {
   "cell_type": "code",
   "execution_count": 42,
   "id": "ec104f86",
   "metadata": {},
   "outputs": [
    {
     "data": {
      "text/plain": [
       "torch.Size([2, 36, 4])"
      ]
     },
     "execution_count": 42,
     "metadata": {},
     "output_type": "execute_result"
    }
   ],
   "source": [
    "unfold = nn.Unfold(kernel_size=(2, 3))\n",
    "input = torch.randn(2, 6, 3, 4)\n",
    "output = unfold(input)\n",
    "output.size()"
   ]
  },
  {
   "cell_type": "code",
   "execution_count": 43,
   "id": "bf414cdf",
   "metadata": {},
   "outputs": [
    {
     "data": {
      "text/plain": [
       "torch.Size([1, 3, 4, 5])"
      ]
     },
     "execution_count": 43,
     "metadata": {},
     "output_type": "execute_result"
    }
   ],
   "source": [
    "fold = nn.Fold(output_size=(4, 5), kernel_size=(2, 2))\n",
    "inputs = torch.randn(1, 3 * 2 * 2, 12)\n",
    "fold(inputs).shape"
   ]
  },
  {
   "cell_type": "code",
   "execution_count": 45,
   "id": "69237fee",
   "metadata": {},
   "outputs": [
    {
     "data": {
      "text/plain": [
       "torch.Size([20, 16, 24])"
      ]
     },
     "execution_count": 45,
     "metadata": {},
     "output_type": "execute_result"
    }
   ],
   "source": [
    "m = nn.MaxPool1d(3, stride=2)\n",
    "inputs = torch.randn(20, 16, 50)\n",
    "m(inputs).shape"
   ]
  },
  {
   "cell_type": "code",
   "execution_count": 46,
   "id": "0f21c362",
   "metadata": {},
   "outputs": [
    {
     "data": {
      "text/plain": [
       "torch.Size([20, 16, 24, 16])"
      ]
     },
     "execution_count": 46,
     "metadata": {},
     "output_type": "execute_result"
    }
   ],
   "source": [
    "m = nn.MaxPool2d((3, 2), stride=2)\n",
    "inputs = torch.randn(20, 16, 50, 32)\n",
    "m(inputs).shape"
   ]
  },
  {
   "cell_type": "code",
   "execution_count": 48,
   "id": "c32ad308",
   "metadata": {},
   "outputs": [
    {
     "data": {
      "text/plain": [
       "torch.Size([20, 16, 24, 43, 15])"
      ]
     },
     "execution_count": 48,
     "metadata": {},
     "output_type": "execute_result"
    }
   ],
   "source": [
    "m = nn.MaxPool3d((3, 2, 2), stride=(2, 1, 2))\n",
    "inputs = torch.randn(20, 16, 50, 44, 31)\n",
    "m(inputs).shape"
   ]
  },
  {
   "cell_type": "code",
   "execution_count": 49,
   "id": "dfdf4a36",
   "metadata": {},
   "outputs": [
    {
     "data": {
      "text/plain": [
       "tensor([[[0., 2., 0., 4., 0., 6., 0., 8.]]])"
      ]
     },
     "execution_count": 49,
     "metadata": {},
     "output_type": "execute_result"
    }
   ],
   "source": [
    "pool = nn.MaxPool1d(2, stride=2, return_indices=True)\n",
    "unpool = nn.MaxUnpool1d(2, stride=2)\n",
    "inputs = torch.tensor([[[1., 2, 3, 4, 5, 6, 7, 8]]])\n",
    "output, indices = pool(inputs)\n",
    "unpool(output, indices)"
   ]
  },
  {
   "cell_type": "code",
   "execution_count": 51,
   "id": "ad842e82",
   "metadata": {},
   "outputs": [
    {
     "data": {
      "text/plain": [
       "torch.Size([2, 6, 2, 4])"
      ]
     },
     "execution_count": 51,
     "metadata": {},
     "output_type": "execute_result"
    }
   ],
   "source": [
    "pool = nn.MaxPool2d(2, stride=2, return_indices=True)\n",
    "unpool = nn.MaxUnpool2d(2, stride=2)\n",
    "inputs = torch.tensor([[[[1., 2., 3., 4.], [5., 6., 7., 8.], [9., 10., 11., 12.], [13., 14., 15., 16.]]]])\n",
    "output, indices = pool(input)\n",
    "unpool(output, indices).shape"
   ]
  },
  {
   "cell_type": "code",
   "execution_count": 52,
   "id": "f365d6ac",
   "metadata": {},
   "outputs": [
    {
     "data": {
      "text/plain": [
       "torch.Size([20, 16, 51, 33, 15])"
      ]
     },
     "execution_count": 52,
     "metadata": {},
     "output_type": "execute_result"
    }
   ],
   "source": [
    "pool = nn.MaxPool3d(3, stride=2, return_indices=True)\n",
    "unpool = nn.MaxUnpool3d(3, stride=2)\n",
    "output, indices = pool(torch.randn(20, 16, 51, 33, 15))\n",
    "unpool(output, indices).shape"
   ]
  },
  {
   "cell_type": "code",
   "execution_count": 53,
   "id": "c38eaad5",
   "metadata": {},
   "outputs": [
    {
     "data": {
      "text/plain": [
       "tensor([[[2., 4., 6.]]])"
      ]
     },
     "execution_count": 53,
     "metadata": {},
     "output_type": "execute_result"
    }
   ],
   "source": [
    "m = nn.AvgPool1d(3, stride=2)\n",
    "m(torch.tensor([[[1., 2, 3, 4, 5, 6, 7]]]))"
   ]
  },
  {
   "cell_type": "code",
   "execution_count": 55,
   "id": "5ff9f96f",
   "metadata": {},
   "outputs": [
    {
     "data": {
      "text/plain": [
       "torch.Size([20, 16, 24, 31])"
      ]
     },
     "execution_count": 55,
     "metadata": {},
     "output_type": "execute_result"
    }
   ],
   "source": [
    "m = nn.AvgPool2d(3, stride=2)\n",
    "m = nn.AvgPool2d((3, 2), stride=(2, 1))\n",
    "m(torch.randn(20, 16, 50, 32)).shape"
   ]
  },
  {
   "cell_type": "code",
   "execution_count": 56,
   "id": "9d049c22",
   "metadata": {},
   "outputs": [
    {
     "data": {
      "text/plain": [
       "torch.Size([20, 16, 24, 43, 15])"
      ]
     },
     "execution_count": 56,
     "metadata": {},
     "output_type": "execute_result"
    }
   ],
   "source": [
    "m = nn.AvgPool3d((3, 2, 2), stride=(2, 1, 2))\n",
    "inputs = torch.randn(20, 16, 50, 44, 31)\n",
    "output = m(inputs)\n",
    "output.shape"
   ]
  },
  {
   "cell_type": "code",
   "execution_count": 57,
   "id": "86829042",
   "metadata": {},
   "outputs": [
    {
     "data": {
      "text/plain": [
       "torch.Size([20, 16, 25, 16])"
      ]
     },
     "execution_count": 57,
     "metadata": {},
     "output_type": "execute_result"
    }
   ],
   "source": [
    "m = nn.FractionalMaxPool2d(3, output_ratio=(0.5, 0.5))\n",
    "input = torch.randn(20, 16, 50, 32)\n",
    "m(input).shape"
   ]
  },
  {
   "cell_type": "code",
   "execution_count": 58,
   "id": "6da7f1bd",
   "metadata": {},
   "outputs": [
    {
     "data": {
      "text/plain": [
       "torch.Size([20, 16, 25, 16, 8])"
      ]
     },
     "execution_count": 58,
     "metadata": {},
     "output_type": "execute_result"
    }
   ],
   "source": [
    "m = nn.FractionalMaxPool3d(3, output_ratio=(0.5, 0.5, 0.5))\n",
    "input = torch.randn(20, 16, 50, 32, 16)\n",
    "m(input).shape"
   ]
  },
  {
   "cell_type": "code",
   "execution_count": 59,
   "id": "9d6e4013",
   "metadata": {},
   "outputs": [
    {
     "data": {
      "text/plain": [
       "torch.Size([20, 16, 24])"
      ]
     },
     "execution_count": 59,
     "metadata": {},
     "output_type": "execute_result"
    }
   ],
   "source": [
    "m = nn.LPPool1d(2, 3, stride=2)\n",
    "inputs = torch.randn(20, 16, 50)\n",
    "m(inputs).shape"
   ]
  },
  {
   "cell_type": "code",
   "execution_count": 60,
   "id": "541337c2",
   "metadata": {},
   "outputs": [
    {
     "data": {
      "text/plain": [
       "torch.Size([20, 16, 24, 31])"
      ]
     },
     "execution_count": 60,
     "metadata": {},
     "output_type": "execute_result"
    }
   ],
   "source": [
    "m = nn.LPPool2d(2, 3, stride=2)\n",
    "m = nn.LPPool2d(1.2, (3, 2), stride=(2, 1))\n",
    "inputs = torch.randn(20, 16, 50, 32)\n",
    "m(inputs).shape"
   ]
  },
  {
   "cell_type": "code",
   "execution_count": 61,
   "id": "0c6e140f",
   "metadata": {},
   "outputs": [
    {
     "data": {
      "text/plain": [
       "torch.Size([1, 64, 5])"
      ]
     },
     "execution_count": 61,
     "metadata": {},
     "output_type": "execute_result"
    }
   ],
   "source": [
    "m = nn.AdaptiveMaxPool1d(5)\n",
    "inputs = torch.randn(1, 64, 8)\n",
    "m(inputs).shape"
   ]
  },
  {
   "cell_type": "code",
   "execution_count": 62,
   "id": "40f4dcc6",
   "metadata": {},
   "outputs": [
    {
     "data": {
      "text/plain": [
       "torch.Size([1, 64, 5, 7])"
      ]
     },
     "execution_count": 62,
     "metadata": {},
     "output_type": "execute_result"
    }
   ],
   "source": [
    "m = nn.AdaptiveMaxPool2d((5, 7))\n",
    "inputs = torch.randn(1, 64, 8, 9)\n",
    "m(inputs).shape"
   ]
  },
  {
   "cell_type": "code",
   "execution_count": 64,
   "id": "c48c45ff",
   "metadata": {},
   "outputs": [
    {
     "data": {
      "text/plain": [
       "torch.Size([1, 64, 5, 7, 9])"
      ]
     },
     "execution_count": 64,
     "metadata": {},
     "output_type": "execute_result"
    }
   ],
   "source": [
    "m = nn.AdaptiveMaxPool3d((5, 7, 9))\n",
    "inputs = torch.randn(1, 64, 8, 9, 10)\n",
    "m(inputs).shape"
   ]
  },
  {
   "cell_type": "code",
   "execution_count": 65,
   "id": "f32c1a13",
   "metadata": {},
   "outputs": [
    {
     "data": {
      "text/plain": [
       "torch.Size([1, 64, 5])"
      ]
     },
     "execution_count": 65,
     "metadata": {},
     "output_type": "execute_result"
    }
   ],
   "source": [
    "m = nn.AdaptiveAvgPool1d(5)\n",
    "inputs = torch.randn(1, 64, 8)\n",
    "m(inputs).shape"
   ]
  },
  {
   "cell_type": "code",
   "execution_count": 66,
   "id": "dcf823bf",
   "metadata": {},
   "outputs": [
    {
     "data": {
      "text/plain": [
       "torch.Size([1, 64, 5, 7])"
      ]
     },
     "execution_count": 66,
     "metadata": {},
     "output_type": "execute_result"
    }
   ],
   "source": [
    "m = nn.AdaptiveAvgPool2d((5, 7))\n",
    "inputs = torch.randn(1, 64, 8, 9)\n",
    "m(inputs).shape"
   ]
  },
  {
   "cell_type": "code",
   "execution_count": 67,
   "id": "926dd6c2",
   "metadata": {},
   "outputs": [
    {
     "data": {
      "text/plain": [
       "torch.Size([1, 64, 5, 7, 9])"
      ]
     },
     "execution_count": 67,
     "metadata": {},
     "output_type": "execute_result"
    }
   ],
   "source": [
    "m = nn.AdaptiveAvgPool3d((5, 7, 9))\n",
    "inputs = torch.randn(1, 64, 8, 9, 10)\n",
    "m(inputs).shape"
   ]
  },
  {
   "cell_type": "code",
   "execution_count": 68,
   "id": "b201dd12",
   "metadata": {},
   "outputs": [
    {
     "data": {
      "text/plain": [
       "tensor([[[2., 1., 0., 1., 2., 3., 2., 1.],\n",
       "         [6., 5., 4., 5., 6., 7., 6., 5.]]])"
      ]
     },
     "execution_count": 68,
     "metadata": {},
     "output_type": "execute_result"
    }
   ],
   "source": [
    "m = nn.ReflectionPad1d(2)\n",
    "inputs = torch.arange(8, dtype=torch.float).reshape(1, 2, 4)\n",
    "m(inputs)"
   ]
  },
  {
   "cell_type": "code",
   "execution_count": 69,
   "id": "b45e7f13",
   "metadata": {},
   "outputs": [
    {
     "data": {
      "text/plain": [
       "torch.Size([1, 1, 7, 7])"
      ]
     },
     "execution_count": 69,
     "metadata": {},
     "output_type": "execute_result"
    }
   ],
   "source": [
    "m = nn.ReflectionPad2d(2)\n",
    "inputs = torch.arange(9, dtype=torch.float).reshape(1, 1, 3, 3)\n",
    "m(inputs).shape"
   ]
  },
  {
   "cell_type": "code",
   "execution_count": 71,
   "id": "d2b6c2c5",
   "metadata": {},
   "outputs": [
    {
     "data": {
      "text/plain": [
       "tensor([[[0., 0., 0., 1., 2., 3., 3., 3.],\n",
       "         [4., 4., 4., 5., 6., 7., 7., 7.]]])"
      ]
     },
     "execution_count": 71,
     "metadata": {},
     "output_type": "execute_result"
    }
   ],
   "source": [
    "m = nn.ReplicationPad1d(2)\n",
    "inputs = torch.arange(8, dtype=torch.float).reshape(1, 2, 4)\n",
    "m(inputs)"
   ]
  },
  {
   "cell_type": "code",
   "execution_count": 73,
   "id": "066aba44",
   "metadata": {},
   "outputs": [
    {
     "data": {
      "text/plain": [
       "tensor([[[[0., 0., 1., 2., 2.],\n",
       "          [0., 0., 1., 2., 2.],\n",
       "          [0., 0., 1., 2., 2.],\n",
       "          [3., 3., 4., 5., 5.],\n",
       "          [6., 6., 7., 8., 8.]]]])"
      ]
     },
     "execution_count": 73,
     "metadata": {},
     "output_type": "execute_result"
    }
   ],
   "source": [
    "m = nn.ReplicationPad2d((1, 1, 2, 0))\n",
    "inputs = torch.arange(9, dtype=torch.float).reshape(1, 1, 3, 3)\n",
    "m(inputs)"
   ]
  },
  {
   "cell_type": "code",
   "execution_count": 75,
   "id": "f3c7661d",
   "metadata": {},
   "outputs": [
    {
     "data": {
      "text/plain": [
       "torch.Size([16, 3, 14, 326, 486])"
      ]
     },
     "execution_count": 75,
     "metadata": {},
     "output_type": "execute_result"
    }
   ],
   "source": [
    "m = nn.ReplicationPad3d(3)\n",
    "inputs = torch.randn(16, 3, 8, 320, 480)\n",
    "m(inputs).shape"
   ]
  },
  {
   "cell_type": "code",
   "execution_count": 76,
   "id": "d5b5d695",
   "metadata": {},
   "outputs": [
    {
     "data": {
      "text/plain": [
       "torch.Size([1, 1, 7, 7])"
      ]
     },
     "execution_count": 76,
     "metadata": {},
     "output_type": "execute_result"
    }
   ],
   "source": [
    "m = nn.ZeroPad2d(2)\n",
    "inputs = torch.randn(1, 1, 3, 3)\n",
    "m(inputs).shape"
   ]
  },
  {
   "cell_type": "code",
   "execution_count": 77,
   "id": "27d83e02",
   "metadata": {},
   "outputs": [
    {
     "data": {
      "text/plain": [
       "tensor([[[ 3.5000,  3.5000,  0.3589, -0.1483,  0.6900, -1.2621,  3.5000,\n",
       "           3.5000],\n",
       "         [ 3.5000,  3.5000, -0.3293,  0.0299, -0.0558, -0.9512,  3.5000,\n",
       "           3.5000]]])"
      ]
     },
     "execution_count": 77,
     "metadata": {},
     "output_type": "execute_result"
    }
   ],
   "source": [
    "m = nn.ConstantPad1d(2, 3.5)\n",
    "inputs = torch.randn(1, 2, 4)\n",
    "m(inputs)"
   ]
  },
  {
   "cell_type": "code",
   "execution_count": 81,
   "id": "fcf8353b",
   "metadata": {},
   "outputs": [
    {
     "data": {
      "text/plain": [
       "tensor([[[ 3.5000,  3.5000,  3.5000,  3.5000,  3.5000],\n",
       "         [ 3.5000,  3.5000,  3.5000,  3.5000,  3.5000],\n",
       "         [ 3.5000,  3.5000,  3.5000,  0.1652, -0.6606],\n",
       "         [ 3.5000,  3.5000,  3.5000, -0.5096,  0.2373],\n",
       "         [ 3.5000,  3.5000,  3.5000,  3.5000,  3.5000]]])"
      ]
     },
     "execution_count": 81,
     "metadata": {},
     "output_type": "execute_result"
    }
   ],
   "source": [
    "m = nn.ConstantPad2d((3, 0, 2, 1), 3.5)\n",
    "inputs = torch.randn(1, 2, 2)\n",
    "m(inputs)"
   ]
  },
  {
   "cell_type": "code",
   "execution_count": 82,
   "id": "944e018a",
   "metadata": {},
   "outputs": [
    {
     "data": {
      "text/plain": [
       "torch.Size([16, 3, 16, 26, 36])"
      ]
     },
     "execution_count": 82,
     "metadata": {},
     "output_type": "execute_result"
    }
   ],
   "source": [
    "m = nn.ConstantPad3d(3, 3.5)\n",
    "inputs = torch.randn(16, 3, 10, 20, 30)\n",
    "m(inputs).shape"
   ]
  },
  {
   "cell_type": "code",
   "execution_count": 84,
   "id": "f3b54ab0",
   "metadata": {},
   "outputs": [
    {
     "data": {
      "text/plain": [
       "tensor([-0.1375,  0.1691])"
      ]
     },
     "execution_count": 84,
     "metadata": {},
     "output_type": "execute_result"
    }
   ],
   "source": [
    "m = nn.ELU()\n",
    "inputs = torch.randn(2)\n",
    "m(inputs)"
   ]
  },
  {
   "cell_type": "code",
   "execution_count": 85,
   "id": "327236c8",
   "metadata": {},
   "outputs": [
    {
     "data": {
      "text/plain": [
       "tensor([ 0.5280, -1.4910])"
      ]
     },
     "execution_count": 85,
     "metadata": {},
     "output_type": "execute_result"
    }
   ],
   "source": [
    "m = nn.Hardshrink()\n",
    "input = torch.randn(2)\n",
    "m(input)"
   ]
  },
  {
   "cell_type": "code",
   "execution_count": 86,
   "id": "d7e0d1a6",
   "metadata": {},
   "outputs": [
    {
     "data": {
      "text/plain": [
       "tensor([0.4791, 0.4177])"
      ]
     },
     "execution_count": 86,
     "metadata": {},
     "output_type": "execute_result"
    }
   ],
   "source": [
    "m = nn.Hardsigmoid()\n",
    "inputs = torch.randn(2)\n",
    "m(inputs)"
   ]
  },
  {
   "cell_type": "code",
   "execution_count": 87,
   "id": "218d086f",
   "metadata": {},
   "outputs": [
    {
     "data": {
      "text/plain": [
       "tensor([-0.2508,  1.8700])"
      ]
     },
     "execution_count": 87,
     "metadata": {},
     "output_type": "execute_result"
    }
   ],
   "source": [
    "m = nn.Hardtanh(-2, 2)\n",
    "inputs = torch.randn(2)\n",
    "m(inputs)"
   ]
  },
  {
   "cell_type": "code",
   "execution_count": 88,
   "id": "3868de04",
   "metadata": {},
   "outputs": [
    {
     "data": {
      "text/plain": [
       "tensor([-0.2669, -0.1060])"
      ]
     },
     "execution_count": 88,
     "metadata": {},
     "output_type": "execute_result"
    }
   ],
   "source": [
    "m = nn.Hardswish()\n",
    "inputs = torch.randn(2)\n",
    "m(inputs)"
   ]
  },
  {
   "cell_type": "code",
   "execution_count": 90,
   "id": "29ed15e1",
   "metadata": {},
   "outputs": [
    {
     "data": {
      "text/plain": [
       "tensor([ 0.6447, -0.1860])"
      ]
     },
     "execution_count": 90,
     "metadata": {},
     "output_type": "execute_result"
    }
   ],
   "source": [
    "m = nn.LeakyReLU(0.1)\n",
    "inputs = torch.randn(2)\n",
    "m(inputs)"
   ]
  },
  {
   "cell_type": "code",
   "execution_count": 91,
   "id": "36c0135c",
   "metadata": {},
   "outputs": [
    {
     "data": {
      "text/plain": [
       "tensor([-2.1207, -1.6190])"
      ]
     },
     "execution_count": 91,
     "metadata": {},
     "output_type": "execute_result"
    }
   ],
   "source": [
    "m = nn.LogSigmoid()\n",
    "inputs = torch.randn(2)\n",
    "m(inputs)"
   ]
  },
  {
   "cell_type": "code",
   "execution_count": 92,
   "id": "bccc4dfe",
   "metadata": {},
   "outputs": [
    {
     "data": {
      "text/plain": [
       "tensor([-0.3178, -0.0081], grad_fn=<PreluBackward>)"
      ]
     },
     "execution_count": 92,
     "metadata": {},
     "output_type": "execute_result"
    }
   ],
   "source": [
    "m = nn.PReLU()\n",
    "inputs = torch.randn(2)\n",
    "m(inputs)"
   ]
  },
  {
   "cell_type": "code",
   "execution_count": 93,
   "id": "9fa1a8c6",
   "metadata": {},
   "outputs": [
    {
     "data": {
      "text/plain": [
       "tensor([1.1494, 0.0050])"
      ]
     },
     "execution_count": 93,
     "metadata": {},
     "output_type": "execute_result"
    }
   ],
   "source": [
    "m = nn.ReLU()\n",
    "inputs = torch.randn(2)\n",
    "m(inputs)"
   ]
  },
  {
   "cell_type": "code",
   "execution_count": 94,
   "id": "081207f4",
   "metadata": {},
   "outputs": [
    {
     "data": {
      "text/plain": [
       "tensor([0.0000, 0.4635])"
      ]
     },
     "execution_count": 94,
     "metadata": {},
     "output_type": "execute_result"
    }
   ],
   "source": [
    "m = nn.ReLU6()\n",
    "inputs = torch.randn(2)\n",
    "m(inputs)"
   ]
  },
  {
   "cell_type": "code",
   "execution_count": 98,
   "id": "002bf393",
   "metadata": {},
   "outputs": [
    {
     "data": {
      "text/plain": [
       "tensor([-0.2478, -0.1477])"
      ]
     },
     "execution_count": 98,
     "metadata": {},
     "output_type": "execute_result"
    }
   ],
   "source": [
    "m = nn.RReLU(0.1, 0.3)\n",
    "inputs = torch.randn(2)\n",
    "m(inputs)"
   ]
  },
  {
   "cell_type": "code",
   "execution_count": 99,
   "id": "4283777e",
   "metadata": {},
   "outputs": [
    {
     "data": {
      "text/plain": [
       "tensor([-1.5427, -0.0530])"
      ]
     },
     "execution_count": 99,
     "metadata": {},
     "output_type": "execute_result"
    }
   ],
   "source": [
    "m = nn.SELU()\n",
    "inputs = torch.randn(2)\n",
    "m(inputs)"
   ]
  },
  {
   "cell_type": "code",
   "execution_count": 101,
   "id": "3edeeed4",
   "metadata": {},
   "outputs": [
    {
     "data": {
      "text/plain": [
       "tensor([-0.8775, -0.0301])"
      ]
     },
     "execution_count": 101,
     "metadata": {},
     "output_type": "execute_result"
    }
   ],
   "source": [
    "m = nn.CELU()\n",
    "m(inputs)"
   ]
  },
  {
   "cell_type": "code",
   "execution_count": 102,
   "id": "f5050c74",
   "metadata": {},
   "outputs": [
    {
     "data": {
      "text/plain": [
       "tensor([ 1.8233, -0.0870])"
      ]
     },
     "execution_count": 102,
     "metadata": {},
     "output_type": "execute_result"
    }
   ],
   "source": [
    "m = nn.GELU()\n",
    "inputs = torch.randn(2)\n",
    "m(inputs)"
   ]
  },
  {
   "cell_type": "code",
   "execution_count": 103,
   "id": "9dea831a",
   "metadata": {},
   "outputs": [
    {
     "data": {
      "text/plain": [
       "tensor([0.9031, 0.8327])"
      ]
     },
     "execution_count": 103,
     "metadata": {},
     "output_type": "execute_result"
    }
   ],
   "source": [
    "m = nn.Sigmoid()\n",
    "inputs = torch.randn(2)\n",
    "m(inputs)"
   ]
  },
  {
   "cell_type": "code",
   "execution_count": 104,
   "id": "004a430c",
   "metadata": {},
   "outputs": [
    {
     "data": {
      "text/plain": [
       "tensor([-0.2669,  0.3330])"
      ]
     },
     "execution_count": 104,
     "metadata": {},
     "output_type": "execute_result"
    }
   ],
   "source": [
    "m = nn.SiLU()\n",
    "inputs = torch.randn(2)\n",
    "m(inputs)"
   ]
  },
  {
   "cell_type": "code",
   "execution_count": 105,
   "id": "ab813204",
   "metadata": {},
   "outputs": [
    {
     "data": {
      "text/plain": [
       "tensor([-0.3017,  0.4013])"
      ]
     },
     "execution_count": 105,
     "metadata": {},
     "output_type": "execute_result"
    }
   ],
   "source": [
    "m = nn.Mish()\n",
    "m(inputs)"
   ]
  },
  {
   "cell_type": "code",
   "execution_count": 107,
   "id": "23169c64",
   "metadata": {},
   "outputs": [
    {
     "data": {
      "text/plain": [
       "tensor([0.3204, 0.9924])"
      ]
     },
     "execution_count": 107,
     "metadata": {},
     "output_type": "execute_result"
    }
   ],
   "source": [
    "m = nn.Softplus()\n",
    "m(inputs)"
   ]
  },
  {
   "cell_type": "code",
   "execution_count": 108,
   "id": "2688461c",
   "metadata": {},
   "outputs": [
    {
     "data": {
      "text/plain": [
       "tensor([-0.4738,  0.0292])"
      ]
     },
     "execution_count": 108,
     "metadata": {},
     "output_type": "execute_result"
    }
   ],
   "source": [
    "m = nn.Softshrink()\n",
    "m(inputs)"
   ]
  },
  {
   "cell_type": "code",
   "execution_count": 109,
   "id": "4facbf06",
   "metadata": {},
   "outputs": [
    {
     "data": {
      "text/plain": [
       "tensor([-0.1489,  0.6529])"
      ]
     },
     "execution_count": 109,
     "metadata": {},
     "output_type": "execute_result"
    }
   ],
   "source": [
    "m = nn.Softsign()\n",
    "inputs = torch.randn(2)\n",
    "m(inputs)"
   ]
  },
  {
   "cell_type": "code",
   "execution_count": 111,
   "id": "fe7bca47",
   "metadata": {},
   "outputs": [
    {
     "data": {
      "text/plain": [
       "tensor([-0.1733,  0.9546])"
      ]
     },
     "execution_count": 111,
     "metadata": {},
     "output_type": "execute_result"
    }
   ],
   "source": [
    "m = nn.Tanh()\n",
    "m(inputs)"
   ]
  },
  {
   "cell_type": "code",
   "execution_count": 112,
   "id": "b7c47d0b",
   "metadata": {},
   "outputs": [
    {
     "data": {
      "text/plain": [
       "tensor([-0.0245,  0.4748])"
      ]
     },
     "execution_count": 112,
     "metadata": {},
     "output_type": "execute_result"
    }
   ],
   "source": [
    "m = nn.Tanhshrink()\n",
    "inputs = torch.randn(2)\n",
    "m(inputs)"
   ]
  },
  {
   "cell_type": "code",
   "execution_count": 113,
   "id": "0bb71f06",
   "metadata": {},
   "outputs": [
    {
     "data": {
      "text/plain": [
       "tensor([20.0000,  1.3485])"
      ]
     },
     "execution_count": 113,
     "metadata": {},
     "output_type": "execute_result"
    }
   ],
   "source": [
    "m = nn.Threshold(0.1, 20)\n",
    "m(inputs)"
   ]
  },
  {
   "cell_type": "code",
   "execution_count": 114,
   "id": "fcb94256",
   "metadata": {},
   "outputs": [
    {
     "data": {
      "text/plain": [
       "tensor([-0.3405])"
      ]
     },
     "execution_count": 114,
     "metadata": {},
     "output_type": "execute_result"
    }
   ],
   "source": [
    "m = nn.GLU()\n",
    "m(inputs)"
   ]
  },
  {
   "cell_type": "code",
   "execution_count": 115,
   "id": "0cdb60e1",
   "metadata": {},
   "outputs": [
    {
     "name": "stderr",
     "output_type": "stream",
     "text": [
      "<ipython-input-115-0a067ed384ef>:2: UserWarning: Implicit dimension choice for softmin has been deprecated. Change the call to include dim=X as an argument.\n",
      "  m(inputs)\n"
     ]
    },
    {
     "data": {
      "text/plain": [
       "tensor([0.8554, 0.1446])"
      ]
     },
     "execution_count": 115,
     "metadata": {},
     "output_type": "execute_result"
    }
   ],
   "source": [
    "m = nn.Softmin()\n",
    "m(inputs)"
   ]
  },
  {
   "cell_type": "code",
   "execution_count": 118,
   "id": "f77e213d",
   "metadata": {},
   "outputs": [
    {
     "data": {
      "text/plain": [
       "tensor([[0.3163, 0.4812, 0.2025],\n",
       "        [0.5772, 0.2090, 0.2138]])"
      ]
     },
     "execution_count": 118,
     "metadata": {},
     "output_type": "execute_result"
    }
   ],
   "source": [
    "m = nn.Softmax(dim=1)\n",
    "input = torch.randn(2, 3)\n",
    "output = m(input)\n",
    "output"
   ]
  },
  {
   "cell_type": "code",
   "execution_count": 119,
   "id": "5e7177ed",
   "metadata": {},
   "outputs": [],
   "source": [
    "m = nn.Softmax2d()\n",
    "inputs = torch.randn(2, 3, 12, 13)\n",
    "output = m(inputs)"
   ]
  },
  {
   "cell_type": "code",
   "execution_count": 120,
   "id": "7c711deb",
   "metadata": {},
   "outputs": [
    {
     "name": "stderr",
     "output_type": "stream",
     "text": [
      "<ipython-input-120-ebee4868ad3c>:3: UserWarning: Implicit dimension choice for log_softmax has been deprecated. Change the call to include dim=X as an argument.\n",
      "  output = m(inputs)\n"
     ]
    }
   ],
   "source": [
    "m = nn.LogSoftmax()\n",
    "inputs = torch.randn(2, 3)\n",
    "output = m(inputs)"
   ]
  },
  {
   "cell_type": "code",
   "execution_count": 122,
   "id": "b38e426a",
   "metadata": {},
   "outputs": [],
   "source": [
    "m = nn.BatchNorm1d(100)\n",
    "input = torch.randn(20, 100)\n",
    "output = m(input)"
   ]
  },
  {
   "cell_type": "code",
   "execution_count": 123,
   "id": "16ff0adf",
   "metadata": {},
   "outputs": [],
   "source": [
    "m = nn.BatchNorm2d(100)\n",
    "inputs = torch.randn(20, 100, 35, 45)\n",
    "output = m(inputs)"
   ]
  },
  {
   "cell_type": "code",
   "execution_count": 125,
   "id": "39406111",
   "metadata": {},
   "outputs": [],
   "source": [
    "m = nn.BatchNorm3d(100)\n",
    "inputs = torch.randn(20, 100, 35, 45, 10)\n",
    "output = m(inputs)"
   ]
  },
  {
   "cell_type": "code",
   "execution_count": 126,
   "id": "555c9c0e",
   "metadata": {},
   "outputs": [],
   "source": [
    "inputs = torch.randn(20, 6, 10, 10)\n",
    "m = nn.GroupNorm(1, 6)\n",
    "output = m(inputs)"
   ]
  },
  {
   "cell_type": "code",
   "execution_count": 127,
   "id": "1d90f05a",
   "metadata": {},
   "outputs": [],
   "source": [
    "m = nn.InstanceNorm1d(100)\n",
    "inputs = torch.randn(20, 100, 40)\n",
    "output = m(inputs)"
   ]
  },
  {
   "cell_type": "code",
   "execution_count": 128,
   "id": "ac5fd8ad",
   "metadata": {},
   "outputs": [],
   "source": [
    "m = nn.InstanceNorm2d(100)\n",
    "inputs = torch.randn(20, 100, 35, 45)\n",
    "output = m(inputs)"
   ]
  },
  {
   "cell_type": "code",
   "execution_count": 129,
   "id": "dcd1a34e",
   "metadata": {},
   "outputs": [],
   "source": [
    "m = nn.InstanceNorm3d(100, affine=True)\n",
    "inputs =torch.randn(20, 100, 35, 45, 10)\n",
    "output = m(inputs)"
   ]
  },
  {
   "cell_type": "code",
   "execution_count": 130,
   "id": "a77312a1",
   "metadata": {},
   "outputs": [],
   "source": [
    "N, C, H, W = 20, 5, 10, 10\n",
    "inputs = torch.randn(N, C, H, W)\n",
    "layer_norm = nn.LayerNorm([C, H, W])\n",
    "output = layer_norm(inputs)"
   ]
  },
  {
   "cell_type": "code",
   "execution_count": 131,
   "id": "3d8b4d99",
   "metadata": {},
   "outputs": [],
   "source": [
    "lrn = nn.LocalResponseNorm(2)\n",
    "signal_2d = torch.randn(32, 5, 24, 24)\n",
    "signal_4d = torch.randn(16, 5, 7, 7, 7, 7)\n",
    "output_2d = lrn(signal_2d)\n",
    "output_4d = lrn(signal_4d)"
   ]
  },
  {
   "cell_type": "code",
   "execution_count": 133,
   "id": "9237fed9",
   "metadata": {},
   "outputs": [
    {
     "name": "stdout",
     "output_type": "stream",
     "text": [
      "torch.Size([5, 3, 20])\n",
      "torch.Size([2, 3, 20])\n"
     ]
    }
   ],
   "source": [
    "rnn = nn.RNN(10, 20, 2)\n",
    "input = torch.randn(5, 3, 10)\n",
    "h0 = torch.randn(2, 3, 20)\n",
    "output, hn = rnn(input, h0)\n",
    "print(output.shape)\n",
    "print(hn.shape)"
   ]
  },
  {
   "cell_type": "code",
   "execution_count": 134,
   "id": "f76778ca",
   "metadata": {},
   "outputs": [],
   "source": [
    "rnn = nn.LSTM(10, 20, 2)\n",
    "inputs = torch.randn(5, 3, 10)\n",
    "h0 = torch.randn(2, 3, 20)\n",
    "c0 = torch.randn(2, 3, 20)\n",
    "output, (hn, cn) = rnn(input, (h0, c0))"
   ]
  },
  {
   "cell_type": "code",
   "execution_count": 135,
   "id": "d24ab502",
   "metadata": {},
   "outputs": [],
   "source": [
    "rnn = nn.GRU(10, 20, 2)\n",
    "inputs = torch.randn(5, 3, 10)\n",
    "h0 = torch.randn(2, 3, 20)\n",
    "output, hn = rnn(inputs, h0)"
   ]
  },
  {
   "cell_type": "code",
   "execution_count": 136,
   "id": "a64f28f4",
   "metadata": {},
   "outputs": [],
   "source": [
    "rnn = nn.RNNCell(10, 20)\n",
    "input = torch.randn(6, 3, 10)\n",
    "hx = torch.randn(3, 20)\n",
    "output = []\n",
    "for i in range(6):\n",
    "    hx = rnn(input[i], hx)\n",
    "    output.append(hx)"
   ]
  },
  {
   "cell_type": "code",
   "execution_count": 137,
   "id": "9245e21f",
   "metadata": {},
   "outputs": [],
   "source": [
    "rnn = nn.LSTMCell(10, 20)\n",
    "input = torch.randn(2, 3, 10)\n",
    "hx = torch.randn(3, 20)\n",
    "cx = torch.randn(3, 20)\n",
    "output = []\n",
    "for i in range(input.size()[0]):\n",
    "    hx, cx = rnn(input[i], (hx, cx))\n",
    "    output.append(hx)\n",
    "output = torch.stack(output, dim=0)"
   ]
  },
  {
   "cell_type": "code",
   "execution_count": 138,
   "id": "78bafc5b",
   "metadata": {},
   "outputs": [],
   "source": [
    "rnn = nn.GRUCell(10, 20)\n",
    "input = torch.randn(6, 3, 10)\n",
    "hx = torch.randn(3, 20)\n",
    "output = []\n",
    "for i in range(6):\n",
    "    hx = rnn(input[i], hx)\n",
    "    output.append(hx)"
   ]
  },
  {
   "cell_type": "code",
   "execution_count": 139,
   "id": "dfd9f2cf",
   "metadata": {},
   "outputs": [],
   "source": [
    "transformer_model = nn.Transformer(nhead=16, num_encoder_layers=12)\n",
    "src = torch.rand((10, 32, 512))\n",
    "tgt = torch.rand((20, 32, 512))\n",
    "out = transformer_model(src, tgt)"
   ]
  },
  {
   "cell_type": "code",
   "execution_count": 140,
   "id": "14d63340",
   "metadata": {},
   "outputs": [],
   "source": [
    "encoder_layer = nn.TransformerEncoderLayer(d_model=512, nhead=8)\n",
    "transformer_encoder  = nn.TransformerEncoder(encoder_layer, num_layers=6)\n",
    "src = torch.rand(10, 32, 512)\n",
    "out = transformer_encoder(src)"
   ]
  },
  {
   "cell_type": "code",
   "execution_count": 143,
   "id": "f0f75c7d",
   "metadata": {},
   "outputs": [],
   "source": [
    "decoder_layer = nn.TransformerDecoderLayer(d_model=512, nhead=8)\n",
    "transformer_decoder = nn.TransformerDecoder(decoder_layer, num_layers=6)\n",
    "memory = torch.rand(10, 32, 512)\n",
    "tgt = torch.rand(20, 32, 512)\n",
    "out = transformer_decoder(tgt, memory)"
   ]
  },
  {
   "cell_type": "code",
   "execution_count": 144,
   "id": "83161f36",
   "metadata": {},
   "outputs": [
    {
     "name": "stdout",
     "output_type": "stream",
     "text": [
      "torch.Size([128, 20])\n"
     ]
    }
   ],
   "source": [
    "m = nn.Identity(54, unused_argument1 = 0.1, unused_argument2=False)\n",
    "inputs = torch.randn(128, 20)\n",
    "output = m(inputs)\n",
    "print(output.size())"
   ]
  },
  {
   "cell_type": "code",
   "execution_count": 146,
   "id": "36c2ac50",
   "metadata": {},
   "outputs": [
    {
     "data": {
      "text/plain": [
       "torch.Size([128, 30])"
      ]
     },
     "execution_count": 146,
     "metadata": {},
     "output_type": "execute_result"
    }
   ],
   "source": [
    "m = nn.Linear(20, 30)\n",
    "inputs = torch.randn(128, 20)\n",
    "outputs = m(inputs)\n",
    "outputs.size()"
   ]
  },
  {
   "cell_type": "code",
   "execution_count": 147,
   "id": "9030c063",
   "metadata": {},
   "outputs": [
    {
     "name": "stdout",
     "output_type": "stream",
     "text": [
      "torch.Size([128, 40])\n"
     ]
    }
   ],
   "source": [
    "m = nn.Bilinear(20, 30, 40)\n",
    "input1 = torch.randn(128, 20)\n",
    "input2 = torch.randn(128, 30)\n",
    "output = m(input1, input2)\n",
    "print(output.size())"
   ]
  },
  {
   "cell_type": "code",
   "execution_count": 148,
   "id": "3e806c4b",
   "metadata": {},
   "outputs": [],
   "source": [
    "m = nn.Dropout(p=0.2)\n",
    "inputs =torch.randn(20, 16)\n",
    "output = m(inputs)"
   ]
  },
  {
   "cell_type": "code",
   "execution_count": 149,
   "id": "152070a6",
   "metadata": {},
   "outputs": [],
   "source": [
    "m = nn.Dropout2d(p=0.2)\n",
    "inputs = torch.randn(20, 16, 32, 32)\n",
    "output = m(inputs)"
   ]
  },
  {
   "cell_type": "code",
   "execution_count": 150,
   "id": "cb00c9d2",
   "metadata": {},
   "outputs": [],
   "source": [
    "m = nn.AlphaDropout(p=0.2)\n",
    "inputs = torch.randn(20, 16)\n",
    "output = m(inputs)"
   ]
  },
  {
   "cell_type": "code",
   "execution_count": 151,
   "id": "f86e6f0a",
   "metadata": {},
   "outputs": [],
   "source": [
    "m = nn.FeatureAlphaDropout(p=0.2)\n",
    "input = torch.randn(20, 16, 4, 32, 32)\n",
    "output = m(input)"
   ]
  },
  {
   "cell_type": "code",
   "execution_count": 153,
   "id": "01911286",
   "metadata": {},
   "outputs": [
    {
     "data": {
      "text/plain": [
       "tensor([[[ 0.2647,  1.0165, -0.2257],\n",
       "         [ 1.2145,  0.4501,  0.7898],\n",
       "         [ 0.2647,  1.0165, -0.2257],\n",
       "         [-0.8150, -0.7290,  0.1405]]], grad_fn=<EmbeddingBackward>)"
      ]
     },
     "execution_count": 153,
     "metadata": {},
     "output_type": "execute_result"
    }
   ],
   "source": [
    "embedding = nn.Embedding(10, 3)\n",
    "inputs = torch.LongTensor([[0, 2, 0, 5]])\n",
    "embedding(inputs)"
   ]
  },
  {
   "cell_type": "code",
   "execution_count": 154,
   "id": "5e195119",
   "metadata": {},
   "outputs": [
    {
     "data": {
      "text/plain": [
       "tensor([[-1.0896, -1.9020,  4.5266],\n",
       "        [ 0.6084, -3.0246,  4.9148]], grad_fn=<EmbeddingBagBackward>)"
      ]
     },
     "execution_count": 154,
     "metadata": {},
     "output_type": "execute_result"
    }
   ],
   "source": [
    "embedding_sum = nn.EmbeddingBag(10, 3, mode=\"sum\")\n",
    "inputs = torch.tensor([1, 2, 4, 5, 4, 3, 2, 9], dtype=torch.long)\n",
    "offsets = torch.tensor([0, 4], dtype=torch.long)\n",
    "embedding_sum(inputs, offsets)"
   ]
  },
  {
   "cell_type": "code",
   "execution_count": 156,
   "id": "43d4d351",
   "metadata": {},
   "outputs": [],
   "source": [
    "input1 = torch.randn(100, 128)\n",
    "input2 = torch.randn(100, 128)\n",
    "cos = nn.CosineSimilarity(dim=1, eps=1e-6)\n",
    "output = cos(input1, input2)"
   ]
  },
  {
   "cell_type": "code",
   "execution_count": 157,
   "id": "3ead7142",
   "metadata": {},
   "outputs": [],
   "source": [
    "pdist = nn.PairwiseDistance(p = 2)\n",
    "input1 = torch.randn(100, 128)\n",
    "input2 = torch.randn(100, 128)\n",
    "output = pdist(input1, input2)"
   ]
  },
  {
   "cell_type": "code",
   "execution_count": 159,
   "id": "27e91acd",
   "metadata": {},
   "outputs": [],
   "source": [
    "loss = nn.L1Loss()\n",
    "inputs = torch.randn(3, 5, requires_grad=True)\n",
    "target = torch.randn(3, 5)\n",
    "output = loss(inputs, target)\n",
    "output.backward()"
   ]
  },
  {
   "cell_type": "code",
   "execution_count": 160,
   "id": "4d504f0d",
   "metadata": {},
   "outputs": [],
   "source": [
    "loss = nn.MSELoss()\n",
    "inputs = torch.randn(3, 5, requires_grad=True)\n",
    "target = torch.randn(3, 5)\n",
    "output = loss(inputs, target)\n",
    "output.backward()"
   ]
  },
  {
   "cell_type": "code",
   "execution_count": 162,
   "id": "335d5ddd",
   "metadata": {},
   "outputs": [],
   "source": [
    "loss = nn.CrossEntropyLoss()\n",
    "inputs = torch.randn(3, 5, requires_grad=True)\n",
    "target = torch.empty(3, dtype=torch.long).random_(5)\n",
    "output = loss(inputs, target)\n",
    "output.backward()"
   ]
  },
  {
   "cell_type": "code",
   "execution_count": 167,
   "id": "e93b6a76",
   "metadata": {},
   "outputs": [],
   "source": [
    "T = 50\n",
    "C = 20\n",
    "N = 16\n",
    "S = 30\n",
    "S_min = 10\n",
    "inputs = torch.randn(T, N, C).log_softmax(2).detach().requires_grad_()\n",
    "target = torch.randint(low=1, high=C, size=(N, S))\n",
    "input_lengths = torch.full(size=(N, ), fill_value=T, dtype=torch.long)\n",
    "target_lengths = torch.randint(low=S_min, high=S, size=(N,), dtype=torch.long)\n",
    "ctc_loss = nn.CTCLoss()\n",
    "loss = ctc_loss(inputs, target, input_lengths, target_lengths)\n",
    "loss.backward()"
   ]
  },
  {
   "cell_type": "code",
   "execution_count": 171,
   "id": "11086aca",
   "metadata": {},
   "outputs": [],
   "source": [
    "m = nn.LogSoftmax(dim=1)\n",
    "loss = nn.NLLLoss()\n",
    "input = torch.randn(3, 5, requires_grad=True)\n",
    "target = torch.tensor([1, 0, 4])\n",
    "output = loss(m(input), target)\n",
    "output.backward()"
   ]
  },
  {
   "cell_type": "code",
   "execution_count": 172,
   "id": "5d6bc613",
   "metadata": {},
   "outputs": [],
   "source": [
    "loss = nn.PoissonNLLLoss()\n",
    "log_input = torch.randn(5, 2, requires_grad=True)\n",
    "target = torch.randn(5, 2)\n",
    "output = loss(log_input, target)\n",
    "output.backward()"
   ]
  },
  {
   "cell_type": "code",
   "execution_count": 173,
   "id": "bda47745",
   "metadata": {},
   "outputs": [],
   "source": [
    "loss = nn.GaussianNLLLoss()\n",
    "inputs = torch.randn(5, 2, requires_grad=True)\n",
    "target = torch.randn(5, 2)\n",
    "var = torch.ones(5, 2, requires_grad=True)\n",
    "output = loss(inputs, target, var)\n",
    "output.backward()"
   ]
  },
  {
   "cell_type": "code",
   "execution_count": 174,
   "id": "72f3cbb3",
   "metadata": {},
   "outputs": [
    {
     "name": "stderr",
     "output_type": "stream",
     "text": [
      "<ipython-input-174-1cd8a934e2bc>:2: UserWarning: Implicit dimension choice for log_softmax has been deprecated. Change the call to include dim=X as an argument.\n",
      "  inputs = F.log_softmax(torch.randn(3, 5, requires_grad=True))\n",
      "<ipython-input-174-1cd8a934e2bc>:3: UserWarning: Implicit dimension choice for softmax has been deprecated. Change the call to include dim=X as an argument.\n",
      "  target = F.softmax(torch.rand(3, 5))\n"
     ]
    }
   ],
   "source": [
    "kl_loss = nn.KLDivLoss(reduction=\"batchmean\")\n",
    "inputs = F.log_softmax(torch.randn(3, 5, requires_grad=True))\n",
    "target = F.softmax(torch.rand(3, 5))\n",
    "output = kl_loss(inputs, target)\n",
    "output.backward()"
   ]
  },
  {
   "cell_type": "code",
   "execution_count": 176,
   "id": "d639f805",
   "metadata": {},
   "outputs": [],
   "source": [
    "m = nn.Sigmoid()\n",
    "loss = nn.BCELoss()\n",
    "input = torch.randn(3, requires_grad=True)\n",
    "target = torch.empty(3).random_(2)\n",
    "output = loss(m(input), target)\n",
    "output.backward()"
   ]
  },
  {
   "cell_type": "code",
   "execution_count": 177,
   "id": "9eed8a5e",
   "metadata": {},
   "outputs": [],
   "source": [
    "loss = nn.BCEWithLogitsLoss()\n",
    "inputs = torch.randn(3, requires_grad=True)\n",
    "target = torch.empty(3).random_(2)\n",
    "output = loss(inputs, target)\n",
    "output.backward()"
   ]
  },
  {
   "cell_type": "code",
   "execution_count": 178,
   "id": "e354ce89",
   "metadata": {},
   "outputs": [],
   "source": [
    "loss = nn.MarginRankingLoss()\n",
    "input1 = torch.randn(3, requires_grad=True)\n",
    "input2 = torch.randn(3, requires_grad=True)\n",
    "target = torch.randn(3).sign()\n",
    "output = loss(input1, input2, target)\n",
    "output.backward()"
   ]
  },
  {
   "cell_type": "code",
   "execution_count": 179,
   "id": "cf8bd2a8",
   "metadata": {},
   "outputs": [
    {
     "data": {
      "text/plain": [
       "tensor(0.8500)"
      ]
     },
     "execution_count": 179,
     "metadata": {},
     "output_type": "execute_result"
    }
   ],
   "source": [
    "loss = nn.MultiLabelMarginLoss()\n",
    "x = torch.FloatTensor([[0.1, 0.2, 0.4, 0.8]])\n",
    "y = torch.LongTensor([[3, 0, -1, 1]])\n",
    "loss(x, y)"
   ]
  },
  {
   "cell_type": "code",
   "execution_count": 180,
   "id": "aa26e65f",
   "metadata": {},
   "outputs": [
    {
     "data": {
      "text/plain": [
       "tensor(0.3250)"
      ]
     },
     "execution_count": 180,
     "metadata": {},
     "output_type": "execute_result"
    }
   ],
   "source": [
    "loss = nn.MultiMarginLoss()\n",
    "x = torch.tensor([[0.1, 0.2, 0.4, 0.8]])\n",
    "y = torch.tensor([3])\n",
    "loss(x, y)"
   ]
  },
  {
   "cell_type": "code",
   "execution_count": 181,
   "id": "29e59b7f",
   "metadata": {},
   "outputs": [],
   "source": [
    "triplet_loss = nn.TripletMarginLoss(margin=1.0, p=2)\n",
    "anchor = torch.randn(100, 128, requires_grad=True)\n",
    "positive = torch.randn(100, 128, requires_grad=True)\n",
    "negative = torch.randn(100, 128, requires_grad=True)\n",
    "output = triplet_loss(anchor, positive, negative)\n",
    "output.backward()"
   ]
  },
  {
   "cell_type": "code",
   "execution_count": 183,
   "id": "9b8413d3",
   "metadata": {},
   "outputs": [],
   "source": [
    "embedding = nn.Embedding(1000, 128)\n",
    "anchor_ids = torch.randint(0, 1000, (1, ))\n",
    "positive_ids = torch.randint(0, 1000, (1, ))\n",
    "negative_ids = torch.randint(0, 1000, (1, ))\n",
    "anchor = embedding(anchor_ids)\n",
    "positive = embedding(positive_ids)\n",
    "negative = embedding(negative_ids)\n",
    "triplet_loss = nn.TripletMarginWithDistanceLoss(distance_function=nn.PairwiseDistance())\n",
    "output = triplet_loss(anchor, positive, negative)\n",
    "output.backward()"
   ]
  },
  {
   "cell_type": "code",
   "execution_count": 184,
   "id": "a12e8f5f",
   "metadata": {},
   "outputs": [
    {
     "name": "stdout",
     "output_type": "stream",
     "text": [
      "torch.Size([1, 1, 12, 12])\n"
     ]
    }
   ],
   "source": [
    "pixel_shuffle = nn.PixelShuffle(3)\n",
    "inputs = torch.randn(1, 9, 4, 4)\n",
    "output = pixel_shuffle(inputs)\n",
    "print(output.size())"
   ]
  },
  {
   "cell_type": "code",
   "execution_count": 187,
   "id": "f73b8725",
   "metadata": {},
   "outputs": [
    {
     "name": "stdout",
     "output_type": "stream",
     "text": [
      "torch.Size([1, 9, 4, 4])\n"
     ]
    }
   ],
   "source": [
    "pixel_unshuffle = nn.PixelUnshuffle(3)\n",
    "inputs = torch.randn(1, 1, 12, 12)\n",
    "output = pixel_unshuffle(inputs)\n",
    "print(output.size())"
   ]
  },
  {
   "cell_type": "code",
   "execution_count": 188,
   "id": "cac8d709",
   "metadata": {},
   "outputs": [
    {
     "data": {
      "text/plain": [
       "tensor([[[[1., 1., 2., 2.],\n",
       "          [1., 1., 2., 2.],\n",
       "          [3., 3., 4., 4.],\n",
       "          [3., 3., 4., 4.]]]])"
      ]
     },
     "execution_count": 188,
     "metadata": {},
     "output_type": "execute_result"
    }
   ],
   "source": [
    "inputs = torch.arange(1, 5, dtype=torch.float32).view(1, 1, 2, 2)\n",
    "m = nn.Upsample(scale_factor=2, mode=\"nearest\")\n",
    "m(inputs)"
   ]
  },
  {
   "cell_type": "code",
   "execution_count": 189,
   "id": "6a196a7b",
   "metadata": {},
   "outputs": [
    {
     "name": "stderr",
     "output_type": "stream",
     "text": [
      "C:\\Users\\jatin\\anaconda3\\lib\\site-packages\\torch\\nn\\functional.py:3609: UserWarning: Default upsampling behavior when mode=bilinear is changed to align_corners=False since 0.4.0. Please specify align_corners=True if the old behavior is desired. See the documentation of nn.Upsample for details.\n",
      "  warnings.warn(\n"
     ]
    },
    {
     "data": {
      "text/plain": [
       "tensor([[[[1.0000, 1.2500, 1.7500, 2.0000],\n",
       "          [1.5000, 1.7500, 2.2500, 2.5000],\n",
       "          [2.5000, 2.7500, 3.2500, 3.5000],\n",
       "          [3.0000, 3.2500, 3.7500, 4.0000]]]])"
      ]
     },
     "execution_count": 189,
     "metadata": {},
     "output_type": "execute_result"
    }
   ],
   "source": [
    "m = nn.Upsample(scale_factor=2, mode=\"bilinear\")\n",
    "m(inputs)"
   ]
  },
  {
   "cell_type": "code",
   "execution_count": 190,
   "id": "e746d67d",
   "metadata": {},
   "outputs": [
    {
     "data": {
      "text/plain": [
       "tensor([[[[1., 1., 2., 2.],\n",
       "          [1., 1., 2., 2.],\n",
       "          [3., 3., 4., 4.],\n",
       "          [3., 3., 4., 4.]]]])"
      ]
     },
     "execution_count": 190,
     "metadata": {},
     "output_type": "execute_result"
    }
   ],
   "source": [
    "inputs = torch.arange(1, 5, dtype=torch.float32).view(1, 1, 2, 2)\n",
    "m = nn.UpsamplingNearest2d(scale_factor=2)\n",
    "m(inputs)"
   ]
  },
  {
   "cell_type": "code",
   "execution_count": 193,
   "id": "22c45a50",
   "metadata": {},
   "outputs": [
    {
     "data": {
      "text/plain": [
       "tensor([[[[1.0000, 1.3333, 1.6667, 2.0000],\n",
       "          [1.6667, 2.0000, 2.3333, 2.6667],\n",
       "          [2.3333, 2.6667, 3.0000, 3.3333],\n",
       "          [3.0000, 3.3333, 3.6667, 4.0000]]]])"
      ]
     },
     "execution_count": 193,
     "metadata": {},
     "output_type": "execute_result"
    }
   ],
   "source": [
    "m = nn.UpsamplingBilinear2d(scale_factor=2)\n",
    "m(inputs)"
   ]
  },
  {
   "cell_type": "code",
   "execution_count": 194,
   "id": "a7ce8876",
   "metadata": {},
   "outputs": [
    {
     "data": {
      "text/plain": [
       "tensor([[[[-0.5276, -0.1613],\n",
       "          [-0.9327,  1.5449]],\n",
       "\n",
       "         [[-0.8505, -1.2795],\n",
       "          [ 0.3754,  0.4740]],\n",
       "\n",
       "         [[-0.0779,  1.2348],\n",
       "          [-0.4770,  0.4926]],\n",
       "\n",
       "         [[-0.2319, -0.6507],\n",
       "          [ 0.0496,  1.7974]]]])"
      ]
     },
     "execution_count": 194,
     "metadata": {},
     "output_type": "execute_result"
    }
   ],
   "source": [
    "channel_shuffle = nn.ChannelShuffle(2)\n",
    "inputs = torch.randn(1, 4, 2, 2)\n",
    "channel_shuffle(inputs)"
   ]
  },
  {
   "cell_type": "code",
   "execution_count": 195,
   "id": "b3425c02",
   "metadata": {},
   "outputs": [
    {
     "ename": "NameError",
     "evalue": "name 'input_var' is not defined",
     "output_type": "error",
     "traceback": [
      "\u001b[1;31m---------------------------------------------------------------------------\u001b[0m",
      "\u001b[1;31mNameError\u001b[0m                                 Traceback (most recent call last)",
      "\u001b[1;32m<ipython-input-195-efa5b697daf6>\u001b[0m in \u001b[0;36m<module>\u001b[1;34m\u001b[0m\n\u001b[0;32m      1\u001b[0m \u001b[0mnet\u001b[0m \u001b[1;33m=\u001b[0m \u001b[0mtorch\u001b[0m\u001b[1;33m.\u001b[0m\u001b[0mnn\u001b[0m\u001b[1;33m.\u001b[0m\u001b[0mDataParallel\u001b[0m\u001b[1;33m(\u001b[0m\u001b[0mmodel\u001b[0m\u001b[1;33m,\u001b[0m \u001b[0mdevice_ids\u001b[0m\u001b[1;33m=\u001b[0m\u001b[1;33m[\u001b[0m\u001b[1;36m0\u001b[0m\u001b[1;33m,\u001b[0m \u001b[1;36m1\u001b[0m\u001b[1;33m,\u001b[0m \u001b[1;36m2\u001b[0m\u001b[1;33m]\u001b[0m\u001b[1;33m)\u001b[0m\u001b[1;33m\u001b[0m\u001b[1;33m\u001b[0m\u001b[0m\n\u001b[1;32m----> 2\u001b[1;33m \u001b[0moutput\u001b[0m \u001b[1;33m=\u001b[0m \u001b[0mnet\u001b[0m\u001b[1;33m(\u001b[0m\u001b[0minput_var\u001b[0m\u001b[1;33m)\u001b[0m\u001b[1;33m\u001b[0m\u001b[1;33m\u001b[0m\u001b[0m\n\u001b[0m",
      "\u001b[1;31mNameError\u001b[0m: name 'input_var' is not defined"
     ]
    }
   ],
   "source": [
    "net = torch.nn.DataParallel(model, device_ids=[0, 1, 2])\n",
    "output = net(input_var)"
   ]
  },
  {
   "cell_type": "code",
   "execution_count": 3,
   "id": "27965a59",
   "metadata": {},
   "outputs": [],
   "source": [
    "import torch.nn.utils.prune as prune\n",
    "import torch.nn as nn\n",
    "import torch"
   ]
  },
  {
   "cell_type": "code",
   "execution_count": 198,
   "id": "02d93fcd",
   "metadata": {},
   "outputs": [
    {
     "name": "stdout",
     "output_type": "stream",
     "text": [
      "tensor([1., 1., 1.])\n"
     ]
    }
   ],
   "source": [
    "m = prune.identity(nn.Linear(2, 3), \"bias\")\n",
    "print(m.bias_mask)"
   ]
  },
  {
   "cell_type": "code",
   "execution_count": 199,
   "id": "a2aa7953",
   "metadata": {},
   "outputs": [
    {
     "data": {
      "text/plain": [
       "tensor(1)"
      ]
     },
     "execution_count": 199,
     "metadata": {},
     "output_type": "execute_result"
    }
   ],
   "source": [
    "m = prune.random_unstructured(nn.Linear(2, 3), \"weight\", amount=1)\n",
    "torch.sum(m.weight_mask==0)"
   ]
  },
  {
   "cell_type": "code",
   "execution_count": 200,
   "id": "4be91e12",
   "metadata": {},
   "outputs": [
    {
     "data": {
      "text/plain": [
       "odict_keys(['bias', 'weight_orig', 'weight_mask'])"
      ]
     },
     "execution_count": 200,
     "metadata": {},
     "output_type": "execute_result"
    }
   ],
   "source": [
    "m = prune.l1_unstructured(nn.Linear(2, 3), \"weight\", amount=0.2)\n",
    "m.state_dict().keys()"
   ]
  },
  {
   "cell_type": "code",
   "execution_count": 201,
   "id": "89563cf5",
   "metadata": {},
   "outputs": [
    {
     "name": "stdout",
     "output_type": "stream",
     "text": [
      "3\n"
     ]
    }
   ],
   "source": [
    "m = prune.random_structured(nn.Linear(5, 3), \"weight\", amount=3, dim=1)\n",
    "columns_pruned = int(sum(torch.sum(m.weight, dim=0) == 0))\n",
    "print(columns_pruned)"
   ]
  },
  {
   "cell_type": "code",
   "execution_count": 203,
   "id": "c8eb61a5",
   "metadata": {},
   "outputs": [],
   "source": [
    "m = prune.ln_structured(nn.Conv2d(5, 3, 2), \"weight\", amount=0.3, dim=1, n=float('-inf'))"
   ]
  },
  {
   "cell_type": "code",
   "execution_count": 9,
   "id": "37057c90",
   "metadata": {},
   "outputs": [
    {
     "name": "stdout",
     "output_type": "stream",
     "text": [
      "tensor([0., 1., 0.])\n"
     ]
    }
   ],
   "source": [
    "m = prune.custom_from_mask(nn.Linear(5, 3), name=\"bias\", mask=torch.tensor([0, 1, 0]))\n",
    "print(m.bias_mask)"
   ]
  },
  {
   "cell_type": "code",
   "execution_count": 12,
   "id": "5e63d716",
   "metadata": {},
   "outputs": [],
   "source": [
    "m = prune.random_unstructured(nn.Linear(5, 7), name=\"weight\", amount=0.2)\n",
    "m = prune.remove(m, name=\"weight\")"
   ]
  },
  {
   "cell_type": "code",
   "execution_count": 13,
   "id": "ccf42413",
   "metadata": {},
   "outputs": [
    {
     "name": "stdout",
     "output_type": "stream",
     "text": [
      "False\n",
      "True\n"
     ]
    }
   ],
   "source": [
    "m = nn.Linear(5, 7)\n",
    "print(prune.is_pruned(m))\n",
    "prune.random_unstructured(m, name=\"weight\", amount=0.2)\n",
    "print(prune.is_pruned(m))"
   ]
  },
  {
   "cell_type": "code",
   "execution_count": 22,
   "id": "9fd72018",
   "metadata": {},
   "outputs": [],
   "source": [
    "import torch.nn.utils.parametrizations as s\n"
   ]
  },
  {
   "cell_type": "code",
   "execution_count": 24,
   "id": "bbc026e0",
   "metadata": {},
   "outputs": [
    {
     "name": "stdout",
     "output_type": "stream",
     "text": [
      "ParametrizedLinear(\n",
      "  in_features=20, out_features=40, bias=True\n",
      "  (parametrizations): ModuleDict(\n",
      "    (weight): ParametrizationList(\n",
      "      (0): _SpectralNorm()\n",
      "    )\n",
      "  )\n",
      ")\n"
     ]
    },
    {
     "data": {
      "text/plain": [
       "tensor(1.2321, grad_fn=<CopyBackwards>)"
      ]
     },
     "execution_count": 24,
     "metadata": {},
     "output_type": "execute_result"
    }
   ],
   "source": [
    "snm = s.spectral_norm(nn.Linear(20, 40))\n",
    "print(snm)\n",
    "torch.linalg.matrix_norm(snm.weight, 2)"
   ]
  },
  {
   "cell_type": "code",
   "execution_count": 26,
   "id": "b118e6ae",
   "metadata": {},
   "outputs": [
    {
     "name": "stdout",
     "output_type": "stream",
     "text": [
      "True\n",
      "True\n"
     ]
    }
   ],
   "source": [
    "import torch\n",
    "import torch.nn as nn\n",
    "import torch.nn.utils.parametrize as P\n",
    "class Symmetric(nn.Module):\n",
    "    def forward(self, X):\n",
    "        return X.triu() + X.triu(1).T\n",
    "    def right_inverse(self, A):\n",
    "        return A.triu()\n",
    "m = nn.Linear(5, 5)\n",
    "P.register_parametrization(m, \"weight\", Symmetric())\n",
    "print(torch.allclose(m.weight, m.weight.T))\n",
    "A = torch.randn(5, 5)\n",
    "A = A + A.T\n",
    "m.weight = A\n",
    "print(torch.allclose(m.weight, A))"
   ]
  },
  {
   "cell_type": "code",
   "execution_count": 28,
   "id": "63ef3531",
   "metadata": {},
   "outputs": [
    {
     "name": "stdout",
     "output_type": "stream",
     "text": [
      "yes\n"
     ]
    }
   ],
   "source": [
    "with P.cached():\n",
    "    print(\"yes\")"
   ]
  },
  {
   "cell_type": "code",
   "execution_count": 31,
   "id": "b62712f6",
   "metadata": {},
   "outputs": [
    {
     "name": "stdout",
     "output_type": "stream",
     "text": [
      "PackedSequence(data=tensor([4, 1, 3, 5, 2, 6]), batch_sizes=tensor([3, 2, 1]), sorted_indices=tensor([2, 0, 1]), unsorted_indices=tensor([1, 2, 0]))\n",
      "tensor([[1, 2, 0],\n",
      "        [3, 0, 0],\n",
      "        [4, 5, 6]])\n"
     ]
    },
    {
     "data": {
      "text/plain": [
       "tensor([2, 1, 3])"
      ]
     },
     "execution_count": 31,
     "metadata": {},
     "output_type": "execute_result"
    }
   ],
   "source": [
    "from torch.nn.utils.rnn import pack_padded_sequence, pad_packed_sequence\n",
    "seq = torch.tensor([[1, 2, 0], [3, 0, 0], [4, 5, 6]])\n",
    "lens = [2, 1, 3]\n",
    "packed = pack_padded_sequence(seq, lens, batch_first=True, enforce_sorted=False)\n",
    "print(packed)\n",
    "seq_unpacked, lens_unpacked = pad_packed_sequence(packed, batch_first=True)\n",
    "print(seq_unpacked)\n",
    "lens_unpacked"
   ]
  },
  {
   "cell_type": "code",
   "execution_count": 32,
   "id": "86984dc7",
   "metadata": {},
   "outputs": [
    {
     "data": {
      "text/plain": [
       "torch.Size([25, 3, 300])"
      ]
     },
     "execution_count": 32,
     "metadata": {},
     "output_type": "execute_result"
    }
   ],
   "source": [
    "from torch.nn.utils.rnn import pad_sequence\n",
    "a = torch.ones(25, 300)\n",
    "b = torch.ones(22, 300)\n",
    "c = torch.ones(15, 300)\n",
    "pad_sequence([a, b, c]).size()"
   ]
  },
  {
   "cell_type": "code",
   "execution_count": 33,
   "id": "5de98a34",
   "metadata": {},
   "outputs": [
    {
     "data": {
      "text/plain": [
       "PackedSequence(data=tensor([1, 4, 6, 2, 5, 3]), batch_sizes=tensor([3, 2, 1]), sorted_indices=None, unsorted_indices=None)"
      ]
     },
     "execution_count": 33,
     "metadata": {},
     "output_type": "execute_result"
    }
   ],
   "source": [
    "from torch.nn.utils.rnn import pack_sequence\n",
    "a = torch.tensor([1, 2, 3])\n",
    "b = torch.tensor([4, 5])\n",
    "c = torch.tensor([6])\n",
    "pack_sequence([a, b, c])"
   ]
  },
  {
   "cell_type": "code",
   "execution_count": 34,
   "id": "da2d1938",
   "metadata": {},
   "outputs": [
    {
     "data": {
      "text/plain": [
       "torch.Size([32, 25])"
      ]
     },
     "execution_count": 34,
     "metadata": {},
     "output_type": "execute_result"
    }
   ],
   "source": [
    "inputs = torch.randn(32, 1, 5, 5)\n",
    "m = nn.Flatten()\n",
    "output = m(inputs)\n",
    "output.size()"
   ]
  },
  {
   "cell_type": "code",
   "execution_count": 35,
   "id": "625bbb92",
   "metadata": {},
   "outputs": [
    {
     "data": {
      "text/plain": [
       "torch.Size([2, 2, 5, 5])"
      ]
     },
     "execution_count": 35,
     "metadata": {},
     "output_type": "execute_result"
    }
   ],
   "source": [
    "inputs = torch.randn(2, 50)\n",
    "m = nn.Sequential(nn.Linear(50, 50), nn.Unflatten(1, (2, 5, 5)))\n",
    "output = m(inputs)\n",
    "output.size()"
   ]
  },
  {
   "cell_type": "code",
   "execution_count": 36,
   "id": "beab068a",
   "metadata": {},
   "outputs": [],
   "source": [
    "import torch.nn.functional as f"
   ]
  },
  {
   "cell_type": "code",
   "execution_count": 39,
   "id": "ba1bd658",
   "metadata": {},
   "outputs": [
    {
     "data": {
      "text/plain": [
       "torch.Size([33, 20, 26])"
      ]
     },
     "execution_count": 39,
     "metadata": {},
     "output_type": "execute_result"
    }
   ],
   "source": [
    "inputs= torch.randn(33, 16, 30)\n",
    "filters = torch.randn(20, 16, 5)\n",
    "f.conv1d(inputs, filters).size()"
   ]
  },
  {
   "cell_type": "code",
   "execution_count": 42,
   "id": "06539422",
   "metadata": {},
   "outputs": [
    {
     "data": {
      "text/plain": [
       "torch.Size([1, 8, 5, 5])"
      ]
     },
     "execution_count": 42,
     "metadata": {},
     "output_type": "execute_result"
    }
   ],
   "source": [
    "filters = torch.randn(8, 4, 3, 3)\n",
    "inputs = torch.randn(1, 4, 5, 5)\n",
    "f.conv2d(inputs, filters, padding=1).size()"
   ]
  },
  {
   "cell_type": "code",
   "execution_count": 44,
   "id": "6511c2a2",
   "metadata": {},
   "outputs": [
    {
     "data": {
      "text/plain": [
       "torch.Size([20, 33, 48, 8, 18])"
      ]
     },
     "execution_count": 44,
     "metadata": {},
     "output_type": "execute_result"
    }
   ],
   "source": [
    "filters = torch.randn(33, 16, 3, 3, 3)\n",
    "inputs = torch.randn(20, 16, 50, 10, 20)\n",
    "f.conv3d(inputs, filters).size()"
   ]
  },
  {
   "cell_type": "code",
   "execution_count": 46,
   "id": "12900c5b",
   "metadata": {},
   "outputs": [
    {
     "data": {
      "text/plain": [
       "torch.Size([20, 33, 54])"
      ]
     },
     "execution_count": 46,
     "metadata": {},
     "output_type": "execute_result"
    }
   ],
   "source": [
    "inputs = torch.randn(20, 16, 50)\n",
    "weights = torch.randn(16, 33, 5)\n",
    "f.conv_transpose1d(inputs, weights).size()"
   ]
  },
  {
   "cell_type": "code",
   "execution_count": 48,
   "id": "35f7d9de",
   "metadata": {},
   "outputs": [
    {
     "data": {
      "text/plain": [
       "torch.Size([1, 8, 5, 5])"
      ]
     },
     "execution_count": 48,
     "metadata": {},
     "output_type": "execute_result"
    }
   ],
   "source": [
    "inputs = torch.randn(1, 4, 5, 5)\n",
    "weights = torch.randn(4, 8, 3, 3)\n",
    "f.conv_transpose2d(inputs, weights, padding=1).size()"
   ]
  },
  {
   "cell_type": "code",
   "execution_count": 50,
   "id": "a6696731",
   "metadata": {},
   "outputs": [
    {
     "data": {
      "text/plain": [
       "torch.Size([20, 33, 52, 12, 22])"
      ]
     },
     "execution_count": 50,
     "metadata": {},
     "output_type": "execute_result"
    }
   ],
   "source": [
    "inputs = torch.randn(20, 16, 50, 10, 20)\n",
    "weights = torch.randn(16, 33, 3, 3, 3)\n",
    "f.conv_transpose3d(inputs, weights).size()"
   ]
  },
  {
   "cell_type": "code",
   "execution_count": 51,
   "id": "9ccdd88d",
   "metadata": {},
   "outputs": [
    {
     "data": {
      "text/plain": [
       "tensor([[[2., 4., 6.]]])"
      ]
     },
     "execution_count": 51,
     "metadata": {},
     "output_type": "execute_result"
    }
   ],
   "source": [
    "input = torch.tensor([[[1, 2, 3, 4, 5, 6, 7]]], dtype=torch.float32)\n",
    "f.avg_pool1d(input, kernel_size=3, stride=2)"
   ]
  },
  {
   "cell_type": "code",
   "execution_count": 53,
   "id": "b6847fb2",
   "metadata": {},
   "outputs": [
    {
     "data": {
      "text/plain": [
       "torch.Size([20, 16, 13, 12])"
      ]
     },
     "execution_count": 53,
     "metadata": {},
     "output_type": "execute_result"
    }
   ],
   "source": [
    "inputs = torch.randn(20, 16, 50, 32)\n",
    "f.fractional_max_pool2d(inputs,3, output_size=(13, 12)).size()"
   ]
  },
  {
   "cell_type": "code",
   "execution_count": 54,
   "id": "c91dcdf7",
   "metadata": {},
   "outputs": [
    {
     "data": {
      "text/plain": [
       "torch.Size([20, 16, 13, 12, 11])"
      ]
     },
     "execution_count": 54,
     "metadata": {},
     "output_type": "execute_result"
    }
   ],
   "source": [
    "inputs = torch.randn(20, 16, 50, 32, 16)\n",
    "f.fractional_max_pool3d(inputs, 3, output_size=(13, 12, 11)).size()"
   ]
  },
  {
   "cell_type": "code",
   "execution_count": 56,
   "id": "0a84eceb",
   "metadata": {},
   "outputs": [
    {
     "data": {
      "text/plain": [
       "torch.Size([20, 32])"
      ]
     },
     "execution_count": 56,
     "metadata": {},
     "output_type": "execute_result"
    }
   ],
   "source": [
    "logits = torch.randn(20, 32)\n",
    "f.gumbel_softmax(logits, tau=1, hard=False).size()"
   ]
  },
  {
   "cell_type": "code",
   "execution_count": 57,
   "id": "596aa172",
   "metadata": {},
   "outputs": [
    {
     "data": {
      "text/plain": [
       "tensor([[[0.9998, 0.2908, 0.4848],\n",
       "         [0.8990, 0.1109, 0.3556],\n",
       "         [0.0149, 0.2224, 0.3519],\n",
       "         [0.7622, 0.4135, 0.6075]],\n",
       "\n",
       "        [[0.0149, 0.2224, 0.3519],\n",
       "         [0.2178, 0.5643, 0.5607],\n",
       "         [0.8990, 0.1109, 0.3556],\n",
       "         [0.6854, 0.9136, 0.9725]]])"
      ]
     },
     "execution_count": 57,
     "metadata": {},
     "output_type": "execute_result"
    }
   ],
   "source": [
    "inputs = torch.tensor([[1, 2, 4, 5], [4, 3, 2, 9]])\n",
    "embedding_matrix = torch.rand(10, 3)\n",
    "f.embedding(inputs, embedding_matrix)"
   ]
  },
  {
   "cell_type": "code",
   "execution_count": 58,
   "id": "fb7f913e",
   "metadata": {},
   "outputs": [
    {
     "data": {
      "text/plain": [
       "tensor([[0.5006, 0.7477, 0.3570],\n",
       "        [0.3267, 0.4702, 0.5598]])"
      ]
     },
     "execution_count": 58,
     "metadata": {},
     "output_type": "execute_result"
    }
   ],
   "source": [
    "embedding_matrix = torch.rand(10, 3)\n",
    "inputs = torch.tensor([1, 2, 3, 4, 5, 3, 2, 9])\n",
    "offsets = torch.tensor([0, 4])\n",
    "f.embedding_bag(inputs, embedding_matrix, offsets)"
   ]
  },
  {
   "cell_type": "code",
   "execution_count": 60,
   "id": "45d73b7d",
   "metadata": {},
   "outputs": [
    {
     "data": {
      "text/plain": [
       "tensor([[1, 0, 0, 0, 0],\n",
       "        [0, 1, 0, 0, 0],\n",
       "        [0, 0, 1, 0, 0],\n",
       "        [1, 0, 0, 0, 0],\n",
       "        [0, 1, 0, 0, 0]])"
      ]
     },
     "execution_count": 60,
     "metadata": {},
     "output_type": "execute_result"
    }
   ],
   "source": [
    "f.one_hot(torch.arange(0, 5) % 3, num_classes=5)"
   ]
  },
  {
   "cell_type": "code",
   "execution_count": 62,
   "id": "fbdebc11",
   "metadata": {},
   "outputs": [
    {
     "data": {
      "text/plain": [
       "torch.Size([100])"
      ]
     },
     "execution_count": 62,
     "metadata": {},
     "output_type": "execute_result"
    }
   ],
   "source": [
    "input1 = torch.randn(100, 128)\n",
    "input2 = torch.randn(100, 128)\n",
    "f.cosine_similarity(input1, input2).shape"
   ]
  },
  {
   "cell_type": "code",
   "execution_count": 63,
   "id": "a4a59fe1",
   "metadata": {},
   "outputs": [],
   "source": [
    "inputs = torch.randn(3, 2, requires_grad=True)\n",
    "target = torch.randn(3, 2, requires_grad=False)\n",
    "loss = f.binary_cross_entropy(torch.sigmoid(inputs), target)\n",
    "loss.backward()"
   ]
  },
  {
   "cell_type": "code",
   "execution_count": 64,
   "id": "4c51c2a8",
   "metadata": {},
   "outputs": [],
   "source": [
    "inputs = torch.randn(3, requires_grad=True)\n",
    "target = torch.empty(3).random_(2)\n",
    "loss = f.binary_cross_entropy_with_logits(inputs, target)\n",
    "loss.backward()"
   ]
  },
  {
   "cell_type": "code",
   "execution_count": 65,
   "id": "875a0d35",
   "metadata": {},
   "outputs": [],
   "source": [
    "inputs = torch.randn(3, 5, requires_grad=True)\n",
    "target = torch.randint(5, (3, ), dtype=torch.int64)\n",
    "loss = f.cross_entropy(inputs, target)\n",
    "loss.backward()"
   ]
  },
  {
   "cell_type": "code",
   "execution_count": 67,
   "id": "3e29b7ee",
   "metadata": {},
   "outputs": [],
   "source": [
    "log_probs = torch.randn(50, 16, 20).log_softmax(2).detach().requires_grad_()\n",
    "targets = torch.randint(1, 20, (16, 30), dtype=torch.long)\n",
    "input_lengths = torch.full((16, ), 50, dtype=torch.long)\n",
    "target_lengths = torch.randint(10, 30, (16, ), dtype=torch.long)\n",
    "loss = f.ctc_loss(log_probs, targets, input_lengths, target_lengths)\n",
    "loss.backward()"
   ]
  },
  {
   "cell_type": "code",
   "execution_count": 71,
   "id": "c7fd7a3c",
   "metadata": {},
   "outputs": [
    {
     "name": "stderr",
     "output_type": "stream",
     "text": [
      "<ipython-input-71-3f88f15e86d6>:3: UserWarning: Implicit dimension choice for log_softmax has been deprecated. Change the call to include dim=X as an argument.\n",
      "  output = f.nll_loss(f.log_softmax(inputs), target)\n"
     ]
    }
   ],
   "source": [
    "inputs = torch.randn(3, 5, requires_grad=True)\n",
    "target = torch.tensor([1, 0, 4])\n",
    "output = f.nll_loss(f.log_softmax(inputs), target)\n",
    "output.backward()"
   ]
  },
  {
   "cell_type": "code",
   "execution_count": 72,
   "id": "087d9f21",
   "metadata": {},
   "outputs": [
    {
     "name": "stdout",
     "output_type": "stream",
     "text": [
      "torch.Size([1, 1, 12, 12])\n"
     ]
    }
   ],
   "source": [
    "inputs = torch.randn(1, 9, 4, 4)\n",
    "output = f.pixel_shuffle(inputs, 3)\n",
    "print(output.size())"
   ]
  },
  {
   "cell_type": "code",
   "execution_count": 73,
   "id": "5c594bf1",
   "metadata": {},
   "outputs": [
    {
     "name": "stdout",
     "output_type": "stream",
     "text": [
      "torch.Size([1, 9, 4, 4])\n"
     ]
    }
   ],
   "source": [
    "inputs = torch.randn(1, 1, 12, 12)\n",
    "output = f.pixel_unshuffle(inputs, 3)\n",
    "print(output.shape)"
   ]
  },
  {
   "cell_type": "code",
   "execution_count": 74,
   "id": "29602f99",
   "metadata": {},
   "outputs": [
    {
     "name": "stdout",
     "output_type": "stream",
     "text": [
      "torch.Size([3, 3, 4, 4])\n"
     ]
    }
   ],
   "source": [
    "t4d = torch.empty(3, 3, 4, 2)\n",
    "p1d = (1, 1)\n",
    "out = f.pad(t4d, p1d, \"constant\")\n",
    "print(out.size())"
   ]
  },
  {
   "cell_type": "code",
   "execution_count": null,
   "id": "9cbeeebb",
   "metadata": {},
   "outputs": [],
   "source": []
  }
 ],
 "metadata": {
  "kernelspec": {
   "display_name": "Python 3",
   "language": "python",
   "name": "python3"
  },
  "language_info": {
   "codemirror_mode": {
    "name": "ipython",
    "version": 3
   },
   "file_extension": ".py",
   "mimetype": "text/x-python",
   "name": "python",
   "nbconvert_exporter": "python",
   "pygments_lexer": "ipython3",
   "version": "3.8.8"
  }
 },
 "nbformat": 4,
 "nbformat_minor": 5
}
