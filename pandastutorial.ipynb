{
 "cells": [
  {
   "cell_type": "code",
   "execution_count": 1,
   "metadata": {},
   "outputs": [],
   "source": [
    "import numpy as np\n",
    "import pandas as pd"
   ]
  },
  {
   "cell_type": "code",
   "execution_count": 2,
   "metadata": {},
   "outputs": [],
   "source": [
    "dict = {\n",
    "    \"name\": ['harry', 'rohan', 'skillf', 'subh'],\n",
    "    'marks': [97, 34, 24, 17],\n",
    "    \"city\":['rampur', 'kolkata', 'barelly', 'antartica']\n",
    "}"
   ]
  },
  {
   "cell_type": "code",
   "execution_count": 3,
   "metadata": {},
   "outputs": [
    {
     "name": "stdout",
     "output_type": "stream",
     "text": [
      "     name  marks       city\n",
      "0   harry     97     rampur\n",
      "1   rohan     34    kolkata\n",
      "2  skillf     24    barelly\n",
      "3    subh     17  antartica\n"
     ]
    }
   ],
   "source": [
    "df = pd.DataFrame(dict)\n",
    "print(df)"
   ]
  },
  {
   "cell_type": "code",
   "execution_count": 4,
   "metadata": {},
   "outputs": [],
   "source": [
    "df.to_csv('friends.csv', index=False)"
   ]
  },
  {
   "cell_type": "code",
   "execution_count": 5,
   "metadata": {},
   "outputs": [
    {
     "name": "stdout",
     "output_type": "stream",
     "text": [
      "          name  marks       city\n",
      "first    harry     97     rampur\n",
      "second   rohan     34    kolkata\n",
      "third   skillf     24    barelly\n",
      "fourth    subh     17  antartica\n"
     ]
    }
   ],
   "source": [
    "df.index=['first','second','third','fourth']\n",
    "print(df)"
   ]
  },
  {
   "cell_type": "code",
   "execution_count": 6,
   "metadata": {},
   "outputs": [
    {
     "data": {
      "text/html": [
       "<div>\n",
       "<style scoped>\n",
       "    .dataframe tbody tr th:only-of-type {\n",
       "        vertical-align: middle;\n",
       "    }\n",
       "\n",
       "    .dataframe tbody tr th {\n",
       "        vertical-align: top;\n",
       "    }\n",
       "\n",
       "    .dataframe thead th {\n",
       "        text-align: right;\n",
       "    }\n",
       "</style>\n",
       "<table border=\"1\" class=\"dataframe\">\n",
       "  <thead>\n",
       "    <tr style=\"text-align: right;\">\n",
       "      <th></th>\n",
       "      <th>name</th>\n",
       "      <th>marks</th>\n",
       "      <th>city</th>\n",
       "    </tr>\n",
       "  </thead>\n",
       "  <tbody>\n",
       "    <tr>\n",
       "      <th>first</th>\n",
       "      <td>harry</td>\n",
       "      <td>97</td>\n",
       "      <td>rampur</td>\n",
       "    </tr>\n",
       "    <tr>\n",
       "      <th>second</th>\n",
       "      <td>rohan</td>\n",
       "      <td>34</td>\n",
       "      <td>kolkata</td>\n",
       "    </tr>\n",
       "  </tbody>\n",
       "</table>\n",
       "</div>"
      ],
      "text/plain": [
       "         name  marks     city\n",
       "first   harry     97   rampur\n",
       "second  rohan     34  kolkata"
      ]
     },
     "execution_count": 6,
     "metadata": {},
     "output_type": "execute_result"
    }
   ],
   "source": [
    "df.head(2)"
   ]
  },
  {
   "cell_type": "code",
   "execution_count": 7,
   "metadata": {},
   "outputs": [
    {
     "data": {
      "text/html": [
       "<div>\n",
       "<style scoped>\n",
       "    .dataframe tbody tr th:only-of-type {\n",
       "        vertical-align: middle;\n",
       "    }\n",
       "\n",
       "    .dataframe tbody tr th {\n",
       "        vertical-align: top;\n",
       "    }\n",
       "\n",
       "    .dataframe thead th {\n",
       "        text-align: right;\n",
       "    }\n",
       "</style>\n",
       "<table border=\"1\" class=\"dataframe\">\n",
       "  <thead>\n",
       "    <tr style=\"text-align: right;\">\n",
       "      <th></th>\n",
       "      <th>name</th>\n",
       "      <th>marks</th>\n",
       "      <th>city</th>\n",
       "    </tr>\n",
       "  </thead>\n",
       "  <tbody>\n",
       "    <tr>\n",
       "      <th>third</th>\n",
       "      <td>skillf</td>\n",
       "      <td>24</td>\n",
       "      <td>barelly</td>\n",
       "    </tr>\n",
       "    <tr>\n",
       "      <th>fourth</th>\n",
       "      <td>subh</td>\n",
       "      <td>17</td>\n",
       "      <td>antartica</td>\n",
       "    </tr>\n",
       "  </tbody>\n",
       "</table>\n",
       "</div>"
      ],
      "text/plain": [
       "          name  marks       city\n",
       "third   skillf     24    barelly\n",
       "fourth    subh     17  antartica"
      ]
     },
     "execution_count": 7,
     "metadata": {},
     "output_type": "execute_result"
    }
   ],
   "source": [
    "df.tail(2)"
   ]
  },
  {
   "cell_type": "code",
   "execution_count": 8,
   "metadata": {},
   "outputs": [
    {
     "data": {
      "text/html": [
       "<div>\n",
       "<style scoped>\n",
       "    .dataframe tbody tr th:only-of-type {\n",
       "        vertical-align: middle;\n",
       "    }\n",
       "\n",
       "    .dataframe tbody tr th {\n",
       "        vertical-align: top;\n",
       "    }\n",
       "\n",
       "    .dataframe thead th {\n",
       "        text-align: right;\n",
       "    }\n",
       "</style>\n",
       "<table border=\"1\" class=\"dataframe\">\n",
       "  <thead>\n",
       "    <tr style=\"text-align: right;\">\n",
       "      <th></th>\n",
       "      <th>marks</th>\n",
       "    </tr>\n",
       "  </thead>\n",
       "  <tbody>\n",
       "    <tr>\n",
       "      <th>count</th>\n",
       "      <td>4.000000</td>\n",
       "    </tr>\n",
       "    <tr>\n",
       "      <th>mean</th>\n",
       "      <td>43.000000</td>\n",
       "    </tr>\n",
       "    <tr>\n",
       "      <th>std</th>\n",
       "      <td>36.669697</td>\n",
       "    </tr>\n",
       "    <tr>\n",
       "      <th>min</th>\n",
       "      <td>17.000000</td>\n",
       "    </tr>\n",
       "    <tr>\n",
       "      <th>25%</th>\n",
       "      <td>22.250000</td>\n",
       "    </tr>\n",
       "    <tr>\n",
       "      <th>50%</th>\n",
       "      <td>29.000000</td>\n",
       "    </tr>\n",
       "    <tr>\n",
       "      <th>75%</th>\n",
       "      <td>49.750000</td>\n",
       "    </tr>\n",
       "    <tr>\n",
       "      <th>max</th>\n",
       "      <td>97.000000</td>\n",
       "    </tr>\n",
       "  </tbody>\n",
       "</table>\n",
       "</div>"
      ],
      "text/plain": [
       "           marks\n",
       "count   4.000000\n",
       "mean   43.000000\n",
       "std    36.669697\n",
       "min    17.000000\n",
       "25%    22.250000\n",
       "50%    29.000000\n",
       "75%    49.750000\n",
       "max    97.000000"
      ]
     },
     "execution_count": 8,
     "metadata": {},
     "output_type": "execute_result"
    }
   ],
   "source": [
    "df.describe()"
   ]
  },
  {
   "cell_type": "code",
   "execution_count": 9,
   "metadata": {},
   "outputs": [
    {
     "name": "stdout",
     "output_type": "stream",
     "text": [
      "          SYMBOL  SERIES         DATE1  PREV_CLOSE   OPEN_PRICE   HIGH_PRICE  \\\n",
      "0      20MICRONS      EQ   09-Oct-2020       27.95        27.95        28.35   \n",
      "1     21STCENMGM      EQ   09-Oct-2020       10.10        10.30        10.30   \n",
      "2     3IINFOTECH      EQ   09-Oct-2020        3.35         3.35         3.40   \n",
      "3        3MINDIA      EQ   09-Oct-2020    18896.70     18988.00     19549.95   \n",
      "4         5PAISA      BE   09-Oct-2020      351.20       368.75       368.75   \n",
      "...          ...     ...           ...         ...          ...          ...   \n",
      "1980   ZODJRDMKJ      EQ   09-Oct-2020       24.15        24.15        25.30   \n",
      "1981        ZOTA      EQ   09-Oct-2020      145.75       145.95       147.90   \n",
      "1982       ZUARI      EQ   09-Oct-2020       82.70        83.20        83.25   \n",
      "1983   ZUARIGLOB      EQ   09-Oct-2020       50.30        50.70        51.00   \n",
      "1984   ZYDUSWELL      EQ   09-Oct-2020     1787.25      1808.00      1852.00   \n",
      "\n",
      "       LOW_PRICE  LAST_PRICE   CLOSE_PRICE   AVG_PRICE   TTL_TRD_QNTY  \\\n",
      "0          27.30        27.5         27.60       27.66          23126   \n",
      "1           9.90       10.15         10.15       10.21           1258   \n",
      "2           3.20        3.25          3.25        3.29        2319853   \n",
      "3       18708.00       19510      19491.40    19255.64           3258   \n",
      "4         361.20       365.1        367.80      368.18          19782   \n",
      "...          ...         ...           ...         ...            ...   \n",
      "1980       23.65        25.2         25.20       24.19            455   \n",
      "1981      145.30       146.3        146.10      145.78           1125   \n",
      "1982       81.80        81.8         82.15       82.62           2059   \n",
      "1983       48.20          50         49.45       49.91           6587   \n",
      "1984     1776.30        1840       1801.75     1793.82          33699   \n",
      "\n",
      "       TURNOVER_LACS   NO_OF_TRADES  DELIV_QTY  DELIV_PER  \n",
      "0               6.40            471      15111      65.34  \n",
      "1               0.13             11       1123      89.27  \n",
      "2              76.25           1689    1643353      70.84  \n",
      "3             627.35           1818       1809      55.52  \n",
      "4              72.83            526          -          -  \n",
      "...              ...            ...        ...        ...  \n",
      "1980            0.11              7        351      77.14  \n",
      "1981            1.64             71        900         80  \n",
      "1982            1.70             95       1336      64.89  \n",
      "1983            3.29            186       3801       57.7  \n",
      "1984          604.50           3459      23504      69.75  \n",
      "\n",
      "[1985 rows x 15 columns]\n"
     ]
    }
   ],
   "source": [
    "jatin = pd.read_csv('sec_bhavdata_full.csv')\n",
    "print(jatin)"
   ]
  },
  {
   "cell_type": "code",
   "execution_count": 10,
   "metadata": {},
   "outputs": [
    {
     "name": "stderr",
     "output_type": "stream",
     "text": [
      "<ipython-input-10-5081838aa4eb>:1: SettingWithCopyWarning: \n",
      "A value is trying to be set on a copy of a slice from a DataFrame\n",
      "\n",
      "See the caveats in the documentation: https://pandas.pydata.org/pandas-docs/stable/user_guide/indexing.html#returning-a-view-versus-a-copy\n",
      "  jatin['PREV_CLOSE'][0]=27.93\n"
     ]
    }
   ],
   "source": [
    "jatin['PREV_CLOSE'][0]=27.93"
   ]
  },
  {
   "cell_type": "code",
   "execution_count": 11,
   "metadata": {},
   "outputs": [
    {
     "name": "stdout",
     "output_type": "stream",
     "text": [
      "          SYMBOL  SERIES         DATE1  PREV_CLOSE   OPEN_PRICE   HIGH_PRICE  \\\n",
      "0      20MICRONS      EQ   09-Oct-2020       27.93        27.95        28.35   \n",
      "1     21STCENMGM      EQ   09-Oct-2020       10.10        10.30        10.30   \n",
      "2     3IINFOTECH      EQ   09-Oct-2020        3.35         3.35         3.40   \n",
      "3        3MINDIA      EQ   09-Oct-2020    18896.70     18988.00     19549.95   \n",
      "4         5PAISA      BE   09-Oct-2020      351.20       368.75       368.75   \n",
      "...          ...     ...           ...         ...          ...          ...   \n",
      "1980   ZODJRDMKJ      EQ   09-Oct-2020       24.15        24.15        25.30   \n",
      "1981        ZOTA      EQ   09-Oct-2020      145.75       145.95       147.90   \n",
      "1982       ZUARI      EQ   09-Oct-2020       82.70        83.20        83.25   \n",
      "1983   ZUARIGLOB      EQ   09-Oct-2020       50.30        50.70        51.00   \n",
      "1984   ZYDUSWELL      EQ   09-Oct-2020     1787.25      1808.00      1852.00   \n",
      "\n",
      "       LOW_PRICE  LAST_PRICE   CLOSE_PRICE   AVG_PRICE   TTL_TRD_QNTY  \\\n",
      "0          27.30        27.5         27.60       27.66          23126   \n",
      "1           9.90       10.15         10.15       10.21           1258   \n",
      "2           3.20        3.25          3.25        3.29        2319853   \n",
      "3       18708.00       19510      19491.40    19255.64           3258   \n",
      "4         361.20       365.1        367.80      368.18          19782   \n",
      "...          ...         ...           ...         ...            ...   \n",
      "1980       23.65        25.2         25.20       24.19            455   \n",
      "1981      145.30       146.3        146.10      145.78           1125   \n",
      "1982       81.80        81.8         82.15       82.62           2059   \n",
      "1983       48.20          50         49.45       49.91           6587   \n",
      "1984     1776.30        1840       1801.75     1793.82          33699   \n",
      "\n",
      "       TURNOVER_LACS   NO_OF_TRADES  DELIV_QTY  DELIV_PER  \n",
      "0               6.40            471      15111      65.34  \n",
      "1               0.13             11       1123      89.27  \n",
      "2              76.25           1689    1643353      70.84  \n",
      "3             627.35           1818       1809      55.52  \n",
      "4              72.83            526          -          -  \n",
      "...              ...            ...        ...        ...  \n",
      "1980            0.11              7        351      77.14  \n",
      "1981            1.64             71        900         80  \n",
      "1982            1.70             95       1336      64.89  \n",
      "1983            3.29            186       3801       57.7  \n",
      "1984          604.50           3459      23504      69.75  \n",
      "\n",
      "[1985 rows x 15 columns]\n"
     ]
    }
   ],
   "source": [
    "print(jatin)"
   ]
  },
  {
   "cell_type": "code",
   "execution_count": 12,
   "metadata": {},
   "outputs": [
    {
     "name": "stdout",
     "output_type": "stream",
     "text": [
      "0     0.463253\n",
      "1     0.137787\n",
      "2     0.980236\n",
      "3     0.589308\n",
      "4     0.848938\n",
      "5     0.256695\n",
      "6     0.161927\n",
      "7     0.954392\n",
      "8     0.095392\n",
      "9     0.961142\n",
      "10    0.485426\n",
      "11    0.329448\n",
      "12    0.392229\n",
      "13    0.400081\n",
      "14    0.069080\n",
      "15    0.246369\n",
      "16    0.469416\n",
      "17    0.024935\n",
      "18    0.692351\n",
      "19    0.619089\n",
      "20    0.676011\n",
      "21    0.167010\n",
      "22    0.604848\n",
      "23    0.032051\n",
      "24    0.746629\n",
      "25    0.295198\n",
      "26    0.117823\n",
      "27    0.849413\n",
      "28    0.638959\n",
      "29    0.826551\n",
      "30    0.123973\n",
      "31    0.721723\n",
      "32    0.876209\n",
      "33    0.910172\n",
      "dtype: float64\n"
     ]
    }
   ],
   "source": [
    "import numpy as np\n",
    "ser = pd.Series(np.random.rand(34))\n",
    "print(ser)"
   ]
  },
  {
   "cell_type": "code",
   "execution_count": 13,
   "metadata": {},
   "outputs": [
    {
     "name": "stdout",
     "output_type": "stream",
     "text": [
      "            0         1         2         3         4\n",
      "0    0.493965  0.909694  0.963161  0.055991  0.950221\n",
      "1    0.822177  0.221277  0.906135  0.240948  0.080853\n",
      "2    0.111676  0.844881  0.142780  0.214233  0.488915\n",
      "3    0.151119  0.389242  0.479466  0.766349  0.850943\n",
      "4    0.801639  0.114854  0.310851  0.844906  0.096287\n",
      "..        ...       ...       ...       ...       ...\n",
      "329  0.678203  0.812539  0.228883  0.600743  0.852882\n",
      "330  0.128338  0.790540  0.756622  0.419856  0.385338\n",
      "331  0.025250  0.711926  0.966168  0.887784  0.307426\n",
      "332  0.696784  0.972282  0.240531  0.376171  0.081786\n",
      "333  0.532558  0.391857  0.262627  0.323536  0.426742\n",
      "\n",
      "[334 rows x 5 columns]\n"
     ]
    }
   ],
   "source": [
    "newdf = pd.DataFrame(np.random.rand(334,5), index=np.arange(334))\n",
    "print(newdf)"
   ]
  },
  {
   "cell_type": "code",
   "execution_count": 14,
   "metadata": {},
   "outputs": [
    {
     "name": "stdout",
     "output_type": "stream",
     "text": [
      "                0           1           2           3           4\n",
      "count  334.000000  334.000000  334.000000  334.000000  334.000000\n",
      "mean     0.519526    0.501647    0.488800    0.506567    0.458930\n",
      "std      0.279774    0.287784    0.286602    0.289067    0.286285\n",
      "min      0.007243    0.006667    0.001876    0.001462    0.004725\n",
      "25%      0.278416    0.244040    0.241737    0.248522    0.220272\n",
      "50%      0.524349    0.523510    0.482170    0.503092    0.416118\n",
      "75%      0.764007    0.738794    0.708936    0.764694    0.686142\n",
      "max      0.993976    0.997710    0.996256    0.998151    0.999330\n"
     ]
    }
   ],
   "source": [
    "print(newdf.describe())"
   ]
  },
  {
   "cell_type": "code",
   "execution_count": 15,
   "metadata": {},
   "outputs": [
    {
     "name": "stdout",
     "output_type": "stream",
     "text": [
      "             0         1         2         3         4\n",
      "0        harry  0.909694  0.963161  0.055991  0.950221\n",
      "1     0.822177  0.221277  0.906135  0.240948  0.080853\n",
      "2     0.111676  0.844881  0.142780  0.214233  0.488915\n",
      "3     0.151119  0.389242  0.479466  0.766349  0.850943\n",
      "4     0.801639  0.114854  0.310851  0.844906  0.096287\n",
      "..         ...       ...       ...       ...       ...\n",
      "329   0.678203  0.812539  0.228883  0.600743  0.852882\n",
      "330   0.128338  0.790540  0.756622  0.419856  0.385338\n",
      "331  0.0252504  0.711926  0.966168  0.887784  0.307426\n",
      "332   0.696784  0.972282  0.240531  0.376171  0.081786\n",
      "333   0.532558  0.391857  0.262627  0.323536  0.426742\n",
      "\n",
      "[334 rows x 5 columns]\n"
     ]
    }
   ],
   "source": [
    "newdf[0][0]='harry'\n",
    "print(newdf)"
   ]
  },
  {
   "cell_type": "code",
   "execution_count": 16,
   "metadata": {},
   "outputs": [
    {
     "data": {
      "text/plain": [
       "array([['harry', 0.9096938772962744, 0.963160693892158,\n",
       "        0.05599098035896344, 0.9502209056754788],\n",
       "       [0.8221769117562461, 0.22127718572307264, 0.9061348511176329,\n",
       "        0.24094767708278086, 0.08085326959568206],\n",
       "       [0.1116764016116053, 0.8448808861539829, 0.14278042695926774,\n",
       "        0.21423266026337107, 0.48891506204399837],\n",
       "       ...,\n",
       "       [0.0252503557102004, 0.7119258915276748, 0.9661682814000073,\n",
       "        0.8877843716575203, 0.30742557079839805],\n",
       "       [0.6967836742113712, 0.9722816795113851, 0.24053093565183858,\n",
       "        0.37617089524280156, 0.08178589439489026],\n",
       "       [0.5325583037747791, 0.39185720663712065, 0.2626274650948923,\n",
       "        0.3235359629186546, 0.42674236232350005]], dtype=object)"
      ]
     },
     "execution_count": 16,
     "metadata": {},
     "output_type": "execute_result"
    }
   ],
   "source": [
    "newdf.to_numpy()"
   ]
  },
  {
   "cell_type": "code",
   "execution_count": 17,
   "metadata": {},
   "outputs": [
    {
     "name": "stdout",
     "output_type": "stream",
     "text": [
      "        0          1         2         3          4         5         6    \\\n",
      "0     harry   0.822177  0.111676  0.151119   0.801639  0.774576  0.797702   \n",
      "1  0.909694   0.221277  0.844881  0.389242   0.114854  0.239573  0.783423   \n",
      "2  0.963161   0.906135   0.14278  0.479466   0.310851  0.391789  0.882074   \n",
      "3  0.055991   0.240948  0.214233  0.766349   0.844906  0.998151  0.759066   \n",
      "4  0.950221  0.0808533  0.488915  0.850943  0.0962868  0.416975  0.927616   \n",
      "\n",
      "        7         8         9    ...       324        325       326       327  \\\n",
      "0    0.2215  0.457045  0.694491  ...  0.827648   0.975108  0.893078  0.955454   \n",
      "1  0.613614  0.297604  0.652119  ...   0.35702   0.606338  0.410653  0.828603   \n",
      "2  0.381419  0.482216  0.640436  ...  0.950012   0.494599  0.138985  0.327108   \n",
      "3  0.885533  0.571336  0.508797  ...  0.186639  0.0709786  0.846167  0.399198   \n",
      "4  0.208892  0.196221  0.327504  ...  0.477025    0.98748  0.932088  0.413022   \n",
      "\n",
      "        328       329       330        331        332       333  \n",
      "0  0.449018  0.678203  0.128338  0.0252504   0.696784  0.532558  \n",
      "1  0.799045  0.812539   0.79054   0.711926   0.972282  0.391857  \n",
      "2  0.493079  0.228883  0.756622   0.966168   0.240531  0.262627  \n",
      "3  0.101141  0.600743  0.419856   0.887784   0.376171  0.323536  \n",
      "4  0.847594  0.852882  0.385338   0.307426  0.0817859  0.426742  \n",
      "\n",
      "[5 rows x 334 columns]\n"
     ]
    }
   ],
   "source": [
    "print(newdf.T)"
   ]
  },
  {
   "cell_type": "code",
   "execution_count": 18,
   "metadata": {},
   "outputs": [
    {
     "data": {
      "text/html": [
       "<div>\n",
       "<style scoped>\n",
       "    .dataframe tbody tr th:only-of-type {\n",
       "        vertical-align: middle;\n",
       "    }\n",
       "\n",
       "    .dataframe tbody tr th {\n",
       "        vertical-align: top;\n",
       "    }\n",
       "\n",
       "    .dataframe thead th {\n",
       "        text-align: right;\n",
       "    }\n",
       "</style>\n",
       "<table border=\"1\" class=\"dataframe\">\n",
       "  <thead>\n",
       "    <tr style=\"text-align: right;\">\n",
       "      <th></th>\n",
       "      <th>0</th>\n",
       "      <th>1</th>\n",
       "      <th>2</th>\n",
       "      <th>3</th>\n",
       "      <th>4</th>\n",
       "    </tr>\n",
       "  </thead>\n",
       "  <tbody>\n",
       "    <tr>\n",
       "      <th>333</th>\n",
       "      <td>0.532558</td>\n",
       "      <td>0.391857</td>\n",
       "      <td>0.262627</td>\n",
       "      <td>0.323536</td>\n",
       "      <td>0.426742</td>\n",
       "    </tr>\n",
       "    <tr>\n",
       "      <th>332</th>\n",
       "      <td>0.696784</td>\n",
       "      <td>0.972282</td>\n",
       "      <td>0.240531</td>\n",
       "      <td>0.376171</td>\n",
       "      <td>0.081786</td>\n",
       "    </tr>\n",
       "    <tr>\n",
       "      <th>331</th>\n",
       "      <td>0.0252504</td>\n",
       "      <td>0.711926</td>\n",
       "      <td>0.966168</td>\n",
       "      <td>0.887784</td>\n",
       "      <td>0.307426</td>\n",
       "    </tr>\n",
       "    <tr>\n",
       "      <th>330</th>\n",
       "      <td>0.128338</td>\n",
       "      <td>0.790540</td>\n",
       "      <td>0.756622</td>\n",
       "      <td>0.419856</td>\n",
       "      <td>0.385338</td>\n",
       "    </tr>\n",
       "    <tr>\n",
       "      <th>329</th>\n",
       "      <td>0.678203</td>\n",
       "      <td>0.812539</td>\n",
       "      <td>0.228883</td>\n",
       "      <td>0.600743</td>\n",
       "      <td>0.852882</td>\n",
       "    </tr>\n",
       "    <tr>\n",
       "      <th>...</th>\n",
       "      <td>...</td>\n",
       "      <td>...</td>\n",
       "      <td>...</td>\n",
       "      <td>...</td>\n",
       "      <td>...</td>\n",
       "    </tr>\n",
       "    <tr>\n",
       "      <th>4</th>\n",
       "      <td>0.801639</td>\n",
       "      <td>0.114854</td>\n",
       "      <td>0.310851</td>\n",
       "      <td>0.844906</td>\n",
       "      <td>0.096287</td>\n",
       "    </tr>\n",
       "    <tr>\n",
       "      <th>3</th>\n",
       "      <td>0.151119</td>\n",
       "      <td>0.389242</td>\n",
       "      <td>0.479466</td>\n",
       "      <td>0.766349</td>\n",
       "      <td>0.850943</td>\n",
       "    </tr>\n",
       "    <tr>\n",
       "      <th>2</th>\n",
       "      <td>0.111676</td>\n",
       "      <td>0.844881</td>\n",
       "      <td>0.142780</td>\n",
       "      <td>0.214233</td>\n",
       "      <td>0.488915</td>\n",
       "    </tr>\n",
       "    <tr>\n",
       "      <th>1</th>\n",
       "      <td>0.822177</td>\n",
       "      <td>0.221277</td>\n",
       "      <td>0.906135</td>\n",
       "      <td>0.240948</td>\n",
       "      <td>0.080853</td>\n",
       "    </tr>\n",
       "    <tr>\n",
       "      <th>0</th>\n",
       "      <td>harry</td>\n",
       "      <td>0.909694</td>\n",
       "      <td>0.963161</td>\n",
       "      <td>0.055991</td>\n",
       "      <td>0.950221</td>\n",
       "    </tr>\n",
       "  </tbody>\n",
       "</table>\n",
       "<p>334 rows × 5 columns</p>\n",
       "</div>"
      ],
      "text/plain": [
       "             0         1         2         3         4\n",
       "333   0.532558  0.391857  0.262627  0.323536  0.426742\n",
       "332   0.696784  0.972282  0.240531  0.376171  0.081786\n",
       "331  0.0252504  0.711926  0.966168  0.887784  0.307426\n",
       "330   0.128338  0.790540  0.756622  0.419856  0.385338\n",
       "329   0.678203  0.812539  0.228883  0.600743  0.852882\n",
       "..         ...       ...       ...       ...       ...\n",
       "4     0.801639  0.114854  0.310851  0.844906  0.096287\n",
       "3     0.151119  0.389242  0.479466  0.766349  0.850943\n",
       "2     0.111676  0.844881  0.142780  0.214233  0.488915\n",
       "1     0.822177  0.221277  0.906135  0.240948  0.080853\n",
       "0        harry  0.909694  0.963161  0.055991  0.950221\n",
       "\n",
       "[334 rows x 5 columns]"
      ]
     },
     "execution_count": 18,
     "metadata": {},
     "output_type": "execute_result"
    }
   ],
   "source": [
    "newdf.sort_index(axis=0,ascending=False)"
   ]
  },
  {
   "cell_type": "code",
   "execution_count": 19,
   "metadata": {},
   "outputs": [
    {
     "name": "stdout",
     "output_type": "stream",
     "text": [
      "0          harry\n",
      "1       0.822177\n",
      "2       0.111676\n",
      "3       0.151119\n",
      "4       0.801639\n",
      "         ...    \n",
      "329     0.678203\n",
      "330     0.128338\n",
      "331    0.0252504\n",
      "332     0.696784\n",
      "333     0.532558\n",
      "Name: 0, Length: 334, dtype: object\n"
     ]
    }
   ],
   "source": [
    "print(newdf[0])"
   ]
  },
  {
   "cell_type": "code",
   "execution_count": 20,
   "metadata": {},
   "outputs": [
    {
     "name": "stderr",
     "output_type": "stream",
     "text": [
      "<ipython-input-20-fdf8374e2961>:2: SettingWithCopyWarning: \n",
      "A value is trying to be set on a copy of a slice from a DataFrame\n",
      "\n",
      "See the caveats in the documentation: https://pandas.pydata.org/pandas-docs/stable/user_guide/indexing.html#returning-a-view-versus-a-copy\n",
      "  newdf2[0][1]=356\n"
     ]
    }
   ],
   "source": [
    "newdf2=newdf.copy()\n",
    "newdf2[0][1]=356"
   ]
  },
  {
   "cell_type": "code",
   "execution_count": 21,
   "metadata": {},
   "outputs": [
    {
     "name": "stdout",
     "output_type": "stream",
     "text": [
      "             0         1         2         3         4\n",
      "0        harry  0.909694  0.963161  0.055991  0.950221\n",
      "1     0.822177  0.221277  0.906135  0.240948  0.080853\n",
      "2     0.111676  0.844881  0.142780  0.214233  0.488915\n",
      "3     0.151119  0.389242  0.479466  0.766349  0.850943\n",
      "4     0.801639  0.114854  0.310851  0.844906  0.096287\n",
      "..         ...       ...       ...       ...       ...\n",
      "329   0.678203  0.812539  0.228883  0.600743  0.852882\n",
      "330   0.128338  0.790540  0.756622  0.419856  0.385338\n",
      "331  0.0252504  0.711926  0.966168  0.887784  0.307426\n",
      "332   0.696784  0.972282  0.240531  0.376171  0.081786\n",
      "333   0.532558  0.391857  0.262627  0.323536  0.426742\n",
      "\n",
      "[334 rows x 5 columns]\n"
     ]
    }
   ],
   "source": [
    "print(newdf)"
   ]
  },
  {
   "cell_type": "code",
   "execution_count": 24,
   "metadata": {},
   "outputs": [
    {
     "name": "stdout",
     "output_type": "stream",
     "text": [
      "             0         1         2         3         4\n",
      "0          545  0.909694  0.963161  0.055991  0.950221\n",
      "1     0.822177  0.221277  0.906135  0.240948  0.080853\n",
      "2     0.111676  0.844881  0.142780  0.214233  0.488915\n",
      "3     0.151119  0.389242  0.479466  0.766349  0.850943\n",
      "4     0.801639  0.114854  0.310851  0.844906  0.096287\n",
      "..         ...       ...       ...       ...       ...\n",
      "329   0.678203  0.812539  0.228883  0.600743  0.852882\n",
      "330   0.128338  0.790540  0.756622  0.419856  0.385338\n",
      "331  0.0252504  0.711926  0.966168  0.887784  0.307426\n",
      "332   0.696784  0.972282  0.240531  0.376171  0.081786\n",
      "333   0.532558  0.391857  0.262627  0.323536  0.426742\n",
      "\n",
      "[334 rows x 5 columns]\n"
     ]
    }
   ],
   "source": [
    "newdf.loc[0,0]=545\n",
    "print(newdf)"
   ]
  },
  {
   "cell_type": "code",
   "execution_count": 25,
   "metadata": {},
   "outputs": [
    {
     "name": "stdout",
     "output_type": "stream",
     "text": [
      "             A         B         C         D         E\n",
      "0          545  0.909694  0.963161  0.055991  0.950221\n",
      "1     0.822177  0.221277  0.906135  0.240948  0.080853\n",
      "2     0.111676  0.844881  0.142780  0.214233  0.488915\n",
      "3     0.151119  0.389242  0.479466  0.766349  0.850943\n",
      "4     0.801639  0.114854  0.310851  0.844906  0.096287\n",
      "..         ...       ...       ...       ...       ...\n",
      "329   0.678203  0.812539  0.228883  0.600743  0.852882\n",
      "330   0.128338  0.790540  0.756622  0.419856  0.385338\n",
      "331  0.0252504  0.711926  0.966168  0.887784  0.307426\n",
      "332   0.696784  0.972282  0.240531  0.376171  0.081786\n",
      "333   0.532558  0.391857  0.262627  0.323536  0.426742\n",
      "\n",
      "[334 rows x 5 columns]\n"
     ]
    }
   ],
   "source": [
    "newdf.columns=list(\"ABCDE\")\n",
    "print(newdf)"
   ]
  },
  {
   "cell_type": "code",
   "execution_count": 26,
   "metadata": {},
   "outputs": [
    {
     "name": "stdout",
     "output_type": "stream",
     "text": [
      "             A         B         C         D         E\n",
      "0        78967  0.909694  0.963161  0.055991  0.950221\n",
      "1     0.822177  0.221277  0.906135  0.240948  0.080853\n",
      "2     0.111676  0.844881  0.142780  0.214233  0.488915\n",
      "3     0.151119  0.389242  0.479466  0.766349  0.850943\n",
      "4     0.801639  0.114854  0.310851  0.844906  0.096287\n",
      "..         ...       ...       ...       ...       ...\n",
      "329   0.678203  0.812539  0.228883  0.600743  0.852882\n",
      "330   0.128338  0.790540  0.756622  0.419856  0.385338\n",
      "331  0.0252504  0.711926  0.966168  0.887784  0.307426\n",
      "332   0.696784  0.972282  0.240531  0.376171  0.081786\n",
      "333   0.532558  0.391857  0.262627  0.323536  0.426742\n",
      "\n",
      "[334 rows x 5 columns]\n"
     ]
    }
   ],
   "source": [
    "newdf.loc[0,'A']=78967\n",
    "print(newdf)"
   ]
  },
  {
   "cell_type": "code",
   "execution_count": 27,
   "metadata": {},
   "outputs": [],
   "source": [
    "newdf.loc[0,0]=675"
   ]
  },
  {
   "cell_type": "code",
   "execution_count": 28,
   "metadata": {},
   "outputs": [
    {
     "name": "stdout",
     "output_type": "stream",
     "text": [
      "             A         B         C         D         E      0\n",
      "0        78967  0.909694  0.963161  0.055991  0.950221  675.0\n",
      "1     0.822177  0.221277  0.906135  0.240948  0.080853    NaN\n",
      "2     0.111676  0.844881  0.142780  0.214233  0.488915    NaN\n",
      "3     0.151119  0.389242  0.479466  0.766349  0.850943    NaN\n",
      "4     0.801639  0.114854  0.310851  0.844906  0.096287    NaN\n",
      "..         ...       ...       ...       ...       ...    ...\n",
      "329   0.678203  0.812539  0.228883  0.600743  0.852882    NaN\n",
      "330   0.128338  0.790540  0.756622  0.419856  0.385338    NaN\n",
      "331  0.0252504  0.711926  0.966168  0.887784  0.307426    NaN\n",
      "332   0.696784  0.972282  0.240531  0.376171  0.081786    NaN\n",
      "333   0.532558  0.391857  0.262627  0.323536  0.426742    NaN\n",
      "\n",
      "[334 rows x 6 columns]\n"
     ]
    }
   ],
   "source": [
    "print(newdf)"
   ]
  },
  {
   "cell_type": "code",
   "execution_count": 29,
   "metadata": {},
   "outputs": [
    {
     "name": "stdout",
     "output_type": "stream",
     "text": [
      "             A         B         C         D         E\n",
      "0        78967  0.909694  0.963161  0.055991  0.950221\n",
      "1     0.822177  0.221277  0.906135  0.240948  0.080853\n",
      "2     0.111676  0.844881  0.142780  0.214233  0.488915\n",
      "3     0.151119  0.389242  0.479466  0.766349  0.850943\n",
      "4     0.801639  0.114854  0.310851  0.844906  0.096287\n",
      "..         ...       ...       ...       ...       ...\n",
      "329   0.678203  0.812539  0.228883  0.600743  0.852882\n",
      "330   0.128338  0.790540  0.756622  0.419856  0.385338\n",
      "331  0.0252504  0.711926  0.966168  0.887784  0.307426\n",
      "332   0.696784  0.972282  0.240531  0.376171  0.081786\n",
      "333   0.532558  0.391857  0.262627  0.323536  0.426742\n",
      "\n",
      "[334 rows x 5 columns]\n"
     ]
    }
   ],
   "source": [
    "newdf=newdf.drop(0, axis=1)\n",
    "print(newdf)"
   ]
  },
  {
   "cell_type": "code",
   "execution_count": 30,
   "metadata": {},
   "outputs": [
    {
     "data": {
      "text/html": [
       "<div>\n",
       "<style scoped>\n",
       "    .dataframe tbody tr th:only-of-type {\n",
       "        vertical-align: middle;\n",
       "    }\n",
       "\n",
       "    .dataframe tbody tr th {\n",
       "        vertical-align: top;\n",
       "    }\n",
       "\n",
       "    .dataframe thead th {\n",
       "        text-align: right;\n",
       "    }\n",
       "</style>\n",
       "<table border=\"1\" class=\"dataframe\">\n",
       "  <thead>\n",
       "    <tr style=\"text-align: right;\">\n",
       "      <th></th>\n",
       "      <th>C</th>\n",
       "      <th>D</th>\n",
       "    </tr>\n",
       "  </thead>\n",
       "  <tbody>\n",
       "    <tr>\n",
       "      <th>1</th>\n",
       "      <td>0.906135</td>\n",
       "      <td>0.240948</td>\n",
       "    </tr>\n",
       "    <tr>\n",
       "      <th>2</th>\n",
       "      <td>0.142780</td>\n",
       "      <td>0.214233</td>\n",
       "    </tr>\n",
       "  </tbody>\n",
       "</table>\n",
       "</div>"
      ],
      "text/plain": [
       "          C         D\n",
       "1  0.906135  0.240948\n",
       "2  0.142780  0.214233"
      ]
     },
     "execution_count": 30,
     "metadata": {},
     "output_type": "execute_result"
    }
   ],
   "source": [
    "newdf.loc[[1,2],['C','D']]"
   ]
  },
  {
   "cell_type": "code",
   "execution_count": 31,
   "metadata": {},
   "outputs": [
    {
     "data": {
      "text/html": [
       "<div>\n",
       "<style scoped>\n",
       "    .dataframe tbody tr th:only-of-type {\n",
       "        vertical-align: middle;\n",
       "    }\n",
       "\n",
       "    .dataframe tbody tr th {\n",
       "        vertical-align: top;\n",
       "    }\n",
       "\n",
       "    .dataframe thead th {\n",
       "        text-align: right;\n",
       "    }\n",
       "</style>\n",
       "<table border=\"1\" class=\"dataframe\">\n",
       "  <thead>\n",
       "    <tr style=\"text-align: right;\">\n",
       "      <th></th>\n",
       "      <th>C</th>\n",
       "      <th>D</th>\n",
       "    </tr>\n",
       "  </thead>\n",
       "  <tbody>\n",
       "    <tr>\n",
       "      <th>0</th>\n",
       "      <td>0.963161</td>\n",
       "      <td>0.055991</td>\n",
       "    </tr>\n",
       "    <tr>\n",
       "      <th>1</th>\n",
       "      <td>0.906135</td>\n",
       "      <td>0.240948</td>\n",
       "    </tr>\n",
       "    <tr>\n",
       "      <th>2</th>\n",
       "      <td>0.142780</td>\n",
       "      <td>0.214233</td>\n",
       "    </tr>\n",
       "    <tr>\n",
       "      <th>3</th>\n",
       "      <td>0.479466</td>\n",
       "      <td>0.766349</td>\n",
       "    </tr>\n",
       "    <tr>\n",
       "      <th>4</th>\n",
       "      <td>0.310851</td>\n",
       "      <td>0.844906</td>\n",
       "    </tr>\n",
       "    <tr>\n",
       "      <th>...</th>\n",
       "      <td>...</td>\n",
       "      <td>...</td>\n",
       "    </tr>\n",
       "    <tr>\n",
       "      <th>329</th>\n",
       "      <td>0.228883</td>\n",
       "      <td>0.600743</td>\n",
       "    </tr>\n",
       "    <tr>\n",
       "      <th>330</th>\n",
       "      <td>0.756622</td>\n",
       "      <td>0.419856</td>\n",
       "    </tr>\n",
       "    <tr>\n",
       "      <th>331</th>\n",
       "      <td>0.966168</td>\n",
       "      <td>0.887784</td>\n",
       "    </tr>\n",
       "    <tr>\n",
       "      <th>332</th>\n",
       "      <td>0.240531</td>\n",
       "      <td>0.376171</td>\n",
       "    </tr>\n",
       "    <tr>\n",
       "      <th>333</th>\n",
       "      <td>0.262627</td>\n",
       "      <td>0.323536</td>\n",
       "    </tr>\n",
       "  </tbody>\n",
       "</table>\n",
       "<p>334 rows × 2 columns</p>\n",
       "</div>"
      ],
      "text/plain": [
       "            C         D\n",
       "0    0.963161  0.055991\n",
       "1    0.906135  0.240948\n",
       "2    0.142780  0.214233\n",
       "3    0.479466  0.766349\n",
       "4    0.310851  0.844906\n",
       "..        ...       ...\n",
       "329  0.228883  0.600743\n",
       "330  0.756622  0.419856\n",
       "331  0.966168  0.887784\n",
       "332  0.240531  0.376171\n",
       "333  0.262627  0.323536\n",
       "\n",
       "[334 rows x 2 columns]"
      ]
     },
     "execution_count": 31,
     "metadata": {},
     "output_type": "execute_result"
    }
   ],
   "source": [
    "newdf.loc[:,['C','D']]"
   ]
  },
  {
   "cell_type": "code",
   "execution_count": 32,
   "metadata": {},
   "outputs": [
    {
     "data": {
      "text/html": [
       "<div>\n",
       "<style scoped>\n",
       "    .dataframe tbody tr th:only-of-type {\n",
       "        vertical-align: middle;\n",
       "    }\n",
       "\n",
       "    .dataframe tbody tr th {\n",
       "        vertical-align: top;\n",
       "    }\n",
       "\n",
       "    .dataframe thead th {\n",
       "        text-align: right;\n",
       "    }\n",
       "</style>\n",
       "<table border=\"1\" class=\"dataframe\">\n",
       "  <thead>\n",
       "    <tr style=\"text-align: right;\">\n",
       "      <th></th>\n",
       "      <th>A</th>\n",
       "      <th>B</th>\n",
       "      <th>C</th>\n",
       "      <th>D</th>\n",
       "      <th>E</th>\n",
       "    </tr>\n",
       "  </thead>\n",
       "  <tbody>\n",
       "    <tr>\n",
       "      <th>2</th>\n",
       "      <td>0.111676</td>\n",
       "      <td>0.844881</td>\n",
       "      <td>0.142780</td>\n",
       "      <td>0.214233</td>\n",
       "      <td>0.488915</td>\n",
       "    </tr>\n",
       "    <tr>\n",
       "      <th>3</th>\n",
       "      <td>0.151119</td>\n",
       "      <td>0.389242</td>\n",
       "      <td>0.479466</td>\n",
       "      <td>0.766349</td>\n",
       "      <td>0.850943</td>\n",
       "    </tr>\n",
       "    <tr>\n",
       "      <th>7</th>\n",
       "      <td>0.2215</td>\n",
       "      <td>0.613614</td>\n",
       "      <td>0.381419</td>\n",
       "      <td>0.885533</td>\n",
       "      <td>0.208892</td>\n",
       "    </tr>\n",
       "    <tr>\n",
       "      <th>13</th>\n",
       "      <td>0.0527599</td>\n",
       "      <td>0.100058</td>\n",
       "      <td>0.061683</td>\n",
       "      <td>0.205281</td>\n",
       "      <td>0.650176</td>\n",
       "    </tr>\n",
       "    <tr>\n",
       "      <th>16</th>\n",
       "      <td>0.252405</td>\n",
       "      <td>0.537244</td>\n",
       "      <td>0.931695</td>\n",
       "      <td>0.032936</td>\n",
       "      <td>0.040841</td>\n",
       "    </tr>\n",
       "    <tr>\n",
       "      <th>...</th>\n",
       "      <td>...</td>\n",
       "      <td>...</td>\n",
       "      <td>...</td>\n",
       "      <td>...</td>\n",
       "      <td>...</td>\n",
       "    </tr>\n",
       "    <tr>\n",
       "      <th>313</th>\n",
       "      <td>0.213597</td>\n",
       "      <td>0.774154</td>\n",
       "      <td>0.213876</td>\n",
       "      <td>0.605565</td>\n",
       "      <td>0.766489</td>\n",
       "    </tr>\n",
       "    <tr>\n",
       "      <th>322</th>\n",
       "      <td>0.273835</td>\n",
       "      <td>0.343337</td>\n",
       "      <td>0.664693</td>\n",
       "      <td>0.914248</td>\n",
       "      <td>0.961460</td>\n",
       "    </tr>\n",
       "    <tr>\n",
       "      <th>323</th>\n",
       "      <td>0.283754</td>\n",
       "      <td>0.848643</td>\n",
       "      <td>0.037383</td>\n",
       "      <td>0.275845</td>\n",
       "      <td>0.584922</td>\n",
       "    </tr>\n",
       "    <tr>\n",
       "      <th>330</th>\n",
       "      <td>0.128338</td>\n",
       "      <td>0.790540</td>\n",
       "      <td>0.756622</td>\n",
       "      <td>0.419856</td>\n",
       "      <td>0.385338</td>\n",
       "    </tr>\n",
       "    <tr>\n",
       "      <th>331</th>\n",
       "      <td>0.0252504</td>\n",
       "      <td>0.711926</td>\n",
       "      <td>0.966168</td>\n",
       "      <td>0.887784</td>\n",
       "      <td>0.307426</td>\n",
       "    </tr>\n",
       "  </tbody>\n",
       "</table>\n",
       "<p>93 rows × 5 columns</p>\n",
       "</div>"
      ],
      "text/plain": [
       "             A         B         C         D         E\n",
       "2     0.111676  0.844881  0.142780  0.214233  0.488915\n",
       "3     0.151119  0.389242  0.479466  0.766349  0.850943\n",
       "7       0.2215  0.613614  0.381419  0.885533  0.208892\n",
       "13   0.0527599  0.100058  0.061683  0.205281  0.650176\n",
       "16    0.252405  0.537244  0.931695  0.032936  0.040841\n",
       "..         ...       ...       ...       ...       ...\n",
       "313   0.213597  0.774154  0.213876  0.605565  0.766489\n",
       "322   0.273835  0.343337  0.664693  0.914248  0.961460\n",
       "323   0.283754  0.848643  0.037383  0.275845  0.584922\n",
       "330   0.128338  0.790540  0.756622  0.419856  0.385338\n",
       "331  0.0252504  0.711926  0.966168  0.887784  0.307426\n",
       "\n",
       "[93 rows x 5 columns]"
      ]
     },
     "execution_count": 32,
     "metadata": {},
     "output_type": "execute_result"
    }
   ],
   "source": [
    "newdf.loc[(newdf['A']<0.3)]"
   ]
  },
  {
   "cell_type": "code",
   "execution_count": 35,
   "metadata": {},
   "outputs": [
    {
     "name": "stdout",
     "output_type": "stream",
     "text": [
      "             A         B         C         D         E\n",
      "0        78967  0.909694  0.963161  0.055991  0.950221\n",
      "1     0.822177  0.221277  0.906135  0.240948  0.080853\n",
      "2     0.111676  0.844881  0.142780  0.214233  0.488915\n",
      "3     0.151119  0.389242  0.479466  0.766349  0.850943\n",
      "4     0.801639  0.114854  0.310851  0.844906  0.096287\n",
      "..         ...       ...       ...       ...       ...\n",
      "329   0.678203  0.812539  0.228883  0.600743  0.852882\n",
      "330   0.128338  0.790540  0.756622  0.419856  0.385338\n",
      "331  0.0252504  0.711926  0.966168  0.887784  0.307426\n",
      "332   0.696784  0.972282  0.240531  0.376171  0.081786\n",
      "333   0.532558  0.391857  0.262627  0.323536  0.426742\n",
      "\n",
      "[334 rows x 5 columns]\n"
     ]
    }
   ],
   "source": [
    "print(newdf)"
   ]
  },
  {
   "cell_type": "code",
   "execution_count": 34,
   "metadata": {},
   "outputs": [
    {
     "name": "stdout",
     "output_type": "stream",
     "text": [
      "0.9502209056754788\n"
     ]
    }
   ],
   "source": [
    "print(newdf.iloc[0,4])"
   ]
  },
  {
   "cell_type": "code",
   "execution_count": 36,
   "metadata": {},
   "outputs": [
    {
     "name": "stdout",
     "output_type": "stream",
     "text": [
      "          B         C\n",
      "0  0.909694  0.963161\n",
      "5  0.239573  0.391789\n"
     ]
    }
   ],
   "source": [
    "print(newdf.iloc[[0,5],[1,2]])"
   ]
  },
  {
   "cell_type": "code",
   "execution_count": 37,
   "metadata": {},
   "outputs": [],
   "source": [
    "newdf.drop([1,5],axis=0,inplace=True)"
   ]
  },
  {
   "cell_type": "code",
   "execution_count": 38,
   "metadata": {},
   "outputs": [
    {
     "data": {
      "text/html": [
       "<div>\n",
       "<style scoped>\n",
       "    .dataframe tbody tr th:only-of-type {\n",
       "        vertical-align: middle;\n",
       "    }\n",
       "\n",
       "    .dataframe tbody tr th {\n",
       "        vertical-align: top;\n",
       "    }\n",
       "\n",
       "    .dataframe thead th {\n",
       "        text-align: right;\n",
       "    }\n",
       "</style>\n",
       "<table border=\"1\" class=\"dataframe\">\n",
       "  <thead>\n",
       "    <tr style=\"text-align: right;\">\n",
       "      <th></th>\n",
       "      <th>A</th>\n",
       "      <th>B</th>\n",
       "      <th>C</th>\n",
       "      <th>D</th>\n",
       "      <th>E</th>\n",
       "    </tr>\n",
       "  </thead>\n",
       "  <tbody>\n",
       "    <tr>\n",
       "      <th>0</th>\n",
       "      <td>78967</td>\n",
       "      <td>0.909694</td>\n",
       "      <td>0.963161</td>\n",
       "      <td>0.055991</td>\n",
       "      <td>0.950221</td>\n",
       "    </tr>\n",
       "    <tr>\n",
       "      <th>2</th>\n",
       "      <td>0.111676</td>\n",
       "      <td>0.844881</td>\n",
       "      <td>0.142780</td>\n",
       "      <td>0.214233</td>\n",
       "      <td>0.488915</td>\n",
       "    </tr>\n",
       "    <tr>\n",
       "      <th>3</th>\n",
       "      <td>0.151119</td>\n",
       "      <td>0.389242</td>\n",
       "      <td>0.479466</td>\n",
       "      <td>0.766349</td>\n",
       "      <td>0.850943</td>\n",
       "    </tr>\n",
       "    <tr>\n",
       "      <th>4</th>\n",
       "      <td>0.801639</td>\n",
       "      <td>0.114854</td>\n",
       "      <td>0.310851</td>\n",
       "      <td>0.844906</td>\n",
       "      <td>0.096287</td>\n",
       "    </tr>\n",
       "    <tr>\n",
       "      <th>6</th>\n",
       "      <td>0.797702</td>\n",
       "      <td>0.783423</td>\n",
       "      <td>0.882074</td>\n",
       "      <td>0.759066</td>\n",
       "      <td>0.927616</td>\n",
       "    </tr>\n",
       "    <tr>\n",
       "      <th>...</th>\n",
       "      <td>...</td>\n",
       "      <td>...</td>\n",
       "      <td>...</td>\n",
       "      <td>...</td>\n",
       "      <td>...</td>\n",
       "    </tr>\n",
       "    <tr>\n",
       "      <th>329</th>\n",
       "      <td>0.678203</td>\n",
       "      <td>0.812539</td>\n",
       "      <td>0.228883</td>\n",
       "      <td>0.600743</td>\n",
       "      <td>0.852882</td>\n",
       "    </tr>\n",
       "    <tr>\n",
       "      <th>330</th>\n",
       "      <td>0.128338</td>\n",
       "      <td>0.790540</td>\n",
       "      <td>0.756622</td>\n",
       "      <td>0.419856</td>\n",
       "      <td>0.385338</td>\n",
       "    </tr>\n",
       "    <tr>\n",
       "      <th>331</th>\n",
       "      <td>0.0252504</td>\n",
       "      <td>0.711926</td>\n",
       "      <td>0.966168</td>\n",
       "      <td>0.887784</td>\n",
       "      <td>0.307426</td>\n",
       "    </tr>\n",
       "    <tr>\n",
       "      <th>332</th>\n",
       "      <td>0.696784</td>\n",
       "      <td>0.972282</td>\n",
       "      <td>0.240531</td>\n",
       "      <td>0.376171</td>\n",
       "      <td>0.081786</td>\n",
       "    </tr>\n",
       "    <tr>\n",
       "      <th>333</th>\n",
       "      <td>0.532558</td>\n",
       "      <td>0.391857</td>\n",
       "      <td>0.262627</td>\n",
       "      <td>0.323536</td>\n",
       "      <td>0.426742</td>\n",
       "    </tr>\n",
       "  </tbody>\n",
       "</table>\n",
       "<p>332 rows × 5 columns</p>\n",
       "</div>"
      ],
      "text/plain": [
       "             A         B         C         D         E\n",
       "0        78967  0.909694  0.963161  0.055991  0.950221\n",
       "2     0.111676  0.844881  0.142780  0.214233  0.488915\n",
       "3     0.151119  0.389242  0.479466  0.766349  0.850943\n",
       "4     0.801639  0.114854  0.310851  0.844906  0.096287\n",
       "6     0.797702  0.783423  0.882074  0.759066  0.927616\n",
       "..         ...       ...       ...       ...       ...\n",
       "329   0.678203  0.812539  0.228883  0.600743  0.852882\n",
       "330   0.128338  0.790540  0.756622  0.419856  0.385338\n",
       "331  0.0252504  0.711926  0.966168  0.887784  0.307426\n",
       "332   0.696784  0.972282  0.240531  0.376171  0.081786\n",
       "333   0.532558  0.391857  0.262627  0.323536  0.426742\n",
       "\n",
       "[332 rows x 5 columns]"
      ]
     },
     "execution_count": 38,
     "metadata": {},
     "output_type": "execute_result"
    }
   ],
   "source": [
    "newdf"
   ]
  },
  {
   "cell_type": "code",
   "execution_count": 41,
   "metadata": {},
   "outputs": [
    {
     "data": {
      "text/html": [
       "<div>\n",
       "<style scoped>\n",
       "    .dataframe tbody tr th:only-of-type {\n",
       "        vertical-align: middle;\n",
       "    }\n",
       "\n",
       "    .dataframe tbody tr th {\n",
       "        vertical-align: top;\n",
       "    }\n",
       "\n",
       "    .dataframe thead th {\n",
       "        text-align: right;\n",
       "    }\n",
       "</style>\n",
       "<table border=\"1\" class=\"dataframe\">\n",
       "  <thead>\n",
       "    <tr style=\"text-align: right;\">\n",
       "      <th></th>\n",
       "      <th>A</th>\n",
       "      <th>B</th>\n",
       "      <th>C</th>\n",
       "      <th>D</th>\n",
       "      <th>E</th>\n",
       "    </tr>\n",
       "  </thead>\n",
       "  <tbody>\n",
       "    <tr>\n",
       "      <th>0</th>\n",
       "      <td>78967</td>\n",
       "      <td>0.909694</td>\n",
       "      <td>0.963161</td>\n",
       "      <td>0.055991</td>\n",
       "      <td>0.950221</td>\n",
       "    </tr>\n",
       "    <tr>\n",
       "      <th>1</th>\n",
       "      <td>0.111676</td>\n",
       "      <td>0.844881</td>\n",
       "      <td>0.142780</td>\n",
       "      <td>0.214233</td>\n",
       "      <td>0.488915</td>\n",
       "    </tr>\n",
       "    <tr>\n",
       "      <th>2</th>\n",
       "      <td>0.151119</td>\n",
       "      <td>0.389242</td>\n",
       "      <td>0.479466</td>\n",
       "      <td>0.766349</td>\n",
       "      <td>0.850943</td>\n",
       "    </tr>\n",
       "    <tr>\n",
       "      <th>3</th>\n",
       "      <td>0.801639</td>\n",
       "      <td>0.114854</td>\n",
       "      <td>0.310851</td>\n",
       "      <td>0.844906</td>\n",
       "      <td>0.096287</td>\n",
       "    </tr>\n",
       "    <tr>\n",
       "      <th>4</th>\n",
       "      <td>0.797702</td>\n",
       "      <td>0.783423</td>\n",
       "      <td>0.882074</td>\n",
       "      <td>0.759066</td>\n",
       "      <td>0.927616</td>\n",
       "    </tr>\n",
       "    <tr>\n",
       "      <th>...</th>\n",
       "      <td>...</td>\n",
       "      <td>...</td>\n",
       "      <td>...</td>\n",
       "      <td>...</td>\n",
       "      <td>...</td>\n",
       "    </tr>\n",
       "    <tr>\n",
       "      <th>327</th>\n",
       "      <td>0.678203</td>\n",
       "      <td>0.812539</td>\n",
       "      <td>0.228883</td>\n",
       "      <td>0.600743</td>\n",
       "      <td>0.852882</td>\n",
       "    </tr>\n",
       "    <tr>\n",
       "      <th>328</th>\n",
       "      <td>0.128338</td>\n",
       "      <td>0.790540</td>\n",
       "      <td>0.756622</td>\n",
       "      <td>0.419856</td>\n",
       "      <td>0.385338</td>\n",
       "    </tr>\n",
       "    <tr>\n",
       "      <th>329</th>\n",
       "      <td>0.0252504</td>\n",
       "      <td>0.711926</td>\n",
       "      <td>0.966168</td>\n",
       "      <td>0.887784</td>\n",
       "      <td>0.307426</td>\n",
       "    </tr>\n",
       "    <tr>\n",
       "      <th>330</th>\n",
       "      <td>0.696784</td>\n",
       "      <td>0.972282</td>\n",
       "      <td>0.240531</td>\n",
       "      <td>0.376171</td>\n",
       "      <td>0.081786</td>\n",
       "    </tr>\n",
       "    <tr>\n",
       "      <th>331</th>\n",
       "      <td>0.532558</td>\n",
       "      <td>0.391857</td>\n",
       "      <td>0.262627</td>\n",
       "      <td>0.323536</td>\n",
       "      <td>0.426742</td>\n",
       "    </tr>\n",
       "  </tbody>\n",
       "</table>\n",
       "<p>332 rows × 5 columns</p>\n",
       "</div>"
      ],
      "text/plain": [
       "             A         B         C         D         E\n",
       "0        78967  0.909694  0.963161  0.055991  0.950221\n",
       "1     0.111676  0.844881  0.142780  0.214233  0.488915\n",
       "2     0.151119  0.389242  0.479466  0.766349  0.850943\n",
       "3     0.801639  0.114854  0.310851  0.844906  0.096287\n",
       "4     0.797702  0.783423  0.882074  0.759066  0.927616\n",
       "..         ...       ...       ...       ...       ...\n",
       "327   0.678203  0.812539  0.228883  0.600743  0.852882\n",
       "328   0.128338  0.790540  0.756622  0.419856  0.385338\n",
       "329  0.0252504  0.711926  0.966168  0.887784  0.307426\n",
       "330   0.696784  0.972282  0.240531  0.376171  0.081786\n",
       "331   0.532558  0.391857  0.262627  0.323536  0.426742\n",
       "\n",
       "[332 rows x 5 columns]"
      ]
     },
     "execution_count": 41,
     "metadata": {},
     "output_type": "execute_result"
    }
   ],
   "source": [
    "newdf.reset_index(drop=True)"
   ]
  },
  {
   "cell_type": "code",
   "execution_count": 42,
   "metadata": {},
   "outputs": [
    {
     "data": {
      "text/plain": [
       "0      False\n",
       "2      False\n",
       "3      False\n",
       "4      False\n",
       "6      False\n",
       "       ...  \n",
       "329    False\n",
       "330    False\n",
       "331    False\n",
       "332    False\n",
       "333    False\n",
       "Name: B, Length: 332, dtype: bool"
      ]
     },
     "execution_count": 42,
     "metadata": {},
     "output_type": "execute_result"
    }
   ],
   "source": [
    "newdf['B'].isnull()"
   ]
  },
  {
   "cell_type": "code",
   "execution_count": 43,
   "metadata": {},
   "outputs": [],
   "source": [
    "newdf.loc[:,['B']]=None"
   ]
  },
  {
   "cell_type": "code",
   "execution_count": 44,
   "metadata": {},
   "outputs": [
    {
     "data": {
      "text/html": [
       "<div>\n",
       "<style scoped>\n",
       "    .dataframe tbody tr th:only-of-type {\n",
       "        vertical-align: middle;\n",
       "    }\n",
       "\n",
       "    .dataframe tbody tr th {\n",
       "        vertical-align: top;\n",
       "    }\n",
       "\n",
       "    .dataframe thead th {\n",
       "        text-align: right;\n",
       "    }\n",
       "</style>\n",
       "<table border=\"1\" class=\"dataframe\">\n",
       "  <thead>\n",
       "    <tr style=\"text-align: right;\">\n",
       "      <th></th>\n",
       "      <th>A</th>\n",
       "      <th>B</th>\n",
       "      <th>C</th>\n",
       "      <th>D</th>\n",
       "      <th>E</th>\n",
       "    </tr>\n",
       "  </thead>\n",
       "  <tbody>\n",
       "    <tr>\n",
       "      <th>0</th>\n",
       "      <td>78967</td>\n",
       "      <td>None</td>\n",
       "      <td>0.963161</td>\n",
       "      <td>0.055991</td>\n",
       "      <td>0.950221</td>\n",
       "    </tr>\n",
       "    <tr>\n",
       "      <th>2</th>\n",
       "      <td>0.111676</td>\n",
       "      <td>None</td>\n",
       "      <td>0.142780</td>\n",
       "      <td>0.214233</td>\n",
       "      <td>0.488915</td>\n",
       "    </tr>\n",
       "    <tr>\n",
       "      <th>3</th>\n",
       "      <td>0.151119</td>\n",
       "      <td>None</td>\n",
       "      <td>0.479466</td>\n",
       "      <td>0.766349</td>\n",
       "      <td>0.850943</td>\n",
       "    </tr>\n",
       "    <tr>\n",
       "      <th>4</th>\n",
       "      <td>0.801639</td>\n",
       "      <td>None</td>\n",
       "      <td>0.310851</td>\n",
       "      <td>0.844906</td>\n",
       "      <td>0.096287</td>\n",
       "    </tr>\n",
       "    <tr>\n",
       "      <th>6</th>\n",
       "      <td>0.797702</td>\n",
       "      <td>None</td>\n",
       "      <td>0.882074</td>\n",
       "      <td>0.759066</td>\n",
       "      <td>0.927616</td>\n",
       "    </tr>\n",
       "    <tr>\n",
       "      <th>...</th>\n",
       "      <td>...</td>\n",
       "      <td>...</td>\n",
       "      <td>...</td>\n",
       "      <td>...</td>\n",
       "      <td>...</td>\n",
       "    </tr>\n",
       "    <tr>\n",
       "      <th>329</th>\n",
       "      <td>0.678203</td>\n",
       "      <td>None</td>\n",
       "      <td>0.228883</td>\n",
       "      <td>0.600743</td>\n",
       "      <td>0.852882</td>\n",
       "    </tr>\n",
       "    <tr>\n",
       "      <th>330</th>\n",
       "      <td>0.128338</td>\n",
       "      <td>None</td>\n",
       "      <td>0.756622</td>\n",
       "      <td>0.419856</td>\n",
       "      <td>0.385338</td>\n",
       "    </tr>\n",
       "    <tr>\n",
       "      <th>331</th>\n",
       "      <td>0.0252504</td>\n",
       "      <td>None</td>\n",
       "      <td>0.966168</td>\n",
       "      <td>0.887784</td>\n",
       "      <td>0.307426</td>\n",
       "    </tr>\n",
       "    <tr>\n",
       "      <th>332</th>\n",
       "      <td>0.696784</td>\n",
       "      <td>None</td>\n",
       "      <td>0.240531</td>\n",
       "      <td>0.376171</td>\n",
       "      <td>0.081786</td>\n",
       "    </tr>\n",
       "    <tr>\n",
       "      <th>333</th>\n",
       "      <td>0.532558</td>\n",
       "      <td>None</td>\n",
       "      <td>0.262627</td>\n",
       "      <td>0.323536</td>\n",
       "      <td>0.426742</td>\n",
       "    </tr>\n",
       "  </tbody>\n",
       "</table>\n",
       "<p>332 rows × 5 columns</p>\n",
       "</div>"
      ],
      "text/plain": [
       "             A     B         C         D         E\n",
       "0        78967  None  0.963161  0.055991  0.950221\n",
       "2     0.111676  None  0.142780  0.214233  0.488915\n",
       "3     0.151119  None  0.479466  0.766349  0.850943\n",
       "4     0.801639  None  0.310851  0.844906  0.096287\n",
       "6     0.797702  None  0.882074  0.759066  0.927616\n",
       "..         ...   ...       ...       ...       ...\n",
       "329   0.678203  None  0.228883  0.600743  0.852882\n",
       "330   0.128338  None  0.756622  0.419856  0.385338\n",
       "331  0.0252504  None  0.966168  0.887784  0.307426\n",
       "332   0.696784  None  0.240531  0.376171  0.081786\n",
       "333   0.532558  None  0.262627  0.323536  0.426742\n",
       "\n",
       "[332 rows x 5 columns]"
      ]
     },
     "execution_count": 44,
     "metadata": {},
     "output_type": "execute_result"
    }
   ],
   "source": [
    "newdf"
   ]
  },
  {
   "cell_type": "code",
   "execution_count": null,
   "metadata": {},
   "outputs": [],
   "source": []
  }
 ],
 "metadata": {
  "kernelspec": {
   "display_name": "Python 3",
   "language": "python",
   "name": "python3"
  },
  "language_info": {
   "codemirror_mode": {
    "name": "ipython",
    "version": 3
   },
   "file_extension": ".py",
   "mimetype": "text/x-python",
   "name": "python",
   "nbconvert_exporter": "python",
   "pygments_lexer": "ipython3",
   "version": "3.8.3"
  }
 },
 "nbformat": 4,
 "nbformat_minor": 4
}
