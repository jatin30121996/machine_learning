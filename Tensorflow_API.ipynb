{
 "cells": [
  {
   "cell_type": "code",
   "execution_count": 1,
   "id": "67bfe761",
   "metadata": {},
   "outputs": [],
   "source": [
    "import tensorflow as tf\n",
    "import numpy as np"
   ]
  },
  {
   "cell_type": "code",
   "execution_count": 2,
   "id": "aff6eb72",
   "metadata": {},
   "outputs": [
    {
     "name": "stdout",
     "output_type": "stream",
     "text": [
      "tf.Tensor(25, shape=(), dtype=int32)\n"
     ]
    }
   ],
   "source": [
    "@tf.function(input_signature=[tf.OptionalSpec(tf.TensorSpec(shape=(), dtype=tf.int32, name=None))])\n",
    "def maybe_square(optional):\n",
    "    if optional.has_value():\n",
    "        x = optional.get_value()\n",
    "        return x * x\n",
    "    return -1\n",
    "optional = tf.experimental.Optional.from_value(5)\n",
    "print(maybe_square(optional))"
   ]
  },
  {
   "cell_type": "code",
   "execution_count": 4,
   "id": "79c8eacc",
   "metadata": {},
   "outputs": [
    {
     "name": "stdout",
     "output_type": "stream",
     "text": [
      "<tf.RaggedTensor [[3, 1, 4, 1], [], [5, 9, 2], [6], []]>\n"
     ]
    }
   ],
   "source": [
    "print(tf.RaggedTensor.from_row_splits(values=[3, 1, 4, 1, 5, 9, 2, 6], row_splits=[0, 4, 4, 7, 8, 8]))"
   ]
  },
  {
   "cell_type": "code",
   "execution_count": 6,
   "id": "2702f7aa",
   "metadata": {},
   "outputs": [
    {
     "data": {
      "text/plain": [
       "<tf.RaggedTensor [[3, 1, 4, 1], [], [5, 9, 2], [6], []]>"
      ]
     },
     "execution_count": 6,
     "metadata": {},
     "output_type": "execute_result"
    }
   ],
   "source": [
    "values = [3, 1, 4, 1, 5, 9, 2, 6]\n",
    "tf.RaggedTensor.from_row_splits(values, row_splits=[0, 4, 4, 7, 8, 8])"
   ]
  },
  {
   "cell_type": "code",
   "execution_count": 7,
   "id": "ef7d4ed0",
   "metadata": {},
   "outputs": [
    {
     "data": {
      "text/plain": [
       "<tf.RaggedTensor [[3, 1, 4, 1], [], [5, 9, 2], [6], []]>"
      ]
     },
     "execution_count": 7,
     "metadata": {},
     "output_type": "execute_result"
    }
   ],
   "source": [
    "tf.RaggedTensor.from_row_lengths(values, row_lengths=[4, 0, 3, 1, 0])"
   ]
  },
  {
   "cell_type": "code",
   "execution_count": 8,
   "id": "500fc007",
   "metadata": {},
   "outputs": [
    {
     "data": {
      "text/plain": [
       "<tf.RaggedTensor [[3, 1, 4, 1], [], [5, 9, 2], [6]]>"
      ]
     },
     "execution_count": 8,
     "metadata": {},
     "output_type": "execute_result"
    }
   ],
   "source": [
    "tf.RaggedTensor.from_value_rowids(values, value_rowids=[0, 0, 0, 0, 2, 2, 2, 3])"
   ]
  },
  {
   "cell_type": "code",
   "execution_count": 9,
   "id": "41934ec1",
   "metadata": {},
   "outputs": [
    {
     "data": {
      "text/plain": [
       "<tf.RaggedTensor [[3, 1, 4, 1], [], [5, 9, 2], [6], []]>"
      ]
     },
     "execution_count": 9,
     "metadata": {},
     "output_type": "execute_result"
    }
   ],
   "source": [
    "tf.RaggedTensor.from_row_starts(values, row_starts=[0, 4, 4, 7, 8])"
   ]
  },
  {
   "cell_type": "code",
   "execution_count": 10,
   "id": "bfa37566",
   "metadata": {},
   "outputs": [
    {
     "data": {
      "text/plain": [
       "<tf.RaggedTensor [[3, 1, 4, 1], [], [5, 9, 2], [6], []]>"
      ]
     },
     "execution_count": 10,
     "metadata": {},
     "output_type": "execute_result"
    }
   ],
   "source": [
    "tf.RaggedTensor.from_row_limits(values, row_limits=[4, 4, 7, 8, 8])"
   ]
  },
  {
   "cell_type": "code",
   "execution_count": 11,
   "id": "5c3327fd",
   "metadata": {},
   "outputs": [
    {
     "data": {
      "text/plain": [
       "<tf.RaggedTensor [[3, 1], [4, 1], [5, 9], [2, 6]]>"
      ]
     },
     "execution_count": 11,
     "metadata": {},
     "output_type": "execute_result"
    }
   ],
   "source": [
    "tf.RaggedTensor.from_uniform_row_length(values, uniform_row_length=2)"
   ]
  },
  {
   "cell_type": "code",
   "execution_count": 13,
   "id": "50004fee",
   "metadata": {},
   "outputs": [
    {
     "data": {
      "text/plain": [
       "1"
      ]
     },
     "execution_count": 13,
     "metadata": {},
     "output_type": "execute_result"
    }
   ],
   "source": [
    "values = tf.ragged.constant([[1, 2, 3], [4], [5, 6], [7, 8, 9, 10]])\n",
    "tf.type_spec_from_value(values).ragged_rank"
   ]
  },
  {
   "cell_type": "code",
   "execution_count": 15,
   "id": "98db3549",
   "metadata": {},
   "outputs": [
    {
     "data": {
      "text/plain": [
       "tf.int64"
      ]
     },
     "execution_count": 15,
     "metadata": {},
     "output_type": "execute_result"
    }
   ],
   "source": [
    "tf.type_spec_from_value(values).row_splits_dtype"
   ]
  },
  {
   "cell_type": "code",
   "execution_count": 17,
   "id": "38f35504",
   "metadata": {},
   "outputs": [
    {
     "data": {
      "text/plain": [
       "TensorShape([4, None])"
      ]
     },
     "execution_count": 17,
     "metadata": {},
     "output_type": "execute_result"
    }
   ],
   "source": [
    "tf.type_spec_from_value(values).shape"
   ]
  },
  {
   "cell_type": "code",
   "execution_count": 18,
   "id": "8ad9af22",
   "metadata": {},
   "outputs": [
    {
     "name": "stdout",
     "output_type": "stream",
     "text": [
      "tf.Tensor(\n",
      "[[1 3]\n",
      " [3 7]], shape=(2, 2), dtype=int32)\n"
     ]
    }
   ],
   "source": [
    "c = tf.constant([[1, 2], [3, 4]])\n",
    "d = tf.constant([[1, 1], [0, 1]])\n",
    "e = tf.matmul(c, d)\n",
    "print(e)"
   ]
  },
  {
   "cell_type": "code",
   "execution_count": 19,
   "id": "7d8b6345",
   "metadata": {},
   "outputs": [
    {
     "name": "stdout",
     "output_type": "stream",
     "text": [
      "tf.Tensor(10.0, shape=(), dtype=float32)\n",
      "tf.Tensor(20.0, shape=(), dtype=float32)\n",
      "tf.Tensor(30.0, shape=(), dtype=float32)\n",
      "tf.Tensor([10. 20. 30.], shape=(3,), dtype=float32)\n"
     ]
    }
   ],
   "source": [
    "ta = tf.TensorArray(tf.float32, size=0, dynamic_size=True, clear_after_read=False)\n",
    "ta = ta.write(0, 10)\n",
    "ta = ta.write(1, 20)\n",
    "ta = ta.write(2, 30)\n",
    "print(ta.read(0))\n",
    "print(ta.read(1))\n",
    "print(ta.read(2))\n",
    "print(ta.stack())"
   ]
  },
  {
   "cell_type": "code",
   "execution_count": 30,
   "id": "948d683b",
   "metadata": {},
   "outputs": [
    {
     "data": {
      "text/plain": [
       "<tf.Tensor: shape=(7,), dtype=float32, numpy=array([0., 1., 1., 2., 3., 5., 8.], dtype=float32)>"
      ]
     },
     "execution_count": 30,
     "metadata": {},
     "output_type": "execute_result"
    }
   ],
   "source": [
    "@tf.function\n",
    "def fibonacci(n):\n",
    "    ta = tf.TensorArray(tf.float32, size=0, dynamic_size=True)\n",
    "    ta = ta.unstack([0., 1.])\n",
    "    for i in range(2, n):\n",
    "        ta = ta.write(i, ta.read(i - 1) + ta.read(i - 2))\n",
    "    return ta.stack()\n",
    "fibonacci(7)"
   ]
  },
  {
   "cell_type": "code",
   "execution_count": 27,
   "id": "e9b58567",
   "metadata": {},
   "outputs": [
    {
     "data": {
      "text/plain": [
       "<tf.Tensor: shape=(5,), dtype=int32, numpy=array([ 1,  2,  4,  7, 11])>"
      ]
     },
     "execution_count": 27,
     "metadata": {},
     "output_type": "execute_result"
    }
   ],
   "source": [
    "v = tf.Variable(1)\n",
    "@tf.function\n",
    "def f(x):\n",
    "    ta = tf.TensorArray(tf.int32, size=0, dynamic_size=True)\n",
    "    for i in tf.range(x):\n",
    "        v.assign_add(i)\n",
    "        ta = ta.write(i, v)\n",
    "    return ta.stack()\n",
    "f(5)"
   ]
  },
  {
   "cell_type": "code",
   "execution_count": 31,
   "id": "b51617f1",
   "metadata": {},
   "outputs": [
    {
     "name": "stdout",
     "output_type": "stream",
     "text": [
      "True\n",
      "True\n",
      "False\n"
     ]
    }
   ],
   "source": [
    "t_a = tf.TensorShape([1, 2])\n",
    "a = [1, 2]\n",
    "t_b = tf.TensorShape([1, 2])\n",
    "t_c = tf.TensorShape([1, 2, 3])\n",
    "print(t_a.__eq__(a))\n",
    "print(t_a.__eq__(t_b))\n",
    "print(t_a.__eq__(t_c))"
   ]
  },
  {
   "cell_type": "code",
   "execution_count": 32,
   "id": "11fbb116",
   "metadata": {},
   "outputs": [
    {
     "data": {
      "text/plain": [
       "TensorSpec(shape=(8, 3), dtype=tf.int32, name='NewName')"
      ]
     },
     "execution_count": 32,
     "metadata": {},
     "output_type": "execute_result"
    }
   ],
   "source": [
    "spec = tf.TensorSpec(shape=[8, 3], dtype=tf.int32, name=\"OriginalName\")\n",
    "tf.TensorSpec.from_spec(spec, \"NewName\")"
   ]
  },
  {
   "cell_type": "code",
   "execution_count": 33,
   "id": "7e78d909",
   "metadata": {},
   "outputs": [
    {
     "data": {
      "text/plain": [
       "TensorSpec(shape=(3,), dtype=tf.int32, name=None)"
      ]
     },
     "execution_count": 33,
     "metadata": {},
     "output_type": "execute_result"
    }
   ],
   "source": [
    "tf.TensorSpec.from_tensor(tf.constant([1, 2, 3]))"
   ]
  },
  {
   "cell_type": "code",
   "execution_count": 34,
   "id": "7de70a45",
   "metadata": {},
   "outputs": [
    {
     "name": "stdout",
     "output_type": "stream",
     "text": [
      "<tf.RaggedTensor [[2, 4], [6]]>\n"
     ]
    }
   ],
   "source": [
    "spec = tf.RaggedTensorSpec(shape=[None, None], dtype=tf.int32)\n",
    "@tf.function(input_signature=[spec])\n",
    "def double(x):\n",
    "    return x * 2\n",
    "print(double(tf.ragged.constant([[1, 2], [3]])))"
   ]
  },
  {
   "cell_type": "code",
   "execution_count": 35,
   "id": "48818ee1",
   "metadata": {},
   "outputs": [
    {
     "name": "stdout",
     "output_type": "stream",
     "text": [
      "<tf.Variable 'UnreadVariable' shape=() dtype=float32, numpy=2.0>\n",
      "<tf.Variable 'UnreadVariable' shape=() dtype=float32, numpy=2.5>\n"
     ]
    }
   ],
   "source": [
    "v = tf.Variable(1.)\n",
    "print(v.assign(2.))\n",
    "print(v.assign_add(0.5))"
   ]
  },
  {
   "cell_type": "code",
   "execution_count": 36,
   "id": "f937792d",
   "metadata": {},
   "outputs": [
    {
     "data": {
      "text/plain": [
       "<tf.Variable 'UnreadVariable' shape=<unknown> dtype=float32, numpy=array([[1.]], dtype=float32)>"
      ]
     },
     "execution_count": 36,
     "metadata": {},
     "output_type": "execute_result"
    }
   ],
   "source": [
    "v = tf.Variable(1., shape=tf.TensorShape(None))\n",
    "v.assign([[1.]])"
   ]
  },
  {
   "cell_type": "code",
   "execution_count": 37,
   "id": "cf8e7315",
   "metadata": {},
   "outputs": [
    {
     "name": "stdout",
     "output_type": "stream",
     "text": [
      "tf.Tensor(\n",
      "[[3. 4.]\n",
      " [6. 8.]], shape=(2, 2), dtype=float32)\n",
      "tf.Tensor(\n",
      "[[0.98201376 0.9933071 ]\n",
      " [0.9933071  0.99752736]], shape=(2, 2), dtype=float32)\n"
     ]
    }
   ],
   "source": [
    "w = tf.Variable([[1.], [2.]])\n",
    "x = tf.constant([[3., 4.]])\n",
    "print(tf.matmul(w, x))\n",
    "print(tf.sigmoid(w + x))"
   ]
  },
  {
   "cell_type": "code",
   "execution_count": 40,
   "id": "5e968970",
   "metadata": {},
   "outputs": [
    {
     "name": "stdout",
     "output_type": "stream",
     "text": [
      "tf.Tensor(2.0, shape=(), dtype=float32)\n"
     ]
    }
   ],
   "source": [
    "with tf.GradientTape(persistent=True) as tape:\n",
    "    trainable = tf.Variable(1.)\n",
    "    non_trainable = tf.Variable(2., trainable=False)\n",
    "    x1 = trainable * 2.\n",
    "    x2 = non_trainable * 3.\n",
    "print(tape.gradient(x1, trainable))\n",
    "assert tape.gradient(x2, non_trainable) is None"
   ]
  },
  {
   "cell_type": "code",
   "execution_count": 41,
   "id": "e9e234ff",
   "metadata": {},
   "outputs": [
    {
     "data": {
      "text/plain": [
       "(<tf.Variable 'Variable:0' shape=(1,) dtype=float32, numpy=array([1.], dtype=float32)>,)"
      ]
     },
     "execution_count": 41,
     "metadata": {},
     "output_type": "execute_result"
    }
   ],
   "source": [
    "m = tf.Module()\n",
    "m.v = tf.Variable([1.])\n",
    "m.trainable_variables"
   ]
  },
  {
   "cell_type": "code",
   "execution_count": 42,
   "id": "3bd4d64e",
   "metadata": {},
   "outputs": [
    {
     "name": "stdout",
     "output_type": "stream",
     "text": [
      "tf.Tensor(-0.1, shape=(), dtype=float32)\n",
      "tf.Tensor(-0.2, shape=(), dtype=float32)\n"
     ]
    }
   ],
   "source": [
    "v = tf.Variable(0.)\n",
    "read_and_decrement = tf.function(lambda: v.assign_sub(0.1))\n",
    "print(read_and_decrement())\n",
    "print(read_and_decrement())"
   ]
  },
  {
   "cell_type": "code",
   "execution_count": 43,
   "id": "78d58cee",
   "metadata": {},
   "outputs": [
    {
     "name": "stdout",
     "output_type": "stream",
     "text": [
      "tf.Tensor(4.0, shape=(), dtype=float32)\n",
      "tf.Tensor(6.0, shape=(), dtype=float32)\n",
      "<tf.Variable 'Variable:0' shape=() dtype=float32, numpy=2.0>\n"
     ]
    }
   ],
   "source": [
    "class M(tf.Module):\n",
    "    @tf.function\n",
    "    def __call__(self, x):\n",
    "        if not hasattr(self, \"v\"):\n",
    "            self.v = tf.Variable(x)\n",
    "        return self.v * x\n",
    "m = M()\n",
    "print(m(2.))\n",
    "print(m(3.))\n",
    "print(m.v)"
   ]
  },
  {
   "cell_type": "code",
   "execution_count": 3,
   "id": "30f868a1",
   "metadata": {},
   "outputs": [
    {
     "data": {
      "text/plain": [
       "array([0, 1, 2, 4, 3])"
      ]
     },
     "execution_count": 3,
     "metadata": {},
     "output_type": "execute_result"
    }
   ],
   "source": [
    "values = [1, 10, 26.9, 166.32, 62.3]\n",
    "sort_order = tf.argsort(values)\n",
    "sort_order.numpy()"
   ]
  },
  {
   "cell_type": "code",
   "execution_count": 4,
   "id": "86eb4209",
   "metadata": {},
   "outputs": [],
   "source": [
    "sorted = tf.gather(values, sort_order)\n",
    "assert tf.reduce_all(sorted == tf.sort(values))"
   ]
  },
  {
   "cell_type": "code",
   "execution_count": 5,
   "id": "951b9020",
   "metadata": {},
   "outputs": [
    {
     "data": {
      "text/plain": [
       "<tf.Tensor: shape=(4,), dtype=uint8, numpy=array([255, 255, 255, 255], dtype=uint8)>"
      ]
     },
     "execution_count": 5,
     "metadata": {},
     "output_type": "execute_result"
    }
   ],
   "source": [
    "tf.bitcast(tf.constant(0xffffffff, dtype=tf.uint32), tf.uint8)"
   ]
  },
  {
   "cell_type": "code",
   "execution_count": 7,
   "id": "228b9eb1",
   "metadata": {},
   "outputs": [
    {
     "data": {
      "text/plain": [
       "<tf.Tensor: shape=(3,), dtype=complex128, numpy=array([1.+0.j, 2.+0.j, 3.+0.j])>"
      ]
     },
     "execution_count": 7,
     "metadata": {},
     "output_type": "execute_result"
    }
   ],
   "source": [
    "equality_cast = tf.cast([1, 2, 3], tf.complex128)\n",
    "equality_cast"
   ]
  },
  {
   "cell_type": "code",
   "execution_count": 9,
   "id": "2564c538",
   "metadata": {},
   "outputs": [
    {
     "data": {
      "text/plain": [
       "<tf.Tensor: shape=(2,), dtype=int32, numpy=array([0, 2])>"
      ]
     },
     "execution_count": 9,
     "metadata": {},
     "output_type": "execute_result"
    }
   ],
   "source": [
    "import numpy as np\n",
    "tensor = [0, 1, 2, 3]\n",
    "mask = np.array([True, False, True, False])\n",
    "tf.boolean_mask(tensor, mask)"
   ]
  },
  {
   "cell_type": "code",
   "execution_count": 11,
   "id": "57e463fe",
   "metadata": {},
   "outputs": [
    {
     "data": {
      "text/plain": [
       "<tf.Tensor: shape=(3,), dtype=int32, numpy=array([5, 2, 3])>"
      ]
     },
     "execution_count": 11,
     "metadata": {},
     "output_type": "execute_result"
    }
   ],
   "source": [
    "shape_x = (1, 2, 3)\n",
    "shape_y = (5, 1, 3)\n",
    "tf.broadcast_dynamic_shape(shape_x, shape_y)"
   ]
  },
  {
   "cell_type": "code",
   "execution_count": 12,
   "id": "180ff1cf",
   "metadata": {},
   "outputs": [
    {
     "data": {
      "text/plain": [
       "TensorShape([5, 2, 3])"
      ]
     },
     "execution_count": 12,
     "metadata": {},
     "output_type": "execute_result"
    }
   ],
   "source": [
    "shape_x = tf.TensorShape([1, 2, 3])\n",
    "shape_y = tf.TensorShape([5, 1, 3])\n",
    "tf.broadcast_static_shape(shape_x, shape_y)"
   ]
  },
  {
   "cell_type": "code",
   "execution_count": 13,
   "id": "3cac9ac0",
   "metadata": {},
   "outputs": [
    {
     "data": {
      "text/plain": [
       "<tf.Tensor: shape=(3, 3), dtype=int32, numpy=\n",
       "array([[1, 2, 3],\n",
       "       [1, 2, 3],\n",
       "       [1, 2, 3]])>"
      ]
     },
     "execution_count": 13,
     "metadata": {},
     "output_type": "execute_result"
    }
   ],
   "source": [
    "x = tf.constant([1, 2, 3])\n",
    "y = tf.broadcast_to(x, [3, 3])\n",
    "y"
   ]
  },
  {
   "cell_type": "code",
   "execution_count": 16,
   "id": "cab8d12d",
   "metadata": {},
   "outputs": [
    {
     "data": {
      "text/plain": [
       "<tf.Tensor: shape=(), dtype=int32, numpy=17>"
      ]
     },
     "execution_count": 16,
     "metadata": {},
     "output_type": "execute_result"
    }
   ],
   "source": [
    "x = 4\n",
    "y = 5\n",
    "f1 = lambda: tf.constant(17)\n",
    "f2 = lambda: tf.constant(23)\n",
    "r = tf.case([(tf.less(x, y), f1)], default=f2)\n",
    "r"
   ]
  },
  {
   "cell_type": "code",
   "execution_count": 18,
   "id": "27061c0c",
   "metadata": {},
   "outputs": [
    {
     "data": {
      "text/plain": [
       "array([[0.26967996, 0.5393599 , 0.80903983, 1.0787199 , 1.3483998 ]],\n",
       "      dtype=float32)"
      ]
     },
     "execution_count": 18,
     "metadata": {},
     "output_type": "execute_result"
    }
   ],
   "source": [
    "some_nums = tf.constant([[1, 2, 3, 4, 5]], dtype=tf.float32)\n",
    "tf.clip_by_norm(some_nums, 2.0).numpy()"
   ]
  },
  {
   "cell_type": "code",
   "execution_count": 19,
   "id": "f97f83a3",
   "metadata": {},
   "outputs": [
    {
     "data": {
      "text/plain": [
       "array([[-1, -1,  0],\n",
       "       [ 0,  1,  1]])"
      ]
     },
     "execution_count": 19,
     "metadata": {},
     "output_type": "execute_result"
    }
   ],
   "source": [
    "t = tf.constant([[-10, -1, 0], [0, 2, 10]])\n",
    "tf.clip_by_value(t, -1, 1).numpy()"
   ]
  },
  {
   "cell_type": "code",
   "execution_count": 20,
   "id": "28f4e94b",
   "metadata": {},
   "outputs": [
    {
     "data": {
      "text/plain": [
       "<tf.Tensor: shape=(4, 3), dtype=int32, numpy=\n",
       "array([[ 1,  2,  3],\n",
       "       [ 4,  5,  6],\n",
       "       [ 7,  8,  9],\n",
       "       [10, 11, 12]])>"
      ]
     },
     "execution_count": 20,
     "metadata": {},
     "output_type": "execute_result"
    }
   ],
   "source": [
    "t1 = [[1, 2, 3], [4, 5, 6]]\n",
    "t2 = [[7, 8, 9], [10, 11, 12]]\n",
    "tf.concat([t1, t2], 0)"
   ]
  },
  {
   "cell_type": "code",
   "execution_count": 22,
   "id": "8d56e4b9",
   "metadata": {},
   "outputs": [
    {
     "data": {
      "text/plain": [
       "<tf.Tensor: shape=(2, 2), dtype=float32, numpy=\n",
       "array([[1., 2.],\n",
       "       [3., 4.]], dtype=float32)>"
      ]
     },
     "execution_count": 22,
     "metadata": {},
     "output_type": "execute_result"
    }
   ],
   "source": [
    "def my_func(arg):\n",
    "    arg = tf.convert_to_tensor(arg, dtype=tf.float32)\n",
    "    return arg\n",
    "my_func(tf.constant([[1.0, 2.0], [3.0, 4.0]]))"
   ]
  },
  {
   "cell_type": "code",
   "execution_count": 26,
   "id": "0d71747f",
   "metadata": {},
   "outputs": [],
   "source": [
    "x = tf.constant(100.)\n",
    "def log1pexp(x):\n",
    "    return tf.math.log(1 + tf.exp(x))\n",
    "with tf.GradientTape() as tape:\n",
    "    y = log1pexp(x)\n",
    "tape.gradient(y, x)"
   ]
  },
  {
   "cell_type": "code",
   "execution_count": 30,
   "id": "72cdf2de",
   "metadata": {},
   "outputs": [
    {
     "name": "stdout",
     "output_type": "stream",
     "text": [
      "hello\n"
     ]
    }
   ],
   "source": [
    "with tf.device(\"/cpu:0\"):\n",
    "    print(\"hello\")"
   ]
  },
  {
   "cell_type": "code",
   "execution_count": 32,
   "id": "0bcedc01",
   "metadata": {},
   "outputs": [
    {
     "data": {
      "text/plain": [
       "<tf.Tensor: shape=(6,), dtype=float32, numpy=array([ 1.1, -1. ,  6.2,  5.3, -1. ,  8.4], dtype=float32)>"
      ]
     },
     "execution_count": 32,
     "metadata": {},
     "output_type": "execute_result"
    }
   ],
   "source": [
    "x = tf.constant([0.1, -1., 5.2, 4.3, -1., 7.4])\n",
    "condition_mask = tf.not_equal(x, tf.constant(-1.))\n",
    "partitioned_data = tf.dynamic_partition(x, tf.cast(condition_mask, tf.int32), 2)\n",
    "partitioned_data[1] = partitioned_data[1] + 1.0\n",
    "condition_indices = tf.dynamic_partition(tf.range(tf.shape(x)[0]), tf.cast(condition_mask, tf.int32), 2)\n",
    "x = tf.dynamic_stitch(condition_indices, partitioned_data)\n",
    "x"
   ]
  },
  {
   "cell_type": "code",
   "execution_count": 34,
   "id": "3d3f5823",
   "metadata": {},
   "outputs": [
    {
     "name": "stdout",
     "output_type": "stream",
     "text": [
      "tf.Tensor([ True False  True  True False  True], shape=(6,), dtype=bool)\n",
      "partition [<tf.Tensor: shape=(2,), dtype=float32, numpy=array([-1., -1.], dtype=float32)>, <tf.Tensor: shape=(4,), dtype=float32, numpy=array([1.1, 6.2, 5.3, 8.4], dtype=float32)>]\n",
      "[<tf.Tensor: shape=(2,), dtype=int32, numpy=array([1, 4])>, <tf.Tensor: shape=(4,), dtype=int32, numpy=array([0, 2, 3, 5])>]\n"
     ]
    }
   ],
   "source": [
    "print(condition_mask)\n",
    "print(\"partition\", partitioned_data)\n",
    "print(condition_indices)"
   ]
  },
  {
   "cell_type": "code",
   "execution_count": 36,
   "id": "a2ebefd5",
   "metadata": {},
   "outputs": [
    {
     "data": {
      "text/plain": [
       "<tf.Tensor: shape=(2, 2), dtype=float32, numpy=\n",
       "array([[inf, 1. ],\n",
       "       [0.5, 1. ]], dtype=float32)>"
      ]
     },
     "execution_count": 36,
     "metadata": {},
     "output_type": "execute_result"
    }
   ],
   "source": [
    "hypothesis = tf.SparseTensor([\n",
    "    [0, 0, 0],\n",
    "    [1, 0, 0]\n",
    "], [\"a\", \"b\"], (2, 1, 1))\n",
    "truth = tf.SparseTensor([\n",
    "    [0, 1, 0],\n",
    "    [1, 0, 0],\n",
    "    [1, 0, 1],\n",
    "    [1, 1, 0]\n",
    "], [\"a\", \"b\", \"c\", \"a\"], (2, 2, 2))\n",
    "tf.edit_distance(hypothesis, truth, normalize=True)"
   ]
  },
  {
   "cell_type": "code",
   "execution_count": 37,
   "id": "44f89cd0",
   "metadata": {},
   "outputs": [
    {
     "name": "stdout",
     "output_type": "stream",
     "text": [
      "(2, 5)\n"
     ]
    }
   ],
   "source": [
    "m0 = tf.random.normal(shape=[2, 3])\n",
    "m1 = tf.random.normal(shape=[3, 5])\n",
    "e = tf.einsum('ij,jk->ik', m0, m1)\n",
    "print(e.shape)"
   ]
  },
  {
   "cell_type": "code",
   "execution_count": 38,
   "id": "f895696e",
   "metadata": {},
   "outputs": [
    {
     "data": {
      "text/plain": [
       "<tf.Tensor: shape=(2, 3), dtype=int32, numpy=\n",
       "array([[1, 2, 3],\n",
       "       [4, 5, 6]])>"
      ]
     },
     "execution_count": 38,
     "metadata": {},
     "output_type": "execute_result"
    }
   ],
   "source": [
    "x = tf.constant([[1, 2, 3], [4, 5, 6]])\n",
    "x = tf.ensure_shape(x, [2, 3])\n",
    "x"
   ]
  },
  {
   "cell_type": "code",
   "execution_count": 43,
   "id": "46cf0e67",
   "metadata": {},
   "outputs": [
    {
     "data": {
      "text/plain": [
       "<tf.Tensor: shape=(2, 3), dtype=int32, numpy=\n",
       "array([[1, 2, 3],\n",
       "       [4, 5, 6]])>"
      ]
     },
     "execution_count": 43,
     "metadata": {},
     "output_type": "execute_result"
    }
   ],
   "source": [
    "tf.ensure_shape(x, [None, 3])"
   ]
  },
  {
   "cell_type": "code",
   "execution_count": 44,
   "id": "928a2faf",
   "metadata": {},
   "outputs": [
    {
     "name": "stdout",
     "output_type": "stream",
     "text": [
      "True\n",
      "False\n"
     ]
    }
   ],
   "source": [
    "@tf.function\n",
    "def fn():\n",
    "    with tf.init_scope():\n",
    "        print(tf.executing_eagerly())\n",
    "    print(tf.executing_eagerly())\n",
    "fn()"
   ]
  },
  {
   "cell_type": "code",
   "execution_count": 45,
   "id": "c298bf50",
   "metadata": {},
   "outputs": [
    {
     "name": "stdout",
     "output_type": "stream",
     "text": [
      "[1, 10, 10, 3]\n",
      "[10, 1, 10, 3]\n",
      "[10, 10, 3, 1]\n"
     ]
    }
   ],
   "source": [
    "image = tf.zeros([10, 10, 3])\n",
    "print(tf.expand_dims(image, axis=0).shape.as_list())\n",
    "print(tf.expand_dims(image, axis=1).shape.as_list())\n",
    "print(tf.expand_dims(image, axis=-1).shape.as_list())"
   ]
  },
  {
   "cell_type": "code",
   "execution_count": 46,
   "id": "3cd3cfb2",
   "metadata": {},
   "outputs": [
    {
     "data": {
      "text/plain": [
       "<tf.Tensor: shape=(2, 3), dtype=float32, numpy=\n",
       "array([[1., 0., 0.],\n",
       "       [0., 1., 0.]], dtype=float32)>"
      ]
     },
     "execution_count": 46,
     "metadata": {},
     "output_type": "execute_result"
    }
   ],
   "source": [
    "tf.eye(2, 3)"
   ]
  },
  {
   "cell_type": "code",
   "execution_count": 47,
   "id": "1b3e5cff",
   "metadata": {},
   "outputs": [
    {
     "data": {
      "text/plain": [
       "<tf.Tensor: shape=(2, 3), dtype=int32, numpy=\n",
       "array([[9, 9, 9],\n",
       "       [9, 9, 9]])>"
      ]
     },
     "execution_count": 47,
     "metadata": {},
     "output_type": "execute_result"
    }
   ],
   "source": [
    "tf.fill([2, 3], 9)"
   ]
  },
  {
   "cell_type": "code",
   "execution_count": 48,
   "id": "897c626d",
   "metadata": {},
   "outputs": [
    {
     "data": {
      "text/plain": [
       "<tf.Tensor: shape=(), dtype=int32, numpy=21>"
      ]
     },
     "execution_count": 48,
     "metadata": {},
     "output_type": "execute_result"
    }
   ],
   "source": [
    "elems = tf.constant([1, 2, 3, 4, 5, 6])\n",
    "sum = tf.foldl(lambda a, x: a + x, elems)\n",
    "sum"
   ]
  },
  {
   "cell_type": "code",
   "execution_count": 51,
   "id": "93d6da6c",
   "metadata": {},
   "outputs": [
    {
     "data": {
      "text/plain": [
       "<tf.Tensor: shape=(2,), dtype=int32, numpy=array([7, 7])>"
      ]
     },
     "execution_count": 51,
     "metadata": {},
     "output_type": "execute_result"
    }
   ],
   "source": [
    "@tf.function\n",
    "def f(x, y):\n",
    "    return x ** 2 + y\n",
    "x = tf.constant([2, 3])\n",
    "y = tf.constant([3, -2])\n",
    "f(x, y)"
   ]
  },
  {
   "cell_type": "code",
   "execution_count": 53,
   "id": "266e3a53",
   "metadata": {},
   "outputs": [
    {
     "data": {
      "text/plain": [
       "array([[1, 2],\n",
       "       [3, 4],\n",
       "       [5, 6]])"
      ]
     },
     "execution_count": 53,
     "metadata": {},
     "output_type": "execute_result"
    }
   ],
   "source": [
    "params = tf.constant([\n",
    "    [0, 0, 1, 0, 2],\n",
    "    [3, 0, 0, 0, 4],\n",
    "    [0, 5, 0, 6, 0]\n",
    "])\n",
    "indices = tf.constant([\n",
    "    [2, 4],\n",
    "    [0, 4],\n",
    "    [1, 3]\n",
    "])\n",
    "tf.gather(params, indices, axis=1, batch_dims=1).numpy()"
   ]
  },
  {
   "cell_type": "code",
   "execution_count": 54,
   "id": "d5fade28",
   "metadata": {},
   "outputs": [
    {
     "data": {
      "text/plain": [
       "[5, 3]"
      ]
     },
     "execution_count": 54,
     "metadata": {},
     "output_type": "execute_result"
    }
   ],
   "source": [
    "tf.gather_nd(indices=[[0, 1], [1, 0], [2, 4], [3, 2], [4, 1]], params=tf.zeros([5, 7, 3])).shape.as_list()"
   ]
  },
  {
   "cell_type": "code",
   "execution_count": 55,
   "id": "93111417",
   "metadata": {},
   "outputs": [
    {
     "name": "stdout",
     "output_type": "stream",
     "text": [
      "10\n"
     ]
    },
    {
     "data": {
      "text/plain": [
       "30"
      ]
     },
     "execution_count": 55,
     "metadata": {},
     "output_type": "execute_result"
    }
   ],
   "source": [
    "a = tf.constant(10)\n",
    "print(tf.get_static_value(a))\n",
    "b = tf.constant(20)\n",
    "tf.get_static_value(tf.add(a, b))"
   ]
  },
  {
   "cell_type": "code",
   "execution_count": 57,
   "id": "ac11d66e",
   "metadata": {},
   "outputs": [
    {
     "data": {
      "text/plain": [
       "<tf.Tensor: shape=(), dtype=float32, numpy=6.0>"
      ]
     },
     "execution_count": 57,
     "metadata": {},
     "output_type": "execute_result"
    }
   ],
   "source": [
    "x = tf.Variable(1.0, name=\"x\")\n",
    "z = tf.Variable(3.0, name=\"z\")\n",
    "with tf.GradientTape() as tape:\n",
    "    y = tf.grad_pass_through(x.assign)(z**2)\n",
    "grads = tape.gradient(y, z)\n",
    "grads"
   ]
  },
  {
   "cell_type": "code",
   "execution_count": 58,
   "id": "b35ad16a",
   "metadata": {},
   "outputs": [
    {
     "data": {
      "text/plain": [
       "array([2, 1, 1, 0, 2])"
      ]
     },
     "execution_count": 58,
     "metadata": {},
     "output_type": "execute_result"
    }
   ],
   "source": [
    "nbins = 5\n",
    "value_range = [0.0, 5.0]\n",
    "new_values = [-1.0, 0.0, 1.5, 2.0, 5.0, 15]\n",
    "hist = tf.histogram_fixed_width(new_values, value_range, nbins=5)\n",
    "hist.numpy()"
   ]
  },
  {
   "cell_type": "code",
   "execution_count": 59,
   "id": "b1f5c994",
   "metadata": {},
   "outputs": [
    {
     "name": "stdout",
     "output_type": "stream",
     "text": [
      "[0.78]\n",
      "[0.78]\n"
     ]
    }
   ],
   "source": [
    "a = tf.constant([0.78])\n",
    "a_identity = tf.identity(a)\n",
    "print(a.numpy())\n",
    "print(a_identity.numpy())"
   ]
  },
  {
   "cell_type": "code",
   "execution_count": 60,
   "id": "3682200b",
   "metadata": {},
   "outputs": [
    {
     "name": "stdout",
     "output_type": "stream",
     "text": [
      "<tf.Variable 'UnreadVariable' shape=() dtype=int32, numpy=6>\n",
      "tf.Tensor(5, shape=(), dtype=int32)\n"
     ]
    }
   ],
   "source": [
    "a = tf.Variable(5)\n",
    "a_identity = tf.identity(a)\n",
    "print(a.assign_add(1))\n",
    "print(a_identity)"
   ]
  },
  {
   "cell_type": "code",
   "execution_count": 62,
   "id": "48e06ab9",
   "metadata": {},
   "outputs": [],
   "source": [
    "tf.compat.v1.enable_eager_execution()\n",
    "@tf.function\n",
    "def func():\n",
    "    assert not tf.executing_eagerly()\n",
    "    with tf.init_scope():\n",
    "        assert tf.executing_eagerly()\n",
    "func()"
   ]
  },
  {
   "cell_type": "code",
   "execution_count": 63,
   "id": "d460eb76",
   "metadata": {},
   "outputs": [
    {
     "name": "stdout",
     "output_type": "stream",
     "text": [
      "False\n",
      "True\n"
     ]
    }
   ],
   "source": [
    "print(tf.inside_function())\n",
    "@tf.function\n",
    "def f():\n",
    "    print(tf.inside_function())\n",
    "f()"
   ]
  },
  {
   "cell_type": "code",
   "execution_count": 4,
   "id": "8f47d9bf",
   "metadata": {},
   "outputs": [
    {
     "data": {
      "text/plain": [
       "<tf.Tensor: shape=(5, 2), dtype=float32, numpy=\n",
       "array([[ 0.  ,  5.  ],\n",
       "       [ 2.5 , 13.75],\n",
       "       [ 5.  , 22.5 ],\n",
       "       [ 7.5 , 31.25],\n",
       "       [10.  , 40.  ]], dtype=float32)>"
      ]
     },
     "execution_count": 4,
     "metadata": {},
     "output_type": "execute_result"
    }
   ],
   "source": [
    "tf.linspace([0., 5.], [10., 40.], 5, axis=0)"
   ]
  },
  {
   "cell_type": "code",
   "execution_count": 5,
   "id": "e54d6053",
   "metadata": {},
   "outputs": [
    {
     "data": {
      "text/plain": [
       "array([[1, 2, 3],\n",
       "       [4, 5, 6]])"
      ]
     },
     "execution_count": 5,
     "metadata": {},
     "output_type": "execute_result"
    }
   ],
   "source": [
    "a = tf.constant([[1, 2, 3], [4, 5, 6]])\n",
    "proto_tensor = tf.make_tensor_proto(a)\n",
    "tf.make_ndarray(proto_tensor)"
   ]
  },
  {
   "cell_type": "code",
   "execution_count": 6,
   "id": "a4b0a235",
   "metadata": {},
   "outputs": [
    {
     "data": {
      "text/plain": [
       "dtype: DT_INT32\n",
       "tensor_shape {\n",
       "  dim {\n",
       "    size: 2\n",
       "  }\n",
       "  dim {\n",
       "    size: 3\n",
       "  }\n",
       "}\n",
       "tensor_content: \"\\001\\000\\000\\000\\002\\000\\000\\000\\003\\000\\000\\000\\004\\000\\000\\000\\005\\000\\000\\000\\006\\000\\000\\000\""
      ]
     },
     "execution_count": 6,
     "metadata": {},
     "output_type": "execute_result"
    }
   ],
   "source": [
    "proto_tensor"
   ]
  },
  {
   "cell_type": "code",
   "execution_count": 7,
   "id": "8571ea81",
   "metadata": {},
   "outputs": [
    {
     "data": {
      "text/plain": [
       "<tf.Tensor: shape=(3, 3), dtype=int32, numpy=\n",
       "array([[3, 4, 5],\n",
       "       [5, 6, 7],\n",
       "       [2, 3, 4]])>"
      ]
     },
     "execution_count": 7,
     "metadata": {},
     "output_type": "execute_result"
    }
   ],
   "source": [
    "tf.map_fn(fn=lambda t: tf.range(t, t + 3), elems=tf.constant([3, 5, 2]))"
   ]
  },
  {
   "cell_type": "code",
   "execution_count": 10,
   "id": "cacdb57b",
   "metadata": {},
   "outputs": [
    {
     "name": "stdout",
     "output_type": "stream",
     "text": [
      "tf.Tensor(\n",
      "[[1 2 3 5]\n",
      " [1 2 3 5]\n",
      " [1 2 3 5]\n",
      " [1 2 3 5]], shape=(4, 4), dtype=int32)\n",
      "tf.Tensor(\n",
      "[[4 4 4 4]\n",
      " [5 5 5 5]\n",
      " [6 6 6 6]\n",
      " [7 7 7 7]], shape=(4, 4), dtype=int32)\n"
     ]
    }
   ],
   "source": [
    "x = [1, 2, 3, 5]\n",
    "y = [4, 5, 6, 7]\n",
    "X, Y = tf.meshgrid(x, y)\n",
    "print(X)\n",
    "print(Y)"
   ]
  },
  {
   "cell_type": "code",
   "execution_count": 11,
   "id": "418f9b46",
   "metadata": {},
   "outputs": [
    {
     "data": {
      "text/plain": [
       "<tf.Tensor: shape=(), dtype=float32, numpy=1.3810978>"
      ]
     },
     "execution_count": 11,
     "metadata": {},
     "output_type": "execute_result"
    }
   ],
   "source": [
    "def my_numpy_func(x):\n",
    "    return np.sinh(x)\n",
    "@tf.function(input_signature=[tf.TensorSpec(None, tf.float32)])\n",
    "def tf_function(input):\n",
    "    y = tf.numpy_function(my_numpy_func, [input], tf.float32)\n",
    "    return y * y\n",
    "tf_function(tf.constant(1.))"
   ]
  },
  {
   "cell_type": "code",
   "execution_count": 12,
   "id": "f68e20e5",
   "metadata": {},
   "outputs": [
    {
     "data": {
      "text/plain": [
       "<tf.Tensor: shape=(2, 2, 3), dtype=float32, numpy=\n",
       "array([[[1., 0., 0.],\n",
       "        [0., 0., 1.]],\n",
       "\n",
       "       [[0., 1., 0.],\n",
       "        [0., 0., 0.]]], dtype=float32)>"
      ]
     },
     "execution_count": 12,
     "metadata": {},
     "output_type": "execute_result"
    }
   ],
   "source": [
    "indices = [[0, 2], [1, -1]]\n",
    "tf.one_hot(indices, 3, on_value=1.0, off_value=0.0, axis=-1)"
   ]
  },
  {
   "cell_type": "code",
   "execution_count": 13,
   "id": "48b2ff7b",
   "metadata": {},
   "outputs": [
    {
     "data": {
      "text/plain": [
       "<tf.Tensor: shape=(3, 4), dtype=int32, numpy=\n",
       "array([[1, 1, 1, 1],\n",
       "       [1, 1, 1, 1],\n",
       "       [1, 1, 1, 1]])>"
      ]
     },
     "execution_count": 13,
     "metadata": {},
     "output_type": "execute_result"
    }
   ],
   "source": [
    "tf.ones([3, 4], tf.int32)"
   ]
  },
  {
   "cell_type": "code",
   "execution_count": 17,
   "id": "bef47aa1",
   "metadata": {},
   "outputs": [
    {
     "name": "stdout",
     "output_type": "stream",
     "text": [
      "<tf.Variable 'Variable:0' shape=(3,) dtype=float32, numpy=array([1., 1., 1.], dtype=float32)>\n",
      "<tf.Variable 'Variable:0' shape=(3, 3) dtype=float32, numpy=\n",
      "array([[1., 1., 1.],\n",
      "       [1., 1., 1.],\n",
      "       [1., 1., 1.]], dtype=float32)>\n"
     ]
    }
   ],
   "source": [
    "def make_variable(k, initializer):\n",
    "    return (tf.Variable(initializer(shape=[k], dtype=tf.float32)), tf.Variable(initializer(shape=[k, k], dtype=tf.float32)))\n",
    "v1, v2 = make_variable(3, tf.ones_initializer())\n",
    "print(v1)\n",
    "print(v2)"
   ]
  },
  {
   "cell_type": "code",
   "execution_count": 18,
   "id": "24dc3de8",
   "metadata": {},
   "outputs": [
    {
     "data": {
      "text/plain": [
       "<tf.Tensor: shape=(2, 3), dtype=int32, numpy=\n",
       "array([[1, 1, 1],\n",
       "       [1, 1, 1]])>"
      ]
     },
     "execution_count": 18,
     "metadata": {},
     "output_type": "execute_result"
    }
   ],
   "source": [
    "tensor = tf.constant([[1, 2, 3], [4, 5, 6]])\n",
    "tf.ones_like(tensor)"
   ]
  },
  {
   "cell_type": "code",
   "execution_count": 23,
   "id": "921fc212",
   "metadata": {},
   "outputs": [],
   "source": [
    "import tensorflow as tf\n",
    "import numpy as np"
   ]
  },
  {
   "cell_type": "code",
   "execution_count": 2,
   "id": "24b3a827",
   "metadata": {},
   "outputs": [
    {
     "name": "stdout",
     "output_type": "stream",
     "text": [
      "tf.Tensor(\n",
      "[[0 0 0 0 0 0 0]\n",
      " [0 0 1 2 3 0 0]\n",
      " [0 0 4 5 6 0 0]\n",
      " [0 0 0 0 0 0 0]], shape=(4, 7), dtype=int32)\n",
      "tf.Tensor(\n",
      "[[6 5 4 5 6 5 4]\n",
      " [3 2 1 2 3 2 1]\n",
      " [6 5 4 5 6 5 4]\n",
      " [3 2 1 2 3 2 1]], shape=(4, 7), dtype=int32)\n",
      "tf.Tensor(\n",
      "[[2 1 1 2 3 3 2]\n",
      " [2 1 1 2 3 3 2]\n",
      " [5 4 4 5 6 6 5]\n",
      " [5 4 4 5 6 6 5]], shape=(4, 7), dtype=int32)\n"
     ]
    }
   ],
   "source": [
    "t = tf.constant([[1, 2, 3], [4, 5, 6]])\n",
    "paddings = tf.constant([[1, 1], [2, 2]])\n",
    "print(tf.pad(t, paddings, \"CONSTANT\"))\n",
    "print(tf.pad(t, paddings, \"REFLECT\"))\n",
    "print(tf.pad(t, paddings, \"SYMMETRIC\"))"
   ]
  },
  {
   "cell_type": "code",
   "execution_count": 10,
   "id": "1a162b3a",
   "metadata": {},
   "outputs": [
    {
     "data": {
      "text/plain": [
       "<tf.Tensor 'parallel_stack_1/ParallelConcat:0' shape=(3, 2) dtype=int32>"
      ]
     },
     "execution_count": 10,
     "metadata": {},
     "output_type": "execute_result"
    }
   ],
   "source": [
    "x = tf.constant([1, 4])\n",
    "y = tf.constant([2, 5])\n",
    "z = tf.constant([3, 6])\n",
    "tf.compat.v1.disable_eager_execution()\n",
    "def execute():\n",
    "    return tf.parallel_stack([x, y, z])\n",
    "execute()"
   ]
  },
  {
   "cell_type": "code",
   "execution_count": 12,
   "id": "8187afcd",
   "metadata": {},
   "outputs": [
    {
     "data": {
      "text/plain": [
       "<tf.Operation 'PrintV2' type=PrintV2>"
      ]
     },
     "execution_count": 12,
     "metadata": {},
     "output_type": "execute_result"
    }
   ],
   "source": [
    "import sys\n",
    "tensor = tf.range(10)\n",
    "tf.print(\"tensors:\", tensor, {2: tensor * 2}, output_stream=sys.stdout)"
   ]
  },
  {
   "cell_type": "code",
   "execution_count": 14,
   "id": "c9b41f4d",
   "metadata": {},
   "outputs": [
    {
     "data": {
      "text/plain": [
       "<tf.Operation 'PrintV2_1' type=PrintV2>"
      ]
     },
     "execution_count": 14,
     "metadata": {},
     "output_type": "execute_result"
    }
   ],
   "source": [
    "tensor = tf.range(10)\n",
    "tf.print(tensor, output_stream=sys.stderr)"
   ]
  },
  {
   "cell_type": "code",
   "execution_count": 18,
   "id": "a09fd74f",
   "metadata": {},
   "outputs": [
    {
     "name": "stdout",
     "output_type": "stream",
     "text": [
      "<tf.Variable 'Variable_5:0' shape=(3,) dtype=float32>\n",
      "<tf.Variable 'Variable_6:0' shape=(3, 3) dtype=float32>\n",
      "(<tf.Variable 'Variable_7:0' shape=(4,) dtype=float32>, <tf.Variable 'Variable_8:0' shape=(4, 4) dtype=float32>)\n"
     ]
    }
   ],
   "source": [
    "def make_variable(k, initializer):\n",
    "    return (tf.Variable(initializer(shape=[k], dtype=tf.float32)), \n",
    "            tf.Variable(initializer(shape=[k, k], dtype=tf.float32)))\n",
    "v1, v2 = make_variable(3, tf.random_normal_initializer(mean=1., stddev=2.))\n",
    "print(v1)\n",
    "print(v2)\n",
    "print(make_variable(4, tf.random_uniform_initializer(minval=-1., maxval=1.)))"
   ]
  },
  {
   "cell_type": "code",
   "execution_count": 21,
   "id": "bbf4ad13",
   "metadata": {},
   "outputs": [
    {
     "data": {
      "text/plain": [
       "<tf.Tensor 'range_6:0' shape=(4,) dtype=float32>"
      ]
     },
     "execution_count": 21,
     "metadata": {},
     "output_type": "execute_result"
    }
   ],
   "source": [
    "start = 3\n",
    "limit = 1\n",
    "delta = -0.5\n",
    "tf.range(start, limit, delta)"
   ]
  },
  {
   "cell_type": "code",
   "execution_count": 26,
   "id": "762b6a29",
   "metadata": {},
   "outputs": [
    {
     "data": {
      "text/plain": [
       "<tf.Tensor 'range_8:0' shape=(5,) dtype=int32>"
      ]
     },
     "execution_count": 26,
     "metadata": {},
     "output_type": "execute_result"
    }
   ],
   "source": [
    "tf.range(5)"
   ]
  },
  {
   "cell_type": "code",
   "execution_count": 27,
   "id": "67fa737e",
   "metadata": {},
   "outputs": [
    {
     "data": {
      "text/plain": [
       "<tf.Tensor 'linspace/Slice:0' shape=(1,) dtype=float64>"
      ]
     },
     "execution_count": 27,
     "metadata": {},
     "output_type": "execute_result"
    }
   ],
   "source": [
    "tf.linspace(0, 5, 1)"
   ]
  },
  {
   "cell_type": "code",
   "execution_count": 30,
   "id": "dae2f478",
   "metadata": {},
   "outputs": [
    {
     "data": {
      "text/plain": [
       "<tf.Tensor 'ones_2:0' shape=(5,) dtype=float32>"
      ]
     },
     "execution_count": 30,
     "metadata": {},
     "output_type": "execute_result"
    }
   ],
   "source": [
    "tf.ones(5)"
   ]
  },
  {
   "cell_type": "code",
   "execution_count": 1,
   "id": "575a2cfa",
   "metadata": {},
   "outputs": [],
   "source": [
    "import tensorflow as tf"
   ]
  },
  {
   "cell_type": "code",
   "execution_count": 2,
   "id": "94b8888a",
   "metadata": {},
   "outputs": [
    {
     "data": {
      "text/plain": [
       "<tf.Tensor: shape=(5,), dtype=int32, numpy=array([0, 1, 2, 3, 4])>"
      ]
     },
     "execution_count": 2,
     "metadata": {},
     "output_type": "execute_result"
    }
   ],
   "source": [
    "tf.range(5)"
   ]
  },
  {
   "cell_type": "code",
   "execution_count": 3,
   "id": "95538e37",
   "metadata": {},
   "outputs": [
    {
     "data": {
      "text/plain": [
       "<tf.Tensor: shape=(), dtype=int32, numpy=3>"
      ]
     },
     "execution_count": 3,
     "metadata": {},
     "output_type": "execute_result"
    }
   ],
   "source": [
    "t = tf.constant([[[1, 1, 1], [2, 2, 2]], [[3, 3, 3], [4, 4, 4]]])\n",
    "tf.rank(t)"
   ]
  },
  {
   "cell_type": "code",
   "execution_count": 4,
   "id": "64399884",
   "metadata": {},
   "outputs": [],
   "source": [
    "y = tf.Variable(1.0)\n",
    "def my_function(x):\n",
    "    tf.print('running')\n",
    "    z = x * y\n",
    "    return z\n",
    "my_function_recompute = tf.recompute_grad(my_function)"
   ]
  },
  {
   "cell_type": "code",
   "execution_count": 6,
   "id": "9325960a",
   "metadata": {},
   "outputs": [
    {
     "name": "stdout",
     "output_type": "stream",
     "text": [
      "running\n",
      "running\n",
      "running\n",
      "running\n"
     ]
    }
   ],
   "source": [
    "with tf.GradientTape() as tape:\n",
    "    r = tf.constant(1.0)\n",
    "    for i in range(4):\n",
    "        r = my_function_recompute(r)"
   ]
  },
  {
   "cell_type": "code",
   "execution_count": 7,
   "id": "299c17c9",
   "metadata": {},
   "outputs": [
    {
     "name": "stdout",
     "output_type": "stream",
     "text": [
      "running\n",
      "running\n",
      "running\n",
      "running\n"
     ]
    },
    {
     "data": {
      "text/plain": [
       "[<tf.Tensor: shape=(), dtype=float32, numpy=4.0>]"
      ]
     },
     "execution_count": 7,
     "metadata": {},
     "output_type": "execute_result"
    }
   ],
   "source": [
    "grad = tape.gradient(r, [y])\n",
    "grad"
   ]
  },
  {
   "cell_type": "code",
   "execution_count": 8,
   "id": "018d8446",
   "metadata": {},
   "outputs": [
    {
     "data": {
      "text/plain": [
       "<tf.Tensor: shape=(2, 5), dtype=int32, numpy=\n",
       "array([[1, 1, 2, 2, 2],\n",
       "       [3, 3, 4, 4, 4]])>"
      ]
     },
     "execution_count": 8,
     "metadata": {},
     "output_type": "execute_result"
    }
   ],
   "source": [
    "tf.repeat([[1, 2], [3, 4]], repeats=[2, 3], axis=1)"
   ]
  },
  {
   "cell_type": "code",
   "execution_count": 9,
   "id": "85f9cf3f",
   "metadata": {},
   "outputs": [
    {
     "name": "stdout",
     "output_type": "stream",
     "text": [
      "[2 3]\n",
      "tf.Tensor([1 2 3 4 5 6], shape=(6,), dtype=int32)\n"
     ]
    }
   ],
   "source": [
    "t1 = [[1, 2, 3], [4, 5, 6]]\n",
    "print(tf.shape(t1).numpy())\n",
    "print(tf.reshape(t1, [6]))"
   ]
  },
  {
   "cell_type": "code",
   "execution_count": 10,
   "id": "f31fb416",
   "metadata": {},
   "outputs": [
    {
     "data": {
      "text/plain": [
       "<tf.Tensor: shape=(1, 2, 3, 4), dtype=int32, numpy=\n",
       "array([[[[ 3,  2,  1,  0],\n",
       "         [ 7,  6,  5,  4],\n",
       "         [11, 10,  9,  8]],\n",
       "\n",
       "        [[15, 14, 13, 12],\n",
       "         [19, 18, 17, 16],\n",
       "         [23, 22, 21, 20]]]])>"
      ]
     },
     "execution_count": 10,
     "metadata": {},
     "output_type": "execute_result"
    }
   ],
   "source": [
    "t = tf.constant([[[[0, 1, 2, 3], [4, 5, 6, 7], [8, 9, 10, 11]], [[12, 13, 14, 15], [16, 17, 18, 19], \n",
    "                                                                 [20, 21, 22, 23]]]])\n",
    "tf.reverse(t, [3])"
   ]
  },
  {
   "cell_type": "code",
   "execution_count": 11,
   "id": "18eb69cb",
   "metadata": {},
   "outputs": [
    {
     "data": {
      "text/plain": [
       "<tf.Tensor: shape=(1, 2, 3, 4), dtype=int32, numpy=\n",
       "array([[[[ 3,  2,  1,  0],\n",
       "         [ 7,  6,  5,  4],\n",
       "         [11, 10,  9,  8]],\n",
       "\n",
       "        [[15, 14, 13, 12],\n",
       "         [19, 18, 17, 16],\n",
       "         [23, 22, 21, 20]]]])>"
      ]
     },
     "execution_count": 11,
     "metadata": {},
     "output_type": "execute_result"
    }
   ],
   "source": [
    "tf.reverse(t, [-1])"
   ]
  },
  {
   "cell_type": "code",
   "execution_count": 12,
   "id": "6e9d1143",
   "metadata": {},
   "outputs": [
    {
     "data": {
      "text/plain": [
       "<tf.Tensor: shape=(1, 2, 3, 4), dtype=int32, numpy=\n",
       "array([[[[ 8,  9, 10, 11],\n",
       "         [ 4,  5,  6,  7],\n",
       "         [ 0,  1,  2,  3]],\n",
       "\n",
       "        [[20, 21, 22, 23],\n",
       "         [16, 17, 18, 19],\n",
       "         [12, 13, 14, 15]]]])>"
      ]
     },
     "execution_count": 12,
     "metadata": {},
     "output_type": "execute_result"
    }
   ],
   "source": [
    "tf.reverse(t, [2])"
   ]
  },
  {
   "cell_type": "code",
   "execution_count": 16,
   "id": "4ffaae83",
   "metadata": {},
   "outputs": [
    {
     "data": {
      "text/plain": [
       "<tf.Tensor: shape=(1, 2, 3, 4), dtype=int32, numpy=\n",
       "array([[[[12, 13, 14, 15],\n",
       "         [16, 17, 18, 19],\n",
       "         [20, 21, 22, 23]],\n",
       "\n",
       "        [[ 0,  1,  2,  3],\n",
       "         [ 4,  5,  6,  7],\n",
       "         [ 8,  9, 10, 11]]]])>"
      ]
     },
     "execution_count": 16,
     "metadata": {},
     "output_type": "execute_result"
    }
   ],
   "source": [
    "tf.reverse(t, [1])"
   ]
  },
  {
   "cell_type": "code",
   "execution_count": 17,
   "id": "6e2d3162",
   "metadata": {},
   "outputs": [
    {
     "data": {
      "text/plain": [
       "<tf.Tensor: shape=(4, 8), dtype=int32, numpy=\n",
       "array([[0, 0, 5, 4, 3, 2, 1, 0],\n",
       "       [2, 1, 0, 0, 0, 0, 0, 0],\n",
       "       [3, 2, 1, 4, 0, 0, 0, 0],\n",
       "       [5, 4, 3, 2, 1, 6, 7, 8]])>"
      ]
     },
     "execution_count": 17,
     "metadata": {},
     "output_type": "execute_result"
    }
   ],
   "source": [
    "seq_lengths = [7, 2, 3, 5]\n",
    "input = [[1, 2, 3, 4, 5, 0, 0, 0], [1, 2, 0, 0, 0, 0, 0, 0], [1, 2, 3, 4, 0, 0, 0, 0], [1, 2, 3, 4, 5, 6, 7, 8]]\n",
    "output = tf.reverse_sequence(input, seq_lengths, seq_axis=1, batch_axis=0)\n",
    "output"
   ]
  },
  {
   "cell_type": "code",
   "execution_count": 18,
   "id": "8dac4ee9",
   "metadata": {},
   "outputs": [
    {
     "data": {
      "text/plain": [
       "<tf.Tensor: shape=(5,), dtype=int32, numpy=array([3, 4, 0, 1, 2])>"
      ]
     },
     "execution_count": 18,
     "metadata": {},
     "output_type": "execute_result"
    }
   ],
   "source": [
    "t = [0, 1, 2, 3, 4]\n",
    "tf.roll(t, shift=2, axis=0)"
   ]
  },
  {
   "cell_type": "code",
   "execution_count": 21,
   "id": "7faf73c4",
   "metadata": {},
   "outputs": [
    {
     "data": {
      "text/plain": [
       "<tf.Tensor: shape=(6,), dtype=int32, numpy=array([21, 20, 18, 15, 11,  6])>"
      ]
     },
     "execution_count": 21,
     "metadata": {},
     "output_type": "execute_result"
    }
   ],
   "source": [
    "elems = tf.constant([1, 2, 3, 4, 5, 6])\n",
    "sum = tf.scan(lambda a, x: a + x, elems, reverse=True)\n",
    "sum"
   ]
  },
  {
   "cell_type": "code",
   "execution_count": 23,
   "id": "2bbbf73f",
   "metadata": {},
   "outputs": [
    {
     "data": {
      "text/plain": [
       "<tf.Tensor: shape=(8,), dtype=int32, numpy=array([ 0, 11,  0, 10,  9,  0,  0, 12])>"
      ]
     },
     "execution_count": 23,
     "metadata": {},
     "output_type": "execute_result"
    }
   ],
   "source": [
    "indices = tf.constant([[4], [3], [1] ,[7]])\n",
    "updates = tf.constant([9, 10, 11, 12])\n",
    "shape = tf.constant([8])\n",
    "scatter = tf.scatter_nd(indices, updates, shape)\n",
    "scatter"
   ]
  },
  {
   "cell_type": "code",
   "execution_count": 24,
   "id": "a54b8a5f",
   "metadata": {},
   "outputs": [
    {
     "data": {
      "text/plain": [
       "array([1, 2, 4])"
      ]
     },
     "execution_count": 24,
     "metadata": {},
     "output_type": "execute_result"
    }
   ],
   "source": [
    "edges = [-1, 3.3, 9.1, 10.0]\n",
    "values = [0.0, 4.1, 12.0]\n",
    "tf.searchsorted(edges, values).numpy()"
   ]
  },
  {
   "cell_type": "code",
   "execution_count": 32,
   "id": "f9b7903d",
   "metadata": {},
   "outputs": [
    {
     "data": {
      "text/plain": [
       "<tf.Tensor: shape=(3, 5), dtype=bool, numpy=\n",
       "array([[ True, False, False, False, False],\n",
       "       [ True,  True,  True, False, False],\n",
       "       [ True,  True, False, False, False]])>"
      ]
     },
     "execution_count": 32,
     "metadata": {},
     "output_type": "execute_result"
    }
   ],
   "source": [
    "tf.sequence_mask([1, 3, 2], 5)"
   ]
  },
  {
   "cell_type": "code",
   "execution_count": 33,
   "id": "bd17aa45",
   "metadata": {},
   "outputs": [
    {
     "data": {
      "text/plain": [
       "<tf.Tensor: shape=(3,), dtype=int32, numpy=array([2, 2, 3])>"
      ]
     },
     "execution_count": 33,
     "metadata": {},
     "output_type": "execute_result"
    }
   ],
   "source": [
    "t = tf.constant([[[1, 1, 1], [2, 2, 2]], [[3, 3, 3], [4, 4, 4]]])\n",
    "tf.shape(t)"
   ]
  },
  {
   "cell_type": "code",
   "execution_count": 34,
   "id": "f18ccbf2",
   "metadata": {},
   "outputs": [
    {
     "data": {
      "text/plain": [
       "<tf.Tensor: shape=(), dtype=int32, numpy=12>"
      ]
     },
     "execution_count": 34,
     "metadata": {},
     "output_type": "execute_result"
    }
   ],
   "source": [
    "tf.size(t)"
   ]
  },
  {
   "cell_type": "code",
   "execution_count": 35,
   "id": "c37cab2a",
   "metadata": {},
   "outputs": [
    {
     "data": {
      "text/plain": [
       "<tf.Tensor: shape=(2, 1, 3), dtype=int32, numpy=\n",
       "array([[[3, 3, 3]],\n",
       "\n",
       "       [[5, 5, 5]]])>"
      ]
     },
     "execution_count": 35,
     "metadata": {},
     "output_type": "execute_result"
    }
   ],
   "source": [
    "t = tf.constant([[[1, 1, 1], [2, 2, 2]], [[3, 3, 3], [4, 4, 4]], [[5, 5, 5], [6, 6, 6]]])\n",
    "tf.slice(t, [1, 0, 0], [2, 1, 3])"
   ]
  },
  {
   "cell_type": "code",
   "execution_count": 36,
   "id": "6d1511b6",
   "metadata": {},
   "outputs": [
    {
     "data": {
      "text/plain": [
       "<tf.Tensor: shape=(4,), dtype=int32, numpy=array([ 1,  3,  6, 24])>"
      ]
     },
     "execution_count": 36,
     "metadata": {},
     "output_type": "execute_result"
    }
   ],
   "source": [
    "a = [1, 3, 24, 6]\n",
    "tf.sort(a)"
   ]
  },
  {
   "cell_type": "code",
   "execution_count": 37,
   "id": "9e799153",
   "metadata": {},
   "outputs": [
    {
     "data": {
      "text/plain": [
       "<tf.Tensor: shape=(4,), dtype=int32, numpy=array([24,  6,  3,  1])>"
      ]
     },
     "execution_count": 37,
     "metadata": {},
     "output_type": "execute_result"
    }
   ],
   "source": [
    "tf.sort(a, direction=\"DESCENDING\")"
   ]
  },
  {
   "cell_type": "code",
   "execution_count": 38,
   "id": "48411f51",
   "metadata": {},
   "outputs": [
    {
     "name": "stdout",
     "output_type": "stream",
     "text": [
      "[5 4]\n",
      "[ 5 15]\n",
      "[ 5 11]\n"
     ]
    }
   ],
   "source": [
    "x = tf.Variable(tf.random.uniform([5, 30], -1, 1))\n",
    "split0, split1, split2 = tf.split(x, [4, 15, 11], 1)\n",
    "print(tf.shape(split0).numpy())\n",
    "print(tf.shape(split1).numpy())\n",
    "print(tf.shape(split2).numpy())"
   ]
  },
  {
   "cell_type": "code",
   "execution_count": 39,
   "id": "961a9b7b",
   "metadata": {},
   "outputs": [
    {
     "name": "stdout",
     "output_type": "stream",
     "text": [
      "tf.Tensor(\n",
      "[[1 4]\n",
      " [2 5]\n",
      " [3 6]], shape=(3, 2), dtype=int32)\n",
      "tf.Tensor(\n",
      "[[1 2 3]\n",
      " [4 5 6]], shape=(2, 3), dtype=int32)\n"
     ]
    }
   ],
   "source": [
    "x = tf.constant([1, 4])\n",
    "y = tf.constant([2, 5])\n",
    "z = tf.constant([3, 6])\n",
    "print(tf.stack([x, y, z]))\n",
    "print(tf.stack([x, y, z], axis=1))"
   ]
  },
  {
   "cell_type": "code",
   "execution_count": 53,
   "id": "b334ba23",
   "metadata": {},
   "outputs": [
    {
     "data": {
      "text/plain": [
       "<tf.Tensor: shape=(1, 2, 3), dtype=int32, numpy=\n",
       "array([[[4, 4, 4],\n",
       "        [3, 3, 3]]])>"
      ]
     },
     "execution_count": 53,
     "metadata": {},
     "output_type": "execute_result"
    }
   ],
   "source": [
    "t = tf.constant([[[1, 1, 1], [2, 2, 2]], [[3, 3, 3], [4, 4, 4]], [[5, 5, 5], [6, 6, 6]]])\n",
    "tf.strided_slice(t, [1, -1, 0], [2, -3, 3], [1, -1, 1])"
   ]
  },
  {
   "cell_type": "code",
   "execution_count": 1,
   "id": "cd0823da",
   "metadata": {},
   "outputs": [],
   "source": [
    "import tensorflow as tf \n",
    "import numpy as np"
   ]
  },
  {
   "cell_type": "code",
   "execution_count": 6,
   "id": "77812130",
   "metadata": {},
   "outputs": [
    {
     "data": {
      "text/plain": [
       "<tf.Tensor: shape=(8,), dtype=int32, numpy=array([ 1, 12,  1, 11, 10,  1,  1, 13])>"
      ]
     },
     "execution_count": 6,
     "metadata": {},
     "output_type": "execute_result"
    }
   ],
   "source": [
    "indices = tf.constant([[4], [3], [1], [7]])\n",
    "updates = tf.constant([9, 10, 11, 12])\n",
    "tensor = tf.ones([8], dtype=tf.int32)\n",
    "updated = tf.tensor_scatter_nd_add(tensor, indices, updates)\n",
    "updated"
   ]
  },
  {
   "cell_type": "code",
   "execution_count": 7,
   "id": "44d37521",
   "metadata": {},
   "outputs": [
    {
     "data": {
      "text/plain": [
       "array([0, 1, 0, 0, 0, 1, 0, 0])"
      ]
     },
     "execution_count": 7,
     "metadata": {},
     "output_type": "execute_result"
    }
   ],
   "source": [
    "tensor = [0, 0, 0, 0, 0, 0, 0, 0]\n",
    "indices = [[1], [4], [5]]\n",
    "updates = [1, -1, 1]\n",
    "tf.tensor_scatter_nd_max(tensor, indices, updates).numpy()"
   ]
  },
  {
   "cell_type": "code",
   "execution_count": 8,
   "id": "5446718a",
   "metadata": {},
   "outputs": [
    {
     "name": "stdout",
     "output_type": "stream",
     "text": [
      "tf.Tensor([  1 -10   1  -9  -8   1   1 -11], shape=(8,), dtype=int32)\n"
     ]
    }
   ],
   "source": [
    "indices = tf.constant([[4], [3], [1], [7]])\n",
    "updates = tf.constant([9, 10, 11, 12])\n",
    "tensor = tf.ones([8], dtype=tf.int32)\n",
    "updated = tf.tensor_scatter_nd_sub(tensor, indices, updates)\n",
    "print(updated)"
   ]
  },
  {
   "cell_type": "code",
   "execution_count": 10,
   "id": "d055fd46",
   "metadata": {},
   "outputs": [
    {
     "name": "stdout",
     "output_type": "stream",
     "text": [
      "tf.Tensor([ 0  9  0 10 11  0  0  0], shape=(8,), dtype=int32)\n"
     ]
    }
   ],
   "source": [
    "tensor = [0, 0, 0, 0, 0, 0, 0, 0]\n",
    "indices = [[1], [3], [4]]\n",
    "updates = [9, 10, 11]\n",
    "print(tf.tensor_scatter_nd_update(tensor, indices, updates))"
   ]
  },
  {
   "cell_type": "code",
   "execution_count": 15,
   "id": "aaf6a327",
   "metadata": {},
   "outputs": [
    {
     "data": {
      "text/plain": [
       "<tf.Tensor: shape=(2, 2), dtype=int32, numpy=\n",
       "array([[ 7, 10],\n",
       "       [15, 22]])>"
      ]
     },
     "execution_count": 15,
     "metadata": {},
     "output_type": "execute_result"
    }
   ],
   "source": [
    "a = tf.constant([[1, 2], [3, 4]])\n",
    "b = tf.constant([[1, 2], [3, 4]])\n",
    "tf.tensordot(a, b, axes=[[1], [0]])"
   ]
  },
  {
   "cell_type": "code",
   "execution_count": 16,
   "id": "6f2d358c",
   "metadata": {},
   "outputs": [
    {
     "data": {
      "text/plain": [
       "<tf.Tensor: shape=(2, 6), dtype=int32, numpy=\n",
       "array([[1, 2, 3, 1, 2, 3],\n",
       "       [4, 5, 6, 4, 5, 6]])>"
      ]
     },
     "execution_count": 16,
     "metadata": {},
     "output_type": "execute_result"
    }
   ],
   "source": [
    "a = tf.constant([[1, 2, 3], [4, 5, 6]], tf.int32)\n",
    "b = tf.constant([1, 2], tf.int32)\n",
    "tf.tile(a, b)"
   ]
  },
  {
   "cell_type": "code",
   "execution_count": 18,
   "id": "66f19aa5",
   "metadata": {},
   "outputs": [
    {
     "data": {
      "text/plain": [
       "<tf.Tensor: shape=(), dtype=float64, numpy=1644677590.891376>"
      ]
     },
     "execution_count": 18,
     "metadata": {},
     "output_type": "execute_result"
    }
   ],
   "source": [
    "tf.timestamp()"
   ]
  },
  {
   "cell_type": "code",
   "execution_count": 19,
   "id": "31048fb8",
   "metadata": {},
   "outputs": [
    {
     "data": {
      "text/plain": [
       "<tf.Tensor: shape=(3, 2), dtype=int32, numpy=\n",
       "array([[1, 4],\n",
       "       [2, 5],\n",
       "       [3, 6]])>"
      ]
     },
     "execution_count": 19,
     "metadata": {},
     "output_type": "execute_result"
    }
   ],
   "source": [
    "x = tf.constant([[1, 2, 3], [4, 5, 6]])\n",
    "tf.transpose(x)"
   ]
  },
  {
   "cell_type": "code",
   "execution_count": 20,
   "id": "8f026855",
   "metadata": {},
   "outputs": [
    {
     "data": {
      "text/plain": [
       "<tf.Tensor: shape=(3, 2), dtype=complex128, numpy=\n",
       "array([[1.-1.j, 4.-4.j],\n",
       "       [2.-2.j, 5.-5.j],\n",
       "       [3.-3.j, 6.-6.j]])>"
      ]
     },
     "execution_count": 20,
     "metadata": {},
     "output_type": "execute_result"
    }
   ],
   "source": [
    "x = tf.constant([[1 + 1j, 2 + 2j, 3 + 3j], [4 + 4j, 5 + 5j, 6 + 6j]])\n",
    "tf.transpose(x, conjugate=True)"
   ]
  },
  {
   "cell_type": "code",
   "execution_count": 21,
   "id": "368479d4",
   "metadata": {},
   "outputs": [
    {
     "data": {
      "text/plain": [
       "<tf.Tensor: shape=(2, 3, 2), dtype=int32, numpy=\n",
       "array([[[ 1,  4],\n",
       "        [ 2,  5],\n",
       "        [ 3,  6]],\n",
       "\n",
       "       [[ 7, 10],\n",
       "        [ 8, 11],\n",
       "        [ 9, 12]]])>"
      ]
     },
     "execution_count": 21,
     "metadata": {},
     "output_type": "execute_result"
    }
   ],
   "source": [
    "x = tf.constant([[[1, 2, 3], [4, 5, 6]], [[7, 8, 9], [10, 11, 12]]])\n",
    "tf.transpose(x, perm=[0, 2, 1])"
   ]
  },
  {
   "cell_type": "code",
   "execution_count": 26,
   "id": "4e71efc9",
   "metadata": {},
   "outputs": [
    {
     "data": {
      "text/plain": [
       "<tf.Tensor: shape=(), dtype=int32, numpy=1>"
      ]
     },
     "execution_count": 26,
     "metadata": {},
     "output_type": "execute_result"
    }
   ],
   "source": [
    "tf.truncatemod(5, 2)"
   ]
  },
  {
   "cell_type": "code",
   "execution_count": 27,
   "id": "8193c1eb",
   "metadata": {},
   "outputs": [
    {
     "data": {
      "text/plain": [
       "<tf.Tensor: shape=(), dtype=int32, numpy=3>"
      ]
     },
     "execution_count": 27,
     "metadata": {},
     "output_type": "execute_result"
    }
   ],
   "source": [
    "tf.truncatediv(6, 2)"
   ]
  },
  {
   "cell_type": "code",
   "execution_count": 29,
   "id": "970958b4",
   "metadata": {},
   "outputs": [
    {
     "name": "stdout",
     "output_type": "stream",
     "text": [
      "TensorSpec(shape=(2,), dtype=tf.float32, name=None)\n",
      "TensorSpec(shape=(3,), dtype=tf.int32, name=None)\n",
      "RaggedTensorSpec(TensorShape([2, None]), tf.int32, 1, tf.int64)\n"
     ]
    }
   ],
   "source": [
    "print(tf.type_spec_from_value(np.array([4.0, 5.0], np.float32)))\n",
    "print(tf.type_spec_from_value(tf.constant([1, 2, 3])))\n",
    "print(tf.type_spec_from_value(tf.ragged.constant([[1, 2], [3, 4, 5]])))"
   ]
  },
  {
   "cell_type": "code",
   "execution_count": 30,
   "id": "a901c596",
   "metadata": {},
   "outputs": [
    {
     "name": "stdout",
     "output_type": "stream",
     "text": [
      "tf.Tensor([1 2 4 7 8], shape=(5,), dtype=int32)\n",
      "tf.Tensor([0 0 1 2 2 2 3 4 4], shape=(9,), dtype=int32)\n"
     ]
    },
    {
     "data": {
      "text/plain": [
       "<tf.Tensor: shape=(5,), dtype=int32, numpy=array([2, 1, 3, 1, 2])>"
      ]
     },
     "execution_count": 30,
     "metadata": {},
     "output_type": "execute_result"
    }
   ],
   "source": [
    "x = tf.constant([1, 1, 2, 4, 4, 4, 7, 8, 8])\n",
    "y, idx, count = tf.unique_with_counts(x)\n",
    "print(y)\n",
    "print(idx)\n",
    "count"
   ]
  },
  {
   "cell_type": "code",
   "execution_count": 31,
   "id": "f39834b6",
   "metadata": {},
   "outputs": [],
   "source": [
    "y, idx = tf.unique(tf.constant([1, 1, 2, 4, 4, 4, 7, 8, 8]))"
   ]
  },
  {
   "cell_type": "code",
   "execution_count": 32,
   "id": "f22202d6",
   "metadata": {},
   "outputs": [
    {
     "name": "stdout",
     "output_type": "stream",
     "text": [
      "tf.Tensor([1 2 4 7 8], shape=(5,), dtype=int32) tf.Tensor([0 0 1 2 2 2 3 4 4], shape=(9,), dtype=int32)\n"
     ]
    }
   ],
   "source": [
    "print(y, idx)"
   ]
  },
  {
   "cell_type": "code",
   "execution_count": 33,
   "id": "0f00eb55",
   "metadata": {},
   "outputs": [
    {
     "data": {
      "text/plain": [
       "[4]"
      ]
     },
     "execution_count": 33,
     "metadata": {},
     "output_type": "execute_result"
    }
   ],
   "source": [
    "x = tf.reshape(tf.range(12), (3, 4))\n",
    "p, q, r = tf.unstack(x)\n",
    "p.shape.as_list()"
   ]
  },
  {
   "cell_type": "code",
   "execution_count": 35,
   "id": "6a4bc7c0",
   "metadata": {},
   "outputs": [],
   "source": [
    "def outer_product(a):\n",
    "    return tf.tensordot(a, a, 0)\n",
    "batch_size = 100\n",
    "a = tf.ones((batch_size, 32, 32))\n",
    "c = tf.vectorized_map(outer_product, a)\n",
    "assert c.shape == (batch_size, 32, 32, 32, 32)"
   ]
  },
  {
   "cell_type": "code",
   "execution_count": 36,
   "id": "010f476a",
   "metadata": {},
   "outputs": [
    {
     "data": {
      "text/plain": [
       "array([[  1, 100,   3],\n",
       "       [  4, 200,   6],\n",
       "       [  7, 300,   9]])"
      ]
     },
     "execution_count": 36,
     "metadata": {},
     "output_type": "execute_result"
    }
   ],
   "source": [
    "tf.where([True, False, True], x = [[1, 2, 3], [4, 5, 6], [7, 8, 9]], y = [[100], [200], [300]]).numpy()"
   ]
  },
  {
   "cell_type": "code",
   "execution_count": 39,
   "id": "2b92bb66",
   "metadata": {},
   "outputs": [
    {
     "data": {
      "text/plain": [
       "(<tf.Tensor: shape=(), dtype=int32, numpy=10>,)"
      ]
     },
     "execution_count": 39,
     "metadata": {},
     "output_type": "execute_result"
    }
   ],
   "source": [
    "i = tf.constant(0)\n",
    "c = lambda i: tf.less(i, 10)\n",
    "b = lambda i: (tf.add(i, 1),)\n",
    "r = tf.while_loop(c, b, [i])\n",
    "r"
   ]
  },
  {
   "cell_type": "code",
   "execution_count": 41,
   "id": "b5e3b53c",
   "metadata": {},
   "outputs": [
    {
     "data": {
      "text/plain": [
       "(<tf.Tensor: shape=(), dtype=int32, numpy=10>,\n",
       " Pair(j=<tf.Tensor: shape=(), dtype=int32, numpy=32>, k=<tf.Tensor: shape=(), dtype=int32, numpy=64>))"
      ]
     },
     "execution_count": 41,
     "metadata": {},
     "output_type": "execute_result"
    }
   ],
   "source": [
    "import collections\n",
    "Pair = collections.namedtuple('Pair', 'j, k')\n",
    "ijk_0 = (tf.constant(0), Pair(tf.constant(1), tf.constant(2)))\n",
    "c = lambda i, p: i < 10\n",
    "b = lambda i, p: (i + 1, Pair((p.j + p.k), (p.j - p.k)))\n",
    "ijk_final = tf.while_loop(c, b, ijk_0)\n",
    "ijk_final"
   ]
  },
  {
   "cell_type": "code",
   "execution_count": 42,
   "id": "5f08f657",
   "metadata": {},
   "outputs": [
    {
     "data": {
      "text/plain": [
       "<tf.Tensor: shape=(3, 4), dtype=int32, numpy=\n",
       "array([[0, 0, 0, 0],\n",
       "       [0, 0, 0, 0],\n",
       "       [0, 0, 0, 0]])>"
      ]
     },
     "execution_count": 42,
     "metadata": {},
     "output_type": "execute_result"
    }
   ],
   "source": [
    "tf.zeros([3, 4], tf.int32)"
   ]
  },
  {
   "cell_type": "code",
   "execution_count": 45,
   "id": "343d5460",
   "metadata": {},
   "outputs": [
    {
     "name": "stdout",
     "output_type": "stream",
     "text": [
      "<tf.Variable 'Variable:0' shape=(3,) dtype=float32, numpy=array([0., 0., 0.], dtype=float32)>\n",
      "<tf.Variable 'Variable:0' shape=(3, 3) dtype=float32, numpy=\n",
      "array([[0., 0., 0.],\n",
      "       [0., 0., 0.],\n",
      "       [0., 0., 0.]], dtype=float32)>\n"
     ]
    }
   ],
   "source": [
    "def make_variables(k, initializer):\n",
    "    return (tf.Variable(initializer(shape=[k], dtype=tf.float32)), \n",
    "            tf.Variable(initializer(shape=[k, k], dtype=tf.float32)))\n",
    "v1, v2 = make_variables(3, tf.zeros_initializer())\n",
    "print(v1)\n",
    "print(v2)"
   ]
  },
  {
   "cell_type": "code",
   "execution_count": 46,
   "id": "f2b0b772",
   "metadata": {},
   "outputs": [
    {
     "data": {
      "text/plain": [
       "<tf.Tensor: shape=(2, 3), dtype=int32, numpy=\n",
       "array([[0, 0, 0],\n",
       "       [0, 0, 0]])>"
      ]
     },
     "execution_count": 46,
     "metadata": {},
     "output_type": "execute_result"
    }
   ],
   "source": [
    "tensor = tf.constant([[1, 2, 3], [4, 5, 6]])\n",
    "tf.zeros_like(tensor)"
   ]
  },
  {
   "cell_type": "code",
   "execution_count": 1,
   "id": "b1c4c278",
   "metadata": {},
   "outputs": [],
   "source": [
    "import numpy as np\n",
    "import tensorflow as tf"
   ]
  },
  {
   "cell_type": "code",
   "execution_count": 3,
   "id": "52953511",
   "metadata": {},
   "outputs": [
    {
     "data": {
      "text/plain": [
       "<tf.Tensor: shape=(), dtype=float32, numpy=6.8372326>"
      ]
     },
     "execution_count": 3,
     "metadata": {},
     "output_type": "execute_result"
    }
   ],
   "source": [
    "x = tf.constant([[2.0, 3.0], [1.0, 4.0]])\n",
    "targets = tf.constant([[1.], [-1.]])\n",
    "dense = tf.keras.layers.Dense(1)\n",
    "dense.build([None, 2])\n",
    "with tf.autodiff.ForwardAccumulator(primals=dense.kernel, tangents=tf.constant([[1.], [0.]])) as acc:\n",
    "    loss = tf.reduce_sum((dense(x) - targets) ** 2.)\n",
    "acc.jvp(loss)"
   ]
  },
  {
   "cell_type": "code",
   "execution_count": 6,
   "id": "930ff74e",
   "metadata": {},
   "outputs": [],
   "source": [
    "x = tf.constant([[2.0, 3.0], [1.0, 4.0]])\n",
    "targets = tf.constant([[1.], [-1.]])\n",
    "dense = tf.keras.layers.Dense(1)\n",
    "dense.build([None, 2])\n",
    "loss_fn = lambda: tf.reduce_sum((dense(x) - targets) ** 2)\n",
    "kernel_fprop = []\n",
    "with tf.autodiff.ForwardAccumulator(dense.kernel, tf.constant([[1.], [0.]])) as acc:\n",
    "    kernel_fprop.append(acc.jvp(loss_fn()))\n",
    "with tf.autodiff.ForwardAccumulator(dense.kernel, tf.constant([[0.], [1.]])) as acc:\n",
    "    kernel_fprop.append(acc.jvp(loss_fn()))\n",
    "with tf.autodiff.ForwardAccumulator(dense.bias, tf.constant([1.])) as acc:\n",
    "    bias_fprop = acc.jvp(loss_fn())\n",
    "with tf.GradientTape() as tape:\n",
    "    loss = loss_fn()\n",
    "kernel_grad, bias_grad = tape.gradient(loss, (dense.kernel, dense.bias))\n",
    "np.testing.assert_allclose(kernel_grad, tf.stack(kernel_fprop)[:, tf.newaxis])\n",
    "np.testing.assert_allclose(bias_grad, bias_fprop[tf.newaxis])"
   ]
  },
  {
   "cell_type": "code",
   "execution_count": 7,
   "id": "3ff177a6",
   "metadata": {},
   "outputs": [
    {
     "name": "stdout",
     "output_type": "stream",
     "text": [
      "tf.Tensor(4.4417057, shape=(), dtype=float32)\n"
     ]
    },
    {
     "data": {
      "text/plain": [
       "<tf.Tensor: shape=(), dtype=float32, numpy=10.094786>"
      ]
     },
     "execution_count": 7,
     "metadata": {},
     "output_type": "execute_result"
    }
   ],
   "source": [
    "primal = tf.constant(1.1)\n",
    "with tf.autodiff.ForwardAccumulator(primal, tf.constant(1.)) as outer:\n",
    "    with tf.autodiff.ForwardAccumulator(primal, tf.constant(1.)) as inner:\n",
    "        primal_out = primal ** tf.constant(3.5)\n",
    "inner_jvp = inner.jvp(primal_out)\n",
    "print(inner_jvp)\n",
    "outer.jvp(inner_jvp)"
   ]
  },
  {
   "cell_type": "code",
   "execution_count": 8,
   "id": "2f311c23",
   "metadata": {},
   "outputs": [
    {
     "name": "stdout",
     "output_type": "stream",
     "text": [
      "tf.Tensor([ 3. 12.], shape=(2,), dtype=float32)\n"
     ]
    },
    {
     "data": {
      "text/plain": [
       "<tf.Tensor: shape=(2,), dtype=float32, numpy=array([6., 0.], dtype=float32)>"
      ]
     },
     "execution_count": 8,
     "metadata": {},
     "output_type": "execute_result"
    }
   ],
   "source": [
    "v = tf.Variable([1., 2.])\n",
    "with tf.autodiff.ForwardAccumulator(v, tf.constant([1., 0.])) as acc:\n",
    "    with tf.GradientTape() as tape:\n",
    "        y = tf.reduce_sum(v ** 3)\n",
    "    backward = tape.gradient(y, v)\n",
    "print(backward)\n",
    "acc.jvp(backward)"
   ]
  },
  {
   "cell_type": "code",
   "execution_count": 2,
   "id": "5d703147",
   "metadata": {},
   "outputs": [],
   "source": [
    "import os\n",
    "import tensorflow as tf\n",
    "os.environ['AUTOGRAPH_VERBOSITY'] = '5'\n",
    "tf.autograph.set_verbosity(0)\n",
    "os.environ[\"AUTOGRAPH_VERBOSITY\"] = \"1\""
   ]
  },
  {
   "cell_type": "code",
   "execution_count": 3,
   "id": "678aed1c",
   "metadata": {},
   "outputs": [
    {
     "data": {
      "text/plain": [
       "\"def tf__f(x):\\n    with ag__.FunctionScope('f', 'fscope', ag__.ConversionOptions(recursive=True, user_requested=True, optional_features=(), internal_convert_user_code=True)) as fscope:\\n        do_return = False\\n        retval_ = ag__.UndefinedReturnValue()\\n\\n        def get_state():\\n            return (x,)\\n\\n        def set_state(vars_):\\n            nonlocal x\\n            (x,) = vars_\\n\\n        def if_body():\\n            nonlocal x\\n            x = (- ag__.ld(x))\\n\\n        def else_body():\\n            nonlocal x\\n            pass\\n        ag__.if_stmt((ag__.ld(x) < 0), if_body, else_body, get_state, set_state, ('x',), 1)\\n        try:\\n            do_return = True\\n            retval_ = ag__.ld(x)\\n        except:\\n            do_return = False\\n            raise\\n        return fscope.ret(retval_, do_return)\\n\""
      ]
     },
     "execution_count": 3,
     "metadata": {},
     "output_type": "execute_result"
    }
   ],
   "source": [
    "def f(x):\n",
    "    if x < 0:\n",
    "        x =-x\n",
    "    return x\n",
    "tf.autograph.to_code(f)"
   ]
  },
  {
   "cell_type": "code",
   "execution_count": 6,
   "id": "3fe86d71",
   "metadata": {},
   "outputs": [
    {
     "data": {
      "text/plain": [
       "<tf.Tensor: shape=(), dtype=int32, numpy=4>"
      ]
     },
     "execution_count": 6,
     "metadata": {},
     "output_type": "execute_result"
    }
   ],
   "source": [
    "def f(x):\n",
    "    if x > 0:\n",
    "        y = x * x\n",
    "    else:\n",
    "        y =-x\n",
    "    return y\n",
    "converted_f = tf.autograph.to_graph(f)\n",
    "x = tf.constant(2)\n",
    "converted_f(x)"
   ]
  },
  {
   "cell_type": "code",
   "execution_count": 7,
   "id": "e632edcf",
   "metadata": {},
   "outputs": [
    {
     "name": "stdout",
     "output_type": "stream",
     "text": [
      "tf.Tensor(0, shape=(), dtype=int32)\n",
      "tf.Tensor(1, shape=(), dtype=int32)\n",
      "tf.Tensor(2, shape=(), dtype=int32)\n",
      "tf.Tensor(3, shape=(), dtype=int32)\n",
      "tf.Tensor(4, shape=(), dtype=int32)\n",
      "tf.Tensor(5, shape=(), dtype=int32)\n",
      "tf.Tensor(6, shape=(), dtype=int32)\n",
      "tf.Tensor(7, shape=(), dtype=int32)\n",
      "tf.Tensor(8, shape=(), dtype=int32)\n",
      "tf.Tensor(9, shape=(), dtype=int32)\n"
     ]
    }
   ],
   "source": [
    "for i in tf.range(10):\n",
    "    tf.autograph.trace(i)"
   ]
  },
  {
   "cell_type": "code",
   "execution_count": 9,
   "id": "a9cd6138",
   "metadata": {},
   "outputs": [],
   "source": [
    "optionals = tf.autograph.experimental.Feature.EQUALITY_OPERATORS\n",
    "@tf.function(experimental_autograph_options=optionals)\n",
    "def f(i):\n",
    "    if i == 0:\n",
    "        tf.print(\"i is zero\")"
   ]
  },
  {
   "cell_type": "code",
   "execution_count": 12,
   "id": "aa400e94",
   "metadata": {},
   "outputs": [
    {
     "data": {
      "text/plain": [
       "<tf.Tensor: shape=(), dtype=int32, numpy=3>"
      ]
     },
     "execution_count": 12,
     "metadata": {},
     "output_type": "execute_result"
    }
   ],
   "source": [
    "@tf.function(autograph=True)\n",
    "def f():\n",
    "    n = 0\n",
    "    for i in tf.range(10):\n",
    "        tf.autograph.experimental.set_loop_options(maximum_iterations=3)\n",
    "        n += 1\n",
    "    return n\n",
    "a = f()\n",
    "a"
   ]
  },
  {
   "cell_type": "code",
   "execution_count": 14,
   "id": "3aa898a2",
   "metadata": {},
   "outputs": [
    {
     "data": {
      "text/plain": [
       "<tf.Tensor: shape=(4,), dtype=int32, numpy=array([0, 0, 1, 2])>"
      ]
     },
     "execution_count": 14,
     "metadata": {},
     "output_type": "execute_result"
    }
   ],
   "source": [
    "@tf.function(autograph=True)\n",
    "def f():\n",
    "    v = tf.constant((0,))\n",
    "    for i in tf.range(3):\n",
    "        tf.autograph.experimental.set_loop_options(shape_invariants=[(v, tf.TensorShape([None]))])\n",
    "        v = tf.concat((v, [i]), 0)\n",
    "    return v\n",
    "a = f()\n",
    "a"
   ]
  },
  {
   "cell_type": "code",
   "execution_count": 16,
   "id": "be010d09",
   "metadata": {},
   "outputs": [],
   "source": [
    "from tensorflow.python.ops import bitwise_ops\n",
    "dtype_list = [tf.int8, tf.int16, tf.int32, tf.int64, tf.uint8, tf.uint16, tf.uint32, tf.uint64]\n",
    "for dtype in dtype_list:\n",
    "    lhs = tf.constant([0, 5, 3, 14], dtype=dtype)\n",
    "    rhs = tf.constant([5, 0, 7, 11], dtype=dtype)\n",
    "    exp = tf.constant([0, 0, 3, 10], dtype=tf.float32)\n",
    "    res = bitwise_ops.bitwise_and(lhs, rhs)\n",
    "    tf.assert_equal(tf.cast(res, tf.float32), exp)"
   ]
  },
  {
   "cell_type": "code",
   "execution_count": 17,
   "id": "93adffa1",
   "metadata": {},
   "outputs": [],
   "source": [
    "for dtype in dtype_list:\n",
    "    lhs = tf.constant([0, 5, 3, 14], dtype=dtype)\n",
    "    rhs = tf.constant([5, 0, 7, 11], dtype=dtype)\n",
    "    exp = tf.constant([5, 5, 7, 15], dtype=tf.float32)\n",
    "    res = bitwise_ops.bitwise_or(lhs, rhs)\n",
    "    tf.assert_equal(tf.cast(res, tf.float32), exp)"
   ]
  },
  {
   "cell_type": "code",
   "execution_count": 18,
   "id": "32b63014",
   "metadata": {},
   "outputs": [],
   "source": [
    "for dtype in dtype_list:\n",
    "    lhs = tf.constant([0, 5, 3, 14], dtype=dtype)\n",
    "    rhs = tf.constant([5, 0, 7, 11], dtype=dtype)\n",
    "    exp = tf.constant([5, 5, 4, 5], dtype=tf.float32)\n",
    "    res = bitwise_ops.bitwise_xor(lhs, rhs)\n",
    "    tf.assert_equal(tf.cast(res, tf.float32), exp)"
   ]
  },
  {
   "cell_type": "code",
   "execution_count": 21,
   "id": "b88c36b1",
   "metadata": {},
   "outputs": [
    {
     "data": {
      "text/plain": [
       "<tf.Tensor: shape=(4,), dtype=int32, numpy=array([ -1,  -6,  -4, -15])>"
      ]
     },
     "execution_count": 21,
     "metadata": {},
     "output_type": "execute_result"
    }
   ],
   "source": [
    "inputs = [0, 5, 3, 14]\n",
    "bitwise_ops.invert(inputs)"
   ]
  },
  {
   "cell_type": "code",
   "execution_count": 22,
   "id": "9f16f060",
   "metadata": {},
   "outputs": [
    {
     "name": "stdout",
     "output_type": "stream",
     "text": [
      "tf.Tensor([ -32   -5 -128    0], shape=(4,), dtype=int8)\n",
      "tf.Tensor([   -32     -5   -384 -28672], shape=(4,), dtype=int16)\n",
      "tf.Tensor([   -32     -5   -384 -28672], shape=(4,), dtype=int32)\n",
      "tf.Tensor([   -32     -5   -384 -28672], shape=(4,), dtype=int64)\n"
     ]
    },
    {
     "data": {
      "text/plain": [
       "<tf.Tensor: shape=(4,), dtype=int8, numpy=array([ -2,  64, 101,  32], dtype=int8)>"
      ]
     },
     "execution_count": 22,
     "metadata": {},
     "output_type": "execute_result"
    }
   ],
   "source": [
    "import numpy as np\n",
    "dtype_list = [tf.int8, tf.int16, tf.int32, tf.int64]\n",
    "for dtype in dtype_list:\n",
    "    lhs = tf.constant([-1, -5, -3, -14], dtype=dtype)\n",
    "    rhs = tf.constant([5, 0, 7, 11], dtype=dtype)\n",
    "    left_shift_result = bitwise_ops.left_shift(lhs, rhs)\n",
    "    print(left_shift_result)\n",
    "lhs = np.array([-2, 64, 101, 32], dtype=np.int8)\n",
    "rhs = np.array([-1, -5, -3, -14], dtype=np.int8)\n",
    "bitwise_ops.left_shift(lhs, rhs)"
   ]
  },
  {
   "cell_type": "code",
   "execution_count": 23,
   "id": "d645914c",
   "metadata": {},
   "outputs": [
    {
     "name": "stdout",
     "output_type": "stream",
     "text": [
      "tf.Tensor([-1 -5 -1 -1], shape=(4,), dtype=int8)\n",
      "tf.Tensor([-1 -5 -1 -1], shape=(4,), dtype=int16)\n",
      "tf.Tensor([-1 -5 -1 -1], shape=(4,), dtype=int32)\n",
      "tf.Tensor([-1 -5 -1 -1], shape=(4,), dtype=int64)\n"
     ]
    },
    {
     "data": {
      "text/plain": [
       "<tf.Tensor: shape=(4,), dtype=int8, numpy=array([ -2,  64, 101,  32], dtype=int8)>"
      ]
     },
     "execution_count": 23,
     "metadata": {},
     "output_type": "execute_result"
    }
   ],
   "source": [
    "import numpy as np\n",
    "dtype_list = [tf.int8, tf.int16, tf.int32, tf.int64]\n",
    "for dtype in dtype_list:\n",
    "    lhs = tf.constant([-1, -5, -3, -14], dtype=dtype)\n",
    "    rhs = tf.constant([5, 0, 7, 11], dtype=dtype)\n",
    "    left_shift_result = bitwise_ops.right_shift(lhs, rhs)\n",
    "    print(left_shift_result)\n",
    "lhs = np.array([-2, 64, 101, 32], dtype=np.int8)\n",
    "rhs = np.array([-1, -5, -3, -14], dtype=np.int8)\n",
    "bitwise_ops.right_shift(lhs, rhs)"
   ]
  },
  {
   "cell_type": "code",
   "execution_count": 25,
   "id": "6b15ed3e",
   "metadata": {},
   "outputs": [
    {
     "name": "stdout",
     "output_type": "stream",
     "text": [
      "tf.Tensor(30.0, shape=(), dtype=float32)\n"
     ]
    },
    {
     "name": "stderr",
     "output_type": "stream",
     "text": [
      "C:\\Users\\jatin\\anaconda3\\lib\\site-packages\\tensorflow\\python\\client\\session.py:1768: UserWarning: An interactive session is already active. This can cause out-of-memory errors in some cases. You must explicitly call `InteractiveSession.close()` to release resources held by the other session(s).\n",
      "  warnings.warn('An interactive session is already active. This can '\n"
     ]
    }
   ],
   "source": [
    "sess = tf.compat.v1.InteractiveSession()\n",
    "a = tf.constant(5.0)\n",
    "b = tf.constant(6.0)\n",
    "c = a * b\n",
    "print(c)\n",
    "sess.close()"
   ]
  },
  {
   "cell_type": "code",
   "execution_count": 26,
   "id": "624eec1e",
   "metadata": {},
   "outputs": [
    {
     "name": "stdout",
     "output_type": "stream",
     "text": [
      "tf.Tensor(30.0, shape=(), dtype=float32)\n"
     ]
    }
   ],
   "source": [
    "a = tf.constant(5.0)\n",
    "b = tf.constant(6.0)\n",
    "c = a * b\n",
    "with tf.compat.v1.Session():\n",
    "    print(c)"
   ]
  },
  {
   "cell_type": "code",
   "execution_count": 27,
   "id": "5e1170d4",
   "metadata": {},
   "outputs": [
    {
     "name": "stdout",
     "output_type": "stream",
     "text": [
      "30.0\n"
     ]
    }
   ],
   "source": [
    "tf.compat.v1.disable_eager_execution()\n",
    "a = tf.constant(5.0)\n",
    "b = tf.constant(6.0)\n",
    "c = a * b\n",
    "sess = tf.compat.v1.Session()\n",
    "print(sess.run(c))"
   ]
  },
  {
   "cell_type": "code",
   "execution_count": 28,
   "id": "41d8d1e6",
   "metadata": {},
   "outputs": [
    {
     "name": "stdout",
     "output_type": "stream",
     "text": [
      "Device mapping: no known devices.\n"
     ]
    }
   ],
   "source": [
    "sess = tf.compat.v1.Session(config=tf.compat.v1.ConfigProto(allow_soft_placement=True, log_device_placement=True))"
   ]
  },
  {
   "cell_type": "code",
   "execution_count": 31,
   "id": "ddbf3af8",
   "metadata": {},
   "outputs": [
    {
     "name": "stdout",
     "output_type": "stream",
     "text": [
      "Tensor(\"Const_3:0\", shape=(), dtype=int32)\n"
     ]
    }
   ],
   "source": [
    "c = tf.constant(5)\n",
    "sess = tf.compat.v1.Session()\n",
    "with sess.as_default():\n",
    "    assert tf.compat.v1.get_default_session() is sess\n",
    "    print(c)"
   ]
  },
  {
   "cell_type": "code",
   "execution_count": 32,
   "id": "bf495a02",
   "metadata": {},
   "outputs": [
    {
     "name": "stdout",
     "output_type": "stream",
     "text": [
      "Tensor(\"Const_4:0\", shape=(), dtype=int32)\n",
      "Tensor(\"Const_4:0\", shape=(), dtype=int32)\n"
     ]
    }
   ],
   "source": [
    "c = tf.constant(6)\n",
    "sess = tf.compat.v1.Session()\n",
    "with sess.as_default():\n",
    "    print(c)\n",
    "with sess.as_default():\n",
    "    print(c)\n",
    "sess.close()"
   ]
  },
  {
   "cell_type": "code",
   "execution_count": 34,
   "id": "d9f9e7be",
   "metadata": {},
   "outputs": [
    {
     "data": {
      "text/plain": [
       "4"
      ]
     },
     "execution_count": 34,
     "metadata": {},
     "output_type": "execute_result"
    }
   ],
   "source": [
    "a = [1, 10, 26.9, 2.8, 166.32, 62.3]\n",
    "b = tf.math.argmax(input=a)\n",
    "c = tf.keras.backend.eval(b)\n",
    "c"
   ]
  },
  {
   "cell_type": "code",
   "execution_count": 35,
   "id": "543ca79b",
   "metadata": {},
   "outputs": [
    {
     "data": {
      "text/plain": [
       "0"
      ]
     },
     "execution_count": 35,
     "metadata": {},
     "output_type": "execute_result"
    }
   ],
   "source": [
    "a = [1, 10, 26.9, 2.8, 166.32, 62.3]\n",
    "b = tf.math.argmin(input=a)\n",
    "c = tf.keras.backend.eval(b)\n",
    "c"
   ]
  },
  {
   "cell_type": "code",
   "execution_count": 36,
   "id": "bc275286",
   "metadata": {},
   "outputs": [],
   "source": [
    "g = tf.Graph()\n",
    "with g.as_default():\n",
    "    a = tf.compat.v1.placeholder(tf.float32, [2])\n",
    "    b = tf.compat.v1.placeholder(tf.float32, [2])\n",
    "    result = tf.compat.v1.assert_equal(a, b, message=\"a==b does not hold for the given input\")\n",
    "    with tf.compat.v1.control_dependencies([result]):\n",
    "        sum_node = a + b\n",
    "sess = tf.compat.v1.Session(graph=g)\n",
    "val = sess.run(sum_node, feed_dict={a: [1, 2], b:[1, 2]})"
   ]
  },
  {
   "cell_type": "code",
   "execution_count": 37,
   "id": "2f138e22",
   "metadata": {},
   "outputs": [
    {
     "data": {
      "text/plain": [
       "array([2., 4.], dtype=float32)"
      ]
     },
     "execution_count": 37,
     "metadata": {},
     "output_type": "execute_result"
    }
   ],
   "source": [
    "val"
   ]
  },
  {
   "cell_type": "code",
   "execution_count": 39,
   "id": "3c7ce68a",
   "metadata": {},
   "outputs": [
    {
     "data": {
      "text/plain": [
       "array([1., 3.], dtype=float32)"
      ]
     },
     "execution_count": 39,
     "metadata": {},
     "output_type": "execute_result"
    }
   ],
   "source": [
    "g = tf.Graph()\n",
    "with g.as_default():\n",
    "    a = tf.compat.v1.placeholder(tf.float32, [2])\n",
    "    b = tf.compat.v1.placeholder(tf.float32, [2])\n",
    "    result = tf.compat.v1.assert_greater(a, b, message=\"a>b does not hold for the given input\")\n",
    "    with tf.compat.v1.control_dependencies([result]):\n",
    "        sum_node = a + b\n",
    "sess = tf.compat.v1.Session(graph=g)\n",
    "val = sess.run(sum_node, feed_dict={a: [1, 2], b:[0, 1]})\n",
    "val"
   ]
  },
  {
   "cell_type": "code",
   "execution_count": 40,
   "id": "f0de5192",
   "metadata": {},
   "outputs": [
    {
     "data": {
      "text/plain": [
       "array([1., 3.], dtype=float32)"
      ]
     },
     "execution_count": 40,
     "metadata": {},
     "output_type": "execute_result"
    }
   ],
   "source": [
    "g = tf.Graph()\n",
    "with g.as_default():\n",
    "    a = tf.compat.v1.placeholder(tf.float32, [2])\n",
    "    b = tf.compat.v1.placeholder(tf.float32, [2])\n",
    "    result = tf.compat.v1.assert_greater_equal(a, b, message=\"a>b does not hold for the given input\")\n",
    "    with tf.compat.v1.control_dependencies([result]):\n",
    "        sum_node = a + b\n",
    "sess = tf.compat.v1.Session(graph=g)\n",
    "val = sess.run(sum_node, feed_dict={a: [1, 2], b:[0, 1]})\n",
    "val"
   ]
  },
  {
   "cell_type": "code",
   "execution_count": 41,
   "id": "3ace60ab",
   "metadata": {},
   "outputs": [
    {
     "data": {
      "text/plain": [
       "array([3., 5.], dtype=float32)"
      ]
     },
     "execution_count": 41,
     "metadata": {},
     "output_type": "execute_result"
    }
   ],
   "source": [
    "g = tf.Graph()\n",
    "with g.as_default():\n",
    "    a = tf.compat.v1.placeholder(tf.float32, [2])\n",
    "    b = tf.compat.v1.placeholder(tf.float32, [2])\n",
    "    result = tf.compat.v1.assert_less(a, b, message=\"a<b does not hold for the given input\")\n",
    "    with tf.compat.v1.control_dependencies([result]):\n",
    "        sum_node = a + b\n",
    "sess = tf.compat.v1.Session(graph=g)\n",
    "val = sess.run(sum_node, feed_dict={a: [1, 2], b:[2, 3]})\n",
    "val"
   ]
  },
  {
   "cell_type": "code",
   "execution_count": 42,
   "id": "d4ca41dd",
   "metadata": {},
   "outputs": [
    {
     "data": {
      "text/plain": [
       "array([3., 5.], dtype=float32)"
      ]
     },
     "execution_count": 42,
     "metadata": {},
     "output_type": "execute_result"
    }
   ],
   "source": [
    "g = tf.Graph()\n",
    "with g.as_default():\n",
    "    a = tf.compat.v1.placeholder(tf.float32, [2])\n",
    "    b = tf.compat.v1.placeholder(tf.float32, [2])\n",
    "    result = tf.compat.v1.assert_less_equal(a, b, message=\"a<=b does not hold for the given input\")\n",
    "    with tf.compat.v1.control_dependencies([result]):\n",
    "        sum_node = a + b\n",
    "sess = tf.compat.v1.Session(graph=g)\n",
    "val = sess.run(sum_node, feed_dict={a: [1, 2], b:[2, 3]})\n",
    "val"
   ]
  },
  {
   "cell_type": "code",
   "execution_count": 44,
   "id": "ce470372",
   "metadata": {},
   "outputs": [
    {
     "data": {
      "text/plain": [
       "array([3., 5.], dtype=float32)"
      ]
     },
     "execution_count": 44,
     "metadata": {},
     "output_type": "execute_result"
    }
   ],
   "source": [
    "g = tf.Graph()\n",
    "with g.as_default():\n",
    "    a = tf.compat.v1.placeholder(tf.float32, [2])\n",
    "    b = tf.compat.v1.placeholder(tf.float32, [2])\n",
    "    result = tf.compat.v1.assert_none_equal(a, b, message=\"a!=b does not hold for the given input\")\n",
    "    with tf.compat.v1.control_dependencies([result]):\n",
    "        sum_node = a + b\n",
    "sess = tf.compat.v1.Session(graph=g)\n",
    "val = sess.run(sum_node, feed_dict={a: [1, 2], b:[2, 3]})\n",
    "val"
   ]
  },
  {
   "cell_type": "code",
   "execution_count": 1,
   "id": "e3c5557e",
   "metadata": {},
   "outputs": [
    {
     "data": {
      "text/plain": [
       "<tf.Variable 'UnreadVariable' shape=<unknown> dtype=int32, numpy=array([2, 3])>"
      ]
     },
     "execution_count": 1,
     "metadata": {},
     "output_type": "execute_result"
    }
   ],
   "source": [
    "import tensorflow as tf\n",
    "a = tf.Variable([1], shape=tf.TensorShape(None))\n",
    "tf.compat.v1.assign(a, [2, 3])"
   ]
  },
  {
   "cell_type": "code",
   "execution_count": 2,
   "id": "6a5778b5",
   "metadata": {},
   "outputs": [
    {
     "data": {
      "text/plain": [
       "1"
      ]
     },
     "execution_count": 2,
     "metadata": {},
     "output_type": "execute_result"
    }
   ],
   "source": [
    "b = tf.Variable(0, dtype=tf.int64)\n",
    "res_b = b.assign_add(1)\n",
    "res_b.numpy()"
   ]
  },
  {
   "cell_type": "code",
   "execution_count": 3,
   "id": "afcbe8da",
   "metadata": {},
   "outputs": [
    {
     "data": {
      "text/plain": [
       "0"
      ]
     },
     "execution_count": 3,
     "metadata": {},
     "output_type": "execute_result"
    }
   ],
   "source": [
    "b = tf.Variable(1, dtype=tf.int64)\n",
    "res_b = b.assign_sub(1)\n",
    "res_b.numpy()"
   ]
  },
  {
   "cell_type": "code",
   "execution_count": 4,
   "id": "0e3fb0f7",
   "metadata": {},
   "outputs": [
    {
     "data": {
      "text/plain": [
       "<tf.Tensor: shape=(5, 5), dtype=int32, numpy=\n",
       "array([[0, 0, 0, 0, 0],\n",
       "       [0, 0, 1, 0, 0],\n",
       "       [0, 0, 1, 0, 0],\n",
       "       [0, 0, 0, 0, 0],\n",
       "       [0, 0, 0, 0, 1]])>"
      ]
     },
     "execution_count": 4,
     "metadata": {},
     "output_type": "execute_result"
    }
   ],
   "source": [
    "tf.math.confusion_matrix([1, 2, 4], [2, 2, 4])"
   ]
  },
  {
   "cell_type": "code",
   "execution_count": 6,
   "id": "733cdc9b",
   "metadata": {},
   "outputs": [
    {
     "data": {
      "text/plain": [
       "<tf.Tensor: shape=(2, 2), dtype=float32, numpy=\n",
       "array([[ 8., 12.],\n",
       "       [18., 26.]], dtype=float32)>"
      ]
     },
     "execution_count": 6,
     "metadata": {},
     "output_type": "execute_result"
    }
   ],
   "source": [
    "import numpy as np\n",
    "def my_func(arg):\n",
    "    arg = tf.convert_to_tensor(arg, dtype=tf.float32)\n",
    "    return tf.matmul(arg, arg) + arg\n",
    "value1 = my_func(tf.constant([[1., 2.], [3., 4.]]))\n",
    "value1"
   ]
  },
  {
   "cell_type": "code",
   "execution_count": 8,
   "id": "9344c6c0",
   "metadata": {},
   "outputs": [
    {
     "data": {
      "text/plain": [
       "<tf.Tensor: shape=(), dtype=int64, numpy=3>"
      ]
     },
     "execution_count": 8,
     "metadata": {},
     "output_type": "execute_result"
    }
   ],
   "source": [
    "x = tf.constant([[0, 1, 0], [1, 1, 0]])\n",
    "tf.math.count_nonzero(x)"
   ]
  },
  {
   "cell_type": "code",
   "execution_count": 10,
   "id": "79468385",
   "metadata": {},
   "outputs": [
    {
     "data": {
      "text/plain": [
       "<tf.Tensor: shape=(), dtype=bool, numpy=True>"
      ]
     },
     "execution_count": 10,
     "metadata": {},
     "output_type": "execute_result"
    }
   ],
   "source": [
    "tf.compat.v1.enable_eager_execution()\n",
    "@tf.function\n",
    "def func():\n",
    "    assert not tf.executing_eagerly()\n",
    "    return tf.compat.v1.executing_eagerly_outside_functions()\n",
    "func()"
   ]
  },
  {
   "cell_type": "code",
   "execution_count": 16,
   "id": "0ce814bf",
   "metadata": {},
   "outputs": [
    {
     "data": {
      "text/plain": [
       "<tf.Tensor: shape=(3, 3), dtype=int32, numpy=\n",
       "array([[3, 4, 5],\n",
       "       [5, 6, 7],\n",
       "       [2, 3, 4]])>"
      ]
     },
     "execution_count": 16,
     "metadata": {},
     "output_type": "execute_result"
    }
   ],
   "source": [
    "tf.map_fn(fn=lambda t: tf.range(t, t + 3), elems=tf.constant([3, 5, 2]))"
   ]
  },
  {
   "cell_type": "code",
   "execution_count": 20,
   "id": "dc06dab7",
   "metadata": {},
   "outputs": [
    {
     "name": "stdout",
     "output_type": "stream",
     "text": [
      "[[247.82298 245.51073 247.97778 ... 245.0101  255.23204 249.77942]\n",
      " [255.25354 248.66734 248.98672 ... 255.36154 260.85742 256.2273 ]\n",
      " [257.46387 254.89363 251.46184 ... 248.52304 257.04102 260.72195]\n",
      " ...\n",
      " [252.7395  254.17679 251.35916 ... 249.8678  255.67691 257.39102]\n",
      " [253.94322 249.94208 253.6864  ... 249.82889 265.22168 258.34744]\n",
      " [256.65884 253.44453 256.59912 ... 252.25496 266.05417 264.1584 ]]\n"
     ]
    }
   ],
   "source": [
    "g = tf.Graph()\n",
    "with g.as_default():\n",
    "    x = tf.compat.v1.placeholder(tf.float32, shape=[1024, 1024])\n",
    "    y = tf.matmul(x, x)\n",
    "    with tf.compat.v1.Session() as sess:\n",
    "        rand_array = np.random.rand(1024, 1024)\n",
    "        print(sess.run(y, feed_dict={x: rand_array}))"
   ]
  },
  {
   "cell_type": "code",
   "execution_count": 22,
   "id": "50e44cb1",
   "metadata": {},
   "outputs": [
    {
     "data": {
      "text/plain": [
       "<tf.Tensor: shape=(0, 1, 1), dtype=float32, numpy=array([], shape=(0, 1, 1), dtype=float32)>"
      ]
     },
     "execution_count": 22,
     "metadata": {},
     "output_type": "execute_result"
    }
   ],
   "source": [
    "samples = tf.random.poisson([0, 1], [10])\n",
    "samples"
   ]
  },
  {
   "cell_type": "code",
   "execution_count": 26,
   "id": "c1e91e93",
   "metadata": {},
   "outputs": [
    {
     "data": {
      "text/plain": [
       "<tf.Tensor: shape=(12, 3, 2), dtype=float32, numpy=\n",
       "array([[[ 4.,  5.],\n",
       "        [ 8.,  3.],\n",
       "        [ 8.,  3.]],\n",
       "\n",
       "       [[12.,  3.],\n",
       "        [ 7.,  3.],\n",
       "        [ 7.,  5.]],\n",
       "\n",
       "       [[ 9.,  7.],\n",
       "        [ 8.,  6.],\n",
       "        [15.,  1.]],\n",
       "\n",
       "       [[ 7.,  7.],\n",
       "        [ 8.,  3.],\n",
       "        [ 8.,  6.]],\n",
       "\n",
       "       [[ 5.,  3.],\n",
       "        [ 6.,  2.],\n",
       "        [10.,  6.]],\n",
       "\n",
       "       [[ 6.,  1.],\n",
       "        [ 4.,  6.],\n",
       "        [ 6.,  4.]],\n",
       "\n",
       "       [[ 6.,  7.],\n",
       "        [ 8.,  5.],\n",
       "        [ 9.,  6.]],\n",
       "\n",
       "       [[11.,  7.],\n",
       "        [ 5.,  4.],\n",
       "        [ 8.,  4.]],\n",
       "\n",
       "       [[ 8.,  5.],\n",
       "        [ 4.,  5.],\n",
       "        [ 4.,  5.]],\n",
       "\n",
       "       [[ 9.,  3.],\n",
       "        [ 9.,  4.],\n",
       "        [ 7.,  8.]],\n",
       "\n",
       "       [[ 9., 12.],\n",
       "        [ 4.,  3.],\n",
       "        [ 8.,  5.]],\n",
       "\n",
       "       [[ 8.,  5.],\n",
       "        [ 5.,  6.],\n",
       "        [ 4.,  3.]]], dtype=float32)>"
      ]
     },
     "execution_count": 26,
     "metadata": {},
     "output_type": "execute_result"
    }
   ],
   "source": [
    "samples = tf.random.poisson([12, 3], [7, 5])\n",
    "samples"
   ]
  },
  {
   "cell_type": "code",
   "execution_count": 27,
   "id": "cdb24ac4",
   "metadata": {},
   "outputs": [
    {
     "data": {
      "text/plain": [
       "<tf.Tensor: shape=(), dtype=bool, numpy=False>"
      ]
     },
     "execution_count": 27,
     "metadata": {},
     "output_type": "execute_result"
    }
   ],
   "source": [
    "x = tf.constant([[True, True], [False, False]])\n",
    "tf.math.reduce_all(x)"
   ]
  },
  {
   "cell_type": "code",
   "execution_count": 28,
   "id": "1a2bdb2c",
   "metadata": {},
   "outputs": [
    {
     "name": "stdout",
     "output_type": "stream",
     "text": [
      "tf.Tensor([False False], shape=(2,), dtype=bool)\n",
      "tf.Tensor([ True False], shape=(2,), dtype=bool)\n"
     ]
    }
   ],
   "source": [
    "print(tf.math.reduce_all(x, 0))\n",
    "print(tf.math.reduce_all(x, 1))"
   ]
  },
  {
   "cell_type": "code",
   "execution_count": 29,
   "id": "448d00d5",
   "metadata": {},
   "outputs": [
    {
     "name": "stdout",
     "output_type": "stream",
     "text": [
      "tf.Tensor(True, shape=(), dtype=bool)\n",
      "tf.Tensor([ True  True], shape=(2,), dtype=bool)\n",
      "tf.Tensor([ True False], shape=(2,), dtype=bool)\n"
     ]
    }
   ],
   "source": [
    "print(tf.reduce_any(x))\n",
    "print(tf.reduce_any(x, 0))\n",
    "print(tf.reduce_any(x, 1))"
   ]
  },
  {
   "cell_type": "code",
   "execution_count": 31,
   "id": "fe836252",
   "metadata": {},
   "outputs": [
    {
     "name": "stdout",
     "output_type": "stream",
     "text": [
      "tf.Tensor([[ True]], shape=(1, 1), dtype=bool)\n"
     ]
    }
   ],
   "source": [
    "print(tf.reduce_any(x, keepdims=True))"
   ]
  },
  {
   "cell_type": "code",
   "execution_count": 32,
   "id": "1f598b4f",
   "metadata": {},
   "outputs": [
    {
     "data": {
      "text/plain": [
       "b'abc123def456'"
      ]
     },
     "execution_count": 32,
     "metadata": {},
     "output_type": "execute_result"
    }
   ],
   "source": [
    "tf.strings.reduce_join([[\"abc\", \"123\"], ['def', '456']]).numpy()"
   ]
  },
  {
   "cell_type": "code",
   "execution_count": 34,
   "id": "0d70f774",
   "metadata": {},
   "outputs": [
    {
     "data": {
      "text/plain": [
       "<tf.Tensor: shape=(), dtype=float32, numpy=1.7917595>"
      ]
     },
     "execution_count": 34,
     "metadata": {},
     "output_type": "execute_result"
    }
   ],
   "source": [
    "x = tf.constant([[0., 0., 0.], [0., 0., 0.]])\n",
    "tf.reduce_logsumexp(x)"
   ]
  },
  {
   "cell_type": "code",
   "execution_count": 35,
   "id": "9e89665e",
   "metadata": {},
   "outputs": [
    {
     "data": {
      "text/plain": [
       "<tf.Tensor: shape=(), dtype=int32, numpy=5>"
      ]
     },
     "execution_count": 35,
     "metadata": {},
     "output_type": "execute_result"
    }
   ],
   "source": [
    "x = tf.constant([5, 1, 2, 4])\n",
    "tf.reduce_max(x)"
   ]
  },
  {
   "cell_type": "code",
   "execution_count": 36,
   "id": "2c70d521",
   "metadata": {},
   "outputs": [
    {
     "data": {
      "text/plain": [
       "<tf.Tensor: shape=(), dtype=float32, numpy=1.5>"
      ]
     },
     "execution_count": 36,
     "metadata": {},
     "output_type": "execute_result"
    }
   ],
   "source": [
    "x = tf.constant([[1., 1.], [2., 2.]])\n",
    "tf.reduce_mean(x)"
   ]
  },
  {
   "cell_type": "code",
   "execution_count": 37,
   "id": "398a658c",
   "metadata": {},
   "outputs": [
    {
     "data": {
      "text/plain": [
       "<tf.Tensor: shape=(), dtype=int32, numpy=1>"
      ]
     },
     "execution_count": 37,
     "metadata": {},
     "output_type": "execute_result"
    }
   ],
   "source": [
    "x = tf.constant([5, 1, 2, 4])\n",
    "tf.reduce_min(x)"
   ]
  },
  {
   "cell_type": "code",
   "execution_count": 38,
   "id": "0a06dade",
   "metadata": {},
   "outputs": [
    {
     "data": {
      "text/plain": [
       "<tf.Tensor: shape=(), dtype=int32, numpy=24>"
      ]
     },
     "execution_count": 38,
     "metadata": {},
     "output_type": "execute_result"
    }
   ],
   "source": [
    "x = tf.constant([[1, 2], [3, 4]])\n",
    "tf.math.reduce_prod(x)"
   ]
  },
  {
   "cell_type": "code",
   "execution_count": 39,
   "id": "15a9ceb1",
   "metadata": {},
   "outputs": [
    {
     "data": {
      "text/plain": [
       "<tf.Tensor: shape=(), dtype=int32, numpy=6>"
      ]
     },
     "execution_count": 39,
     "metadata": {},
     "output_type": "execute_result"
    }
   ],
   "source": [
    "x = tf.constant([[1, 1, 1], [1, 1, 1]])\n",
    "tf.reduce_sum(x)"
   ]
  },
  {
   "cell_type": "code",
   "execution_count": 40,
   "id": "2d664d65",
   "metadata": {},
   "outputs": [
    {
     "data": {
      "text/plain": [
       "<tf.Tensor: shape=(4, 8), dtype=int32, numpy=\n",
       "array([[0, 0, 5, 4, 3, 2, 1, 0],\n",
       "       [2, 1, 0, 0, 0, 0, 0, 0],\n",
       "       [3, 2, 1, 4, 0, 0, 0, 0],\n",
       "       [5, 4, 3, 2, 1, 6, 7, 8]])>"
      ]
     },
     "execution_count": 40,
     "metadata": {},
     "output_type": "execute_result"
    }
   ],
   "source": [
    "seq_lengths = [7, 2, 3, 5]\n",
    "input = [[1, 2,3, 4, 5, 0, 0, 0], [1, 2, 0, 0, 0, 0, 0, 0], [1, 2, 3, 4, 0, 0, 0, 0], [1, 2, 3, 4, 5, 6, 7, 8]]\n",
    "output = tf.reverse_sequence(input, seq_lengths, seq_axis=1, batch_axis=0)\n",
    "output"
   ]
  },
  {
   "cell_type": "code",
   "execution_count": 46,
   "id": "5145ace3",
   "metadata": {},
   "outputs": [
    {
     "data": {
      "text/plain": [
       "<tf.Tensor: shape=(6,), dtype=int32, numpy=array([ 1,  3,  6, 10, 15, 21])>"
      ]
     },
     "execution_count": 46,
     "metadata": {},
     "output_type": "execute_result"
    }
   ],
   "source": [
    "elems = np.array([1, 2, 3, 4 ,5, 6])\n",
    "scan = tf.scan(lambda a, x: x + a, elems)\n",
    "scan"
   ]
  },
  {
   "cell_type": "code",
   "execution_count": 61,
   "id": "5bb5f819",
   "metadata": {},
   "outputs": [
    {
     "data": {
      "text/plain": [
       "<tf.Tensor: shape=(6,), dtype=int32, numpy=array([3, 2, 5, 4, 7, 6])>"
      ]
     },
     "execution_count": 61,
     "metadata": {},
     "output_type": "execute_result"
    }
   ],
   "source": [
    "elems = np.array([1, 2, 3, 4, 5, 6])\n",
    "initializer = np.array(0)\n",
    "scan_one = tf.scan(lambda a, x: x[1] + x[0] - a, (elems + 1, elems), initializer)\n",
    "scan_one"
   ]
  },
  {
   "cell_type": "code",
   "execution_count": 68,
   "id": "565042aa",
   "metadata": {},
   "outputs": [
    {
     "data": {
      "text/plain": [
       "(<tf.Tensor: shape=(6,), dtype=int32, numpy=array([1, 1, 2, 3, 5, 8])>,\n",
       " <tf.Tensor: shape=(6,), dtype=int32, numpy=array([ 1,  2,  3,  5,  8, 13])>)"
      ]
     },
     "execution_count": 68,
     "metadata": {},
     "output_type": "execute_result"
    }
   ],
   "source": [
    "elems = np.array([1, 0, 0, 0, 0, 0])\n",
    "initializer = (np.array(0), np.array(1))\n",
    "fibonaccis = tf.scan(lambda a, _: (a[1], a[0] + a[1]), elems, initializer)\n",
    "fibonaccis"
   ]
  },
  {
   "cell_type": "code",
   "execution_count": 71,
   "id": "48965d07",
   "metadata": {},
   "outputs": [
    {
     "data": {
      "text/plain": [
       "<tf.Variable 'UnreadVariable' shape=(8,) dtype=int32, numpy=array([ 1, 13,  3, 14, 14,  6,  7, 20])>"
      ]
     },
     "execution_count": 71,
     "metadata": {},
     "output_type": "execute_result"
    }
   ],
   "source": [
    "ref = tf.Variable([1, 2, 3, 4, 5, 6, 7, 8])\n",
    "indices = tf.constant([[4], [3], [1], [7]])\n",
    "updates = tf.constant([9, 10, 11, 12])\n",
    "add = tf.compat.v1.scatter_nd_add(ref, indices, updates)\n",
    "add"
   ]
  },
  {
   "cell_type": "code",
   "execution_count": 72,
   "id": "3cf4e616",
   "metadata": {},
   "outputs": [
    {
     "data": {
      "text/plain": [
       "<tf.Variable 'UnreadVariable' shape=(8,) dtype=int32, numpy=array([ 1, -9,  3, -6, -4,  6,  7, -4])>"
      ]
     },
     "execution_count": 72,
     "metadata": {},
     "output_type": "execute_result"
    }
   ],
   "source": [
    "ref = tf.Variable([1, 2, 3, 4, 5, 6, 7, 8])\n",
    "indices = tf.constant([[4], [3], [1], [7]])\n",
    "updates = tf.constant([9, 10, 11, 12])\n",
    "add = tf.compat.v1.scatter_nd_sub(ref, indices, updates)\n",
    "add"
   ]
  },
  {
   "cell_type": "code",
   "execution_count": 73,
   "id": "c2773d2b",
   "metadata": {},
   "outputs": [
    {
     "data": {
      "text/plain": [
       "<tf.Variable 'UnreadVariable' shape=(8,) dtype=int32, numpy=array([ 1, 11,  3, 10,  9,  6,  7, 12])>"
      ]
     },
     "execution_count": 73,
     "metadata": {},
     "output_type": "execute_result"
    }
   ],
   "source": [
    "ref = tf.Variable([1, 2, 3, 4, 5, 6, 7, 8])\n",
    "indices = tf.constant([[4], [3], [1], [7]])\n",
    "updates = tf.constant([9, 10, 11, 12])\n",
    "add = tf.compat.v1.scatter_nd_update(ref, indices, updates)\n",
    "add"
   ]
  },
  {
   "cell_type": "code",
   "execution_count": 74,
   "id": "c2499f6f",
   "metadata": {},
   "outputs": [
    {
     "data": {
      "text/plain": [
       "<tf.Tensor: shape=(3,), dtype=int32, numpy=array([1, 2, 3])>"
      ]
     },
     "execution_count": 74,
     "metadata": {},
     "output_type": "execute_result"
    }
   ],
   "source": [
    "t = tf.constant([[[1, 1, 1], [2, 2, 2]]])\n",
    "tf.shape(t)"
   ]
  },
  {
   "cell_type": "code",
   "execution_count": 75,
   "id": "c1261dc4",
   "metadata": {},
   "outputs": [
    {
     "data": {
      "text/plain": [
       "<tf.Tensor: shape=(), dtype=int32, numpy=6>"
      ]
     },
     "execution_count": 75,
     "metadata": {},
     "output_type": "execute_result"
    }
   ],
   "source": [
    "tf.size(t)"
   ]
  },
  {
   "cell_type": "code",
   "execution_count": 77,
   "id": "4ee167cf",
   "metadata": {},
   "outputs": [
    {
     "name": "stdout",
     "output_type": "stream",
     "text": [
      "3.0\n",
      "3.0\n",
      "3.0\n"
     ]
    }
   ],
   "source": [
    "g = tf.Graph()\n",
    "with g.as_default():\n",
    "    x = tf.compat.v1.sparse.placeholder(tf.float32)\n",
    "    y = tf.sparse.reduce_sum(x)\n",
    "    with tf.compat.v1.Session() as sess:\n",
    "        indices = np.array([[3, 2, 0], [4, 5, 1]], dtype=np.int64)\n",
    "        values = np.array([1.0, 2.0])\n",
    "        shape = np.array([7, 9, 2], dtype=np.int64)\n",
    "        print(sess.run(y, feed_dict={x: tf.compat.v1.SparseTensorValue(indices, values, shape)}))\n",
    "        print(sess.run(y, feed_dict={x: (indices, values, shape)}))\n",
    "        sp = tf.sparse.SparseTensor(indices=indices, values=values, dense_shape=shape)\n",
    "        sp_value = sp.eval(session=sess)\n",
    "        print(sess.run(y, feed_dict={x: sp_value}))"
   ]
  },
  {
   "cell_type": "code",
   "execution_count": 78,
   "id": "81e4f6c4",
   "metadata": {},
   "outputs": [
    {
     "data": {
      "text/plain": [
       "<tf.Tensor: shape=(), dtype=int32, numpy=3>"
      ]
     },
     "execution_count": 78,
     "metadata": {},
     "output_type": "execute_result"
    }
   ],
   "source": [
    "x = tf.sparse.SparseTensor([[0, 0], [0, 2], [1, 1]], [1, 2, 3], [2, 3])\n",
    "tf.sparse.reduce_max(x)"
   ]
  },
  {
   "cell_type": "code",
   "execution_count": 43,
   "id": "aa2f3ec2",
   "metadata": {},
   "outputs": [
    {
     "data": {
      "text/plain": [
       "<tf.Tensor: shape=(3, 4), dtype=int32, numpy=\n",
       "array([[1, 2, 3, 4],\n",
       "       [0, 0, 0, 0],\n",
       "       [5, 6, 7, 8]])>"
      ]
     },
     "execution_count": 43,
     "metadata": {},
     "output_type": "execute_result"
    }
   ],
   "source": [
    "c = tf.constant([[1, 2, 3, 4], [-1, -2, -3, -4], [5, 6, 7, 8]])\n",
    "tf.sparse.segment_sum(c, tf.constant([0, 2]), tf.constant([0, 2]))"
   ]
  },
  {
   "cell_type": "code",
   "execution_count": 80,
   "id": "a38ce20c",
   "metadata": {},
   "outputs": [
    {
     "data": {
      "text/plain": [
       "<tf.Tensor: shape=(2, 4), dtype=int32, numpy=\n",
       "array([[ 1,  2,  3,  4],\n",
       "       [-1, -2, -3, -4]])>"
      ]
     },
     "execution_count": 80,
     "metadata": {},
     "output_type": "execute_result"
    }
   ],
   "source": [
    "tf.sparse.segment_sum(c, tf.constant([0, 1]), tf.constant([0, 1]))"
   ]
  },
  {
   "cell_type": "code",
   "execution_count": 81,
   "id": "69b9a0c8",
   "metadata": {},
   "outputs": [
    {
     "data": {
      "text/plain": [
       "<tf.Tensor: shape=(4, 4), dtype=int32, numpy=\n",
       "array([[ 1,  2,  3,  4],\n",
       "       [ 0,  0,  0,  0],\n",
       "       [-1, -2, -3, -4],\n",
       "       [ 0,  0,  0,  0]])>"
      ]
     },
     "execution_count": 81,
     "metadata": {},
     "output_type": "execute_result"
    }
   ],
   "source": [
    "tf.sparse.segment_sum(c, tf.constant([0, 1]), tf.constant([0, 2]), num_segments=4)"
   ]
  },
  {
   "cell_type": "code",
   "execution_count": 82,
   "id": "44bd6a9c",
   "metadata": {},
   "outputs": [
    {
     "data": {
      "text/plain": [
       "<tf.Tensor: shape=(2, 4), dtype=int32, numpy=\n",
       "array([[0, 0, 0, 0],\n",
       "       [5, 6, 7, 8]])>"
      ]
     },
     "execution_count": 82,
     "metadata": {},
     "output_type": "execute_result"
    }
   ],
   "source": [
    "tf.sparse.segment_sum(c, tf.constant([0, 1, 2]), tf.constant([0, 0, 1]))"
   ]
  },
  {
   "cell_type": "code",
   "execution_count": 83,
   "id": "1c2b4889",
   "metadata": {},
   "outputs": [
    {
     "name": "stdout",
     "output_type": "stream",
     "text": [
      "[2 3]\n"
     ]
    }
   ],
   "source": [
    "t = tf.ones([1, 2, 1, 3, 1, 1])\n",
    "print(tf.shape(tf.squeeze(t)).numpy())"
   ]
  },
  {
   "cell_type": "code",
   "execution_count": 85,
   "id": "22321a9f",
   "metadata": {},
   "outputs": [
    {
     "name": "stdout",
     "output_type": "stream",
     "text": [
      "[1 2 3 1]\n"
     ]
    }
   ],
   "source": [
    "t = tf.ones([1, 2, 1, 3, 1, 1])\n",
    "print(tf.shape(tf.squeeze(t, [2, 4])).numpy())"
   ]
  },
  {
   "cell_type": "code",
   "execution_count": 86,
   "id": "2bc86887",
   "metadata": {},
   "outputs": [
    {
     "name": "stdout",
     "output_type": "stream",
     "text": [
      "<tf.RaggedTensor [[b'hello', b'world'], [b'a', b'b', b'c']]>\n"
     ]
    }
   ],
   "source": [
    "print(tf.compat.v1.string_split(['hello world', 'a b c'], result_type=\"RaggedTensor\"))"
   ]
  },
  {
   "cell_type": "code",
   "execution_count": 87,
   "id": "1f7a3727",
   "metadata": {},
   "outputs": [
    {
     "name": "stdout",
     "output_type": "stream",
     "text": [
      "SparseTensor(indices=tf.Tensor(\n",
      "[[0 0]\n",
      " [0 1]\n",
      " [1 0]\n",
      " [1 1]\n",
      " [1 2]], shape=(5, 2), dtype=int64), values=tf.Tensor([b'hello' b'world' b'a' b'b' b'c'], shape=(5,), dtype=string), dense_shape=tf.Tensor([2 3], shape=(2,), dtype=int64))\n"
     ]
    }
   ],
   "source": [
    "print(tf.compat.v1.string_split(['hello world', 'a b c']))"
   ]
  },
  {
   "cell_type": "code",
   "execution_count": 89,
   "id": "bcca022f",
   "metadata": {},
   "outputs": [
    {
     "data": {
      "text/plain": [
       "<tf.Tensor: shape=(3,), dtype=float32, numpy=array([5., 3., 7.], dtype=float32)>"
      ]
     },
     "execution_count": 89,
     "metadata": {},
     "output_type": "execute_result"
    }
   ],
   "source": [
    "strings = [\"5.0\", \"3.0\", \"7.0\"]\n",
    "tf.strings.to_number(strings)"
   ]
  },
  {
   "cell_type": "code",
   "execution_count": 90,
   "id": "41d0dd7e",
   "metadata": {},
   "outputs": [
    {
     "data": {
      "text/plain": [
       "array([ 1, -1])"
      ]
     },
     "execution_count": 90,
     "metadata": {},
     "output_type": "execute_result"
    }
   ],
   "source": [
    "init = tf.lookup.KeyValueTensorInitializer(['a', 'b'], [1, 2])\n",
    "table = tf.lookup.StaticHashTable(init, default_value=-1)\n",
    "table.lookup(tf.constant(['a', 'c'])).numpy()"
   ]
  },
  {
   "cell_type": "code",
   "execution_count": 92,
   "id": "ba5809f6",
   "metadata": {},
   "outputs": [],
   "source": [
    "def f(x, do_add):\n",
    "    v = tf.Variable(5.0)\n",
    "    if do_add:\n",
    "        op = v.assign_add(x)\n",
    "    else:\n",
    "        op = v.assign_sub(x)\n",
    "    with tf.control_dependencies([op]):\n",
    "        return v.read_value()\n",
    "f_add = tf.compat.v1.wrap_function(f, [tf.TensorSpec((), tf.float32), True])\n",
    "assert float(f_add(1.0)) == 6.0\n",
    "assert float(f_add(1.0)) == 7.0\n",
    "f_sub = tf.compat.v1.wrap_function(f, [tf.TensorSpec((), tf.float32), False])\n",
    "assert float(f_sub(1.0)) == 4.0\n",
    "assert float(f_sub(1.0)) == 3.0"
   ]
  },
  {
   "cell_type": "code",
   "execution_count": 94,
   "id": "6c34bf2e",
   "metadata": {},
   "outputs": [],
   "source": [
    "tf.compat.v1.disable_eager_execution()"
   ]
  },
  {
   "cell_type": "code",
   "execution_count": 96,
   "id": "c4d4bf31",
   "metadata": {},
   "outputs": [],
   "source": [
    "with tf.compat.v1.variable_scope(\"foo\"):\n",
    "    with tf.compat.v1.variable_scope(\"bar\"):\n",
    "        v = tf.compat.v1.get_variable(\"v\", [1])\n",
    "        assert v.name == \"foo/bar/v:0\""
   ]
  },
  {
   "cell_type": "code",
   "execution_count": 101,
   "id": "089c9d9a",
   "metadata": {},
   "outputs": [],
   "source": [
    "def foo():\n",
    "    with tf.compat.v1.variable_scope(\"foo\", reuse=tf.compat.v1.AUTO_REUSE):\n",
    "        v = tf.compat.v1.get_variable(\"v\", [1])\n",
    "    return v\n",
    "v1 = foo()\n",
    "v2 = foo()\n",
    "assert v1 == v2"
   ]
  },
  {
   "cell_type": "code",
   "execution_count": 1,
   "id": "aa01cd74",
   "metadata": {},
   "outputs": [],
   "source": [
    "import tensorflow as tf"
   ]
  },
  {
   "cell_type": "code",
   "execution_count": 4,
   "id": "ede78170",
   "metadata": {},
   "outputs": [],
   "source": [
    "def foo(x):\n",
    "    if x > 0:\n",
    "        y = x * x\n",
    "    else:\n",
    "        y = -x\n",
    "    return y\n",
    "converted_foo = tf.autograph.to_graph(foo)\n",
    "x = tf.constant(1)\n",
    "y = converted_foo(x)\n",
    "assert tf.is_tensor(y)"
   ]
  },
  {
   "cell_type": "code",
   "execution_count": 5,
   "id": "8b56a624",
   "metadata": {},
   "outputs": [
    {
     "data": {
      "text/plain": [
       "TensorSpec(shape=(), dtype=tf.int32, name=None)"
      ]
     },
     "execution_count": 5,
     "metadata": {},
     "output_type": "execute_result"
    }
   ],
   "source": [
    "dataset = tf.data.Dataset.from_tensor_slices([1, 2, 3])\n",
    "dataset.element_spec"
   ]
  },
  {
   "cell_type": "code",
   "execution_count": 10,
   "id": "2a9a01bc",
   "metadata": {},
   "outputs": [
    {
     "name": "stdout",
     "output_type": "stream",
     "text": [
      "tf.Tensor(1, shape=(), dtype=int32)\n",
      "tf.Tensor(2, shape=(), dtype=int32)\n",
      "tf.Tensor(3, shape=(), dtype=int32)\n"
     ]
    },
    {
     "data": {
      "text/plain": [
       "[1, 2, 3]"
      ]
     },
     "execution_count": 10,
     "metadata": {},
     "output_type": "execute_result"
    }
   ],
   "source": [
    "for i in dataset:\n",
    "    print(i)\n",
    "list(dataset.as_numpy_iterator())"
   ]
  },
  {
   "cell_type": "code",
   "execution_count": 11,
   "id": "0ebac58e",
   "metadata": {},
   "outputs": [
    {
     "data": {
      "text/plain": [
       "[0, 1, 2, 3, 4]"
      ]
     },
     "execution_count": 11,
     "metadata": {},
     "output_type": "execute_result"
    }
   ],
   "source": [
    "dataset = tf.data.Dataset.range(100)\n",
    "def dataset_fn(ds):\n",
    "    return ds.filter(lambda x: x < 5)\n",
    "dataset = dataset.apply(dataset_fn)\n",
    "list(dataset.as_numpy_iterator())"
   ]
  },
  {
   "cell_type": "code",
   "execution_count": 12,
   "id": "6ba053c5",
   "metadata": {},
   "outputs": [
    {
     "name": "stdout",
     "output_type": "stream",
     "text": [
      "[[1 2 3 4]\n",
      " [5 6 7 0]]\n",
      "[[ 7  8  9 10 11  0]\n",
      " [13 14 15 16 19 20]]\n",
      "[[ 0  0]\n",
      " [21 22]]\n"
     ]
    }
   ],
   "source": [
    "elements = [[0], [1, 2, 3, 4], [5, 6, 7], [7, 8, 9, 10, 11], [13, 14, 15, 16, 19, 20], [21, 22]]\n",
    "dataset = tf.data.Dataset.from_generator(lambda: elements, tf.int64, output_shapes=[None])\n",
    "dataset = dataset.bucket_by_sequence_length(element_length_func = lambda elem: tf.shape(elem)[0], \n",
    "                                            bucket_boundaries=[3, 5], bucket_batch_sizes=[2, 2, 2])\n",
    "for elem in dataset.as_numpy_iterator():\n",
    "    print(elem)"
   ]
  },
  {
   "cell_type": "code",
   "execution_count": 14,
   "id": "043d89ee",
   "metadata": {},
   "outputs": [
    {
     "name": "stdout",
     "output_type": "stream",
     "text": [
      "[0, 1, 4, 9, 16]\n",
      "[0, 1, 4, 9, 16]\n"
     ]
    }
   ],
   "source": [
    "dataset = tf.data.Dataset.range(5)\n",
    "dataset = dataset.map(lambda x: x ** 2)\n",
    "dataset = dataset.cache()\n",
    "print(list(dataset.as_numpy_iterator()))\n",
    "print(list(dataset.as_numpy_iterator()))"
   ]
  },
  {
   "cell_type": "code",
   "execution_count": 1,
   "id": "01f7b75c",
   "metadata": {},
   "outputs": [],
   "source": [
    "import tensorflow as tf"
   ]
  },
  {
   "cell_type": "code",
   "execution_count": 3,
   "id": "34f8c093",
   "metadata": {},
   "outputs": [
    {
     "name": "stdout",
     "output_type": "stream",
     "text": [
      "42\n",
      "True\n",
      "True\n"
     ]
    }
   ],
   "source": [
    "dataset = tf.data.Dataset.range(42)\n",
    "print(dataset.cardinality().numpy())\n",
    "dataset = dataset.repeat()\n",
    "cardinality = dataset.cardinality()\n",
    "print((cardinality == tf.data.INFINITE_CARDINALITY).numpy())\n",
    "dataset = dataset.filter(lambda x: True)\n",
    "cardinality = dataset.cardinality()\n",
    "print((cardinality == tf.data.UNKNOWN_CARDINALITY).numpy())"
   ]
  },
  {
   "cell_type": "code",
   "execution_count": 7,
   "id": "b6e44c56",
   "metadata": {},
   "outputs": [
    {
     "data": {
      "text/plain": [
       "[b'foo', b'bar', b'baz', b'foo', b'bar', b'baz', b'foo', b'bar', b'baz']"
      ]
     },
     "execution_count": 7,
     "metadata": {},
     "output_type": "execute_result"
    }
   ],
   "source": [
    "datasets = [tf.data.Dataset.from_tensors(\"foo\").repeat(), tf.data.Dataset.from_tensors(\"bar\").repeat(), \n",
    "           tf.data.Dataset.from_tensors(\"baz\").repeat()]\n",
    "choice_dataset = tf.data.Dataset.range(3).repeat(3)\n",
    "result = tf.data.Dataset.choose_from_datasets(datasets, choice_dataset)\n",
    "list(result.as_numpy_iterator())"
   ]
  },
  {
   "cell_type": "code",
   "execution_count": 8,
   "id": "7cb6337d",
   "metadata": {},
   "outputs": [
    {
     "data": {
      "text/plain": [
       "[1, 2, 3, 4, 5, 6, 7]"
      ]
     },
     "execution_count": 8,
     "metadata": {},
     "output_type": "execute_result"
    }
   ],
   "source": [
    "a = tf.data.Dataset.range(1, 4)\n",
    "b = tf.data.Dataset.range(4, 8)\n",
    "ds = a.concatenate(b)\n",
    "list(ds.as_numpy_iterator())"
   ]
  },
  {
   "cell_type": "code",
   "execution_count": 9,
   "id": "c860f6c9",
   "metadata": {},
   "outputs": [
    {
     "name": "stdout",
     "output_type": "stream",
     "text": [
      "(5, 1)\n",
      "(6, 2)\n",
      "(7, 3)\n"
     ]
    }
   ],
   "source": [
    "dataset = tf.data.Dataset.from_tensor_slices([1, 2, 3])\n",
    "dataset = dataset.enumerate(start=5)\n",
    "for element in dataset.as_numpy_iterator():\n",
    "    print(element)"
   ]
  },
  {
   "cell_type": "code",
   "execution_count": 10,
   "id": "ff6a1ca8",
   "metadata": {},
   "outputs": [
    {
     "data": {
      "text/plain": [
       "[1, 2, 3, 4, 5, 6, 7, 8, 9]"
      ]
     },
     "execution_count": 10,
     "metadata": {},
     "output_type": "execute_result"
    }
   ],
   "source": [
    "dataset = tf.data.Dataset.from_tensor_slices([[1, 2, 3], [4, 5, 6], [7, 8, 9]])\n",
    "dataset = dataset.flat_map(lambda x: tf.data.Dataset.from_tensor_slices(x))\n",
    "list(dataset.as_numpy_iterator())"
   ]
  },
  {
   "cell_type": "code",
   "execution_count": 12,
   "id": "25dafedc",
   "metadata": {},
   "outputs": [
    {
     "data": {
      "text/plain": [
       "[(<tf.Tensor: shape=(), dtype=int32, numpy=42>,\n",
       "  <tf.RaggedTensor [[1, 2], [3]]>)]"
      ]
     },
     "execution_count": 12,
     "metadata": {},
     "output_type": "execute_result"
    }
   ],
   "source": [
    "def gen():\n",
    "    ragged_tensor = tf.ragged.constant([[1, 2], [3]])\n",
    "    yield 42, ragged_tensor\n",
    "dataset = tf.data.Dataset.from_generator(gen, output_signature=(tf.TensorSpec(shape=(), dtype=tf.int32), \n",
    "                                                               tf.RaggedTensorSpec(shape=(2, None), dtype=tf.int32)))\n",
    "list(dataset.take(1))"
   ]
  },
  {
   "cell_type": "code",
   "execution_count": 1,
   "id": "ddaa6f78",
   "metadata": {},
   "outputs": [],
   "source": [
    "import tensorflow as tf\n",
    "import numpy as np"
   ]
  },
  {
   "cell_type": "code",
   "execution_count": 2,
   "id": "77f39e74",
   "metadata": {},
   "outputs": [
    {
     "name": "stdout",
     "output_type": "stream",
     "text": [
      "[0 2 4 6 8]\n",
      "[1 3 5 7 9]\n"
     ]
    }
   ],
   "source": [
    "dataset = tf.data.Dataset.range(10)\n",
    "window_size = 5\n",
    "key_func = lambda x: x % 2\n",
    "reduce_func = lambda key, dataset: dataset.batch(window_size)\n",
    "dataset = dataset.group_by_window(key_func = key_func, reduce_func=reduce_func, window_size=window_size)\n",
    "for elem in dataset.as_numpy_iterator():\n",
    "    print(elem)"
   ]
  },
  {
   "cell_type": "code",
   "execution_count": 4,
   "id": "89f28d90",
   "metadata": {},
   "outputs": [
    {
     "data": {
      "text/plain": [
       "[1,\n",
       " 1,\n",
       " 1,\n",
       " 1,\n",
       " 2,\n",
       " 2,\n",
       " 2,\n",
       " 2,\n",
       " 1,\n",
       " 1,\n",
       " 2,\n",
       " 2,\n",
       " 3,\n",
       " 3,\n",
       " 3,\n",
       " 3,\n",
       " 4,\n",
       " 4,\n",
       " 4,\n",
       " 4,\n",
       " 3,\n",
       " 3,\n",
       " 4,\n",
       " 4,\n",
       " 5,\n",
       " 5,\n",
       " 5,\n",
       " 5,\n",
       " 5,\n",
       " 5]"
      ]
     },
     "execution_count": 4,
     "metadata": {},
     "output_type": "execute_result"
    }
   ],
   "source": [
    "dataset = tf.data.Dataset.range(1, 6)\n",
    "dataset = dataset.interleave(lambda x: tf.data.Dataset.from_tensors(x).repeat(6), cycle_length=2, block_length=4)\n",
    "list(dataset.as_numpy_iterator())"
   ]
  },
  {
   "cell_type": "code",
   "execution_count": 5,
   "id": "cb592231",
   "metadata": {},
   "outputs": [
    {
     "name": "stdout",
     "output_type": "stream",
     "text": [
      "(TensorSpec(shape=(), dtype=tf.float32, name=None), TensorSpec(shape=(3,), dtype=tf.string, name=None))\n",
      "(TensorSpec(shape=(), dtype=tf.float32, name=None), TensorSpec(shape=(2,), dtype=tf.string, name=None), TensorSpec(shape=(2,), dtype=tf.float64, name=None))\n"
     ]
    },
    {
     "data": {
      "text/plain": [
       "(TensorSpec(shape=(), dtype=tf.float32, name=None),\n",
       " TensorSpec(shape=(2,), dtype=tf.int32, name=None),\n",
       " TensorSpec(shape=(), dtype=tf.string, name=None))"
      ]
     },
     "execution_count": 5,
     "metadata": {},
     "output_type": "execute_result"
    }
   ],
   "source": [
    "dataset = tf.data.Dataset.range(3)\n",
    "def g(x):\n",
    "    return tf.constant(37.0), tf.constant(['Foo', 'Bar', 'Baz'])\n",
    "result = dataset.map(g)\n",
    "print(result.element_spec)\n",
    "def h(x):\n",
    "    return 37.0, [\"Foo\", \"Bar\"], np.array([1.0, 2.0], dtype=np.float64)\n",
    "result = dataset.map(h)\n",
    "print(result.element_spec)\n",
    "def i(x):\n",
    "    return 37.0, [42, 16], \"foo\"\n",
    "result = dataset.map(i)\n",
    "result.element_spec"
   ]
  },
  {
   "cell_type": "code",
   "execution_count": 7,
   "id": "8d52ea11",
   "metadata": {},
   "outputs": [
    {
     "data": {
      "text/plain": [
       "[b'HELLO', b'WORLD']"
      ]
     },
     "execution_count": 7,
     "metadata": {},
     "output_type": "execute_result"
    }
   ],
   "source": [
    "d = tf.data.Dataset.from_tensor_slices([\"hello\", \"world\"])\n",
    "def upper_case_fn(t: tf.Tensor):\n",
    "    return t.numpy().decode('utf-8').upper()\n",
    "d = d.map(lambda x: tf.py_function(func=upper_case_fn, inp=[x], Tout=tf.string))\n",
    "list(d.as_numpy_iterator())"
   ]
  },
  {
   "cell_type": "code",
   "execution_count": 8,
   "id": "cbb1d50e",
   "metadata": {},
   "outputs": [
    {
     "name": "stdout",
     "output_type": "stream",
     "text": [
      "[[1 0]\n",
      " [2 2]]\n",
      "[[3 3 3 0]\n",
      " [4 4 4 4]]\n"
     ]
    }
   ],
   "source": [
    "A = (tf.data.Dataset.range(1, 5, output_type=tf.int32).map(lambda x: tf.fill([x], x)))\n",
    "B = A.padded_batch(2)\n",
    "for element in B.as_numpy_iterator():\n",
    "    print(element)"
   ]
  },
  {
   "cell_type": "code",
   "execution_count": 9,
   "id": "8b4b2700",
   "metadata": {},
   "outputs": [
    {
     "name": "stdout",
     "output_type": "stream",
     "text": [
      "[[1 0 0 0 0]\n",
      " [2 2 0 0 0]]\n",
      "[[3 3 3 0 0]\n",
      " [4 4 4 4 0]]\n"
     ]
    }
   ],
   "source": [
    "C = A.padded_batch(2, padded_shapes=5)\n",
    "for element in C.as_numpy_iterator():\n",
    "    print(element)"
   ]
  },
  {
   "cell_type": "code",
   "execution_count": 11,
   "id": "6b3d7a28",
   "metadata": {},
   "outputs": [
    {
     "name": "stdout",
     "output_type": "stream",
     "text": [
      "[[ 1 -1 -1 -1 -1]\n",
      " [ 2  2 -1 -1 -1]]\n",
      "[[ 3  3  3 -1 -1]\n",
      " [ 4  4  4  4 -1]]\n"
     ]
    }
   ],
   "source": [
    "D = A.padded_batch(2, padded_shapes=5, padding_values=-1)\n",
    "for element in D.as_numpy_iterator():\n",
    "    print(element)"
   ]
  },
  {
   "cell_type": "code",
   "execution_count": 14,
   "id": "7053c627",
   "metadata": {},
   "outputs": [
    {
     "data": {
      "text/plain": [
       "[(array([[ 1,  2,  3, -1],\n",
       "         [ 4,  5, -1, -1]]),\n",
       "  array([[ 10, 100],\n",
       "         [ 11,  12]]))]"
      ]
     },
     "execution_count": 14,
     "metadata": {},
     "output_type": "execute_result"
    }
   ],
   "source": [
    "elements = [([1, 2, 3], [10]), ([4, 5], [11, 12])]\n",
    "dataset = tf.data.Dataset.from_generator(lambda: iter(elements), (tf.int32, tf.int32))\n",
    "dataset = dataset.padded_batch(2, padded_shapes=([4], [None]), padding_values=(-1, 100))\n",
    "list(dataset.as_numpy_iterator())"
   ]
  },
  {
   "cell_type": "code",
   "execution_count": 15,
   "id": "453055f8",
   "metadata": {},
   "outputs": [
    {
     "name": "stdout",
     "output_type": "stream",
     "text": [
      "(array([[ 1, -1],\n",
      "       [ 2,  2]]), array([[ 1, -1],\n",
      "       [ 2,  2]]))\n",
      "(array([[ 3,  3,  3, -1],\n",
      "       [ 4,  4,  4,  4]]), array([[ 3,  3,  3, -1],\n",
      "       [ 4,  4,  4,  4]]))\n"
     ]
    }
   ],
   "source": [
    "E = tf.data.Dataset.zip((A, A)).padded_batch(2, padding_values=-1)\n",
    "for element in E.as_numpy_iterator():\n",
    "    print(element)"
   ]
  },
  {
   "cell_type": "code",
   "execution_count": 17,
   "id": "b00b250c",
   "metadata": {},
   "outputs": [
    {
     "name": "stdout",
     "output_type": "stream",
     "text": [
      "True\n"
     ]
    }
   ],
   "source": [
    "ds1 = tf.data.Dataset.random(seed=4).take(10)\n",
    "ds2 = tf.data.Dataset.random(seed=4).take(10)\n",
    "print(list(ds1.as_numpy_iterator()) == list(ds2.as_numpy_iterator()))"
   ]
  },
  {
   "cell_type": "code",
   "execution_count": 19,
   "id": "fdb80e7a",
   "metadata": {},
   "outputs": [
    {
     "data": {
      "text/plain": [
       "5"
      ]
     },
     "execution_count": 19,
     "metadata": {},
     "output_type": "execute_result"
    }
   ],
   "source": [
    "tf.data.Dataset.range(5).reduce(np.int64(0), lambda x, _: x + 1).numpy()"
   ]
  },
  {
   "cell_type": "code",
   "execution_count": 20,
   "id": "478540c0",
   "metadata": {},
   "outputs": [
    {
     "name": "stdout",
     "output_type": "stream",
     "text": [
      "[100, 101, 102, 0, 1, 2]\n"
     ]
    }
   ],
   "source": [
    "dataset1 = tf.data.Dataset.range(0, 3)\n",
    "dataset2 = tf.data.Dataset.range(100, 103)\n",
    "sample_dataset = tf.data.Dataset.sample_from_datasets([dataset1, dataset2], weights=[0.5, 0.5])\n",
    "print(list(sample_dataset.as_numpy_iterator()))"
   ]
  },
  {
   "cell_type": "code",
   "execution_count": 2,
   "id": "f5fd14de",
   "metadata": {},
   "outputs": [
    {
     "data": {
      "text/plain": [
       "[0, 1, 3, 6, 10, 15, 21, 28, 36, 45]"
      ]
     },
     "execution_count": 2,
     "metadata": {},
     "output_type": "execute_result"
    }
   ],
   "source": [
    "dataset = tf.data.Dataset.range(10)\n",
    "initial_state = tf.constant(0, dtype=tf.int64)\n",
    "scan_func = lambda state, i: (state + i, state + i)\n",
    "dataset = dataset.scan(initial_state=initial_state, scan_func=scan_func)\n",
    "list(dataset.as_numpy_iterator())"
   ]
  },
  {
   "cell_type": "code",
   "execution_count": 4,
   "id": "6946f54d",
   "metadata": {},
   "outputs": [
    {
     "data": {
      "text/plain": [
       "[0, 1, 2, 3, 4]"
      ]
     },
     "execution_count": 4,
     "metadata": {},
     "output_type": "execute_result"
    }
   ],
   "source": [
    "dataset = tf.data.experimental.Counter().take(5)\n",
    "list(dataset.as_numpy_iterator())"
   ]
  },
  {
   "cell_type": "code",
   "execution_count": 5,
   "id": "8a39e188",
   "metadata": {},
   "outputs": [],
   "source": [
    "n = 10\n",
    "q = 3\n",
    "d = 7\n",
    "x = tf.zeros([n, q])\n",
    "y = tf.ones([n, d])\n",
    "param = tf.Variable([1.0, 2.0, 3.0])\n",
    "scalar = 1.0\n",
    "tf.debugging.assert_shapes([\n",
    "    (x, ('N', 'Q')),\n",
    "    (y, ('N', 'D')),\n",
    "    (param, ('Q',)),\n",
    "    (scalar, ())\n",
    "])"
   ]
  },
  {
   "cell_type": "code",
   "execution_count": 6,
   "id": "c141ce76",
   "metadata": {},
   "outputs": [
    {
     "name": "stdout",
     "output_type": "stream",
     "text": [
      "WARNING:tensorflow:There are non-GPU devices in `tf.distribute.Strategy`, not using nccl allreduce.\n",
      "INFO:tensorflow:Using MirroredStrategy with devices ('/job:localhost/replica:0/task:0/device:CPU:0',)\n"
     ]
    },
    {
     "data": {
      "text/plain": [
       "MirroredVariable:{\n",
       "  0: <tf.Variable 'Variable:0' shape=() dtype=float32, numpy=1.0>\n",
       "}"
      ]
     },
     "execution_count": 6,
     "metadata": {},
     "output_type": "execute_result"
    }
   ],
   "source": [
    "strategy = tf.distribute.MirroredStrategy()\n",
    "with strategy.scope():\n",
    "    x = tf.Variable(1.)\n",
    "x"
   ]
  },
  {
   "cell_type": "code",
   "execution_count": 10,
   "id": "e891bbe4",
   "metadata": {},
   "outputs": [
    {
     "name": "stdout",
     "output_type": "stream",
     "text": [
      "/job:localhost/replica:0/task:0/device:CPU:0\n",
      "90\n"
     ]
    }
   ],
   "source": [
    "strategy = tf.distribute.OneDeviceStrategy(device=\"/cpu:0\")\n",
    "with strategy.scope():\n",
    "    v = tf.Variable(1.0)\n",
    "    print(v.device)\n",
    "def step_fn(x):\n",
    "    return x * 2\n",
    "result = 0\n",
    "for i in range(10):\n",
    "    result += strategy.run(step_fn, args=(i,))\n",
    "print(result)"
   ]
  },
  {
   "cell_type": "code",
   "execution_count": 11,
   "id": "e41fa4ef",
   "metadata": {},
   "outputs": [
    {
     "name": "stdout",
     "output_type": "stream",
     "text": [
      "WARNING:tensorflow:There are non-GPU devices in `tf.distribute.Strategy`, not using nccl allreduce.\n",
      "INFO:tensorflow:Using MirroredStrategy with devices ('/job:localhost/replica:0/task:0/device:CPU:0',)\n",
      "WARNING:tensorflow:Using MirroredStrategy eagerly has significant overhead currently. We will be working on improving this in the future, but for now please wrap `call_for_each_replica` or `experimental_run` or `run` inside a tf.function to get the best performance.\n"
     ]
    },
    {
     "data": {
      "text/plain": [
       "<tf.Tensor: shape=(), dtype=int32, numpy=0>"
      ]
     },
     "execution_count": 11,
     "metadata": {},
     "output_type": "execute_result"
    }
   ],
   "source": [
    "strategy = tf.distribute.MirroredStrategy()\n",
    "def func():\n",
    "    replica_context = tf.distribute.get_replica_context()\n",
    "    return replica_context.replica_id_in_sync_group\n",
    "strategy.run(func)"
   ]
  },
  {
   "cell_type": "code",
   "execution_count": 16,
   "id": "233b7f84",
   "metadata": {},
   "outputs": [
    {
     "name": "stdout",
     "output_type": "stream",
     "text": [
      "INFO:tensorflow:ParameterServerStrategy (CentralStorageStrategy if you are using a single machine) with compute_devices = ['/job:localhost/replica:0/task:0/device:CPU:0'], variable_device = '/job:localhost/replica:0/task:0/device:CPU:0'\n"
     ]
    }
   ],
   "source": [
    "strategy = tf.distribute.experimental.CentralStorageStrategy()\n",
    "ds = tf.data.Dataset.range(5).batch(2)\n",
    "dist_dataset = strategy.experimental_distribute_dataset(ds)\n",
    "with strategy.scope():\n",
    "    @tf.function\n",
    "    def train_step(val):\n",
    "        return val + 1\n",
    "    for x in dist_dataset:\n",
    "        strategy.run(train_step, args=(x, ))"
   ]
  },
  {
   "cell_type": "code",
   "execution_count": 25,
   "id": "13db7d68",
   "metadata": {},
   "outputs": [
    {
     "name": "stdout",
     "output_type": "stream",
     "text": [
      "WARNING:tensorflow:Collective ops is not configured at program startup. Some performance features may not be enabled.\n",
      "INFO:tensorflow:Single-worker MultiWorkerMirroredStrategy with local_devices = ('/device:CPU:0',), communication = CommunicationImplementation.AUTO\n",
      "5/5 [==============================] - 3s 5ms/step - loss: 4.1425\n"
     ]
    },
    {
     "data": {
      "text/plain": [
       "<keras.callbacks.History at 0x1bff7eb06d0>"
      ]
     },
     "execution_count": 25,
     "metadata": {},
     "output_type": "execute_result"
    }
   ],
   "source": [
    "strategy = tf.distribute.MultiWorkerMirroredStrategy()\n",
    "with strategy.scope():\n",
    "    model = tf.keras.Sequential([\n",
    "        tf.keras.layers.Dense(2, input_shape=(5,))\n",
    "    ])\n",
    "    optimizer = tf.keras.optimizers.SGD(learning_rate=0.1)\n",
    "def dataset_fn(ctx):\n",
    "    x = np.random.random((2, 5)).astype(np.float32)\n",
    "    y = np.random.randint(2, size=(2, 1))\n",
    "    dataset = tf.data.Dataset.from_tensor_slices((x, y))\n",
    "    return dataset.repeat().batch(1, drop_remainder=True)\n",
    "dist_dataset = strategy.distribute_datasets_from_function(dataset_fn)\n",
    "model.compile(loss=tf.keras.losses.BinaryCrossentropy())\n",
    "model.fit(dist_dataset, steps_per_epoch=5)"
   ]
  },
  {
   "cell_type": "code",
   "execution_count": 2,
   "id": "2ce4e1b0",
   "metadata": {},
   "outputs": [
    {
     "data": {
      "text/plain": [
       "<tf.Tensor: shape=(4, 5, 3), dtype=float32, numpy=\n",
       "array([[[0.23707685, 0.4152209 , 0.80144775],\n",
       "        [0.34712806, 0.2577625 , 0.38144317],\n",
       "        [0.03882951, 0.30290848, 0.17759335],\n",
       "        [0.87581146, 0.6465679 , 0.64808416],\n",
       "        [0.7535795 , 0.43977365, 0.6665976 ]],\n",
       "\n",
       "       [[0.033746  , 0.26426458, 0.3780807 ],\n",
       "        [0.34547812, 0.16672572, 0.32869953],\n",
       "        [0.2563804 , 0.45526934, 0.43549567],\n",
       "        [0.97090006, 0.16447219, 0.65076315],\n",
       "        [0.8275974 , 0.7991493 , 0.22137517]],\n",
       "\n",
       "       [[0.38343143, 0.77116454, 0.62632567],\n",
       "        [0.75184643, 0.7783416 , 0.68404794],\n",
       "        [0.17356467, 0.5870932 , 0.6983813 ],\n",
       "        [0.87270546, 0.24469876, 0.43428248],\n",
       "        [0.38623545, 0.26109993, 0.86719793]],\n",
       "\n",
       "       [[0.08445233, 0.177344  , 0.8583691 ],\n",
       "        [0.5693494 , 0.76433533, 0.5791781 ],\n",
       "        [0.11877435, 0.5335437 , 0.35955706],\n",
       "        [0.7443219 , 0.5880878 , 0.4602193 ],\n",
       "        [0.8044006 , 0.20905027, 0.56440204]]], dtype=float32)>"
      ]
     },
     "execution_count": 2,
     "metadata": {},
     "output_type": "execute_result"
    }
   ],
   "source": [
    "import tensorflow_probability as tfp\n",
    "tfd = tfp.distributions\n",
    "alpha = [1, 2, 3]\n",
    "beta = [1, 2, 3]\n",
    "dist = tfd.Beta(alpha, beta)\n",
    "dist.sample([4, 5])"
   ]
  },
  {
   "cell_type": "code",
   "execution_count": 3,
   "id": "6c6e14df",
   "metadata": {},
   "outputs": [
    {
     "name": "stdout",
     "output_type": "stream",
     "text": [
      "WARNING:tensorflow:@custom_gradient grad_fn has 'variables' in signature, but no ResourceVariables were used on the forward pass.\n"
     ]
    },
    {
     "data": {
      "text/plain": [
       "<tf.Tensor: shape=(2, 3), dtype=float32, numpy=\n",
       "array([[1.       , 1.4400002, 1.8749992],\n",
       "       [1.       , 1.2600001, 1.8749992]], dtype=float32)>"
      ]
     },
     "execution_count": 3,
     "metadata": {},
     "output_type": "execute_result"
    }
   ],
   "source": [
    "x = [[.1, .4, .5], [.2, .3, .5]]\n",
    "dist.prob(x)"
   ]
  },
  {
   "cell_type": "code",
   "execution_count": 9,
   "id": "3add3e59",
   "metadata": {},
   "outputs": [
    {
     "data": {
      "text/plain": [
       "<tf.Tensor: shape=(3,), dtype=float32, numpy=array([0.6084, 0.    , 0.3916], dtype=float32)>"
      ]
     },
     "execution_count": 9,
     "metadata": {},
     "output_type": "execute_result"
    }
   ],
   "source": [
    "dist = tfd.Categorical(probs=[0.1, 0.5, 0.4])\n",
    "n = 1e4\n",
    "empirical_prob = tf.cast(tf.histogram_fixed_width(dist.sample(int(n)), [1, 2], nbins=3), dtype=tf.float32) / n\n",
    "empirical_prob"
   ]
  },
  {
   "cell_type": "code",
   "execution_count": 10,
   "id": "e838685c",
   "metadata": {},
   "outputs": [
    {
     "name": "stdout",
     "output_type": "stream",
     "text": [
      "tf.Tensor(\n",
      "[[[0.00974698 0.58145326 0.4087997 ]\n",
      "  [0.4218876  0.06371973 0.5143926 ]\n",
      "  [0.19768272 0.41874337 0.38357392]\n",
      "  [0.22270773 0.36218274 0.41510963]\n",
      "  [0.05269821 0.31460255 0.6326992 ]]\n",
      "\n",
      " [[0.01167306 0.38581723 0.6025098 ]\n",
      "  [0.09701207 0.55131215 0.3516758 ]\n",
      "  [0.00555583 0.59085464 0.40358955]\n",
      "  [0.14979579 0.2727521  0.57745206]\n",
      "  [0.09445653 0.20841022 0.6971332 ]]\n",
      "\n",
      " [[0.01072012 0.5115092  0.47777066]\n",
      "  [0.29665947 0.41993067 0.28340995]\n",
      "  [0.3421746  0.09831088 0.5595144 ]\n",
      "  [0.3725596  0.42554152 0.20189884]\n",
      "  [0.17417979 0.17234312 0.6534771 ]]\n",
      "\n",
      " [[0.32655382 0.09916624 0.57427996]\n",
      "  [0.22695547 0.16982584 0.6032186 ]\n",
      "  [0.02944881 0.33180192 0.6387492 ]\n",
      "  [0.08911989 0.22761717 0.6832629 ]\n",
      "  [0.0777706  0.1499925  0.77223694]]], shape=(4, 5, 3), dtype=float32)\n",
      "tf.Tensor(4.499998, shape=(), dtype=float32)\n",
      "tf.Tensor([5.999997 4.499998], shape=(2,), dtype=float32)\n"
     ]
    }
   ],
   "source": [
    "alpha = [1., 2, 3]\n",
    "dist = tfd.Dirichlet(alpha)\n",
    "print(dist.sample([4, 5]))\n",
    "x = [.2, .3, .5]\n",
    "print(dist.prob(x))\n",
    "x = [[.1, .4, .5], [.2, .3, .5]]\n",
    "print(dist.prob(x))"
   ]
  },
  {
   "cell_type": "code",
   "execution_count": 11,
   "id": "4d91d937",
   "metadata": {},
   "outputs": [
    {
     "name": "stdout",
     "output_type": "stream",
     "text": [
      "tf.Tensor(\n",
      "[[[[0.28537807 0.06563456 0.64898735]\n",
      "   [0.31228244 0.4299055  0.2578121 ]]\n",
      "\n",
      "  [[0.45441228 0.14360136 0.40198633]\n",
      "   [0.19174114 0.40379047 0.40446836]]\n",
      "\n",
      "  [[0.00955559 0.08172645 0.90871793]\n",
      "   [0.22262296 0.33707055 0.44030634]]\n",
      "\n",
      "  [[0.00621389 0.19665366 0.7971325 ]\n",
      "   [0.4817478  0.25150967 0.26674253]]\n",
      "\n",
      "  [[0.3253011  0.02396245 0.65073645]\n",
      "   [0.1680524  0.1340725  0.69787514]]]\n",
      "\n",
      "\n",
      " [[[0.25533172 0.5418984  0.20276992]\n",
      "   [0.3681332  0.35191804 0.27994886]]\n",
      "\n",
      "  [[0.1603821  0.38968545 0.44993252]\n",
      "   [0.17168191 0.37835094 0.44996712]]\n",
      "\n",
      "  [[0.07283622 0.23994862 0.6872152 ]\n",
      "   [0.3003292  0.37426153 0.32540923]]\n",
      "\n",
      "  [[0.18098632 0.37842265 0.44059107]\n",
      "   [0.4030838  0.2948904  0.3020259 ]]\n",
      "\n",
      "  [[0.32552323 0.01912518 0.6553516 ]\n",
      "   [0.316674   0.09197494 0.591351  ]]]\n",
      "\n",
      "\n",
      " [[[0.30282298 0.13274285 0.5644341 ]\n",
      "   [0.2584822  0.35281986 0.38869804]]\n",
      "\n",
      "  [[0.17470415 0.55977786 0.265518  ]\n",
      "   [0.37083137 0.06778907 0.56137943]]\n",
      "\n",
      "  [[0.27711174 0.251112   0.47177625]\n",
      "   [0.2622467  0.30778474 0.42996854]]\n",
      "\n",
      "  [[0.16370493 0.1797697  0.65652543]\n",
      "   [0.48879564 0.16563237 0.34557194]]\n",
      "\n",
      "  [[0.33275515 0.31177166 0.35547322]\n",
      "   [0.43103865 0.21188703 0.35707417]]]\n",
      "\n",
      "\n",
      " [[[0.37116528 0.2993266  0.32950816]\n",
      "   [0.31479523 0.24687852 0.4383263 ]]\n",
      "\n",
      "  [[0.09956633 0.80671066 0.09372314]\n",
      "   [0.2063996  0.4002713  0.39332902]]\n",
      "\n",
      "  [[0.3170687  0.3051092  0.37782213]\n",
      "   [0.2508888  0.3383653  0.41074598]]\n",
      "\n",
      "  [[0.19506724 0.48946533 0.31546742]\n",
      "   [0.36624676 0.1054133  0.52833986]]\n",
      "\n",
      "  [[0.05752997 0.10779708 0.83467305]\n",
      "   [0.1792201  0.5641992  0.2565808 ]]]], shape=(4, 5, 2, 3), dtype=float32)\n"
     ]
    },
    {
     "data": {
      "text/plain": [
       "<tf.Tensor: shape=(2,), dtype=float32, numpy=array([ 4.499998, 10.216199], dtype=float32)>"
      ]
     },
     "execution_count": 11,
     "metadata": {},
     "output_type": "execute_result"
    }
   ],
   "source": [
    "alpha = [[1., 2., 3], [4, 5, 6]]\n",
    "dist = tfd.Dirichlet(alpha)\n",
    "print(dist.sample([4, 5]))\n",
    "x = [.2, .3, .5]\n",
    "dist.prob(x)"
   ]
  },
  {
   "cell_type": "code",
   "execution_count": 13,
   "id": "f2aa1a3c",
   "metadata": {},
   "outputs": [
    {
     "name": "stdout",
     "output_type": "stream",
     "text": [
      "tf.Tensor(0.28571433, shape=(), dtype=float32)\n"
     ]
    },
    {
     "data": {
      "text/plain": [
       "<tf.Tensor: shape=(2,), dtype=float32, numpy=array([0.09523811, 0.14285716], dtype=float32)>"
      ]
     },
     "execution_count": 13,
     "metadata": {},
     "output_type": "execute_result"
    }
   ],
   "source": [
    "alpha = [1., 2., 3.]\n",
    "n = 2\n",
    "dist = tfd.DirichletMultinomial(n, alpha)\n",
    "counts = [0., 0., 2.]\n",
    "print(dist.prob(counts))\n",
    "counts = [[1., 1., 0.], [1., 0., 1.]]\n",
    "dist.prob(counts)"
   ]
  },
  {
   "cell_type": "code",
   "execution_count": 18,
   "id": "944221ce",
   "metadata": {},
   "outputs": [],
   "source": [
    "minval = 3.0\n",
    "maxval = [[4.0, 6.0], [10.0, 12.0]]\n",
    "u = tfd.Uniform(minval, maxval)\n",
    "event_shape = u.event_shape_tensor()\n",
    "cum_prob_broadcast = u.cdf(4.0)\n",
    "cum_prob_per_dist = u.cdf([[4.0, 5.0], [6.0, 7.0]])"
   ]
  },
  {
   "cell_type": "code",
   "execution_count": 3,
   "id": "d98183f1",
   "metadata": {},
   "outputs": [],
   "source": [
    "import tensorflow_probability as tfp\n",
    "tfd = tfp.distributions\n",
    "dist = tfd.Gamma(concentration=3.0, rate=[2.0, 3.0])\n",
    "dist2 = tfd.Gamma(concentration=[3.0, 4.0], rate=[2.0, 3.0])"
   ]
  },
  {
   "cell_type": "code",
   "execution_count": 4,
   "id": "a9a3ce0b",
   "metadata": {},
   "outputs": [],
   "source": [
    "import tensorflow as tf"
   ]
  },
  {
   "cell_type": "code",
   "execution_count": 6,
   "id": "e9ccb0b2",
   "metadata": {},
   "outputs": [],
   "source": [
    "concentration = tf.constant(3.0)\n",
    "rate = tf.constant(2.0)\n",
    "dist = tfd.Gamma(concentration, rate)\n",
    "samples = dist.sample(5)\n",
    "loss = tf.reduce_mean(tf.square(samples))"
   ]
  },
  {
   "cell_type": "code",
   "execution_count": 8,
   "id": "46606250",
   "metadata": {},
   "outputs": [],
   "source": [
    "logits = [-50., -43, 0]\n",
    "dist = tfd.Multinomial(total_count=5., logits=logits)"
   ]
  },
  {
   "cell_type": "code",
   "execution_count": 9,
   "id": "36ee0ff0",
   "metadata": {},
   "outputs": [],
   "source": [
    "p = [.2, .3, .5]\n",
    "dist = tfd.Multinomial(total_count=4., probs=p)"
   ]
  },
  {
   "cell_type": "code",
   "execution_count": 10,
   "id": "05df9d12",
   "metadata": {},
   "outputs": [
    {
     "data": {
      "text/plain": [
       "<tf.Tensor: shape=(2,), dtype=float32, numpy=array([0.108 , 0.0216], dtype=float32)>"
      ]
     },
     "execution_count": 10,
     "metadata": {},
     "output_type": "execute_result"
    }
   ],
   "source": [
    "counts = [1., 0, 3]\n",
    "dist.prob(counts)\n",
    "counts = [[1., 2, 1], [2, 2, 0]]\n",
    "dist.prob(counts)"
   ]
  },
  {
   "cell_type": "code",
   "execution_count": 11,
   "id": "30441b6d",
   "metadata": {},
   "outputs": [
    {
     "data": {
      "text/plain": [
       "<tf.Tensor: shape=(5, 2, 3), dtype=float32, numpy=\n",
       "array([[[0., 1., 3.],\n",
       "        [1., 1., 3.]],\n",
       "\n",
       "       [[0., 1., 3.],\n",
       "        [2., 1., 2.]],\n",
       "\n",
       "       [[0., 0., 4.],\n",
       "        [2., 1., 2.]],\n",
       "\n",
       "       [[0., 0., 4.],\n",
       "        [3., 2., 0.]],\n",
       "\n",
       "       [[1., 0., 3.],\n",
       "        [1., 4., 0.]]], dtype=float32)>"
      ]
     },
     "execution_count": 11,
     "metadata": {},
     "output_type": "execute_result"
    }
   ],
   "source": [
    "p = [[.1, .2, .7], [.3, .3, .4]]\n",
    "dist = tfd.Multinomial(total_count=[4., 5], probs=p)\n",
    "counts = [[2., 1, 1], [3, 1, 1]]\n",
    "dist.prob(counts)\n",
    "dist.sample(5)"
   ]
  },
  {
   "cell_type": "code",
   "execution_count": 12,
   "id": "6b29c2c1",
   "metadata": {},
   "outputs": [
    {
     "data": {
      "text/plain": [
       "<tf.Tensor: shape=(3, 2), dtype=float32, numpy=\n",
       "array([[ 27.550241  ,  34.957863  ],\n",
       "       [-11.648647  ,  32.077057  ],\n",
       "       [ -0.97766626,  21.24344   ]], dtype=float32)>"
      ]
     },
     "execution_count": 12,
     "metadata": {},
     "output_type": "execute_result"
    }
   ],
   "source": [
    "dist = tfd.Normal(loc=0., scale=3.)\n",
    "dist.cdf(1.)\n",
    "dist = tfd.Normal(loc=[1, 2.], scale=[11, 22.])\n",
    "dist.prob([0, 1.5])\n",
    "dist.sample([3])"
   ]
  },
  {
   "cell_type": "code",
   "execution_count": 13,
   "id": "59b5c1e6",
   "metadata": {},
   "outputs": [
    {
     "data": {
      "text/plain": [
       "<tf.Tensor: shape=(2,), dtype=float32, numpy=array([0.03567294, 0.01805896], dtype=float32)>"
      ]
     },
     "execution_count": 13,
     "metadata": {},
     "output_type": "execute_result"
    }
   ],
   "source": [
    "dist = tfd.Normal(loc=1., scale=[11, 22.])\n",
    "dist.prob(3.0)"
   ]
  },
  {
   "cell_type": "code",
   "execution_count": 17,
   "id": "69d9e9c1",
   "metadata": {},
   "outputs": [
    {
     "data": {
      "text/plain": [
       "<tf.Tensor: shape=(3, 2), dtype=float32, numpy=\n",
       "array([[ 46.58791  ,  -1.8264534],\n",
       "       [ 11.827791 ,  52.536064 ],\n",
       "       [ -9.476489 , -15.43952  ]], dtype=float32)>"
      ]
     },
     "execution_count": 17,
     "metadata": {},
     "output_type": "execute_result"
    }
   ],
   "source": [
    "single_dist = tfd.StudentT(df=3, loc=0, scale=1)\n",
    "single_dist.prob(1.)\n",
    "multi_dist = tfd.StudentT(df=[2, 3], loc=[1, 2.], scale=[11, 22])\n",
    "multi_dist.prob([0, 1.5])\n",
    "multi_dist.sample(3)"
   ]
  },
  {
   "cell_type": "code",
   "execution_count": 18,
   "id": "e110c6bc",
   "metadata": {},
   "outputs": [
    {
     "data": {
      "text/plain": [
       "<tf.Tensor: shape=(2,), dtype=float32, numpy=array([0.03136048, 0.01597151], dtype=float32)>"
      ]
     },
     "execution_count": 18,
     "metadata": {},
     "output_type": "execute_result"
    }
   ],
   "source": [
    "dist = tfd.StudentT(df=2, loc=1, scale=[11, 22.])\n",
    "dist.prob(3.0)"
   ]
  },
  {
   "cell_type": "code",
   "execution_count": 19,
   "id": "db2f3dd0",
   "metadata": {},
   "outputs": [],
   "source": [
    "df = tf.constant(2.0)\n",
    "loc = tf.constant(2.0)\n",
    "scale = tf.constant(11.0)\n",
    "dist = tfd.StudentT(df=df, loc=loc, scale=scale)\n",
    "samples = dist.sample(5)\n",
    "loss = tf.reduce_mean(tf.square(samples))"
   ]
  },
  {
   "cell_type": "code",
   "execution_count": 5,
   "id": "89e856e0",
   "metadata": {},
   "outputs": [
    {
     "name": "stdout",
     "output_type": "stream",
     "text": [
      "INFO:tensorflow:Using default config.\n",
      "WARNING:tensorflow:Using temporary folder as model directory: C:\\Users\\jatin\\AppData\\Local\\Temp\\tmp8jpslhj0\n",
      "INFO:tensorflow:Using config: {'_model_dir': 'C:\\\\Users\\\\jatin\\\\AppData\\\\Local\\\\Temp\\\\tmp8jpslhj0', '_tf_random_seed': None, '_save_summary_steps': 100, '_save_checkpoints_steps': None, '_save_checkpoints_secs': 600, '_session_config': allow_soft_placement: true\n",
      "graph_options {\n",
      "  rewrite_options {\n",
      "    meta_optimizer_iterations: ONE\n",
      "  }\n",
      "}\n",
      ", '_keep_checkpoint_max': 5, '_keep_checkpoint_every_n_hours': 10000, '_log_step_count_steps': 100, '_train_distribute': None, '_device_fn': None, '_protocol': None, '_eval_distribute': None, '_experimental_distribute': None, '_experimental_max_worker_delay_secs': None, '_session_creation_timeout_secs': 7200, '_checkpoint_save_graph_def': True, '_service': None, '_cluster_spec': ClusterSpec({}), '_task_type': 'worker', '_task_id': 0, '_global_id_in_cluster': 0, '_master': '', '_evaluation_master': '', '_is_chief': True, '_num_ps_replicas': 0, '_num_worker_replicas': 1}\n",
      "INFO:tensorflow:Calling model_fn.\n",
      "INFO:tensorflow:Done calling model_fn.\n",
      "INFO:tensorflow:Create CheckpointSaverHook.\n",
      "INFO:tensorflow:Graph was finalized.\n",
      "INFO:tensorflow:Running local_init_op.\n",
      "INFO:tensorflow:Done running local_init_op.\n",
      "INFO:tensorflow:Calling checkpoint listeners before saving checkpoint 0...\n",
      "INFO:tensorflow:Saving checkpoints for 0 into C:\\Users\\jatin\\AppData\\Local\\Temp\\tmp8jpslhj0\\model.ckpt.\n",
      "INFO:tensorflow:Calling checkpoint listeners after saving checkpoint 0...\n",
      "INFO:tensorflow:Calling checkpoint listeners before saving checkpoint 1...\n",
      "INFO:tensorflow:Saving checkpoints for 1 into C:\\Users\\jatin\\AppData\\Local\\Temp\\tmp8jpslhj0\\model.ckpt.\n",
      "INFO:tensorflow:Calling checkpoint listeners after saving checkpoint 1...\n",
      "INFO:tensorflow:Loss for final step: None.\n",
      "INFO:tensorflow:Calling model_fn.\n",
      "INFO:tensorflow:Done calling model_fn.\n",
      "INFO:tensorflow:Starting evaluation at 2022-02-20T01:15:50\n",
      "INFO:tensorflow:Graph was finalized.\n",
      "INFO:tensorflow:Restoring parameters from C:\\Users\\jatin\\AppData\\Local\\Temp\\tmp8jpslhj0\\model.ckpt-1\n",
      "INFO:tensorflow:Running local_init_op.\n",
      "INFO:tensorflow:Done running local_init_op.\n",
      "INFO:tensorflow:Evaluation [1/1]\n",
      "INFO:tensorflow:Inference Time : 0.27476s\n",
      "INFO:tensorflow:Finished evaluation at 2022-02-20-01:15:50\n",
      "INFO:tensorflow:Saving dict for global step 1: global_step = 1, loss = 9468525.0, score = 9468525.0\n",
      "INFO:tensorflow:Saving 'checkpoint_path' summary for global step 1: C:\\Users\\jatin\\AppData\\Local\\Temp\\tmp8jpslhj0\\model.ckpt-1\n",
      "score: 9468525.0\n",
      "INFO:tensorflow:Calling model_fn.\n",
      "INFO:tensorflow:Done calling model_fn.\n",
      "INFO:tensorflow:Create CheckpointSaverHook.\n",
      "INFO:tensorflow:Graph was finalized.\n",
      "INFO:tensorflow:Restoring parameters from C:\\Users\\jatin\\AppData\\Local\\Temp\\tmp8jpslhj0\\model.ckpt-1\n",
      "WARNING:tensorflow:From C:\\Users\\jatin\\anaconda3\\lib\\site-packages\\tensorflow\\python\\training\\saver.py:1161: get_checkpoint_mtimes (from tensorflow.python.training.checkpoint_management) is deprecated and will be removed in a future version.\n",
      "Instructions for updating:\n",
      "Use standard file utilities to get mtimes.\n",
      "INFO:tensorflow:Running local_init_op.\n",
      "INFO:tensorflow:Done running local_init_op.\n",
      "INFO:tensorflow:Calling checkpoint listeners before saving checkpoint 1...\n",
      "INFO:tensorflow:Saving checkpoints for 1 into C:\\Users\\jatin\\AppData\\Local\\Temp\\tmp8jpslhj0\\model.ckpt.\n",
      "INFO:tensorflow:Calling checkpoint listeners after saving checkpoint 1...\n",
      "INFO:tensorflow:loss = 9468525.0, step = 2\n",
      "INFO:tensorflow:Calling checkpoint listeners before saving checkpoint 3...\n",
      "INFO:tensorflow:Saving checkpoints for 3 into C:\\Users\\jatin\\AppData\\Local\\Temp\\tmp8jpslhj0\\model.ckpt.\n",
      "INFO:tensorflow:Calling checkpoint listeners after saving checkpoint 3...\n",
      "INFO:tensorflow:Loss for final step: 9468525.0.\n",
      "delta: [[  17.285812   117.8288   ]\n",
      " [ 300.3558      66.80969  ]\n",
      " [   7.6688995 -140.13177  ]\n",
      " [  45.840363    26.91681  ]\n",
      " [  91.56726   -144.107    ]]\n",
      "INFO:tensorflow:Calling model_fn.\n",
      "INFO:tensorflow:Done calling model_fn.\n",
      "INFO:tensorflow:Starting evaluation at 2022-02-20T01:15:52\n",
      "INFO:tensorflow:Graph was finalized.\n",
      "INFO:tensorflow:Restoring parameters from C:\\Users\\jatin\\AppData\\Local\\Temp\\tmp8jpslhj0\\model.ckpt-3\n",
      "INFO:tensorflow:Running local_init_op.\n",
      "INFO:tensorflow:Done running local_init_op.\n",
      "INFO:tensorflow:Evaluation [1/1]\n",
      "INFO:tensorflow:Inference Time : 0.19466s\n",
      "INFO:tensorflow:Finished evaluation at 2022-02-20-01:15:52\n",
      "INFO:tensorflow:Saving dict for global step 3: global_step = 3, loss = 5062059.0, score = 5062059.0\n",
      "INFO:tensorflow:Saving 'checkpoint_path' summary for global step 3: C:\\Users\\jatin\\AppData\\Local\\Temp\\tmp8jpslhj0\\model.ckpt-3\n",
      "score: 5062059.0\n",
      "INFO:tensorflow:Calling model_fn.\n",
      "INFO:tensorflow:Done calling model_fn.\n",
      "INFO:tensorflow:Create CheckpointSaverHook.\n",
      "INFO:tensorflow:Graph was finalized.\n",
      "INFO:tensorflow:Restoring parameters from C:\\Users\\jatin\\AppData\\Local\\Temp\\tmp8jpslhj0\\model.ckpt-3\n",
      "INFO:tensorflow:Running local_init_op.\n",
      "INFO:tensorflow:Done running local_init_op.\n",
      "INFO:tensorflow:Calling checkpoint listeners before saving checkpoint 3...\n",
      "INFO:tensorflow:Saving checkpoints for 3 into C:\\Users\\jatin\\AppData\\Local\\Temp\\tmp8jpslhj0\\model.ckpt.\n",
      "INFO:tensorflow:Calling checkpoint listeners after saving checkpoint 3...\n",
      "INFO:tensorflow:loss = 5062059.0, step = 4\n",
      "INFO:tensorflow:Calling checkpoint listeners before saving checkpoint 5...\n",
      "INFO:tensorflow:Saving checkpoints for 5 into C:\\Users\\jatin\\AppData\\Local\\Temp\\tmp8jpslhj0\\model.ckpt.\n",
      "INFO:tensorflow:Calling checkpoint listeners after saving checkpoint 5...\n",
      "INFO:tensorflow:Loss for final step: 5062059.0.\n",
      "delta: [[ 23.318192   12.683044 ]\n",
      " [ 62.46881     7.6937866]\n",
      " [ 29.596115  -20.079407 ]\n",
      " [ 83.748566   45.294678 ]\n",
      " [ 55.94104     4.0231323]]\n",
      "INFO:tensorflow:Calling model_fn.\n",
      "INFO:tensorflow:Done calling model_fn.\n",
      "INFO:tensorflow:Starting evaluation at 2022-02-20T01:15:53\n",
      "INFO:tensorflow:Graph was finalized.\n",
      "INFO:tensorflow:Restoring parameters from C:\\Users\\jatin\\AppData\\Local\\Temp\\tmp8jpslhj0\\model.ckpt-5\n",
      "INFO:tensorflow:Running local_init_op.\n",
      "INFO:tensorflow:Done running local_init_op.\n",
      "INFO:tensorflow:Evaluation [1/1]\n",
      "INFO:tensorflow:Inference Time : 0.26706s\n",
      "INFO:tensorflow:Finished evaluation at 2022-02-20-01:15:54\n",
      "INFO:tensorflow:Saving dict for global step 5: global_step = 5, loss = 4486690.5, score = 4486690.5\n",
      "INFO:tensorflow:Saving 'checkpoint_path' summary for global step 5: C:\\Users\\jatin\\AppData\\Local\\Temp\\tmp8jpslhj0\\model.ckpt-5\n",
      "score: 4486690.5\n",
      "INFO:tensorflow:Calling model_fn.\n",
      "INFO:tensorflow:Done calling model_fn.\n",
      "INFO:tensorflow:Create CheckpointSaverHook.\n",
      "INFO:tensorflow:Graph was finalized.\n",
      "INFO:tensorflow:Restoring parameters from C:\\Users\\jatin\\AppData\\Local\\Temp\\tmp8jpslhj0\\model.ckpt-5\n",
      "INFO:tensorflow:Running local_init_op.\n",
      "INFO:tensorflow:Done running local_init_op.\n",
      "INFO:tensorflow:Calling checkpoint listeners before saving checkpoint 5...\n",
      "INFO:tensorflow:Saving checkpoints for 5 into C:\\Users\\jatin\\AppData\\Local\\Temp\\tmp8jpslhj0\\model.ckpt.\n",
      "INFO:tensorflow:Calling checkpoint listeners after saving checkpoint 5...\n",
      "INFO:tensorflow:loss = 4486690.5, step = 6\n",
      "INFO:tensorflow:Calling checkpoint listeners before saving checkpoint 7...\n",
      "INFO:tensorflow:Saving checkpoints for 7 into C:\\Users\\jatin\\AppData\\Local\\Temp\\tmp8jpslhj0\\model.ckpt.\n",
      "INFO:tensorflow:Calling checkpoint listeners after saving checkpoint 7...\n",
      "INFO:tensorflow:Loss for final step: 4486690.5.\n",
      "delta: [[ 35.751144  -23.235535 ]\n",
      " [ 30.820251    3.8138733]\n",
      " [  7.398712  -27.788666 ]\n",
      " [ 70.97693     6.347046 ]\n",
      " [ 20.263916   -3.701416 ]]\n",
      "INFO:tensorflow:Calling model_fn.\n",
      "INFO:tensorflow:Done calling model_fn.\n",
      "INFO:tensorflow:Starting evaluation at 2022-02-20T01:15:55\n",
      "INFO:tensorflow:Graph was finalized.\n",
      "INFO:tensorflow:Restoring parameters from C:\\Users\\jatin\\AppData\\Local\\Temp\\tmp8jpslhj0\\model.ckpt-7\n",
      "INFO:tensorflow:Running local_init_op.\n",
      "INFO:tensorflow:Done running local_init_op.\n",
      "INFO:tensorflow:Evaluation [1/1]\n",
      "INFO:tensorflow:Inference Time : 0.24821s\n",
      "INFO:tensorflow:Finished evaluation at 2022-02-20-01:15:55\n",
      "INFO:tensorflow:Saving dict for global step 7: global_step = 7, loss = 4216184.5, score = 4216184.5\n",
      "INFO:tensorflow:Saving 'checkpoint_path' summary for global step 7: C:\\Users\\jatin\\AppData\\Local\\Temp\\tmp8jpslhj0\\model.ckpt-7\n"
     ]
    },
    {
     "name": "stdout",
     "output_type": "stream",
     "text": [
      "score: 4216184.5\n",
      "INFO:tensorflow:Calling model_fn.\n",
      "INFO:tensorflow:Done calling model_fn.\n",
      "INFO:tensorflow:Create CheckpointSaverHook.\n",
      "INFO:tensorflow:Graph was finalized.\n",
      "INFO:tensorflow:Restoring parameters from C:\\Users\\jatin\\AppData\\Local\\Temp\\tmp8jpslhj0\\model.ckpt-7\n",
      "INFO:tensorflow:Running local_init_op.\n",
      "INFO:tensorflow:Done running local_init_op.\n",
      "INFO:tensorflow:Calling checkpoint listeners before saving checkpoint 7...\n",
      "INFO:tensorflow:Saving checkpoints for 7 into C:\\Users\\jatin\\AppData\\Local\\Temp\\tmp8jpslhj0\\model.ckpt.\n",
      "INFO:tensorflow:Calling checkpoint listeners after saving checkpoint 7...\n",
      "INFO:tensorflow:loss = 4216184.5, step = 8\n",
      "INFO:tensorflow:Calling checkpoint listeners before saving checkpoint 9...\n",
      "INFO:tensorflow:Saving checkpoints for 9 into C:\\Users\\jatin\\AppData\\Local\\Temp\\tmp8jpslhj0\\model.ckpt.\n",
      "WARNING:tensorflow:From C:\\Users\\jatin\\anaconda3\\lib\\site-packages\\tensorflow\\python\\training\\saver.py:1052: remove_checkpoint (from tensorflow.python.training.checkpoint_management) is deprecated and will be removed in a future version.\n",
      "Instructions for updating:\n",
      "Use standard file APIs to delete files with this prefix.\n",
      "INFO:tensorflow:Calling checkpoint listeners after saving checkpoint 9...\n",
      "INFO:tensorflow:Loss for final step: 4216184.5.\n",
      "delta: [[  3.8410034 -22.207458 ]\n",
      " [ 41.99417    14.258011 ]\n",
      " [-11.588791  -49.491425 ]\n",
      " [ 62.66342    24.232971 ]\n",
      " [ 13.784241  -25.777954 ]]\n",
      "INFO:tensorflow:Calling model_fn.\n",
      "INFO:tensorflow:Done calling model_fn.\n",
      "INFO:tensorflow:Starting evaluation at 2022-02-20T01:15:57\n",
      "INFO:tensorflow:Graph was finalized.\n",
      "INFO:tensorflow:Restoring parameters from C:\\Users\\jatin\\AppData\\Local\\Temp\\tmp8jpslhj0\\model.ckpt-9\n",
      "INFO:tensorflow:Running local_init_op.\n",
      "INFO:tensorflow:Done running local_init_op.\n",
      "INFO:tensorflow:Evaluation [1/1]\n",
      "INFO:tensorflow:Inference Time : 0.55316s\n",
      "INFO:tensorflow:Finished evaluation at 2022-02-20-01:15:57\n",
      "INFO:tensorflow:Saving dict for global step 9: global_step = 9, loss = 3831983.0, score = 3831983.0\n",
      "INFO:tensorflow:Saving 'checkpoint_path' summary for global step 9: C:\\Users\\jatin\\AppData\\Local\\Temp\\tmp8jpslhj0\\model.ckpt-9\n",
      "score: 3831983.0\n",
      "INFO:tensorflow:Calling model_fn.\n",
      "INFO:tensorflow:Done calling model_fn.\n",
      "INFO:tensorflow:Create CheckpointSaverHook.\n",
      "INFO:tensorflow:Graph was finalized.\n",
      "INFO:tensorflow:Restoring parameters from C:\\Users\\jatin\\AppData\\Local\\Temp\\tmp8jpslhj0\\model.ckpt-9\n",
      "INFO:tensorflow:Running local_init_op.\n",
      "INFO:tensorflow:Done running local_init_op.\n",
      "INFO:tensorflow:Calling checkpoint listeners before saving checkpoint 9...\n",
      "INFO:tensorflow:Saving checkpoints for 9 into C:\\Users\\jatin\\AppData\\Local\\Temp\\tmp8jpslhj0\\model.ckpt.\n",
      "INFO:tensorflow:Calling checkpoint listeners after saving checkpoint 9...\n",
      "INFO:tensorflow:loss = 3831983.0, step = 10\n",
      "INFO:tensorflow:Calling checkpoint listeners before saving checkpoint 11...\n",
      "INFO:tensorflow:Saving checkpoints for 11 into C:\\Users\\jatin\\AppData\\Local\\Temp\\tmp8jpslhj0\\model.ckpt.\n",
      "INFO:tensorflow:Calling checkpoint listeners after saving checkpoint 11...\n",
      "INFO:tensorflow:Loss for final step: 3831983.0.\n",
      "delta: [[ 11.017181 -18.855774]\n",
      " [ 43.30191   16.395111]\n",
      " [ -8.759003 -46.198547]\n",
      " [ 43.256958  -1.034729]\n",
      " [ 17.919495 -17.586365]]\n",
      "INFO:tensorflow:Calling model_fn.\n",
      "INFO:tensorflow:Done calling model_fn.\n",
      "INFO:tensorflow:Starting evaluation at 2022-02-20T01:15:59\n",
      "INFO:tensorflow:Graph was finalized.\n",
      "INFO:tensorflow:Restoring parameters from C:\\Users\\jatin\\AppData\\Local\\Temp\\tmp8jpslhj0\\model.ckpt-11\n",
      "INFO:tensorflow:Running local_init_op.\n",
      "INFO:tensorflow:Done running local_init_op.\n",
      "INFO:tensorflow:Evaluation [1/1]\n",
      "INFO:tensorflow:Inference Time : 0.23963s\n",
      "INFO:tensorflow:Finished evaluation at 2022-02-20-01:15:59\n",
      "INFO:tensorflow:Saving dict for global step 11: global_step = 11, loss = 3580650.0, score = 3580650.0\n",
      "INFO:tensorflow:Saving 'checkpoint_path' summary for global step 11: C:\\Users\\jatin\\AppData\\Local\\Temp\\tmp8jpslhj0\\model.ckpt-11\n",
      "score: 3580650.0\n",
      "INFO:tensorflow:Calling model_fn.\n",
      "INFO:tensorflow:Done calling model_fn.\n",
      "INFO:tensorflow:Create CheckpointSaverHook.\n",
      "INFO:tensorflow:Graph was finalized.\n",
      "INFO:tensorflow:Restoring parameters from C:\\Users\\jatin\\AppData\\Local\\Temp\\tmp8jpslhj0\\model.ckpt-11\n",
      "INFO:tensorflow:Running local_init_op.\n",
      "INFO:tensorflow:Done running local_init_op.\n",
      "INFO:tensorflow:Calling checkpoint listeners before saving checkpoint 11...\n",
      "INFO:tensorflow:Saving checkpoints for 11 into C:\\Users\\jatin\\AppData\\Local\\Temp\\tmp8jpslhj0\\model.ckpt.\n",
      "INFO:tensorflow:Calling checkpoint listeners after saving checkpoint 11...\n",
      "INFO:tensorflow:loss = 3580650.0, step = 12\n",
      "INFO:tensorflow:Calling checkpoint listeners before saving checkpoint 13...\n",
      "INFO:tensorflow:Saving checkpoints for 13 into C:\\Users\\jatin\\AppData\\Local\\Temp\\tmp8jpslhj0\\model.ckpt.\n",
      "INFO:tensorflow:Calling checkpoint listeners after saving checkpoint 13...\n",
      "INFO:tensorflow:Loss for final step: 3580650.0.\n",
      "delta: [[ -4.3425293 -11.806274 ]\n",
      " [ 26.56427    -8.623444 ]\n",
      " [ 11.686478  -14.455231 ]\n",
      " [ 51.405457    7.937378 ]\n",
      " [ -8.63324   -43.51822  ]]\n",
      "INFO:tensorflow:Calling model_fn.\n",
      "INFO:tensorflow:Done calling model_fn.\n",
      "INFO:tensorflow:Starting evaluation at 2022-02-20T01:16:01\n",
      "INFO:tensorflow:Graph was finalized.\n",
      "INFO:tensorflow:Restoring parameters from C:\\Users\\jatin\\AppData\\Local\\Temp\\tmp8jpslhj0\\model.ckpt-13\n",
      "INFO:tensorflow:Running local_init_op.\n",
      "INFO:tensorflow:Done running local_init_op.\n",
      "INFO:tensorflow:Evaluation [1/1]\n",
      "INFO:tensorflow:Inference Time : 0.23857s\n",
      "INFO:tensorflow:Finished evaluation at 2022-02-20-01:16:01\n",
      "INFO:tensorflow:Saving dict for global step 13: global_step = 13, loss = 3419521.2, score = 3419521.2\n",
      "INFO:tensorflow:Saving 'checkpoint_path' summary for global step 13: C:\\Users\\jatin\\AppData\\Local\\Temp\\tmp8jpslhj0\\model.ckpt-13\n",
      "score: 3419521.2\n",
      "INFO:tensorflow:Calling model_fn.\n",
      "INFO:tensorflow:Done calling model_fn.\n",
      "INFO:tensorflow:Create CheckpointSaverHook.\n",
      "INFO:tensorflow:Graph was finalized.\n",
      "INFO:tensorflow:Restoring parameters from C:\\Users\\jatin\\AppData\\Local\\Temp\\tmp8jpslhj0\\model.ckpt-13\n",
      "INFO:tensorflow:Running local_init_op.\n",
      "INFO:tensorflow:Done running local_init_op.\n",
      "INFO:tensorflow:Calling checkpoint listeners before saving checkpoint 13...\n",
      "INFO:tensorflow:Saving checkpoints for 13 into C:\\Users\\jatin\\AppData\\Local\\Temp\\tmp8jpslhj0\\model.ckpt.\n",
      "INFO:tensorflow:Calling checkpoint listeners after saving checkpoint 13...\n",
      "INFO:tensorflow:loss = 3419521.2, step = 14\n",
      "INFO:tensorflow:Calling checkpoint listeners before saving checkpoint 15...\n",
      "INFO:tensorflow:Saving checkpoints for 15 into C:\\Users\\jatin\\AppData\\Local\\Temp\\tmp8jpslhj0\\model.ckpt.\n",
      "INFO:tensorflow:Calling checkpoint listeners after saving checkpoint 15...\n",
      "INFO:tensorflow:Loss for final step: 3419521.2.\n",
      "delta: [[  0.          0.       ]\n",
      " [ -5.6833496   5.2364044]\n",
      " [  7.133911  -10.159515 ]\n",
      " [ 10.400757   -1.302063 ]\n",
      " [  2.4263916 -32.701447 ]]\n",
      "INFO:tensorflow:Calling model_fn.\n",
      "INFO:tensorflow:Done calling model_fn.\n",
      "INFO:tensorflow:Starting evaluation at 2022-02-20T01:16:02\n",
      "INFO:tensorflow:Graph was finalized.\n",
      "INFO:tensorflow:Restoring parameters from C:\\Users\\jatin\\AppData\\Local\\Temp\\tmp8jpslhj0\\model.ckpt-15\n",
      "INFO:tensorflow:Running local_init_op.\n",
      "INFO:tensorflow:Done running local_init_op.\n",
      "INFO:tensorflow:Evaluation [1/1]\n",
      "INFO:tensorflow:Inference Time : 0.22646s\n",
      "INFO:tensorflow:Finished evaluation at 2022-02-20-01:16:02\n",
      "INFO:tensorflow:Saving dict for global step 15: global_step = 15, loss = 3367447.5, score = 3367447.5\n",
      "INFO:tensorflow:Saving 'checkpoint_path' summary for global step 15: C:\\Users\\jatin\\AppData\\Local\\Temp\\tmp8jpslhj0\\model.ckpt-15\n",
      "score: 3367447.5\n",
      "INFO:tensorflow:Calling model_fn.\n",
      "INFO:tensorflow:Done calling model_fn.\n",
      "INFO:tensorflow:Create CheckpointSaverHook.\n",
      "INFO:tensorflow:Graph was finalized.\n",
      "INFO:tensorflow:Restoring parameters from C:\\Users\\jatin\\AppData\\Local\\Temp\\tmp8jpslhj0\\model.ckpt-15\n",
      "INFO:tensorflow:Running local_init_op.\n",
      "INFO:tensorflow:Done running local_init_op.\n",
      "INFO:tensorflow:Calling checkpoint listeners before saving checkpoint 15...\n",
      "INFO:tensorflow:Saving checkpoints for 15 into C:\\Users\\jatin\\AppData\\Local\\Temp\\tmp8jpslhj0\\model.ckpt.\n",
      "INFO:tensorflow:Calling checkpoint listeners after saving checkpoint 15...\n"
     ]
    },
    {
     "name": "stdout",
     "output_type": "stream",
     "text": [
      "INFO:tensorflow:loss = 3367447.5, step = 16\n",
      "INFO:tensorflow:Calling checkpoint listeners before saving checkpoint 17...\n",
      "INFO:tensorflow:Saving checkpoints for 17 into C:\\Users\\jatin\\AppData\\Local\\Temp\\tmp8jpslhj0\\model.ckpt.\n",
      "INFO:tensorflow:Calling checkpoint listeners after saving checkpoint 17...\n",
      "INFO:tensorflow:Loss for final step: 3367447.5.\n",
      "delta: [[ -2.463272 -11.866943]\n",
      " [  0.         0.      ]\n",
      " [  1.52005  -11.625214]\n",
      " [  4.923462 -14.537659]\n",
      " [ 14.436157 -19.498962]]\n",
      "INFO:tensorflow:Calling model_fn.\n",
      "INFO:tensorflow:Done calling model_fn.\n",
      "INFO:tensorflow:Starting evaluation at 2022-02-20T01:16:04\n",
      "INFO:tensorflow:Graph was finalized.\n",
      "INFO:tensorflow:Restoring parameters from C:\\Users\\jatin\\AppData\\Local\\Temp\\tmp8jpslhj0\\model.ckpt-17\n",
      "INFO:tensorflow:Running local_init_op.\n",
      "INFO:tensorflow:Done running local_init_op.\n",
      "INFO:tensorflow:Evaluation [1/1]\n",
      "INFO:tensorflow:Inference Time : 0.27524s\n",
      "INFO:tensorflow:Finished evaluation at 2022-02-20-01:16:04\n",
      "INFO:tensorflow:Saving dict for global step 17: global_step = 17, loss = 3340277.2, score = 3340277.2\n",
      "INFO:tensorflow:Saving 'checkpoint_path' summary for global step 17: C:\\Users\\jatin\\AppData\\Local\\Temp\\tmp8jpslhj0\\model.ckpt-17\n",
      "score: 3340277.2\n",
      "INFO:tensorflow:Calling model_fn.\n",
      "INFO:tensorflow:Done calling model_fn.\n",
      "INFO:tensorflow:Create CheckpointSaverHook.\n",
      "INFO:tensorflow:Graph was finalized.\n",
      "INFO:tensorflow:Restoring parameters from C:\\Users\\jatin\\AppData\\Local\\Temp\\tmp8jpslhj0\\model.ckpt-17\n",
      "INFO:tensorflow:Running local_init_op.\n",
      "INFO:tensorflow:Done running local_init_op.\n",
      "INFO:tensorflow:Calling checkpoint listeners before saving checkpoint 17...\n",
      "INFO:tensorflow:Saving checkpoints for 17 into C:\\Users\\jatin\\AppData\\Local\\Temp\\tmp8jpslhj0\\model.ckpt.\n",
      "INFO:tensorflow:Calling checkpoint listeners after saving checkpoint 17...\n",
      "INFO:tensorflow:loss = 3340277.2, step = 18\n",
      "INFO:tensorflow:Calling checkpoint listeners before saving checkpoint 19...\n",
      "INFO:tensorflow:Saving checkpoints for 19 into C:\\Users\\jatin\\AppData\\Local\\Temp\\tmp8jpslhj0\\model.ckpt.\n",
      "INFO:tensorflow:Calling checkpoint listeners after saving checkpoint 19...\n",
      "INFO:tensorflow:Loss for final step: 3340277.2.\n",
      "delta: [[  0.           0.        ]\n",
      " [ 11.128235    -0.88179016]\n",
      " [  8.425827    -5.9963074 ]\n",
      " [ 11.922058    -2.3226318 ]\n",
      " [ -6.411194   -17.752106  ]]\n",
      "INFO:tensorflow:Calling model_fn.\n",
      "INFO:tensorflow:Done calling model_fn.\n",
      "INFO:tensorflow:Starting evaluation at 2022-02-20T01:16:05\n",
      "INFO:tensorflow:Graph was finalized.\n",
      "INFO:tensorflow:Restoring parameters from C:\\Users\\jatin\\AppData\\Local\\Temp\\tmp8jpslhj0\\model.ckpt-19\n",
      "INFO:tensorflow:Running local_init_op.\n",
      "INFO:tensorflow:Done running local_init_op.\n",
      "INFO:tensorflow:Evaluation [1/1]\n",
      "INFO:tensorflow:Inference Time : 0.21657s\n",
      "INFO:tensorflow:Finished evaluation at 2022-02-20-01:16:06\n",
      "INFO:tensorflow:Saving dict for global step 19: global_step = 19, loss = 3325880.5, score = 3325880.5\n",
      "INFO:tensorflow:Saving 'checkpoint_path' summary for global step 19: C:\\Users\\jatin\\AppData\\Local\\Temp\\tmp8jpslhj0\\model.ckpt-19\n",
      "score: 3325880.5\n",
      "cluster centers: [[191.61592 787.24054]\n",
      " [571.2221  215.43547]\n",
      " [188.567   347.00104]\n",
      " [670.55426 811.6546 ]\n",
      " [853.20233 434.05222]]\n",
      "WARNING:tensorflow:Input graph does not use tf.data.Dataset or contain a QueueRunner. That means predict yields forever. This is probably a mistake.\n",
      "INFO:tensorflow:Calling model_fn.\n",
      "INFO:tensorflow:Done calling model_fn.\n",
      "INFO:tensorflow:Graph was finalized.\n",
      "INFO:tensorflow:Restoring parameters from C:\\Users\\jatin\\AppData\\Local\\Temp\\tmp8jpslhj0\\model.ckpt-19\n",
      "INFO:tensorflow:Running local_init_op.\n",
      "INFO:tensorflow:Done running local_init_op.\n",
      "point: [515.38844031 955.68093169] is in cluster 3 centered at [670.55426 811.6546 ]\n",
      "point: [583.81272044 515.49878853] is in cluster 4 centered at [853.20233 434.05222]\n",
      "point: [929.4568555  178.59815534] is in cluster 4 centered at [853.20233 434.05222]\n",
      "point: [858.98919138 491.94345001] is in cluster 4 centered at [853.20233 434.05222]\n",
      "point: [ 60.27199084 110.73382339] is in cluster 2 centered at [188.567   347.00104]\n",
      "point: [311.03968812 963.99427456] is in cluster 0 centered at [191.61592 787.24054]\n",
      "point: [779.07841449 146.56180012] is in cluster 1 centered at [571.2221  215.43547]\n",
      "point: [ 46.7631364 156.2744753] is in cluster 2 centered at [188.567   347.00104]\n",
      "point: [651.90827105 734.67252473] is in cluster 3 centered at [670.55426 811.6546 ]\n",
      "point: [438.05553206 831.3230608 ] is in cluster 3 centered at [670.55426 811.6546 ]\n",
      "point: [758.64625245 526.72993524] is in cluster 4 centered at [853.20233 434.05222]\n",
      "point: [233.97111158 712.04718543] is in cluster 0 centered at [191.61592 787.24054]\n",
      "point: [124.59846086 610.2074438 ] is in cluster 0 centered at [191.61592 787.24054]\n",
      "point: [533.1636928  232.31736787] is in cluster 1 centered at [571.2221  215.43547]\n",
      "point: [782.30429918 380.38266946] is in cluster 4 centered at [853.20233 434.05222]\n",
      "point: [788.23970552 494.6026863 ] is in cluster 4 centered at [853.20233 434.05222]\n",
      "point: [147.22446762 424.14437126] is in cluster 2 centered at [188.567   347.00104]\n",
      "point: [171.33678104 127.1198339 ] is in cluster 2 centered at [188.567   347.00104]\n",
      "point: [314.1656878  171.59228164] is in cluster 2 centered at [188.567   347.00104]\n",
      "point: [856.63472853 971.4086786 ] is in cluster 3 centered at [670.55426 811.6546 ]\n",
      "point: [631.92227813 594.25172877] is in cluster 3 centered at [670.55426 811.6546 ]\n",
      "point: [875.71764297 439.76450819] is in cluster 4 centered at [853.20233 434.05222]\n",
      "point: [271.77494291 395.52045774] is in cluster 2 centered at [188.567   347.00104]\n",
      "point: [864.33212264 497.17462192] is in cluster 4 centered at [853.20233 434.05222]\n",
      "point: [ 11.95280283 831.31012262] is in cluster 0 centered at [191.61592 787.24054]\n",
      "point: [443.08948615 849.50880598] is in cluster 3 centered at [670.55426 811.6546 ]\n",
      "point: [618.98449693 405.8917483 ] is in cluster 1 centered at [571.2221  215.43547]\n",
      "point: [873.81292282 283.29958686] is in cluster 4 centered at [853.20233 434.05222]\n",
      "point: [561.90084747  75.61961787] is in cluster 1 centered at [571.2221  215.43547]\n",
      "point: [660.55601786 638.75592885] is in cluster 3 centered at [670.55426 811.6546 ]\n",
      "point: [135.48480218 672.92714743] is in cluster 0 centered at [191.61592 787.24054]\n",
      "point: [120.55681817 816.36363563] is in cluster 0 centered at [191.61592 787.24054]\n",
      "point: [227.96866922 990.772103  ] is in cluster 0 centered at [191.61592 787.24054]\n",
      "point: [603.65280778 608.74398661] is in cluster 3 centered at [670.55426 811.6546 ]\n",
      "point: [751.74575404 761.20078905] is in cluster 3 centered at [670.55426 811.6546 ]\n",
      "point: [560.56812735 974.1258917 ] is in cluster 3 centered at [670.55426 811.6546 ]\n",
      "point: [285.41629736 720.12279926] is in cluster 0 centered at [191.61592 787.24054]\n",
      "point: [45.76890295 74.23902353] is in cluster 2 centered at [188.567   347.00104]\n",
      "point: [214.96719929 643.69580425] is in cluster 0 centered at [191.61592 787.24054]\n",
      "point: [335.83857477  86.81310728] is in cluster 1 centered at [571.2221  215.43547]\n",
      "point: [179.73492517 527.76950284] is in cluster 2 centered at [188.567   347.00104]\n",
      "point: [395.79925729 178.82741637] is in cluster 1 centered at [571.2221  215.43547]\n",
      "point: [348.65783534 233.07125601] is in cluster 2 centered at [188.567   347.00104]\n",
      "point: [737.35183582 183.33212592] is in cluster 1 centered at [571.2221  215.43547]\n",
      "point: [280.83975713 540.71149441] is in cluster 2 centered at [188.567   347.00104]\n",
      "point: [123.00259742 548.33395831] is in cluster 2 centered at [188.567   347.00104]\n",
      "point: [321.91916264 969.26613032] is in cluster 0 centered at [191.61592 787.24054]\n",
      "point: [  0.87065443 189.84351165] is in cluster 2 centered at [188.567   347.00104]\n",
      "point: [406.40784359 539.71572514] is in cluster 2 centered at [188.567   347.00104]\n",
      "point: [931.05486292 145.8415436 ] is in cluster 4 centered at [853.20233 434.05222]\n",
      "point: [675.7731956 109.2529835] is in cluster 1 centered at [571.2221  215.43547]\n",
      "point: [995.29053292 390.10410069] is in cluster 4 centered at [853.20233 434.05222]\n",
      "point: [336.1169079 714.1508364] is in cluster 0 centered at [191.61592 787.24054]\n",
      "point: [798.58204271 699.33632516] is in cluster 3 centered at [670.55426 811.6546 ]\n"
     ]
    },
    {
     "name": "stdout",
     "output_type": "stream",
     "text": [
      "point: [566.90295506 363.82224562] is in cluster 1 centered at [571.2221  215.43547]\n",
      "point: [968.60423116 753.58976437] is in cluster 3 centered at [670.55426 811.6546 ]\n",
      "point: [689.72601595  39.7585682 ] is in cluster 1 centered at [571.2221  215.43547]\n",
      "point: [ 36.02488674 433.04410093] is in cluster 2 centered at [188.567   347.00104]\n",
      "point: [673.83697128 358.74241319] is in cluster 1 centered at [571.2221  215.43547]\n",
      "point: [149.74018752 585.50154693] is in cluster 0 centered at [191.61592 787.24054]\n",
      "point: [476.61096386 656.17868856] is in cluster 3 centered at [670.55426 811.6546 ]\n",
      "point: [573.77222618 723.71369064] is in cluster 3 centered at [670.55426 811.6546 ]\n",
      "point: [491.55564546 224.64794197] is in cluster 1 centered at [571.2221  215.43547]\n",
      "point: [520.18665719  73.22183778] is in cluster 1 centered at [571.2221  215.43547]\n",
      "point: [504.09829886 210.41545023] is in cluster 1 centered at [571.2221  215.43547]\n",
      "point: [920.05752031 642.99517744] is in cluster 4 centered at [853.20233 434.05222]\n",
      "point: [468.20831143 796.13642241] is in cluster 3 centered at [670.55426 811.6546 ]\n",
      "point: [485.2551085 220.9496902] is in cluster 1 centered at [571.2221  215.43547]\n",
      "point: [777.09749321 982.25067297] is in cluster 3 centered at [670.55426 811.6546 ]\n",
      "point: [346.64117863 335.55771649] is in cluster 2 centered at [188.567   347.00104]\n",
      "point: [925.83811979 943.65850567] is in cluster 3 centered at [670.55426 811.6546 ]\n",
      "point: [236.7494421  336.18147662] is in cluster 2 centered at [188.567   347.00104]\n",
      "point: [346.95299124 420.89387288] is in cluster 2 centered at [188.567   347.00104]\n",
      "point: [830.98910467 988.2917777 ] is in cluster 3 centered at [670.55426 811.6546 ]\n",
      "point: [979.11594264 536.20267558] is in cluster 4 centered at [853.20233 434.05222]\n",
      "point: [216.01427387 355.66902   ] is in cluster 2 centered at [188.567   347.00104]\n",
      "point: [158.85271994 854.9883321 ] is in cluster 0 centered at [191.61592 787.24054]\n",
      "point: [107.20838798 744.700706  ] is in cluster 0 centered at [191.61592 787.24054]\n",
      "point: [125.44151799 548.29929058] is in cluster 2 centered at [188.567   347.00104]\n",
      "point: [554.20849762 432.31996705] is in cluster 1 centered at [571.2221  215.43547]\n",
      "point: [585.7101833  903.73508099] is in cluster 3 centered at [670.55426 811.6546 ]\n",
      "point: [529.99109267 659.92009137] is in cluster 3 centered at [670.55426 811.6546 ]\n",
      "point: [898.44812384 455.42526931] is in cluster 4 centered at [853.20233 434.05222]\n",
      "point: [256.3183436  794.35252511] is in cluster 0 centered at [191.61592 787.24054]\n",
      "point: [ 76.52638967 866.45081802] is in cluster 0 centered at [191.61592 787.24054]\n",
      "point: [575.56789217 279.9613324 ] is in cluster 1 centered at [571.2221  215.43547]\n",
      "point: [561.34329764 284.51077476] is in cluster 1 centered at [571.2221  215.43547]\n",
      "point: [601.56029767 749.87977484] is in cluster 3 centered at [670.55426 811.6546 ]\n",
      "point: [168.39379425 933.12134722] is in cluster 0 centered at [191.61592 787.24054]\n",
      "point: [882.52646672 799.87084585] is in cluster 3 centered at [670.55426 811.6546 ]\n",
      "point: [208.05492196 746.35720085] is in cluster 0 centered at [191.61592 787.24054]\n",
      "point: [955.89173096 962.92666631] is in cluster 3 centered at [670.55426 811.6546 ]\n",
      "point: [592.64820609 186.30776365] is in cluster 1 centered at [571.2221  215.43547]\n",
      "point: [805.2274142  547.13965871] is in cluster 4 centered at [853.20233 434.05222]\n",
      "point: [819.69094333 553.56449974] is in cluster 4 centered at [853.20233 434.05222]\n",
      "point: [840.24205274 299.62134776] is in cluster 4 centered at [853.20233 434.05222]\n",
      "point: [956.24526878 916.79731857] is in cluster 3 centered at [670.55426 811.6546 ]\n",
      "point: [ 66.6966542  471.30629139] is in cluster 2 centered at [188.567   347.00104]\n",
      "point: [551.10752594 737.99158421] is in cluster 3 centered at [670.55426 811.6546 ]\n",
      "point: [438.15500073 909.07160163] is in cluster 3 centered at [670.55426 811.6546 ]\n"
     ]
    }
   ],
   "source": [
    "num_points = 100\n",
    "dimensions = 2\n",
    "points = np.random.uniform(0, 1000, [num_points, dimensions])\n",
    "def input_fn():\n",
    "    return tf.compat.v1.train.limit_epochs(tf.convert_to_tensor(points, dtype=tf.float32), num_epochs=1)\n",
    "num_clusters = 5\n",
    "kmeans = tf.compat.v1.estimator.experimental.KMeans(num_clusters=num_clusters, use_mini_batch=False)\n",
    "num_iterations = 10\n",
    "previous_centers = None\n",
    "for _ in range(num_iterations):\n",
    "    kmeans.train(input_fn)\n",
    "    cluster_centers = kmeans.cluster_centers()\n",
    "    if previous_centers is not None:\n",
    "        print('delta:', cluster_centers - previous_centers)\n",
    "    previous_centers = cluster_centers\n",
    "    print('score:', kmeans.score(input_fn))\n",
    "print('cluster centers:', cluster_centers)\n",
    "cluster_indices = list(kmeans.predict_cluster_index(input_fn))\n",
    "for i, point in enumerate(points):\n",
    "    cluster_index = cluster_indices[i]\n",
    "    center = cluster_centers[cluster_index]\n",
    "    print(\"point:\", point, \"is in cluster\", cluster_index, \"centered at\", center)"
   ]
  },
  {
   "cell_type": "code",
   "execution_count": 6,
   "id": "749f318b",
   "metadata": {},
   "outputs": [
    {
     "data": {
      "text/plain": [
       "array([[191.61592, 787.24054],\n",
       "       [571.2221 , 215.43547],\n",
       "       [188.567  , 347.00104],\n",
       "       [670.55426, 811.6546 ],\n",
       "       [853.20233, 434.05222]], dtype=float32)"
      ]
     },
     "execution_count": 6,
     "metadata": {},
     "output_type": "execute_result"
    }
   ],
   "source": [
    "kmeans.cluster_centers()"
   ]
  },
  {
   "cell_type": "code",
   "execution_count": 8,
   "id": "9ba3efb0",
   "metadata": {},
   "outputs": [
    {
     "ename": "NameError",
     "evalue": "name 'numpy_io' is not defined",
     "output_type": "error",
     "traceback": [
      "\u001b[1;31m---------------------------------------------------------------------------\u001b[0m",
      "\u001b[1;31mNameError\u001b[0m                                 Traceback (most recent call last)",
      "\u001b[1;32m<ipython-input-8-fe7fdfd80337>\u001b[0m in \u001b[0;36m<module>\u001b[1;34m\u001b[0m\n\u001b[0;32m      3\u001b[0m \u001b[0mx\u001b[0m \u001b[1;33m=\u001b[0m \u001b[1;33m{\u001b[0m\u001b[1;34m'age'\u001b[0m\u001b[1;33m:\u001b[0m \u001b[0mage\u001b[0m\u001b[1;33m,\u001b[0m \u001b[1;34m'height'\u001b[0m\u001b[1;33m:\u001b[0m\u001b[0mheight\u001b[0m\u001b[1;33m}\u001b[0m\u001b[1;33m\u001b[0m\u001b[1;33m\u001b[0m\u001b[0m\n\u001b[0;32m      4\u001b[0m \u001b[0my\u001b[0m \u001b[1;33m=\u001b[0m \u001b[0mnp\u001b[0m\u001b[1;33m.\u001b[0m\u001b[0marange\u001b[0m\u001b[1;33m(\u001b[0m\u001b[1;33m-\u001b[0m\u001b[1;36m32\u001b[0m\u001b[1;33m,\u001b[0m \u001b[1;33m-\u001b[0m\u001b[1;36m28\u001b[0m\u001b[1;33m)\u001b[0m\u001b[1;33m\u001b[0m\u001b[1;33m\u001b[0m\u001b[0m\n\u001b[1;32m----> 5\u001b[1;33m \u001b[0minput_fn\u001b[0m \u001b[1;33m=\u001b[0m \u001b[0mnumpy_io\u001b[0m\u001b[1;33m.\u001b[0m\u001b[0mnumpy_input_fn\u001b[0m\u001b[1;33m(\u001b[0m\u001b[0mx\u001b[0m\u001b[1;33m,\u001b[0m \u001b[0my\u001b[0m\u001b[1;33m,\u001b[0m \u001b[0mbatch_size\u001b[0m\u001b[1;33m=\u001b[0m\u001b[1;36m2\u001b[0m\u001b[1;33m,\u001b[0m \u001b[0mshuffle\u001b[0m\u001b[1;33m=\u001b[0m\u001b[1;32mFalse\u001b[0m\u001b[1;33m,\u001b[0m \u001b[0mnum_epochs\u001b[0m\u001b[1;33m=\u001b[0m\u001b[1;36m1\u001b[0m\u001b[1;33m)\u001b[0m\u001b[1;33m\u001b[0m\u001b[1;33m\u001b[0m\u001b[0m\n\u001b[0m\u001b[0;32m      6\u001b[0m \u001b[0minput_fn\u001b[0m\u001b[1;33m\u001b[0m\u001b[1;33m\u001b[0m\u001b[0m\n",
      "\u001b[1;31mNameError\u001b[0m: name 'numpy_io' is not defined"
     ]
    }
   ],
   "source": [
    "age = np.arange(4) * 1.0\n",
    "height = np.arange(32, 36)\n",
    "x = {'age': age, 'height':height}\n",
    "y = np.arange(-32, -28)\n",
    "input_fn = numpy_io.numpy_input_fn(x, y, batch_size=2, shuffle=False, num_epochs=1)\n",
    "input_fn"
   ]
  },
  {
   "cell_type": "code",
   "execution_count": 2,
   "id": "b3aca1b9",
   "metadata": {},
   "outputs": [
    {
     "data": {
      "text/plain": [
       "<tf.Tensor: shape=(1, 3, 3, 3), dtype=float32, numpy=\n",
       "array([[[[1., 0., 0.],\n",
       "         [1., 0., 0.],\n",
       "         [1., 0., 0.]],\n",
       "\n",
       "        [[1., 0., 0.],\n",
       "         [0., 0., 0.],\n",
       "         [1., 0., 0.]],\n",
       "\n",
       "        [[1., 0., 0.],\n",
       "         [1., 0., 0.],\n",
       "         [1., 0., 0.]]]], dtype=float32)>"
      ]
     },
     "execution_count": 2,
     "metadata": {},
     "output_type": "execute_result"
    }
   ],
   "source": [
    "img = tf.zeros([1, 3, 3, 3])\n",
    "box = np.array([0, 0, 1, 1])\n",
    "boxes = box.reshape([1, 1, 4])\n",
    "colors = np.array([[1.0, 0.0, 0.0], [0.0, 0.0, 1.0]])\n",
    "tf.image.draw_bounding_boxes(img, boxes, colors)"
   ]
  },
  {
   "cell_type": "code",
   "execution_count": 21,
   "id": "d8b59f8e",
   "metadata": {},
   "outputs": [
    {
     "data": {
      "text/plain": [
       "array([[ 0.,  0.,  5., 13.,  9.,  1.,  0.,  0.],\n",
       "       [ 0.,  0., 13., 15., 10., 15.,  5.,  0.],\n",
       "       [ 0.,  3., 15.,  2.,  0., 11.,  8.,  0.],\n",
       "       [ 0.,  4., 12.,  0.,  0.,  8.,  8.,  0.],\n",
       "       [ 0.,  5.,  8.,  0.,  0.,  9.,  8.,  0.],\n",
       "       [ 0.,  4., 11.,  0.,  1., 12.,  7.,  0.],\n",
       "       [ 0.,  2., 14.,  5., 10., 12.,  0.,  0.],\n",
       "       [ 0.,  0.,  6., 13., 10.,  0.,  0.,  0.]])"
      ]
     },
     "execution_count": 21,
     "metadata": {},
     "output_type": "execute_result"
    }
   ],
   "source": [
    "from sklearn.datasets import load_digits\n",
    "digits = load_digits()\n",
    "digits.images[0]"
   ]
  },
  {
   "cell_type": "code",
   "execution_count": 22,
   "id": "e205904c",
   "metadata": {},
   "outputs": [
    {
     "data": {
      "text/plain": [
       "<matplotlib.image.AxesImage at 0x19c61ee0cd0>"
      ]
     },
     "execution_count": 22,
     "metadata": {},
     "output_type": "execute_result"
    },
    {
     "data": {
      "image/png": "[encoded data removed]",
      "text/plain": [
       "<Figure size 432x288 with 1 Axes>"
      ]
     },
     "metadata": {
      "needs_background": "light"
     },
     "output_type": "display_data"
    }
   ],
   "source": [
    "import matplotlib.pyplot as plt\n",
    "plt.imshow(digits.images[0])"
   ]
  },
  {
   "cell_type": "code",
   "execution_count": 23,
   "id": "a3a86e76",
   "metadata": {},
   "outputs": [],
   "source": [
    "data = np.clip(digits.images[0], 0, 1)"
   ]
  },
  {
   "cell_type": "code",
   "execution_count": 24,
   "id": "6c2fed73",
   "metadata": {},
   "outputs": [
    {
     "data": {
      "text/plain": [
       "array([[0., 0., 1., 1., 1., 1., 0., 0.],\n",
       "       [0., 0., 1., 1., 1., 1., 1., 0.],\n",
       "       [0., 1., 1., 1., 0., 1., 1., 0.],\n",
       "       [0., 1., 1., 0., 0., 1., 1., 0.],\n",
       "       [0., 1., 1., 0., 0., 1., 1., 0.],\n",
       "       [0., 1., 1., 0., 1., 1., 1., 0.],\n",
       "       [0., 1., 1., 1., 1., 1., 0., 0.],\n",
       "       [0., 0., 1., 1., 1., 0., 0., 0.]])"
      ]
     },
     "execution_count": 24,
     "metadata": {},
     "output_type": "execute_result"
    }
   ],
   "source": [
    "data"
   ]
  },
  {
   "cell_type": "code",
   "execution_count": 26,
   "id": "4a3a3610",
   "metadata": {},
   "outputs": [
    {
     "data": {
      "text/plain": [
       "<matplotlib.image.AxesImage at 0x19c61ff5e80>"
      ]
     },
     "execution_count": 26,
     "metadata": {},
     "output_type": "execute_result"
    },
    {
     "data": {
      "image/png": "[encoded data removed]",
      "text/plain": [
       "<Figure size 432x288 with 1 Axes>"
      ]
     },
     "metadata": {
      "needs_background": "light"
     },
     "output_type": "display_data"
    }
   ],
   "source": [
    "plt.imshow(data)"
   ]
  },
  {
   "cell_type": "code",
   "execution_count": 29,
   "id": "a72591df",
   "metadata": {},
   "outputs": [
    {
     "data": {
      "text/plain": [
       "<tf.Variable 'Variable:0' shape=(2, 4) dtype=float32, numpy=\n",
       "array([[0., 1., 2., 3.],\n",
       "       [4., 5., 6., 7.]], dtype=float32)>"
      ]
     },
     "execution_count": 29,
     "metadata": {},
     "output_type": "execute_result"
    }
   ],
   "source": [
    "value = [0, 1, 2, 3, 4, 5, 6, 7]\n",
    "initializer = tf.compat.v1.constant_initializer(value=value, dtype=tf.float32, verify_shape=False)\n",
    "variable = tf.Variable(initializer(shape=[2, 4]))\n",
    "variable"
   ]
  },
  {
   "cell_type": "code",
   "execution_count": 30,
   "id": "f27b9a73",
   "metadata": {},
   "outputs": [
    {
     "data": {
      "text/plain": [
       "<tf.Variable 'Variable:0' shape=(2, 4) dtype=float32, numpy=\n",
       "array([[1., 0., 0., 0.],\n",
       "       [0., 1., 0., 0.]], dtype=float32)>"
      ]
     },
     "execution_count": 30,
     "metadata": {},
     "output_type": "execute_result"
    }
   ],
   "source": [
    "initializer = tf.compat.v1.keras.initializers.Identity()\n",
    "variable = tf.Variable(initializer(shape=[2, 4]))\n",
    "variable"
   ]
  },
  {
   "cell_type": "code",
   "execution_count": 31,
   "id": "9dcc0533",
   "metadata": {},
   "outputs": [
    {
     "data": {
      "text/plain": [
       "<tf.Tensor: shape=(1, 1), dtype=float32, numpy=array([[1.]], dtype=float32)>"
      ]
     },
     "execution_count": 31,
     "metadata": {},
     "output_type": "execute_result"
    }
   ],
   "source": [
    "initializer = tf.keras.initializers.ones()\n",
    "initializer((1, 1))"
   ]
  },
  {
   "cell_type": "code",
   "execution_count": 36,
   "id": "661c3ebf",
   "metadata": {},
   "outputs": [
    {
     "data": {
      "text/plain": [
       "<tf.Variable 'Variable:0' shape=(2, 4) dtype=float32, numpy=\n",
       "array([[ 0.01190293,  0.0950366 , -0.81273806, -0.57470274],\n",
       "       [ 0.7217648 ,  0.41716507, -0.27807412,  0.47718304]],\n",
       "      dtype=float32)>"
      ]
     },
     "execution_count": 36,
     "metadata": {},
     "output_type": "execute_result"
    }
   ],
   "source": [
    "initializer = tf.keras.initializers.Orthogonal()\n",
    "tf.Variable(initializer(shape=[2, 4]))"
   ]
  },
  {
   "cell_type": "code",
   "execution_count": 38,
   "id": "514c1c39",
   "metadata": {},
   "outputs": [
    {
     "data": {
      "text/plain": [
       "<tf.Variable 'Variable:0' shape=(2, 4) dtype=float32, numpy=\n",
       "array([[ 0.79180753, -0.07248124,  0.7314323 , -0.36147568],\n",
       "       [-0.39908713, -0.08405548, -0.07791991,  0.4606575 ]],\n",
       "      dtype=float32)>"
      ]
     },
     "execution_count": 38,
     "metadata": {},
     "output_type": "execute_result"
    }
   ],
   "source": [
    "initializer = tf.keras.initializers.glorot_normal()\n",
    "tf.Variable(initializer(shape=[2, 4]))"
   ]
  },
  {
   "cell_type": "code",
   "execution_count": 39,
   "id": "ee10c63e",
   "metadata": {},
   "outputs": [
    {
     "data": {
      "text/plain": [
       "<tf.Variable 'Variable:0' shape=(2, 4) dtype=float32, numpy=\n",
       "array([[ 0.36510563, -0.21671176,  0.64517784,  0.09702849],\n",
       "       [ 0.02169251, -0.22763443, -0.7834797 ,  0.5113423 ]],\n",
       "      dtype=float32)>"
      ]
     },
     "execution_count": 39,
     "metadata": {},
     "output_type": "execute_result"
    }
   ],
   "source": [
    "initializer = tf.keras.initializers.glorot_uniform()\n",
    "tf.Variable(initializer(shape=[2, 4]))"
   ]
  },
  {
   "cell_type": "code",
   "execution_count": 40,
   "id": "25e9ffdf",
   "metadata": {},
   "outputs": [
    {
     "data": {
      "text/plain": [
       "<tf.Variable 'Variable:0' shape=(2, 4) dtype=float32, numpy=\n",
       "array([[ 1.6427372 , -1.8459024 , -0.89823264, -2.005217  ],\n",
       "       [-0.03518993,  0.32561055, -0.17982066,  0.4885958 ]],\n",
       "      dtype=float32)>"
      ]
     },
     "execution_count": 40,
     "metadata": {},
     "output_type": "execute_result"
    }
   ],
   "source": [
    "initializer = tf.keras.initializers.he_normal()\n",
    "tf.Variable(initializer(shape=[2, 4]))"
   ]
  },
  {
   "cell_type": "code",
   "execution_count": 41,
   "id": "71f1df22",
   "metadata": {},
   "outputs": [
    {
     "data": {
      "text/plain": [
       "<tf.Variable 'Variable:0' shape=(2, 4) dtype=float32, numpy=\n",
       "array([[ 0.28568137,  1.2139128 ,  1.679408  , -1.4107555 ],\n",
       "       [-0.01471436, -0.5364541 ,  1.4401401 ,  1.3156863 ]],\n",
       "      dtype=float32)>"
      ]
     },
     "execution_count": 41,
     "metadata": {},
     "output_type": "execute_result"
    }
   ],
   "source": [
    "initializer = tf.keras.initializers.he_uniform()\n",
    "tf.Variable(initializer(shape=[2, 4]))"
   ]
  },
  {
   "cell_type": "code",
   "execution_count": 42,
   "id": "3e9dce42",
   "metadata": {},
   "outputs": [
    {
     "data": {
      "text/plain": [
       "<tf.Variable 'Variable:0' shape=(2, 4) dtype=float32, numpy=\n",
       "array([[-0.36015964, -0.45816866,  0.26722053,  0.36484218],\n",
       "       [ 0.9693236 , -0.06133451,  0.5514024 ,  0.9193892 ]],\n",
       "      dtype=float32)>"
      ]
     },
     "execution_count": 42,
     "metadata": {},
     "output_type": "execute_result"
    }
   ],
   "source": [
    "initializer = tf.keras.initializers.lecun_normal()\n",
    "tf.Variable(initializer(shape=[2, 4]))"
   ]
  },
  {
   "cell_type": "code",
   "execution_count": 43,
   "id": "a5879ff8",
   "metadata": {},
   "outputs": [
    {
     "data": {
      "text/plain": [
       "<tf.Variable 'Variable:0' shape=(2, 4) dtype=float32, numpy=\n",
       "array([[-0.94675064, -0.34579164,  0.03427982, -0.5729761 ],\n",
       "       [-0.73459893,  0.8522464 , -0.97082996, -0.36450225]],\n",
       "      dtype=float32)>"
      ]
     },
     "execution_count": 43,
     "metadata": {},
     "output_type": "execute_result"
    }
   ],
   "source": [
    "initializer = tf.keras.initializers.lecun_uniform()\n",
    "tf.Variable(initializer(shape=[2, 4]))"
   ]
  },
  {
   "cell_type": "code",
   "execution_count": 46,
   "id": "7d3ab834",
   "metadata": {},
   "outputs": [
    {
     "name": "stdout",
     "output_type": "stream",
     "text": [
      "tf.Tensor([ 3 -1], shape=(2,), dtype=int32)\n"
     ]
    }
   ],
   "source": [
    "keys_tensor = tf.constant([1, 2])\n",
    "vals_tensor = tf.constant([3, 4])\n",
    "input_tensor = tf.constant([1, 5])\n",
    "table = tf.lookup.StaticHashTable(tf.lookup.KeyValueTensorInitializer(keys_tensor, vals_tensor), -1)\n",
    "print(table.lookup(input_tensor))"
   ]
  },
  {
   "cell_type": "code",
   "execution_count": 49,
   "id": "0e511669",
   "metadata": {},
   "outputs": [
    {
     "data": {
      "text/plain": [
       "array([1, 2, 3, 3], dtype=int64)"
      ]
     },
     "execution_count": 49,
     "metadata": {},
     "output_type": "execute_result"
    }
   ],
   "source": [
    "init = tf.lookup.KeyValueTensorInitializer(keys=tf.constant([\"emerson\", \"lake\", \"palmer\"]), \n",
    "                                                            values=tf.constant([1, 2, 3], dtype=tf.int64))\n",
    "table = tf.lookup.StaticVocabularyTable(init, num_oov_buckets=1)\n",
    "input_tensor = tf.constant([\"emerson\", \"lake\", \"palmer\", \"king\"])\n",
    "table[input_tensor].numpy()"
   ]
  },
  {
   "cell_type": "code",
   "execution_count": 51,
   "id": "564b3eec",
   "metadata": {},
   "outputs": [
    {
     "data": {
      "text/plain": [
       "<tf.Tensor: shape=(3,), dtype=float32, numpy=array([0.09003057, 0.24472848, 0.66524094], dtype=float32)>"
      ]
     },
     "execution_count": 51,
     "metadata": {},
     "output_type": "execute_result"
    }
   ],
   "source": [
    "tf.nn.softmax([-1., 0., 1.])"
   ]
  },
  {
   "cell_type": "code",
   "execution_count": 53,
   "id": "cde6151d",
   "metadata": {},
   "outputs": [
    {
     "name": "stdout",
     "output_type": "stream",
     "text": [
      "[0.0, 0.6666667]\n"
     ]
    }
   ],
   "source": [
    "g = tf.Graph()\n",
    "with g.as_default():\n",
    "    logits = [1, 2, 3]\n",
    "    labels = [0, 2, 3]\n",
    "    acc, acc_op = tf.compat.v1.metrics.accuracy(logits, labels)\n",
    "    global_init = tf.compat.v1.global_variables_initializer()\n",
    "    local_init = tf.compat.v1.local_variables_initializer()\n",
    "sess = tf.compat.v1.Session(graph=g)\n",
    "sess.run([global_init, local_init])\n",
    "print(sess.run([acc, acc_op]))"
   ]
  },
  {
   "cell_type": "code",
   "execution_count": 54,
   "id": "d96de29d",
   "metadata": {},
   "outputs": [
    {
     "data": {
      "text/plain": [
       "0.6666667"
      ]
     },
     "execution_count": 54,
     "metadata": {},
     "output_type": "execute_result"
    }
   ],
   "source": [
    "m = tf.keras.metrics.Accuracy()\n",
    "m.update_state([1, 2, 3], [0, 2, 3])\n",
    "m.result().numpy()"
   ]
  },
  {
   "cell_type": "code",
   "execution_count": 55,
   "id": "b13741eb",
   "metadata": {},
   "outputs": [
    {
     "name": "stdout",
     "output_type": "stream",
     "text": [
      "[None, None]\n",
      "2.0\n",
      "2.0\n"
     ]
    }
   ],
   "source": [
    "g = tf.Graph()\n",
    "with g.as_default():\n",
    "    values = [1, 2, 3]\n",
    "    mean, update_op = tf.compat.v1.metrics.mean(values)\n",
    "    global_init = tf.compat.v1.global_variables_initializer()\n",
    "    local_init = tf.compat.v1.local_variables_initializer()\n",
    "sess = tf.compat.v1.Session(graph=g)\n",
    "print(sess.run([global_init, local_init]))\n",
    "print(sess.run(update_op))\n",
    "print(sess.run(mean))"
   ]
  },
  {
   "cell_type": "code",
   "execution_count": 56,
   "id": "15390654",
   "metadata": {},
   "outputs": [
    {
     "data": {
      "text/plain": [
       "2.0"
      ]
     },
     "execution_count": 56,
     "metadata": {},
     "output_type": "execute_result"
    }
   ],
   "source": [
    "m = tf.keras.metrics.Mean()\n",
    "m.update_state([1, 2, 3])\n",
    "m.result().numpy()"
   ]
  },
  {
   "cell_type": "code",
   "execution_count": 2,
   "id": "4c5de043",
   "metadata": {},
   "outputs": [
    {
     "data": {
      "text/plain": [
       "array([[[[10., 14.],\n",
       "         [14., 20.]],\n",
       "\n",
       "        [[18., 26.],\n",
       "         [22., 32.]]]], dtype=float32)"
      ]
     },
     "execution_count": 2,
     "metadata": {},
     "output_type": "execute_result"
    }
   ],
   "source": [
    "x = np.array([\n",
    "    [1., 2.],\n",
    "    [3., 4.],\n",
    "    [5., 6.]\n",
    "], dtype=np.float32).reshape((1, 3, 2, 1))\n",
    "kernel = np.array([\n",
    "    [1., 2.],\n",
    "    [3., 4.]\n",
    "], dtype=np.float32).reshape((2, 1, 1, 2))\n",
    "tf.compat.v1.nn.depthwise_conv2d(x, kernel, strides=[1, 1, 1, 1], padding=\"VALID\").numpy()"
   ]
  },
  {
   "cell_type": "code",
   "execution_count": 3,
   "id": "4e28a7b7",
   "metadata": {},
   "outputs": [
    {
     "data": {
      "text/plain": [
       "array([1.3132617 , 0.31326172, 0.6931472 , 0.31326172, 1.3132617 ,\n",
       "       0.6931472 , 0.6931472 ], dtype=float32)"
      ]
     },
     "execution_count": 3,
     "metadata": {},
     "output_type": "execute_result"
    }
   ],
   "source": [
    "logits = tf.constant([1., -1., 0., 1., -1., 0., 0.])\n",
    "labels = tf.constant([0., 0., 0., 1., 1., 1., 0.5])\n",
    "tf.nn.sigmoid_cross_entropy_with_logits(labels=labels, logits=logits).numpy()"
   ]
  },
  {
   "cell_type": "code",
   "execution_count": 4,
   "id": "1fd0db0c",
   "metadata": {},
   "outputs": [
    {
     "data": {
      "text/plain": [
       "array([ 5, 10])"
      ]
     },
     "execution_count": 4,
     "metadata": {},
     "output_type": "execute_result"
    }
   ],
   "source": [
    "strings = tf.constant([\"Hello\", \"Tensorflow\"])\n",
    "tf.strings.length(strings).numpy()"
   ]
  },
  {
   "cell_type": "code",
   "execution_count": 5,
   "id": "c0a5bc97",
   "metadata": {},
   "outputs": [
    {
     "name": "stdout",
     "output_type": "stream",
     "text": [
      "SparseTensor(indices=tf.Tensor(\n",
      "[[0 0]\n",
      " [0 1]\n",
      " [1 0]\n",
      " [1 1]\n",
      " [1 2]], shape=(5, 2), dtype=int64), values=tf.Tensor([b'Hello' b'World' b'a' b'b' b'c'], shape=(5,), dtype=string), dense_shape=tf.Tensor([2 3], shape=(2,), dtype=int64))\n"
     ]
    }
   ],
   "source": [
    "print(tf.compat.v1.strings.split(['Hello World', 'a b c']))"
   ]
  },
  {
   "cell_type": "code",
   "execution_count": 7,
   "id": "52baa8cf",
   "metadata": {},
   "outputs": [],
   "source": [
    "physical_devices = tf.config.list_physical_devices('CPU')\n",
    "assert len(physical_devices) == 1, \"No CPUs found\"\n",
    "configs = tf.config.get_logical_device_configuration(physical_devices[0])\n",
    "try:\n",
    "    assert configs in None\n",
    "    tf.config.set_logical_device_configuration(physical_devices[0], [tf.config.LogicalDeviceConfiguration(), \n",
    "                                                                    tf.config.LogicalDeviceConfiguration()])\n",
    "    configs = tf.config.get_logical_device_configuration(physical_devices[0])\n",
    "    assert len(configs) == 2\n",
    "except:\n",
    "    pass"
   ]
  },
  {
   "cell_type": "code",
   "execution_count": 8,
   "id": "36ec7bcb",
   "metadata": {},
   "outputs": [],
   "source": [
    "physical_devices = tf.config.list_physical_devices('GPU')\n",
    "try:\n",
    "    tf.config.set_visible_devices([], 'GPU')\n",
    "    visible_devices = tf.config.get_visible_devices()\n",
    "    for device in visible_devices:\n",
    "        assert device.device_type!='GPU'\n",
    "except:\n",
    "    pass"
   ]
  },
  {
   "cell_type": "code",
   "execution_count": 9,
   "id": "204b61d4",
   "metadata": {},
   "outputs": [],
   "source": [
    "logical_devices = tf.config.list_logical_devices('GPU')\n",
    "if len(logical_devices) > 0:\n",
    "    with tf.device(logical_devices[0].name):\n",
    "        one = tf.constant(1)\n",
    "    with tf.device(logical_devices[1].name):\n",
    "        two = tf.constant(2)"
   ]
  },
  {
   "cell_type": "code",
   "execution_count": 10,
   "id": "5eb043d1",
   "metadata": {},
   "outputs": [
    {
     "name": "stdout",
     "output_type": "stream",
     "text": [
      "Num GPUs 0\n"
     ]
    }
   ],
   "source": [
    "physical_devices = tf.config.list_physical_devices('GPU')\n",
    "print(\"Num GPUs\", len(physical_devices))"
   ]
  },
  {
   "cell_type": "code",
   "execution_count": 11,
   "id": "b351138a",
   "metadata": {},
   "outputs": [],
   "source": [
    "def my_func(a):\n",
    "    print(\"Pythn side effect\")\n",
    "    return a + a\n",
    "a_fn = tf.function(my_func)"
   ]
  },
  {
   "cell_type": "code",
   "execution_count": 12,
   "id": "822b543d",
   "metadata": {},
   "outputs": [
    {
     "name": "stdout",
     "output_type": "stream",
     "text": [
      "Pythn side effect\n"
     ]
    },
    {
     "data": {
      "text/plain": [
       "<tf.Tensor: shape=(), dtype=int32, numpy=2>"
      ]
     },
     "execution_count": 12,
     "metadata": {},
     "output_type": "execute_result"
    }
   ],
   "source": [
    "a_fn(tf.constant(1))"
   ]
  },
  {
   "cell_type": "code",
   "execution_count": 13,
   "id": "051d5356",
   "metadata": {},
   "outputs": [
    {
     "name": "stdout",
     "output_type": "stream",
     "text": [
      "Pythn side effect\n"
     ]
    },
    {
     "data": {
      "text/plain": [
       "<tf.Tensor: shape=(), dtype=int32, numpy=4>"
      ]
     },
     "execution_count": 13,
     "metadata": {},
     "output_type": "execute_result"
    }
   ],
   "source": [
    "tf.config.run_functions_eagerly(True)\n",
    "a_fn(tf.constant(2))"
   ]
  },
  {
   "cell_type": "code",
   "execution_count": 14,
   "id": "53aea362",
   "metadata": {},
   "outputs": [
    {
     "name": "stdout",
     "output_type": "stream",
     "text": [
      "Pythn side effect\n"
     ]
    },
    {
     "data": {
      "text/plain": [
       "<tf.Tensor: shape=(), dtype=int32, numpy=4>"
      ]
     },
     "execution_count": 14,
     "metadata": {},
     "output_type": "execute_result"
    }
   ],
   "source": [
    "tf.config.run_functions_eagerly(False)\n",
    "a_fn(2)"
   ]
  },
  {
   "cell_type": "code",
   "execution_count": 15,
   "id": "c635a32f",
   "metadata": {},
   "outputs": [
    {
     "name": "stdout",
     "output_type": "stream",
     "text": [
      "tf.Tensor(\n",
      "[[2.0002 2.0002]\n",
      " [2.0002 2.0002]], shape=(2, 2), dtype=float32)\n",
      "tf.Tensor(\n",
      "[[2.0002 2.0002]\n",
      " [2.0002 2.0002]], shape=(2, 2), dtype=float32)\n"
     ]
    }
   ],
   "source": [
    "x = tf.fill((2, 2), 1.0001)\n",
    "y = tf.fill((2, 2), 1.)\n",
    "print(tf.linalg.matmul(x, y))\n",
    "tf.config.experimental.enable_tensor_float_32_execution(False)\n",
    "print(tf.linalg.matmul(x, y))"
   ]
  },
  {
   "cell_type": "code",
   "execution_count": 4,
   "id": "0375687d",
   "metadata": {},
   "outputs": [],
   "source": [
    "cpu_devices = tf.config.list_physical_devices('CPU')\n",
    "if cpu_devices:\n",
    "    details = tf.config.experimental.get_device_details(cpu_devices[0])\n",
    "    details.get('device_name', \"Unknown CPU\")"
   ]
  },
  {
   "cell_type": "code",
   "execution_count": 6,
   "id": "9b450f97",
   "metadata": {},
   "outputs": [],
   "source": [
    "physical_devices = tf.config.list_physical_devices('CPU')\n",
    "try:\n",
    "    tf.config.experimental.set_memory_growth(physical_devices[0], True)\n",
    "    assert tf.config.experimental.get_memory_growth(physical_devices[0])\n",
    "except:\n",
    "    pass"
   ]
  },
  {
   "cell_type": "code",
   "execution_count": 8,
   "id": "58993be4",
   "metadata": {},
   "outputs": [],
   "source": [
    "if tf.config.list_physical_devices('GPU'):\n",
    "    tf.config.experimental.get_memory_info(\"GPU:0\")"
   ]
  },
  {
   "cell_type": "code",
   "execution_count": 1,
   "id": "2e83c433",
   "metadata": {},
   "outputs": [],
   "source": [
    "import tensorflow as tf\n",
    "import numpy as np"
   ]
  },
  {
   "cell_type": "code",
   "execution_count": 2,
   "id": "727d53ac",
   "metadata": {},
   "outputs": [
    {
     "data": {
      "text/plain": [
       "DatasetSpec(TensorSpec(shape=(), dtype=tf.int64, name=None), TensorShape([]))"
      ]
     },
     "execution_count": 2,
     "metadata": {},
     "output_type": "execute_result"
    }
   ],
   "source": [
    "dataset = tf.data.Dataset.range(3)\n",
    "tf.data.DatasetSpec.from_value(dataset)"
   ]
  },
  {
   "cell_type": "code",
   "execution_count": 3,
   "id": "3377422b",
   "metadata": {},
   "outputs": [
    {
     "name": "stdout",
     "output_type": "stream",
     "text": [
      "tf.Tensor(0, shape=(), dtype=int64)\n",
      "tf.Tensor(1, shape=(), dtype=int64)\n"
     ]
    }
   ],
   "source": [
    "dataset = tf.data.Dataset.range(2)\n",
    "for element in dataset:\n",
    "    print(element)"
   ]
  },
  {
   "cell_type": "code",
   "execution_count": 4,
   "id": "6828f83e",
   "metadata": {},
   "outputs": [
    {
     "name": "stdout",
     "output_type": "stream",
     "text": [
      "tf.Tensor(0, shape=(), dtype=int64)\n",
      "tf.Tensor(1, shape=(), dtype=int64)\n"
     ]
    }
   ],
   "source": [
    "dataset = tf.data.Dataset.range(2)\n",
    "iterator = iter(dataset)\n",
    "print(iterator.get_next())\n",
    "print(iterator.get_next())"
   ]
  },
  {
   "cell_type": "code",
   "execution_count": 5,
   "id": "86cc516a",
   "metadata": {},
   "outputs": [
    {
     "name": "stdout",
     "output_type": "stream",
     "text": [
      "tf.Tensor(True, shape=(), dtype=bool)\n",
      "tf.Tensor(False, shape=(), dtype=bool)\n"
     ]
    }
   ],
   "source": [
    "dataset = tf.data.Dataset.from_tensors(42)\n",
    "iterator = iter(dataset)\n",
    "optional = iterator.get_next_as_optional()\n",
    "print(optional.has_value())\n",
    "optional = iterator.get_next_as_optional()\n",
    "print(optional.has_value())"
   ]
  },
  {
   "cell_type": "code",
   "execution_count": 7,
   "id": "412ec089",
   "metadata": {},
   "outputs": [
    {
     "data": {
      "text/plain": [
       "TensorSpec(shape=(), dtype=tf.int32, name=None)"
      ]
     },
     "execution_count": 7,
     "metadata": {},
     "output_type": "execute_result"
    }
   ],
   "source": [
    "dataset = tf.data.Dataset.from_tensors(42)\n",
    "iterator = iter(dataset)\n",
    "iterator.element_spec"
   ]
  },
  {
   "cell_type": "code",
   "execution_count": 8,
   "id": "abf3d146",
   "metadata": {},
   "outputs": [
    {
     "name": "stdout",
     "output_type": "stream",
     "text": [
      "tf.Tensor(25, shape=(), dtype=int32)\n"
     ]
    }
   ],
   "source": [
    "@tf.function(input_signature=[tf.data.IteratorSpec(tf.TensorSpec(shape=(), dtype=tf.int32, name=None))])\n",
    "def square(iterator):\n",
    "    x = iterator.get_next()\n",
    "    return x * x\n",
    "dataset = tf.data.Dataset.from_tensors(5)\n",
    "iterator = iter(dataset)\n",
    "print(square(iterator))"
   ]
  },
  {
   "cell_type": "code",
   "execution_count": 9,
   "id": "37588696",
   "metadata": {},
   "outputs": [
    {
     "name": "stdout",
     "output_type": "stream",
     "text": [
      "False\n"
     ]
    }
   ],
   "source": [
    "dataset = tf.data.Dataset.range(42)\n",
    "options = tf.data.Options()\n",
    "options.deterministic = False\n",
    "dataset = dataset.with_options(options)\n",
    "print(dataset.options().deterministic)"
   ]
  },
  {
   "cell_type": "code",
   "execution_count": 10,
   "id": "fbb5bfdf",
   "metadata": {},
   "outputs": [
    {
     "data": {
      "text/plain": [
       "[0, 1, 2, 3, 4]"
      ]
     },
     "execution_count": 10,
     "metadata": {},
     "output_type": "execute_result"
    }
   ],
   "source": [
    "dataset = tf.data.experimental.Counter().take(5)\n",
    "list(dataset.as_numpy_iterator())"
   ]
  },
  {
   "cell_type": "code",
   "execution_count": 11,
   "id": "bc88eb8b",
   "metadata": {},
   "outputs": [
    {
     "data": {
      "text/plain": [
       "TensorSpec(shape=(), dtype=tf.int64, name=None)"
      ]
     },
     "execution_count": 11,
     "metadata": {},
     "output_type": "execute_result"
    }
   ],
   "source": [
    "dataset.element_spec"
   ]
  },
  {
   "cell_type": "code",
   "execution_count": 12,
   "id": "62e44691",
   "metadata": {},
   "outputs": [
    {
     "data": {
      "text/plain": [
       "[10, 9, 8, 7, 6]"
      ]
     },
     "execution_count": 12,
     "metadata": {},
     "output_type": "execute_result"
    }
   ],
   "source": [
    "dataset = tf.data.experimental.Counter(start=10, step=-1).take(5)\n",
    "list(dataset.as_numpy_iterator())"
   ]
  },
  {
   "cell_type": "code",
   "execution_count": 14,
   "id": "77200da9",
   "metadata": {},
   "outputs": [
    {
     "data": {
      "text/plain": [
       "array([b'0', b'2', b'4'], dtype=object)"
      ]
     },
     "execution_count": 14,
     "metadata": {},
     "output_type": "execute_result"
    }
   ],
   "source": [
    "keys = tf.data.Dataset.range(100)\n",
    "values = tf.data.Dataset.range(100).map(lambda x: tf.strings.as_string(x * 2))\n",
    "ds = tf.data.Dataset.zip((keys, values))\n",
    "init = tf.data.experimental.DatasetInitializer(ds)\n",
    "table = tf.lookup.StaticHashTable(init, \"\")\n",
    "table.lookup(tf.constant([0, 1, 2], dtype=tf.int64)).numpy()"
   ]
  },
  {
   "cell_type": "code",
   "execution_count": 18,
   "id": "bb4b53d8",
   "metadata": {},
   "outputs": [
    {
     "data": {
      "text/plain": [
       "<tensorflow.python.data.experimental.ops.grouping.Reducer at 0x12c3b5ee490>"
      ]
     },
     "execution_count": 18,
     "metadata": {},
     "output_type": "execute_result"
    }
   ],
   "source": [
    "def init_func(_):\n",
    "    return (0.0, 0.0)\n",
    "def reduce_func(state, value):\n",
    "    return (state[0] + value[\"features\"], state[1] + 1)\n",
    "def finalize_func(s, n):\n",
    "    return s/n\n",
    "reducer = tf.data.experimental.Reducer(init_func, reduce_func, finalize_func)\n",
    "reducer"
   ]
  },
  {
   "cell_type": "code",
   "execution_count": 19,
   "id": "e427c482",
   "metadata": {},
   "outputs": [
    {
     "name": "stdout",
     "output_type": "stream",
     "text": [
      "(None,)\n",
      "<tf.RaggedTensor [[], [0]]>\n",
      "<tf.RaggedTensor [[0, 1], [0, 1, 2]]>\n",
      "<tf.RaggedTensor [[0, 1, 2, 3], [0, 1, 2, 3, 4]]>\n"
     ]
    }
   ],
   "source": [
    "dataset = tf.data.Dataset.from_tensor_slices(np.arange(6))\n",
    "dataset = dataset.map(lambda x: tf.range(x))\n",
    "print(dataset.element_spec.shape)\n",
    "dataset = dataset.apply(tf.data.experimental.dense_to_ragged_batch(batch_size=2))\n",
    "for batch in dataset:\n",
    "    print(batch)"
   ]
  },
  {
   "cell_type": "code",
   "execution_count": 22,
   "id": "6ce19ce7",
   "metadata": {},
   "outputs": [
    {
     "name": "stdout",
     "output_type": "stream",
     "text": [
      "WARNING:tensorflow:Detected `pdb.set_trace()` in user code. The code generated by AutoGraph is not optimized for step-by-step debugging. See https://github.com/tensorflow/tensorflow/blob/master/tensorflow/python/autograph/g3doc/reference/debugging.md.\n",
      "WARNING: Detected `pdb.set_trace()` in user code. The code generated by AutoGraph is not optimized for step-by-step debugging. See https://github.com/tensorflow/tensorflow/blob/master/tensorflow/python/autograph/g3doc/reference/debugging.md.\n",
      "> \u001b[1;32mc:\\users\\jatin\\appdata\\local\\temp\\__autograph_generated_filek4h3a5mb.py\u001b[0m(11)\u001b[0;36mtf__func\u001b[1;34m()\u001b[0m\n",
      "\u001b[1;32m      9 \u001b[1;33m                \u001b[0mretval_\u001b[0m \u001b[1;33m=\u001b[0m \u001b[0mag__\u001b[0m\u001b[1;33m.\u001b[0m\u001b[0mUndefinedReturnValue\u001b[0m\u001b[1;33m(\u001b[0m\u001b[1;33m)\u001b[0m\u001b[1;33m\u001b[0m\u001b[1;33m\u001b[0m\u001b[0m\n",
      "\u001b[0m\u001b[1;32m     10 \u001b[1;33m                \u001b[0mag__\u001b[0m\u001b[1;33m.\u001b[0m\u001b[0mld\u001b[0m\u001b[1;33m(\u001b[0m\u001b[0mpdb\u001b[0m\u001b[1;33m)\u001b[0m\u001b[1;33m.\u001b[0m\u001b[0mset_trace\u001b[0m\u001b[1;33m(\u001b[0m\u001b[1;33m)\u001b[0m\u001b[1;33m\u001b[0m\u001b[1;33m\u001b[0m\u001b[0m\n",
      "\u001b[0m\u001b[1;32m---> 11 \u001b[1;33m                \u001b[0mx\u001b[0m \u001b[1;33m=\u001b[0m \u001b[1;33m(\u001b[0m\u001b[0mag__\u001b[0m\u001b[1;33m.\u001b[0m\u001b[0mld\u001b[0m\u001b[1;33m(\u001b[0m\u001b[0mx\u001b[0m\u001b[1;33m)\u001b[0m \u001b[1;33m+\u001b[0m \u001b[1;36m1\u001b[0m\u001b[1;33m)\u001b[0m\u001b[1;33m\u001b[0m\u001b[1;33m\u001b[0m\u001b[0m\n",
      "\u001b[0m\u001b[1;32m     12 \u001b[1;33m                \u001b[1;32mtry\u001b[0m\u001b[1;33m:\u001b[0m\u001b[1;33m\u001b[0m\u001b[1;33m\u001b[0m\u001b[0m\n",
      "\u001b[0m\u001b[1;32m     13 \u001b[1;33m                    \u001b[0mdo_return\u001b[0m \u001b[1;33m=\u001b[0m \u001b[1;32mTrue\u001b[0m\u001b[1;33m\u001b[0m\u001b[1;33m\u001b[0m\u001b[0m\n",
      "\u001b[0m\n",
      "ipdb> 6\n",
      "6\n",
      "ipdb> print(\"hello\")\n",
      "hello\n",
      "ipdb> exit()\n"
     ]
    },
    {
     "ename": "BdbQuit",
     "evalue": "in user code:\n\n    File \"<ipython-input-22-545bcfb6f09a>\", line 5, in func  *\n        x = x + 1\n    File \"C:\\Users\\jatin\\anaconda3\\lib\\bdb.py\", line 88, in trace_dispatch\n        return self.dispatch_line(frame)\n    File \"C:\\Users\\jatin\\anaconda3\\lib\\bdb.py\", line 113, in dispatch_line\n        if self.quitting: raise BdbQuit\n\n    BdbQuit: \n",
     "output_type": "error",
     "traceback": [
      "\u001b[1;31m---------------------------------------------------------------------------\u001b[0m",
      "\u001b[1;31mBdbQuit\u001b[0m                                   Traceback (most recent call last)",
      "\u001b[1;32m<ipython-input-22-545bcfb6f09a>\u001b[0m in \u001b[0;36m<module>\u001b[1;34m\u001b[0m\n\u001b[0;32m      6\u001b[0m     \u001b[1;32mreturn\u001b[0m \u001b[0mx\u001b[0m\u001b[1;33m\u001b[0m\u001b[1;33m\u001b[0m\u001b[0m\n\u001b[0;32m      7\u001b[0m \u001b[0mdataset\u001b[0m \u001b[1;33m=\u001b[0m \u001b[0mtf\u001b[0m\u001b[1;33m.\u001b[0m\u001b[0mdata\u001b[0m\u001b[1;33m.\u001b[0m\u001b[0mDataset\u001b[0m\u001b[1;33m.\u001b[0m\u001b[0mfrom_tensor_slices\u001b[0m\u001b[1;33m(\u001b[0m\u001b[1;33m[\u001b[0m\u001b[1;36m1\u001b[0m\u001b[1;33m,\u001b[0m \u001b[1;36m2\u001b[0m\u001b[1;33m,\u001b[0m \u001b[1;36m3\u001b[0m\u001b[1;33m]\u001b[0m\u001b[1;33m)\u001b[0m\u001b[1;33m\u001b[0m\u001b[1;33m\u001b[0m\u001b[0m\n\u001b[1;32m----> 8\u001b[1;33m \u001b[0mdataset\u001b[0m \u001b[1;33m=\u001b[0m \u001b[0mdataset\u001b[0m\u001b[1;33m.\u001b[0m\u001b[0mmap\u001b[0m\u001b[1;33m(\u001b[0m\u001b[0mfunc\u001b[0m\u001b[1;33m)\u001b[0m\u001b[1;33m\u001b[0m\u001b[1;33m\u001b[0m\u001b[0m\n\u001b[0m\u001b[0;32m      9\u001b[0m \u001b[1;32mfor\u001b[0m \u001b[0mitem\u001b[0m \u001b[1;32min\u001b[0m \u001b[0mdataset\u001b[0m\u001b[1;33m:\u001b[0m\u001b[1;33m\u001b[0m\u001b[1;33m\u001b[0m\u001b[0m\n\u001b[0;32m     10\u001b[0m     \u001b[0mprint\u001b[0m\u001b[1;33m(\u001b[0m\u001b[0mitem\u001b[0m\u001b[1;33m)\u001b[0m\u001b[1;33m\u001b[0m\u001b[1;33m\u001b[0m\u001b[0m\n",
      "\u001b[1;32m~\\anaconda3\\lib\\site-packages\\tensorflow\\python\\data\\ops\\dataset_ops.py\u001b[0m in \u001b[0;36mmap\u001b[1;34m(self, map_func, num_parallel_calls, deterministic, name)\u001b[0m\n\u001b[0;32m   2014\u001b[0m         warnings.warn(\"The `deterministic` argument has no effect unless the \"\n\u001b[0;32m   2015\u001b[0m                       \"`num_parallel_calls` argument is specified.\")\n\u001b[1;32m-> 2016\u001b[1;33m       \u001b[1;32mreturn\u001b[0m \u001b[0mMapDataset\u001b[0m\u001b[1;33m(\u001b[0m\u001b[0mself\u001b[0m\u001b[1;33m,\u001b[0m \u001b[0mmap_func\u001b[0m\u001b[1;33m,\u001b[0m \u001b[0mpreserve_cardinality\u001b[0m\u001b[1;33m=\u001b[0m\u001b[1;32mTrue\u001b[0m\u001b[1;33m,\u001b[0m \u001b[0mname\u001b[0m\u001b[1;33m=\u001b[0m\u001b[0mname\u001b[0m\u001b[1;33m)\u001b[0m\u001b[1;33m\u001b[0m\u001b[1;33m\u001b[0m\u001b[0m\n\u001b[0m\u001b[0;32m   2017\u001b[0m     \u001b[1;32melse\u001b[0m\u001b[1;33m:\u001b[0m\u001b[1;33m\u001b[0m\u001b[1;33m\u001b[0m\u001b[0m\n\u001b[0;32m   2018\u001b[0m       return ParallelMapDataset(\n",
      "\u001b[1;32m~\\anaconda3\\lib\\site-packages\\tensorflow\\python\\data\\ops\\dataset_ops.py\u001b[0m in \u001b[0;36m__init__\u001b[1;34m(self, input_dataset, map_func, use_inter_op_parallelism, preserve_cardinality, use_legacy_function, name)\u001b[0m\n\u001b[0;32m   5189\u001b[0m     \u001b[0mself\u001b[0m\u001b[1;33m.\u001b[0m\u001b[0m_use_inter_op_parallelism\u001b[0m \u001b[1;33m=\u001b[0m \u001b[0muse_inter_op_parallelism\u001b[0m\u001b[1;33m\u001b[0m\u001b[1;33m\u001b[0m\u001b[0m\n\u001b[0;32m   5190\u001b[0m     \u001b[0mself\u001b[0m\u001b[1;33m.\u001b[0m\u001b[0m_preserve_cardinality\u001b[0m \u001b[1;33m=\u001b[0m \u001b[0mpreserve_cardinality\u001b[0m\u001b[1;33m\u001b[0m\u001b[1;33m\u001b[0m\u001b[0m\n\u001b[1;32m-> 5191\u001b[1;33m     self._map_func = structured_function.StructuredFunctionWrapper(\n\u001b[0m\u001b[0;32m   5192\u001b[0m         \u001b[0mmap_func\u001b[0m\u001b[1;33m,\u001b[0m\u001b[1;33m\u001b[0m\u001b[1;33m\u001b[0m\u001b[0m\n\u001b[0;32m   5193\u001b[0m         \u001b[0mself\u001b[0m\u001b[1;33m.\u001b[0m\u001b[0m_transformation_name\u001b[0m\u001b[1;33m(\u001b[0m\u001b[1;33m)\u001b[0m\u001b[1;33m,\u001b[0m\u001b[1;33m\u001b[0m\u001b[1;33m\u001b[0m\u001b[0m\n",
      "\u001b[1;32m~\\anaconda3\\lib\\site-packages\\tensorflow\\python\\data\\ops\\structured_function.py\u001b[0m in \u001b[0;36m__init__\u001b[1;34m(self, func, transformation_name, dataset, input_classes, input_shapes, input_types, input_structure, add_to_graph, use_legacy_function, defun_kwargs)\u001b[0m\n\u001b[0;32m    259\u001b[0m       \u001b[0mdefun_kwargs\u001b[0m\u001b[1;33m.\u001b[0m\u001b[0mupdate\u001b[0m\u001b[1;33m(\u001b[0m\u001b[1;33m{\u001b[0m\u001b[1;34m\"_tf_data_function\"\u001b[0m\u001b[1;33m:\u001b[0m \u001b[1;32mTrue\u001b[0m\u001b[1;33m}\u001b[0m\u001b[1;33m)\u001b[0m\u001b[1;33m\u001b[0m\u001b[1;33m\u001b[0m\u001b[0m\n\u001b[0;32m    260\u001b[0m       \u001b[1;32mif\u001b[0m \u001b[0mdataset_ops\u001b[0m\u001b[1;33m.\u001b[0m\u001b[0mDEBUG_MODE\u001b[0m\u001b[1;33m:\u001b[0m\u001b[1;33m\u001b[0m\u001b[1;33m\u001b[0m\u001b[0m\n\u001b[1;32m--> 261\u001b[1;33m         \u001b[0mfn_factory\u001b[0m \u001b[1;33m=\u001b[0m \u001b[0mtrace_py_function\u001b[0m\u001b[1;33m(\u001b[0m\u001b[0mdefun_kwargs\u001b[0m\u001b[1;33m)\u001b[0m\u001b[1;33m\u001b[0m\u001b[1;33m\u001b[0m\u001b[0m\n\u001b[0m\u001b[0;32m    262\u001b[0m       \u001b[1;32melse\u001b[0m\u001b[1;33m:\u001b[0m\u001b[1;33m\u001b[0m\u001b[1;33m\u001b[0m\u001b[0m\n\u001b[0;32m    263\u001b[0m         \u001b[1;32mif\u001b[0m \u001b[0mdef_function\u001b[0m\u001b[1;33m.\u001b[0m\u001b[0mfunctions_run_eagerly\u001b[0m\u001b[1;33m(\u001b[0m\u001b[1;33m)\u001b[0m\u001b[1;33m:\u001b[0m\u001b[1;33m\u001b[0m\u001b[1;33m\u001b[0m\u001b[0m\n",
      "\u001b[1;32m~\\anaconda3\\lib\\site-packages\\tensorflow\\python\\data\\ops\\structured_function.py\u001b[0m in \u001b[0;36mtrace_py_function\u001b[1;34m(defun_kwargs)\u001b[0m\n\u001b[0;32m    211\u001b[0m         \u001b[1;32mreturn\u001b[0m \u001b[1;33m[\u001b[0m\u001b[0mops\u001b[0m\u001b[1;33m.\u001b[0m\u001b[0mconvert_to_tensor\u001b[0m\u001b[1;33m(\u001b[0m\u001b[0mt\u001b[0m\u001b[1;33m)\u001b[0m \u001b[1;32mfor\u001b[0m \u001b[0mt\u001b[0m \u001b[1;32min\u001b[0m \u001b[0mret\u001b[0m\u001b[1;33m]\u001b[0m\u001b[1;33m\u001b[0m\u001b[1;33m\u001b[0m\u001b[0m\n\u001b[0;32m    212\u001b[0m \u001b[1;33m\u001b[0m\u001b[0m\n\u001b[1;32m--> 213\u001b[1;33m       \u001b[0m_\u001b[0m \u001b[1;33m=\u001b[0m \u001b[0munused\u001b[0m\u001b[1;33m.\u001b[0m\u001b[0mget_concrete_function\u001b[0m\u001b[1;33m(\u001b[0m\u001b[1;33m)\u001b[0m\u001b[1;33m\u001b[0m\u001b[1;33m\u001b[0m\u001b[0m\n\u001b[0m\u001b[0;32m    214\u001b[0m \u001b[1;33m\u001b[0m\u001b[0m\n\u001b[0;32m    215\u001b[0m       \u001b[1;32mdef\u001b[0m \u001b[0mpy_function_wrapper\u001b[0m\u001b[1;33m(\u001b[0m\u001b[1;33m*\u001b[0m\u001b[0margs\u001b[0m\u001b[1;33m)\u001b[0m\u001b[1;33m:\u001b[0m\u001b[1;33m\u001b[0m\u001b[1;33m\u001b[0m\u001b[0m\n",
      "\u001b[1;32m~\\anaconda3\\lib\\site-packages\\tensorflow\\python\\eager\\function.py\u001b[0m in \u001b[0;36mget_concrete_function\u001b[1;34m(self, *args, **kwargs)\u001b[0m\n\u001b[0;32m   3068\u001b[0m          \u001b[1;32mor\u001b[0m\u001b[0;31m \u001b[0m\u001b[0;31m`\u001b[0m\u001b[0mtf\u001b[0m\u001b[1;33m.\u001b[0m\u001b[0mTensor\u001b[0m\u001b[0;31m`\u001b[0m \u001b[1;32mor\u001b[0m\u001b[0;31m \u001b[0m\u001b[0;31m`\u001b[0m\u001b[0mtf\u001b[0m\u001b[1;33m.\u001b[0m\u001b[0mTensorSpec\u001b[0m\u001b[0;31m`\u001b[0m\u001b[1;33m.\u001b[0m\u001b[1;33m\u001b[0m\u001b[1;33m\u001b[0m\u001b[0m\n\u001b[0;32m   3069\u001b[0m     \"\"\"\n\u001b[1;32m-> 3070\u001b[1;33m     graph_function = self._get_concrete_function_garbage_collected(\n\u001b[0m\u001b[0;32m   3071\u001b[0m         *args, **kwargs)\n\u001b[0;32m   3072\u001b[0m     \u001b[0mgraph_function\u001b[0m\u001b[1;33m.\u001b[0m\u001b[0m_garbage_collector\u001b[0m\u001b[1;33m.\u001b[0m\u001b[0mrelease\u001b[0m\u001b[1;33m(\u001b[0m\u001b[1;33m)\u001b[0m  \u001b[1;31m# pylint: disable=protected-access\u001b[0m\u001b[1;33m\u001b[0m\u001b[1;33m\u001b[0m\u001b[0m\n",
      "\u001b[1;32m~\\anaconda3\\lib\\site-packages\\tensorflow\\python\\eager\\function.py\u001b[0m in \u001b[0;36m_get_concrete_function_garbage_collected\u001b[1;34m(self, *args, **kwargs)\u001b[0m\n\u001b[0;32m   3034\u001b[0m       \u001b[0margs\u001b[0m\u001b[1;33m,\u001b[0m \u001b[0mkwargs\u001b[0m \u001b[1;33m=\u001b[0m \u001b[1;32mNone\u001b[0m\u001b[1;33m,\u001b[0m \u001b[1;32mNone\u001b[0m\u001b[1;33m\u001b[0m\u001b[1;33m\u001b[0m\u001b[0m\n\u001b[0;32m   3035\u001b[0m     \u001b[1;32mwith\u001b[0m \u001b[0mself\u001b[0m\u001b[1;33m.\u001b[0m\u001b[0m_lock\u001b[0m\u001b[1;33m:\u001b[0m\u001b[1;33m\u001b[0m\u001b[1;33m\u001b[0m\u001b[0m\n\u001b[1;32m-> 3036\u001b[1;33m       \u001b[0mgraph_function\u001b[0m\u001b[1;33m,\u001b[0m \u001b[0m_\u001b[0m \u001b[1;33m=\u001b[0m \u001b[0mself\u001b[0m\u001b[1;33m.\u001b[0m\u001b[0m_maybe_define_function\u001b[0m\u001b[1;33m(\u001b[0m\u001b[0margs\u001b[0m\u001b[1;33m,\u001b[0m \u001b[0mkwargs\u001b[0m\u001b[1;33m)\u001b[0m\u001b[1;33m\u001b[0m\u001b[1;33m\u001b[0m\u001b[0m\n\u001b[0m\u001b[0;32m   3037\u001b[0m       \u001b[0mseen_names\u001b[0m \u001b[1;33m=\u001b[0m \u001b[0mset\u001b[0m\u001b[1;33m(\u001b[0m\u001b[1;33m)\u001b[0m\u001b[1;33m\u001b[0m\u001b[1;33m\u001b[0m\u001b[0m\n\u001b[0;32m   3038\u001b[0m       captured = object_identity.ObjectIdentitySet(\n",
      "\u001b[1;32m~\\anaconda3\\lib\\site-packages\\tensorflow\\python\\eager\\function.py\u001b[0m in \u001b[0;36m_maybe_define_function\u001b[1;34m(self, args, kwargs)\u001b[0m\n\u001b[0;32m   3290\u001b[0m \u001b[1;33m\u001b[0m\u001b[0m\n\u001b[0;32m   3291\u001b[0m           \u001b[0mself\u001b[0m\u001b[1;33m.\u001b[0m\u001b[0m_function_cache\u001b[0m\u001b[1;33m.\u001b[0m\u001b[0madd_call_context\u001b[0m\u001b[1;33m(\u001b[0m\u001b[0mcache_key\u001b[0m\u001b[1;33m.\u001b[0m\u001b[0mcall_context\u001b[0m\u001b[1;33m)\u001b[0m\u001b[1;33m\u001b[0m\u001b[1;33m\u001b[0m\u001b[0m\n\u001b[1;32m-> 3292\u001b[1;33m           \u001b[0mgraph_function\u001b[0m \u001b[1;33m=\u001b[0m \u001b[0mself\u001b[0m\u001b[1;33m.\u001b[0m\u001b[0m_create_graph_function\u001b[0m\u001b[1;33m(\u001b[0m\u001b[0margs\u001b[0m\u001b[1;33m,\u001b[0m \u001b[0mkwargs\u001b[0m\u001b[1;33m)\u001b[0m\u001b[1;33m\u001b[0m\u001b[1;33m\u001b[0m\u001b[0m\n\u001b[0m\u001b[0;32m   3293\u001b[0m           self._function_cache.add(cache_key, cache_key_deletion_observer,\n\u001b[0;32m   3294\u001b[0m                                    graph_function)\n",
      "\u001b[1;32m~\\anaconda3\\lib\\site-packages\\tensorflow\\python\\eager\\function.py\u001b[0m in \u001b[0;36m_create_graph_function\u001b[1;34m(self, args, kwargs, override_flat_arg_shapes)\u001b[0m\n\u001b[0;32m   3128\u001b[0m     \u001b[0marg_names\u001b[0m \u001b[1;33m=\u001b[0m \u001b[0mbase_arg_names\u001b[0m \u001b[1;33m+\u001b[0m \u001b[0mmissing_arg_names\u001b[0m\u001b[1;33m\u001b[0m\u001b[1;33m\u001b[0m\u001b[0m\n\u001b[0;32m   3129\u001b[0m     graph_function = ConcreteFunction(\n\u001b[1;32m-> 3130\u001b[1;33m         func_graph_module.func_graph_from_py_func(\n\u001b[0m\u001b[0;32m   3131\u001b[0m             \u001b[0mself\u001b[0m\u001b[1;33m.\u001b[0m\u001b[0m_name\u001b[0m\u001b[1;33m,\u001b[0m\u001b[1;33m\u001b[0m\u001b[1;33m\u001b[0m\u001b[0m\n\u001b[0;32m   3132\u001b[0m             \u001b[0mself\u001b[0m\u001b[1;33m.\u001b[0m\u001b[0m_python_function\u001b[0m\u001b[1;33m,\u001b[0m\u001b[1;33m\u001b[0m\u001b[1;33m\u001b[0m\u001b[0m\n",
      "\u001b[1;32m~\\anaconda3\\lib\\site-packages\\tensorflow\\python\\framework\\func_graph.py\u001b[0m in \u001b[0;36mfunc_graph_from_py_func\u001b[1;34m(name, python_func, args, kwargs, signature, func_graph, autograph, autograph_options, add_control_dependencies, arg_names, op_return_value, collections, capture_by_value, override_flat_arg_shapes, acd_record_initial_resource_uses)\u001b[0m\n\u001b[0;32m   1159\u001b[0m         \u001b[0m_\u001b[0m\u001b[1;33m,\u001b[0m \u001b[0moriginal_func\u001b[0m \u001b[1;33m=\u001b[0m \u001b[0mtf_decorator\u001b[0m\u001b[1;33m.\u001b[0m\u001b[0munwrap\u001b[0m\u001b[1;33m(\u001b[0m\u001b[0mpython_func\u001b[0m\u001b[1;33m)\u001b[0m\u001b[1;33m\u001b[0m\u001b[1;33m\u001b[0m\u001b[0m\n\u001b[0;32m   1160\u001b[0m \u001b[1;33m\u001b[0m\u001b[0m\n\u001b[1;32m-> 1161\u001b[1;33m       \u001b[0mfunc_outputs\u001b[0m \u001b[1;33m=\u001b[0m \u001b[0mpython_func\u001b[0m\u001b[1;33m(\u001b[0m\u001b[1;33m*\u001b[0m\u001b[0mfunc_args\u001b[0m\u001b[1;33m,\u001b[0m \u001b[1;33m**\u001b[0m\u001b[0mfunc_kwargs\u001b[0m\u001b[1;33m)\u001b[0m\u001b[1;33m\u001b[0m\u001b[1;33m\u001b[0m\u001b[0m\n\u001b[0m\u001b[0;32m   1162\u001b[0m \u001b[1;33m\u001b[0m\u001b[0m\n\u001b[0;32m   1163\u001b[0m       \u001b[1;31m# invariant: `func_outputs` contains only Tensors, CompositeTensors,\u001b[0m\u001b[1;33m\u001b[0m\u001b[1;33m\u001b[0m\u001b[1;33m\u001b[0m\u001b[0m\n",
      "\u001b[1;32m~\\anaconda3\\lib\\site-packages\\tensorflow\\python\\data\\ops\\structured_function.py\u001b[0m in \u001b[0;36munused\u001b[1;34m(*args)\u001b[0m\n\u001b[0;32m    207\u001b[0m           attributes=defun_kwargs)\n\u001b[0;32m    208\u001b[0m       \u001b[1;32mdef\u001b[0m \u001b[0munused\u001b[0m\u001b[1;33m(\u001b[0m\u001b[1;33m*\u001b[0m\u001b[0margs\u001b[0m\u001b[1;33m)\u001b[0m\u001b[1;33m:\u001b[0m  \u001b[1;31m# pylint: disable=missing-docstring,unused-variable\u001b[0m\u001b[1;33m\u001b[0m\u001b[1;33m\u001b[0m\u001b[0m\n\u001b[1;32m--> 209\u001b[1;33m         \u001b[0mret\u001b[0m \u001b[1;33m=\u001b[0m \u001b[0mwrapper_helper\u001b[0m\u001b[1;33m(\u001b[0m\u001b[1;33m*\u001b[0m\u001b[0margs\u001b[0m\u001b[1;33m)\u001b[0m\u001b[1;33m\u001b[0m\u001b[1;33m\u001b[0m\u001b[0m\n\u001b[0m\u001b[0;32m    210\u001b[0m         \u001b[0mret\u001b[0m \u001b[1;33m=\u001b[0m \u001b[0mstructure\u001b[0m\u001b[1;33m.\u001b[0m\u001b[0mto_tensor_list\u001b[0m\u001b[1;33m(\u001b[0m\u001b[0mself\u001b[0m\u001b[1;33m.\u001b[0m\u001b[0m_output_structure\u001b[0m\u001b[1;33m,\u001b[0m \u001b[0mret\u001b[0m\u001b[1;33m)\u001b[0m\u001b[1;33m\u001b[0m\u001b[1;33m\u001b[0m\u001b[0m\n\u001b[0;32m    211\u001b[0m         \u001b[1;32mreturn\u001b[0m \u001b[1;33m[\u001b[0m\u001b[0mops\u001b[0m\u001b[1;33m.\u001b[0m\u001b[0mconvert_to_tensor\u001b[0m\u001b[1;33m(\u001b[0m\u001b[0mt\u001b[0m\u001b[1;33m)\u001b[0m \u001b[1;32mfor\u001b[0m \u001b[0mt\u001b[0m \u001b[1;32min\u001b[0m \u001b[0mret\u001b[0m\u001b[1;33m]\u001b[0m\u001b[1;33m\u001b[0m\u001b[1;33m\u001b[0m\u001b[0m\n",
      "\u001b[1;32m~\\anaconda3\\lib\\site-packages\\tensorflow\\python\\data\\ops\\structured_function.py\u001b[0m in \u001b[0;36mwrapper_helper\u001b[1;34m(*args)\u001b[0m\n\u001b[0;32m    175\u001b[0m       \u001b[1;32mif\u001b[0m \u001b[1;32mnot\u001b[0m \u001b[0m_should_unpack\u001b[0m\u001b[1;33m(\u001b[0m\u001b[0mnested_args\u001b[0m\u001b[1;33m)\u001b[0m\u001b[1;33m:\u001b[0m\u001b[1;33m\u001b[0m\u001b[1;33m\u001b[0m\u001b[0m\n\u001b[0;32m    176\u001b[0m         \u001b[0mnested_args\u001b[0m \u001b[1;33m=\u001b[0m \u001b[1;33m(\u001b[0m\u001b[0mnested_args\u001b[0m\u001b[1;33m,\u001b[0m\u001b[1;33m)\u001b[0m\u001b[1;33m\u001b[0m\u001b[1;33m\u001b[0m\u001b[0m\n\u001b[1;32m--> 177\u001b[1;33m       \u001b[0mret\u001b[0m \u001b[1;33m=\u001b[0m \u001b[0mautograph\u001b[0m\u001b[1;33m.\u001b[0m\u001b[0mtf_convert\u001b[0m\u001b[1;33m(\u001b[0m\u001b[0mself\u001b[0m\u001b[1;33m.\u001b[0m\u001b[0m_func\u001b[0m\u001b[1;33m,\u001b[0m \u001b[0mag_ctx\u001b[0m\u001b[1;33m)\u001b[0m\u001b[1;33m(\u001b[0m\u001b[1;33m*\u001b[0m\u001b[0mnested_args\u001b[0m\u001b[1;33m)\u001b[0m\u001b[1;33m\u001b[0m\u001b[1;33m\u001b[0m\u001b[0m\n\u001b[0m\u001b[0;32m    178\u001b[0m       \u001b[1;32mif\u001b[0m \u001b[0m_should_pack\u001b[0m\u001b[1;33m(\u001b[0m\u001b[0mret\u001b[0m\u001b[1;33m)\u001b[0m\u001b[1;33m:\u001b[0m\u001b[1;33m\u001b[0m\u001b[1;33m\u001b[0m\u001b[0m\n\u001b[0;32m    179\u001b[0m         \u001b[0mret\u001b[0m \u001b[1;33m=\u001b[0m \u001b[0mtuple\u001b[0m\u001b[1;33m(\u001b[0m\u001b[0mret\u001b[0m\u001b[1;33m)\u001b[0m\u001b[1;33m\u001b[0m\u001b[1;33m\u001b[0m\u001b[0m\n",
      "\u001b[1;32m~\\anaconda3\\lib\\site-packages\\tensorflow\\python\\autograph\\impl\\api.py\u001b[0m in \u001b[0;36mwrapper\u001b[1;34m(*args, **kwargs)\u001b[0m\n\u001b[0;32m    687\u001b[0m       \u001b[1;32mtry\u001b[0m\u001b[1;33m:\u001b[0m\u001b[1;33m\u001b[0m\u001b[1;33m\u001b[0m\u001b[0m\n\u001b[0;32m    688\u001b[0m         \u001b[1;32mwith\u001b[0m \u001b[0mconversion_ctx\u001b[0m\u001b[1;33m:\u001b[0m\u001b[1;33m\u001b[0m\u001b[1;33m\u001b[0m\u001b[0m\n\u001b[1;32m--> 689\u001b[1;33m           \u001b[1;32mreturn\u001b[0m \u001b[0mconverted_call\u001b[0m\u001b[1;33m(\u001b[0m\u001b[0mf\u001b[0m\u001b[1;33m,\u001b[0m \u001b[0margs\u001b[0m\u001b[1;33m,\u001b[0m \u001b[0mkwargs\u001b[0m\u001b[1;33m,\u001b[0m \u001b[0moptions\u001b[0m\u001b[1;33m=\u001b[0m\u001b[0moptions\u001b[0m\u001b[1;33m)\u001b[0m\u001b[1;33m\u001b[0m\u001b[1;33m\u001b[0m\u001b[0m\n\u001b[0m\u001b[0;32m    690\u001b[0m       \u001b[1;32mexcept\u001b[0m \u001b[0mException\u001b[0m \u001b[1;32mas\u001b[0m \u001b[0me\u001b[0m\u001b[1;33m:\u001b[0m  \u001b[1;31m# pylint:disable=broad-except\u001b[0m\u001b[1;33m\u001b[0m\u001b[1;33m\u001b[0m\u001b[0m\n\u001b[0;32m    691\u001b[0m         \u001b[1;32mif\u001b[0m \u001b[0mhasattr\u001b[0m\u001b[1;33m(\u001b[0m\u001b[0me\u001b[0m\u001b[1;33m,\u001b[0m \u001b[1;34m'ag_error_metadata'\u001b[0m\u001b[1;33m)\u001b[0m\u001b[1;33m:\u001b[0m\u001b[1;33m\u001b[0m\u001b[1;33m\u001b[0m\u001b[0m\n",
      "\u001b[1;31mBdbQuit\u001b[0m: in user code:\n\n    File \"<ipython-input-22-545bcfb6f09a>\", line 5, in func  *\n        x = x + 1\n    File \"C:\\Users\\jatin\\anaconda3\\lib\\bdb.py\", line 88, in trace_dispatch\n        return self.dispatch_line(frame)\n    File \"C:\\Users\\jatin\\anaconda3\\lib\\bdb.py\", line 113, in dispatch_line\n        if self.quitting: raise BdbQuit\n\n    BdbQuit: \n"
     ]
    }
   ],
   "source": [
    "import pdb\n",
    "tf.data.experimental.enable_debug_mode()\n",
    "def func(x):\n",
    "    pdb.set_trace()\n",
    "    x = x + 1\n",
    "    return x\n",
    "dataset = tf.data.Dataset.from_tensor_slices([1, 2, 3])\n",
    "dataset = dataset.map(func)\n",
    "for item in dataset:\n",
    "    print(item)"
   ]
  },
  {
   "cell_type": "code",
   "execution_count": 25,
   "id": "88fa02ee",
   "metadata": {},
   "outputs": [],
   "source": [
    "dataset = tf.data.Dataset.from_tensor_slices([1., 2., 0., 4.])\n",
    "dataset = dataset.map(lambda x: tf.debugging.check_numerics(1. / x, \"error\"))\n",
    "dataset = dataset.apply(tf.data.experimental.ignore_errors())"
   ]
  },
  {
   "cell_type": "code",
   "execution_count": 27,
   "id": "a8141d93",
   "metadata": {},
   "outputs": [
    {
     "data": {
      "text/plain": [
       "array([0, 1, 2], dtype=int64)"
      ]
     },
     "execution_count": 27,
     "metadata": {},
     "output_type": "execute_result"
    }
   ],
   "source": [
    "ds = tf.data.Dataset.range(100).map(lambda x: tf.strings.as_string(x * 2))\n",
    "table = tf.data.experimental.index_table_from_dataset(ds, key_dtype=tf.int64)\n",
    "table.lookup(tf.constant(['0', '2', '4'], dtype=tf.string)).numpy()"
   ]
  },
  {
   "cell_type": "code",
   "execution_count": 28,
   "id": "f5f9c6f5",
   "metadata": {},
   "outputs": [
    {
     "name": "stdout",
     "output_type": "stream",
     "text": [
      "tf.Tensor(1, shape=(), dtype=int32)\n",
      "tf.Tensor(2, shape=(), dtype=int32)\n",
      "tf.Tensor(3, shape=(), dtype=int32)\n"
     ]
    }
   ],
   "source": [
    "dataset = tf.data.Dataset.from_tensor_slices([1, 2, 3])\n",
    "dataset = dataset.apply(tf.data.experimental.prefetch_to_device(\"/cpu:0\"))\n",
    "for element in dataset:\n",
    "    print(element)"
   ]
  },
  {
   "cell_type": "code",
   "execution_count": 29,
   "id": "c24a1c5e",
   "metadata": {},
   "outputs": [
    {
     "data": {
      "text/plain": [
       "array([b'0', b'2', b'4'], dtype=object)"
      ]
     },
     "execution_count": 29,
     "metadata": {},
     "output_type": "execute_result"
    }
   ],
   "source": [
    "keys = tf.data.Dataset.range(100)\n",
    "values = tf.data.Dataset.range(100).map(lambda x: tf.strings.as_string(x * 2))\n",
    "ds = tf.data.Dataset.zip((keys, values))\n",
    "table = tf.data.experimental.table_from_dataset(ds, default_value=\"n/a\", key_dtype=tf.int64)\n",
    "table.lookup(tf.constant([0, 1, 2], dtype=tf.int64)).numpy()"
   ]
  },
  {
   "cell_type": "code",
   "execution_count": 34,
   "id": "ecf4a0e7",
   "metadata": {},
   "outputs": [
    {
     "name": "stdout",
     "output_type": "stream",
     "text": [
      "[0, 1, 2, 3, 4, 5, 6, 7, 8, 9]\n"
     ]
    }
   ],
   "source": [
    "dispatcher = tf.data.experimental.service.DispatchServer()\n",
    "dispatcher_address = dispatcher.target.split(\"://\")[1]\n",
    "worker = tf.data.experimental.service.WorkerServer(tf.data.experimental.service.WorkerConfig(\n",
    "    dispatcher_address=dispatcher_address))\n",
    "dataset = tf.data.Dataset.range(10)\n",
    "dataset = dataset.apply(tf.data.experimental.service.distribute(processing_mode=\"parallel_epochs\", \n",
    "                                                                service=dispatcher.target))\n",
    "print(list(dataset.as_numpy_iterator()))"
   ]
  },
  {
   "cell_type": "code",
   "execution_count": 2,
   "id": "53138f16",
   "metadata": {},
   "outputs": [
    {
     "name": "stdout",
     "output_type": "stream",
     "text": [
      "[0, 1, 2, 3, 4, 5, 6, 7, 8, 9, 0, 1, 2, 3, 4, 5, 6, 7, 8, 9]\n"
     ]
    }
   ],
   "source": [
    "dispatcher = tf.data.experimental.service.DispatchServer()\n",
    "dispatcher_address = dispatcher.target.split(\"://\")[1]\n",
    "worker = [tf.data.experimental.service.WorkerServer(tf.data.experimental.service.WorkerConfig(\n",
    "    dispatcher_address=dispatcher_address)) for _ in range(2)]\n",
    "dataset = tf.data.Dataset.range(10)\n",
    "dataset = dataset.apply(tf.data.experimental.service.distribute(processing_mode=\"parallel_epochs\", \n",
    "                                                                service=dispatcher.target))\n",
    "print(list(dataset.as_numpy_iterator()))"
   ]
  },
  {
   "cell_type": "code",
   "execution_count": 3,
   "id": "9f3c5296",
   "metadata": {},
   "outputs": [
    {
     "name": "stdout",
     "output_type": "stream",
     "text": [
      "[0, 1, 2, 3, 4, 6, 5, 7, 9, 8]\n"
     ]
    }
   ],
   "source": [
    "dispatcher = tf.data.experimental.service.DispatchServer()\n",
    "dispatcher_address = dispatcher.target.split(\"://\")[1]\n",
    "worker = [tf.data.experimental.service.WorkerServer(tf.data.experimental.service.WorkerConfig(\n",
    "    dispatcher_address=dispatcher_address)) for _ in range(2)]\n",
    "dataset = tf.data.Dataset.range(10)\n",
    "dataset = dataset.apply(tf.data.experimental.service.distribute(processing_mode=\"distributed_epoch\", \n",
    "                                                                service=dispatcher.target))\n",
    "print(list(dataset.as_numpy_iterator()))"
   ]
  },
  {
   "cell_type": "code",
   "execution_count": 5,
   "id": "20897daf",
   "metadata": {},
   "outputs": [
    {
     "name": "stdout",
     "output_type": "stream",
     "text": [
      "[1, 1, 2, 2, 5, 5, 10, 10, 17, 17]\n"
     ]
    }
   ],
   "source": [
    "dispatcher = tf.data.experimental.service.DispatchServer()\n",
    "dispatcher_address = dispatcher.target.split(\"://\")[1]\n",
    "workers = [tf.data.experimental.service.WorkerServer(tf.data.experimental.service.WorkerConfig(\n",
    "    dispatcher_address=dispatcher_address)) for _ in range(2)]\n",
    "dataset = tf.data.Dataset.range(5)\n",
    "dataset = dataset.map(lambda x: x * x)\n",
    "dataset = dataset.apply(tf.data.experimental.service.distribute(\"parallel_epochs\", dispatcher.target))\n",
    "dataset = dataset.map(lambda x: x + 1)\n",
    "print(sorted(list(dataset.as_numpy_iterator())))"
   ]
  },
  {
   "cell_type": "code",
   "execution_count": null,
   "id": "fd19a9a9",
   "metadata": {},
   "outputs": [],
   "source": [
    "range5_dataset = tf.data.Dataset.range(5)\n",
    "dataset = range5_dataset.apply(tf.data.experimental.service.distribute(\"parallel_epochs\", \"localhost:5000\", \n",
    "                                                                       job_name=\"my_job_name\"))\n",
    "for iteration in range(3):\n",
    "    print(list(dataset))"
   ]
  },
  {
   "cell_type": "code",
   "execution_count": 2,
   "id": "67dd033b",
   "metadata": {},
   "outputs": [],
   "source": [
    "n = 10\n",
    "q = 3\n",
    "d = 7\n",
    "x = tf.zeros([n, q])\n",
    "y = tf.ones([n, d])\n",
    "param = tf.Variable([1.0, 2.0, 3.0])\n",
    "scalar = 1.0\n",
    "tf.debugging.assert_shapes([\n",
    "    (x, ('N', 'Q')),\n",
    "    (y, ('N', 'D')),\n",
    "    (param, ('Q')),\n",
    "    (scalar, ())\n",
    "])"
   ]
  },
  {
   "cell_type": "code",
   "execution_count": 6,
   "id": "78a4ef10",
   "metadata": {},
   "outputs": [],
   "source": [
    "c = tf.Variable(np.inf)\n",
    "try:\n",
    "    tf.debugging.check_numerics(x, message=\"Checking c\")\n",
    "except Exception as e:\n",
    "    assert \"Checking c: Tensor had Inf values\" in e.message"
   ]
  },
  {
   "cell_type": "code",
   "execution_count": 8,
   "id": "94dce47b",
   "metadata": {},
   "outputs": [
    {
     "name": "stdout",
     "output_type": "stream",
     "text": [
      "INFO:tensorflow:Enabled check-numerics callback in thread MainThread\n"
     ]
    },
    {
     "ename": "InvalidArgumentError",
     "evalue": "Graph execution error:\n\nDetected at node 'Log/CheckNumericsV2_1' defined at (most recent call last):\n    File \"C:\\Users\\jatin\\anaconda3\\lib\\runpy.py\", line 194, in _run_module_as_main\n      return _run_code(code, main_globals, None,\n    File \"C:\\Users\\jatin\\anaconda3\\lib\\runpy.py\", line 87, in _run_code\n      exec(code, run_globals)\n    File \"C:\\Users\\jatin\\anaconda3\\lib\\site-packages\\ipykernel_launcher.py\", line 16, in <module>\n      app.launch_new_instance()\n    File \"C:\\Users\\jatin\\anaconda3\\lib\\site-packages\\traitlets\\config\\application.py\", line 845, in launch_instance\n      app.start()\n    File \"C:\\Users\\jatin\\anaconda3\\lib\\site-packages\\ipykernel\\kernelapp.py\", line 612, in start\n      self.io_loop.start()\n    File \"C:\\Users\\jatin\\anaconda3\\lib\\site-packages\\tornado\\platform\\asyncio.py\", line 199, in start\n      self.asyncio_loop.run_forever()\n    File \"C:\\Users\\jatin\\anaconda3\\lib\\asyncio\\base_events.py\", line 570, in run_forever\n      self._run_once()\n    File \"C:\\Users\\jatin\\anaconda3\\lib\\asyncio\\base_events.py\", line 1859, in _run_once\n      handle._run()\n    File \"C:\\Users\\jatin\\anaconda3\\lib\\asyncio\\events.py\", line 81, in _run\n      self._context.run(self._callback, *self._args)\n    File \"C:\\Users\\jatin\\anaconda3\\lib\\site-packages\\tornado\\ioloop.py\", line 688, in <lambda>\n      lambda f: self._run_callback(functools.partial(callback, future))\n    File \"C:\\Users\\jatin\\anaconda3\\lib\\site-packages\\tornado\\ioloop.py\", line 741, in _run_callback\n      ret = callback()\n    File \"C:\\Users\\jatin\\anaconda3\\lib\\site-packages\\tornado\\gen.py\", line 814, in inner\n      self.ctx_run(self.run)\n    File \"C:\\Users\\jatin\\anaconda3\\lib\\site-packages\\tornado\\gen.py\", line 775, in run\n      yielded = self.gen.send(value)\n    File \"C:\\Users\\jatin\\anaconda3\\lib\\site-packages\\ipykernel\\kernelbase.py\", line 365, in process_one\n      yield gen.maybe_future(dispatch(*args))\n    File \"C:\\Users\\jatin\\anaconda3\\lib\\site-packages\\tornado\\gen.py\", line 234, in wrapper\n      yielded = ctx_run(next, result)\n    File \"C:\\Users\\jatin\\anaconda3\\lib\\site-packages\\ipykernel\\kernelbase.py\", line 268, in dispatch_shell\n      yield gen.maybe_future(handler(stream, idents, msg))\n    File \"C:\\Users\\jatin\\anaconda3\\lib\\site-packages\\tornado\\gen.py\", line 234, in wrapper\n      yielded = ctx_run(next, result)\n    File \"C:\\Users\\jatin\\anaconda3\\lib\\site-packages\\ipykernel\\kernelbase.py\", line 543, in execute_request\n      self.do_execute(\n    File \"C:\\Users\\jatin\\anaconda3\\lib\\site-packages\\tornado\\gen.py\", line 234, in wrapper\n      yielded = ctx_run(next, result)\n    File \"C:\\Users\\jatin\\anaconda3\\lib\\site-packages\\ipykernel\\ipkernel.py\", line 306, in do_execute\n      res = shell.run_cell(code, store_history=store_history, silent=silent)\n    File \"C:\\Users\\jatin\\anaconda3\\lib\\site-packages\\ipykernel\\zmqshell.py\", line 536, in run_cell\n      return super(ZMQInteractiveShell, self).run_cell(*args, **kwargs)\n    File \"C:\\Users\\jatin\\anaconda3\\lib\\site-packages\\IPython\\core\\interactiveshell.py\", line 2894, in run_cell\n      result = self._run_cell(\n    File \"C:\\Users\\jatin\\anaconda3\\lib\\site-packages\\IPython\\core\\interactiveshell.py\", line 2940, in _run_cell\n      return runner(coro)\n    File \"C:\\Users\\jatin\\anaconda3\\lib\\site-packages\\IPython\\core\\async_helpers.py\", line 68, in _pseudo_sync_runner\n      coro.send(None)\n    File \"C:\\Users\\jatin\\anaconda3\\lib\\site-packages\\IPython\\core\\interactiveshell.py\", line 3165, in run_cell_async\n      has_raised = await self.run_ast_nodes(code_ast.body, cell_name,\n    File \"C:\\Users\\jatin\\anaconda3\\lib\\site-packages\\IPython\\core\\interactiveshell.py\", line 3357, in run_ast_nodes\n      if (await self.run_code(code, result,  async_=asy)):\n    File \"C:\\Users\\jatin\\anaconda3\\lib\\site-packages\\IPython\\core\\interactiveshell.py\", line 3437, in run_code\n      exec(code_obj, self.user_global_ns, self.user_ns)\n    File \"<ipython-input-8-ca5379cafac1>\", line 7, in <module>\n      y = square_log_x_plus_1(x)\n    File \"<ipython-input-8-ca5379cafac1>\", line 4, in square_log_x_plus_1\n      v = tf.math.log(x + 1)\nNode: 'Log/CheckNumericsV2_1'\n!!! Detected Infinity or NaN in output 0 of graph op \"Log\" (# of outputs: 1) !!!\n  dtype: <dtype: 'float32'>\n  shape: ()\n\n  Input tensor: Tensor(\"Log/x:0\", shape=(), dtype=float32)\n  Graph name: \"square_log_x_plus_1\"\n\n  Stack trace of op's creation (\"->\": inferred user code):\n    + ... (Omitted 14 frames)\n    + ...s\\jatin\\anaconda3\\lib\\site-packages\\tornado\\gen.py (L234) wrapper\n -> |   yielded = ctx_run(next, result)\n    + ...naconda3\\lib\\site-packages\\ipykernel\\kernelbase.py (L268) dispatch_shell\n -> |   yield gen.maybe_future(handler(stream, idents, msg))\n    + ...s\\jatin\\anaconda3\\lib\\site-packages\\tornado\\gen.py (L234) wrapper\n -> |   yielded = ctx_run(next, result)\n    + ...naconda3\\lib\\site-packages\\ipykernel\\kernelbase.py (L543) execute_request\n -> |   self.do_execute(\n    + ...s\\jatin\\anaconda3\\lib\\site-packages\\tornado\\gen.py (L234) wrapper\n -> |   yielded = ctx_run(next, result)\n    + ...\\anaconda3\\lib\\site-packages\\ipykernel\\ipkernel.py (L306) do_execute\n -> |   res = shell.run_cell(code, store_history=store_history, silent=silent)\n    + ...\\anaconda3\\lib\\site-packages\\ipykernel\\zmqshell.py (L536) run_cell\n -> |   return super(ZMQInteractiveShell, self).run_cell(*args, **kwargs)\n    + ...lib\\site-packages\\IPython\\core\\interactiveshell.py (L2894) run_cell\n -> |   result = self._run_cell(\n    + ...lib\\site-packages\\IPython\\core\\interactiveshell.py (L2940) _run_cell\n -> |   return runner(coro)\n    + ...a3\\lib\\site-packages\\IPython\\core\\async_helpers.py (L68) _pseudo_sync_runner\n -> |   coro.send(None)\n    + ...lib\\site-packages\\IPython\\core\\interactiveshell.py (L3165) run_cell_async\n -> |   has_raised = await self.run_ast_nodes(code_ast.body, cell_name,\n    + ...lib\\site-packages\\IPython\\core\\interactiveshell.py (L3357) run_ast_nodes\n -> |   if (await self.run_code(code, result,  async_=asy)):\n    + ...lib\\site-packages\\IPython\\core\\interactiveshell.py (L3437) run_code\n -> |   exec(code_obj, self.user_global_ns, self.user_ns)\n    + <ipython-input-8-ca5379cafac1> (L7) <module>\n -> |   y = square_log_x_plus_1(x)\n    + ...packages\\tensorflow\\python\\util\\traceback_utils.py (L150) error_handler\n    |   return fn(*args, **kwargs)\n    + ...e-packages\\tensorflow\\python\\eager\\def_function.py (L915) __call__\n    |   result = self._call(*args, **kwds)\n    + ...e-packages\\tensorflow\\python\\eager\\def_function.py (L963) _call\n    |   self._initialize(args, kwds, add_initializers_to=initializers)\n    + ...e-packages\\tensorflow\\python\\eager\\def_function.py (L785) _initialize\n    |   self._stateful_fn._get_concrete_function_internal_garbage_collected(  # pylint: disable=protected-access\n    + ...\\site-packages\\tensorflow\\python\\eager\\function.py (L2983) _get_concrete_function_internal_garbage_collected\n    |   graph_function, _ = self._maybe_define_function(args, kwargs)\n    + ...\\site-packages\\tensorflow\\python\\eager\\function.py (L3292) _maybe_define_function\n    |   graph_function = self._create_graph_function(args, kwargs)\n    + ...\\site-packages\\tensorflow\\python\\eager\\function.py (L3130) _create_graph_function\n    |   func_graph_module.func_graph_from_py_func(\n    + ...packages\\tensorflow\\python\\framework\\func_graph.py (L1161) func_graph_from_py_func\n    |   func_outputs = python_func(*func_args, **func_kwargs)\n    + ...e-packages\\tensorflow\\python\\eager\\def_function.py (L677) wrapped_fn\n    |   out = weak_wrapped_fn().__wrapped__(*args, **kwds)\n    + ...packages\\tensorflow\\python\\framework\\func_graph.py (L1136) autograph_handler\n    |   return autograph.converted_call(\n    + <ipython-input-8-ca5379cafac1> (L4) square_log_x_plus_1\n -> |   v = tf.math.log(x + 1)\n    + ...ite-packages\\tensorflow\\python\\ops\\gen_math_ops.py (L5495) log\n    |   _, _, _op, _outputs = _op_def_library._apply_op_helper(\n    + ...ages\\tensorflow\\python\\framework\\op_def_library.py (L740) _apply_op_helper\n    |   op = g._create_op_internal(op_type_name, inputs, dtypes=None,\n    + ...packages\\tensorflow\\python\\framework\\func_graph.py (L693) _create_op_internal\n    |   return super(FuncGraph, self)._create_op_internal(  # pylint: disable=protected-access\n    + ...b\\site-packages\\tensorflow\\python\\framework\\ops.py (L3776) _create_op_internal\n    |   ret = Operation(\n    + ...b\\site-packages\\tensorflow\\python\\framework\\ops.py (L2175) __init__\n    |   self._traceback = tf_stack.extract_stack_for_node(self._c_op)\n\n : Tensor had -Inf values\n\t [[{{node Log/CheckNumericsV2_1}}]] [Op:__inference_square_log_x_plus_1_54]",
     "output_type": "error",
     "traceback": [
      "\u001b[1;31m---------------------------------------------------------------------------\u001b[0m",
      "\u001b[1;31mInvalidArgumentError\u001b[0m                      Traceback (most recent call last)",
      "\u001b[1;32m<ipython-input-8-ca5379cafac1>\u001b[0m in \u001b[0;36m<module>\u001b[1;34m\u001b[0m\n\u001b[0;32m      5\u001b[0m     \u001b[1;32mreturn\u001b[0m \u001b[0mtf\u001b[0m\u001b[1;33m.\u001b[0m\u001b[0mmath\u001b[0m\u001b[1;33m.\u001b[0m\u001b[0msquare\u001b[0m\u001b[1;33m(\u001b[0m\u001b[0mv\u001b[0m\u001b[1;33m)\u001b[0m\u001b[1;33m\u001b[0m\u001b[1;33m\u001b[0m\u001b[0m\n\u001b[0;32m      6\u001b[0m \u001b[0mx\u001b[0m \u001b[1;33m=\u001b[0m \u001b[1;33m-\u001b[0m\u001b[1;36m1.0\u001b[0m\u001b[1;33m\u001b[0m\u001b[1;33m\u001b[0m\u001b[0m\n\u001b[1;32m----> 7\u001b[1;33m \u001b[0my\u001b[0m \u001b[1;33m=\u001b[0m \u001b[0msquare_log_x_plus_1\u001b[0m\u001b[1;33m(\u001b[0m\u001b[0mx\u001b[0m\u001b[1;33m)\u001b[0m\u001b[1;33m\u001b[0m\u001b[1;33m\u001b[0m\u001b[0m\n\u001b[0m\u001b[0;32m      8\u001b[0m \u001b[0mz\u001b[0m \u001b[1;33m=\u001b[0m \u001b[1;33m-\u001b[0m\u001b[0my\u001b[0m\u001b[1;33m\u001b[0m\u001b[1;33m\u001b[0m\u001b[0m\n",
      "\u001b[1;32m~\\anaconda3\\lib\\site-packages\\tensorflow\\python\\util\\traceback_utils.py\u001b[0m in \u001b[0;36merror_handler\u001b[1;34m(*args, **kwargs)\u001b[0m\n\u001b[0;32m    151\u001b[0m     \u001b[1;32mexcept\u001b[0m \u001b[0mException\u001b[0m \u001b[1;32mas\u001b[0m \u001b[0me\u001b[0m\u001b[1;33m:\u001b[0m\u001b[1;33m\u001b[0m\u001b[1;33m\u001b[0m\u001b[0m\n\u001b[0;32m    152\u001b[0m       \u001b[0mfiltered_tb\u001b[0m \u001b[1;33m=\u001b[0m \u001b[0m_process_traceback_frames\u001b[0m\u001b[1;33m(\u001b[0m\u001b[0me\u001b[0m\u001b[1;33m.\u001b[0m\u001b[0m__traceback__\u001b[0m\u001b[1;33m)\u001b[0m\u001b[1;33m\u001b[0m\u001b[1;33m\u001b[0m\u001b[0m\n\u001b[1;32m--> 153\u001b[1;33m       \u001b[1;32mraise\u001b[0m \u001b[0me\u001b[0m\u001b[1;33m.\u001b[0m\u001b[0mwith_traceback\u001b[0m\u001b[1;33m(\u001b[0m\u001b[0mfiltered_tb\u001b[0m\u001b[1;33m)\u001b[0m \u001b[1;32mfrom\u001b[0m \u001b[1;32mNone\u001b[0m\u001b[1;33m\u001b[0m\u001b[1;33m\u001b[0m\u001b[0m\n\u001b[0m\u001b[0;32m    154\u001b[0m     \u001b[1;32mfinally\u001b[0m\u001b[1;33m:\u001b[0m\u001b[1;33m\u001b[0m\u001b[1;33m\u001b[0m\u001b[0m\n\u001b[0;32m    155\u001b[0m       \u001b[1;32mdel\u001b[0m \u001b[0mfiltered_tb\u001b[0m\u001b[1;33m\u001b[0m\u001b[1;33m\u001b[0m\u001b[0m\n",
      "\u001b[1;32m~\\anaconda3\\lib\\site-packages\\tensorflow\\python\\eager\\execute.py\u001b[0m in \u001b[0;36mquick_execute\u001b[1;34m(op_name, num_outputs, inputs, attrs, ctx, name)\u001b[0m\n\u001b[0;32m     52\u001b[0m   \u001b[1;32mtry\u001b[0m\u001b[1;33m:\u001b[0m\u001b[1;33m\u001b[0m\u001b[1;33m\u001b[0m\u001b[0m\n\u001b[0;32m     53\u001b[0m     \u001b[0mctx\u001b[0m\u001b[1;33m.\u001b[0m\u001b[0mensure_initialized\u001b[0m\u001b[1;33m(\u001b[0m\u001b[1;33m)\u001b[0m\u001b[1;33m\u001b[0m\u001b[1;33m\u001b[0m\u001b[0m\n\u001b[1;32m---> 54\u001b[1;33m     tensors = pywrap_tfe.TFE_Py_Execute(ctx._handle, device_name, op_name,\n\u001b[0m\u001b[0;32m     55\u001b[0m                                         inputs, attrs, num_outputs)\n\u001b[0;32m     56\u001b[0m   \u001b[1;32mexcept\u001b[0m \u001b[0mcore\u001b[0m\u001b[1;33m.\u001b[0m\u001b[0m_NotOkStatusException\u001b[0m \u001b[1;32mas\u001b[0m \u001b[0me\u001b[0m\u001b[1;33m:\u001b[0m\u001b[1;33m\u001b[0m\u001b[1;33m\u001b[0m\u001b[0m\n",
      "\u001b[1;31mInvalidArgumentError\u001b[0m: Graph execution error:\n\nDetected at node 'Log/CheckNumericsV2_1' defined at (most recent call last):\n    File \"C:\\Users\\jatin\\anaconda3\\lib\\runpy.py\", line 194, in _run_module_as_main\n      return _run_code(code, main_globals, None,\n    File \"C:\\Users\\jatin\\anaconda3\\lib\\runpy.py\", line 87, in _run_code\n      exec(code, run_globals)\n    File \"C:\\Users\\jatin\\anaconda3\\lib\\site-packages\\ipykernel_launcher.py\", line 16, in <module>\n      app.launch_new_instance()\n    File \"C:\\Users\\jatin\\anaconda3\\lib\\site-packages\\traitlets\\config\\application.py\", line 845, in launch_instance\n      app.start()\n    File \"C:\\Users\\jatin\\anaconda3\\lib\\site-packages\\ipykernel\\kernelapp.py\", line 612, in start\n      self.io_loop.start()\n    File \"C:\\Users\\jatin\\anaconda3\\lib\\site-packages\\tornado\\platform\\asyncio.py\", line 199, in start\n      self.asyncio_loop.run_forever()\n    File \"C:\\Users\\jatin\\anaconda3\\lib\\asyncio\\base_events.py\", line 570, in run_forever\n      self._run_once()\n    File \"C:\\Users\\jatin\\anaconda3\\lib\\asyncio\\base_events.py\", line 1859, in _run_once\n      handle._run()\n    File \"C:\\Users\\jatin\\anaconda3\\lib\\asyncio\\events.py\", line 81, in _run\n      self._context.run(self._callback, *self._args)\n    File \"C:\\Users\\jatin\\anaconda3\\lib\\site-packages\\tornado\\ioloop.py\", line 688, in <lambda>\n      lambda f: self._run_callback(functools.partial(callback, future))\n    File \"C:\\Users\\jatin\\anaconda3\\lib\\site-packages\\tornado\\ioloop.py\", line 741, in _run_callback\n      ret = callback()\n    File \"C:\\Users\\jatin\\anaconda3\\lib\\site-packages\\tornado\\gen.py\", line 814, in inner\n      self.ctx_run(self.run)\n    File \"C:\\Users\\jatin\\anaconda3\\lib\\site-packages\\tornado\\gen.py\", line 775, in run\n      yielded = self.gen.send(value)\n    File \"C:\\Users\\jatin\\anaconda3\\lib\\site-packages\\ipykernel\\kernelbase.py\", line 365, in process_one\n      yield gen.maybe_future(dispatch(*args))\n    File \"C:\\Users\\jatin\\anaconda3\\lib\\site-packages\\tornado\\gen.py\", line 234, in wrapper\n      yielded = ctx_run(next, result)\n    File \"C:\\Users\\jatin\\anaconda3\\lib\\site-packages\\ipykernel\\kernelbase.py\", line 268, in dispatch_shell\n      yield gen.maybe_future(handler(stream, idents, msg))\n    File \"C:\\Users\\jatin\\anaconda3\\lib\\site-packages\\tornado\\gen.py\", line 234, in wrapper\n      yielded = ctx_run(next, result)\n    File \"C:\\Users\\jatin\\anaconda3\\lib\\site-packages\\ipykernel\\kernelbase.py\", line 543, in execute_request\n      self.do_execute(\n    File \"C:\\Users\\jatin\\anaconda3\\lib\\site-packages\\tornado\\gen.py\", line 234, in wrapper\n      yielded = ctx_run(next, result)\n    File \"C:\\Users\\jatin\\anaconda3\\lib\\site-packages\\ipykernel\\ipkernel.py\", line 306, in do_execute\n      res = shell.run_cell(code, store_history=store_history, silent=silent)\n    File \"C:\\Users\\jatin\\anaconda3\\lib\\site-packages\\ipykernel\\zmqshell.py\", line 536, in run_cell\n      return super(ZMQInteractiveShell, self).run_cell(*args, **kwargs)\n    File \"C:\\Users\\jatin\\anaconda3\\lib\\site-packages\\IPython\\core\\interactiveshell.py\", line 2894, in run_cell\n      result = self._run_cell(\n    File \"C:\\Users\\jatin\\anaconda3\\lib\\site-packages\\IPython\\core\\interactiveshell.py\", line 2940, in _run_cell\n      return runner(coro)\n    File \"C:\\Users\\jatin\\anaconda3\\lib\\site-packages\\IPython\\core\\async_helpers.py\", line 68, in _pseudo_sync_runner\n      coro.send(None)\n    File \"C:\\Users\\jatin\\anaconda3\\lib\\site-packages\\IPython\\core\\interactiveshell.py\", line 3165, in run_cell_async\n      has_raised = await self.run_ast_nodes(code_ast.body, cell_name,\n    File \"C:\\Users\\jatin\\anaconda3\\lib\\site-packages\\IPython\\core\\interactiveshell.py\", line 3357, in run_ast_nodes\n      if (await self.run_code(code, result,  async_=asy)):\n    File \"C:\\Users\\jatin\\anaconda3\\lib\\site-packages\\IPython\\core\\interactiveshell.py\", line 3437, in run_code\n      exec(code_obj, self.user_global_ns, self.user_ns)\n    File \"<ipython-input-8-ca5379cafac1>\", line 7, in <module>\n      y = square_log_x_plus_1(x)\n    File \"<ipython-input-8-ca5379cafac1>\", line 4, in square_log_x_plus_1\n      v = tf.math.log(x + 1)\nNode: 'Log/CheckNumericsV2_1'\n!!! Detected Infinity or NaN in output 0 of graph op \"Log\" (# of outputs: 1) !!!\n  dtype: <dtype: 'float32'>\n  shape: ()\n\n  Input tensor: Tensor(\"Log/x:0\", shape=(), dtype=float32)\n  Graph name: \"square_log_x_plus_1\"\n\n  Stack trace of op's creation (\"->\": inferred user code):\n    + ... (Omitted 14 frames)\n    + ...s\\jatin\\anaconda3\\lib\\site-packages\\tornado\\gen.py (L234) wrapper\n -> |   yielded = ctx_run(next, result)\n    + ...naconda3\\lib\\site-packages\\ipykernel\\kernelbase.py (L268) dispatch_shell\n -> |   yield gen.maybe_future(handler(stream, idents, msg))\n    + ...s\\jatin\\anaconda3\\lib\\site-packages\\tornado\\gen.py (L234) wrapper\n -> |   yielded = ctx_run(next, result)\n    + ...naconda3\\lib\\site-packages\\ipykernel\\kernelbase.py (L543) execute_request\n -> |   self.do_execute(\n    + ...s\\jatin\\anaconda3\\lib\\site-packages\\tornado\\gen.py (L234) wrapper\n -> |   yielded = ctx_run(next, result)\n    + ...\\anaconda3\\lib\\site-packages\\ipykernel\\ipkernel.py (L306) do_execute\n -> |   res = shell.run_cell(code, store_history=store_history, silent=silent)\n    + ...\\anaconda3\\lib\\site-packages\\ipykernel\\zmqshell.py (L536) run_cell\n -> |   return super(ZMQInteractiveShell, self).run_cell(*args, **kwargs)\n    + ...lib\\site-packages\\IPython\\core\\interactiveshell.py (L2894) run_cell\n -> |   result = self._run_cell(\n    + ...lib\\site-packages\\IPython\\core\\interactiveshell.py (L2940) _run_cell\n -> |   return runner(coro)\n    + ...a3\\lib\\site-packages\\IPython\\core\\async_helpers.py (L68) _pseudo_sync_runner\n -> |   coro.send(None)\n    + ...lib\\site-packages\\IPython\\core\\interactiveshell.py (L3165) run_cell_async\n -> |   has_raised = await self.run_ast_nodes(code_ast.body, cell_name,\n    + ...lib\\site-packages\\IPython\\core\\interactiveshell.py (L3357) run_ast_nodes\n -> |   if (await self.run_code(code, result,  async_=asy)):\n    + ...lib\\site-packages\\IPython\\core\\interactiveshell.py (L3437) run_code\n -> |   exec(code_obj, self.user_global_ns, self.user_ns)\n    + <ipython-input-8-ca5379cafac1> (L7) <module>\n -> |   y = square_log_x_plus_1(x)\n    + ...packages\\tensorflow\\python\\util\\traceback_utils.py (L150) error_handler\n    |   return fn(*args, **kwargs)\n    + ...e-packages\\tensorflow\\python\\eager\\def_function.py (L915) __call__\n    |   result = self._call(*args, **kwds)\n    + ...e-packages\\tensorflow\\python\\eager\\def_function.py (L963) _call\n    |   self._initialize(args, kwds, add_initializers_to=initializers)\n    + ...e-packages\\tensorflow\\python\\eager\\def_function.py (L785) _initialize\n    |   self._stateful_fn._get_concrete_function_internal_garbage_collected(  # pylint: disable=protected-access\n    + ...\\site-packages\\tensorflow\\python\\eager\\function.py (L2983) _get_concrete_function_internal_garbage_collected\n    |   graph_function, _ = self._maybe_define_function(args, kwargs)\n    + ...\\site-packages\\tensorflow\\python\\eager\\function.py (L3292) _maybe_define_function\n    |   graph_function = self._create_graph_function(args, kwargs)\n    + ...\\site-packages\\tensorflow\\python\\eager\\function.py (L3130) _create_graph_function\n    |   func_graph_module.func_graph_from_py_func(\n    + ...packages\\tensorflow\\python\\framework\\func_graph.py (L1161) func_graph_from_py_func\n    |   func_outputs = python_func(*func_args, **func_kwargs)\n    + ...e-packages\\tensorflow\\python\\eager\\def_function.py (L677) wrapped_fn\n    |   out = weak_wrapped_fn().__wrapped__(*args, **kwds)\n    + ...packages\\tensorflow\\python\\framework\\func_graph.py (L1136) autograph_handler\n    |   return autograph.converted_call(\n    + <ipython-input-8-ca5379cafac1> (L4) square_log_x_plus_1\n -> |   v = tf.math.log(x + 1)\n    + ...ite-packages\\tensorflow\\python\\ops\\gen_math_ops.py (L5495) log\n    |   _, _, _op, _outputs = _op_def_library._apply_op_helper(\n    + ...ages\\tensorflow\\python\\framework\\op_def_library.py (L740) _apply_op_helper\n    |   op = g._create_op_internal(op_type_name, inputs, dtypes=None,\n    + ...packages\\tensorflow\\python\\framework\\func_graph.py (L693) _create_op_internal\n    |   return super(FuncGraph, self)._create_op_internal(  # pylint: disable=protected-access\n    + ...b\\site-packages\\tensorflow\\python\\framework\\ops.py (L3776) _create_op_internal\n    |   ret = Operation(\n    + ...b\\site-packages\\tensorflow\\python\\framework\\ops.py (L2175) __init__\n    |   self._traceback = tf_stack.extract_stack_for_node(self._c_op)\n\n : Tensor had -Inf values\n\t [[{{node Log/CheckNumericsV2_1}}]] [Op:__inference_square_log_x_plus_1_54]"
     ]
    }
   ],
   "source": [
    "tf.debugging.enable_check_numerics()\n",
    "@tf.function\n",
    "def square_log_x_plus_1(x):\n",
    "    v = tf.math.log(x + 1)\n",
    "    return tf.math.square(v)\n",
    "x = -1.0\n",
    "y = square_log_x_plus_1(x)\n",
    "z = -y"
   ]
  },
  {
   "cell_type": "code",
   "execution_count": 11,
   "id": "71d8b827",
   "metadata": {},
   "outputs": [
    {
     "name": "stdout",
     "output_type": "stream",
     "text": [
      "INFO:tensorflow:Enabled check-numerics callback in thread MainThread\n"
     ]
    },
    {
     "ename": "InvalidArgumentError",
     "evalue": "\n\n!!! Detected Infinity or NaN in output 0 of eagerly-executing op \"Sqrt\" (# of outputs: 1) !!!\n  dtype: <dtype: 'float64'>\n  shape: (2, 2)\n  # of +NaN elements: 1\n\n  Input tensor: tf.Tensor(\n[[ 0. -1.]\n [ 4.  3.]], shape=(2, 2), dtype=float64)\n\n : Tensor had NaN values [Op:CheckNumericsV2]",
     "output_type": "error",
     "traceback": [
      "\u001b[1;31m---------------------------------------------------------------------------\u001b[0m",
      "\u001b[1;31mInvalidArgumentError\u001b[0m                      Traceback (most recent call last)",
      "\u001b[1;32m<ipython-input-11-0bac6a0d14f4>\u001b[0m in \u001b[0;36m<module>\u001b[1;34m\u001b[0m\n\u001b[0;32m      1\u001b[0m \u001b[0mtf\u001b[0m\u001b[1;33m.\u001b[0m\u001b[0mdebugging\u001b[0m\u001b[1;33m.\u001b[0m\u001b[0menable_check_numerics\u001b[0m\u001b[1;33m(\u001b[0m\u001b[1;33m)\u001b[0m\u001b[1;33m\u001b[0m\u001b[1;33m\u001b[0m\u001b[0m\n\u001b[0;32m      2\u001b[0m \u001b[0mx\u001b[0m \u001b[1;33m=\u001b[0m \u001b[0mnp\u001b[0m\u001b[1;33m.\u001b[0m\u001b[0marray\u001b[0m\u001b[1;33m(\u001b[0m\u001b[1;33m[\u001b[0m\u001b[1;33m[\u001b[0m\u001b[1;36m0.0\u001b[0m\u001b[1;33m,\u001b[0m \u001b[1;33m-\u001b[0m\u001b[1;36m1.0\u001b[0m\u001b[1;33m]\u001b[0m\u001b[1;33m,\u001b[0m \u001b[1;33m[\u001b[0m\u001b[1;36m4.0\u001b[0m\u001b[1;33m,\u001b[0m \u001b[1;36m3.0\u001b[0m\u001b[1;33m]\u001b[0m\u001b[1;33m]\u001b[0m\u001b[1;33m)\u001b[0m\u001b[1;33m\u001b[0m\u001b[1;33m\u001b[0m\u001b[0m\n\u001b[1;32m----> 3\u001b[1;33m \u001b[0my\u001b[0m \u001b[1;33m=\u001b[0m \u001b[0mtf\u001b[0m\u001b[1;33m.\u001b[0m\u001b[0mmath\u001b[0m\u001b[1;33m.\u001b[0m\u001b[0msqrt\u001b[0m\u001b[1;33m(\u001b[0m\u001b[0mx\u001b[0m\u001b[1;33m)\u001b[0m\u001b[1;33m\u001b[0m\u001b[1;33m\u001b[0m\u001b[0m\n\u001b[0m\u001b[0;32m      4\u001b[0m \u001b[0mz\u001b[0m \u001b[1;33m=\u001b[0m \u001b[0mtf\u001b[0m\u001b[1;33m.\u001b[0m\u001b[0mmatmul\u001b[0m\u001b[1;33m(\u001b[0m\u001b[0my\u001b[0m\u001b[1;33m,\u001b[0m \u001b[0my\u001b[0m\u001b[1;33m)\u001b[0m\u001b[1;33m\u001b[0m\u001b[1;33m\u001b[0m\u001b[0m\n",
      "\u001b[1;32m~\\anaconda3\\lib\\site-packages\\tensorflow\\python\\util\\traceback_utils.py\u001b[0m in \u001b[0;36merror_handler\u001b[1;34m(*args, **kwargs)\u001b[0m\n\u001b[0;32m    151\u001b[0m     \u001b[1;32mexcept\u001b[0m \u001b[0mException\u001b[0m \u001b[1;32mas\u001b[0m \u001b[0me\u001b[0m\u001b[1;33m:\u001b[0m\u001b[1;33m\u001b[0m\u001b[1;33m\u001b[0m\u001b[0m\n\u001b[0;32m    152\u001b[0m       \u001b[0mfiltered_tb\u001b[0m \u001b[1;33m=\u001b[0m \u001b[0m_process_traceback_frames\u001b[0m\u001b[1;33m(\u001b[0m\u001b[0me\u001b[0m\u001b[1;33m.\u001b[0m\u001b[0m__traceback__\u001b[0m\u001b[1;33m)\u001b[0m\u001b[1;33m\u001b[0m\u001b[1;33m\u001b[0m\u001b[0m\n\u001b[1;32m--> 153\u001b[1;33m       \u001b[1;32mraise\u001b[0m \u001b[0me\u001b[0m\u001b[1;33m.\u001b[0m\u001b[0mwith_traceback\u001b[0m\u001b[1;33m(\u001b[0m\u001b[0mfiltered_tb\u001b[0m\u001b[1;33m)\u001b[0m \u001b[1;32mfrom\u001b[0m \u001b[1;32mNone\u001b[0m\u001b[1;33m\u001b[0m\u001b[1;33m\u001b[0m\u001b[0m\n\u001b[0m\u001b[0;32m    154\u001b[0m     \u001b[1;32mfinally\u001b[0m\u001b[1;33m:\u001b[0m\u001b[1;33m\u001b[0m\u001b[1;33m\u001b[0m\u001b[0m\n\u001b[0;32m    155\u001b[0m       \u001b[1;32mdel\u001b[0m \u001b[0mfiltered_tb\u001b[0m\u001b[1;33m\u001b[0m\u001b[1;33m\u001b[0m\u001b[0m\n",
      "\u001b[1;32m~\\anaconda3\\lib\\site-packages\\tensorflow\\python\\framework\\ops.py\u001b[0m in \u001b[0;36mraise_from_not_ok_status\u001b[1;34m(e, name)\u001b[0m\n\u001b[0;32m   7184\u001b[0m \u001b[1;32mdef\u001b[0m \u001b[0mraise_from_not_ok_status\u001b[0m\u001b[1;33m(\u001b[0m\u001b[0me\u001b[0m\u001b[1;33m,\u001b[0m \u001b[0mname\u001b[0m\u001b[1;33m)\u001b[0m\u001b[1;33m:\u001b[0m\u001b[1;33m\u001b[0m\u001b[1;33m\u001b[0m\u001b[0m\n\u001b[0;32m   7185\u001b[0m   \u001b[0me\u001b[0m\u001b[1;33m.\u001b[0m\u001b[0mmessage\u001b[0m \u001b[1;33m+=\u001b[0m \u001b[1;33m(\u001b[0m\u001b[1;34m\" name: \"\u001b[0m \u001b[1;33m+\u001b[0m \u001b[0mname\u001b[0m \u001b[1;32mif\u001b[0m \u001b[0mname\u001b[0m \u001b[1;32mis\u001b[0m \u001b[1;32mnot\u001b[0m \u001b[1;32mNone\u001b[0m \u001b[1;32melse\u001b[0m \u001b[1;34m\"\"\u001b[0m\u001b[1;33m)\u001b[0m\u001b[1;33m\u001b[0m\u001b[1;33m\u001b[0m\u001b[0m\n\u001b[1;32m-> 7186\u001b[1;33m   \u001b[1;32mraise\u001b[0m \u001b[0mcore\u001b[0m\u001b[1;33m.\u001b[0m\u001b[0m_status_to_exception\u001b[0m\u001b[1;33m(\u001b[0m\u001b[0me\u001b[0m\u001b[1;33m)\u001b[0m \u001b[1;32mfrom\u001b[0m \u001b[1;32mNone\u001b[0m  \u001b[1;31m# pylint: disable=protected-access\u001b[0m\u001b[1;33m\u001b[0m\u001b[1;33m\u001b[0m\u001b[0m\n\u001b[0m\u001b[0;32m   7187\u001b[0m \u001b[1;33m\u001b[0m\u001b[0m\n\u001b[0;32m   7188\u001b[0m \u001b[1;33m\u001b[0m\u001b[0m\n",
      "\u001b[1;31mInvalidArgumentError\u001b[0m: \n\n!!! Detected Infinity or NaN in output 0 of eagerly-executing op \"Sqrt\" (# of outputs: 1) !!!\n  dtype: <dtype: 'float64'>\n  shape: (2, 2)\n  # of +NaN elements: 1\n\n  Input tensor: tf.Tensor(\n[[ 0. -1.]\n [ 4.  3.]], shape=(2, 2), dtype=float64)\n\n : Tensor had NaN values [Op:CheckNumericsV2]"
     ]
    }
   ],
   "source": [
    "tf.debugging.enable_check_numerics()\n",
    "x = np.array([[0.0, -1.0], [4.0, 3.0]])\n",
    "y = tf.math.sqrt(x)\n",
    "z = tf.matmul(y, y)"
   ]
  },
  {
   "cell_type": "code",
   "execution_count": 4,
   "id": "917475b3",
   "metadata": {},
   "outputs": [
    {
     "name": "stdout",
     "output_type": "stream",
     "text": [
      "WARNING:tensorflow:There are non-GPU devices in `tf.distribute.Strategy`, not using nccl allreduce.\n",
      "INFO:tensorflow:Using MirroredStrategy with devices ('/job:localhost/replica:0/task:0/device:CPU:0',)\n",
      "Loss is tf.Tensor(\n",
      "[[0.7]\n",
      " [0.7]\n",
      " [0.7]\n",
      " [0.7]], shape=(4, 1), dtype=float32)\n"
     ]
    }
   ],
   "source": [
    "global_batch_size = 4\n",
    "strategy = tf.distribute.MirroredStrategy()\n",
    "dataset = tf.data.Dataset.from_tensors(([1.], [1.])).repeat(4).batch(global_batch_size)\n",
    "dist_dataset = strategy.experimental_distribute_dataset(dataset)\n",
    "@tf.function\n",
    "def train_step(input):\n",
    "    features, labels = input\n",
    "    return labels - 0.3 * features\n",
    "for x in dist_dataset:\n",
    "    loss = strategy.run(train_step, args=(x,))\n",
    "    print(\"Loss is\", loss)"
   ]
  },
  {
   "cell_type": "code",
   "execution_count": 9,
   "id": "5b57d9be",
   "metadata": {},
   "outputs": [
    {
     "name": "stdout",
     "output_type": "stream",
     "text": [
      "WARNING:tensorflow:There are non-GPU devices in `tf.distribute.Strategy`, not using nccl allreduce.\n",
      "INFO:tensorflow:Using MirroredStrategy with devices ('/job:localhost/replica:0/task:0/device:CPU:0',)\n"
     ]
    },
    {
     "data": {
      "text/plain": [
       "(<tf.Tensor: shape=(2,), dtype=int64, numpy=array([10, 11], dtype=int64)>,)"
      ]
     },
     "execution_count": 9,
     "metadata": {},
     "output_type": "execute_result"
    }
   ],
   "source": [
    "strategy = tf.distribute.MirroredStrategy()\n",
    "dataset = tf.data.Dataset.range(100).batch(2)\n",
    "dist_dataset = strategy.experimental_distribute_dataset(dataset)\n",
    "dist_dataset_iterator = iter(dist_dataset)\n",
    "@tf.function\n",
    "def one_step(input):\n",
    "    return input\n",
    "step_num = 5\n",
    "for _ in range(step_num):\n",
    "    strategy.run(one_step, args=(dist_dataset_iterator.get_next(),))\n",
    "strategy.experimental_local_results(dist_dataset_iterator.get_next())"
   ]
  },
  {
   "cell_type": "code",
   "execution_count": 11,
   "id": "3e299b78",
   "metadata": {},
   "outputs": [
    {
     "name": "stdout",
     "output_type": "stream",
     "text": [
      "WARNING:tensorflow:There are non-GPU devices in `tf.distribute.Strategy`, not using nccl allreduce.\n",
      "INFO:tensorflow:Using MirroredStrategy with devices ('/job:localhost/replica:0/task:0/device:CPU:0',)\n",
      "([0 1],)\n",
      "([2 3],)\n"
     ]
    }
   ],
   "source": [
    "strategy = tf.distribute.MirroredStrategy()\n",
    "global_batch_size = 2\n",
    "steps_per_loop = 2\n",
    "dataset = tf.data.Dataset.range(10).batch(global_batch_size)\n",
    "distributed_iterator = iter(strategy.experimental_distribute_dataset(dataset))\n",
    "def step_fn(x):\n",
    "    return x\n",
    "@tf.function\n",
    "def train_fn(distributed_iterator):\n",
    "    for _ in tf.range(steps_per_loop):\n",
    "        optional_data = distributed_iterator.get_next_as_optional()\n",
    "        if not optional_data.has_value():\n",
    "            break\n",
    "        per_replica_results = strategy.run(step_fn, args=(optional_data.get_value(),))\n",
    "        tf.print(strategy.experimental_local_results(per_replica_results))\n",
    "train_fn(distributed_iterator)"
   ]
  },
  {
   "cell_type": "code",
   "execution_count": 12,
   "id": "1dccb895",
   "metadata": {},
   "outputs": [
    {
     "ename": "ValueError",
     "evalue": "Please provide a TPU Name to connect to.",
     "output_type": "error",
     "traceback": [
      "\u001b[1;31m---------------------------------------------------------------------------\u001b[0m",
      "\u001b[1;31mValueError\u001b[0m                                Traceback (most recent call last)",
      "\u001b[1;32m<ipython-input-12-b950c7210a81>\u001b[0m in \u001b[0;36m<module>\u001b[1;34m\u001b[0m\n\u001b[1;32m----> 1\u001b[1;33m \u001b[0mresolver\u001b[0m \u001b[1;33m=\u001b[0m \u001b[0mtf\u001b[0m\u001b[1;33m.\u001b[0m\u001b[0mdistribute\u001b[0m\u001b[1;33m.\u001b[0m\u001b[0mcluster_resolver\u001b[0m\u001b[1;33m.\u001b[0m\u001b[0mTPUClusterResolver\u001b[0m\u001b[1;33m(\u001b[0m\u001b[0mtpu\u001b[0m\u001b[1;33m=\u001b[0m\u001b[1;34m''\u001b[0m\u001b[1;33m)\u001b[0m\u001b[1;33m\u001b[0m\u001b[1;33m\u001b[0m\u001b[0m\n\u001b[0m\u001b[0;32m      2\u001b[0m \u001b[0mtf\u001b[0m\u001b[1;33m.\u001b[0m\u001b[0mconfig\u001b[0m\u001b[1;33m.\u001b[0m\u001b[0mexperimental_connect_to_cluster\u001b[0m\u001b[1;33m(\u001b[0m\u001b[0mresolver\u001b[0m\u001b[1;33m)\u001b[0m\u001b[1;33m\u001b[0m\u001b[1;33m\u001b[0m\u001b[0m\n\u001b[0;32m      3\u001b[0m \u001b[0mtf\u001b[0m\u001b[1;33m.\u001b[0m\u001b[0mtpu\u001b[0m\u001b[1;33m.\u001b[0m\u001b[0mexperimental\u001b[0m\u001b[1;33m.\u001b[0m\u001b[0minitialize_tpu_system\u001b[0m\u001b[1;33m(\u001b[0m\u001b[0mresolver\u001b[0m\u001b[1;33m)\u001b[0m\u001b[1;33m\u001b[0m\u001b[1;33m\u001b[0m\u001b[0m\n\u001b[0;32m      4\u001b[0m \u001b[0mstrategy\u001b[0m \u001b[1;33m=\u001b[0m \u001b[0mtf\u001b[0m\u001b[1;33m.\u001b[0m\u001b[0mdistribute\u001b[0m\u001b[1;33m.\u001b[0m\u001b[0mTPUStrategy\u001b[0m\u001b[1;33m(\u001b[0m\u001b[0mresolver\u001b[0m\u001b[1;33m)\u001b[0m\u001b[1;33m\u001b[0m\u001b[1;33m\u001b[0m\u001b[0m\n\u001b[0;32m      5\u001b[0m \u001b[0mdataset\u001b[0m \u001b[1;33m=\u001b[0m \u001b[0mtf\u001b[0m\u001b[1;33m.\u001b[0m\u001b[0mdataset\u001b[0m\u001b[1;33m.\u001b[0m\u001b[0mrange\u001b[0m\u001b[1;33m(\u001b[0m\u001b[1;36m16\u001b[0m\u001b[1;33m)\u001b[0m\u001b[1;33m\u001b[0m\u001b[1;33m\u001b[0m\u001b[0m\n",
      "\u001b[1;32m~\\anaconda3\\lib\\site-packages\\tensorflow\\python\\distribute\\cluster_resolver\\tpu\\tpu_cluster_resolver.py\u001b[0m in \u001b[0;36m__init__\u001b[1;34m(self, tpu, zone, project, job_name, coordinator_name, coordinator_address, credentials, service, discovery_url)\u001b[0m\n\u001b[0;32m    195\u001b[0m     \u001b[1;32mif\u001b[0m \u001b[0mtpu\u001b[0m \u001b[1;33m!=\u001b[0m \u001b[1;34m'local'\u001b[0m\u001b[1;33m:\u001b[0m\u001b[1;33m\u001b[0m\u001b[1;33m\u001b[0m\u001b[0m\n\u001b[0;32m    196\u001b[0m       \u001b[1;31m# Default Cloud environment\u001b[0m\u001b[1;33m\u001b[0m\u001b[1;33m\u001b[0m\u001b[1;33m\u001b[0m\u001b[0m\n\u001b[1;32m--> 197\u001b[1;33m       self._cloud_tpu_client = client.Client(\n\u001b[0m\u001b[0;32m    198\u001b[0m           \u001b[0mtpu\u001b[0m\u001b[1;33m=\u001b[0m\u001b[0mtpu\u001b[0m\u001b[1;33m,\u001b[0m\u001b[1;33m\u001b[0m\u001b[1;33m\u001b[0m\u001b[0m\n\u001b[0;32m    199\u001b[0m           \u001b[0mzone\u001b[0m\u001b[1;33m=\u001b[0m\u001b[0mzone\u001b[0m\u001b[1;33m,\u001b[0m\u001b[1;33m\u001b[0m\u001b[1;33m\u001b[0m\u001b[0m\n",
      "\u001b[1;32m~\\anaconda3\\lib\\site-packages\\tensorflow\\python\\tpu\\client\\client.py\u001b[0m in \u001b[0;36m__init__\u001b[1;34m(self, tpu, zone, project, credentials, service, discovery_url)\u001b[0m\n\u001b[0;32m    140\u001b[0m \u001b[1;33m\u001b[0m\u001b[0m\n\u001b[0;32m    141\u001b[0m     \u001b[1;32mif\u001b[0m \u001b[0mtpu\u001b[0m \u001b[1;32mis\u001b[0m \u001b[1;32mNone\u001b[0m\u001b[1;33m:\u001b[0m\u001b[1;33m\u001b[0m\u001b[1;33m\u001b[0m\u001b[0m\n\u001b[1;32m--> 142\u001b[1;33m       \u001b[1;32mraise\u001b[0m \u001b[0mValueError\u001b[0m\u001b[1;33m(\u001b[0m\u001b[1;34m'Please provide a TPU Name to connect to.'\u001b[0m\u001b[1;33m)\u001b[0m\u001b[1;33m\u001b[0m\u001b[1;33m\u001b[0m\u001b[0m\n\u001b[0m\u001b[0;32m    143\u001b[0m \u001b[1;33m\u001b[0m\u001b[0m\n\u001b[0;32m    144\u001b[0m     \u001b[0mself\u001b[0m\u001b[1;33m.\u001b[0m\u001b[0m_tpu\u001b[0m \u001b[1;33m=\u001b[0m \u001b[0m_as_text\u001b[0m\u001b[1;33m(\u001b[0m\u001b[0mtpu\u001b[0m\u001b[1;33m)\u001b[0m\u001b[1;33m\u001b[0m\u001b[1;33m\u001b[0m\u001b[0m\n",
      "\u001b[1;31mValueError\u001b[0m: Please provide a TPU Name to connect to."
     ]
    }
   ],
   "source": [
    "resolver = tf.distribute.cluster_resolver.TPUClusterResolver(tpu='')\n",
    "tf.config.experimental_connect_to_cluster(resolver)\n",
    "tf.tpu.experimental.initialize_tpu_system(resolver)\n",
    "strategy = tf.distribute.TPUStrategy(resolver)\n",
    "dataset = tf.dataset.range(16)\n",
    "distributed_dataset_on_host = (strategy.experimental_distribute_dataset(dataset, tf.distribute.InputOptions(\n",
    "    experimental_replication_mode=experimental_replication_mode.PER_WORKER, \n",
    "    experimental_place_dataset_on_device=False,\n",
    "    experimental_per_replica_buffer_size=1\n",
    ")))"
   ]
  },
  {
   "cell_type": "code",
   "execution_count": 13,
   "id": "fdf6b610",
   "metadata": {},
   "outputs": [
    {
     "name": "stdout",
     "output_type": "stream",
     "text": [
      "WARNING:tensorflow:Some requested devices in `tf.distribute.Strategy` are not visible to TensorFlow: /job:localhost/replica:0/task:0/device:CPU:0,/job:localhost/replica:0/task:0/device:CPU:1\n",
      "WARNING:tensorflow:There are non-GPU devices in `tf.distribute.Strategy`, not using nccl allreduce.\n",
      "INFO:tensorflow:Using MirroredStrategy with devices ('/job:localhost/replica:0/task:0/device:CPU:0', '/job:localhost/replica:0/task:0/device:CPU:1')\n"
     ]
    },
    {
     "data": {
      "text/plain": [
       "MirroredVariable:{\n",
       "  0: <tf.Variable 'Variable:0' shape=() dtype=float32, numpy=1.0>,\n",
       "  1: <tf.Variable 'Variable/replica_1:0' shape=() dtype=float32, numpy=1.0>\n",
       "}"
      ]
     },
     "execution_count": 13,
     "metadata": {},
     "output_type": "execute_result"
    }
   ],
   "source": [
    "strategy = tf.distribute.MirroredStrategy([\"CPU:0\", \"CPU:1\"])\n",
    "with strategy.scope():\n",
    "    x = tf.Variable(1.)\n",
    "x"
   ]
  },
  {
   "cell_type": "code",
   "execution_count": 16,
   "id": "e70ca34c",
   "metadata": {},
   "outputs": [
    {
     "name": "stdout",
     "output_type": "stream",
     "text": [
      "WARNING:tensorflow:Some requested devices in `tf.distribute.Strategy` are not visible to TensorFlow: /job:localhost/replica:0/task:0/device:CPU:0,/job:localhost/replica:0/task:0/device:CPU:1\n",
      "WARNING:tensorflow:There are non-GPU devices in `tf.distribute.Strategy`, not using nccl allreduce.\n",
      "INFO:tensorflow:Using MirroredStrategy with devices ('/job:localhost/replica:0/task:0/device:CPU:0', '/job:localhost/replica:0/task:0/device:CPU:1')\n",
      "WARNING:tensorflow:Using MirroredStrategy eagerly has significant overhead currently. We will be working on improving this in the future, but for now please wrap `call_for_each_replica` or `experimental_run` or `run` inside a tf.function to get the best performance.\n",
      "INFO:tensorflow:Reduce to /job:localhost/replica:0/task:0/device:CPU:0 then broadcast to ('/job:localhost/replica:0/task:0/device:CPU:0',).\n"
     ]
    },
    {
     "data": {
      "text/plain": [
       "<tf.Tensor: shape=(), dtype=int32, numpy=1>"
      ]
     },
     "execution_count": 16,
     "metadata": {},
     "output_type": "execute_result"
    }
   ],
   "source": [
    "strategy = tf.distribute.MirroredStrategy([\"CPU:0\", \"CPU:1\"])\n",
    "def step_fn():\n",
    "    i = tf.distribute.get_replica_context().replica_id_in_sync_group\n",
    "    return tf.identity(i)\n",
    "per_replica_result = strategy.run(step_fn)\n",
    "total = strategy.reduce(\"SUM\", per_replica_result, axis=None)\n",
    "total"
   ]
  },
  {
   "cell_type": "code",
   "execution_count": 20,
   "id": "ba568551",
   "metadata": {},
   "outputs": [
    {
     "name": "stdout",
     "output_type": "stream",
     "text": [
      "WARNING:tensorflow:Collective ops is not configured at program startup. Some performance features may not be enabled.\n",
      "INFO:tensorflow:Single-worker MultiWorkerMirroredStrategy with local_devices = ('/device:CPU:0',), communication = CommunicationImplementation.AUTO\n",
      "5/5 [==============================] - 2s 5ms/step - loss: 0.3698\n"
     ]
    },
    {
     "data": {
      "text/plain": [
       "<keras.callbacks.History at 0x1bc68abd520>"
      ]
     },
     "execution_count": 20,
     "metadata": {},
     "output_type": "execute_result"
    }
   ],
   "source": [
    "strategy = tf.distribute.MultiWorkerMirroredStrategy()\n",
    "with strategy.scope():\n",
    "    model = tf.keras.Sequential([\n",
    "        tf.keras.layers.Dense(2, input_shape=(5,))\n",
    "    ])\n",
    "    optimizer = tf.keras.optimizers.SGD(learning_rate=0.1)\n",
    "def dataset_fn(ctx):\n",
    "    x = np.random.random((2, 5)).astype(np.float32)\n",
    "    y = np.random.randint(2, size=(2, 1))\n",
    "    dataset = tf.data.Dataset.from_tensor_slices((x, y))\n",
    "    return dataset.repeat().batch(1, drop_remainder=True)\n",
    "dist_dataset = strategy.distribute_datasets_from_function(dataset_fn)\n",
    "model.compile(loss = [\"mean_squared_error\"])\n",
    "model.fit(dist_dataset, steps_per_epoch=5)"
   ]
  },
  {
   "cell_type": "code",
   "execution_count": 3,
   "id": "f15bbb37",
   "metadata": {},
   "outputs": [
    {
     "name": "stdout",
     "output_type": "stream",
     "text": [
      "/job:localhost/replica:0/task:0/device:CPU:0\n",
      "90\n"
     ]
    }
   ],
   "source": [
    "strategy = tf.distribute.OneDeviceStrategy(device=\"/cpu:0\")\n",
    "with strategy.scope():\n",
    "    v = tf.Variable(1.0)\n",
    "    print(v.device)\n",
    "\n",
    "def step_fn(x):\n",
    "    return x * 2\n",
    "result = 0\n",
    "for i in range(10):\n",
    "    result += strategy.run(step_fn, args=(i,))\n",
    "print(result)"
   ]
  },
  {
   "cell_type": "code",
   "execution_count": 4,
   "id": "51d20682",
   "metadata": {},
   "outputs": [
    {
     "name": "stdout",
     "output_type": "stream",
     "text": [
      "WARNING:tensorflow:Some requested devices in `tf.distribute.Strategy` are not visible to TensorFlow: /job:localhost/replica:0/task:0/device:CPU:0,/job:localhost/replica:0/task:0/device:CPU:1\n",
      "WARNING:tensorflow:There are non-GPU devices in `tf.distribute.Strategy`, not using nccl allreduce.\n",
      "INFO:tensorflow:Using MirroredStrategy with devices ('/job:localhost/replica:0/task:0/device:CPU:0', '/job:localhost/replica:0/task:0/device:CPU:1')\n",
      "WARNING:tensorflow:Using MirroredStrategy eagerly has significant overhead currently. We will be working on improving this in the future, but for now please wrap `call_for_each_replica` or `experimental_run` or `run` inside a tf.function to get the best performance.\n"
     ]
    },
    {
     "data": {
      "text/plain": [
       "PerReplica:{\n",
       "  0: <tf.Tensor: shape=(), dtype=int32, numpy=0>,\n",
       "  1: <tf.Tensor: shape=(), dtype=int32, numpy=1>\n",
       "}"
      ]
     },
     "execution_count": 4,
     "metadata": {},
     "output_type": "execute_result"
    }
   ],
   "source": [
    "strategy = tf.distribute.MirroredStrategy([\"CPU:0\", \"CPU:1\"])\n",
    "def func():\n",
    "    replica_context = tf.distribute.get_replica_context()\n",
    "    return replica_context.replica_id_in_sync_group\n",
    "strategy.run(func)"
   ]
  },
  {
   "cell_type": "code",
   "execution_count": 9,
   "id": "d25c54a3",
   "metadata": {},
   "outputs": [
    {
     "ename": "ApplicationDefaultCredentialsError",
     "evalue": "The Application Default Credentials are not available. They are available if running in Google Compute Engine. Otherwise, the environment variable GOOGLE_APPLICATION_CREDENTIALS must be defined pointing to a file defining the credentials. See https://developers.google.com/accounts/docs/application-default-credentials for more information.",
     "output_type": "error",
     "traceback": [
      "\u001b[1;31m---------------------------------------------------------------------------\u001b[0m",
      "\u001b[1;31mApplicationDefaultCredentialsError\u001b[0m        Traceback (most recent call last)",
      "\u001b[1;32m<ipython-input-9-748b2d6108a2>\u001b[0m in \u001b[0;36m<module>\u001b[1;34m\u001b[0m\n\u001b[1;32m----> 1\u001b[1;33m cluster_resolver = tf.distribute.cluster_resolver.GCEClusterResolver(\"my-project\", \"us-west1\", \"my-instance-group\", \n\u001b[0m\u001b[0;32m      2\u001b[0m                                                                      task_type=\"worker\", task_id=0, port=465)\n\u001b[0;32m      3\u001b[0m \u001b[0mstrategy\u001b[0m \u001b[1;33m=\u001b[0m \u001b[0mtf\u001b[0m\u001b[1;33m.\u001b[0m\u001b[0mdistribue\u001b[0m\u001b[1;33m.\u001b[0m\u001b[0mexperimental\u001b[0m\u001b[1;33m.\u001b[0m\u001b[0mMultiWorkerMirroredStrategy\u001b[0m\u001b[1;33m(\u001b[0m\u001b[0mcluster_resolver\u001b[0m\u001b[1;33m=\u001b[0m\u001b[0mcluster_resolver\u001b[0m\u001b[1;33m)\u001b[0m\u001b[1;33m\u001b[0m\u001b[1;33m\u001b[0m\u001b[0m\n",
      "\u001b[1;32m~\\anaconda3\\lib\\site-packages\\tensorflow\\python\\distribute\\cluster_resolver\\gce_cluster_resolver.py\u001b[0m in \u001b[0;36m__init__\u001b[1;34m(self, project, zone, instance_group, port, task_type, task_id, rpc_layer, credentials, service)\u001b[0m\n\u001b[0;32m    111\u001b[0m     \u001b[1;32mif\u001b[0m \u001b[0mcredentials\u001b[0m \u001b[1;33m==\u001b[0m \u001b[1;34m'default'\u001b[0m\u001b[1;33m:\u001b[0m\u001b[1;33m\u001b[0m\u001b[1;33m\u001b[0m\u001b[0m\n\u001b[0;32m    112\u001b[0m       \u001b[1;32mif\u001b[0m \u001b[0m_GOOGLE_API_CLIENT_INSTALLED\u001b[0m\u001b[1;33m:\u001b[0m\u001b[1;33m\u001b[0m\u001b[1;33m\u001b[0m\u001b[0m\n\u001b[1;32m--> 113\u001b[1;33m         \u001b[0mself\u001b[0m\u001b[1;33m.\u001b[0m\u001b[0m_credentials\u001b[0m \u001b[1;33m=\u001b[0m \u001b[0mGoogleCredentials\u001b[0m\u001b[1;33m.\u001b[0m\u001b[0mget_application_default\u001b[0m\u001b[1;33m(\u001b[0m\u001b[1;33m)\u001b[0m\u001b[1;33m\u001b[0m\u001b[1;33m\u001b[0m\u001b[0m\n\u001b[0m\u001b[0;32m    114\u001b[0m \u001b[1;33m\u001b[0m\u001b[0m\n\u001b[0;32m    115\u001b[0m     \u001b[1;32mif\u001b[0m \u001b[0mservice\u001b[0m \u001b[1;32mis\u001b[0m \u001b[1;32mNone\u001b[0m\u001b[1;33m:\u001b[0m\u001b[1;33m\u001b[0m\u001b[1;33m\u001b[0m\u001b[0m\n",
      "\u001b[1;32m~\\anaconda3\\lib\\site-packages\\oauth2client\\client.py\u001b[0m in \u001b[0;36mget_application_default\u001b[1;34m()\u001b[0m\n\u001b[0;32m   1269\u001b[0m                                                 \u001b[0mfail\u001b[0m \u001b[0mto\u001b[0m \u001b[0mbe\u001b[0m \u001b[0mretrieved\u001b[0m\u001b[1;33m.\u001b[0m\u001b[1;33m\u001b[0m\u001b[1;33m\u001b[0m\u001b[0m\n\u001b[0;32m   1270\u001b[0m         \"\"\"\n\u001b[1;32m-> 1271\u001b[1;33m         \u001b[1;32mreturn\u001b[0m \u001b[0mGoogleCredentials\u001b[0m\u001b[1;33m.\u001b[0m\u001b[0m_get_implicit_credentials\u001b[0m\u001b[1;33m(\u001b[0m\u001b[1;33m)\u001b[0m\u001b[1;33m\u001b[0m\u001b[1;33m\u001b[0m\u001b[0m\n\u001b[0m\u001b[0;32m   1272\u001b[0m \u001b[1;33m\u001b[0m\u001b[0m\n\u001b[0;32m   1273\u001b[0m     \u001b[1;33m@\u001b[0m\u001b[0mstaticmethod\u001b[0m\u001b[1;33m\u001b[0m\u001b[1;33m\u001b[0m\u001b[0m\n",
      "\u001b[1;32m~\\anaconda3\\lib\\site-packages\\oauth2client\\client.py\u001b[0m in \u001b[0;36m_get_implicit_credentials\u001b[1;34m(cls)\u001b[0m\n\u001b[0;32m   1259\u001b[0m \u001b[1;33m\u001b[0m\u001b[0m\n\u001b[0;32m   1260\u001b[0m         \u001b[1;31m# If no credentials, fail.\u001b[0m\u001b[1;33m\u001b[0m\u001b[1;33m\u001b[0m\u001b[1;33m\u001b[0m\u001b[0m\n\u001b[1;32m-> 1261\u001b[1;33m         \u001b[1;32mraise\u001b[0m \u001b[0mApplicationDefaultCredentialsError\u001b[0m\u001b[1;33m(\u001b[0m\u001b[0mADC_HELP_MSG\u001b[0m\u001b[1;33m)\u001b[0m\u001b[1;33m\u001b[0m\u001b[1;33m\u001b[0m\u001b[0m\n\u001b[0m\u001b[0;32m   1262\u001b[0m \u001b[1;33m\u001b[0m\u001b[0m\n\u001b[0;32m   1263\u001b[0m     \u001b[1;33m@\u001b[0m\u001b[0mstaticmethod\u001b[0m\u001b[1;33m\u001b[0m\u001b[1;33m\u001b[0m\u001b[0m\n",
      "\u001b[1;31mApplicationDefaultCredentialsError\u001b[0m: The Application Default Credentials are not available. They are available if running in Google Compute Engine. Otherwise, the environment variable GOOGLE_APPLICATION_CREDENTIALS must be defined pointing to a file defining the credentials. See https://developers.google.com/accounts/docs/application-default-credentials for more information."
     ]
    }
   ],
   "source": [
    "cluster_resolver = tf.distribute.cluster_resolver.GCEClusterResolver(\"my-project\", \"us-west1\", \"my-instance-group\", \n",
    "                                                                     task_type=\"worker\", task_id=0, port=465)\n",
    "strategy = tf.distribue.experimental.MultiWorkerMirroredStrategy(cluster_resolver=cluster_resolver)"
   ]
  },
  {
   "cell_type": "code",
   "execution_count": 12,
   "id": "e95f138b",
   "metadata": {},
   "outputs": [
    {
     "ename": "AttributeError",
     "evalue": "module 'tensorflow._api.v2.distribute.cluster_resolver' has no attribute 'UnionClusterResolver'",
     "output_type": "error",
     "traceback": [
      "\u001b[1;31m---------------------------------------------------------------------------\u001b[0m",
      "\u001b[1;31mAttributeError\u001b[0m                            Traceback (most recent call last)",
      "\u001b[1;32m<ipython-input-12-34591bc1a7c5>\u001b[0m in \u001b[0;36m<module>\u001b[1;34m\u001b[0m\n\u001b[0;32m      5\u001b[0m cluster_resolver_1 = tf.distribute.cluster_resolver.SimpleClusterResolver(cluster_1, task_type=\"ps\", \n\u001b[0;32m      6\u001b[0m                                                                           task_id=0, rpc_layer=\"grpc\")\n\u001b[1;32m----> 7\u001b[1;33m \u001b[0mcluster_resolver\u001b[0m \u001b[1;33m=\u001b[0m \u001b[0mtf\u001b[0m\u001b[1;33m.\u001b[0m\u001b[0mdistribute\u001b[0m\u001b[1;33m.\u001b[0m\u001b[0mcluster_resolver\u001b[0m\u001b[1;33m.\u001b[0m\u001b[0mUnionClusterResolver\u001b[0m\u001b[1;33m(\u001b[0m\u001b[0mcluster_resolver_0\u001b[0m\u001b[1;33m,\u001b[0m \u001b[0mcluster_resolver_1\u001b[0m\u001b[1;33m)\u001b[0m\u001b[1;33m\u001b[0m\u001b[1;33m\u001b[0m\u001b[0m\n\u001b[0m",
      "\u001b[1;31mAttributeError\u001b[0m: module 'tensorflow._api.v2.distribute.cluster_resolver' has no attribute 'UnionClusterResolver'"
     ]
    }
   ],
   "source": [
    "cluster_0 = tf.train.ClusterSpec({\"worker\": [\"worker.example.com:2222\", \"worker1.example.com:2222\"]})\n",
    "cluster_resolver_0 = tf.distribute.cluster_resolver.SimpleClusterResolver(cluster_0, task_type=\"woker\", \n",
    "                                                                          task_id=0, rpc_layer=\"grpc\")\n",
    "cluster_1 = tf.train.ClusterSpec({\"ps\":[\"ps0.example.com:2222\", \"ps1.example.com:2222\"]})\n",
    "cluster_resolver_1 = tf.distribute.cluster_resolver.SimpleClusterResolver(cluster_1, task_type=\"ps\", \n",
    "                                                                          task_id=0, rpc_layer=\"grpc\")\n",
    "cluster_resolver = tf.distribute.cluster_resolver.UnionClusterResolver(cluster_resolver_0, cluster_resolver_1)"
   ]
  },
  {
   "cell_type": "code",
   "execution_count": 13,
   "id": "f29ebdd9",
   "metadata": {},
   "outputs": [
    {
     "name": "stdout",
     "output_type": "stream",
     "text": [
      "INFO:tensorflow:ParameterServerStrategy (CentralStorageStrategy if you are using a single machine) with compute_devices = ['/job:localhost/replica:0/task:0/device:CPU:0'], variable_device = '/job:localhost/replica:0/task:0/device:CPU:0'\n"
     ]
    }
   ],
   "source": [
    "strategy = tf.distribute.experimental.CentralStorageStrategy()\n",
    "ds = tf.data.Dataset.range(5).batch(2)\n",
    "dist_dataset = strategy.experimental_distribute_dataset(ds)\n",
    "with strategy.scope():\n",
    "    @tf.function\n",
    "    def train_step(val):\n",
    "        return val + 1\n",
    "    for x in dist_dataset:\n",
    "        strategy.run(train_step, args=(x,))"
   ]
  },
  {
   "cell_type": "code",
   "execution_count": 2,
   "id": "c4dd8221",
   "metadata": {},
   "outputs": [
    {
     "data": {
      "text/plain": [
       "0.5"
      ]
     },
     "execution_count": 2,
     "metadata": {},
     "output_type": "execute_result"
    }
   ],
   "source": [
    "def value_fn(context):\n",
    "    return context.replica_id_in_sync_group / context.num_replicas_in_sync\n",
    "context = tf.distribute.experimental.ValueContext(replica_id_in_sync_group=2, num_replicas_in_sync=4)\n",
    "per_replica_value = value_fn(context)\n",
    "per_replica_value"
   ]
  },
  {
   "cell_type": "code",
   "execution_count": 7,
   "id": "a1f210b7",
   "metadata": {},
   "outputs": [
    {
     "data": {
      "text/plain": [
       "[2, 1]"
      ]
     },
     "execution_count": 7,
     "metadata": {},
     "output_type": "execute_result"
    }
   ],
   "source": [
    "partitioner = tf.distribute.experimental.partitioners.FixedShardsPartitioner(num_shards=2)\n",
    "partitions = partitioner(tf.TensorShape([10, 3]), tf.float32)\n",
    "partitions"
   ]
  },
  {
   "cell_type": "code",
   "execution_count": 10,
   "id": "a59d188c",
   "metadata": {},
   "outputs": [
    {
     "name": "stdout",
     "output_type": "stream",
     "text": [
      "[6, 1]\n",
      "[2, 1]\n",
      "[1, 1]\n"
     ]
    }
   ],
   "source": [
    "partitioner = tf.distribute.experimental.partitioners.MaxSizePartitioner(max_shard_bytes=4)\n",
    "partitions = partitioner(tf.TensorShape([6, 1]), tf.float32)\n",
    "print(partitions)\n",
    "partitioner = tf.distribute.experimental.partitioners.MaxSizePartitioner(max_shard_bytes=4, max_shards=2)\n",
    "partitions = partitioner(tf.TensorShape([6, 1]), tf.float32)\n",
    "print(partitions)\n",
    "partitioner = tf.distribute.experimental.partitioners.MaxSizePartitioner(max_shard_bytes=1024)\n",
    "partitions = partitioner(tf.TensorShape([6, 1]), tf.float32)\n",
    "print(partitions)"
   ]
  },
  {
   "cell_type": "code",
   "execution_count": null,
   "id": "b39757ab",
   "metadata": {},
   "outputs": [
    {
     "name": "stdout",
     "output_type": "stream",
     "text": [
      "[2, 1]\n",
      "[6, 1]\n"
     ]
    }
   ],
   "source": [
    "partitioner = tf.distribute.experimental.partitioners.MinSizePartitioner(min_shard_bytes=4, max_shards=2)\n",
    "partitions = partitioner(tf.TensorShape([6, 1]), tf.float32)\n",
    "print(partitions)\n",
    "partitioner = tf.distribute.experimental.partitioners.MinSizePartitioner(min_shard_bytes=4, max_shards=10)\n",
    "partitions = partitioner(tf.TensorShape([6, 1]), tf.float32)\n",
    "print(partitions)"
   ]
  },
  {
   "cell_type": "code",
   "execution_count": 2,
   "id": "2c13ec37",
   "metadata": {},
   "outputs": [
    {
     "name": "stdout",
     "output_type": "stream",
     "text": [
      "20.50\n",
      "accuracy: 0.50\n",
      "accuracy_baseline: 1.00\n",
      "auc: 0.00\n",
      "auc_precision_recall: 1.00\n",
      "average_loss: 20.50\n",
      "label/mean: 1.00\n",
      "precision: 1.00\n",
      "prediction/mean: 0.50\n",
      "recall: 0.50\n",
      "tf.Tensor(\n",
      "[[ 45.]\n",
      " [-41.]], shape=(2, 1), dtype=float32)\n"
     ]
    }
   ],
   "source": [
    "head = tf.estimator.BinaryClassHead()\n",
    "logits = np.array(((45,), (-41, ), ), dtype=np.float32)\n",
    "labels = np.array(((1, ), (1, ), ), dtype=np.int32)\n",
    "features = {'x':np.array(((42, ), ), dtype=np.float32)}\n",
    "loss = head.loss(labels, logits, features=features)\n",
    "print('{:.2f}'.format(loss.numpy()))\n",
    "eval_metrics = head.metrics()\n",
    "updated_metrics = head.update_metrics(eval_metrics, features, logits, labels)\n",
    "for k in sorted(updated_metrics):\n",
    "    print('{}: {:.2f}'.format(k, updated_metrics[k].result().numpy()))\n",
    "preds = head.predictions(logits)\n",
    "print(preds['logits'])"
   ]
  },
  {
   "cell_type": "code",
   "execution_count": 4,
   "id": "ce1aeb55",
   "metadata": {},
   "outputs": [
    {
     "name": "stdout",
     "output_type": "stream",
     "text": [
      "5.00\n",
      "accuracy: 0.50\n",
      "average_loss: 5.00\n",
      "tf.Tensor(\n",
      "[[10.  0.  0.]\n",
      " [ 0. 10.  0.]], shape=(2, 3), dtype=float32)\n"
     ]
    }
   ],
   "source": [
    "n_classes = 3\n",
    "head = tf.estimator.MultiClassHead(n_classes)\n",
    "logits = np.array(((10, 0, 0), (0, 10, 0), ), dtype=np.float32)\n",
    "labels = np.array(((1, ), (1,)), dtype=np.int64)\n",
    "features = {'x':np.array(((42, ), ), dtype=np.int32)}\n",
    "loss = head.loss(labels, logits, features=features)\n",
    "print('{:.2f}'.format(loss.numpy()))\n",
    "eval_metrics = head.metrics()\n",
    "updated_metrics = head.update_metrics(eval_metrics, features, logits, labels)\n",
    "for k in sorted(updated_metrics):\n",
    "    print('{}: {:.2f}'.format(k, updated_metrics[k].result().numpy()))\n",
    "preds = head.predictions(logits)\n",
    "print(preds[\"logits\"])"
   ]
  },
  {
   "cell_type": "code",
   "execution_count": 8,
   "id": "7bd18147",
   "metadata": {},
   "outputs": [
    {
     "name": "stdout",
     "output_type": "stream",
     "text": [
      "23.75\n",
      "auc/head1: 0.17\n",
      "auc/head2: 0.33\n",
      "auc_precision_recall/head1: 0.60\n",
      "auc_precision_recall/head2: 0.40\n",
      "average_loss/head1: 8.75\n",
      "average_loss/head2: 15.00\n",
      "loss/head1: 8.75\n",
      "loss/head2: 15.00\n",
      "tf.Tensor(\n",
      "[[-10.  10.]\n",
      " [-15.  10.]], shape=(2, 2), dtype=float32)\n"
     ]
    }
   ],
   "source": [
    "head1 = tf.estimator.MultiLabelHead(n_classes=2, name='head1')\n",
    "head2 = tf.estimator.MultiLabelHead(n_classes=3, name=\"head2\")\n",
    "multi_head = tf.estimator.MultiHead([head1, head2])\n",
    "logits = {\n",
    "    'head1':np.array([[-10., 10.], [-15., 10.]], dtype=np.float32),\n",
    "    'head2':np.array([[20., -20., 20.], [-30., 20., -20.]], dtype=np.float32)\n",
    "}\n",
    "labels = {\n",
    "    'head1':np.array([[1, 0], [1, 1]], dtype=np.int64),\n",
    "    'head2':np.array([[0, 1, 0], [1, 1, 0]], dtype=np.float32)\n",
    "}\n",
    "features = {'x':np.array(((42,), ), dtype=np.float32)}\n",
    "loss = multi_head.loss(labels, logits, features=features)\n",
    "print('{:.2f}'.format(loss.numpy()))\n",
    "eval_metrics = multi_head.metrics()\n",
    "updated_metrics = multi_head.update_metrics(eval_metrics, features, logits, labels)\n",
    "for k in sorted(updated_metrics):\n",
    "    print('{}: {:.2f}'.format(k, updated_metrics[k].result().numpy()))\n",
    "preds = multi_head.predictions(logits)\n",
    "print(preds[('head1', 'logits')])"
   ]
  },
  {
   "cell_type": "code",
   "execution_count": 5,
   "id": "2efce678",
   "metadata": {},
   "outputs": [
    {
     "data": {
      "text/plain": [
       "array([3600, 6000,  960])"
      ]
     },
     "execution_count": 5,
     "metadata": {},
     "output_type": "execute_result"
    }
   ],
   "source": [
    "class Vehicle(tf.experimental.BatchableExtensionType):\n",
    "    top_speed: tf.Tensor\n",
    "    mgp: tf.Tensor\n",
    "batch = Vehicle([120, 150, 80], [30, 40, 12])\n",
    "tf.map_fn(lambda vehicle: vehicle.top_speed * vehicle.mgp, batch, fn_output_signature=tf.int32).numpy()"
   ]
  },
  {
   "cell_type": "code",
   "execution_count": 6,
   "id": "73305ff9",
   "metadata": {},
   "outputs": [
    {
     "name": "stdout",
     "output_type": "stream",
     "text": [
      "tf.Tensor(True, shape=(), dtype=bool)\n",
      "tf.Tensor(42, shape=(), dtype=int32)\n"
     ]
    }
   ],
   "source": [
    "optional = tf.experimental.Optional.from_value(42)\n",
    "print(optional.has_value())\n",
    "print(optional.get_value())"
   ]
  },
  {
   "cell_type": "code",
   "execution_count": 7,
   "id": "a0a27b5a",
   "metadata": {},
   "outputs": [
    {
     "name": "stdout",
     "output_type": "stream",
     "text": [
      "tf.Tensor(False, shape=(), dtype=bool)\n"
     ]
    }
   ],
   "source": [
    "optional = tf.experimental.Optional.empty(tf.TensorSpec(shape=(), dtype=tf.int32, name=None))\n",
    "print(optional.has_value())"
   ]
  },
  {
   "cell_type": "code",
   "execution_count": 11,
   "id": "12dc69e1",
   "metadata": {},
   "outputs": [
    {
     "name": "stdout",
     "output_type": "stream",
     "text": [
      "values=[ 3  6  9 12  5], mask=[ True  True  True False False]\n"
     ]
    }
   ],
   "source": [
    "class MaskedTensor(tf.experimental.ExtensionType):\n",
    "    values: tf.Tensor\n",
    "    mask: tf.Tensor\n",
    "@tf.experimental.dispatch_for_binary_elementwise_apis(MaskedTensor, MaskedTensor)\n",
    "def binary_elementwise_api_handler(api_func, x, y):\n",
    "    return MaskedTensor(api_func(x.values, y.values), x.mask & y.mask)\n",
    "a = MaskedTensor([1, 2, 3, 4, 5], [True, True, True, True, False])\n",
    "b = MaskedTensor([2, 4, 6, 8, 0], [True, True, True, False, True])\n",
    "c = tf.add(a, b)\n",
    "print(f\"values={c.values.numpy()}, mask={c.mask.numpy()}\")"
   ]
  },
  {
   "cell_type": "code",
   "execution_count": 20,
   "id": "76ff70a5",
   "metadata": {},
   "outputs": [
    {
     "name": "stdout",
     "output_type": "stream",
     "text": [
      "values=[1 2 3], mask=[ True False  True]\n"
     ]
    }
   ],
   "source": [
    "class MaskedTensor(tf.experimental.ExtensionType):\n",
    "    values: tf.Tensor\n",
    "    mask: tf.Tensor\n",
    "@tf.experimental.dispatch_for_unary_elementwise_apis(MaskedTensor)\n",
    "def unary_elementwise_api_handler(api_func, x):\n",
    "    return MaskedTensor(api_func(x.values), x.mask)\n",
    "mt = MaskedTensor([1, -2, -3], [True, False, True])\n",
    "abs_mt = tf.abs(mt)\n",
    "print(f\"values={abs_mt.values.numpy()}, mask={abs_mt.mask.numpy()}\")"
   ]
  },
  {
   "cell_type": "code",
   "execution_count": 23,
   "id": "b36c1761",
   "metadata": {},
   "outputs": [
    {
     "data": {
      "text/plain": [
       "MyTensor(value=<tf.Tensor: shape=(), dtype=int32, numpy=5>)"
      ]
     },
     "execution_count": 23,
     "metadata": {},
     "output_type": "execute_result"
    }
   ],
   "source": [
    "class MyTensor(tf.experimental.ExtensionType):\n",
    "    value: tf.Tensor\n",
    "@tf.experimental.dispatch_for_api(tf.abs)\n",
    "def my_abs(x: MyTensor):\n",
    "    return MyTensor(tf.abs(x.value))\n",
    "tf.abs(MyTensor(5))"
   ]
  },
  {
   "cell_type": "code",
   "execution_count": 26,
   "id": "82496a6c",
   "metadata": {},
   "outputs": [
    {
     "data": {
      "text/plain": [
       "<capsule object \"dltensor\" at 0x000002175A89ADE0>"
      ]
     },
     "execution_count": 26,
     "metadata": {},
     "output_type": "execute_result"
    }
   ],
   "source": [
    "a = tf.constant([1, 10])\n",
    "dlcapsule = tf.experimental.dlpack.to_dlpack(a)"
   ]
  },
  {
   "cell_type": "code",
   "execution_count": 22,
   "id": "c1dc2a0d",
   "metadata": {},
   "outputs": [],
   "source": [
    "a = {\"price\":tf.constant([1, 2, 3, 4, 5, 6, 7, 89, 0])}\n",
    "d = tf.feature_column.numeric_column(\"price\")\n",
    "c = tf.feature_column.bucketized_column(d, boundaries=[1, 5])"
   ]
  },
  {
   "cell_type": "code",
   "execution_count": 23,
   "id": "23514929",
   "metadata": {},
   "outputs": [
    {
     "data": {
      "text/plain": [
       "<tf.Tensor: shape=(9, 3), dtype=float32, numpy=\n",
       "array([[0., 1., 0.],\n",
       "       [0., 1., 0.],\n",
       "       [0., 1., 0.],\n",
       "       [0., 1., 0.],\n",
       "       [0., 0., 1.],\n",
       "       [0., 0., 1.],\n",
       "       [0., 0., 1.],\n",
       "       [0., 0., 1.],\n",
       "       [1., 0., 0.]], dtype=float32)>"
      ]
     },
     "execution_count": 23,
     "metadata": {},
     "output_type": "execute_result"
    }
   ],
   "source": [
    "tf.keras.layers.DenseFeatures(c)(a)"
   ]
  },
  {
   "cell_type": "code",
   "execution_count": 24,
   "id": "3d1621ec",
   "metadata": {},
   "outputs": [
    {
     "data": {
      "text/plain": [
       "<tf.Tensor: shape=(2, 9), dtype=float32, numpy=\n",
       "array([[-0.11404641,  0.06518342, -0.08254052,  0.10212558, -0.11642231,\n",
       "        -0.24987225,  0.09505392, -0.06127232, -0.37782758],\n",
       "       [ 0.20339487, -0.18535434,  0.04693354,  0.07518338,  0.11609379,\n",
       "         0.085743  , -0.21502422,  0.12123827, -0.0815907 ]],\n",
       "      dtype=float32)>"
      ]
     },
     "execution_count": 24,
     "metadata": {},
     "output_type": "execute_result"
    }
   ],
   "source": [
    "video_id = tf.feature_column.categorical_column_with_identity(key=\"video_id\", num_buckets=1000000, default_value=0)\n",
    "columns = [tf.feature_column.embedding_column(video_id, 9)]\n",
    "features = {'video_id': tf.sparse.from_dense([[2, 85, 0, 0, 0], [33, 78, 2, 73, 1]])}\n",
    "input_layer = tf.keras.layers.DenseFeatures(columns)\n",
    "input_layer(features)"
   ]
  },
  {
   "cell_type": "code",
   "execution_count": 16,
   "id": "30f99fde",
   "metadata": {},
   "outputs": [
    {
     "data": {
      "text/plain": [
       "<tf.Tensor: shape=(4, 5), dtype=float32, numpy=\n",
       "array([[1., 0., 0., 0., 0.],\n",
       "       [0., 1., 0., 0., 0.],\n",
       "       [1., 0., 0., 0., 0.],\n",
       "       [1., 0., 0., 0., 0.]], dtype=float32)>"
      ]
     },
     "execution_count": 16,
     "metadata": {},
     "output_type": "execute_result"
    }
   ],
   "source": [
    "colors = tf.feature_column.categorical_column_with_vocabulary_list(\"colors\", ['a', 'b', 'x', 'y', 'z'], default_value=0)\n",
    "b = tf.feature_column.indicator_column(colors)\n",
    "a = {\"colors\":tf.constant(['a', 'b', 'c', 'd'])}\n",
    "input_layer = tf.keras.layers.DenseFeatures(b)\n",
    "input_layer(a)"
   ]
  },
  {
   "cell_type": "code",
   "execution_count": 34,
   "id": "7db684fe",
   "metadata": {},
   "outputs": [],
   "source": [
    "age = tf.feature_column.numeric_column('Age')\n",
    "age_buckets = tf.feature_column.bucketized_column(age, boundaries=[1, 3, 5])\n",
    "crossed = tf.feature_column.crossed_column([age_buckets, colors], 10)\n",
    "indicator = tf.feature_column.indicator_column(crossed)\n",
    "features = {\"Age\":tf.constant([1, 2, 3, 4, 5, 6]), \"colors\":tf.constant(['a', 'b', 'c', 'd', 'e', 'f'])}\n",
    "input_layer = tf.keras.layers.DenseFeatures(indicator)"
   ]
  },
  {
   "cell_type": "code",
   "execution_count": 32,
   "id": "ae9f573b",
   "metadata": {},
   "outputs": [
    {
     "data": {
      "text/plain": [
       "<tf.Tensor: shape=(6, 10), dtype=float32, numpy=\n",
       "array([[0., 0., 0., 1., 0., 0., 0., 0., 0., 0.],\n",
       "       [0., 1., 0., 0., 0., 0., 0., 0., 0., 0.],\n",
       "       [0., 1., 0., 0., 0., 0., 0., 0., 0., 0.],\n",
       "       [0., 1., 0., 0., 0., 0., 0., 0., 0., 0.],\n",
       "       [1., 0., 0., 0., 0., 0., 0., 0., 0., 0.],\n",
       "       [1., 0., 0., 0., 0., 0., 0., 0., 0., 0.]], dtype=float32)>"
      ]
     },
     "execution_count": 32,
     "metadata": {},
     "output_type": "execute_result"
    }
   ],
   "source": [
    "input_layer(features)"
   ]
  },
  {
   "cell_type": "code",
   "execution_count": 37,
   "id": "b654b2a8",
   "metadata": {},
   "outputs": [
    {
     "data": {
      "text/plain": [
       "<tf.Tensor: shape=(2, 2, 3), dtype=float32, numpy=\n",
       "array([[[ 1.1,  2.1,  3.1],\n",
       "        [ 4.1,  5.1,  6.1]],\n",
       "\n",
       "       [[ 7.1,  8.1,  9.1],\n",
       "        [10.1, 11.1, 12.1]]], dtype=float32)>"
      ]
     },
     "execution_count": 37,
     "metadata": {},
     "output_type": "execute_result"
    }
   ],
   "source": [
    "x = [[[1.0, 2.0, 3.0], [4.0, 5.0, 6.0]], [[7.0, 8.0, 9.0], [10.0, 11.0, 12.0]]]\n",
    "tf.image.adjust_brightness(x, delta=0.1)"
   ]
  },
  {
   "cell_type": "code",
   "execution_count": 39,
   "id": "f36e1e92",
   "metadata": {},
   "outputs": [
    {
     "data": {
      "text/plain": [
       "<tf.Tensor: shape=(2, 2, 3), dtype=float32, numpy=\n",
       "array([[[-3.5, -2.5, -1.5],\n",
       "        [ 2.5,  3.5,  4.5]],\n",
       "\n",
       "       [[ 8.5,  9.5, 10.5],\n",
       "        [14.5, 15.5, 16.5]]], dtype=float32)>"
      ]
     },
     "execution_count": 39,
     "metadata": {},
     "output_type": "execute_result"
    }
   ],
   "source": [
    "tf.image.adjust_contrast(x, 2.)"
   ]
  },
  {
   "cell_type": "code",
   "execution_count": 41,
   "id": "20a68b96",
   "metadata": {},
   "outputs": [
    {
     "data": {
      "text/plain": [
       "<tf.Tensor: shape=(2, 2, 3), dtype=float32, numpy=\n",
       "array([[[1.       , 1.1486983, 1.245731 ],\n",
       "        [1.319508 , 1.3797296, 1.4309691]],\n",
       "\n",
       "       [[1.4757732, 1.5157166, 1.5518456],\n",
       "        [1.5848932, 1.6153942, 1.6437519]]], dtype=float32)>"
      ]
     },
     "execution_count": 41,
     "metadata": {},
     "output_type": "execute_result"
    }
   ],
   "source": [
    "tf.image.adjust_gamma(x, 0.2)"
   ]
  },
  {
   "cell_type": "code",
   "execution_count": 42,
   "id": "b4d40e11",
   "metadata": {},
   "outputs": [
    {
     "data": {
      "text/plain": [
       "<tf.Tensor: shape=(2, 2, 3), dtype=float32, numpy=\n",
       "array([[[ 2.3999996,  1.       ,  3.       ],\n",
       "        [ 5.3999996,  4.       ,  6.       ]],\n",
       "\n",
       "       [[ 8.4      ,  7.       ,  9.       ],\n",
       "        [11.4      , 10.       , 12.       ]]], dtype=float32)>"
      ]
     },
     "execution_count": 42,
     "metadata": {},
     "output_type": "execute_result"
    }
   ],
   "source": [
    "tf.image.adjust_hue(x, 0.2)"
   ]
  },
  {
   "cell_type": "code",
   "execution_count": 43,
   "id": "05b26556",
   "metadata": {},
   "outputs": [
    {
     "data": {
      "text/plain": [
       "<tf.Tensor: shape=(2, 2, 3), dtype=float32, numpy=\n",
       "array([[[1., 1., 1.],\n",
       "        [1., 1., 1.]],\n",
       "\n",
       "       [[1., 1., 1.],\n",
       "        [1., 1., 1.]]], dtype=float32)>"
      ]
     },
     "execution_count": 43,
     "metadata": {},
     "output_type": "execute_result"
    }
   ],
   "source": [
    "tf.image.adjust_jpeg_quality(x, 75)"
   ]
  },
  {
   "cell_type": "code",
   "execution_count": 44,
   "id": "798c7e02",
   "metadata": {},
   "outputs": [
    {
     "data": {
      "text/plain": [
       "<tf.Tensor: shape=(2, 2, 3), dtype=float32, numpy=\n",
       "array([[[ 2. ,  2.5,  3. ],\n",
       "        [ 5. ,  5.5,  6. ]],\n",
       "\n",
       "       [[ 8. ,  8.5,  9. ],\n",
       "        [11. , 11.5, 12. ]]], dtype=float32)>"
      ]
     },
     "execution_count": 44,
     "metadata": {},
     "output_type": "execute_result"
    }
   ],
   "source": [
    "tf.image.adjust_saturation(x, 0.5)"
   ]
  },
  {
   "cell_type": "code",
   "execution_count": 45,
   "id": "8d1ee0d5",
   "metadata": {},
   "outputs": [
    {
     "data": {
      "text/plain": [
       "<tf.Tensor: shape=(2, 2, 3), dtype=float32, numpy=\n",
       "array([[[16., 17., 18.],\n",
       "        [19., 20., 21.]],\n",
       "\n",
       "       [[28., 29., 30.],\n",
       "        [31., 32., 33.]]], dtype=float32)>"
      ]
     },
     "execution_count": 45,
     "metadata": {},
     "output_type": "execute_result"
    }
   ],
   "source": [
    "x = [[[1.0, 2.0, 3.0], [4.0, 5.0, 6.0], [7.0, 8.0, 9.0], [10.0, 11.0, 12.0]], \n",
    "    [[13.0, 14.0, 15.0], [16.0, 17.0, 18.0], [19.0, 20.0, 21.0], [22.0, 23.0, 24.0]],\n",
    "    [[25.0, 26.0, 27.0], [28.0, 29.0, 30.0], [31.0, 32.0, 33.0], [34.0, 35.0, 36.0]],\n",
    "    [[37.0, 38.0, 39.0], [41.0, 42.0, 43.0], [44.0, 45.0, 46.0], [47.0, 48.0, 49.0]]]\n",
    "tf.image.central_crop(x, 0.5)"
   ]
  },
  {
   "cell_type": "code",
   "execution_count": 47,
   "id": "8b681beb",
   "metadata": {},
   "outputs": [
    {
     "data": {
      "text/plain": [
       "TensorShape([5, 24, 24, 3])"
      ]
     },
     "execution_count": 47,
     "metadata": {},
     "output_type": "execute_result"
    }
   ],
   "source": [
    "BATCH_SIZE = 1\n",
    "NUM_BOXES = 5\n",
    "IMAGE_HEIGHT = 256\n",
    "IMAGE_WIDTH = 256\n",
    "CHANNELS = 3\n",
    "CROP_SIZE = (24, 24)\n",
    "image = tf.random.normal(shape=(BATCH_SIZE, IMAGE_HEIGHT, IMAGE_WIDTH, CHANNELS))\n",
    "boxes = tf.random.uniform(shape=(NUM_BOXES, 4))\n",
    "box_indices = tf.random.uniform(shape=(NUM_BOXES, ), minval=0, maxval=BATCH_SIZE, dtype=tf.int32)\n",
    "output = tf.image.crop_and_resize(image, boxes, box_indices, CROP_SIZE)\n",
    "output.shape"
   ]
  },
  {
   "cell_type": "code",
   "execution_count": 48,
   "id": "78e94fac",
   "metadata": {},
   "outputs": [
    {
     "name": "stdout",
     "output_type": "stream",
     "text": [
      "tf.Tensor(\n",
      "[[ 1.  4.  7.]\n",
      " [10. 13. 16.]\n",
      " [19. 22. 25.]], shape=(3, 3), dtype=float32)\n"
     ]
    },
    {
     "data": {
      "text/plain": [
       "<tf.Tensor: shape=(2, 2), dtype=float32, numpy=\n",
       "array([[ 1.,  4.],\n",
       "       [10., 13.]], dtype=float32)>"
      ]
     },
     "execution_count": 48,
     "metadata": {},
     "output_type": "execute_result"
    }
   ],
   "source": [
    "image = tf.constant(np.arange(1, 28, dtype=np.float32), shape=[3, 3, 3])\n",
    "print(image[:,:,0])\n",
    "cropped_image = tf.image.crop_to_bounding_box(image, 0, 0, 2, 2)\n",
    "cropped_image[:, :, 0]"
   ]
  },
  {
   "cell_type": "code",
   "execution_count": 50,
   "id": "3f62b43d",
   "metadata": {},
   "outputs": [
    {
     "data": {
      "text/plain": [
       "<tf.Tensor: shape=(1, 3, 3, 3), dtype=float32, numpy=\n",
       "array([[[[1., 0., 0.],\n",
       "         [1., 0., 0.],\n",
       "         [1., 0., 0.]],\n",
       "\n",
       "        [[1., 0., 0.],\n",
       "         [0., 0., 0.],\n",
       "         [1., 0., 0.]],\n",
       "\n",
       "        [[1., 0., 0.],\n",
       "         [1., 0., 0.],\n",
       "         [1., 0., 0.]]]], dtype=float32)>"
      ]
     },
     "execution_count": 50,
     "metadata": {},
     "output_type": "execute_result"
    }
   ],
   "source": [
    "img = tf.zeros([1, 3, 3, 3])\n",
    "box = np.array([0, 0, 1, 1])\n",
    "boxes = box.reshape([1, 1, 4])\n",
    "colors = np.array([[1.0, 0.0, 0.0], [0.0, 0.0, 1.0]])\n",
    "tf.image.draw_bounding_boxes(img, boxes, colors)"
   ]
  },
  {
   "cell_type": "code",
   "execution_count": 51,
   "id": "57e33d85",
   "metadata": {},
   "outputs": [
    {
     "data": {
      "text/plain": [
       "<tf.Tensor: shape=(1, 2, 2, 1), dtype=float32, numpy=\n",
       "array([[[[4.],\n",
       "         [5.]],\n",
       "\n",
       "        [[7.],\n",
       "         [8.]]]], dtype=float32)>"
      ]
     },
     "execution_count": 51,
     "metadata": {},
     "output_type": "execute_result"
    }
   ],
   "source": [
    "x = [[[[0.0], [1.0], [2.0]], [[3.0], [4.0], [5.0]], [[6.0], [7.0], [8.0]]]]\n",
    "tf.image.extract_glimpse(x, size=(2, 2), offsets=[[1, 1]], centered=False, normalized=False)"
   ]
  },
  {
   "cell_type": "code",
   "execution_count": 53,
   "id": "34204f57",
   "metadata": {},
   "outputs": [
    {
     "data": {
      "text/plain": [
       "<tf.Tensor: shape=(1, 2, 2, 9), dtype=int32, numpy=\n",
       "array([[[[ 1,  2,  3, 11, 12, 13, 21, 22, 23],\n",
       "         [ 6,  7,  8, 16, 17, 18, 26, 27, 28]],\n",
       "\n",
       "        [[51, 52, 53, 61, 62, 63, 71, 72, 73],\n",
       "         [56, 57, 58, 66, 67, 68, 76, 77, 78]]]])>"
      ]
     },
     "execution_count": 53,
     "metadata": {},
     "output_type": "execute_result"
    }
   ],
   "source": [
    "n = 10\n",
    "images = [[[[x * n + y + 1] for y in range(n)] for x in range(n)]]\n",
    "tf.image.extract_patches(images=images, sizes=[1, 3, 3, 1], strides=[1, 5, 5, 1], rates=[1, 1, 1, 1], padding='VALID')"
   ]
  },
  {
   "cell_type": "code",
   "execution_count": 55,
   "id": "be10ad55",
   "metadata": {},
   "outputs": [
    {
     "data": {
      "text/plain": [
       "<tf.Tensor: shape=(2, 2, 3), dtype=float32, numpy=\n",
       "array([[[ 4.,  5.,  6.],\n",
       "        [ 1.,  2.,  3.]],\n",
       "\n",
       "       [[10., 11., 12.],\n",
       "        [ 7.,  8.,  9.]]], dtype=float32)>"
      ]
     },
     "execution_count": 55,
     "metadata": {},
     "output_type": "execute_result"
    }
   ],
   "source": [
    "x = [[[1.0, 2.0, 3.0], [4.0, 5.0, 6.0]], [[7.0, 8.0, 9.0], [10.0, 11.0, 12.0]]]\n",
    "tf.image.flip_left_right(x)"
   ]
  },
  {
   "cell_type": "code",
   "execution_count": 56,
   "id": "b28b8811",
   "metadata": {},
   "outputs": [
    {
     "data": {
      "text/plain": [
       "<tf.Tensor: shape=(2, 2, 3), dtype=float32, numpy=\n",
       "array([[[ 4.,  5.,  6.],\n",
       "        [ 1.,  2.,  3.]],\n",
       "\n",
       "       [[10., 11., 12.],\n",
       "        [ 7.,  8.,  9.]]], dtype=float32)>"
      ]
     },
     "execution_count": 56,
     "metadata": {},
     "output_type": "execute_result"
    }
   ],
   "source": [
    "x = [[[1.0, 2.0, 3.0], [4.0, 5.0, 6.0]], [[7.0, 8.0, 9.0], [10.0, 11.0, 12.0]]]\n",
    "tf.image.flip_left_right(x)"
   ]
  },
  {
   "cell_type": "code",
   "execution_count": 57,
   "id": "9fac520f",
   "metadata": {},
   "outputs": [
    {
     "data": {
      "text/plain": [
       "<tf.Tensor: shape=(2, 2, 3), dtype=float32, numpy=\n",
       "array([[[ 7.,  8.,  9.],\n",
       "        [10., 11., 12.]],\n",
       "\n",
       "       [[ 1.,  2.,  3.],\n",
       "        [ 4.,  5.,  6.]]], dtype=float32)>"
      ]
     },
     "execution_count": 57,
     "metadata": {},
     "output_type": "execute_result"
    }
   ],
   "source": [
    "tf.image.flip_up_down(x)"
   ]
  },
  {
   "cell_type": "code",
   "execution_count": 58,
   "id": "2aac3537",
   "metadata": {},
   "outputs": [
    {
     "name": "stdout",
     "output_type": "stream",
     "text": [
      "[[[1. 1. 1.]\n",
      "  [2. 2. 2.]\n",
      "  [3. 3. 3.]]]\n"
     ]
    }
   ],
   "source": [
    "original = tf.constant([[[1.0], [2.0], [3.0]]])\n",
    "converted = tf.image.grayscale_to_rgb(original)\n",
    "print(converted.numpy())"
   ]
  },
  {
   "cell_type": "code",
   "execution_count": 59,
   "id": "586317ba",
   "metadata": {},
   "outputs": [
    {
     "name": "stdout",
     "output_type": "stream",
     "text": [
      "tf.Tensor(\n",
      "[[ 0.  1.  2.  3.  4.]\n",
      " [ 5.  6.  7.  8.  9.]\n",
      " [10. 11. 12. 13. 14.]\n",
      " [15. 16. 17. 18. 19.]\n",
      " [20. 21. 22. 23. 24.]], shape=(5, 5), dtype=float32)\n",
      "tf.Tensor(\n",
      "[[5. 5. 5. 5. 5.]\n",
      " [5. 5. 5. 5. 5.]\n",
      " [5. 5. 5. 5. 5.]\n",
      " [5. 5. 5. 5. 5.]\n",
      " [0. 0. 0. 0. 0.]], shape=(5, 5), dtype=float32)\n",
      "tf.Tensor(\n",
      "[[1. 1. 1. 1. 0.]\n",
      " [1. 1. 1. 1. 0.]\n",
      " [1. 1. 1. 1. 0.]\n",
      " [1. 1. 1. 1. 0.]\n",
      " [1. 1. 1. 1. 0.]], shape=(5, 5), dtype=float32)\n"
     ]
    }
   ],
   "source": [
    "BATCH_SIZE = 1\n",
    "IMAGE_HEIGHT = 5\n",
    "IMAGE_WIDTH = 5\n",
    "CHANNELS = 1\n",
    "image = tf.reshape(tf.range(IMAGE_HEIGHT * IMAGE_WIDTH * CHANNELS, delta=1, dtype=tf.float32), \n",
    "                   shape=(BATCH_SIZE, IMAGE_HEIGHT, IMAGE_WIDTH, CHANNELS))\n",
    "dy, dx = tf.image.image_gradients(image)\n",
    "print(image[0, :, :, 0])\n",
    "print(dy[0, :, :, 0])\n",
    "print(dx[0, :, :, 0])"
   ]
  },
  {
   "cell_type": "code",
   "execution_count": 60,
   "id": "8f87bbce",
   "metadata": {},
   "outputs": [
    {
     "data": {
      "text/plain": [
       "<tf.Tensor: shape=(4, 4, 3), dtype=float32, numpy=\n",
       "array([[[ 0.,  0.,  0.],\n",
       "        [ 0.,  0.,  0.],\n",
       "        [ 0.,  0.,  0.],\n",
       "        [ 0.,  0.,  0.]],\n",
       "\n",
       "       [[ 0.,  0.,  0.],\n",
       "        [ 1.,  2.,  3.],\n",
       "        [ 4.,  5.,  6.],\n",
       "        [ 0.,  0.,  0.]],\n",
       "\n",
       "       [[ 0.,  0.,  0.],\n",
       "        [ 7.,  8.,  9.],\n",
       "        [10., 11., 12.],\n",
       "        [ 0.,  0.,  0.]],\n",
       "\n",
       "       [[ 0.,  0.,  0.],\n",
       "        [ 0.,  0.,  0.],\n",
       "        [ 0.,  0.,  0.],\n",
       "        [ 0.,  0.,  0.]]], dtype=float32)>"
      ]
     },
     "execution_count": 60,
     "metadata": {},
     "output_type": "execute_result"
    }
   ],
   "source": [
    "padded_image = tf.image.pad_to_bounding_box(x, 1, 1, 4, 4)\n",
    "padded_image"
   ]
  },
  {
   "cell_type": "code",
   "execution_count": 61,
   "id": "72f3ee7c",
   "metadata": {},
   "outputs": [
    {
     "data": {
      "text/plain": [
       "<tf.Tensor: shape=(2, 2, 3), dtype=float32, numpy=\n",
       "array([[[-1.593255  , -1.3035723 , -1.0138896 ],\n",
       "        [-0.7242068 , -0.4345241 , -0.14484136]],\n",
       "\n",
       "       [[ 0.14484136,  0.4345241 ,  0.7242068 ],\n",
       "        [ 1.0138896 ,  1.3035723 ,  1.593255  ]]], dtype=float32)>"
      ]
     },
     "execution_count": 61,
     "metadata": {},
     "output_type": "execute_result"
    }
   ],
   "source": [
    "image = tf.constant(np.arange(1, 13, dtype=np.int32), shape=[2, 2, 3])\n",
    "new_image = tf.image.per_image_standardization(image)\n",
    "new_image"
   ]
  },
  {
   "cell_type": "code",
   "execution_count": 62,
   "id": "2a55dae4",
   "metadata": {},
   "outputs": [
    {
     "data": {
      "text/plain": [
       "<tf.Tensor: shape=(2, 2, 3), dtype=float32, numpy=\n",
       "array([[[ 0.8405473,  1.8405473,  2.8405473],\n",
       "        [ 3.8405473,  4.8405476,  5.8405476]],\n",
       "\n",
       "       [[ 6.8405476,  7.8405476,  8.840548 ],\n",
       "        [ 9.840548 , 10.840548 , 11.840548 ]]], dtype=float32)>"
      ]
     },
     "execution_count": 62,
     "metadata": {},
     "output_type": "execute_result"
    }
   ],
   "source": [
    "tf.image.random_brightness(x, 0.2)"
   ]
  },
  {
   "cell_type": "code",
   "execution_count": 63,
   "id": "eb667d05",
   "metadata": {},
   "outputs": [
    {
     "data": {
      "text/plain": [
       "<tf.Tensor: shape=(2, 2, 3), dtype=float32, numpy=\n",
       "array([[[4.0306225, 5.0306225, 6.0306225],\n",
       "        [5.0102077, 6.0102077, 7.0102077]],\n",
       "\n",
       "       [[5.9897923, 6.9897923, 7.9897923],\n",
       "        [6.9693775, 7.9693775, 8.9693775]]], dtype=float32)>"
      ]
     },
     "execution_count": 63,
     "metadata": {},
     "output_type": "execute_result"
    }
   ],
   "source": [
    "tf.image.random_contrast(x, 0.2, 0.5)"
   ]
  },
  {
   "cell_type": "code",
   "execution_count": 64,
   "id": "fb69b80b",
   "metadata": {},
   "outputs": [
    {
     "data": {
      "text/plain": [
       "[1, 3]"
      ]
     },
     "execution_count": 64,
     "metadata": {},
     "output_type": "execute_result"
    }
   ],
   "source": [
    "image = [[1, 2, 3], [4, 5, 6]]\n",
    "result = tf.image.random_crop(value=image, size=(1, 3))\n",
    "result.shape.as_list()"
   ]
  },
  {
   "cell_type": "code",
   "execution_count": 65,
   "id": "db96d369",
   "metadata": {},
   "outputs": [
    {
     "data": {
      "text/plain": [
       "[[[2], [1]], [[4], [3]]]"
      ]
     },
     "execution_count": 65,
     "metadata": {},
     "output_type": "execute_result"
    }
   ],
   "source": [
    "image = np.array([[[1], [2]], [[3], [4]]])\n",
    "tf.image.random_flip_left_right(image, 5).numpy().tolist()"
   ]
  },
  {
   "cell_type": "code",
   "execution_count": 67,
   "id": "3422972b",
   "metadata": {},
   "outputs": [
    {
     "data": {
      "text/plain": [
       "[[[3], [4]], [[1], [2]]]"
      ]
     },
     "execution_count": 67,
     "metadata": {},
     "output_type": "execute_result"
    }
   ],
   "source": [
    "tf.image.random_flip_up_down(image, 3).numpy().tolist()"
   ]
  },
  {
   "cell_type": "code",
   "execution_count": 68,
   "id": "93ccdea8",
   "metadata": {},
   "outputs": [
    {
     "data": {
      "text/plain": [
       "<tf.Tensor: shape=(2, 2, 3), dtype=float32, numpy=\n",
       "array([[[ 1.       ,  1.6381698,  3.       ],\n",
       "        [ 4.       ,  4.63817  ,  6.       ]],\n",
       "\n",
       "       [[ 7.       ,  7.63817  ,  9.       ],\n",
       "        [10.       , 10.63817  , 12.       ]]], dtype=float32)>"
      ]
     },
     "execution_count": 68,
     "metadata": {},
     "output_type": "execute_result"
    }
   ],
   "source": [
    "tf.image.random_hue(x, 0.2)"
   ]
  },
  {
   "cell_type": "code",
   "execution_count": 2,
   "id": "9c997c66",
   "metadata": {},
   "outputs": [
    {
     "data": {
      "text/plain": [
       "<tf.Tensor: shape=(2, 2, 3), dtype=float32, numpy=\n",
       "array([[[1., 1., 1.],\n",
       "        [1., 1., 1.]],\n",
       "\n",
       "       [[1., 1., 1.],\n",
       "        [1., 1., 1.]]], dtype=float32)>"
      ]
     },
     "execution_count": 2,
     "metadata": {},
     "output_type": "execute_result"
    }
   ],
   "source": [
    "x = [[[1.0, 2.0, 3.0], [4.0, 5.0, 6.0]], [[7.0, 8.0, 9.0], [10.0, 11.0, 12.0]]]\n",
    "tf.image.random_jpeg_quality(x, 75, 95)"
   ]
  },
  {
   "cell_type": "code",
   "execution_count": 3,
   "id": "7458a245",
   "metadata": {},
   "outputs": [
    {
     "data": {
      "text/plain": [
       "<tf.Tensor: shape=(2, 2, 3), dtype=float32, numpy=\n",
       "array([[[ 0. ,  1.5,  3. ],\n",
       "        [ 0. ,  3. ,  6. ]],\n",
       "\n",
       "       [[ 0. ,  4.5,  9. ],\n",
       "        [ 0. ,  6. , 12. ]]], dtype=float32)>"
      ]
     },
     "execution_count": 3,
     "metadata": {},
     "output_type": "execute_result"
    }
   ],
   "source": [
    "tf.image.random_saturation(x, 5, 10)"
   ]
  },
  {
   "cell_type": "code",
   "execution_count": 10,
   "id": "9a10948a",
   "metadata": {},
   "outputs": [
    {
     "data": {
      "text/plain": [
       "array([[0.6666667, 0.3333333, 0.       , 0.       , 0.       ],\n",
       "       [0.       , 0.       , 1.       , 0.       , 0.       ],\n",
       "       [0.       , 0.       , 0.       , 0.3333335, 0.6666665]],\n",
       "      dtype=float32)"
      ]
     },
     "execution_count": 10,
     "metadata": {},
     "output_type": "execute_result"
    }
   ],
   "source": [
    "image = tf.constant([\n",
    "    [1, 0, 0, 0, 0],\n",
    "    [0, 1, 0, 0, 0],\n",
    "    [0, 0, 1, 0, 0],\n",
    "    [0, 0, 0, 1, 0],\n",
    "    [0, 0, 0, 0, 1]\n",
    "])\n",
    "image = image[tf.newaxis, ..., tf.newaxis]\n",
    "tf.image.resize(image, [3, 5])[0, ..., 0].numpy()"
   ]
  },
  {
   "cell_type": "code",
   "execution_count": 11,
   "id": "86aae92c",
   "metadata": {},
   "outputs": [
    {
     "data": {
      "text/plain": [
       "<tf.Tensor: shape=(3, 3, 3), dtype=int32, numpy=\n",
       "array([[[18, 19, 20],\n",
       "        [21, 22, 23],\n",
       "        [24, 25, 26]],\n",
       "\n",
       "       [[33, 34, 35],\n",
       "        [36, 37, 38],\n",
       "        [39, 40, 41]],\n",
       "\n",
       "       [[48, 49, 50],\n",
       "        [51, 52, 53],\n",
       "        [54, 55, 56]]])>"
      ]
     },
     "execution_count": 11,
     "metadata": {},
     "output_type": "execute_result"
    }
   ],
   "source": [
    "image = np.arange(75).reshape(5, 5, 3)\n",
    "tf.image.resize_with_crop_or_pad(image, 3, 3)"
   ]
  },
  {
   "cell_type": "code",
   "execution_count": 13,
   "id": "3f7b9634",
   "metadata": {},
   "outputs": [
    {
     "data": {
      "text/plain": [
       "array([[[1.8149]]], dtype=float32)"
      ]
     },
     "execution_count": 13,
     "metadata": {},
     "output_type": "execute_result"
    }
   ],
   "source": [
    "original = tf.constant([[[1.0, 2.0, 3.0]]])\n",
    "converted = tf.image.rgb_to_grayscale(original)\n",
    "converted.numpy()"
   ]
  },
  {
   "cell_type": "code",
   "execution_count": 14,
   "id": "87acf1db",
   "metadata": {},
   "outputs": [
    {
     "data": {
      "text/plain": [
       "array([0.6666667, 1.       , 1.       ], dtype=float32)"
      ]
     },
     "execution_count": 14,
     "metadata": {},
     "output_type": "execute_result"
    }
   ],
   "source": [
    "blue_image = tf.stack([\n",
    "    tf.zeros([5, 5]),\n",
    "    tf.zeros([5, 5]),\n",
    "    tf.ones([5, 5])\n",
    "], axis=-1)\n",
    "blue_hsv_image = tf.image.rgb_to_hsv(blue_image)\n",
    "blue_hsv_image[0, 0].numpy()"
   ]
  },
  {
   "cell_type": "code",
   "execution_count": 15,
   "id": "56e37241",
   "metadata": {},
   "outputs": [
    {
     "data": {
      "text/plain": [
       "<tf.Tensor: shape=(1, 1, 3), dtype=float32, numpy=array([[[ 1.815     , -0.91724455,  0.09962624]]], dtype=float32)>"
      ]
     },
     "execution_count": 15,
     "metadata": {},
     "output_type": "execute_result"
    }
   ],
   "source": [
    "x = tf.constant([[[1.0, 2.0, 3.0]]])\n",
    "tf.image.rgb_to_yiq(x)"
   ]
  },
  {
   "cell_type": "code",
   "execution_count": 21,
   "id": "6d9cf3f0",
   "metadata": {},
   "outputs": [
    {
     "data": {
      "text/plain": [
       "<tf.Tensor: shape=(2, 2), dtype=int32, numpy=\n",
       "array([[2, 4],\n",
       "       [1, 3]])>"
      ]
     },
     "execution_count": 21,
     "metadata": {},
     "output_type": "execute_result"
    }
   ],
   "source": [
    "a = tf.constant([[[1], [2]], [[3], [4]]])\n",
    "tf.image.rot90(a)[..., 0]"
   ]
  },
  {
   "cell_type": "code",
   "execution_count": 22,
   "id": "0464869e",
   "metadata": {},
   "outputs": [
    {
     "data": {
      "text/plain": [
       "<tf.Tensor: shape=(2, 2, 3), dtype=float32, numpy=\n",
       "array([[[ 1.1376241,  2.1376243,  3.1376243],\n",
       "        [ 4.1376243,  5.1376243,  6.1376243]],\n",
       "\n",
       "       [[ 7.1376243,  8.137624 ,  9.137624 ],\n",
       "        [10.137624 , 11.137624 , 12.137624 ]]], dtype=float32)>"
      ]
     },
     "execution_count": 22,
     "metadata": {},
     "output_type": "execute_result"
    }
   ],
   "source": [
    "x = [[[1.0, 2.0, 3.0], [4.0, 5.0, 6.0]], [[7.0, 8.0, 9.0], [10.0, 11.0, 12.0]]]\n",
    "seed = (1, 2)\n",
    "tf.image.stateless_random_brightness(x, 0.2, seed)"
   ]
  },
  {
   "cell_type": "code",
   "execution_count": 23,
   "id": "5461368b",
   "metadata": {},
   "outputs": [
    {
     "data": {
      "text/plain": [
       "<tf.Tensor: shape=(2, 2, 3), dtype=float32, numpy=\n",
       "array([[[3.4605184, 4.4605184, 5.4605184],\n",
       "        [4.820173 , 5.820173 , 6.820173 ]],\n",
       "\n",
       "       [[6.179827 , 7.179827 , 8.179827 ],\n",
       "        [7.5394816, 8.539482 , 9.539482 ]]], dtype=float32)>"
      ]
     },
     "execution_count": 23,
     "metadata": {},
     "output_type": "execute_result"
    }
   ],
   "source": [
    "tf.image.stateless_random_contrast(x, 0.2, 0.5, seed)"
   ]
  },
  {
   "cell_type": "code",
   "execution_count": 24,
   "id": "203efc42",
   "metadata": {},
   "outputs": [
    {
     "data": {
      "text/plain": [
       "<tf.Tensor: shape=(1, 2, 3), dtype=int32, numpy=\n",
       "array([[[3, 4, 5],\n",
       "        [6, 7, 8]]])>"
      ]
     },
     "execution_count": 24,
     "metadata": {},
     "output_type": "execute_result"
    }
   ],
   "source": [
    "tf.image.stateless_random_crop(value=image, size=(1, 2, 3), seed=seed)"
   ]
  },
  {
   "cell_type": "code",
   "execution_count": 25,
   "id": "ecb1b2fa",
   "metadata": {},
   "outputs": [
    {
     "data": {
      "text/plain": [
       "[[[2], [1]], [[4], [3]]]"
      ]
     },
     "execution_count": 25,
     "metadata": {},
     "output_type": "execute_result"
    }
   ],
   "source": [
    "image = np.array([[[1], [2]], [[3], [4]]])\n",
    "seed = (2, 3)\n",
    "tf.image.stateless_random_flip_left_right(image, seed).numpy().tolist()"
   ]
  },
  {
   "cell_type": "code",
   "execution_count": 27,
   "id": "943d452d",
   "metadata": {},
   "outputs": [
    {
     "data": {
      "text/plain": [
       "[[[3], [4]], [[1], [2]]]"
      ]
     },
     "execution_count": 27,
     "metadata": {},
     "output_type": "execute_result"
    }
   ],
   "source": [
    "tf.image.stateless_random_flip_up_down(image, seed=seed).numpy().tolist()"
   ]
  },
  {
   "cell_type": "code",
   "execution_count": 28,
   "id": "a5729be0",
   "metadata": {},
   "outputs": [
    {
     "data": {
      "text/plain": [
       "<tf.Tensor: shape=(2, 2, 3), dtype=float32, numpy=\n",
       "array([[[ 1.      ,  3.      ,  2.439105],\n",
       "        [ 4.      ,  6.      ,  5.439105]],\n",
       "\n",
       "       [[ 7.      ,  9.      ,  8.439105],\n",
       "        [10.      , 12.      , 11.439105]]], dtype=float32)>"
      ]
     },
     "execution_count": 28,
     "metadata": {},
     "output_type": "execute_result"
    }
   ],
   "source": [
    "tf.image.stateless_random_hue(x, 0.2, seed)"
   ]
  },
  {
   "cell_type": "code",
   "execution_count": 30,
   "id": "66f6f59b",
   "metadata": {},
   "outputs": [
    {
     "data": {
      "text/plain": [
       "<tf.Tensor: shape=(2, 2, 3), dtype=uint8, numpy=\n",
       "array([[[ 0,  3,  4],\n",
       "        [ 1,  5,  6]],\n",
       "\n",
       "       [[ 5,  9, 10],\n",
       "        [ 6, 10, 11]]], dtype=uint8)>"
      ]
     },
     "execution_count": 30,
     "metadata": {},
     "output_type": "execute_result"
    }
   ],
   "source": [
    "x_uint = tf.cast(x, tf.uint8)\n",
    "tf.image.stateless_random_jpeg_quality(x_uint, 75, 95, seed)"
   ]
  },
  {
   "cell_type": "code",
   "execution_count": 31,
   "id": "839998c0",
   "metadata": {},
   "outputs": [
    {
     "data": {
      "text/plain": [
       "<tf.Tensor: shape=(2, 2, 3), dtype=float32, numpy=\n",
       "array([[[ 1.8251865,  2.4125934,  3.       ],\n",
       "        [ 4.8251867,  5.4125934,  6.       ]],\n",
       "\n",
       "       [[ 7.8251863,  8.412593 ,  9.       ],\n",
       "        [10.825187 , 11.412594 , 12.       ]]], dtype=float32)>"
      ]
     },
     "execution_count": 31,
     "metadata": {},
     "output_type": "execute_result"
    }
   ],
   "source": [
    "tf.image.stateless_random_saturation(x, 0.5, 1.0, seed)"
   ]
  },
  {
   "cell_type": "code",
   "execution_count": 32,
   "id": "0935169d",
   "metadata": {},
   "outputs": [
    {
     "data": {
      "text/plain": [
       "<tf.Tensor: shape=(2, 2, 3), dtype=float32, numpy=\n",
       "array([[[ 1.,  2.,  3.],\n",
       "        [ 7.,  8.,  9.]],\n",
       "\n",
       "       [[ 4.,  5.,  6.],\n",
       "        [10., 11., 12.]]], dtype=float32)>"
      ]
     },
     "execution_count": 32,
     "metadata": {},
     "output_type": "execute_result"
    }
   ],
   "source": [
    "tf.image.transpose(x)"
   ]
  },
  {
   "cell_type": "code",
   "execution_count": 33,
   "id": "f9822ca2",
   "metadata": {},
   "outputs": [
    {
     "data": {
      "text/plain": [
       "<tf.Tensor: shape=(3,), dtype=uint8, numpy=array([49, 50, 51], dtype=uint8)>"
      ]
     },
     "execution_count": 33,
     "metadata": {},
     "output_type": "execute_result"
    }
   ],
   "source": [
    "tf.io.decode_raw(tf.constant(\"123\"), tf.uint8)"
   ]
  },
  {
   "cell_type": "code",
   "execution_count": 34,
   "id": "5a63600c",
   "metadata": {},
   "outputs": [
    {
     "data": {
      "text/plain": [
       "<tf.Tensor: shape=(), dtype=string, numpy=b'\\x08\\x03\\x12\\x08\\x12\\x02\\x08\\x02\\x12\\x02\\x08\\x02\"\\x10\\x01\\x00\\x00\\x00\\x02\\x00\\x00\\x00\\x07\\x00\\x00\\x00\\x08\\x00\\x00\\x00'>"
      ]
     },
     "execution_count": 34,
     "metadata": {},
     "output_type": "execute_result"
    }
   ],
   "source": [
    "t1 = [[1, 2]]\n",
    "t2 = [[7, 8]]\n",
    "nonscalar = tf.concat([t1, t2], 0)\n",
    "tf.io.serialize_tensor(nonscalar)"
   ]
  },
  {
   "cell_type": "code",
   "execution_count": 35,
   "id": "aaabdadf",
   "metadata": {},
   "outputs": [
    {
     "data": {
      "text/plain": [
       "array([ 0.04978707,  0.36787945,  1.        ,  2.7182817 , 20.085537  ],\n",
       "      dtype=float32)"
      ]
     },
     "execution_count": 35,
     "metadata": {},
     "output_type": "execute_result"
    }
   ],
   "source": [
    "a = tf.constant([-3.0, -1.0, 0.0, 1.0, 3.0], dtype=tf.float32)\n",
    "b = tf.keras.activations.exponential(a)\n",
    "b.numpy()"
   ]
  },
  {
   "cell_type": "code",
   "execution_count": 37,
   "id": "9147d4b1",
   "metadata": {},
   "outputs": [
    {
     "name": "stdout",
     "output_type": "stream",
     "text": [
      "[-0.00404951 -0.15865529  0.          0.8413447   2.9959507 ]\n",
      "[-0.00363752 -0.15880796  0.          0.841192    2.9963627 ]\n"
     ]
    }
   ],
   "source": [
    "y = tf.keras.activations.gelu(a)\n",
    "print(y.numpy())\n",
    "y = tf.keras.activations.gelu(a, approximate=True)\n",
    "print(y.numpy())"
   ]
  },
  {
   "cell_type": "code",
   "execution_count": 39,
   "id": "e34469a8",
   "metadata": {},
   "outputs": [
    {
     "data": {
      "text/plain": [
       "array([0. , 0.3, 0.5, 0.7, 1. ], dtype=float32)"
      ]
     },
     "execution_count": 39,
     "metadata": {},
     "output_type": "execute_result"
    }
   ],
   "source": [
    "tf.keras.activations.hard_sigmoid(a).numpy()"
   ]
  },
  {
   "cell_type": "code",
   "execution_count": 40,
   "id": "33adfa9d",
   "metadata": {},
   "outputs": [
    {
     "data": {
      "text/plain": [
       "array([-3., -1.,  0.,  1.,  3.], dtype=float32)"
      ]
     },
     "execution_count": 40,
     "metadata": {},
     "output_type": "execute_result"
    }
   ],
   "source": [
    "tf.keras.activations.linear(a).numpy()"
   ]
  },
  {
   "cell_type": "code",
   "execution_count": 41,
   "id": "2e49043c",
   "metadata": {},
   "outputs": [
    {
     "name": "stdout",
     "output_type": "stream",
     "text": [
      "[0. 0. 0. 1. 3.]\n",
      "[-1.5 -0.5  0.   1.   3. ]\n",
      "[0. 0. 0. 1. 3.]\n"
     ]
    },
    {
     "data": {
      "text/plain": [
       "array([-0., -0.,  0.,  0.,  0.], dtype=float32)"
      ]
     },
     "execution_count": 41,
     "metadata": {},
     "output_type": "execute_result"
    }
   ],
   "source": [
    "print(tf.keras.activations.relu(a).numpy())\n",
    "print(tf.keras.activations.relu(a, alpha=0.5).numpy())\n",
    "print(tf.keras.activations.relu(a, max_value=5.).numpy())\n",
    "tf.keras.activations.relu(a, threshold=5.).numpy()"
   ]
  },
  {
   "cell_type": "code",
   "execution_count": 43,
   "id": "970f7424",
   "metadata": {},
   "outputs": [
    {
     "data": {
      "text/plain": [
       "array([2.0611537e-09, 2.6894143e-01, 5.0000000e-01, 7.3105860e-01,\n",
       "       1.0000000e+00], dtype=float32)"
      ]
     },
     "execution_count": 43,
     "metadata": {},
     "output_type": "execute_result"
    }
   ],
   "source": [
    "a = tf.constant([-20, -1.0, 0.0, 1.0, 20], dtype=tf.float32)\n",
    "tf.keras.activations.sigmoid(a).numpy()"
   ]
  },
  {
   "cell_type": "code",
   "execution_count": 44,
   "id": "fd90aebe",
   "metadata": {},
   "outputs": [
    {
     "data": {
      "text/plain": [
       "<tf.Tensor: shape=(), dtype=float32, numpy=0.99999994>"
      ]
     },
     "execution_count": 44,
     "metadata": {},
     "output_type": "execute_result"
    }
   ],
   "source": [
    "inputs = tf.random.normal(shape=(32, 10))\n",
    "outputs = tf.keras.activations.softmax(inputs)\n",
    "tf.reduce_sum(outputs[0, :])"
   ]
  },
  {
   "cell_type": "code",
   "execution_count": 45,
   "id": "40588570",
   "metadata": {},
   "outputs": [
    {
     "data": {
      "text/plain": [
       "array([2.0611537e-09, 3.1326172e-01, 6.9314718e-01, 1.3132616e+00,\n",
       "       2.0000000e+01], dtype=float32)"
      ]
     },
     "execution_count": 45,
     "metadata": {},
     "output_type": "execute_result"
    }
   ],
   "source": [
    "tf.keras.activations.softplus(a).numpy()"
   ]
  },
  {
   "cell_type": "code",
   "execution_count": 46,
   "id": "50f369cb",
   "metadata": {},
   "outputs": [
    {
     "data": {
      "text/plain": [
       "array([-0.5,  0. ,  0.5], dtype=float32)"
      ]
     },
     "execution_count": 46,
     "metadata": {},
     "output_type": "execute_result"
    }
   ],
   "source": [
    "a = tf.constant([-1.0, 0.0, 1.0], dtype=tf.float32)\n",
    "b = tf.keras.activations.softsign(a)\n",
    "b.numpy()"
   ]
  },
  {
   "cell_type": "code",
   "execution_count": 47,
   "id": "b4203959",
   "metadata": {},
   "outputs": [
    {
     "data": {
      "text/plain": [
       "array([-4.1223075e-08, -2.6894143e-01,  0.0000000e+00,  7.3105860e-01,\n",
       "        2.0000000e+01], dtype=float32)"
      ]
     },
     "execution_count": 47,
     "metadata": {},
     "output_type": "execute_result"
    }
   ],
   "source": [
    "a = tf.constant([-20, -1.0, 0.0, 1.0, 20], dtype=tf.float32)\n",
    "tf.keras.activations.swish(a).numpy()"
   ]
  },
  {
   "cell_type": "code",
   "execution_count": 48,
   "id": "948d2082",
   "metadata": {},
   "outputs": [
    {
     "data": {
      "text/plain": [
       "array([-0.9950547, -0.7615942,  0.       ,  0.7615942,  0.9950547],\n",
       "      dtype=float32)"
      ]
     },
     "execution_count": 48,
     "metadata": {},
     "output_type": "execute_result"
    }
   ],
   "source": [
    "a = tf.constant([-3.0, -1.0, 0.0, 1.0, 3.0])\n",
    "b = tf.keras.activations.tanh(a)\n",
    "b.numpy()"
   ]
  },
  {
   "cell_type": "code",
   "execution_count": 49,
   "id": "83805b78",
   "metadata": {},
   "outputs": [
    {
     "data": {
      "text/plain": [
       "'channels_last'"
      ]
     },
     "execution_count": 49,
     "metadata": {},
     "output_type": "execute_result"
    }
   ],
   "source": [
    "tf.keras.backend.image_data_format()"
   ]
  },
  {
   "cell_type": "code",
   "execution_count": 53,
   "id": "63b2408f",
   "metadata": {},
   "outputs": [
    {
     "name": "stdout",
     "output_type": "stream",
     "text": [
      "WARNING:tensorflow:`tf.keras.callbacks.experimental.BackupAndRestore` endpoint is deprecated and will be removed in a future release. Please use `tf.keras.callbacks.BackupAndRestore`.\n"
     ]
    },
    {
     "data": {
      "text/plain": [
       "10"
      ]
     },
     "execution_count": 53,
     "metadata": {},
     "output_type": "execute_result"
    }
   ],
   "source": [
    "class InterruptingCallback(tf.keras.callbacks.Callback):\n",
    "    def on_epoch_begin(self, epoch, logs=None):\n",
    "        if epoch == 4:\n",
    "            raise RuntimeError('Interrupting!')\n",
    "callback = tf.keras.callbacks.experimental.BackupAndRestore(backup_dir=\"/tmp/backup\")\n",
    "model = tf.keras.models.Sequential([tf.keras.layers.Dense(10)])\n",
    "model.compile(tf.keras.optimizers.SGD(), loss=\"mse\")\n",
    "try:\n",
    "    model.fit(np.arange(100).reshape(5, 20), np.zeros(5), epochs=10, batch_size=1, callbacks=[callback, \n",
    "                                            InterruptionCallback()], verbose=0)\n",
    "except:\n",
    "    pass\n",
    "history = model.fit(np.arange(100).reshape(5, 20), np.zeros(5), epochs=10, batch_size=1, callbacks=[callback], \n",
    "                    verbose=0)\n",
    "len(history.history['loss'])"
   ]
  },
  {
   "cell_type": "code",
   "execution_count": 51,
   "id": "d9919489",
   "metadata": {},
   "outputs": [],
   "source": [
    "history = model.fit(np.arange(100).reshape(5, 20), np.zeros(5), epochs=10, batch_size=1, callbacks=[callback], \n",
    "                    verbose=0)"
   ]
  },
  {
   "cell_type": "code",
   "execution_count": 52,
   "id": "9592e978",
   "metadata": {},
   "outputs": [
    {
     "data": {
      "text/plain": [
       "10"
      ]
     },
     "execution_count": 52,
     "metadata": {},
     "output_type": "execute_result"
    }
   ],
   "source": [
    "len(history.history['loss'])"
   ]
  },
  {
   "cell_type": "code",
   "execution_count": 3,
   "id": "445d3bc4",
   "metadata": {},
   "outputs": [],
   "source": [
    "callback = tf.keras.callbacks.EarlyStopping(monitor=\"loss\", patience=3)\n",
    "model = tf.keras.models.Sequential([tf.keras.layers.Dense(10)])\n",
    "model.compile(tf.keras.optimizers.SGD(), loss=\"mse\")\n",
    "history = model.fit(np.arange(100).reshape(5, 20), np.zeros(5), epochs=10, batch_size=1, callbacks=[callback], \n",
    "                    verbose=0)"
   ]
  },
  {
   "cell_type": "code",
   "execution_count": 4,
   "id": "813c1268",
   "metadata": {},
   "outputs": [
    {
     "data": {
      "text/plain": [
       "4"
      ]
     },
     "execution_count": 4,
     "metadata": {},
     "output_type": "execute_result"
    }
   ],
   "source": [
    "len(history.history[\"loss\"])"
   ]
  },
  {
   "cell_type": "code",
   "execution_count": 6,
   "id": "849de4dd",
   "metadata": {},
   "outputs": [
    {
     "data": {
      "text/plain": [
       "<tf.Tensor: shape=(2,), dtype=float32, numpy=array([-0.,  1.], dtype=float32)>"
      ]
     },
     "execution_count": 6,
     "metadata": {},
     "output_type": "execute_result"
    }
   ],
   "source": [
    "class NonNegative(tf.keras.constraints.Constraint):\n",
    "    def __call__(self, w):\n",
    "        return w * tf.cast(tf.math.greater_equal(w, 0.), w.dtype)\n",
    "weight = tf.constant((-1.0, 1.0))\n",
    "NonNegative()(weight)"
   ]
  },
  {
   "cell_type": "code",
   "execution_count": 7,
   "id": "c2d6b9e3",
   "metadata": {},
   "outputs": [
    {
     "data": {
      "text/plain": [
       "[0.0, 0.0, 0.0, 2.0]"
      ]
     },
     "execution_count": 7,
     "metadata": {},
     "output_type": "execute_result"
    }
   ],
   "source": [
    "layer = tf.keras.layers.Activation('relu')\n",
    "output = layer([-3.0, -1.0, 0.0, 2.0])\n",
    "list(output.numpy())"
   ]
  },
  {
   "cell_type": "code",
   "execution_count": 10,
   "id": "4852755a",
   "metadata": {},
   "outputs": [
    {
     "name": "stdout",
     "output_type": "stream",
     "text": [
      "tf.Tensor(\n",
      "[[[1.]\n",
      "  [2.]\n",
      "  [3.]\n",
      "  [4.]\n",
      "  [5.]]], shape=(1, 5, 1), dtype=float32)\n"
     ]
    },
    {
     "data": {
      "text/plain": [
       "<tf.Tensor: shape=(1, 4, 1), dtype=float32, numpy=\n",
       "array([[[1.5],\n",
       "        [2.5],\n",
       "        [3.5],\n",
       "        [4.5]]], dtype=float32)>"
      ]
     },
     "execution_count": 10,
     "metadata": {},
     "output_type": "execute_result"
    }
   ],
   "source": [
    "x = tf.constant([1., 2., 3., 4., 5.])\n",
    "x = tf.reshape(x, [1, 5, 1])\n",
    "print(x)\n",
    "tf.keras.layers.AveragePooling1D(pool_size=2, strides=1, padding=\"valid\")(x)"
   ]
  },
  {
   "cell_type": "code",
   "execution_count": 11,
   "id": "e2c858aa",
   "metadata": {},
   "outputs": [
    {
     "name": "stdout",
     "output_type": "stream",
     "text": [
      "tf.Tensor([[[[3.]]]], shape=(1, 1, 1, 1), dtype=float32)\n"
     ]
    }
   ],
   "source": [
    "x = tf.constant([[1., 2., 3.], [4., 5., 6.], [7., 8., 9.]])\n",
    "x = tf.reshape(x, [1, 3, 3, 1])\n",
    "print(tf.keras.layers.AveragePooling2D(pool_size=(2, 2), strides=(2, 2), padding=\"valid\")(x))"
   ]
  },
  {
   "cell_type": "code",
   "execution_count": 12,
   "id": "6aabf20e",
   "metadata": {},
   "outputs": [
    {
     "data": {
      "text/plain": [
       "<tf.Tensor: shape=(1, 3, 3, 1), dtype=float32, numpy=\n",
       "array([[[[0.9995004],\n",
       "         [1.9990008],\n",
       "         [2.9985013]],\n",
       "\n",
       "        [[3.9980016],\n",
       "         [4.997502 ],\n",
       "         [5.9970026]],\n",
       "\n",
       "        [[6.996503 ],\n",
       "         [7.996003 ],\n",
       "         [8.995503 ]]]], dtype=float32)>"
      ]
     },
     "execution_count": 12,
     "metadata": {},
     "output_type": "execute_result"
    }
   ],
   "source": [
    "tf.keras.layers.BatchNormalization()(x)"
   ]
  },
  {
   "cell_type": "code",
   "execution_count": 13,
   "id": "edff1e36",
   "metadata": {},
   "outputs": [
    {
     "data": {
      "text/plain": [
       "<tf.Tensor: shape=(4, 4), dtype=float32, numpy=\n",
       "array([[0., 0., 0., 1.],\n",
       "       [0., 0., 1., 0.],\n",
       "       [1., 0., 0., 0.],\n",
       "       [0., 1., 0., 0.]], dtype=float32)>"
      ]
     },
     "execution_count": 13,
     "metadata": {},
     "output_type": "execute_result"
    }
   ],
   "source": [
    "layer = tf.keras.layers.CategoryEncoding(num_tokens=4, output_mode=\"one_hot\")\n",
    "layer([3, 2, 0, 1])"
   ]
  },
  {
   "cell_type": "code",
   "execution_count": 14,
   "id": "be005f2b",
   "metadata": {},
   "outputs": [
    {
     "name": "stdout",
     "output_type": "stream",
     "text": [
      "(4, 8, 32)\n"
     ]
    }
   ],
   "source": [
    "input_shape = (4, 10, 128)\n",
    "x = tf.random.normal(input_shape)\n",
    "y = tf.keras.layers.Conv1D(32, 3, activation=\"relu\", input_shape=input_shape[1:])(x)\n",
    "print(y.shape)"
   ]
  },
  {
   "cell_type": "code",
   "execution_count": 15,
   "id": "3c4b3437",
   "metadata": {},
   "outputs": [
    {
     "name": "stdout",
     "output_type": "stream",
     "text": [
      "(4, 26, 26, 2)\n"
     ]
    }
   ],
   "source": [
    "input_shape = (4, 28, 28, 3)\n",
    "x = tf.random.normal(input_shape)\n",
    "y = tf.keras.layers.Conv2D(2, 3, activation=\"relu\", input_shape=input_shape[1:])(x)\n",
    "print(y.shape)"
   ]
  },
  {
   "cell_type": "code",
   "execution_count": 21,
   "id": "e4bfc7ec",
   "metadata": {},
   "outputs": [
    {
     "name": "stdout",
     "output_type": "stream",
     "text": [
      "(4, 26, 26, 26, 2)\n"
     ]
    }
   ],
   "source": [
    "input_shape = (4, 28, 28, 28, 1)\n",
    "x = tf.random.normal(input_shape)\n",
    "y = tf.keras.layers.Conv3D(2, 3, activation=\"relu\", input_shape=input_shape[1:])(x)\n",
    "print(y.shape)"
   ]
  },
  {
   "cell_type": "code",
   "execution_count": 24,
   "id": "1b82f284",
   "metadata": {},
   "outputs": [
    {
     "data": {
      "text/plain": [
       "TensorShape([4, 26, 32])"
      ]
     },
     "execution_count": 24,
     "metadata": {},
     "output_type": "execute_result"
    }
   ],
   "source": [
    "input_shape = (4, 28, 28, 3)\n",
    "x = tf.random.normal(input_shape)\n",
    "tf.keras.layers.ConvLSTM1D(32, 3)(x).shape"
   ]
  },
  {
   "cell_type": "code",
   "execution_count": 25,
   "id": "b84a2ac6",
   "metadata": {},
   "outputs": [
    {
     "name": "stdout",
     "output_type": "stream",
     "text": [
      "[[[ 0  1]\n",
      "  [ 2  3]\n",
      "  [ 4  5]]\n",
      "\n",
      " [[ 6  7]\n",
      "  [ 8  9]\n",
      "  [10 11]]]\n",
      "tf.Tensor(\n",
      "[[[2 3]]\n",
      "\n",
      " [[8 9]]], shape=(2, 1, 2), dtype=int32)\n"
     ]
    }
   ],
   "source": [
    "input_shape = (2, 3, 2)\n",
    "x = np.arange(np.prod(input_shape)).reshape(input_shape)\n",
    "print(x)\n",
    "y = tf.keras.layers.Cropping1D(cropping=1)(x)\n",
    "print(y)"
   ]
  },
  {
   "cell_type": "code",
   "execution_count": 26,
   "id": "9bcbe60f",
   "metadata": {},
   "outputs": [
    {
     "name": "stdout",
     "output_type": "stream",
     "text": [
      "(2, 24, 20, 3)\n"
     ]
    }
   ],
   "source": [
    "input_shape = (2, 28, 28, 3)\n",
    "x = np.arange(np.prod(input_shape)).reshape(input_shape)\n",
    "y = tf.keras.layers.Cropping2D(cropping=((2, 2), (4, 4)))(x)\n",
    "print(y.shape)"
   ]
  },
  {
   "cell_type": "code",
   "execution_count": 27,
   "id": "88a29477",
   "metadata": {},
   "outputs": [
    {
     "name": "stdout",
     "output_type": "stream",
     "text": [
      "(2, 24, 20, 6, 3)\n"
     ]
    }
   ],
   "source": [
    "input_shape = (2, 28, 28, 10, 3)\n",
    "x = np.arange(np.prod(input_shape)).reshape(input_shape)\n",
    "y = tf.keras.layers.Cropping3D(cropping=(2, 4, 2))(x)\n",
    "print(y.shape)"
   ]
  },
  {
   "cell_type": "code",
   "execution_count": 2,
   "id": "e0f02a4b",
   "metadata": {},
   "outputs": [
    {
     "data": {
      "text/plain": [
       "(None, 32)"
      ]
     },
     "execution_count": 2,
     "metadata": {},
     "output_type": "execute_result"
    }
   ],
   "source": [
    "model = tf.keras.models.Sequential()\n",
    "model.add(tf.keras.Input(shape=(16,)))\n",
    "model.add(tf.keras.layers.Dense(32, activation=\"relu\"))\n",
    "model.add(tf.keras.layers.Dense(32))\n",
    "model.output_shape"
   ]
  },
  {
   "cell_type": "code",
   "execution_count": 4,
   "id": "e379815d",
   "metadata": {},
   "outputs": [
    {
     "data": {
      "text/plain": [
       "<tf.Tensor: shape=(2, 4), dtype=int64, numpy=\n",
       "array([[0, 2, 3, 1],\n",
       "       [1, 3, 2, 1]], dtype=int64)>"
      ]
     },
     "execution_count": 4,
     "metadata": {},
     "output_type": "execute_result"
    }
   ],
   "source": [
    "input = np.array([[-1.5, 1.0, 3.4, .5], [0.0, 3.0, 1.3, 0.0]])\n",
    "layer = tf.keras.layers.Discretization(bin_boundaries=[0., 1., 2.])\n",
    "layer(input)"
   ]
  },
  {
   "cell_type": "code",
   "execution_count": 5,
   "id": "9bfc560a",
   "metadata": {},
   "outputs": [
    {
     "name": "stdout",
     "output_type": "stream",
     "text": [
      "[[[0 1]\n",
      "  [2 3]\n",
      "  [4 5]\n",
      "  [6 7]\n",
      "  [8 9]]]\n",
      "[[[10 11 12 13 14]\n",
      "  [15 16 17 18 19]]]\n"
     ]
    },
    {
     "data": {
      "text/plain": [
       "<tf.Tensor: shape=(1, 2, 2), dtype=int32, numpy=\n",
       "array([[[260, 360],\n",
       "        [320, 445]]])>"
      ]
     },
     "execution_count": 5,
     "metadata": {},
     "output_type": "execute_result"
    }
   ],
   "source": [
    "x = np.arange(10).reshape(1, 5, 2)\n",
    "print(x)\n",
    "y = np.arange(10, 20).reshape(1, 2, 5)\n",
    "print(y)\n",
    "tf.keras.layers.Dot(axes=(1, 2))([x, y])"
   ]
  },
  {
   "cell_type": "code",
   "execution_count": 6,
   "id": "a67c47db",
   "metadata": {},
   "outputs": [
    {
     "name": "stdout",
     "output_type": "stream",
     "text": [
      "[[0. 1.]\n",
      " [2. 3.]\n",
      " [4. 5.]\n",
      " [6. 7.]\n",
      " [8. 9.]]\n",
      "tf.Tensor(\n",
      "[[ 0.    1.25]\n",
      " [ 2.5   3.75]\n",
      " [ 5.    6.25]\n",
      " [ 7.5   8.75]\n",
      " [10.    0.  ]], shape=(5, 2), dtype=float32)\n"
     ]
    }
   ],
   "source": [
    "tf.random.set_seed(0)\n",
    "layer = tf.keras.layers.Dropout(.2, input_shape=(2,))\n",
    "data = np.arange(10).reshape(5, 2).astype(np.float32)\n",
    "print(data)\n",
    "outputs = layer(data, training=True)\n",
    "print(outputs)"
   ]
  },
  {
   "cell_type": "code",
   "execution_count": 10,
   "id": "4d39c278",
   "metadata": {},
   "outputs": [
    {
     "name": "stdout",
     "output_type": "stream",
     "text": [
      "(32, 10, 64)\n"
     ]
    }
   ],
   "source": [
    "model = tf.keras.Sequential()\n",
    "model.add(tf.keras.layers.Embedding(1000, 64, input_length=10))\n",
    "input_array = np.random.randint(1000, size=(32, 10))\n",
    "model.compile(\"rmsprop\", \"mse\")\n",
    "output_array = model.predict(input_array)\n",
    "print(output_array.shape)"
   ]
  },
  {
   "cell_type": "code",
   "execution_count": 14,
   "id": "9fd471c5",
   "metadata": {},
   "outputs": [
    {
     "name": "stdout",
     "output_type": "stream",
     "text": [
      "(None, 1, 10, 64)\n"
     ]
    },
    {
     "data": {
      "text/plain": [
       "(None, 640)"
      ]
     },
     "execution_count": 14,
     "metadata": {},
     "output_type": "execute_result"
    }
   ],
   "source": [
    "model = tf.keras.Sequential()\n",
    "model.add(tf.keras.layers.Conv2D(64, 3, 3, input_shape=(3, 32, 32)))\n",
    "print(model.output_shape)\n",
    "model.add(tf.keras.layers.Flatten())\n",
    "model.output_shape"
   ]
  },
  {
   "cell_type": "code",
   "execution_count": 16,
   "id": "52f4fdd7",
   "metadata": {},
   "outputs": [
    {
     "name": "stdout",
     "output_type": "stream",
     "text": [
      "(32, 4)\n",
      "(32, 10, 4)\n",
      "(32, 4)\n"
     ]
    }
   ],
   "source": [
    "inputs = tf.random.normal([32, 10, 8])\n",
    "gru = tf.keras.layers.GRU(4)\n",
    "output = gru(inputs)\n",
    "print(output.shape)\n",
    "gru = tf.keras.layers.GRU(4, return_sequences=True, return_state=True)\n",
    "whole_sequence_output, final_state = gru(inputs)\n",
    "print(whole_sequence_output.shape)\n",
    "print(final_state.shape)"
   ]
  },
  {
   "cell_type": "code",
   "execution_count": 18,
   "id": "364c8037",
   "metadata": {},
   "outputs": [
    {
     "name": "stdout",
     "output_type": "stream",
     "text": [
      "(32, 4)\n",
      "(32, 10, 4)\n",
      "(32, 4)\n"
     ]
    }
   ],
   "source": [
    "inputs = tf.random.normal([32, 10, 8])\n",
    "rnn = tf.keras.layers.RNN(tf.keras.layers.GRUCell(4))\n",
    "output = rnn(inputs)\n",
    "print(output.shape)\n",
    "rnn = tf.keras.layers.RNN(tf.keras.layers.GRUCell(4), return_sequences=True, return_state=True)\n",
    "whole_sequence_output, final_state = rnn(inputs)\n",
    "print(whole_sequence_output.shape)\n",
    "print(final_state.shape)"
   ]
  },
  {
   "cell_type": "code",
   "execution_count": 19,
   "id": "5765a2db",
   "metadata": {},
   "outputs": [
    {
     "name": "stdout",
     "output_type": "stream",
     "text": [
      "(2, 4)\n"
     ]
    }
   ],
   "source": [
    "input_shape = (2, 3, 4)\n",
    "x = tf.random.normal(input_shape)\n",
    "y = tf.keras.layers.GlobalAveragePooling1D()(x)\n",
    "print(y.shape)"
   ]
  },
  {
   "cell_type": "code",
   "execution_count": 20,
   "id": "07ccdb82",
   "metadata": {},
   "outputs": [
    {
     "name": "stdout",
     "output_type": "stream",
     "text": [
      "(2, 3)\n"
     ]
    }
   ],
   "source": [
    "input_shape = (2, 4, 5, 3)\n",
    "x = tf.random.normal(input_shape)\n",
    "y = tf.keras.layers.GlobalAveragePooling2D()(x)\n",
    "print(y.shape)"
   ]
  },
  {
   "cell_type": "code",
   "execution_count": 21,
   "id": "e3915b34",
   "metadata": {},
   "outputs": [
    {
     "name": "stdout",
     "output_type": "stream",
     "text": [
      "tf.Tensor(\n",
      "[[[1.]\n",
      "  [2.]\n",
      "  [3.]]\n",
      "\n",
      " [[4.]\n",
      "  [5.]\n",
      "  [6.]]\n",
      "\n",
      " [[7.]\n",
      "  [8.]\n",
      "  [9.]]], shape=(3, 3, 1), dtype=float32)\n"
     ]
    },
    {
     "data": {
      "text/plain": [
       "<tf.Tensor: shape=(3, 1), dtype=float32, numpy=\n",
       "array([[3.],\n",
       "       [6.],\n",
       "       [9.]], dtype=float32)>"
      ]
     },
     "execution_count": 21,
     "metadata": {},
     "output_type": "execute_result"
    }
   ],
   "source": [
    "x = tf.constant([[1., 2., 3.], [4., 5., 6.], [7., 8., 9.]])\n",
    "x = tf.reshape(x, [3, 3, 1])\n",
    "print(x)\n",
    "max_pool_1d = tf.keras.layers.GlobalMaxPooling1D()\n",
    "max_pool_1d(x)"
   ]
  },
  {
   "cell_type": "code",
   "execution_count": 22,
   "id": "8cd13f8a",
   "metadata": {},
   "outputs": [
    {
     "name": "stdout",
     "output_type": "stream",
     "text": [
      "(2, 3)\n"
     ]
    }
   ],
   "source": [
    "input_shape = (2, 4, 5, 3)\n",
    "x = tf.random.normal(input_shape)\n",
    "y = tf.keras.layers.GlobalMaxPool2D()(x)\n",
    "print(y.shape)"
   ]
  },
  {
   "cell_type": "code",
   "execution_count": 23,
   "id": "e546c2d8",
   "metadata": {},
   "outputs": [
    {
     "data": {
      "text/plain": [
       "<tf.Tensor: shape=(5, 1), dtype=int64, numpy=\n",
       "array([[1],\n",
       "       [2],\n",
       "       [1],\n",
       "       [0],\n",
       "       [2]], dtype=int64)>"
      ]
     },
     "execution_count": 23,
     "metadata": {},
     "output_type": "execute_result"
    }
   ],
   "source": [
    "layer = tf.keras.layers.Hashing(num_bins=3, salt=[133, 137])\n",
    "inp = [[\"A\"], [\"B\"], [\"C\"], [\"D\"], [\"E\"]]\n",
    "layer(inp)"
   ]
  },
  {
   "cell_type": "code",
   "execution_count": 26,
   "id": "54d55a6a",
   "metadata": {},
   "outputs": [
    {
     "name": "stdout",
     "output_type": "stream",
     "text": [
      "1/1 [==============================] - 0s 305ms/step - loss: 1.0000\n"
     ]
    },
    {
     "data": {
      "text/plain": [
       "<keras.callbacks.History at 0x1831fdca8b0>"
      ]
     },
     "execution_count": 26,
     "metadata": {},
     "output_type": "execute_result"
    }
   ],
   "source": [
    "model = tf.keras.Sequential([\n",
    "    tf.keras.layers.InputLayer(input_shape=(4,)),\n",
    "    tf.keras.layers.Dense(8)\n",
    "])\n",
    "model.compile(tf.optimizers.RMSprop(0.001), loss=\"mse\")\n",
    "model.fit(np.zeros((10, 4)), np.ones((10, 8)))"
   ]
  },
  {
   "cell_type": "code",
   "execution_count": 27,
   "id": "90903552",
   "metadata": {},
   "outputs": [
    {
     "data": {
      "text/plain": [
       "<tf.Tensor: shape=(2, 3), dtype=int64, numpy=\n",
       "array([[1, 3, 4],\n",
       "       [4, 0, 2]], dtype=int64)>"
      ]
     },
     "execution_count": 27,
     "metadata": {},
     "output_type": "execute_result"
    }
   ],
   "source": [
    "vocab = [12, 36, 1138, 42]\n",
    "data = tf.constant([[12, 1138, 42], [42, 1000, 36]])\n",
    "layer = tf.keras.layers.IntegerLookup(vocabulary=vocab)\n",
    "layer(data)"
   ]
  },
  {
   "cell_type": "code",
   "execution_count": 29,
   "id": "ea8f6e36",
   "metadata": {},
   "outputs": [
    {
     "name": "stdout",
     "output_type": "stream",
     "text": [
      "(32, 4)\n",
      "(32, 10, 4)\n",
      "(32, 4)\n",
      "(32, 4)\n"
     ]
    }
   ],
   "source": [
    "inputs = tf.random.normal([32, 10, 8])\n",
    "lstm = tf.keras.layers.LSTM(4)\n",
    "output = lstm(inputs)\n",
    "print(output.shape)\n",
    "lstm = tf.keras.layers.LSTM(4, return_sequences=True, return_state=True)\n",
    "whole_seq_output, final_memory, final_carry_state = lstm(inputs)\n",
    "print(whole_seq_output.shape)\n",
    "print(final_memory.shape)\n",
    "print(final_carry_state.shape)"
   ]
  },
  {
   "cell_type": "code",
   "execution_count": 2,
   "id": "126ea833",
   "metadata": {},
   "outputs": [
    {
     "name": "stdout",
     "output_type": "stream",
     "text": [
      "(32, 4)\n",
      "(32, 10, 4)\n",
      "(32, 4)\n",
      "(32, 4)\n"
     ]
    }
   ],
   "source": [
    "inputs = tf.random.normal([32, 10, 8])\n",
    "rnn = tf.keras.layers.RNN(tf.keras.layers.LSTMCell(4))\n",
    "output = rnn(inputs)\n",
    "print(output.shape)\n",
    "rnn = tf.keras.layers.RNN(tf.keras.layers.LSTMCell(4), return_sequences=True, return_state=True)\n",
    "whole_seq_output, final_memory_state, final_carry_state = rnn(inputs)\n",
    "print(whole_seq_output.shape)\n",
    "print(final_memory_state.shape)\n",
    "print(final_carry_state.shape)"
   ]
  },
  {
   "cell_type": "code",
   "execution_count": 7,
   "id": "bb250161",
   "metadata": {},
   "outputs": [],
   "source": [
    "class SimpleDense(tf.keras.layers.Layer):\n",
    "    def __init__(self, units=32):\n",
    "        super(SimpleDense, self).__init__()\n",
    "        self.units = units\n",
    "    def build(self, input_shape):\n",
    "        self.w = self.add_weight(shape=(input_shape[-1], self.units), initializer=\"random_normal\", trainable=True)\n",
    "        self.b = self.add_weight(shape=(self.units,), initializer=\"random_normal\", trainable=True)\n",
    "    def call(self, inputs):\n",
    "        return tf.matmul(inputs, self.w) + self.b"
   ]
  },
  {
   "cell_type": "code",
   "execution_count": 8,
   "id": "f27730d4",
   "metadata": {},
   "outputs": [
    {
     "name": "stdout",
     "output_type": "stream",
     "text": [
      "tf.Tensor(\n",
      "[[ 0. 10.]\n",
      " [20. 30.]\n",
      " [40. 50.]\n",
      " [60. 70.]\n",
      " [80. 90.]], shape=(5, 2), dtype=float32)\n",
      "tf.Tensor(\n",
      "[[-0.99998  0.99998]\n",
      " [-0.99998  0.99998]\n",
      " [-0.99998  0.99998]\n",
      " [-0.99998  0.99998]\n",
      " [-0.99998  0.99998]], shape=(5, 2), dtype=float32)\n"
     ]
    }
   ],
   "source": [
    "data = tf.constant(np.arange(10).reshape(5, 2) * 10, dtype=tf.float32)\n",
    "print(data)\n",
    "layer = tf.keras.layers.LayerNormalization(axis=1)\n",
    "output = layer(data)\n",
    "print(output)"
   ]
  },
  {
   "cell_type": "code",
   "execution_count": 11,
   "id": "89a91c22",
   "metadata": {},
   "outputs": [
    {
     "data": {
      "text/plain": [
       "array([-0.3, -0.1,  0. ,  2. ], dtype=float32)"
      ]
     },
     "execution_count": 11,
     "metadata": {},
     "output_type": "execute_result"
    }
   ],
   "source": [
    "layer = tf.keras.layers.LeakyReLU(alpha=0.1)([-3.0, -1.0, 0.0, 2.0])\n",
    "layer.numpy()"
   ]
  },
  {
   "cell_type": "code",
   "execution_count": 2,
   "id": "cd3f7fa7",
   "metadata": {},
   "outputs": [
    {
     "data": {
      "text/plain": [
       "TensorShape([32, 32])"
      ]
     },
     "execution_count": 2,
     "metadata": {},
     "output_type": "execute_result"
    }
   ],
   "source": [
    "samples, timesteps, features = 32, 10, 8\n",
    "inputs = np.random.random([samples, timesteps, features])\n",
    "inputs[:, 3, :] = 0\n",
    "inputs[:, 5, :] = 0\n",
    "model = tf.keras.models.Sequential()\n",
    "model.add(tf.keras.layers.Masking(mask_value=0, input_shape=(timesteps, features)))\n",
    "model.add(tf.keras.layers.LSTM(32))\n",
    "output = model(inputs)\n",
    "output.shape"
   ]
  },
  {
   "cell_type": "code",
   "execution_count": 4,
   "id": "f253e3a9",
   "metadata": {},
   "outputs": [
    {
     "data": {
      "text/plain": [
       "<tf.Tensor: shape=(1, 4, 1), dtype=float32, numpy=\n",
       "array([[[2.],\n",
       "        [3.],\n",
       "        [4.],\n",
       "        [5.]]], dtype=float32)>"
      ]
     },
     "execution_count": 4,
     "metadata": {},
     "output_type": "execute_result"
    }
   ],
   "source": [
    "x = tf.constant([1., 2., 3., 4., 5.])\n",
    "x = tf.reshape(x, [1, 5, 1])\n",
    "max_pool_1d = tf.keras.layers.MaxPooling1D(pool_size=2, strides=1)\n",
    "max_pool_1d(x)"
   ]
  },
  {
   "cell_type": "code",
   "execution_count": 5,
   "id": "5be261c6",
   "metadata": {},
   "outputs": [
    {
     "data": {
      "text/plain": [
       "<tf.Tensor: shape=(1, 2, 2, 1), dtype=float32, numpy=\n",
       "array([[[[5.],\n",
       "         [6.]],\n",
       "\n",
       "        [[8.],\n",
       "         [9.]]]], dtype=float32)>"
      ]
     },
     "execution_count": 5,
     "metadata": {},
     "output_type": "execute_result"
    }
   ],
   "source": [
    "x = tf.constant([[1., 2., 3.], [4., 5., 6.], [7., 8., 9.]])\n",
    "x = tf.reshape(x, [1, 3, 3, 1])\n",
    "max_pool_2d = tf.keras.layers.MaxPooling2D(pool_size=(2, 2), strides=(1, 1))\n",
    "max_pool_2d(x)"
   ]
  },
  {
   "cell_type": "code",
   "execution_count": 6,
   "id": "ce45e530",
   "metadata": {},
   "outputs": [],
   "source": [
    "depth = 30\n",
    "height = 30\n",
    "width = 30\n",
    "input_channels = 3\n",
    "inputs = tf.keras.Input(shape=(depth, height, width, input_channels))\n",
    "layer = tf.keras.layers.MaxPooling3D(pool_size=3)\n",
    "outputs = layer(inputs)"
   ]
  },
  {
   "cell_type": "code",
   "execution_count": 8,
   "id": "59cf4325",
   "metadata": {},
   "outputs": [
    {
     "data": {
      "text/plain": [
       "<tf.Tensor: shape=(5, 1), dtype=int32, numpy=\n",
       "array([[5],\n",
       "       [6],\n",
       "       [7],\n",
       "       [8],\n",
       "       [9]])>"
      ]
     },
     "execution_count": 8,
     "metadata": {},
     "output_type": "execute_result"
    }
   ],
   "source": [
    "tf.keras.layers.Maximum()([np.arange(5).reshape(5, 1), np.arange(5, 10).reshape(5, 1)])"
   ]
  },
  {
   "cell_type": "code",
   "execution_count": 10,
   "id": "59109f88",
   "metadata": {},
   "outputs": [
    {
     "data": {
      "text/plain": [
       "TensorShape([5, 8])"
      ]
     },
     "execution_count": 10,
     "metadata": {},
     "output_type": "execute_result"
    }
   ],
   "source": [
    "x1 = tf.keras.layers.Dense(8)(np.arange(10).reshape(5, 2))\n",
    "x2 = tf.keras.layers.Dense(8)(np.arange(10, 20).reshape(5, 2))\n",
    "minned = tf.keras.layers.Minimum()([x1, x2])\n",
    "minned.shape"
   ]
  },
  {
   "cell_type": "code",
   "execution_count": 14,
   "id": "e234b4c8",
   "metadata": {},
   "outputs": [
    {
     "name": "stdout",
     "output_type": "stream",
     "text": [
      "(None, 8, 16)\n",
      "(None, 2, 8, 10)\n"
     ]
    }
   ],
   "source": [
    "layer = tf.keras.layers.MultiHeadAttention(num_heads=2, key_dim=2)\n",
    "target = tf.keras.Input(shape=[8, 16])\n",
    "source = tf.keras.Input(shape=[10, 16])\n",
    "output_tensor, weights = layer(target, source, return_attention_scores=True)\n",
    "print(output_tensor.shape)\n",
    "print(weights.shape)"
   ]
  },
  {
   "cell_type": "code",
   "execution_count": 15,
   "id": "fb7b1dcc",
   "metadata": {},
   "outputs": [
    {
     "data": {
      "text/plain": [
       "<tf.Tensor: shape=(5, 1), dtype=int32, numpy=\n",
       "array([[ 0],\n",
       "       [ 6],\n",
       "       [14],\n",
       "       [24],\n",
       "       [36]])>"
      ]
     },
     "execution_count": 15,
     "metadata": {},
     "output_type": "execute_result"
    }
   ],
   "source": [
    "tf.keras.layers.Multiply()([np.arange(5).reshape(5, 1), np.arange(5, 10).reshape(5, 1)])"
   ]
  },
  {
   "cell_type": "code",
   "execution_count": 16,
   "id": "1fccec4b",
   "metadata": {},
   "outputs": [
    {
     "data": {
      "text/plain": [
       "<tf.Tensor: shape=(3,), dtype=float32, numpy=array([-1.4142135 , -0.70710677,  0.        ], dtype=float32)>"
      ]
     },
     "execution_count": 16,
     "metadata": {},
     "output_type": "execute_result"
    }
   ],
   "source": [
    "adapt_data = np.array([1., 2., 3., 4., 5.], dtype=\"float32\")\n",
    "input_data = np.array([1., 2., 3.], dtype=\"float32\")\n",
    "layer = tf.keras.layers.Normalization(axis=None)\n",
    "layer.adapt(adapt_data)\n",
    "layer(input_data)"
   ]
  },
  {
   "cell_type": "code",
   "execution_count": 18,
   "id": "5f35ac5b",
   "metadata": {},
   "outputs": [
    {
     "data": {
      "text/plain": [
       "(None, 64, 10)"
      ]
     },
     "execution_count": 18,
     "metadata": {},
     "output_type": "execute_result"
    }
   ],
   "source": [
    "model = tf.keras.models.Sequential()\n",
    "model.add(tf.keras.layers.Permute((2, 1), input_shape=(10, 64)))\n",
    "model.output_shape"
   ]
  },
  {
   "cell_type": "code",
   "execution_count": 32,
   "id": "e82fc7ca",
   "metadata": {},
   "outputs": [
    {
     "ename": "ValueError",
     "evalue": "as_list() is not defined on an unknown TensorShape.",
     "output_type": "error",
     "traceback": [
      "\u001b[1;31m---------------------------------------------------------------------------\u001b[0m",
      "\u001b[1;31mValueError\u001b[0m                                Traceback (most recent call last)",
      "\u001b[1;32m<ipython-input-32-baeb38188075>\u001b[0m in \u001b[0;36m<module>\u001b[1;34m\u001b[0m\n\u001b[0;32m     23\u001b[0m \u001b[0mx\u001b[0m \u001b[1;33m=\u001b[0m \u001b[0mtf\u001b[0m\u001b[1;33m.\u001b[0m\u001b[0mkeras\u001b[0m\u001b[1;33m.\u001b[0m\u001b[0mlayers\u001b[0m\u001b[1;33m.\u001b[0m\u001b[0mInputLayer\u001b[0m\u001b[1;33m(\u001b[0m\u001b[0minput_shape\u001b[0m\u001b[1;33m=\u001b[0m\u001b[1;33m(\u001b[0m\u001b[1;32mNone\u001b[0m\u001b[1;33m,\u001b[0m \u001b[1;36m5\u001b[0m\u001b[1;33m)\u001b[0m\u001b[1;33m)\u001b[0m\u001b[1;33m\u001b[0m\u001b[1;33m\u001b[0m\u001b[0m\n\u001b[0;32m     24\u001b[0m \u001b[0mlayer\u001b[0m \u001b[1;33m=\u001b[0m \u001b[0mtf\u001b[0m\u001b[1;33m.\u001b[0m\u001b[0mkeras\u001b[0m\u001b[1;33m.\u001b[0m\u001b[0mlayers\u001b[0m\u001b[1;33m.\u001b[0m\u001b[0mRNN\u001b[0m\u001b[1;33m(\u001b[0m\u001b[0mcells\u001b[0m\u001b[1;33m)\u001b[0m\u001b[1;33m\u001b[0m\u001b[1;33m\u001b[0m\u001b[0m\n\u001b[1;32m---> 25\u001b[1;33m \u001b[0my\u001b[0m \u001b[1;33m=\u001b[0m \u001b[0mlayer\u001b[0m\u001b[1;33m(\u001b[0m\u001b[0mx\u001b[0m\u001b[1;33m)\u001b[0m\u001b[1;33m\u001b[0m\u001b[1;33m\u001b[0m\u001b[0m\n\u001b[0m",
      "\u001b[1;32m~\\anaconda3\\lib\\site-packages\\keras\\layers\\recurrent.py\u001b[0m in \u001b[0;36m__call__\u001b[1;34m(self, inputs, initial_state, constants, **kwargs)\u001b[0m\n\u001b[0;32m    677\u001b[0m \u001b[1;33m\u001b[0m\u001b[0m\n\u001b[0;32m    678\u001b[0m     \u001b[1;32mif\u001b[0m \u001b[0minitial_state\u001b[0m \u001b[1;32mis\u001b[0m \u001b[1;32mNone\u001b[0m \u001b[1;32mand\u001b[0m \u001b[0mconstants\u001b[0m \u001b[1;32mis\u001b[0m \u001b[1;32mNone\u001b[0m\u001b[1;33m:\u001b[0m\u001b[1;33m\u001b[0m\u001b[1;33m\u001b[0m\u001b[0m\n\u001b[1;32m--> 679\u001b[1;33m       \u001b[1;32mreturn\u001b[0m \u001b[0msuper\u001b[0m\u001b[1;33m(\u001b[0m\u001b[0mRNN\u001b[0m\u001b[1;33m,\u001b[0m \u001b[0mself\u001b[0m\u001b[1;33m)\u001b[0m\u001b[1;33m.\u001b[0m\u001b[0m__call__\u001b[0m\u001b[1;33m(\u001b[0m\u001b[0minputs\u001b[0m\u001b[1;33m,\u001b[0m \u001b[1;33m**\u001b[0m\u001b[0mkwargs\u001b[0m\u001b[1;33m)\u001b[0m\u001b[1;33m\u001b[0m\u001b[1;33m\u001b[0m\u001b[0m\n\u001b[0m\u001b[0;32m    680\u001b[0m \u001b[1;33m\u001b[0m\u001b[0m\n\u001b[0;32m    681\u001b[0m     \u001b[1;31m# If any of `initial_state` or `constants` are specified and are Keras\u001b[0m\u001b[1;33m\u001b[0m\u001b[1;33m\u001b[0m\u001b[1;33m\u001b[0m\u001b[0m\n",
      "\u001b[1;32m~\\anaconda3\\lib\\site-packages\\keras\\utils\\traceback_utils.py\u001b[0m in \u001b[0;36merror_handler\u001b[1;34m(*args, **kwargs)\u001b[0m\n\u001b[0;32m     65\u001b[0m     \u001b[1;32mexcept\u001b[0m \u001b[0mException\u001b[0m \u001b[1;32mas\u001b[0m \u001b[0me\u001b[0m\u001b[1;33m:\u001b[0m  \u001b[1;31m# pylint: disable=broad-except\u001b[0m\u001b[1;33m\u001b[0m\u001b[1;33m\u001b[0m\u001b[0m\n\u001b[0;32m     66\u001b[0m       \u001b[0mfiltered_tb\u001b[0m \u001b[1;33m=\u001b[0m \u001b[0m_process_traceback_frames\u001b[0m\u001b[1;33m(\u001b[0m\u001b[0me\u001b[0m\u001b[1;33m.\u001b[0m\u001b[0m__traceback__\u001b[0m\u001b[1;33m)\u001b[0m\u001b[1;33m\u001b[0m\u001b[1;33m\u001b[0m\u001b[0m\n\u001b[1;32m---> 67\u001b[1;33m       \u001b[1;32mraise\u001b[0m \u001b[0me\u001b[0m\u001b[1;33m.\u001b[0m\u001b[0mwith_traceback\u001b[0m\u001b[1;33m(\u001b[0m\u001b[0mfiltered_tb\u001b[0m\u001b[1;33m)\u001b[0m \u001b[1;32mfrom\u001b[0m \u001b[1;32mNone\u001b[0m\u001b[1;33m\u001b[0m\u001b[1;33m\u001b[0m\u001b[0m\n\u001b[0m\u001b[0;32m     68\u001b[0m     \u001b[1;32mfinally\u001b[0m\u001b[1;33m:\u001b[0m\u001b[1;33m\u001b[0m\u001b[1;33m\u001b[0m\u001b[0m\n\u001b[0;32m     69\u001b[0m       \u001b[1;32mdel\u001b[0m \u001b[0mfiltered_tb\u001b[0m\u001b[1;33m\u001b[0m\u001b[1;33m\u001b[0m\u001b[0m\n",
      "\u001b[1;32m~\\anaconda3\\lib\\site-packages\\tensorflow\\python\\framework\\tensor_shape.py\u001b[0m in \u001b[0;36mas_list\u001b[1;34m(self)\u001b[0m\n\u001b[0;32m   1221\u001b[0m     \"\"\"\n\u001b[0;32m   1222\u001b[0m     \u001b[1;32mif\u001b[0m \u001b[0mself\u001b[0m\u001b[1;33m.\u001b[0m\u001b[0m_dims\u001b[0m \u001b[1;32mis\u001b[0m \u001b[1;32mNone\u001b[0m\u001b[1;33m:\u001b[0m\u001b[1;33m\u001b[0m\u001b[1;33m\u001b[0m\u001b[0m\n\u001b[1;32m-> 1223\u001b[1;33m       \u001b[1;32mraise\u001b[0m \u001b[0mValueError\u001b[0m\u001b[1;33m(\u001b[0m\u001b[1;34m\"as_list() is not defined on an unknown TensorShape.\"\u001b[0m\u001b[1;33m)\u001b[0m\u001b[1;33m\u001b[0m\u001b[1;33m\u001b[0m\u001b[0m\n\u001b[0m\u001b[0;32m   1224\u001b[0m     \u001b[1;32mreturn\u001b[0m \u001b[1;33m[\u001b[0m\u001b[0mdim\u001b[0m\u001b[1;33m.\u001b[0m\u001b[0mvalue\u001b[0m \u001b[1;32mfor\u001b[0m \u001b[0mdim\u001b[0m \u001b[1;32min\u001b[0m \u001b[0mself\u001b[0m\u001b[1;33m.\u001b[0m\u001b[0m_dims\u001b[0m\u001b[1;33m]\u001b[0m\u001b[1;33m\u001b[0m\u001b[1;33m\u001b[0m\u001b[0m\n\u001b[0;32m   1225\u001b[0m \u001b[1;33m\u001b[0m\u001b[0m\n",
      "\u001b[1;31mValueError\u001b[0m: as_list() is not defined on an unknown TensorShape."
     ]
    }
   ],
   "source": [
    "class MinimalRNNCell(tf.keras.layers.Layer):\n",
    "    def __init__(self, units, **kwargs):\n",
    "        self.units = units\n",
    "        self.state_size = units\n",
    "        super(MinimalRNNCell, self).__init__(**kwargs)\n",
    "    def build(self, input_shape):\n",
    "        self.kernel = self.add_weight(shape=(input_shape[-1], self.units), initializer=\"random_uniform\", name=\"kernel\")\n",
    "        self.recurrent_kernel = self.add_weight(shape=(self.units, self.units), initializer=\"random_uniform\", \n",
    "                                                name='recurrent_kernel')\n",
    "        self.built = True\n",
    "    def call(self, inputs, states):\n",
    "        prev_output = states[0]\n",
    "        h = tf.matmul(inputs, self.kernel)\n",
    "        output = h + tf.matmul(prev_output, self.recurrent_kernel)\n",
    "        return output, [output]\n",
    "\n",
    "# cell = MinimalRNNCell(32)\n",
    "# x = tf.keras.layers.InputLayer((None, 5))\n",
    "# layer = tf.keras.layers.RNN(cell)\n",
    "# y = layer(x)\n",
    "\n",
    "cells = [MinimalRNNCell(32), MinimalRNNCell(64)]\n",
    "x = tf.keras.layers.InputLayer(input_shape=(None, 5))\n",
    "layer = tf.keras.layers.RNN(cells)\n",
    "y = layer(x)"
   ]
  },
  {
   "cell_type": "code",
   "execution_count": 35,
   "id": "f4010a4b",
   "metadata": {},
   "outputs": [
    {
     "data": {
      "text/plain": [
       "<keras.layers.preprocessing.image_preprocessing.RandomContrast at 0x1bd865d7a30>"
      ]
     },
     "execution_count": 35,
     "metadata": {},
     "output_type": "execute_result"
    }
   ],
   "source": [
    "tf.keras.layers.RandomContrast(factor=0.2)"
   ]
  },
  {
   "cell_type": "code",
   "execution_count": 37,
   "id": "cd4eead7",
   "metadata": {},
   "outputs": [
    {
     "data": {
      "text/plain": [
       "<keras.layers.preprocessing.image_preprocessing.RandomCrop at 0x1bd8659a7f0>"
      ]
     },
     "execution_count": 37,
     "metadata": {},
     "output_type": "execute_result"
    }
   ],
   "source": [
    "tf.keras.layers.RandomCrop(150, 200)"
   ]
  },
  {
   "cell_type": "code",
   "execution_count": 38,
   "id": "e0ee11c1",
   "metadata": {},
   "outputs": [
    {
     "data": {
      "text/plain": [
       "<keras.layers.preprocessing.image_preprocessing.RandomFlip at 0x1bd865d7850>"
      ]
     },
     "execution_count": 38,
     "metadata": {},
     "output_type": "execute_result"
    }
   ],
   "source": [
    "tf.keras.layers.RandomFlip(\"horizontal_and_vertical\")"
   ]
  },
  {
   "cell_type": "code",
   "execution_count": 39,
   "id": "1b96e42e",
   "metadata": {},
   "outputs": [
    {
     "data": {
      "text/plain": [
       "<keras.layers.preprocessing.image_preprocessing.RandomHeight at 0x1bd8659a850>"
      ]
     },
     "execution_count": 39,
     "metadata": {},
     "output_type": "execute_result"
    }
   ],
   "source": [
    "tf.keras.layers.RandomHeight(0.2)"
   ]
  },
  {
   "cell_type": "code",
   "execution_count": 40,
   "id": "b1edcea7",
   "metadata": {},
   "outputs": [
    {
     "data": {
      "text/plain": [
       "<keras.layers.preprocessing.image_preprocessing.RandomRotation at 0x1bd8777d340>"
      ]
     },
     "execution_count": 40,
     "metadata": {},
     "output_type": "execute_result"
    }
   ],
   "source": [
    "tf.keras.layers.RandomRotation(0.2)"
   ]
  },
  {
   "cell_type": "code",
   "execution_count": 41,
   "id": "78c1db79",
   "metadata": {},
   "outputs": [
    {
     "data": {
      "text/plain": [
       "<keras.layers.preprocessing.image_preprocessing.RandomTranslation at 0x1bd862aa190>"
      ]
     },
     "execution_count": 41,
     "metadata": {},
     "output_type": "execute_result"
    }
   ],
   "source": [
    "tf.keras.layers.RandomTranslation(0.2, 0.2)"
   ]
  },
  {
   "cell_type": "code",
   "execution_count": 42,
   "id": "cfb386a2",
   "metadata": {},
   "outputs": [
    {
     "data": {
      "text/plain": [
       "<keras.layers.preprocessing.image_preprocessing.RandomWidth at 0x1bd8659a400>"
      ]
     },
     "execution_count": 42,
     "metadata": {},
     "output_type": "execute_result"
    }
   ],
   "source": [
    "tf.keras.layers.RandomWidth(0.2)"
   ]
  },
  {
   "cell_type": "code",
   "execution_count": 43,
   "id": "7bc79014",
   "metadata": {},
   "outputs": [
    {
     "data": {
      "text/plain": [
       "<keras.layers.preprocessing.image_preprocessing.RandomZoom at 0x1bd8775a7c0>"
      ]
     },
     "execution_count": 43,
     "metadata": {},
     "output_type": "execute_result"
    }
   ],
   "source": [
    "tf.keras.layers.RandomZoom(0.2)"
   ]
  },
  {
   "cell_type": "code",
   "execution_count": 44,
   "id": "87810a7b",
   "metadata": {},
   "outputs": [
    {
     "data": {
      "text/plain": [
       "array([0., 0., 0., 2.], dtype=float32)"
      ]
     },
     "execution_count": 44,
     "metadata": {},
     "output_type": "execute_result"
    }
   ],
   "source": [
    "layer = tf.keras.layers.ReLU()\n",
    "output = layer([-3.0, -1.0, 0.0, 2.0])\n",
    "output.numpy()"
   ]
  },
  {
   "cell_type": "code",
   "execution_count": 45,
   "id": "4600f0b4",
   "metadata": {},
   "outputs": [],
   "source": [
    "model = tf.keras.models.Sequential()\n",
    "model.add(tf.keras.layers.Dense(32, input_dim=32))\n",
    "model.add(tf.keras.layers.RepeatVector(3))"
   ]
  },
  {
   "cell_type": "code",
   "execution_count": 46,
   "id": "de46ea6b",
   "metadata": {},
   "outputs": [
    {
     "data": {
      "text/plain": [
       "<keras.layers.preprocessing.image_preprocessing.Rescaling at 0x1bd8670ea00>"
      ]
     },
     "execution_count": 46,
     "metadata": {},
     "output_type": "execute_result"
    }
   ],
   "source": [
    "tf.keras.layers.Rescaling(1./255)"
   ]
  },
  {
   "cell_type": "code",
   "execution_count": 47,
   "id": "6c6e47a3",
   "metadata": {},
   "outputs": [
    {
     "data": {
      "text/plain": [
       "<keras.layers.core.reshape.Reshape at 0x1bd8670e550>"
      ]
     },
     "execution_count": 47,
     "metadata": {},
     "output_type": "execute_result"
    }
   ],
   "source": [
    "tf.keras.layers.Reshape((3, 4))"
   ]
  },
  {
   "cell_type": "code",
   "execution_count": 48,
   "id": "844817e1",
   "metadata": {},
   "outputs": [
    {
     "data": {
      "text/plain": [
       "<keras.layers.preprocessing.image_preprocessing.Resizing at 0x1bd8670eeb0>"
      ]
     },
     "execution_count": 48,
     "metadata": {},
     "output_type": "execute_result"
    }
   ],
   "source": [
    "tf.keras.layers.Resizing(150, 250)"
   ]
  },
  {
   "cell_type": "code",
   "execution_count": 49,
   "id": "ab6fcedd",
   "metadata": {},
   "outputs": [
    {
     "data": {
      "text/plain": [
       "<keras.layers.convolutional.SeparableConv1D at 0x1bdecd48ca0>"
      ]
     },
     "execution_count": 49,
     "metadata": {},
     "output_type": "execute_result"
    }
   ],
   "source": [
    "tf.keras.layers.SeparableConv1D(filters=33, kernel_size=3, strides=2)"
   ]
  },
  {
   "cell_type": "code",
   "execution_count": 50,
   "id": "9a9ac234",
   "metadata": {},
   "outputs": [
    {
     "data": {
      "text/plain": [
       "<keras.layers.convolutional.SeparableConv2D at 0x1bd86244610>"
      ]
     },
     "execution_count": 50,
     "metadata": {},
     "output_type": "execute_result"
    }
   ],
   "source": [
    "tf.keras.layers.SeparableConv2D(filters=32, kernel_size=(3, 3), strides=(1, 1))"
   ]
  },
  {
   "cell_type": "code",
   "execution_count": 52,
   "id": "aeba03ab",
   "metadata": {},
   "outputs": [
    {
     "name": "stdout",
     "output_type": "stream",
     "text": [
      "(32, 4)\n",
      "(32, 10, 4) (32, 4)\n"
     ]
    }
   ],
   "source": [
    "inputs = np.random.random([32, 10, 8]).astype(np.float32)\n",
    "simple_rnn = tf.keras.layers.SimpleRNN(4)\n",
    "output = simple_rnn(inputs)\n",
    "print(output.shape)\n",
    "simple_rnn = tf.keras.layers.SimpleRNN(4, return_sequences=True, return_state=True)\n",
    "whole_sequence_output, final_state = simple_rnn(inputs)\n",
    "print(whole_sequence_output.shape, final_state.shape)"
   ]
  },
  {
   "cell_type": "code",
   "execution_count": 54,
   "id": "0a4c73a6",
   "metadata": {},
   "outputs": [
    {
     "name": "stdout",
     "output_type": "stream",
     "text": [
      "(32, 4)\n",
      "(32, 10, 4) (32, 4)\n"
     ]
    }
   ],
   "source": [
    "inputs = np.random.random([32, 10, 8]).astype(np.float32)\n",
    "rnn = tf.keras.layers.RNN(tf.keras.layers.SimpleRNNCell(4))\n",
    "output = rnn(inputs)\n",
    "print(output.shape)\n",
    "rnn = tf.keras.layers.RNN(tf.keras.layers.SimpleRNNCell(4), return_sequences=True, return_state=True)\n",
    "whole_sequence_output, final_state = rnn(inputs)\n",
    "print(whole_sequence_output.shape, final_state.shape)"
   ]
  },
  {
   "cell_type": "code",
   "execution_count": 55,
   "id": "538607e5",
   "metadata": {},
   "outputs": [
    {
     "data": {
      "text/plain": [
       "array([0.21194157, 0.5761169 , 0.21194157], dtype=float32)"
      ]
     },
     "execution_count": 55,
     "metadata": {},
     "output_type": "execute_result"
    }
   ],
   "source": [
    "inp = np.asarray([1., 2., 1.])\n",
    "layer = tf.keras.layers.Softmax()\n",
    "layer(inp).numpy()"
   ]
  },
  {
   "cell_type": "code",
   "execution_count": 57,
   "id": "abd60b37",
   "metadata": {},
   "outputs": [
    {
     "name": "stdout",
     "output_type": "stream",
     "text": [
      "(3, 128)\n"
     ]
    }
   ],
   "source": [
    "batch_size = 3\n",
    "sentence_max_length = 5\n",
    "n_features = 2\n",
    "new_shape = (batch_size, sentence_max_length, n_features)\n",
    "x = tf.constant(np.reshape(np.arange(30), new_shape), dtype=tf.float32)\n",
    "rnn_cells = [tf.keras.layers.LSTMCell(128) for _ in range(2)]\n",
    "stacked_lstm = tf.keras.layers.StackedRNNCells(rnn_cells)\n",
    "lstm_layer = tf.keras.layers.RNN(stacked_lstm)\n",
    "result = lstm_layer(x)t\n",
    "print(result.shape)"
   ]
  },
  {
   "cell_type": "code",
   "execution_count": 58,
   "id": "de22993c",
   "metadata": {},
   "outputs": [
    {
     "name": "stdout",
     "output_type": "stream",
     "text": [
      "tf.Tensor(\n",
      "[[5 3 1]\n",
      " [1 2 4]], shape=(2, 3), dtype=int64)\n",
      "['[UNK]', 'd', 'z', 'c', 'b', 'a']\n"
     ]
    }
   ],
   "source": [
    "data = tf.constant([[\"a\", \"c\", \"d\"], [\"d\", \"z\", \"b\"]])\n",
    "layer = tf.keras.layers.StringLookup()\n",
    "layer.adapt(data)\n",
    "print(layer(data))\n",
    "print(layer.get_vocabulary())"
   ]
  },
  {
   "cell_type": "code",
   "execution_count": 59,
   "id": "d0e4eb12",
   "metadata": {},
   "outputs": [
    {
     "data": {
      "text/plain": [
       "<tf.Tensor: shape=(), dtype=int32, numpy=-1>"
      ]
     },
     "execution_count": 59,
     "metadata": {},
     "output_type": "execute_result"
    }
   ],
   "source": [
    "tf.keras.layers.Subtract()([2, 3])"
   ]
  },
  {
   "cell_type": "code",
   "execution_count": 61,
   "id": "8392b1db",
   "metadata": {},
   "outputs": [
    {
     "data": {
      "text/plain": [
       "array([[2, 1, 4, 0],\n",
       "       [1, 3, 0, 0]], dtype=int64)"
      ]
     },
     "execution_count": 61,
     "metadata": {},
     "output_type": "execute_result"
    }
   ],
   "source": [
    "text_dataset = tf.data.Dataset.from_tensor_slices([\"foo\", \"bar\", \"baz\"])\n",
    "max_features = 5000\n",
    "max_len = 4\n",
    "vectorize_layer = tf.keras.layers.TextVectorization(max_tokens=max_features, output_mode=\"int\", \n",
    "                                                    output_sequence_length=max_len)\n",
    "vectorize_layer.adapt(text_dataset.batch(64))\n",
    "model = tf.keras.models.Sequential()\n",
    "model.add(tf.keras.Input(shape=(1, ), dtype=tf.string))\n",
    "model.add(vectorize_layer)\n",
    "input_data = [[\"foo qux bar\"], [\"qux baz\"]]\n",
    "model.predict(input_data)"
   ]
  },
  {
   "cell_type": "code",
   "execution_count": 63,
   "id": "01907446",
   "metadata": {},
   "outputs": [
    {
     "data": {
      "text/plain": [
       "TensorShape([None, 10, 126, 126, 64])"
      ]
     },
     "execution_count": 63,
     "metadata": {},
     "output_type": "execute_result"
    }
   ],
   "source": [
    "inputs = tf.keras.Input(shape=(10, 128, 128, 3))\n",
    "conv_2d_layer = tf.keras.layers.Conv2D(64, (3, 3))\n",
    "outputs = tf.keras.layers.TimeDistributed(conv_2d_layer)(inputs)\n",
    "outputs.shape"
   ]
  },
  {
   "cell_type": "code",
   "execution_count": 70,
   "id": "e4fb4fcc",
   "metadata": {},
   "outputs": [
    {
     "name": "stdout",
     "output_type": "stream",
     "text": [
      "[[[ 0  1  2]\n",
      "  [ 3  4  5]]\n",
      "\n",
      " [[ 6  7  8]\n",
      "  [ 9 10 11]]]\n",
      "tf.Tensor(\n",
      "[[[ 0  1  2]\n",
      "  [ 0  1  2]\n",
      "  [ 3  4  5]\n",
      "  [ 3  4  5]]\n",
      "\n",
      " [[ 6  7  8]\n",
      "  [ 6  7  8]\n",
      "  [ 9 10 11]\n",
      "  [ 9 10 11]]], shape=(2, 4, 3), dtype=int32)\n"
     ]
    }
   ],
   "source": [
    "input_shape = (2, 2, 3)\n",
    "x = np.arange(np.prod(input_shape)).reshape(input_shape)\n",
    "print(x)\n",
    "y = tf.keras.layers.UpSampling1D(size=2)(x)\n",
    "print(y)"
   ]
  },
  {
   "cell_type": "code",
   "execution_count": 71,
   "id": "f09b353c",
   "metadata": {},
   "outputs": [
    {
     "name": "stdout",
     "output_type": "stream",
     "text": [
      "[[[[ 0  1  2]]\n",
      "\n",
      "  [[ 3  4  5]]]\n",
      "\n",
      "\n",
      " [[[ 6  7  8]]\n",
      "\n",
      "  [[ 9 10 11]]]]\n",
      "tf.Tensor(\n",
      "[[[[ 0  1  2]\n",
      "   [ 0  1  2]]\n",
      "\n",
      "  [[ 3  4  5]\n",
      "   [ 3  4  5]]]\n",
      "\n",
      "\n",
      " [[[ 6  7  8]\n",
      "   [ 6  7  8]]\n",
      "\n",
      "  [[ 9 10 11]\n",
      "   [ 9 10 11]]]], shape=(2, 2, 2, 3), dtype=int32)\n"
     ]
    }
   ],
   "source": [
    "input_shape = (2, 2, 1, 3)\n",
    "x = np.arange(np.prod(input_shape)).reshape(input_shape)\n",
    "print(x)\n",
    "y = tf.keras.layers.UpSampling2D(size=(1, 2))(x)\n",
    "print(y)"
   ]
  },
  {
   "cell_type": "code",
   "execution_count": 72,
   "id": "89d54875",
   "metadata": {},
   "outputs": [
    {
     "name": "stdout",
     "output_type": "stream",
     "text": [
      "(2, 2, 4, 2, 3)\n"
     ]
    }
   ],
   "source": [
    "input_shape = (2, 1, 2, 1, 3)\n",
    "x = tf.constant(1, shape=input_shape)\n",
    "y = tf.keras.layers.UpSampling3D(size=2)(x)\n",
    "print(y.shape)"
   ]
  },
  {
   "cell_type": "code",
   "execution_count": 2,
   "id": "53fc01de",
   "metadata": {},
   "outputs": [
    {
     "name": "stdout",
     "output_type": "stream",
     "text": [
      "[[[ 0  1  2]\n",
      "  [ 3  4  5]]\n",
      "\n",
      " [[ 6  7  8]\n",
      "  [ 9 10 11]]]\n",
      "tf.Tensor(\n",
      "[[[ 0  0  0]\n",
      "  [ 0  0  0]\n",
      "  [ 0  1  2]\n",
      "  [ 3  4  5]\n",
      "  [ 0  0  0]\n",
      "  [ 0  0  0]]\n",
      "\n",
      " [[ 0  0  0]\n",
      "  [ 0  0  0]\n",
      "  [ 6  7  8]\n",
      "  [ 9 10 11]\n",
      "  [ 0  0  0]\n",
      "  [ 0  0  0]]], shape=(2, 6, 3), dtype=int32)\n"
     ]
    }
   ],
   "source": [
    "input_shape = (2,2,3)\n",
    "x = np.arange(np.prod(input_shape)).reshape(input_shape)\n",
    "print(x)\n",
    "y = tf.keras.layers.ZeroPadding1D(padding=2)(x)\n",
    "print(y)"
   ]
  },
  {
   "cell_type": "code",
   "execution_count": 3,
   "id": "386e1115",
   "metadata": {},
   "outputs": [
    {
     "name": "stdout",
     "output_type": "stream",
     "text": [
      "[[[[0 1]\n",
      "   [2 3]]]]\n",
      "tf.Tensor(\n",
      "[[[[0 0]\n",
      "   [0 0]\n",
      "   [0 0]\n",
      "   [0 0]]\n",
      "\n",
      "  [[0 0]\n",
      "   [0 1]\n",
      "   [2 3]\n",
      "   [0 0]]\n",
      "\n",
      "  [[0 0]\n",
      "   [0 0]\n",
      "   [0 0]\n",
      "   [0 0]]]], shape=(1, 3, 4, 2), dtype=int32)\n"
     ]
    }
   ],
   "source": [
    "input_shape = (1, 1, 2, 2)\n",
    "x = np.arange(np.prod(input_shape)).reshape(input_shape)\n",
    "print(x)\n",
    "y = tf.keras.layers.ZeroPadding2D(padding=1)(x)\n",
    "print(y)"
   ]
  },
  {
   "cell_type": "code",
   "execution_count": 4,
   "id": "f24aa861",
   "metadata": {},
   "outputs": [
    {
     "name": "stdout",
     "output_type": "stream",
     "text": [
      "(1, 5, 6, 6, 3)\n"
     ]
    }
   ],
   "source": [
    "input_shape = (1, 1, 2, 2, 3)\n",
    "x = np.arange(np.prod(input_shape)).reshape(input_shape)\n",
    "y = tf.keras.layers.ZeroPadding3D(padding=2)(x)\n",
    "print(y.shape)"
   ]
  },
  {
   "cell_type": "code",
   "execution_count": 5,
   "id": "119863fa",
   "metadata": {},
   "outputs": [
    {
     "name": "stdout",
     "output_type": "stream",
     "text": [
      "(2, 3, 4)\n"
     ]
    }
   ],
   "source": [
    "input_shape = (2, 3, 4)\n",
    "x1 = tf.random.normal(input_shape)\n",
    "x2 = tf.random.normal(input_shape)\n",
    "y = tf.keras.layers.add([x1, x2])\n",
    "print(y.shape)"
   ]
  },
  {
   "cell_type": "code",
   "execution_count": 7,
   "id": "0267b1a4",
   "metadata": {},
   "outputs": [
    {
     "name": "stdout",
     "output_type": "stream",
     "text": [
      "[[[ 0  1  2  3  4]\n",
      "  [ 5  6  7  8  9]]\n",
      "\n",
      " [[10 11 12 13 14]\n",
      "  [15 16 17 18 19]]]\n",
      "[[[20 21 22 23 24]]\n",
      "\n",
      " [[25 26 27 28 29]]]\n"
     ]
    },
    {
     "data": {
      "text/plain": [
       "TensorShape([2, 3, 5])"
      ]
     },
     "execution_count": 7,
     "metadata": {},
     "output_type": "execute_result"
    }
   ],
   "source": [
    "x = np.arange(20).reshape(2, 2, 5)\n",
    "print(x)\n",
    "y = np.arange(20, 30).reshape(2, 1, 5)\n",
    "print(y)\n",
    "tf.keras.layers.concatenate([x, y], axis=1).shape"
   ]
  },
  {
   "cell_type": "code",
   "execution_count": 11,
   "id": "09193394",
   "metadata": {},
   "outputs": [
    {
     "name": "stdout",
     "output_type": "stream",
     "text": [
      "<keras.layers.core.dense.Dense object at 0x000001E01CDFA100>\n"
     ]
    }
   ],
   "source": [
    "config = {\n",
    "    \"class_name\": \"Dense\",\n",
    "    \"config\": {\n",
    "        \"activation\": \"relu\",\n",
    "        \"activity_regularizer\": None,\n",
    "        \"bias_constraint\": None,\n",
    "        \"bias_initializer\": {\"class_name\": \"Zeros\", \"config\": {}},\n",
    "        \"bias_regularizer\": None,\n",
    "        \"kernel_constraint\": None,\n",
    "        \"kernel_initializer\":{\"class_name\":\"GlorotUniform\", \"config\":{\"seed\":None}},\n",
    "        \"kernel_regularizer\":None,\n",
    "        \"name\":\"dense\",\n",
    "        \"trainable\": True,\n",
    "        \"units\":32,\n",
    "        \"use_bias\": True\n",
    "    }\n",
    "}\n",
    "dense_layer = tf.keras.layers.deserialize(config)\n",
    "print(dense_layer)"
   ]
  },
  {
   "cell_type": "code",
   "execution_count": 12,
   "id": "c14f3cdd",
   "metadata": {},
   "outputs": [
    {
     "data": {
      "text/plain": [
       "<tf.Tensor: shape=(), dtype=int32, numpy=4>"
      ]
     },
     "execution_count": 12,
     "metadata": {},
     "output_type": "execute_result"
    }
   ],
   "source": [
    "tf.keras.layers.maximum([3, 4])"
   ]
  },
  {
   "cell_type": "code",
   "execution_count": 13,
   "id": "d5e718b7",
   "metadata": {},
   "outputs": [
    {
     "data": {
      "text/plain": [
       "<tf.Tensor: shape=(), dtype=int32, numpy=12>"
      ]
     },
     "execution_count": 13,
     "metadata": {},
     "output_type": "execute_result"
    }
   ],
   "source": [
    "tf.keras.layers.multiply([3, 4])"
   ]
  },
  {
   "cell_type": "code",
   "execution_count": 15,
   "id": "43ba8187",
   "metadata": {},
   "outputs": [
    {
     "data": {
      "text/plain": [
       "TensorShape([None, 32, 64])"
      ]
     },
     "execution_count": 15,
     "metadata": {},
     "output_type": "execute_result"
    }
   ],
   "source": [
    "layer = tf.keras.layers.experimental.EinsumDense(\"abc,cd->abd\", output_shape=(None, 64), bias_axes=\"d\")\n",
    "input_tensor = tf.keras.Input(shape=[32, 128])\n",
    "output_tensor = layer(input_tensor)\n",
    "output_tensor.shape"
   ]
  },
  {
   "cell_type": "code",
   "execution_count": 17,
   "id": "b83f71be",
   "metadata": {},
   "outputs": [],
   "source": [
    "model = tf.keras.Sequential([\n",
    "    tf.keras.Input(shape=(784,)),\n",
    "    tf.keras.layers.experimental.RandomFourierFeatures(output_dim=4096, scale=10., kernel_initializer=\"gaussian\"),\n",
    "    tf.keras.layers.Dense(units=10, activation=\"softmax\")\n",
    "])\n",
    "model.compile(optimizer=\"adam\", loss=\"categorical_crossentropy\", metrics=[\"categorical_accuracy\"])"
   ]
  },
  {
   "cell_type": "code",
   "execution_count": 20,
   "id": "378eb8f0",
   "metadata": {},
   "outputs": [
    {
     "data": {
      "text/plain": [
       "<tf.Tensor: shape=(5,), dtype=int64, numpy=array([1, 4, 1, 1, 3], dtype=int64)>"
      ]
     },
     "execution_count": 20,
     "metadata": {},
     "output_type": "execute_result"
    }
   ],
   "source": [
    "layer = tf.keras.layers.experimental.preprocessing.HashedCrossing(num_bins=5)\n",
    "feat1 = tf.constant([\"A\", \"B\", \"A\", \"B\", \"A\"])\n",
    "feat2 = tf.constant([101, 101, 101, 102, 102])\n",
    "layer((feat1, feat2))"
   ]
  },
  {
   "cell_type": "code",
   "execution_count": 21,
   "id": "704ae738",
   "metadata": {},
   "outputs": [
    {
     "data": {
      "text/plain": [
       "0.865458"
      ]
     },
     "execution_count": 21,
     "metadata": {},
     "output_type": "execute_result"
    }
   ],
   "source": [
    "y_true = [[0, 1], [0, 0]]\n",
    "y_pred = [[-18.6, 0.51], [2.94, -12.8]]\n",
    "bce = tf.keras.losses.BinaryCrossentropy(from_logits=True)\n",
    "bce(y_true, y_pred).numpy()"
   ]
  },
  {
   "cell_type": "code",
   "execution_count": 23,
   "id": "f87d73fd",
   "metadata": {},
   "outputs": [
    {
     "data": {
      "text/plain": [
       "0.6912122"
      ]
     },
     "execution_count": 23,
     "metadata": {},
     "output_type": "execute_result"
    }
   ],
   "source": [
    "y_true = [0, 1, 0, 0]\n",
    "y_pred = [-18.6, 0.51, 2.94, -12.8]\n",
    "loss = tf.keras.losses.BinaryFocalCrossentropy(gamma=2, from_logits=True)\n",
    "loss(y_true, y_pred).numpy()"
   ]
  },
  {
   "cell_type": "code",
   "execution_count": 24,
   "id": "71aaffd6",
   "metadata": {},
   "outputs": [
    {
     "data": {
      "text/plain": [
       "1.1769392"
      ]
     },
     "execution_count": 24,
     "metadata": {},
     "output_type": "execute_result"
    }
   ],
   "source": [
    "y_true = [[0, 1, 0], [0, 0, 1]]\n",
    "y_pred = [[0.05, 0.95, 0], [0.1, 0.8, 0.1]]\n",
    "cce = tf.keras.losses.CategoricalCrossentropy()\n",
    "cce(y_true, y_pred).numpy()"
   ]
  },
  {
   "cell_type": "code",
   "execution_count": 25,
   "id": "ace55cbf",
   "metadata": {},
   "outputs": [
    {
     "data": {
      "text/plain": [
       "1.4000001"
      ]
     },
     "execution_count": 25,
     "metadata": {},
     "output_type": "execute_result"
    }
   ],
   "source": [
    "y_true = [[0, 1], [0, 0]]\n",
    "y_pred = [[0.6, 0.4], [0.4, 0.6]]\n",
    "tf.keras.losses.CategoricalHinge()(y_true, y_pred).numpy()"
   ]
  },
  {
   "cell_type": "code",
   "execution_count": 27,
   "id": "846e4c48",
   "metadata": {},
   "outputs": [
    {
     "data": {
      "text/plain": [
       "-0.49999997"
      ]
     },
     "execution_count": 27,
     "metadata": {},
     "output_type": "execute_result"
    }
   ],
   "source": [
    "y_true = [[0., 1.], [1., 1.]]\n",
    "y_pred = [[1., 0.], [1., 1.]]\n",
    "cosine_loss = tf.keras.losses.CosineSimilarity(axis=1)\n",
    "cosine_loss(y_true, y_pred).numpy()"
   ]
  },
  {
   "cell_type": "code",
   "execution_count": 28,
   "id": "1ea9f097",
   "metadata": {},
   "outputs": [
    {
     "data": {
      "text/plain": [
       "1.3"
      ]
     },
     "execution_count": 28,
     "metadata": {},
     "output_type": "execute_result"
    }
   ],
   "source": [
    "y_true = [[0., 1.], [0., 0.]]\n",
    "y_pred = [[0.6, 0.4], [0.4, 0.6]]\n",
    "tf.keras.losses.Hinge()(y_true, y_pred).numpy()"
   ]
  },
  {
   "cell_type": "code",
   "execution_count": 29,
   "id": "14d27b27",
   "metadata": {},
   "outputs": [
    {
     "data": {
      "text/plain": [
       "0.155"
      ]
     },
     "execution_count": 29,
     "metadata": {},
     "output_type": "execute_result"
    }
   ],
   "source": [
    "y_true = [[0, 1], [0, 0]]\n",
    "y_pred = [[0.6, 0.4], [0.4, 0.6]]\n",
    "h = tf.keras.losses.Huber()\n",
    "h(y_true, y_pred).numpy()"
   ]
  },
  {
   "cell_type": "code",
   "execution_count": 30,
   "id": "e9414b0c",
   "metadata": {},
   "outputs": [
    {
     "data": {
      "text/plain": [
       "0.45814306"
      ]
     },
     "execution_count": 30,
     "metadata": {},
     "output_type": "execute_result"
    }
   ],
   "source": [
    "y_true = [[0, 1], [0, 0]]\n",
    "y_pred = [[0.6, 0.4], [0.4, 0.6]]\n",
    "kl = tf.keras.losses.KLDivergence()\n",
    "kl(y_true, y_pred).numpy()"
   ]
  },
  {
   "cell_type": "code",
   "execution_count": 32,
   "id": "87c8d5e3",
   "metadata": {},
   "outputs": [
    {
     "data": {
      "text/plain": [
       "0.1084452"
      ]
     },
     "execution_count": 32,
     "metadata": {},
     "output_type": "execute_result"
    }
   ],
   "source": [
    "y_true = [[0., 1.], [0., 0.]]\n",
    "y_pred = [[1., 1.], [0., 0.]]\n",
    "l = tf.keras.losses.LogCosh()\n",
    "l(y_true, y_pred).numpy()"
   ]
  },
  {
   "cell_type": "code",
   "execution_count": 33,
   "id": "7f63c7ad",
   "metadata": {},
   "outputs": [
    {
     "data": {
      "text/plain": [
       "0.5"
      ]
     },
     "execution_count": 33,
     "metadata": {},
     "output_type": "execute_result"
    }
   ],
   "source": [
    "y_true = [[0., 1.], [0., 0.]]\n",
    "y_pred = [[1., 1.], [1., 0.]]\n",
    "mae = tf.keras.losses.MeanAbsoluteError()\n",
    "mae(y_true, y_pred).numpy()"
   ]
  },
  {
   "cell_type": "code",
   "execution_count": 34,
   "id": "d3d5a939",
   "metadata": {},
   "outputs": [
    {
     "data": {
      "text/plain": [
       "50.0"
      ]
     },
     "execution_count": 34,
     "metadata": {},
     "output_type": "execute_result"
    }
   ],
   "source": [
    "y_true = [[2., 1.], [2., 3.]]\n",
    "y_pred = [[1., 1.], [1., 0.]]\n",
    "mape = tf.keras.losses.MeanAbsolutePercentageError()\n",
    "mape(y_true, y_pred).numpy()"
   ]
  },
  {
   "cell_type": "code",
   "execution_count": 36,
   "id": "b08d0008",
   "metadata": {},
   "outputs": [
    {
     "data": {
      "text/plain": [
       "0.5"
      ]
     },
     "execution_count": 36,
     "metadata": {},
     "output_type": "execute_result"
    }
   ],
   "source": [
    "y_true = [[0., 1.], [0., 0.]]\n",
    "y_pred = [[1., 1.], [1., 0.]]\n",
    "mse = tf.keras.losses.MeanSquaredError()\n",
    "mse(y_true, y_pred).numpy()"
   ]
  },
  {
   "cell_type": "code",
   "execution_count": 37,
   "id": "daf9b721",
   "metadata": {},
   "outputs": [
    {
     "data": {
      "text/plain": [
       "0.24022643"
      ]
     },
     "execution_count": 37,
     "metadata": {},
     "output_type": "execute_result"
    }
   ],
   "source": [
    "y_true = [[0., 1.], [0., 0.]]\n",
    "y_pred = [[1., 1.], [1., 0.]]\n",
    "msle = tf.keras.losses.MeanSquaredLogarithmicError()\n",
    "msle(y_true, y_pred).numpy()"
   ]
  },
  {
   "cell_type": "code",
   "execution_count": 38,
   "id": "a48247c0",
   "metadata": {},
   "outputs": [
    {
     "data": {
      "text/plain": [
       "0.49999997"
      ]
     },
     "execution_count": 38,
     "metadata": {},
     "output_type": "execute_result"
    }
   ],
   "source": [
    "y_true = [[0., 1.], [0., 0.]]\n",
    "y_pred = [[1., 1.], [0., 0.]]\n",
    "p = tf.keras.losses.Poisson()\n",
    "p(y_true, y_pred).numpy()"
   ]
  },
  {
   "cell_type": "code",
   "execution_count": 39,
   "id": "e8e88286",
   "metadata": {},
   "outputs": [
    {
     "data": {
      "text/plain": [
       "1.1769392"
      ]
     },
     "execution_count": 39,
     "metadata": {},
     "output_type": "execute_result"
    }
   ],
   "source": [
    "y_true = [1, 2]\n",
    "y_pred = [[0.05, 0.95, 0], [0.1, 0.8, 0.1]]\n",
    "scce = tf.keras.losses.SparseCategoricalCrossentropy()\n",
    "scce(y_true, y_pred).numpy()"
   ]
  },
  {
   "cell_type": "code",
   "execution_count": 40,
   "id": "77af094d",
   "metadata": {},
   "outputs": [
    {
     "data": {
      "text/plain": [
       "1.86"
      ]
     },
     "execution_count": 40,
     "metadata": {},
     "output_type": "execute_result"
    }
   ],
   "source": [
    "y_true = [[0., 1.], [0., 0.]]\n",
    "y_pred = [[0.6, 0.4], [0.4, 0.6]]\n",
    "h = tf.keras.losses.SquaredHinge()\n",
    "h(y_true, y_pred).numpy()"
   ]
  },
  {
   "cell_type": "code",
   "execution_count": 41,
   "id": "b65e12f9",
   "metadata": {},
   "outputs": [
    {
     "data": {
      "text/plain": [
       "0.75"
      ]
     },
     "execution_count": 41,
     "metadata": {},
     "output_type": "execute_result"
    }
   ],
   "source": [
    "m = tf.keras.metrics.AUC(num_thresholds=3)\n",
    "m.update_state([0, 0, 1, 1], [0, 0.5, 0.3, 0.9])\n",
    "m.result().numpy()"
   ]
  },
  {
   "cell_type": "code",
   "execution_count": 44,
   "id": "e5bf96b4",
   "metadata": {},
   "outputs": [
    {
     "data": {
      "text/plain": [
       "0.75"
      ]
     },
     "execution_count": 44,
     "metadata": {},
     "output_type": "execute_result"
    }
   ],
   "source": [
    "m = tf.keras.metrics.Accuracy()\n",
    "m.update_state([[1], [2], [3], [4]], [[0], [2], [3], [4]])\n",
    "m.result().numpy()"
   ]
  },
  {
   "cell_type": "code",
   "execution_count": 45,
   "id": "84867c60",
   "metadata": {},
   "outputs": [
    {
     "data": {
      "text/plain": [
       "0.75"
      ]
     },
     "execution_count": 45,
     "metadata": {},
     "output_type": "execute_result"
    }
   ],
   "source": [
    "m = tf.keras.metrics.BinaryAccuracy()\n",
    "m.update_state([[1], [1], [0], [0]], [[0.98], [1], [0], [0.6]])\n",
    "m.result().numpy()"
   ]
  },
  {
   "cell_type": "code",
   "execution_count": 46,
   "id": "376fe997",
   "metadata": {},
   "outputs": [
    {
     "data": {
      "text/plain": [
       "0.81492424"
      ]
     },
     "execution_count": 46,
     "metadata": {},
     "output_type": "execute_result"
    }
   ],
   "source": [
    "m = tf.keras.metrics.BinaryCrossentropy()\n",
    "m.update_state([[0, 1], [0, 0]], [[0.6, 0.4], [0.4, 0.6]])\n",
    "m.result().numpy()"
   ]
  },
  {
   "cell_type": "code",
   "execution_count": 49,
   "id": "a0990d58",
   "metadata": {},
   "outputs": [
    {
     "data": {
      "text/plain": [
       "0.33333334"
      ]
     },
     "execution_count": 49,
     "metadata": {},
     "output_type": "execute_result"
    }
   ],
   "source": [
    "m = tf.keras.metrics.BinaryIoU(threshold=0.3)\n",
    "m.update_state([0, 1, 0, 1], [0.1, 0.2, 0.4, 0.7])\n",
    "m.result().numpy()"
   ]
  },
  {
   "cell_type": "code",
   "execution_count": 50,
   "id": "92ab6f66",
   "metadata": {},
   "outputs": [
    {
     "data": {
      "text/plain": [
       "0.5"
      ]
     },
     "execution_count": 50,
     "metadata": {},
     "output_type": "execute_result"
    }
   ],
   "source": [
    "m = tf.keras.metrics.CategoricalAccuracy()\n",
    "m.update_state([[0, 0, 1], [0, 1, 0]], [[0.1, 0.9, 0.8], [0.05, 0.95, 0]])\n",
    "m.result().numpy()"
   ]
  },
  {
   "cell_type": "code",
   "execution_count": 52,
   "id": "bbe5f157",
   "metadata": {},
   "outputs": [
    {
     "data": {
      "text/plain": [
       "1.1769392"
      ]
     },
     "execution_count": 52,
     "metadata": {},
     "output_type": "execute_result"
    }
   ],
   "source": [
    "m = tf.keras.metrics.CategoricalCrossentropy()\n",
    "m.update_state([[0, 1, 0], [0, 0, 1]], [[0.05, 0.95, 0], [0.1, 0.8, 0.1]])\n",
    "m.result().numpy()"
   ]
  },
  {
   "cell_type": "code",
   "execution_count": 54,
   "id": "26e05c5a",
   "metadata": {},
   "outputs": [
    {
     "data": {
      "text/plain": [
       "1.4000001"
      ]
     },
     "execution_count": 54,
     "metadata": {},
     "output_type": "execute_result"
    }
   ],
   "source": [
    "m = tf.keras.metrics.CategoricalHinge()\n",
    "m.update_state([[0, 1], [0, 0]], [[0.6, 0.4], [0.4, 0.6]])\n",
    "m.result().numpy()"
   ]
  },
  {
   "cell_type": "code",
   "execution_count": 55,
   "id": "9b066ecd",
   "metadata": {},
   "outputs": [
    {
     "data": {
      "text/plain": [
       "0.49999997"
      ]
     },
     "execution_count": 55,
     "metadata": {},
     "output_type": "execute_result"
    }
   ],
   "source": [
    "m = tf.keras.metrics.CosineSimilarity(axis=1)\n",
    "m.update_state([[0., 1.], [1., 1.]], [[1., 0.], [1., 1.]])\n",
    "m.result().numpy()"
   ]
  },
  {
   "cell_type": "code",
   "execution_count": 57,
   "id": "c574baf1",
   "metadata": {},
   "outputs": [
    {
     "data": {
      "text/plain": [
       "2.0"
      ]
     },
     "execution_count": 57,
     "metadata": {},
     "output_type": "execute_result"
    }
   ],
   "source": [
    "m = tf.keras.metrics.FalseNegatives()\n",
    "m.update_state([0, 1, 1, 1], [0, 1, 0, 0])\n",
    "m.result().numpy()"
   ]
  },
  {
   "cell_type": "code",
   "execution_count": 58,
   "id": "3f3b5a18",
   "metadata": {},
   "outputs": [
    {
     "data": {
      "text/plain": [
       "2.0"
      ]
     },
     "execution_count": 58,
     "metadata": {},
     "output_type": "execute_result"
    }
   ],
   "source": [
    "m = tf.keras.metrics.FalsePositives()\n",
    "m.update_state([0, 1, 0, 0], [0, 0, 1, 1])\n",
    "m.result().numpy()"
   ]
  },
  {
   "cell_type": "code",
   "execution_count": 59,
   "id": "fa31ef3e",
   "metadata": {},
   "outputs": [
    {
     "data": {
      "text/plain": [
       "1.3"
      ]
     },
     "execution_count": 59,
     "metadata": {},
     "output_type": "execute_result"
    }
   ],
   "source": [
    "m = tf.keras.metrics.Hinge()\n",
    "m.update_state([[0, 1], [0, 0]], [[0.6, 0.4], [0.4, 0.6]])\n",
    "m.result().numpy()"
   ]
  },
  {
   "cell_type": "code",
   "execution_count": 63,
   "id": "bd6c0610",
   "metadata": {},
   "outputs": [
    {
     "data": {
      "text/plain": [
       "0.33333334"
      ]
     },
     "execution_count": 63,
     "metadata": {},
     "output_type": "execute_result"
    }
   ],
   "source": [
    "m = tf.keras.metrics.IoU(num_classes=2, target_class_ids=[0])\n",
    "m.update_state([0, 0, 1, 1], [0, 1, 0, 1])\n",
    "m.result().numpy()"
   ]
  },
  {
   "cell_type": "code",
   "execution_count": 64,
   "id": "88aaacc1",
   "metadata": {},
   "outputs": [
    {
     "data": {
      "text/plain": [
       "0.45814306"
      ]
     },
     "execution_count": 64,
     "metadata": {},
     "output_type": "execute_result"
    }
   ],
   "source": [
    "m = tf.keras.metrics.KLDivergence()\n",
    "m.update_state([[0, 1], [0, 0]], [[0.6, 0.4], [0.4, 0.6]])\n",
    "m.result().numpy()"
   ]
  },
  {
   "cell_type": "code",
   "execution_count": 65,
   "id": "46c51d2d",
   "metadata": {},
   "outputs": [
    {
     "data": {
      "text/plain": [
       "0.1084452"
      ]
     },
     "execution_count": 65,
     "metadata": {},
     "output_type": "execute_result"
    }
   ],
   "source": [
    "m = tf.keras.metrics.LogCoshError()\n",
    "m.update_state([[0, 1], [0, 0]], [[1, 1], [0, 0]])\n",
    "m.result().numpy()"
   ]
  },
  {
   "cell_type": "code",
   "execution_count": 67,
   "id": "a84c7098",
   "metadata": {},
   "outputs": [
    {
     "data": {
      "text/plain": [
       "4.0"
      ]
     },
     "execution_count": 67,
     "metadata": {},
     "output_type": "execute_result"
    }
   ],
   "source": [
    "m = tf.keras.metrics.Mean()\n",
    "m.update_state([1, 3, 5, 7])\n",
    "m.result().numpy()"
   ]
  },
  {
   "cell_type": "code",
   "execution_count": 68,
   "id": "0e4076a2",
   "metadata": {},
   "outputs": [
    {
     "data": {
      "text/plain": [
       "0.25"
      ]
     },
     "execution_count": 68,
     "metadata": {},
     "output_type": "execute_result"
    }
   ],
   "source": [
    "m = tf.keras.metrics.MeanAbsoluteError()\n",
    "m.update_state([[0, 1], [0, 0]], [[1, 1], [0, 0]])\n",
    "m.result().numpy()"
   ]
  },
  {
   "cell_type": "code",
   "execution_count": 70,
   "id": "856cb4b0",
   "metadata": {},
   "outputs": [
    {
     "data": {
      "text/plain": [
       "250000000.0"
      ]
     },
     "execution_count": 70,
     "metadata": {},
     "output_type": "execute_result"
    }
   ],
   "source": [
    "m = tf.keras.metrics.MeanAbsolutePercentageError()\n",
    "m.update_state([[0, 1], [0, 0]], [[1, 1], [0, 0]])\n",
    "m.result().numpy()"
   ]
  },
  {
   "cell_type": "code",
   "execution_count": 71,
   "id": "811687a4",
   "metadata": {},
   "outputs": [
    {
     "data": {
      "text/plain": [
       "0.33333334"
      ]
     },
     "execution_count": 71,
     "metadata": {},
     "output_type": "execute_result"
    }
   ],
   "source": [
    "m = tf.keras.metrics.MeanIoU(num_classes=2)\n",
    "m.update_state([0, 0, 1, 1], [0, 1, 0, 1])\n",
    "m.result().numpy()"
   ]
  },
  {
   "cell_type": "code",
   "execution_count": 72,
   "id": "cfec0f55",
   "metadata": {},
   "outputs": [
    {
     "data": {
      "text/plain": [
       "1.25"
      ]
     },
     "execution_count": 72,
     "metadata": {},
     "output_type": "execute_result"
    }
   ],
   "source": [
    "m = tf.keras.metrics.MeanRelativeError(normalizer=[1, 3, 2, 3])\n",
    "m.update_state([1, 3, 2, 3], [2, 4, 6, 8])\n",
    "m.result().numpy()"
   ]
  },
  {
   "cell_type": "code",
   "execution_count": 74,
   "id": "ef3925b5",
   "metadata": {},
   "outputs": [
    {
     "data": {
      "text/plain": [
       "0.25"
      ]
     },
     "execution_count": 74,
     "metadata": {},
     "output_type": "execute_result"
    }
   ],
   "source": [
    "m = tf.keras.metrics.MeanSquaredError()\n",
    "m.update_state([[0, 1], [0, 0]], [[1, 1], [0, 0]])\n",
    "m.result().numpy()"
   ]
  },
  {
   "cell_type": "code",
   "execution_count": 75,
   "id": "ae77cd9f",
   "metadata": {},
   "outputs": [
    {
     "data": {
      "text/plain": [
       "0.12011322"
      ]
     },
     "execution_count": 75,
     "metadata": {},
     "output_type": "execute_result"
    }
   ],
   "source": [
    "m = tf.keras.metrics.MeanSquaredLogarithmicError()\n",
    "m.update_state([[0, 1], [0, 0]], [[1, 1], [0, 0]])\n",
    "m.result().numpy()"
   ]
  },
  {
   "cell_type": "code",
   "execution_count": 76,
   "id": "4fd02a8a",
   "metadata": {},
   "outputs": [
    {
     "data": {
      "text/plain": [
       "array([2., 3., 4., 5.], dtype=float32)"
      ]
     },
     "execution_count": 76,
     "metadata": {},
     "output_type": "execute_result"
    }
   ],
   "source": [
    "m = tf.keras.metrics.MeanTensor()\n",
    "m.update_state([0, 1, 2, 3])\n",
    "m.update_state([4, 5, 6, 7])\n",
    "m.result().numpy()"
   ]
  },
  {
   "cell_type": "code",
   "execution_count": 78,
   "id": "84698dca",
   "metadata": {},
   "outputs": [
    {
     "data": {
      "text/plain": [
       "0.07142857"
      ]
     },
     "execution_count": 78,
     "metadata": {},
     "output_type": "execute_result"
    }
   ],
   "source": [
    "y_true = tf.constant([[0, 0, 1], [1, 0, 0], [0, 1, 0], [1, 0, 0]])\n",
    "y_pred = tf.constant([[0.2, 0.3, 0.5], [0.1, 0.2, 0.7], [0.5, 0.3, 0.1], [0.1, 0.4, 0.5]])\n",
    "m = tf.keras.metrics.OneHotIoU(num_classes=3, target_class_ids=[0, 2])\n",
    "m.update_state(y_true, y_pred, sample_weight=[0.1, 0.2, 0.3, 0.4])\n",
    "m.result().numpy()"
   ]
  },
  {
   "cell_type": "code",
   "execution_count": 80,
   "id": "48345a87",
   "metadata": {},
   "outputs": [
    {
     "data": {
      "text/plain": [
       "0.047619045"
      ]
     },
     "execution_count": 80,
     "metadata": {},
     "output_type": "execute_result"
    }
   ],
   "source": [
    "y_true = tf.constant([[0, 0, 1], [1, 0, 0], [0, 1, 0], [1, 0, 0]])\n",
    "y_pred = tf.constant([[0.2, 0.3, 0.5], [0.1, 0.2, 0.7], [0.5, 0.3, 0.1], [0.1, 0.4, 0.5]])\n",
    "m = tf.keras.metrics.OneHotMeanIoU(num_classes=3)\n",
    "m.update_state(y_true, y_pred, sample_weight=[0.1, 0.2, 0.3, 0.4])\n",
    "m.result().numpy()"
   ]
  },
  {
   "cell_type": "code",
   "execution_count": 82,
   "id": "33d3d7f1",
   "metadata": {},
   "outputs": [
    {
     "data": {
      "text/plain": [
       "0.49999997"
      ]
     },
     "execution_count": 82,
     "metadata": {},
     "output_type": "execute_result"
    }
   ],
   "source": [
    "m = tf.keras.metrics.Poisson()\n",
    "m.update_state([[0, 1], [0, 0]], [[1, 1], [0, 0]])\n",
    "m.result().numpy()"
   ]
  },
  {
   "cell_type": "code",
   "execution_count": 83,
   "id": "9adcaf62",
   "metadata": {},
   "outputs": [
    {
     "data": {
      "text/plain": [
       "0.6666667"
      ]
     },
     "execution_count": 83,
     "metadata": {},
     "output_type": "execute_result"
    }
   ],
   "source": [
    "m = tf.keras.metrics.Precision()\n",
    "m.update_state([0, 1, 1, 1], [1, 0, 1, 1])\n",
    "m.result().numpy()"
   ]
  },
  {
   "cell_type": "code",
   "execution_count": 84,
   "id": "f38f9347",
   "metadata": {},
   "outputs": [
    {
     "data": {
      "text/plain": [
       "0.33333334"
      ]
     },
     "execution_count": 84,
     "metadata": {},
     "output_type": "execute_result"
    }
   ],
   "source": [
    "m = tf.keras.metrics.PrecisionAtRecall(0.5)\n",
    "m.update_state([0, 0, 0, 1, 1], [0, 0.3, 0.8, 0.3, 0.8], sample_weight=[2, 2, 2, 1, 1])\n",
    "m.result().numpy()"
   ]
  },
  {
   "cell_type": "code",
   "execution_count": 85,
   "id": "391c3976",
   "metadata": {},
   "outputs": [
    {
     "data": {
      "text/plain": [
       "0.6666667"
      ]
     },
     "execution_count": 85,
     "metadata": {},
     "output_type": "execute_result"
    }
   ],
   "source": [
    "m = tf.keras.metrics.Recall()\n",
    "m.update_state([0, 1, 1, 1], [1, 0, 1, 1])\n",
    "m.result().numpy()"
   ]
  },
  {
   "cell_type": "code",
   "execution_count": 86,
   "id": "eb1ef53c",
   "metadata": {},
   "outputs": [
    {
     "data": {
      "text/plain": [
       "0.5"
      ]
     },
     "execution_count": 86,
     "metadata": {},
     "output_type": "execute_result"
    }
   ],
   "source": [
    "m = tf.keras.metrics.RecallAtPrecision(0.8)\n",
    "m.update_state([0, 0, 1, 1], [0, 0.5, 0.3, 0.9])\n",
    "m.result().numpy()"
   ]
  },
  {
   "cell_type": "code",
   "execution_count": 87,
   "id": "e249be2b",
   "metadata": {},
   "outputs": [
    {
     "data": {
      "text/plain": [
       "0.5"
      ]
     },
     "execution_count": 87,
     "metadata": {},
     "output_type": "execute_result"
    }
   ],
   "source": [
    "m = tf.keras.metrics.RootMeanSquaredError()\n",
    "m.update_state([[0, 1], [0, 0]], [[1, 1], [0, 0]])\n",
    "m.result().numpy()"
   ]
  },
  {
   "cell_type": "code",
   "execution_count": 88,
   "id": "0267ddec",
   "metadata": {},
   "outputs": [
    {
     "data": {
      "text/plain": [
       "0.5"
      ]
     },
     "execution_count": 88,
     "metadata": {},
     "output_type": "execute_result"
    }
   ],
   "source": [
    "m = tf.keras.metrics.SensitivityAtSpecificity(0.5)\n",
    "m.update_state([0, 0, 0, 1, 1], [0, 0.3, 0.8, 0.3, 0.8])\n",
    "m.result().numpy()"
   ]
  },
  {
   "cell_type": "code",
   "execution_count": 89,
   "id": "3cd56fc9",
   "metadata": {},
   "outputs": [
    {
     "data": {
      "text/plain": [
       "0.5"
      ]
     },
     "execution_count": 89,
     "metadata": {},
     "output_type": "execute_result"
    }
   ],
   "source": [
    "m = tf.keras.metrics.SparseCategoricalAccuracy()\n",
    "m.update_state([[2], [1]], [[0.1, 0.6, 0.3], [0.05, 0.95, 0]])\n",
    "m.result().numpy()"
   ]
  },
  {
   "cell_type": "code",
   "execution_count": 90,
   "id": "7e5c4ba4",
   "metadata": {},
   "outputs": [
    {
     "data": {
      "text/plain": [
       "1.1769392"
      ]
     },
     "execution_count": 90,
     "metadata": {},
     "output_type": "execute_result"
    }
   ],
   "source": [
    "m = tf.keras.metrics.SparseCategoricalCrossentropy()\n",
    "m.update_state([1, 2], [[0.05, 0.95, 0], [0.1, 0.8, 0.1]])\n",
    "m.result().numpy()"
   ]
  },
  {
   "cell_type": "code",
   "execution_count": 91,
   "id": "6abb0447",
   "metadata": {},
   "outputs": [
    {
     "data": {
      "text/plain": [
       "0.5"
      ]
     },
     "execution_count": 91,
     "metadata": {},
     "output_type": "execute_result"
    }
   ],
   "source": [
    "m = tf.keras.metrics.SparseTopKCategoricalAccuracy(k = 1)\n",
    "m.update_state([2, 1], [[0.1, 0.9, 0.8], [0.05, 0.95, 0]])\n",
    "m.result().numpy()"
   ]
  },
  {
   "cell_type": "code",
   "execution_count": 92,
   "id": "dabcead1",
   "metadata": {},
   "outputs": [
    {
     "data": {
      "text/plain": [
       "0.6666667"
      ]
     },
     "execution_count": 92,
     "metadata": {},
     "output_type": "execute_result"
    }
   ],
   "source": [
    "m = tf.keras.metrics.SpecificityAtSensitivity(0.5)\n",
    "m.update_state([0, 0, 0, 1, 1], [0, 0.3, 0.8, 0.3, 0.8])\n",
    "m.result().numpy()"
   ]
  },
  {
   "cell_type": "code",
   "execution_count": 93,
   "id": "a634dd79",
   "metadata": {},
   "outputs": [
    {
     "data": {
      "text/plain": [
       "1.86"
      ]
     },
     "execution_count": 93,
     "metadata": {},
     "output_type": "execute_result"
    }
   ],
   "source": [
    "m = tf.keras.metrics.SquaredHinge()\n",
    "m.update_state([[0, 1], [0, 0]], [[0.6, 0.4], [0.4, 0.6]])\n",
    "m.result().numpy()"
   ]
  },
  {
   "cell_type": "code",
   "execution_count": 94,
   "id": "57b73d2f",
   "metadata": {},
   "outputs": [
    {
     "data": {
      "text/plain": [
       "16.0"
      ]
     },
     "execution_count": 94,
     "metadata": {},
     "output_type": "execute_result"
    }
   ],
   "source": [
    "m = tf.keras.metrics.Sum()\n",
    "m.update_state([1, 3, 5, 7])\n",
    "m.result().numpy()"
   ]
  },
  {
   "cell_type": "code",
   "execution_count": 95,
   "id": "2ec14c5d",
   "metadata": {},
   "outputs": [
    {
     "data": {
      "text/plain": [
       "0.5"
      ]
     },
     "execution_count": 95,
     "metadata": {},
     "output_type": "execute_result"
    }
   ],
   "source": [
    "m = tf.keras.metrics.TopKCategoricalAccuracy(k=1)\n",
    "m.update_state([[0, 0, 1], [0, 1, 0]], [[0.1, 0.9, 0.8], [0.05, 0.95, 0]])\n",
    "m.result().numpy()"
   ]
  },
  {
   "cell_type": "code",
   "execution_count": 96,
   "id": "d814eceb",
   "metadata": {},
   "outputs": [
    {
     "data": {
      "text/plain": [
       "1.0"
      ]
     },
     "execution_count": 96,
     "metadata": {},
     "output_type": "execute_result"
    }
   ],
   "source": [
    "m = tf.keras.metrics.TrueNegatives()\n",
    "m.update_state([0, 1, 0, 0], [1, 1, 0, 0], sample_weight=[0, 0, 1, 0])\n",
    "m.result().numpy()"
   ]
  },
  {
   "cell_type": "code",
   "execution_count": 97,
   "id": "52edcfcc",
   "metadata": {},
   "outputs": [
    {
     "data": {
      "text/plain": [
       "2.0"
      ]
     },
     "execution_count": 97,
     "metadata": {},
     "output_type": "execute_result"
    }
   ],
   "source": [
    "m = tf.keras.metrics.TruePositives()\n",
    "m.update_state([0, 1, 1, 1], [1, 0, 1, 1])\n",
    "m.result().numpy()"
   ]
  },
  {
   "cell_type": "code",
   "execution_count": 98,
   "id": "b700af2f",
   "metadata": {},
   "outputs": [
    {
     "data": {
      "text/plain": [
       "0.5"
      ]
     },
     "execution_count": 98,
     "metadata": {},
     "output_type": "execute_result"
    }
   ],
   "source": [
    "opt = tf.keras.optimizers.SGD(0.25)\n",
    "opt = tf.keras.mixed_precision.LossScaleOptimizer(opt)\n",
    "var = tf.Variable(1.)\n",
    "loss_fn = lambda: var ** 2\n",
    "opt.minimize(loss_fn, var_list=var)\n",
    "var.numpy()"
   ]
  },
  {
   "cell_type": "code",
   "execution_count": 99,
   "id": "13e03d5a",
   "metadata": {},
   "outputs": [
    {
     "data": {
      "text/plain": [
       "0.25"
      ]
     },
     "execution_count": 99,
     "metadata": {},
     "output_type": "execute_result"
    }
   ],
   "source": [
    "with tf.GradientTape() as tape:\n",
    "    loss = loss_fn()\n",
    "    scaled_loss = opt.get_scaled_loss(loss)\n",
    "scaled_grad = tape.gradient(scaled_loss, var)\n",
    "(grad, ) = opt.get_unscaled_gradients([scaled_grad])\n",
    "opt.apply_gradients([(grad, var)])\n",
    "var.numpy()"
   ]
  },
  {
   "cell_type": "code",
   "execution_count": 3,
   "id": "15fbe09e",
   "metadata": {},
   "outputs": [
    {
     "data": {
      "text/plain": [
       "array([[ 1, -1, -1],\n",
       "       [ 2,  3, -1],\n",
       "       [ 4,  5,  6]])"
      ]
     },
     "execution_count": 3,
     "metadata": {},
     "output_type": "execute_result"
    }
   ],
   "source": [
    "sequence = [[1], [2, 3], [4, 5, 6]]\n",
    "tf.keras.preprocessing.sequence.pad_sequences(sequence, padding=\"post\", value=-1)"
   ]
  },
  {
   "cell_type": "code",
   "execution_count": 4,
   "id": "7a294e34",
   "metadata": {},
   "outputs": [
    {
     "data": {
      "text/plain": [
       "['this', 'is', 'a', 'sample', 'sentence']"
      ]
     },
     "execution_count": 4,
     "metadata": {},
     "output_type": "execute_result"
    }
   ],
   "source": [
    "sample_text = \"This is a sample sentence\"\n",
    "tf.keras.preprocessing.text.text_to_word_sequence(sample_text)"
   ]
  },
  {
   "cell_type": "code",
   "execution_count": 5,
   "id": "e46cb8d0",
   "metadata": {},
   "outputs": [
    {
     "name": "stdout",
     "output_type": "stream",
     "text": [
      "tf.Tensor(\n",
      "[[1. 0. 0. 0.]\n",
      " [0. 1. 0. 0.]\n",
      " [0. 0. 1. 0.]\n",
      " [0. 0. 0. 1.]], shape=(4, 4), dtype=float32)\n"
     ]
    }
   ],
   "source": [
    "a = tf.keras.utils.to_categorical([0, 1, 2, 3], num_classes=4)\n",
    "a = tf.constant(a, shape=[4, 4])\n",
    "print(a)"
   ]
  },
  {
   "cell_type": "code",
   "execution_count": 8,
   "id": "ba051af8",
   "metadata": {},
   "outputs": [
    {
     "name": "stdout",
     "output_type": "stream",
     "text": [
      "WARNING:tensorflow:From C:\\Users\\jatin\\anaconda3\\lib\\site-packages\\tensorflow\\python\\ops\\linalg\\linear_operator_adjoint.py:150: LinearOperator.graph_parents (from tensorflow.python.ops.linalg.linear_operator) is deprecated and will be removed in a future version.\n",
      "Instructions for updating:\n",
      "Do not call `graph_parents`.\n"
     ]
    },
    {
     "data": {
      "text/plain": [
       "<tf.Tensor: shape=(2, 2), dtype=float32, numpy=\n",
       "array([[-1.,  0.],\n",
       "       [ 3.,  3.]], dtype=float32)>"
      ]
     },
     "execution_count": 8,
     "metadata": {},
     "output_type": "execute_result"
    }
   ],
   "source": [
    "i= 2\n",
    "operator = tf.linalg.LinearOperatorFullMatrix([[1 - i, 3], [0., 1. + i]])\n",
    "operator_adjoint = tf.linalg.LinearOperatorAdjoint(operator)\n",
    "operator_adjoint.to_dense()"
   ]
  },
  {
   "cell_type": "code",
   "execution_count": 9,
   "id": "ef7c3bf7",
   "metadata": {},
   "outputs": [
    {
     "name": "stdout",
     "output_type": "stream",
     "text": [
      "WARNING:tensorflow:Using (possibly slow) default implementation of determinant.  Requires conversion to a dense matrix and O(N^3) operations.\n"
     ]
    },
    {
     "data": {
      "text/plain": [
       "<tf.Tensor: shape=(), dtype=float32, numpy=1.0986123>"
      ]
     },
     "execution_count": 9,
     "metadata": {},
     "output_type": "execute_result"
    }
   ],
   "source": [
    "operator_adjoint.log_abs_determinant()"
   ]
  },
  {
   "cell_type": "code",
   "execution_count": 11,
   "id": "1f581d4d",
   "metadata": {},
   "outputs": [
    {
     "data": {
      "text/plain": [
       "<tf.Tensor: shape=(4, 4), dtype=float32, numpy=\n",
       "array([[1., 2., 0., 0.],\n",
       "       [3., 4., 0., 0.],\n",
       "       [0., 0., 1., 0.],\n",
       "       [0., 0., 0., 1.]], dtype=float32)>"
      ]
     },
     "execution_count": 11,
     "metadata": {},
     "output_type": "execute_result"
    }
   ],
   "source": [
    "operator_1 = tf.linalg.LinearOperatorFullMatrix([[1., 2.], [3., 4.]])\n",
    "operator_2 = tf.linalg.LinearOperatorFullMatrix([[1., 0.], [0., 1.]])\n",
    "operator = tf.linalg.LinearOperatorBlockDiag([operator_1, operator_2])\n",
    "operator.to_dense()"
   ]
  },
  {
   "cell_type": "code",
   "execution_count": 12,
   "id": "0367824a",
   "metadata": {},
   "outputs": [
    {
     "data": {
      "text/plain": [
       "TensorShape([4, 4])"
      ]
     },
     "execution_count": 12,
     "metadata": {},
     "output_type": "execute_result"
    }
   ],
   "source": [
    "operator.shape"
   ]
  },
  {
   "cell_type": "code",
   "execution_count": 13,
   "id": "46a3b24c",
   "metadata": {},
   "outputs": [
    {
     "name": "stdout",
     "output_type": "stream",
     "text": [
      "WARNING:tensorflow:Using (possibly slow) default implementation of determinant.  Requires conversion to a dense matrix and O(N^3) operations.\n",
      "WARNING:tensorflow:Using (possibly slow) default implementation of determinant.  Requires conversion to a dense matrix and O(N^3) operations.\n"
     ]
    },
    {
     "data": {
      "text/plain": [
       "<tf.Tensor: shape=(), dtype=float32, numpy=0.6931472>"
      ]
     },
     "execution_count": 13,
     "metadata": {},
     "output_type": "execute_result"
    }
   ],
   "source": [
    "operator.log_abs_determinant()"
   ]
  },
  {
   "cell_type": "code",
   "execution_count": 16,
   "id": "f83b3f4d",
   "metadata": {},
   "outputs": [
    {
     "data": {
      "text/plain": [
       "<tf.Tensor: shape=(4, 2), dtype=float32, numpy=\n",
       "array([[-5., 14.],\n",
       "       [-9., 34.],\n",
       "       [25., 16.],\n",
       "       [29., 18.]], dtype=float32)>"
      ]
     },
     "execution_count": 16,
     "metadata": {},
     "output_type": "execute_result"
    }
   ],
   "source": [
    "operator_0 = tf.linalg.LinearOperatorFullMatrix([[1., 2.], [3., 4.]])\n",
    "operator_1 = tf.linalg.LinearOperatorFullMatrix([[1., 0.], [0., 1.]])\n",
    "operator_3 = tf.linalg.LinearOperatorFullMatrix([[5., 6.], [7., 8.]])\n",
    "operator = tf.linalg.LinearOperatorBlockLowerTriangular([[operator_0], [operator_1, operator_3]])\n",
    "x0 = [[1., 6.], [-3., 4.]]\n",
    "x1 = [[0., 2.], [4., 0.]]\n",
    "x = tf.concat([x0, x1], 0)\n",
    "operator.matmul(x)"
   ]
  },
  {
   "cell_type": "code",
   "execution_count": 18,
   "id": "5116eb98",
   "metadata": {},
   "outputs": [
    {
     "data": {
      "text/plain": [
       "<tf.Tensor: shape=(3,), dtype=complex64, numpy=\n",
       "array([4.       -3.973643e-08j, 1.0000002+5.773505e-01j,\n",
       "       1.       -5.773502e-01j], dtype=complex64)>"
      ]
     },
     "execution_count": 18,
     "metadata": {},
     "output_type": "execute_result"
    }
   ],
   "source": [
    "spectrum = [6, 4, 2.]\n",
    "operator = tf.linalg.LinearOperatorCirculant(spectrum)\n",
    "operator.convolution_kernel()"
   ]
  },
  {
   "cell_type": "code",
   "execution_count": 19,
   "id": "38c2511b",
   "metadata": {},
   "outputs": [
    {
     "data": {
      "text/plain": [
       "<tf.Tensor: shape=(3, 3), dtype=complex64, numpy=\n",
       "array([[4.       +0.j        , 1.0000001-0.57735044j,\n",
       "        1.       +0.5773503j ],\n",
       "       [1.0000001+0.5773506j , 4.       +0.j        ,\n",
       "        0.9999999-0.5773502j ],\n",
       "       [1.       -0.5773502j , 1.       +0.57735014j,\n",
       "        3.9999998+0.j        ]], dtype=complex64)>"
      ]
     },
     "execution_count": 19,
     "metadata": {},
     "output_type": "execute_result"
    }
   ],
   "source": [
    "operator.to_dense()"
   ]
  },
  {
   "cell_type": "code",
   "execution_count": 22,
   "id": "fdb0e51a",
   "metadata": {},
   "outputs": [
    {
     "data": {
      "text/plain": [
       "TensorShape([9, 9])"
      ]
     },
     "execution_count": 22,
     "metadata": {},
     "output_type": "execute_result"
    }
   ],
   "source": [
    "spectrum = [[1., 2., 3.], [4., 5., 6.], [7., 8., 9.]]\n",
    "operator = tf.linalg.LinearOperatorCirculant2D(spectrum)\n",
    "operator.to_dense().shape"
   ]
  },
  {
   "cell_type": "code",
   "execution_count": 23,
   "id": "9052af7a",
   "metadata": {},
   "outputs": [
    {
     "data": {
      "text/plain": [
       "<tf.Tensor: shape=(3, 3), dtype=complex64, numpy=\n",
       "array([[ 5.0000000e+00+1.9868216e-08j, -4.9999994e-01-2.8867516e-01j,\n",
       "        -4.9999997e-01+2.8867522e-01j],\n",
       "       [-1.4999999e+00-8.6602557e-01j, -2.4478650e-08+3.7074596e-08j,\n",
       "        -6.8825514e-08+3.9736431e-08j],\n",
       "       [-1.5000000e+00+8.6602563e-01j, -8.8693739e-08+5.3236731e-09j,\n",
       "         4.8957300e-08-7.4149192e-08j]], dtype=complex64)>"
      ]
     },
     "execution_count": 23,
     "metadata": {},
     "output_type": "execute_result"
    }
   ],
   "source": [
    "operator.convolution_kernel()"
   ]
  },
  {
   "cell_type": "code",
   "execution_count": 24,
   "id": "bd5580b7",
   "metadata": {},
   "outputs": [
    {
     "data": {
      "text/plain": [
       "<tf.Tensor: shape=(2, 2), dtype=float32, numpy=\n",
       "array([[1., 2.],\n",
       "       [3., 4.]], dtype=float32)>"
      ]
     },
     "execution_count": 24,
     "metadata": {},
     "output_type": "execute_result"
    }
   ],
   "source": [
    "operator_1 = tf.linalg.LinearOperatorFullMatrix([[1., 2.], [3., 4.]])\n",
    "operator_2 = tf.linalg.LinearOperatorFullMatrix([[1., 0.], [0., 1.]])\n",
    "operator = tf.linalg.LinearOperatorComposition([operator_1, operator_2])\n",
    "operator.to_dense()"
   ]
  },
  {
   "cell_type": "code",
   "execution_count": 25,
   "id": "ce746a68",
   "metadata": {},
   "outputs": [
    {
     "data": {
      "text/plain": [
       "<tf.Tensor: shape=(2, 4), dtype=float32, numpy=\n",
       "array([[-4.270886 ,  1.5920734,  1.3105111,  4.100666 ],\n",
       "       [-8.265471 ,  3.576847 ,  3.2805555, 10.486398 ]], dtype=float32)>"
      ]
     },
     "execution_count": 25,
     "metadata": {},
     "output_type": "execute_result"
    }
   ],
   "source": [
    "x = tf.random.normal([2, 4])\n",
    "operator.matmul(x)"
   ]
  },
  {
   "cell_type": "code",
   "execution_count": 26,
   "id": "d855c2dd",
   "metadata": {},
   "outputs": [
    {
     "data": {
      "text/plain": [
       "<tf.Tensor: shape=(), dtype=float32, numpy=0.0>"
      ]
     },
     "execution_count": 26,
     "metadata": {},
     "output_type": "execute_result"
    }
   ],
   "source": [
    "diag = [1., -1.]\n",
    "operator = tf.linalg.LinearOperatorDiag(diag)\n",
    "operator.log_abs_determinant()"
   ]
  },
  {
   "cell_type": "code",
   "execution_count": 28,
   "id": "1db62586",
   "metadata": {},
   "outputs": [
    {
     "data": {
      "text/plain": [
       "<tf.Tensor: shape=(2, 2), dtype=float32, numpy=\n",
       "array([[1., 2.],\n",
       "       [3., 4.]], dtype=float32)>"
      ]
     },
     "execution_count": 28,
     "metadata": {},
     "output_type": "execute_result"
    }
   ],
   "source": [
    "matrix = [[1., 2.], [3., 4.]]\n",
    "operator = tf.linalg.LinearOperatorFullMatrix(matrix)\n",
    "operator.to_dense()"
   ]
  },
  {
   "cell_type": "code",
   "execution_count": 30,
   "id": "3e4a6285",
   "metadata": {},
   "outputs": [
    {
     "data": {
      "text/plain": [
       "<tf.Tensor: shape=(2, 2), dtype=float64, numpy=\n",
       "array([[-2.22044605e-16, -1.00000000e+00],\n",
       "       [-1.00000000e+00, -2.22044605e-16]])>"
      ]
     },
     "execution_count": 30,
     "metadata": {},
     "output_type": "execute_result"
    }
   ],
   "source": [
    "vac = [1 / np.sqrt(2), 1. / np.sqrt(2)]\n",
    "operator = tf.linalg.LinearOperatorHouseholder(vac)\n",
    "operator.to_dense()"
   ]
  },
  {
   "cell_type": "code",
   "execution_count": 31,
   "id": "2532b7a7",
   "metadata": {},
   "outputs": [
    {
     "data": {
      "text/plain": [
       "<tf.Tensor: shape=(2, 2), dtype=float32, numpy=\n",
       "array([[1., 0.],\n",
       "       [0., 1.]], dtype=float32)>"
      ]
     },
     "execution_count": 31,
     "metadata": {},
     "output_type": "execute_result"
    }
   ],
   "source": [
    "operator = tf.linalg.LinearOperatorIdentity(num_rows=2, dtype=tf.float32)\n",
    "operator.to_dense()"
   ]
  },
  {
   "cell_type": "code",
   "execution_count": 2,
   "id": "1dbd2862",
   "metadata": {},
   "outputs": [
    {
     "name": "stdout",
     "output_type": "stream",
     "text": [
      "WARNING:tensorflow:From C:\\Users\\jatin\\anaconda3\\lib\\site-packages\\tensorflow\\python\\ops\\linalg\\linear_operator_inversion.py:166: LinearOperator.graph_parents (from tensorflow.python.ops.linalg.linear_operator) is deprecated and will be removed in a future version.\n",
      "Instructions for updating:\n",
      "Do not call `graph_parents`.\n"
     ]
    },
    {
     "data": {
      "text/plain": [
       "<tf.Tensor: shape=(2, 2), dtype=float32, numpy=\n",
       "array([[1. , 0. ],\n",
       "       [0. , 0.5]], dtype=float32)>"
      ]
     },
     "execution_count": 2,
     "metadata": {},
     "output_type": "execute_result"
    }
   ],
   "source": [
    "operator = tf.linalg.LinearOperatorFullMatrix([[1., 0.], [0., 2.]])\n",
    "operator_inv = tf.linalg.LinearOperatorInversion(operator)\n",
    "operator_inv.to_dense()"
   ]
  },
  {
   "cell_type": "code",
   "execution_count": 4,
   "id": "7fcec58c",
   "metadata": {},
   "outputs": [
    {
     "data": {
      "text/plain": [
       "TensorShape([4, 4])"
      ]
     },
     "execution_count": 4,
     "metadata": {},
     "output_type": "execute_result"
    }
   ],
   "source": [
    "operator_1 = tf.linalg.LinearOperatorFullMatrix([[1., 2.], [3., 4.]])\n",
    "operator_2 = tf.linalg.LinearOperatorFullMatrix([[1., 0.], [2., 1.]])\n",
    "operator = tf.linalg.LinearOperatorKronecker([operator_1, operator_2])\n",
    "operator.shape"
   ]
  },
  {
   "cell_type": "code",
   "execution_count": 6,
   "id": "c70f5948",
   "metadata": {},
   "outputs": [
    {
     "name": "stdout",
     "output_type": "stream",
     "text": [
      "tf.Tensor(\n",
      "[[1. 0.]\n",
      " [3. 4.]], shape=(2, 2), dtype=float32)\n"
     ]
    },
    {
     "data": {
      "text/plain": [
       "TensorShape([2, 2])"
      ]
     },
     "execution_count": 6,
     "metadata": {},
     "output_type": "execute_result"
    }
   ],
   "source": [
    "tril = [[1., 2.], [3., 4.]]\n",
    "operator = tf.linalg.LinearOperatorLowerTriangular(tril)\n",
    "print(operator.to_dense())\n",
    "operator.shape"
   ]
  },
  {
   "cell_type": "code",
   "execution_count": 7,
   "id": "8a6dc793",
   "metadata": {},
   "outputs": [
    {
     "data": {
      "text/plain": [
       "<tf.Tensor: shape=(3, 3), dtype=float32, numpy=\n",
       "array([[1., 0., 0.],\n",
       "       [0., 0., 1.],\n",
       "       [0., 1., 0.]], dtype=float32)>"
      ]
     },
     "execution_count": 7,
     "metadata": {},
     "output_type": "execute_result"
    }
   ],
   "source": [
    "vec = [0, 2, 1]\n",
    "operator = tf.linalg.LinearOperatorPermutation(vec)\n",
    "operator.to_dense()"
   ]
  },
  {
   "cell_type": "code",
   "execution_count": 9,
   "id": "4e5bd6e1",
   "metadata": {},
   "outputs": [
    {
     "data": {
      "text/plain": [
       "<tf.Tensor: shape=(3, 3), dtype=float32, numpy=\n",
       "array([[ 1.,  4., -9.],\n",
       "       [ 2.,  1.,  4.],\n",
       "       [ 3.,  2.,  1.]], dtype=float32)>"
      ]
     },
     "execution_count": 9,
     "metadata": {},
     "output_type": "execute_result"
    }
   ],
   "source": [
    "col = [1., 2., 3.]\n",
    "row = [1., 4., -9.]\n",
    "operator = tf.linalg.LinearOperatorToeplitz(col, row)\n",
    "operator.to_dense()"
   ]
  },
  {
   "cell_type": "code",
   "execution_count": 13,
   "id": "a9b11e12",
   "metadata": {},
   "outputs": [
    {
     "data": {
      "text/plain": [
       "<tf.Tensor: shape=(2, 2), dtype=float32, numpy=\n",
       "array([[0., 0.],\n",
       "       [0., 0.]], dtype=float32)>"
      ]
     },
     "execution_count": 13,
     "metadata": {},
     "output_type": "execute_result"
    }
   ],
   "source": [
    "operator = tf.linalg.LinearOperatorZeros(num_rows=2, dtype=tf.float32)\n",
    "operator.to_dense()"
   ]
  },
  {
   "cell_type": "code",
   "execution_count": 14,
   "id": "b1b4b3ae",
   "metadata": {},
   "outputs": [
    {
     "data": {
      "text/plain": [
       "<tf.Tensor: shape=(3, 2), dtype=complex128, numpy=\n",
       "array([[1.-1.j, 4.-4.j],\n",
       "       [2.-2.j, 5.-5.j],\n",
       "       [3.-3.j, 6.-6.j]])>"
      ]
     },
     "execution_count": 14,
     "metadata": {},
     "output_type": "execute_result"
    }
   ],
   "source": [
    "x = tf.constant([[1 + 1j, 2 + 2j, 3 + 3j], [4 + 4j, 5 + 5j, 6 + 6j]])\n",
    "tf.linalg.adjoint(x)"
   ]
  },
  {
   "cell_type": "code",
   "execution_count": 16,
   "id": "b551cb3d",
   "metadata": {},
   "outputs": [
    {
     "data": {
      "text/plain": [
       "<tf.Tensor: shape=(4, 4), dtype=int32, numpy=\n",
       "array([[ 0,  1,  2,  3],\n",
       "       [-1,  0,  1,  2],\n",
       "       [ 0, -1,  0,  1],\n",
       "       [ 0,  0, -1,  0]])>"
      ]
     },
     "execution_count": 16,
     "metadata": {},
     "output_type": "execute_result"
    }
   ],
   "source": [
    "input = [[0, 1, 2, 3], [-1, 0, 1, 2], [-2, -1, 0, 1], [-3, -2, -1, 0]]\n",
    "tf.linalg.band_part(input, 1, -1)"
   ]
  },
  {
   "cell_type": "code",
   "execution_count": 17,
   "id": "ba4eafe7",
   "metadata": {},
   "outputs": [
    {
     "data": {
      "text/plain": [
       "<tf.Tensor: shape=(4, 4), dtype=int32, numpy=\n",
       "array([[ 0,  1,  0,  0],\n",
       "       [-1,  0,  1,  0],\n",
       "       [-2, -1,  0,  1],\n",
       "       [ 0, -2, -1,  0]])>"
      ]
     },
     "execution_count": 17,
     "metadata": {},
     "output_type": "execute_result"
    }
   ],
   "source": [
    "tf.linalg.band_part(input, 2, 1)"
   ]
  },
  {
   "cell_type": "code",
   "execution_count": 18,
   "id": "82b4c4bb",
   "metadata": {},
   "outputs": [
    {
     "name": "stdout",
     "output_type": "stream",
     "text": [
      "tf.Tensor(\n",
      "[[-1.  2.  0.  0.]\n",
      " [ 0. -2.  3.  0.]\n",
      " [ 0.  0. -3.  4.]\n",
      " [ 0.  0.  0. -4.]], shape=(4, 4), dtype=float32)\n"
     ]
    },
    {
     "data": {
      "text/plain": [
       "<tf.Tensor: shape=(4, 1), dtype=float32, numpy=\n",
       "array([[-4.       ],\n",
       "       [-1.5      ],\n",
       "       [-0.6666667],\n",
       "       [-0.25     ]], dtype=float32)>"
      ]
     },
     "execution_count": 18,
     "metadata": {},
     "output_type": "execute_result"
    }
   ],
   "source": [
    "x = [[2., 3., 4., 5.], [-1., -2., -3., -4.]]\n",
    "y = tf.zeros([4, 4])\n",
    "z = tf.linalg.set_diag(y, x, align=\"LEFT_RIGHT\", k = (0, 1))\n",
    "print(z)\n",
    "soln = tf.linalg.banded_triangular_solve(x, tf.ones([4, 1]), lower=False)\n",
    "soln"
   ]
  },
  {
   "cell_type": "code",
   "execution_count": 3,
   "id": "7a4f8860",
   "metadata": {},
   "outputs": [
    {
     "data": {
      "text/plain": [
       "<tf.Tensor: shape=(2, 3), dtype=int32, numpy=\n",
       "array([[0, 2, 0],\n",
       "       [0, 7, 0]])>"
      ]
     },
     "execution_count": 3,
     "metadata": {},
     "output_type": "execute_result"
    }
   ],
   "source": [
    "diagonals = np.array([[[0, 8, 9], [1, 2, 3], [4, 5, 0]], [[0, 2, 3], [6, 7, 9], [9, 1, 0]]])\n",
    "tf.linalg.diag_part(diagonals)"
   ]
  },
  {
   "cell_type": "code",
   "execution_count": 7,
   "id": "563566c5",
   "metadata": {},
   "outputs": [],
   "source": [
    "x = [[[3., 4.], [1, 2]], [[7., 8], [3, 4]]]\n",
    "inv_x = tf.linalg.lu_matrix_inverse(*tf.linalg.lu(x))\n",
    "tf.debugging.assert_near(tf.linalg.inv(x), inv_x)"
   ]
  },
  {
   "cell_type": "code",
   "execution_count": 8,
   "id": "7e51462f",
   "metadata": {},
   "outputs": [
    {
     "data": {
      "text/plain": [
       "<tf.Tensor: shape=(2, 2), dtype=int32, numpy=\n",
       "array([[ 58,  64],\n",
       "       [139, 154]])>"
      ]
     },
     "execution_count": 8,
     "metadata": {},
     "output_type": "execute_result"
    }
   ],
   "source": [
    "a = tf.constant([1, 2, 3, 4, 5, 6], shape=[2, 3])\n",
    "b = tf.constant([7, 8, 9, 10, 11, 12], shape=[3, 2])\n",
    "c = tf.matmul(a, b)\n",
    "c"
   ]
  },
  {
   "cell_type": "code",
   "execution_count": 9,
   "id": "6bcefd37",
   "metadata": {},
   "outputs": [
    {
     "data": {
      "text/plain": [
       "<tf.Tensor: shape=(3, 2), dtype=int32, numpy=\n",
       "array([[1, 4],\n",
       "       [2, 5],\n",
       "       [3, 6]])>"
      ]
     },
     "execution_count": 9,
     "metadata": {},
     "output_type": "execute_result"
    }
   ],
   "source": [
    "x = tf.constant([[1, 2, 3], [4, 5, 6]])\n",
    "tf.linalg.matrix_transpose(x)"
   ]
  },
  {
   "cell_type": "code",
   "execution_count": 11,
   "id": "120fb8fe",
   "metadata": {},
   "outputs": [
    {
     "data": {
      "text/plain": [
       "<tf.Tensor: shape=(2, 2), dtype=int32, numpy=\n",
       "array([[ 86, 212],\n",
       "       [410, 563]])>"
      ]
     },
     "execution_count": 11,
     "metadata": {},
     "output_type": "execute_result"
    }
   ],
   "source": [
    "a = tf.constant(np.arange(1, 13, dtype=np.int32), shape=[2, 2, 3])\n",
    "b = tf.constant(np.arange(13, 19, dtype=np.int32), shape=[2, 3])\n",
    "c = tf.linalg.matvec(a, b)\n",
    "c"
   ]
  },
  {
   "cell_type": "code",
   "execution_count": 14,
   "id": "ced8f292",
   "metadata": {},
   "outputs": [
    {
     "data": {
      "text/plain": [
       "<tf.Tensor: shape=(2, 3, 4), dtype=int32, numpy=\n",
       "array([[[1, 7, 7, 7],\n",
       "        [7, 2, 7, 7],\n",
       "        [7, 7, 3, 7]],\n",
       "\n",
       "       [[4, 7, 7, 7],\n",
       "        [7, 5, 7, 7],\n",
       "        [7, 7, 6, 7]]])>"
      ]
     },
     "execution_count": 14,
     "metadata": {},
     "output_type": "execute_result"
    }
   ],
   "source": [
    "input = np.array([[[7, 7, 7, 7], [7, 7, 7, 7], [7, 7, 7, 7]], [[7, 7, 7, 7], [7, 7, 7, 7], [7, 7, 7, 7]]])\n",
    "diagnol = np.array([[1, 2, 3], [4, 5, 6]])\n",
    "tf.linalg.set_diag(input, diagnol)"
   ]
  },
  {
   "cell_type": "code",
   "execution_count": 15,
   "id": "27c49ce3",
   "metadata": {},
   "outputs": [
    {
     "data": {
      "text/plain": [
       "<tf.Tensor: shape=(), dtype=int32, numpy=5>"
      ]
     },
     "execution_count": 15,
     "metadata": {},
     "output_type": "execute_result"
    }
   ],
   "source": [
    "x = tf.constant([[1, 2], [3, 4]])\n",
    "tf.linalg.trace(x)"
   ]
  },
  {
   "cell_type": "code",
   "execution_count": 18,
   "id": "a865f874",
   "metadata": {},
   "outputs": [
    {
     "name": "stdout",
     "output_type": "stream",
     "text": [
      "1/1 [==============================] - 1s 591ms/step - loss: 1.2150\n",
      "INFO:tensorflow:Assets written to: C:\\Users\\jatin\\AppData\\Local\\Temp\\tmpy2i2rtgl\\assets\n"
     ]
    }
   ],
   "source": [
    "x = np.array([[1.], [2.]])\n",
    "y = np.array([[2.], [4.]])\n",
    "model = tf.keras.models.Sequential([\n",
    "    tf.keras.layers.Dropout(0.2), \n",
    "    tf.keras.layers.Dense(units=1, input_shape=[1])\n",
    "])\n",
    "model.compile(optimizer=\"sgd\", loss=\"mean_squared_error\")\n",
    "model.fit(x, y, epochs=1)\n",
    "converter = tf.lite.TFLiteConverter.from_keras_model(model)\n",
    "tflite_model = converter.convert()"
   ]
  },
  {
   "cell_type": "code",
   "execution_count": 19,
   "id": "4b33eb0c",
   "metadata": {},
   "outputs": [],
   "source": [
    "interpreter = tf.lite.Interpreter(model_content=tflite_model)\n",
    "interpreter.allocate_tensors()"
   ]
  },
  {
   "cell_type": "code",
   "execution_count": 20,
   "id": "d20af580",
   "metadata": {},
   "outputs": [
    {
     "data": {
      "text/plain": [
       "(1, 1)"
      ]
     },
     "execution_count": 20,
     "metadata": {},
     "output_type": "execute_result"
    }
   ],
   "source": [
    "output = interpreter.get_output_details()[0]\n",
    "input = interpreter.get_input_details()[0]\n",
    "input_data = tf.constant(1., shape=[1, 1])\n",
    "interpreter.set_tensor(input['index'], input_data)\n",
    "interpreter.invoke()\n",
    "interpreter.get_tensor(output[\"index\"]).shape"
   ]
  },
  {
   "cell_type": "code",
   "execution_count": 23,
   "id": "45bd50c1",
   "metadata": {},
   "outputs": [
    {
     "data": {
      "text/plain": [
       "array([ 7, -1])"
      ]
     },
     "execution_count": 23,
     "metadata": {},
     "output_type": "execute_result"
    }
   ],
   "source": [
    "keys_tensor = tf.constant(['a', 'b', 'c'])\n",
    "vals_tensor = tf.constant([7, 8, 9])\n",
    "input_tensor = tf.constant(['a', 'f'])\n",
    "init = tf.lookup.KeyValueTensorInitializer(keys_tensor, vals_tensor)\n",
    "table = tf.lookup.StaticHashTable(init, default_value=-1)\n",
    "table.lookup(input_tensor).numpy()"
   ]
  },
  {
   "cell_type": "code",
   "execution_count": 26,
   "id": "af23044d",
   "metadata": {},
   "outputs": [
    {
     "data": {
      "text/plain": [
       "array([0, 5], dtype=int64)"
      ]
     },
     "execution_count": 26,
     "metadata": {},
     "output_type": "execute_result"
    }
   ],
   "source": [
    "init = tf.lookup.KeyValueTensorInitializer(keys=tf.constant(['emerson', 'lake', 'palmer']), \n",
    "                                                            values=tf.constant([0, 1, 2], dtype=tf.int64))\n",
    "table = tf.lookup.StaticVocabularyTable(init, num_oov_buckets=5)\n",
    "table.lookup(tf.constant([\"emerson\", \"singh\"])).numpy()"
   ]
  },
  {
   "cell_type": "code",
   "execution_count": 29,
   "id": "b8f34a65",
   "metadata": {},
   "outputs": [
    {
     "data": {
      "text/plain": [
       "array([ 0,  1, -1, -1], dtype=int64)"
      ]
     },
     "execution_count": 29,
     "metadata": {},
     "output_type": "execute_result"
    }
   ],
   "source": [
    "table = tf.lookup.experimental.DenseHashTable(key_dtype=tf.string, value_dtype=tf.int64, default_value=-1, empty_key='', \n",
    "                                             deleted_key=\"$\")\n",
    "keys = tf.constant(['a', 'b', 'c'])\n",
    "values = tf.constant([0, 1, 2], dtype=tf.int64)\n",
    "table.insert(keys, values)\n",
    "table.remove(tf.constant(['c']))\n",
    "table.lookup(tf.constant(['a', 'b', 'c', 'd'])).numpy()"
   ]
  },
  {
   "cell_type": "code",
   "execution_count": 31,
   "id": "01f47bd5",
   "metadata": {},
   "outputs": [
    {
     "name": "stdout",
     "output_type": "stream",
     "text": [
      "[ 7 -1]\n",
      "[ 7  8 -1]\n",
      "[b'a', b'b']\n",
      "[7, 8]\n"
     ]
    }
   ],
   "source": [
    "table = tf.lookup.experimental.MutableHashTable(key_dtype=tf.string, value_dtype=tf.int64, default_value=-1)\n",
    "keys_tensor = tf.constant(['a', 'b', 'c'])\n",
    "vals_tensor = tf.constant([7, 8, 9], dtype=tf.int64)\n",
    "input_tensor = tf.constant(['a', 'f'])\n",
    "table.insert(keys_tensor, vals_tensor)\n",
    "print(table.lookup(input_tensor).numpy())\n",
    "table.remove(tf.constant(['c']))\n",
    "print(table.lookup(keys_tensor).numpy())\n",
    "print(sorted(table.export()[0].numpy()))\n",
    "print(sorted(table.export()[1].numpy()))"
   ]
  },
  {
   "cell_type": "code",
   "execution_count": 32,
   "id": "c2fc712d",
   "metadata": {},
   "outputs": [
    {
     "data": {
      "text/plain": [
       "<tf.Tensor: shape=(2, 1), dtype=float64, numpy=\n",
       "array([[5.25594901],\n",
       "       [6.60492241]])>"
      ]
     },
     "execution_count": 32,
     "metadata": {},
     "output_type": "execute_result"
    }
   ],
   "source": [
    "x = tf.constant([[-2.25 + 4.75j], [-3.25 + 5.75j]])\n",
    "tf.abs(x)"
   ]
  },
  {
   "cell_type": "code",
   "execution_count": 33,
   "id": "fb2cb42f",
   "metadata": {},
   "outputs": [
    {
     "data": {
      "text/plain": [
       "<tf.Tensor: shape=(2, 2), dtype=int32, numpy=\n",
       "array([[ 7,  4],\n",
       "       [ 6, 14]])>"
      ]
     },
     "execution_count": 33,
     "metadata": {},
     "output_type": "execute_result"
    }
   ],
   "source": [
    "a = tf.constant([[1, 2], [3, 4]])\n",
    "b = tf.constant([[5, 0], [0, 6]])\n",
    "tf.math.accumulate_n([a, b, a])"
   ]
  },
  {
   "cell_type": "code",
   "execution_count": 34,
   "id": "b927330f",
   "metadata": {},
   "outputs": [
    {
     "data": {
      "text/plain": [
       "array([0.       , 2.0943952,       nan, 1.3694384, 1.5707964,       nan],\n",
       "      dtype=float32)"
      ]
     },
     "execution_count": 34,
     "metadata": {},
     "output_type": "execute_result"
    }
   ],
   "source": [
    "x = tf.constant([1.0, -0.5, 3.4, 0.2, 0.0, -2], dtype=tf.float32)\n",
    "tf.math.acos(x).numpy()"
   ]
  },
  {
   "cell_type": "code",
   "execution_count": 35,
   "id": "0b292efa",
   "metadata": {},
   "outputs": [
    {
     "data": {
      "text/plain": [
       "array([      nan,       nan, 0.       , 0.6223626, 5.9914584, 9.903487 ,\n",
       "             inf], dtype=float32)"
      ]
     },
     "execution_count": 35,
     "metadata": {},
     "output_type": "execute_result"
    }
   ],
   "source": [
    "x = tf.constant([-2, -0.5, 1, 1.2, 200, 10000, float(\"inf\")])\n",
    "tf.math.acosh(x).numpy()"
   ]
  },
  {
   "cell_type": "code",
   "execution_count": 36,
   "id": "1ee6dbc5",
   "metadata": {},
   "outputs": [
    {
     "data": {
      "text/plain": [
       "array([2, 3, 4, 5, 6])"
      ]
     },
     "execution_count": 36,
     "metadata": {},
     "output_type": "execute_result"
    }
   ],
   "source": [
    "x = [1, 2, 3, 4, 5]\n",
    "y = 1\n",
    "tf.add(x, y).numpy()"
   ]
  },
  {
   "cell_type": "code",
   "execution_count": 37,
   "id": "237ebd29",
   "metadata": {},
   "outputs": [
    {
     "data": {
      "text/plain": [
       "<tf.Tensor: shape=(2, 2), dtype=int32, numpy=\n",
       "array([[ 7, 16],\n",
       "       [10, 25]])>"
      ]
     },
     "execution_count": 37,
     "metadata": {},
     "output_type": "execute_result"
    }
   ],
   "source": [
    "a = tf.constant([[3, 5], [4, 8]])\n",
    "b = tf.constant([[1, 6], [2, 9]])\n",
    "tf.math.add_n([a, b, a])"
   ]
  },
  {
   "cell_type": "code",
   "execution_count": 38,
   "id": "17d841bc",
   "metadata": {},
   "outputs": [
    {
     "data": {
      "text/plain": [
       "array([2.0131705, 1.056345 ], dtype=float32)"
      ]
     },
     "execution_count": 38,
     "metadata": {},
     "output_type": "execute_result"
    }
   ],
   "source": [
    "input = tf.constant([-2.25 + 4.75j, 3.25 + 5.75j], dtype=tf.complex64)\n",
    "tf.math.angle(input).numpy()"
   ]
  },
  {
   "cell_type": "code",
   "execution_count": 39,
   "id": "5f9e49e6",
   "metadata": {},
   "outputs": [
    {
     "data": {
      "text/plain": [
       "<tf.Tensor: shape=(), dtype=int64, numpy=2>"
      ]
     },
     "execution_count": 39,
     "metadata": {},
     "output_type": "execute_result"
    }
   ],
   "source": [
    "A = tf.constant([2, 20, 30, 3, 6])\n",
    "tf.math.argmax(A)"
   ]
  },
  {
   "cell_type": "code",
   "execution_count": 40,
   "id": "7fd780fb",
   "metadata": {},
   "outputs": [
    {
     "data": {
      "text/plain": [
       "<tf.Tensor: shape=(), dtype=int64, numpy=0>"
      ]
     },
     "execution_count": 40,
     "metadata": {},
     "output_type": "execute_result"
    }
   ],
   "source": [
    "tf.math.argmin(A)"
   ]
  },
  {
   "cell_type": "code",
   "execution_count": 41,
   "id": "38a00e12",
   "metadata": {},
   "outputs": [
    {
     "data": {
      "text/plain": [
       "<tf.Tensor: shape=(2,), dtype=float32, numpy=array([1.047, 0.785], dtype=float32)>"
      ]
     },
     "execution_count": 41,
     "metadata": {},
     "output_type": "execute_result"
    }
   ],
   "source": [
    "x = tf.constant([1.047, 0.785])\n",
    "y = tf.math.sin(x)\n",
    "tf.math.asin(y)"
   ]
  },
  {
   "cell_type": "code",
   "execution_count": 42,
   "id": "3ed61268",
   "metadata": {},
   "outputs": [
    {
     "data": {
      "text/plain": [
       "array([       -inf, -1.4436355 , -0.48121184,  0.8813736 ,  1.0159732 ,\n",
       "        5.991471  ,  9.903487  ,         inf], dtype=float32)"
      ]
     },
     "execution_count": 42,
     "metadata": {},
     "output_type": "execute_result"
    }
   ],
   "source": [
    "x = tf.constant([-float(\"inf\"), -2, -0.5, 1, 1.2, 200, 10000, float(\"inf\")])\n",
    "tf.math.asinh(x).numpy()"
   ]
  },
  {
   "cell_type": "code",
   "execution_count": 44,
   "id": "82b19844",
   "metadata": {},
   "outputs": [
    {
     "data": {
      "text/plain": [
       "array([1.047, 0.785], dtype=float32)"
      ]
     },
     "execution_count": 44,
     "metadata": {},
     "output_type": "execute_result"
    }
   ],
   "source": [
    "x = tf.constant([1.047, 0.785])\n",
    "y = tf.math.tan(x)\n",
    "tf.math.atan(y).numpy()"
   ]
  },
  {
   "cell_type": "code",
   "execution_count": 45,
   "id": "b67961e2",
   "metadata": {},
   "outputs": [
    {
     "name": "stdout",
     "output_type": "stream",
     "text": [
      "[ 45. -45.]\n"
     ]
    }
   ],
   "source": [
    "x = [1., 1.]\n",
    "y = [1., -1.]\n",
    "print((tf.math.atan2(y, x) * (180 / np.pi)).numpy())"
   ]
  },
  {
   "cell_type": "code",
   "execution_count": 46,
   "id": "6d118012",
   "metadata": {},
   "outputs": [
    {
     "data": {
      "text/plain": [
       "<tf.Tensor: shape=(8,), dtype=float32, numpy=\n",
       "array([        nan,        -inf, -0.54930615,         inf,  0.        ,\n",
       "        0.54930615,         nan,         nan], dtype=float32)>"
      ]
     },
     "execution_count": 46,
     "metadata": {},
     "output_type": "execute_result"
    }
   ],
   "source": [
    "x = tf.constant([float(\"inf\"), -1, -0.5, 1, 0, 0.5, 10, float(\"inf\")])\n",
    "tf.math.atanh(x)"
   ]
  },
  {
   "cell_type": "code",
   "execution_count": 47,
   "id": "b5573ec4",
   "metadata": {},
   "outputs": [
    {
     "data": {
      "text/plain": [
       "array([1.266066 , 1.0634835, 1.0634835, 1.266066 ], dtype=float32)"
      ]
     },
     "execution_count": 47,
     "metadata": {},
     "output_type": "execute_result"
    }
   ],
   "source": [
    "tf.math.special.bessel_i0([-1., -0.5, 0.5, 1.]).numpy()"
   ]
  },
  {
   "cell_type": "code",
   "execution_count": 48,
   "id": "d38e0828",
   "metadata": {},
   "outputs": [
    {
     "data": {
      "text/plain": [
       "array([0.46575963, 0.6450354 , 0.6450354 , 0.46575963], dtype=float32)"
      ]
     },
     "execution_count": 48,
     "metadata": {},
     "output_type": "execute_result"
    }
   ],
   "source": [
    "tf.math.special.bessel_i0e([-1., -0.5, 0.5, 1.]).numpy()"
   ]
  },
  {
   "cell_type": "code",
   "execution_count": 49,
   "id": "f47c3db7",
   "metadata": {},
   "outputs": [
    {
     "data": {
      "text/plain": [
       "array([-0.5651591 , -0.25789434,  0.25789434,  0.5651591 ], dtype=float32)"
      ]
     },
     "execution_count": 49,
     "metadata": {},
     "output_type": "execute_result"
    }
   ],
   "source": [
    "tf.math.special.bessel_i1([-1., -0.5, 0.5, 1.]).numpy()"
   ]
  },
  {
   "cell_type": "code",
   "execution_count": 50,
   "id": "26ad5ae9",
   "metadata": {},
   "outputs": [
    {
     "data": {
      "text/plain": [
       "array([-0.20791042, -0.15642083,  0.15642083,  0.20791042], dtype=float32)"
      ]
     },
     "execution_count": 50,
     "metadata": {},
     "output_type": "execute_result"
    }
   ],
   "source": [
    "tf.math.special.bessel_i1e([-1., -0.5, 0.5, 1.]).numpy()"
   ]
  },
  {
   "cell_type": "code",
   "execution_count": 52,
   "id": "66cbe668",
   "metadata": {},
   "outputs": [
    {
     "data": {
      "text/plain": [
       "array([0, 2, 2, 1, 2, 1])"
      ]
     },
     "execution_count": 52,
     "metadata": {},
     "output_type": "execute_result"
    }
   ],
   "source": [
    "values = tf.constant([1, 1, 2, 3, 2, 4, 4, 5])\n",
    "tf.math.bincount(values).numpy()"
   ]
  },
  {
   "cell_type": "code",
   "execution_count": 53,
   "id": "0955110e",
   "metadata": {},
   "outputs": [
    {
     "data": {
      "text/plain": [
       "<tf.Tensor: shape=(6,), dtype=int32, numpy=array([0, 6, 0, 1, 9, 5])>"
      ]
     },
     "execution_count": 53,
     "metadata": {},
     "output_type": "execute_result"
    }
   ],
   "source": [
    "weights = tf.constant([1, 5, 0, 1, 0, 5, 4, 5])\n",
    "tf.math.bincount(values, weights=weights)"
   ]
  },
  {
   "cell_type": "code",
   "execution_count": 54,
   "id": "e4222bbd",
   "metadata": {},
   "outputs": [
    {
     "data": {
      "text/plain": [
       "<tf.Tensor: shape=(6,), dtype=float32, numpy=array([-3.,  0.,  1.,  2.,  2.,  2.], dtype=float32)>"
      ]
     },
     "execution_count": 54,
     "metadata": {},
     "output_type": "execute_result"
    }
   ],
   "source": [
    "tf.math.ceil([-1.7 -1.5, -0.2, 0.2, 1.5, 1.7, 2.0])"
   ]
  },
  {
   "cell_type": "code",
   "execution_count": 55,
   "id": "825e9625",
   "metadata": {},
   "outputs": [
    {
     "data": {
      "text/plain": [
       "<tf.Tensor: shape=(5, 5), dtype=int32, numpy=\n",
       "array([[0, 0, 0, 0, 0],\n",
       "       [0, 0, 1, 0, 0],\n",
       "       [0, 0, 1, 0, 0],\n",
       "       [0, 0, 0, 0, 0],\n",
       "       [0, 0, 0, 0, 1]])>"
      ]
     },
     "execution_count": 55,
     "metadata": {},
     "output_type": "execute_result"
    }
   ],
   "source": [
    "tf.math.confusion_matrix([1, 2, 4], [2, 2, 4])"
   ]
  },
  {
   "cell_type": "code",
   "execution_count": 56,
   "id": "062ab5a6",
   "metadata": {},
   "outputs": [
    {
     "data": {
      "text/plain": [
       "<tf.Tensor: shape=(2,), dtype=complex128, numpy=array([-2.25-4.75j,  3.25-5.75j])>"
      ]
     },
     "execution_count": 56,
     "metadata": {},
     "output_type": "execute_result"
    }
   ],
   "source": [
    "x = tf.constant([-2.25 + 4.75j, 3.25 + 5.75j])\n",
    "tf.math.conj(x)"
   ]
  },
  {
   "cell_type": "code",
   "execution_count": 57,
   "id": "6e7fa14d",
   "metadata": {},
   "outputs": [
    {
     "data": {
      "text/plain": [
       "<tf.Tensor: shape=(8,), dtype=float32, numpy=\n",
       "array([        nan, -0.91113025,  0.87758255,  0.5403023 ,  0.36235774,\n",
       "        0.48718765, -0.95215535,         nan], dtype=float32)>"
      ]
     },
     "execution_count": 57,
     "metadata": {},
     "output_type": "execute_result"
    }
   ],
   "source": [
    "x = tf.constant([-float(\"inf\"), -9, -0.5, 1, 1.2, 200, 10000, float(\"inf\")])\n",
    "tf.math.cos(x)"
   ]
  },
  {
   "cell_type": "code",
   "execution_count": 58,
   "id": "33a4a109",
   "metadata": {},
   "outputs": [
    {
     "data": {
      "text/plain": [
       "array([          inf, 4.0515420e+03, 1.1276259e+00, 1.5430807e+00,\n",
       "       1.8106556e+00, 3.7621956e+00, 1.1013233e+04,           inf],\n",
       "      dtype=float32)"
      ]
     },
     "execution_count": 58,
     "metadata": {},
     "output_type": "execute_result"
    }
   ],
   "source": [
    "x = tf.constant([-float(\"inf\"), -9, -0.5, 1, 1.2, 2, 10, float(\"inf\")])\n",
    "tf.math.cosh(x).numpy()"
   ]
  },
  {
   "cell_type": "code",
   "execution_count": 59,
   "id": "9be4ec0f",
   "metadata": {},
   "outputs": [
    {
     "name": "stdout",
     "output_type": "stream",
     "text": [
      "tf.Tensor(3, shape=(), dtype=int64)\n",
      "tf.Tensor([1 2 0], shape=(3,), dtype=int64)\n"
     ]
    },
    {
     "data": {
      "text/plain": [
       "<tf.Tensor: shape=(2,), dtype=int64, numpy=array([1, 2], dtype=int64)>"
      ]
     },
     "execution_count": 59,
     "metadata": {},
     "output_type": "execute_result"
    }
   ],
   "source": [
    "x = tf.constant([[0, 1, 0], [1, 1, 0]])\n",
    "print(tf.math.count_nonzero(x))\n",
    "print(tf.math.count_nonzero(x, 0))\n",
    "tf.math.count_nonzero(x, 1)"
   ]
  },
  {
   "cell_type": "code",
   "execution_count": 61,
   "id": "c60ba86c",
   "metadata": {},
   "outputs": [
    {
     "data": {
      "text/plain": [
       "array([ 2,  6, 12, 20])"
      ]
     },
     "execution_count": 61,
     "metadata": {},
     "output_type": "execute_result"
    }
   ],
   "source": [
    "x = tf.constant([2, 4, 6, 8])\n",
    "tf.cumsum(x).numpy()"
   ]
  },
  {
   "cell_type": "code",
   "execution_count": 63,
   "id": "6832aafe",
   "metadata": {},
   "outputs": [
    {
     "data": {
      "text/plain": [
       "array([4. , 2. , 5.5])"
      ]
     },
     "execution_count": 63,
     "metadata": {},
     "output_type": "execute_result"
    }
   ],
   "source": [
    "x = tf.constant([16, 12, 11])\n",
    "y = tf.constant([4, 6, 2])\n",
    "tf.divide(x, y).numpy()"
   ]
  },
  {
   "cell_type": "code",
   "execution_count": 64,
   "id": "ca83a98b",
   "metadata": {},
   "outputs": [
    {
     "name": "stdout",
     "output_type": "stream",
     "text": [
      "tf.Tensor(inf, shape=(), dtype=float32)\n",
      "tf.Tensor(0.0, shape=(), dtype=float32)\n"
     ]
    }
   ],
   "source": [
    "print(tf.constant(3.0) / 0)\n",
    "print(tf.math.divide_no_nan(3.0, 0.0))"
   ]
  },
  {
   "cell_type": "code",
   "execution_count": 65,
   "id": "5c97278f",
   "metadata": {},
   "outputs": [
    {
     "data": {
      "text/plain": [
       "<tf.Tensor: shape=(2,), dtype=bool, numpy=array([ True, False])>"
      ]
     },
     "execution_count": 65,
     "metadata": {},
     "output_type": "execute_result"
    }
   ],
   "source": [
    "x = tf.constant([2, 4])\n",
    "y = tf.constant(2)\n",
    "tf.math.equal(x, y)"
   ]
  },
  {
   "cell_type": "code",
   "execution_count": 68,
   "id": "c72c4805",
   "metadata": {},
   "outputs": [
    {
     "name": "stdout",
     "output_type": "stream",
     "text": [
      "[[ 0.8427007  0.9953223  0.999978 ]\n",
      " [ 0.        -0.8427007 -0.9953223]]\n"
     ]
    }
   ],
   "source": [
    "print(tf.math.erf([[1.0, 2.0, 3.0], [0.0, -1.0, -2.0]]).numpy())"
   ]
  },
  {
   "cell_type": "code",
   "execution_count": 69,
   "id": "9a416ef5",
   "metadata": {},
   "outputs": [
    {
     "data": {
      "text/plain": [
       "array([       inf,  0.9061935, -0.       , -0.4769363,       -inf],\n",
       "      dtype=float32)"
      ]
     },
     "execution_count": 69,
     "metadata": {},
     "output_type": "execute_result"
    }
   ],
   "source": [
    "tf.math.erfcinv([0., 0.2, 1., 1.5, 2.]).numpy()"
   ]
  },
  {
   "cell_type": "code",
   "execution_count": 70,
   "id": "1b6f1848",
   "metadata": {},
   "outputs": [
    {
     "data": {
      "text/plain": [
       "7.389056"
      ]
     },
     "execution_count": 70,
     "metadata": {},
     "output_type": "execute_result"
    }
   ],
   "source": [
    "tf.math.exp(2.0).numpy()"
   ]
  },
  {
   "cell_type": "code",
   "execution_count": 72,
   "id": "191309ca",
   "metadata": {},
   "outputs": [
    {
     "data": {
      "text/plain": [
       "6.389056"
      ]
     },
     "execution_count": 72,
     "metadata": {},
     "output_type": "execute_result"
    }
   ],
   "source": [
    "x = tf.constant(2.0)\n",
    "tf.math.expm1(x).numpy()"
   ]
  },
  {
   "cell_type": "code",
   "execution_count": 73,
   "id": "f6175914",
   "metadata": {},
   "outputs": [
    {
     "data": {
      "text/plain": [
       "array([ 1., -2.,  5., -3.,  0., inf], dtype=float32)"
      ]
     },
     "execution_count": 73,
     "metadata": {},
     "output_type": "execute_result"
    }
   ],
   "source": [
    "x = tf.constant([1.3324, -1.5, 5.555, -2.532, 0.99, float(\"inf\")])\n",
    "tf.floor(x).numpy()"
   ]
  },
  {
   "cell_type": "code",
   "execution_count": 74,
   "id": "88624b23",
   "metadata": {},
   "outputs": [
    {
     "data": {
      "text/plain": [
       "<tf.Tensor: shape=(3,), dtype=bool, numpy=array([False,  True,  True])>"
      ]
     },
     "execution_count": 74,
     "metadata": {},
     "output_type": "execute_result"
    }
   ],
   "source": [
    "x = tf.constant([5, 4, 6])\n",
    "y = tf.constant([5, 2, 5])\n",
    "tf.math.greater(x, y)"
   ]
  },
  {
   "cell_type": "code",
   "execution_count": 75,
   "id": "3e0f76b4",
   "metadata": {},
   "outputs": [
    {
     "data": {
      "text/plain": [
       "array([ True,  True,  True])"
      ]
     },
     "execution_count": 75,
     "metadata": {},
     "output_type": "execute_result"
    }
   ],
   "source": [
    "tf.math.greater_equal(x, y).numpy()"
   ]
  },
  {
   "cell_type": "code",
   "execution_count": 77,
   "id": "eaf32773",
   "metadata": {},
   "outputs": [
    {
     "data": {
      "text/plain": [
       "<tf.Tensor: shape=(2,), dtype=float64, numpy=array([4.75, 5.75])>"
      ]
     },
     "execution_count": 77,
     "metadata": {},
     "output_type": "execute_result"
    }
   ],
   "source": [
    "x = tf.constant([-2.25 + 4.75j, 3.25 + 5.75j])\n",
    "tf.math.imag(x)"
   ]
  },
  {
   "cell_type": "code",
   "execution_count": 79,
   "id": "d1ee02a0",
   "metadata": {},
   "outputs": [
    {
     "data": {
      "text/plain": [
       "array([ True,  True,  True, False, False])"
      ]
     },
     "execution_count": 79,
     "metadata": {},
     "output_type": "execute_result"
    }
   ],
   "source": [
    "x = tf.constant([5.0, 4.8, 6.8, np.inf, np.nan])\n",
    "tf.math.is_finite(x).numpy()"
   ]
  },
  {
   "cell_type": "code",
   "execution_count": 80,
   "id": "b05cc5fd",
   "metadata": {},
   "outputs": [
    {
     "data": {
      "text/plain": [
       "array([False, False, False,  True, False])"
      ]
     },
     "execution_count": 80,
     "metadata": {},
     "output_type": "execute_result"
    }
   ],
   "source": [
    "tf.math.is_inf(x).numpy()"
   ]
  },
  {
   "cell_type": "code",
   "execution_count": 82,
   "id": "c15227ce",
   "metadata": {},
   "outputs": [
    {
     "data": {
      "text/plain": [
       "array([False, False, False, False,  True])"
      ]
     },
     "execution_count": 82,
     "metadata": {},
     "output_type": "execute_result"
    }
   ],
   "source": [
    "tf.math.is_nan(x).numpy()"
   ]
  },
  {
   "cell_type": "code",
   "execution_count": 83,
   "id": "8a6cf991",
   "metadata": {},
   "outputs": [
    {
     "data": {
      "text/plain": [
       "<tf.Tensor: shape=(), dtype=bool, numpy=True>"
      ]
     },
     "execution_count": 83,
     "metadata": {},
     "output_type": "execute_result"
    }
   ],
   "source": [
    "x1 = tf.constant([1.0, 1.0, 3.0])\n",
    "tf.math.is_non_decreasing(x1)"
   ]
  },
  {
   "cell_type": "code",
   "execution_count": 84,
   "id": "29f54120",
   "metadata": {},
   "outputs": [
    {
     "data": {
      "text/plain": [
       "<tf.Tensor: shape=(), dtype=bool, numpy=True>"
      ]
     },
     "execution_count": 84,
     "metadata": {},
     "output_type": "execute_result"
    }
   ],
   "source": [
    "x1 = tf.constant([1.0, 2.0, 3.0])\n",
    "tf.math.is_strictly_increasing(x1)"
   ]
  },
  {
   "cell_type": "code",
   "execution_count": 2,
   "id": "20b211aa",
   "metadata": {},
   "outputs": [
    {
     "data": {
      "text/plain": [
       "array([0.6, 0.8], dtype=float32)"
      ]
     },
     "execution_count": 2,
     "metadata": {},
     "output_type": "execute_result"
    }
   ],
   "source": [
    "x = tf.constant([3.0, 4.0])\n",
    "tf.math.l2_normalize(x).numpy()"
   ]
  },
  {
   "cell_type": "code",
   "execution_count": 3,
   "id": "23c14ec4",
   "metadata": {},
   "outputs": [
    {
     "data": {
      "text/plain": [
       "<tf.Tensor: shape=(3,), dtype=bool, numpy=array([False,  True,  True])>"
      ]
     },
     "execution_count": 3,
     "metadata": {},
     "output_type": "execute_result"
    }
   ],
   "source": [
    "x = tf.constant([5, 4, 6])\n",
    "y = tf.constant([5, 6, 7])\n",
    "tf.math.less(x, y)"
   ]
  },
  {
   "cell_type": "code",
   "execution_count": 4,
   "id": "c418b9f4",
   "metadata": {},
   "outputs": [
    {
     "data": {
      "text/plain": [
       "<tf.Tensor: shape=(3,), dtype=bool, numpy=array([ True,  True,  True])>"
      ]
     },
     "execution_count": 4,
     "metadata": {},
     "output_type": "execute_result"
    }
   ],
   "source": [
    "x = tf.constant([5, 4, 6])\n",
    "y = tf.constant([5, 6, 6])\n",
    "tf.math.less_equal(x, y)"
   ]
  },
  {
   "cell_type": "code",
   "execution_count": 6,
   "id": "a1ea1197",
   "metadata": {},
   "outputs": [
    {
     "name": "stdout",
     "output_type": "stream",
     "text": [
      "[       inf  0.5723649  0.         2.4537363        inf -4.6477685]\n"
     ]
    }
   ],
   "source": [
    "x = tf.constant([0, 0.5, 1, 4.5, -4, -5.6])\n",
    "print(tf.math.lgamma(x).numpy())"
   ]
  },
  {
   "cell_type": "code",
   "execution_count": 7,
   "id": "55f1a0d2",
   "metadata": {},
   "outputs": [
    {
     "data": {
      "text/plain": [
       "array([      -inf, -0.6931472,  0.       ,  1.609438 ], dtype=float32)"
      ]
     },
     "execution_count": 7,
     "metadata": {},
     "output_type": "execute_result"
    }
   ],
   "source": [
    "x = tf.constant([0, 0.5, 1, 5])\n",
    "tf.math.log(x).numpy()"
   ]
  },
  {
   "cell_type": "code",
   "execution_count": 8,
   "id": "040f34d2",
   "metadata": {},
   "outputs": [
    {
     "data": {
      "text/plain": [
       "array([0.        , 0.40546513, 0.6931472 , 1.7917595 ], dtype=float32)"
      ]
     },
     "execution_count": 8,
     "metadata": {},
     "output_type": "execute_result"
    }
   ],
   "source": [
    "x = tf.constant([0, 0.5, 1, 5])\n",
    "tf.math.log1p(x).numpy()"
   ]
  },
  {
   "cell_type": "code",
   "execution_count": 9,
   "id": "86abca04",
   "metadata": {},
   "outputs": [
    {
     "data": {
      "text/plain": [
       "array([-1.0000000e+02, -5.0000000e+01, -1.3132616e+00, -6.9314718e-01,\n",
       "       -3.1326169e-01, -1.9287499e-22, -0.0000000e+00], dtype=float32)"
      ]
     },
     "execution_count": 9,
     "metadata": {},
     "output_type": "execute_result"
    }
   ],
   "source": [
    "x = tf.constant([-100.0, -50.0, -1.0, 0.0, 1.0, 50.0, 100.0])\n",
    "tf.math.log_sigmoid(x).numpy()"
   ]
  },
  {
   "cell_type": "code",
   "execution_count": 10,
   "id": "c09ed304",
   "metadata": {},
   "outputs": [
    {
     "data": {
      "text/plain": [
       "<tf.Tensor: shape=(1,), dtype=bool, numpy=array([False])>"
      ]
     },
     "execution_count": 10,
     "metadata": {},
     "output_type": "execute_result"
    }
   ],
   "source": [
    "a = tf.constant([True])\n",
    "b = tf.constant([False])\n",
    "tf.math.logical_and(a, b)"
   ]
  },
  {
   "cell_type": "code",
   "execution_count": 11,
   "id": "fcc05d96",
   "metadata": {},
   "outputs": [
    {
     "data": {
      "text/plain": [
       "array([False,  True])"
      ]
     },
     "execution_count": 11,
     "metadata": {},
     "output_type": "execute_result"
    }
   ],
   "source": [
    "tf.math.logical_not([True, False]).numpy()"
   ]
  },
  {
   "cell_type": "code",
   "execution_count": 12,
   "id": "70030c1c",
   "metadata": {},
   "outputs": [
    {
     "data": {
      "text/plain": [
       "<tf.Tensor: shape=(1,), dtype=bool, numpy=array([ True])>"
      ]
     },
     "execution_count": 12,
     "metadata": {},
     "output_type": "execute_result"
    }
   ],
   "source": [
    "tf.math.logical_or(a, b)"
   ]
  },
  {
   "cell_type": "code",
   "execution_count": 13,
   "id": "6790a3f1",
   "metadata": {},
   "outputs": [
    {
     "data": {
      "text/plain": [
       "<tf.Tensor: shape=(1,), dtype=bool, numpy=array([ True])>"
      ]
     },
     "execution_count": 13,
     "metadata": {},
     "output_type": "execute_result"
    }
   ],
   "source": [
    "tf.math.logical_xor(a, b)"
   ]
  },
  {
   "cell_type": "code",
   "execution_count": 14,
   "id": "9a85b148",
   "metadata": {},
   "outputs": [
    {
     "data": {
      "text/plain": [
       "<tf.Tensor: shape=(4,), dtype=float32, numpy=array([0., 0., 2., 5.], dtype=float32)>"
      ]
     },
     "execution_count": 14,
     "metadata": {},
     "output_type": "execute_result"
    }
   ],
   "source": [
    "x = tf.constant([0., 0., 0., 0.])\n",
    "y = tf.constant([-2., 0., 2., 5.])\n",
    "tf.math.maximum(x, y)"
   ]
  },
  {
   "cell_type": "code",
   "execution_count": 15,
   "id": "b8387695",
   "metadata": {},
   "outputs": [
    {
     "data": {
      "text/plain": [
       "<tf.Tensor: shape=(4,), dtype=float32, numpy=array([-5., -3., -3., -3.], dtype=float32)>"
      ]
     },
     "execution_count": 15,
     "metadata": {},
     "output_type": "execute_result"
    }
   ],
   "source": [
    "x = tf.constant([-5., 0., 0., 0.])\n",
    "y = tf.constant([-3.])\n",
    "tf.math.minimum(x, y)"
   ]
  },
  {
   "cell_type": "code",
   "execution_count": 16,
   "id": "7abcd627",
   "metadata": {},
   "outputs": [
    {
     "data": {
      "text/plain": [
       "array([ 1,  4,  9, 16])"
      ]
     },
     "execution_count": 16,
     "metadata": {},
     "output_type": "execute_result"
    }
   ],
   "source": [
    "x = tf.constant(([1, 2, 3, 4]))\n",
    "tf.math.multiply(x, x).numpy()"
   ]
  },
  {
   "cell_type": "code",
   "execution_count": 18,
   "id": "2f123445",
   "metadata": {},
   "outputs": [
    {
     "data": {
      "text/plain": [
       "array([False,  True])"
      ]
     },
     "execution_count": 18,
     "metadata": {},
     "output_type": "execute_result"
    }
   ],
   "source": [
    "x = tf.constant([2, 4])\n",
    "y = tf.constant(2)\n",
    "tf.math.not_equal(x, y).numpy()"
   ]
  },
  {
   "cell_type": "code",
   "execution_count": 20,
   "id": "590c02f3",
   "metadata": {},
   "outputs": [
    {
     "data": {
      "text/plain": [
       "33.3"
      ]
     },
     "execution_count": 20,
     "metadata": {},
     "output_type": "execute_result"
    }
   ],
   "source": [
    "coefficients = [1.0, 2.5, -4.2]\n",
    "x = 5.0\n",
    "y = tf.math.polyval(coefficients, x).numpy()\n",
    "y"
   ]
  },
  {
   "cell_type": "code",
   "execution_count": 21,
   "id": "663904b8",
   "metadata": {},
   "outputs": [
    {
     "data": {
      "text/plain": [
       "<tf.Tensor: shape=(2, 2), dtype=int32, numpy=\n",
       "array([[  256, 65536],\n",
       "       [    9,    27]])>"
      ]
     },
     "execution_count": 21,
     "metadata": {},
     "output_type": "execute_result"
    }
   ],
   "source": [
    "x = tf.constant([[2, 2], [3, 3]])\n",
    "y = tf.constant([[8, 16], [2, 3]])\n",
    "tf.pow(x, y)"
   ]
  },
  {
   "cell_type": "code",
   "execution_count": 3,
   "id": "2c8bdac1",
   "metadata": {},
   "outputs": [
    {
     "data": {
      "text/plain": [
       "<tf.Tensor: shape=(2,), dtype=float64, numpy=array([-2.25,  3.25])>"
      ]
     },
     "execution_count": 3,
     "metadata": {},
     "output_type": "execute_result"
    }
   ],
   "source": [
    "x = tf.constant([-2.25 + 4.75j, 3.25 + 5.75j])\n",
    "tf.math.real(x)"
   ]
  },
  {
   "cell_type": "code",
   "execution_count": 4,
   "id": "1f761ed1",
   "metadata": {},
   "outputs": [
    {
     "data": {
      "text/plain": [
       "array([0.5, 2. , 0. , 1. ], dtype=float32)"
      ]
     },
     "execution_count": 4,
     "metadata": {},
     "output_type": "execute_result"
    }
   ],
   "source": [
    "x = tf.constant([2.0, 0.5, 0, 1])\n",
    "tf.math.reciprocal_no_nan(x).numpy()"
   ]
  },
  {
   "cell_type": "code",
   "execution_count": 5,
   "id": "12ae3cab",
   "metadata": {},
   "outputs": [
    {
     "data": {
      "text/plain": [
       "<tf.Tensor: shape=(), dtype=bool, numpy=False>"
      ]
     },
     "execution_count": 5,
     "metadata": {},
     "output_type": "execute_result"
    }
   ],
   "source": [
    "x = tf.constant([[True, True], [False, False]])\n",
    "tf.math.reduce_all(x)"
   ]
  },
  {
   "cell_type": "code",
   "execution_count": 6,
   "id": "622df1f0",
   "metadata": {},
   "outputs": [
    {
     "data": {
      "text/plain": [
       "<tf.Tensor: shape=(), dtype=bool, numpy=True>"
      ]
     },
     "execution_count": 6,
     "metadata": {},
     "output_type": "execute_result"
    }
   ],
   "source": [
    "tf.reduce_any(x)"
   ]
  },
  {
   "cell_type": "code",
   "execution_count": 8,
   "id": "6fc6b17c",
   "metadata": {},
   "outputs": [
    {
     "data": {
      "text/plain": [
       "4"
      ]
     },
     "execution_count": 8,
     "metadata": {},
     "output_type": "execute_result"
    }
   ],
   "source": [
    "x = tf.constant([[1, 2, 3], [1, 1, 1]])\n",
    "tf.math.reduce_euclidean_norm(x).numpy()"
   ]
  },
  {
   "cell_type": "code",
   "execution_count": 10,
   "id": "a4a3c638",
   "metadata": {},
   "outputs": [
    {
     "data": {
      "text/plain": [
       "1.7917595"
      ]
     },
     "execution_count": 10,
     "metadata": {},
     "output_type": "execute_result"
    }
   ],
   "source": [
    "x = tf.constant([[0, 0, 0], [0., 0, 0]])\n",
    "tf.reduce_logsumexp(x).numpy()"
   ]
  },
  {
   "cell_type": "code",
   "execution_count": 12,
   "id": "18b467fd",
   "metadata": {},
   "outputs": [
    {
     "data": {
      "text/plain": [
       "5"
      ]
     },
     "execution_count": 12,
     "metadata": {},
     "output_type": "execute_result"
    }
   ],
   "source": [
    "x = tf.constant([5, 1, 2, 4])\n",
    "tf.reduce_max(x).numpy()"
   ]
  },
  {
   "cell_type": "code",
   "execution_count": 13,
   "id": "a243fd96",
   "metadata": {},
   "outputs": [
    {
     "data": {
      "text/plain": [
       "1.5"
      ]
     },
     "execution_count": 13,
     "metadata": {},
     "output_type": "execute_result"
    }
   ],
   "source": [
    "x = tf.constant([[1., 1.], [2, 2]])\n",
    "tf.reduce_mean(x).numpy()"
   ]
  },
  {
   "cell_type": "code",
   "execution_count": 14,
   "id": "4486d5e7",
   "metadata": {},
   "outputs": [
    {
     "data": {
      "text/plain": [
       "<tf.Tensor: shape=(), dtype=int32, numpy=1>"
      ]
     },
     "execution_count": 14,
     "metadata": {},
     "output_type": "execute_result"
    }
   ],
   "source": [
    "x = tf.constant([[[1, 2], [3, 4]], [[1, 2], [3, 4]]])\n",
    "tf.reduce_min(x)"
   ]
  },
  {
   "cell_type": "code",
   "execution_count": 16,
   "id": "47f85a89",
   "metadata": {},
   "outputs": [
    {
     "data": {
      "text/plain": [
       "24.0"
      ]
     },
     "execution_count": 16,
     "metadata": {},
     "output_type": "execute_result"
    }
   ],
   "source": [
    "x = tf.constant([[1., 2.], [3., 4.]])\n",
    "tf.math.reduce_prod(x).numpy()"
   ]
  },
  {
   "cell_type": "code",
   "execution_count": 18,
   "id": "f6fd04b9",
   "metadata": {},
   "outputs": [
    {
     "data": {
      "text/plain": [
       "<tf.Tensor: shape=(), dtype=float32, numpy=1.118034>"
      ]
     },
     "execution_count": 18,
     "metadata": {},
     "output_type": "execute_result"
    }
   ],
   "source": [
    "tf.math.reduce_std(x)"
   ]
  },
  {
   "cell_type": "code",
   "execution_count": 19,
   "id": "492f28fe",
   "metadata": {},
   "outputs": [
    {
     "data": {
      "text/plain": [
       "6"
      ]
     },
     "execution_count": 19,
     "metadata": {},
     "output_type": "execute_result"
    }
   ],
   "source": [
    "x = tf.constant([[1, 1, 1], [1, 1, 1]])\n",
    "tf.reduce_sum(x).numpy()"
   ]
  },
  {
   "cell_type": "code",
   "execution_count": 20,
   "id": "a0e03b40",
   "metadata": {},
   "outputs": [
    {
     "data": {
      "text/plain": [
       "1.25"
      ]
     },
     "execution_count": 20,
     "metadata": {},
     "output_type": "execute_result"
    }
   ],
   "source": [
    "x = tf.constant([[1, 2.], [3., 4]])\n",
    "tf.math.reduce_variance(x).numpy()"
   ]
  },
  {
   "cell_type": "code",
   "execution_count": 21,
   "id": "81e60c91",
   "metadata": {},
   "outputs": [
    {
     "data": {
      "text/plain": [
       "<tf.Tensor: shape=(7,), dtype=float32, numpy=array([-2., -2., -0.,  0.,  2.,  2.,  2.], dtype=float32)>"
      ]
     },
     "execution_count": 21,
     "metadata": {},
     "output_type": "execute_result"
    }
   ],
   "source": [
    "tf.math.rint([-1.7, -1.5, -0.2, 0.2, 1.5, 1.7, 2.0])"
   ]
  },
  {
   "cell_type": "code",
   "execution_count": 22,
   "id": "bbd57a18",
   "metadata": {},
   "outputs": [
    {
     "data": {
      "text/plain": [
       "<tf.Tensor: shape=(5,), dtype=float32, numpy=array([ 1.,  2.,  2.,  2., -4.], dtype=float32)>"
      ]
     },
     "execution_count": 22,
     "metadata": {},
     "output_type": "execute_result"
    }
   ],
   "source": [
    "tf.round([0.9, 2.5, 2.3, 1.5, -4.5])"
   ]
  },
  {
   "cell_type": "code",
   "execution_count": 23,
   "id": "2c5745cc",
   "metadata": {},
   "outputs": [
    {
     "data": {
      "text/plain": [
       "<tf.Tensor: shape=(3,), dtype=float32, numpy=array([0.70710677,        inf,        nan], dtype=float32)>"
      ]
     },
     "execution_count": 23,
     "metadata": {},
     "output_type": "execute_result"
    }
   ],
   "source": [
    "x = tf.constant([2., 0., -2.])\n",
    "tf.math.rsqrt(x)"
   ]
  },
  {
   "cell_type": "code",
   "execution_count": 26,
   "id": "110104ac",
   "metadata": {},
   "outputs": [
    {
     "data": {
      "text/plain": [
       "<tf.Tensor: shape=(2, 4), dtype=float32, numpy=\n",
       "array([[2.5, 2.5, 2.5, 2.5],\n",
       "       [5. , 6. , 7. , 8. ]], dtype=float32)>"
      ]
     },
     "execution_count": 26,
     "metadata": {},
     "output_type": "execute_result"
    }
   ],
   "source": [
    "c = tf.constant([[1.0, 2, 3, 4], [4, 3, 2, 1], [5 ,6, 7, 8]])\n",
    "tf.math.segment_mean(c, tf.constant([0, 0, 1]))"
   ]
  },
  {
   "cell_type": "code",
   "execution_count": 28,
   "id": "4f6a7954",
   "metadata": {},
   "outputs": [
    {
     "data": {
      "text/plain": [
       "array([[1., 2., 2., 1.],\n",
       "       [5., 6., 7., 8.]], dtype=float32)"
      ]
     },
     "execution_count": 28,
     "metadata": {},
     "output_type": "execute_result"
    }
   ],
   "source": [
    "tf.math.segment_min(c, tf.constant([0, 0, 1])).numpy()"
   ]
  },
  {
   "cell_type": "code",
   "execution_count": 33,
   "id": "ed455b65",
   "metadata": {},
   "outputs": [
    {
     "data": {
      "text/plain": [
       "<tf.Tensor: shape=(2, 4), dtype=float32, numpy=\n",
       "array([[4., 3., 3., 4.],\n",
       "       [5., 6., 7., 8.]], dtype=float32)>"
      ]
     },
     "execution_count": 33,
     "metadata": {},
     "output_type": "execute_result"
    }
   ],
   "source": [
    "tf.math.segment_max(c, tf.constant([0, 0, 1]))"
   ]
  },
  {
   "cell_type": "code",
   "execution_count": 34,
   "id": "68554c24",
   "metadata": {},
   "outputs": [
    {
     "data": {
      "text/plain": [
       "<tf.Tensor: shape=(2, 4), dtype=float32, numpy=\n",
       "array([[4., 6., 6., 4.],\n",
       "       [5., 6., 7., 8.]], dtype=float32)>"
      ]
     },
     "execution_count": 34,
     "metadata": {},
     "output_type": "execute_result"
    }
   ],
   "source": [
    "tf.math.segment_prod(c, tf.constant([0, 0, 1]))"
   ]
  },
  {
   "cell_type": "code",
   "execution_count": 36,
   "id": "c4aece94",
   "metadata": {},
   "outputs": [
    {
     "data": {
      "text/plain": [
       "array([[5., 5., 5., 5.],\n",
       "       [5., 6., 7., 8.]], dtype=float32)"
      ]
     },
     "execution_count": 36,
     "metadata": {},
     "output_type": "execute_result"
    }
   ],
   "source": [
    "tf.math.segment_sum(c, tf.constant([0, 0, 1])).numpy()"
   ]
  },
  {
   "cell_type": "code",
   "execution_count": 37,
   "id": "448b9426",
   "metadata": {},
   "outputs": [
    {
     "data": {
      "text/plain": [
       "<tf.Tensor: shape=(4,), dtype=float32, numpy=array([0.5      , 0.7310586, 1.       , 1.       ], dtype=float32)>"
      ]
     },
     "execution_count": 37,
     "metadata": {},
     "output_type": "execute_result"
    }
   ],
   "source": [
    "x = tf.constant([0.0, 1.0, 50.0, 100.0])\n",
    "tf.math.sigmoid(x)"
   ]
  },
  {
   "cell_type": "code",
   "execution_count": 38,
   "id": "5bfe28ab",
   "metadata": {},
   "outputs": [
    {
     "data": {
      "text/plain": [
       "<tf.Tensor: shape=(3,), dtype=float32, numpy=array([ 0.,  1., -1.], dtype=float32)>"
      ]
     },
     "execution_count": 38,
     "metadata": {},
     "output_type": "execute_result"
    }
   ],
   "source": [
    "tf.math.sign([0., 2., -3.])"
   ]
  },
  {
   "cell_type": "code",
   "execution_count": 39,
   "id": "dee11d82",
   "metadata": {},
   "outputs": [
    {
     "data": {
      "text/plain": [
       "<tf.Tensor: shape=(9,), dtype=float32, numpy=\n",
       "array([        nan, -0.41211846, -0.47942555,  0.84147096,  0.84147096,\n",
       "        0.9320391 , -0.87329733, -0.54402107,         nan], dtype=float32)>"
      ]
     },
     "execution_count": 39,
     "metadata": {},
     "output_type": "execute_result"
    }
   ],
   "source": [
    "tf.math.sin([-float(\"inf\"), -9, -0.5, 1, 1, 1.2, 200, 10, float(\"inf\")])"
   ]
  },
  {
   "cell_type": "code",
   "execution_count": 40,
   "id": "13e5a1af",
   "metadata": {},
   "outputs": [
    {
     "data": {
      "text/plain": [
       "<tf.Tensor: shape=(9,), dtype=float32, numpy=\n",
       "array([          -inf, -4.0515420e+03, -5.2109528e-01,  1.1752012e+00,\n",
       "        1.1752012e+00,  1.5094614e+00,            inf,  1.1013232e+04,\n",
       "                  inf], dtype=float32)>"
      ]
     },
     "execution_count": 40,
     "metadata": {},
     "output_type": "execute_result"
    }
   ],
   "source": [
    "tf.math.sinh([-float(\"inf\"), -9, -0.5, 1, 1, 1.2, 200, 10, float(\"inf\")])"
   ]
  },
  {
   "cell_type": "code",
   "execution_count": 41,
   "id": "b9ee2675",
   "metadata": {},
   "outputs": [
    {
     "data": {
      "text/plain": [
       "array([0.6931472, 1.3132616], dtype=float32)"
      ]
     },
     "execution_count": 41,
     "metadata": {},
     "output_type": "execute_result"
    }
   ],
   "source": [
    "tf.math.softplus(tf.range(0, 2, dtype=tf.float32)).numpy()"
   ]
  },
  {
   "cell_type": "code",
   "execution_count": 42,
   "id": "e1545fd2",
   "metadata": {},
   "outputs": [
    {
     "data": {
      "text/plain": [
       "<tf.Tensor: shape=(2,), dtype=float32, numpy=array([2., 4.], dtype=float32)>"
      ]
     },
     "execution_count": 42,
     "metadata": {},
     "output_type": "execute_result"
    }
   ],
   "source": [
    "x = tf.constant([4, 16.])\n",
    "tf.sqrt(x)"
   ]
  },
  {
   "cell_type": "code",
   "execution_count": 43,
   "id": "ee6f3b54",
   "metadata": {},
   "outputs": [
    {
     "data": {
      "text/plain": [
       "array([ 9, 16])"
      ]
     },
     "execution_count": 43,
     "metadata": {},
     "output_type": "execute_result"
    }
   ],
   "source": [
    "tf.math.square([3, 4]).numpy()"
   ]
  },
  {
   "cell_type": "code",
   "execution_count": 44,
   "id": "93a96ee9",
   "metadata": {},
   "outputs": [
    {
     "data": {
      "text/plain": [
       "array([0, 1, 2, 3, 4])"
      ]
     },
     "execution_count": 44,
     "metadata": {},
     "output_type": "execute_result"
    }
   ],
   "source": [
    "x = [1, 2, 3, 4, 5]\n",
    "y = 1\n",
    "tf.subtract(x, y).numpy()"
   ]
  },
  {
   "cell_type": "code",
   "execution_count": 45,
   "id": "fedd986b",
   "metadata": {},
   "outputs": [
    {
     "data": {
      "text/plain": [
       "<tf.Tensor: shape=(8,), dtype=float32, numpy=\n",
       "array([        nan,  0.45231566, -0.5463025 ,  1.5574077 ,  2.572152  ,\n",
       "       -1.7925274 ,  0.32097113,         nan], dtype=float32)>"
      ]
     },
     "execution_count": 45,
     "metadata": {},
     "output_type": "execute_result"
    }
   ],
   "source": [
    "x = tf.constant([-float(\"inf\"), -9, -0.5, 1, 1.2, 200, 10000, float(\"inf\")])\n",
    "tf.math.tan(x)"
   ]
  },
  {
   "cell_type": "code",
   "execution_count": 46,
   "id": "834e4587",
   "metadata": {},
   "outputs": [
    {
     "data": {
      "text/plain": [
       "array([-1.        , -1.        , -0.46211717,  0.7615942 ,  0.8336547 ,\n",
       "        1.        ,  1.        ,  1.        ], dtype=float32)"
      ]
     },
     "execution_count": 46,
     "metadata": {},
     "output_type": "execute_result"
    }
   ],
   "source": [
    "tf.math.tanh(x).numpy()"
   ]
  },
  {
   "cell_type": "code",
   "execution_count": 48,
   "id": "a03b8223",
   "metadata": {},
   "outputs": [
    {
     "name": "stdout",
     "output_type": "stream",
     "text": [
      "[99 98 96]\n",
      "[5 2 9]\n"
     ]
    }
   ],
   "source": [
    "result = tf.math.top_k([1, 2, 98, 1, 1, 99, 3, 1, 3, 96, 4, 1], k = 3)\n",
    "print(result.values.numpy())\n",
    "print(result.indices.numpy())"
   ]
  },
  {
   "cell_type": "code",
   "execution_count": 49,
   "id": "d9404d34",
   "metadata": {},
   "outputs": [
    {
     "data": {
      "text/plain": [
       "array([[4, 3, 3, 4],\n",
       "       [5, 6, 7, 8]])"
      ]
     },
     "execution_count": 49,
     "metadata": {},
     "output_type": "execute_result"
    }
   ],
   "source": [
    "c = tf.constant([[1, 2, 3, 4], [5, 6, 7, 8], [4, 3, 2, 1]])\n",
    "tf.math.unsorted_segment_max(c, tf.constant([0, 1, 0]), num_segments=2).numpy()"
   ]
  },
  {
   "cell_type": "code",
   "execution_count": 50,
   "id": "bee5bd61",
   "metadata": {},
   "outputs": [
    {
     "data": {
      "text/plain": [
       "array([[1, 2, 2, 1],\n",
       "       [5, 6, 7, 8]])"
      ]
     },
     "execution_count": 50,
     "metadata": {},
     "output_type": "execute_result"
    }
   ],
   "source": [
    "tf.math.unsorted_segment_min(c, tf.constant([0, 1, 0]), num_segments=2).numpy()"
   ]
  },
  {
   "cell_type": "code",
   "execution_count": 51,
   "id": "6f4e37e8",
   "metadata": {},
   "outputs": [
    {
     "data": {
      "text/plain": [
       "array([[4, 6, 6, 4],\n",
       "       [5, 6, 7, 8]])"
      ]
     },
     "execution_count": 51,
     "metadata": {},
     "output_type": "execute_result"
    }
   ],
   "source": [
    "tf.math.unsorted_segment_prod(c, tf.constant([0, 1, 0]), num_segments=2).numpy()"
   ]
  },
  {
   "cell_type": "code",
   "execution_count": 53,
   "id": "144b7d09",
   "metadata": {},
   "outputs": [
    {
     "data": {
      "text/plain": [
       "array([[5, 5, 5, 5],\n",
       "       [5, 6, 7, 8]])"
      ]
     },
     "execution_count": 53,
     "metadata": {},
     "output_type": "execute_result"
    }
   ],
   "source": [
    "tf.math.unsorted_segment_sum(c, [0, 1, 0], num_segments=2).numpy()"
   ]
  },
  {
   "cell_type": "code",
   "execution_count": 54,
   "id": "8ee3c103",
   "metadata": {},
   "outputs": [
    {
     "data": {
      "text/plain": [
       "0.0"
      ]
     },
     "execution_count": 54,
     "metadata": {},
     "output_type": "execute_result"
    }
   ],
   "source": [
    "tf.math.xlog1py(0., 1.).numpy()"
   ]
  },
  {
   "cell_type": "code",
   "execution_count": 55,
   "id": "c9b2fd61",
   "metadata": {},
   "outputs": [
    {
     "data": {
      "text/plain": [
       "array([ 0.9384699,  0.7651977,  0.2238908, -0.3971498], dtype=float32)"
      ]
     },
     "execution_count": 55,
     "metadata": {},
     "output_type": "execute_result"
    }
   ],
   "source": [
    "tf.math.special.bessel_j0([0.5, 1., 2., 4.]).numpy()"
   ]
  },
  {
   "cell_type": "code",
   "execution_count": 56,
   "id": "24ce5fd0",
   "metadata": {},
   "outputs": [
    {
     "data": {
      "text/plain": [
       "array([ 0.24226847,  0.4400506 ,  0.5767248 , -0.06604336], dtype=float32)"
      ]
     },
     "execution_count": 56,
     "metadata": {},
     "output_type": "execute_result"
    }
   ],
   "source": [
    "tf.math.special.bessel_j1([0.5, 1., 2., 4.]).numpy()"
   ]
  },
  {
   "cell_type": "code",
   "execution_count": 57,
   "id": "1328b2fa",
   "metadata": {},
   "outputs": [
    {
     "data": {
      "text/plain": [
       "array([0.9244191 , 0.42102444, 0.1138939 , 0.01115968], dtype=float32)"
      ]
     },
     "execution_count": 57,
     "metadata": {},
     "output_type": "execute_result"
    }
   ],
   "source": [
    "tf.math.special.bessel_k0([0.5, 1., 2., 4.]).numpy()"
   ]
  },
  {
   "cell_type": "code",
   "execution_count": 58,
   "id": "348d9247",
   "metadata": {},
   "outputs": [
    {
     "data": {
      "text/plain": [
       "array([1.5241094 , 1.1444631 , 0.8415684 , 0.60929763], dtype=float32)"
      ]
     },
     "execution_count": 58,
     "metadata": {},
     "output_type": "execute_result"
    }
   ],
   "source": [
    "tf.math.special.bessel_k0e([0.5, 1., 2., 4.]).numpy()"
   ]
  },
  {
   "cell_type": "code",
   "execution_count": 59,
   "id": "bcd24d29",
   "metadata": {},
   "outputs": [
    {
     "data": {
      "text/plain": [
       "array([1.656441  , 0.6019073 , 0.13986588, 0.0124835 ], dtype=float32)"
      ]
     },
     "execution_count": 59,
     "metadata": {},
     "output_type": "execute_result"
    }
   ],
   "source": [
    "tf.math.special.bessel_k1([0.5, 1., 2., 4.]).numpy()"
   ]
  },
  {
   "cell_type": "code",
   "execution_count": 60,
   "id": "8786af07",
   "metadata": {},
   "outputs": [
    {
     "data": {
      "text/plain": [
       "array([2.7310095, 1.6361537, 1.0334768, 0.6815759], dtype=float32)"
      ]
     },
     "execution_count": 60,
     "metadata": {},
     "output_type": "execute_result"
    }
   ],
   "source": [
    "tf.math.special.bessel_k1e([0.5, 1., 2., 4.]).numpy()"
   ]
  },
  {
   "cell_type": "code",
   "execution_count": 61,
   "id": "0fb83f95",
   "metadata": {},
   "outputs": [
    {
     "data": {
      "text/plain": [
       "array([-0.44451872,  0.08825697,  0.51037574, -0.01694078], dtype=float32)"
      ]
     },
     "execution_count": 61,
     "metadata": {},
     "output_type": "execute_result"
    }
   ],
   "source": [
    "tf.math.special.bessel_y0([0.5, 1., 2., 4.]).numpy()"
   ]
  },
  {
   "cell_type": "code",
   "execution_count": 62,
   "id": "7d9d304c",
   "metadata": {},
   "outputs": [
    {
     "data": {
      "text/plain": [
       "array([-1.4714724 , -0.7812128 , -0.10703243,  0.39792565], dtype=float32)"
      ]
     },
     "execution_count": 62,
     "metadata": {},
     "output_type": "execute_result"
    }
   ],
   "source": [
    "tf.math.special.bessel_y1([0.5, 1., 2., 4.]).numpy()"
   ]
  },
  {
   "cell_type": "code",
   "execution_count": 63,
   "id": "632344e9",
   "metadata": {},
   "outputs": [
    {
     "data": {
      "text/plain": [
       "array([-0.5380795,  0.4244364,  0.4244364,  0.5380795], dtype=float32)"
      ]
     },
     "execution_count": 63,
     "metadata": {},
     "output_type": "execute_result"
    }
   ],
   "source": [
    "tf.math.special.dawsn([-1., 0.5, 0.5, 1.]).numpy()"
   ]
  },
  {
   "cell_type": "code",
   "execution_count": 64,
   "id": "eadab6ff",
   "metadata": {},
   "outputs": [
    {
     "data": {
      "text/plain": [
       "array([ 1.8951179,  2.1673784,  5.3332353, 21.048464 ], dtype=float32)"
      ]
     },
     "execution_count": 64,
     "metadata": {},
     "output_type": "execute_result"
    }
   ],
   "source": [
    "tf.math.special.expint([1., 1.1, 2.1, 4.1]).numpy()"
   ]
  },
  {
   "cell_type": "code",
   "execution_count": 65,
   "id": "5fe515eb",
   "metadata": {},
   "outputs": [
    {
     "data": {
      "text/plain": [
       "array([-0.7798934 , -0.09999753,  0.09999753,  0.7798934 ], dtype=float32)"
      ]
     },
     "execution_count": 65,
     "metadata": {},
     "output_type": "execute_result"
    }
   ],
   "source": [
    "tf.math.special.fresnel_cos([-1, -0.1, 0.1, 1.]).numpy()"
   ]
  },
  {
   "cell_type": "code",
   "execution_count": 66,
   "id": "1dfd85c3",
   "metadata": {},
   "outputs": [
    {
     "data": {
      "text/plain": [
       "array([-0.43825912, -0.00052359,  0.00052359,  0.43825912], dtype=float32)"
      ]
     },
     "execution_count": 66,
     "metadata": {},
     "output_type": "execute_result"
    }
   ],
   "source": [
    "tf.math.special.fresnel_sin([-1., -0.1, 0.1, 1.]).numpy()"
   ]
  },
  {
   "cell_type": "code",
   "execution_count": 67,
   "id": "e1920fc0",
   "metadata": {},
   "outputs": [
    {
     "data": {
      "text/plain": [
       "array([ 0.58224034,  0.        , -0.82246685, -1.4367464 ], dtype=float32)"
      ]
     },
     "execution_count": 67,
     "metadata": {},
     "output_type": "execute_result"
    }
   ],
   "source": [
    "tf.math.special.spence([0.5, 1., 2., 3.]).numpy()"
   ]
  },
  {
   "cell_type": "code",
   "execution_count": 68,
   "id": "15e8ed2b",
   "metadata": {},
   "outputs": [],
   "source": [
    "tf.nest.assert_same_structure(1.5, tf.Variable(1, tf.uint32))\n",
    "tf.nest.assert_same_structure(\"abc\", np.array([1, 2]))"
   ]
  },
  {
   "cell_type": "code",
   "execution_count": 71,
   "id": "ba943a49",
   "metadata": {},
   "outputs": [],
   "source": [
    "structure1 = (((1, 2), 3), 4, (5, 6))\n",
    "structure2 = (((\"foo1\", \"foo2\"), \"foo3\"), \"foo4\", (\"foo5\", \"foo6\"))\n",
    "tf.nest.assert_same_structure(structure1, structure2)"
   ]
  },
  {
   "cell_type": "code",
   "execution_count": 73,
   "id": "7a5fc417",
   "metadata": {},
   "outputs": [
    {
     "data": {
      "text/plain": [
       "['value1', 'value2', 'value3']"
      ]
     },
     "execution_count": 73,
     "metadata": {},
     "output_type": "execute_result"
    }
   ],
   "source": [
    "dict = {\"key3\":\"value3\", \"key1\":\"value1\", \"key2\": \"value2\"}\n",
    "tf.nest.flatten(dict)"
   ]
  },
  {
   "cell_type": "code",
   "execution_count": 74,
   "id": "4c70b32b",
   "metadata": {},
   "outputs": [
    {
     "data": {
      "text/plain": [
       "[1.0, 2.0, 3.0, 4.0, 5.0, 6.0]"
      ]
     },
     "execution_count": 74,
     "metadata": {},
     "output_type": "execute_result"
    }
   ],
   "source": [
    "tuple = ((1.0, 2.0), (3.0, 4.0, 5.0), 6.0)\n",
    "tf.nest.flatten(tuple)"
   ]
  },
  {
   "cell_type": "code",
   "execution_count": 76,
   "id": "f38e0ead",
   "metadata": {},
   "outputs": [
    {
     "data": {
      "text/plain": [
       "{'hello': 60, 'world': 90}"
      ]
     },
     "execution_count": 76,
     "metadata": {},
     "output_type": "execute_result"
    }
   ],
   "source": [
    "d1 = {\"hello\":24, \"world\":76}\n",
    "d2 = {\"hello\":36, \"world\":14}\n",
    "tf.nest.map_structure(lambda p1, p2: p1 + p2, d1, d2)"
   ]
  },
  {
   "cell_type": "code",
   "execution_count": 77,
   "id": "81b59596",
   "metadata": {},
   "outputs": [
    {
     "data": {
      "text/plain": [
       "[48, 152, 'abab']"
      ]
     },
     "execution_count": 77,
     "metadata": {},
     "output_type": "execute_result"
    }
   ],
   "source": [
    "a = [24, 76, \"ab\"]\n",
    "tf.nest.map_structure(lambda p: p * 2, a)"
   ]
  },
  {
   "cell_type": "code",
   "execution_count": 78,
   "id": "dcc6817c",
   "metadata": {},
   "outputs": [
    {
     "data": {
      "text/plain": [
       "((1.0, 2.0), (3.0, 4.0, 5.0), 6.0)"
      ]
     },
     "execution_count": 78,
     "metadata": {},
     "output_type": "execute_result"
    }
   ],
   "source": [
    "structure = ((\"a\", \"b\"), (\"c\", \"d\", \"e\"), \"f\")\n",
    "flat_sequence = [1.0, 2.0, 3.0, 4.0, 5.0, 6.0]\n",
    "tf.nest.pack_sequence_as(structure, flat_sequence)"
   ]
  },
  {
   "cell_type": "code",
   "execution_count": 80,
   "id": "f83b4ca8",
   "metadata": {},
   "outputs": [
    {
     "data": {
      "text/plain": [
       "TensorShape([1, 4, 4, 2])"
      ]
     },
     "execution_count": 80,
     "metadata": {},
     "output_type": "execute_result"
    }
   ],
   "source": [
    "x_in = np.array([[\n",
    "    [[2], [1], [2], [0], [1]],\n",
    "    [[1], [3], [2], [2], [3]],\n",
    "    [[1], [1], [3], [3], [0]],\n",
    "    [[2], [2], [0], [1], [1]],\n",
    "    [[0], [0], [3], [1], [2]]\n",
    "]])\n",
    "kernel_in = np.array([\n",
    "    [[[2, 0.1]], [[3, 0.2]]],\n",
    "    [[[0, 0.3]], [[1, 0.4]]]\n",
    "])\n",
    "x = tf.constant(x_in, dtype=tf.float32)\n",
    "kernel = tf.constant(kernel_in, dtype=tf.float32)\n",
    "tf.nn.conv2d(x, kernel, strides=[1, 1, 1, 1], padding=\"VALID\").shape"
   ]
  },
  {
   "cell_type": "code",
   "execution_count": 82,
   "id": "1b99ef31",
   "metadata": {},
   "outputs": [
    {
     "data": {
      "text/plain": [
       "([<tensorflow.python.framework.sparse_tensor.SparseTensor at 0x1e6fc041670>],\n",
       " <tf.Tensor: shape=(2, 1), dtype=float32, numpy=\n",
       " array([[0.5],\n",
       "        [0.3]], dtype=float32)>)"
      ]
     },
     "execution_count": 82,
     "metadata": {},
     "output_type": "execute_result"
    }
   ],
   "source": [
    "inf = float(\"inf\")\n",
    "logits = tf.constant([[[0., -inf, -inf], \n",
    "                      [-2.3, -inf, -0.1]],\n",
    "                     [[-inf, -0.5, -inf], \n",
    "                     [-inf, -inf, -0.1]],\n",
    "                     [[-inf, -inf, -inf],\n",
    "                     [-0.1, -inf, -2.3]]])\n",
    "seq_lens = tf.constant([2, 3])\n",
    "outputs = tf.nn.ctc_greedy_decoder(logits, seq_lens, blank_index=1)\n",
    "outputs"
   ]
  },
  {
   "cell_type": "code",
   "execution_count": 85,
   "id": "a7d69fe5",
   "metadata": {},
   "outputs": [
    {
     "data": {
      "text/plain": [
       "array([[[[10., 14.],\n",
       "         [14., 20.]],\n",
       "\n",
       "        [[18., 26.],\n",
       "         [22., 32.]]]], dtype=float32)"
      ]
     },
     "execution_count": 85,
     "metadata": {},
     "output_type": "execute_result"
    }
   ],
   "source": [
    "x = np.array([\n",
    "    [1., 2.],\n",
    "    [3., 4.],\n",
    "    [5., 6.]\n",
    "], dtype=np.float32).reshape((1, 3, 2, 1))\n",
    "kernel = np.array([\n",
    "    [1., 2.],\n",
    "    [3., 4.]\n",
    "], dtype=np.float32).reshape((2, 1, 1, 2))\n",
    "tf.nn.depthwise_conv2d(x, kernel, strides=[1, 1, 1, 1], padding=\"VALID\").numpy()"
   ]
  },
  {
   "cell_type": "code",
   "execution_count": 86,
   "id": "4a08b2bb",
   "metadata": {},
   "outputs": [
    {
     "data": {
      "text/plain": [
       "array([[2., 0., 0., 2., 2.],\n",
       "       [2., 2., 2., 2., 2.],\n",
       "       [2., 0., 2., 0., 2.]], dtype=float32)"
      ]
     },
     "execution_count": 86,
     "metadata": {},
     "output_type": "execute_result"
    }
   ],
   "source": [
    "tf.random.set_seed(0)\n",
    "x = tf.ones([3, 5])\n",
    "tf.nn.dropout(x, rate=0.5, seed=1).numpy()"
   ]
  },
  {
   "cell_type": "code",
   "execution_count": 87,
   "id": "bb2b2495",
   "metadata": {},
   "outputs": [
    {
     "data": {
      "text/plain": [
       "<tf.Tensor: shape=(3,), dtype=float32, numpy=array([ 1.,  0., -1.], dtype=float32)>"
      ]
     },
     "execution_count": 87,
     "metadata": {},
     "output_type": "execute_result"
    }
   ],
   "source": [
    "tf.nn.elu([1.0, 0.0, -100.0])"
   ]
  },
  {
   "cell_type": "code",
   "execution_count": 88,
   "id": "fc9a6a5a",
   "metadata": {},
   "outputs": [
    {
     "data": {
      "text/plain": [
       "array([-0.00404951, -0.15865529,  0.        ,  0.8413447 ,  2.9959507 ],\n",
       "      dtype=float32)"
      ]
     },
     "execution_count": 88,
     "metadata": {},
     "output_type": "execute_result"
    }
   ],
   "source": [
    "x = tf.constant([-3.0, -1.0, 0.0, 1.0, 3.0], dtype=tf.float32)\n",
    "y = tf.nn.gelu(x)\n",
    "y.numpy()"
   ]
  },
  {
   "cell_type": "code",
   "execution_count": 89,
   "id": "e0b00f14",
   "metadata": {},
   "outputs": [
    {
     "name": "stdout",
     "output_type": "stream",
     "text": [
      "[[3.         1.5        1.5       ]\n",
      " [2.66666667 2.66666667 2.66666667]]\n",
      "[[0 1 1]\n",
      " [0 0 0]]\n"
     ]
    }
   ],
   "source": [
    "x = tf.constant([[3, 1, 2], [1, 3, 4]])\n",
    "y, segments = tf.nn.isotonic_regression(x, axis=1)\n",
    "print(y.numpy())\n",
    "print(segments.numpy())"
   ]
  },
  {
   "cell_type": "code",
   "execution_count": 90,
   "id": "ac5f39f3",
   "metadata": {},
   "outputs": [
    {
     "data": {
      "text/plain": [
       "<tf.Tensor: shape=(1, 2, 2, 1), dtype=int32, numpy=\n",
       "array([[[[2],\n",
       "         [7]],\n",
       "\n",
       "        [[5],\n",
       "         [9]]]])>"
      ]
     },
     "execution_count": 90,
     "metadata": {},
     "output_type": "execute_result"
    }
   ],
   "source": [
    "matrix = tf.constant([\n",
    "    [0, 0, 1, 7],\n",
    "    [0, 2, 0, 0],\n",
    "    [5, 2, 0, 0],\n",
    "    [0, 0, 9, 8]\n",
    "])\n",
    "reshaped = tf.reshape(matrix, (1, 4, 4, 1))\n",
    "tf.nn.max_pool(reshaped, ksize=2, strides=2, padding=\"SAME\")"
   ]
  },
  {
   "cell_type": "code",
   "execution_count": 91,
   "id": "d27b0123",
   "metadata": {},
   "outputs": [
    {
     "data": {
      "text/plain": [
       "<tf.Tensor: shape=(2, 3), dtype=float32, numpy=\n",
       "array([[ 1.,  3.,  4.],\n",
       "       [ 9., 11., 12.]], dtype=float32)>"
      ]
     },
     "execution_count": 91,
     "metadata": {},
     "output_type": "execute_result"
    }
   ],
   "source": [
    "x = tf.constant([[1., 2., 3., 4.], [5., 6., 7., 8.], [9., 10., 11., 12.]])\n",
    "x = x[tf.newaxis, :, :, tf.newaxis]\n",
    "result = tf.nn.max_pool2d(x, ksize=(2, 2), strides=(2, 2), padding=[[0, 0], [1, 1], [1, 1], [0, 0]])\n",
    "result[0, :, :, 0]"
   ]
  },
  {
   "cell_type": "code",
   "execution_count": 92,
   "id": "332ad2ca",
   "metadata": {},
   "outputs": [
    {
     "data": {
      "text/plain": [
       "array([0., 0., 3.], dtype=float32)"
      ]
     },
     "execution_count": 92,
     "metadata": {},
     "output_type": "execute_result"
    }
   ],
   "source": [
    "tf.nn.relu([-2, 0., 3.]).numpy()"
   ]
  },
  {
   "cell_type": "code",
   "execution_count": 93,
   "id": "4ed09c3f",
   "metadata": {},
   "outputs": [
    {
     "data": {
      "text/plain": [
       "array([0., 0., 0., 6., 6.], dtype=float32)"
      ]
     },
     "execution_count": 93,
     "metadata": {},
     "output_type": "execute_result"
    }
   ],
   "source": [
    "x = tf.constant([-3.0, -1.0, 0.0, 6.0, 10.0], dtype=tf.float32)\n",
    "y = tf.nn.relu6(x)\n",
    "y.numpy()"
   ]
  },
  {
   "cell_type": "code",
   "execution_count": 96,
   "id": "ae7451c1",
   "metadata": {},
   "outputs": [
    {
     "name": "stdout",
     "output_type": "stream",
     "text": [
      "[0.31326166 1.3132616  0.6931472 ]\n",
      "[0.31326166 1.3132616  0.6931472 ]\n"
     ]
    },
    {
     "data": {
      "text/plain": [
       "array([0.3132617, 1.3132617, 0.6931472], dtype=float32)"
      ]
     },
     "execution_count": 96,
     "metadata": {},
     "output_type": "execute_result"
    }
   ],
   "source": [
    "sigmoid_logits = tf.constant([1., -1., 0.])\n",
    "softmax_logits = tf.stack([sigmoid_logits, tf.zeros_like(sigmoid_logits)], axis=-1)\n",
    "soft_binary_labels = tf.constant([1., 1., 0.])\n",
    "soft_multiclass_labels = tf.stack([soft_binary_labels, 1. - soft_binary_labels], axis=-1)\n",
    "hard_labels = tf.constant([0, 0, 1])\n",
    "print(tf.nn.sparse_softmax_cross_entropy_with_logits(labels = hard_labels, logits=softmax_logits).numpy())\n",
    "print(tf.nn.softmax_cross_entropy_with_logits(labels=soft_multiclass_labels, logits=softmax_logits).numpy())\n",
    "tf.nn.sigmoid_cross_entropy_with_logits(labels=soft_binary_labels, logits=sigmoid_logits).numpy()"
   ]
  },
  {
   "cell_type": "code",
   "execution_count": 2,
   "id": "f429829a",
   "metadata": {},
   "outputs": [
    {
     "data": {
      "text/plain": [
       "array([3.0211994e-01, 8.8049591e-01, 4.5776367e-05], dtype=float32)"
      ]
     },
     "execution_count": 2,
     "metadata": {},
     "output_type": "execute_result"
    }
   ],
   "source": [
    "labels = tf.constant([1., 0.5, 0.])\n",
    "logits = tf.constant([1.5, -0.1, -10.])\n",
    "tf.nn.weighted_cross_entropy_with_logits(labels=labels, logits=logits, pos_weight=tf.constant(1.5)).numpy()"
   ]
  },
  {
   "cell_type": "code",
   "execution_count": null,
   "id": "b7cbfefb",
   "metadata": {},
   "outputs": [],
   "source": []
  }
 ],
 "metadata": {
  "kernelspec": {
   "display_name": "Python 3",
   "language": "python",
   "name": "python3"
  },
  "language_info": {
   "codemirror_mode": {
    "name": "ipython",
    "version": 3
   },
   "file_extension": ".py",
   "mimetype": "text/x-python",
   "name": "python",
   "nbconvert_exporter": "python",
   "pygments_lexer": "ipython3",
   "version": "3.8.8"
  }
 },
 "nbformat": 4,
 "nbformat_minor": 5
}
