{
 "cells": [
  {
   "cell_type": "code",
   "execution_count": 75,
   "id": "24052e05",
   "metadata": {},
   "outputs": [],
   "source": [
    "import torch\n",
    "import numpy as np"
   ]
  },
  {
   "cell_type": "code",
   "execution_count": 4,
   "id": "53c6f82e",
   "metadata": {},
   "outputs": [
    {
     "data": {
      "text/plain": [
       "tensor([[0., 1.],\n",
       "        [2., 3.]])"
      ]
     },
     "execution_count": 4,
     "metadata": {},
     "output_type": "execute_result"
    }
   ],
   "source": [
    "tensor = torch.ones((2,))\n",
    "data = [[0, 1], [2, 3]]\n",
    "tensor.new_tensor(data)"
   ]
  },
  {
   "cell_type": "code",
   "execution_count": 5,
   "id": "5b55ff14",
   "metadata": {},
   "outputs": [
    {
     "data": {
      "text/plain": [
       "tensor([[3.1416, 3.1416, 3.1416, 3.1416],\n",
       "        [3.1416, 3.1416, 3.1416, 3.1416],\n",
       "        [3.1416, 3.1416, 3.1416, 3.1416]])"
      ]
     },
     "execution_count": 5,
     "metadata": {},
     "output_type": "execute_result"
    }
   ],
   "source": [
    "tensor.new_full((3, 4), 3.141592)"
   ]
  },
  {
   "cell_type": "code",
   "execution_count": 6,
   "id": "1e121cfc",
   "metadata": {},
   "outputs": [
    {
     "data": {
      "text/plain": [
       "tensor([[8.1763e-19, 4.5914e-41, 8.1763e-19],\n",
       "        [4.5914e-41, 8.1763e-19, 4.5914e-41]])"
      ]
     },
     "execution_count": 6,
     "metadata": {},
     "output_type": "execute_result"
    }
   ],
   "source": [
    "tensor.new_empty(2, 3)"
   ]
  },
  {
   "cell_type": "code",
   "execution_count": 7,
   "id": "c61381a0",
   "metadata": {},
   "outputs": [
    {
     "data": {
      "text/plain": [
       "tensor([[1., 1., 1.],\n",
       "        [1., 1., 1.]])"
      ]
     },
     "execution_count": 7,
     "metadata": {},
     "output_type": "execute_result"
    }
   ],
   "source": [
    "tensor.new_ones((2, 3))"
   ]
  },
  {
   "cell_type": "code",
   "execution_count": 8,
   "id": "e09dcee6",
   "metadata": {},
   "outputs": [
    {
     "data": {
      "text/plain": [
       "tensor([[0., 0., 0.],\n",
       "        [0., 0., 0.]])"
      ]
     },
     "execution_count": 8,
     "metadata": {},
     "output_type": "execute_result"
    }
   ],
   "source": [
    "tensor.new_zeros((2, 3))"
   ]
  },
  {
   "cell_type": "code",
   "execution_count": 9,
   "id": "ea36a725",
   "metadata": {},
   "outputs": [
    {
     "data": {
      "text/plain": [
       "tensor([-1.7403,  1.3484,  0.4774,  0.0943])"
      ]
     },
     "execution_count": 9,
     "metadata": {},
     "output_type": "execute_result"
    }
   ],
   "source": [
    "x = torch.randn(4, dtype=torch.cfloat)\n",
    "x.real"
   ]
  },
  {
   "cell_type": "code",
   "execution_count": 10,
   "id": "06c83bf1",
   "metadata": {},
   "outputs": [
    {
     "data": {
      "text/plain": [
       "tensor([-0.2667, -0.5747, -0.2328,  0.3867])"
      ]
     },
     "execution_count": 10,
     "metadata": {},
     "output_type": "execute_result"
    }
   ],
   "source": [
    "x.imag"
   ]
  },
  {
   "cell_type": "code",
   "execution_count": 12,
   "id": "5d053bb9",
   "metadata": {},
   "outputs": [
    {
     "data": {
      "text/plain": [
       "tensor([[5., 0., 0.],\n",
       "        [0., 5., 0.],\n",
       "        [0., 0., 5.]])"
      ]
     },
     "execution_count": 12,
     "metadata": {},
     "output_type": "execute_result"
    }
   ],
   "source": [
    "a = torch.zeros(3, 3)\n",
    "a.fill_diagonal_(5)"
   ]
  },
  {
   "cell_type": "code",
   "execution_count": 13,
   "id": "24df84e9",
   "metadata": {},
   "outputs": [
    {
     "name": "stdout",
     "output_type": "stream",
     "text": [
      "torch.Size([3, 1])\n"
     ]
    },
    {
     "data": {
      "text/plain": [
       "tensor([[1, 1, 1, 1],\n",
       "        [2, 2, 2, 2],\n",
       "        [3, 3, 3, 3]])"
      ]
     },
     "execution_count": 13,
     "metadata": {},
     "output_type": "execute_result"
    }
   ],
   "source": [
    "x = torch.tensor([[1], [2], [3]])\n",
    "print(x.size())\n",
    "x.expand(3, 4)"
   ]
  },
  {
   "cell_type": "code",
   "execution_count": 14,
   "id": "c215bd37",
   "metadata": {},
   "outputs": [
    {
     "data": {
      "text/plain": [
       "tensor([-13.8011,  69.9816, -77.2708])"
      ]
     },
     "execution_count": 14,
     "metadata": {},
     "output_type": "execute_result"
    }
   ],
   "source": [
    "a = torch.randn(3)\n",
    "torch.mul(a, 100)"
   ]
  },
  {
   "cell_type": "code",
   "execution_count": 16,
   "id": "a31aed32",
   "metadata": {},
   "outputs": [
    {
     "data": {
      "text/plain": [
       "tensor([0.0000, 0.0000, 0.0000, 3.1400])"
      ]
     },
     "execution_count": 16,
     "metadata": {},
     "output_type": "execute_result"
    }
   ],
   "source": [
    "x = torch.tensor([float('nan'), float('nan'), -float('nan'), 3.14])\n",
    "torch.nan_to_num(x)"
   ]
  },
  {
   "cell_type": "code",
   "execution_count": 17,
   "id": "a2b48c2e",
   "metadata": {},
   "outputs": [
    {
     "data": {
      "text/plain": [
       "tensor([[ 2.,  3.,  4.],\n",
       "        [ 1.,  1.,  1.],\n",
       "        [ 8.,  9., 10.],\n",
       "        [ 1.,  1.,  1.],\n",
       "        [ 5.,  6.,  7.]])"
      ]
     },
     "execution_count": 17,
     "metadata": {},
     "output_type": "execute_result"
    }
   ],
   "source": [
    "x = torch.ones(5, 3)\n",
    "t = torch.tensor([[1, 2, 3], [4, 5, 6], [7, 8, 9]], dtype=torch.float)\n",
    "index = torch.tensor([0, 4, 2])\n",
    "x.index_add_(0, index, t)"
   ]
  },
  {
   "cell_type": "code",
   "execution_count": 18,
   "id": "851a165e",
   "metadata": {},
   "outputs": [
    {
     "data": {
      "text/plain": [
       "tensor([[1., 2., 3.],\n",
       "        [0., 0., 0.],\n",
       "        [7., 8., 9.],\n",
       "        [0., 0., 0.],\n",
       "        [4., 5., 6.]])"
      ]
     },
     "execution_count": 18,
     "metadata": {},
     "output_type": "execute_result"
    }
   ],
   "source": [
    "x = torch.zeros(5, 3)\n",
    "t = torch.tensor([[1, 2, 3], [4, 5, 6], [7, 8, 9]], dtype=torch.float)\n",
    "index = torch.tensor([0, 4, 2])\n",
    "x.index_copy_(0, index, t)"
   ]
  },
  {
   "cell_type": "code",
   "execution_count": 19,
   "id": "5c074411",
   "metadata": {},
   "outputs": [
    {
     "data": {
      "text/plain": [
       "tensor([[-1,  2, -1],\n",
       "        [-1,  5, -1],\n",
       "        [-1,  8, -1]])"
      ]
     },
     "execution_count": 19,
     "metadata": {},
     "output_type": "execute_result"
    }
   ],
   "source": [
    "x = torch.tensor([[1, 2, 3], [4, 5, 6], [7, 8, 9]])\n",
    "index = torch.tensor([0, 2])\n",
    "x.index_fill_(1, index, -1)"
   ]
  },
  {
   "cell_type": "code",
   "execution_count": 20,
   "id": "edbaa96d",
   "metadata": {},
   "outputs": [
    {
     "data": {
      "text/plain": [
       "True"
      ]
     },
     "execution_count": 20,
     "metadata": {},
     "output_type": "execute_result"
    }
   ],
   "source": [
    "a = torch.rand(10, requires_grad=True)\n",
    "a.is_leaf"
   ]
  },
  {
   "cell_type": "code",
   "execution_count": 21,
   "id": "5752a36e",
   "metadata": {},
   "outputs": [
    {
     "data": {
      "text/plain": [
       "1.0"
      ]
     },
     "execution_count": 21,
     "metadata": {},
     "output_type": "execute_result"
    }
   ],
   "source": [
    "x = torch.tensor([1.0])\n",
    "x.item()"
   ]
  },
  {
   "cell_type": "code",
   "execution_count": 22,
   "id": "ed593e24",
   "metadata": {},
   "outputs": [
    {
     "name": "stdout",
     "output_type": "stream",
     "text": [
      "tensor([[1, 2, 3],\n",
      "        [4, 5, 6]])\n",
      "tensor([[2, 3],\n",
      "        [5, 6],\n",
      "        [8, 9]])\n"
     ]
    }
   ],
   "source": [
    "x = torch.tensor([[1, 2, 3], [4, 5, 6], [7, 8, 9]])\n",
    "print(x.narrow(0, 0, 2))\n",
    "print(x.narrow(1, 1, 2))"
   ]
  },
  {
   "cell_type": "code",
   "execution_count": 23,
   "id": "610ee84e",
   "metadata": {},
   "outputs": [
    {
     "data": {
      "text/plain": [
       "tensor([[ 4,  9,  5],\n",
       "        [10,  7,  8]])"
      ]
     },
     "execution_count": 23,
     "metadata": {},
     "output_type": "execute_result"
    }
   ],
   "source": [
    "src = torch.tensor([[4, 3, 5], [6, 7, 8]])\n",
    "src.put_(torch.tensor([1, 3]), torch.tensor([9, 10]))"
   ]
  },
  {
   "cell_type": "code",
   "execution_count": 24,
   "id": "7ea28f58",
   "metadata": {},
   "outputs": [
    {
     "name": "stdout",
     "output_type": "stream",
     "text": [
      "tensor([2., 4., 6.])\n"
     ]
    }
   ],
   "source": [
    "v = torch.tensor([0., 0., 0.], requires_grad=True)\n",
    "h = v.register_hook(lambda grad: grad * 2)\n",
    "v.backward(torch.tensor([1, 2, 3]))\n",
    "print(v.grad)\n",
    "h.remove()"
   ]
  },
  {
   "cell_type": "code",
   "execution_count": 25,
   "id": "6e991bd7",
   "metadata": {},
   "outputs": [
    {
     "name": "stdout",
     "output_type": "stream",
     "text": [
      "tensor([[1, 2, 3, 1, 2, 3],\n",
      "        [1, 2, 3, 1, 2, 3],\n",
      "        [1, 2, 3, 1, 2, 3],\n",
      "        [1, 2, 3, 1, 2, 3]])\n",
      "torch.Size([4, 2, 3])\n"
     ]
    }
   ],
   "source": [
    "x = torch.tensor([1, 2, 3])\n",
    "print(x.repeat(4, 2))\n",
    "print(x.repeat(4, 2, 1).size())"
   ]
  },
  {
   "cell_type": "code",
   "execution_count": 27,
   "id": "f6d591bb",
   "metadata": {},
   "outputs": [
    {
     "data": {
      "text/plain": [
       "tensor([[1, 2],\n",
       "        [3, 4]])"
      ]
     },
     "execution_count": 27,
     "metadata": {},
     "output_type": "execute_result"
    }
   ],
   "source": [
    "x = torch.tensor([[1, 2], [3, 4], [5, 6]])\n",
    "x.resize_(2, 2)"
   ]
  },
  {
   "cell_type": "code",
   "execution_count": 28,
   "id": "866fe740",
   "metadata": {},
   "outputs": [
    {
     "data": {
      "text/plain": [
       "tensor([[1, 0, 0, 4, 0],\n",
       "        [0, 2, 0, 0, 0],\n",
       "        [0, 0, 3, 0, 0]])"
      ]
     },
     "execution_count": 28,
     "metadata": {},
     "output_type": "execute_result"
    }
   ],
   "source": [
    "src = torch.arange(1, 11).reshape((2, 5))\n",
    "index = torch.tensor([[0, 1, 2, 0]])\n",
    "torch.zeros(3, 5, dtype=src.dtype).scatter_(0, index, src)"
   ]
  },
  {
   "cell_type": "code",
   "execution_count": 29,
   "id": "a7060fad",
   "metadata": {},
   "outputs": [
    {
     "data": {
      "text/plain": [
       "tensor([[1., 0., 0., 1., 1.],\n",
       "        [0., 1., 0., 0., 0.],\n",
       "        [0., 0., 1., 0., 0.]])"
      ]
     },
     "execution_count": 29,
     "metadata": {},
     "output_type": "execute_result"
    }
   ],
   "source": [
    "src = torch.ones((2, 5))\n",
    "index = torch.tensor([[0, 1, 2, 0, 0]])\n",
    "torch.zeros(3, 5, dtype=src.dtype).scatter_add_(0, index, src)"
   ]
  },
  {
   "cell_type": "code",
   "execution_count": 30,
   "id": "2ca48056",
   "metadata": {},
   "outputs": [
    {
     "data": {
      "text/plain": [
       "tensor(indices=tensor([[0, 1, 2, 3, 3],\n",
       "                       [3, 3, 4, 3, 4]]),\n",
       "       values=tensor([[[ 0.9443, -1.4943],\n",
       "                       [ 1.0882,  0.2455]],\n",
       "\n",
       "                      [[ 0.9695, -0.9975],\n",
       "                       [-1.4436, -0.0160]],\n",
       "\n",
       "                      [[ 0.5771,  1.6187],\n",
       "                       [-1.4719,  0.8282]],\n",
       "\n",
       "                      [[ 0.6463, -0.1666],\n",
       "                       [-1.2128, -1.1834]],\n",
       "\n",
       "                      [[ 1.0901,  0.1475],\n",
       "                       [ 0.2947,  0.5526]]]),\n",
       "       size=(5, 5, 2, 2), nnz=5, layout=torch.sparse_coo)"
      ]
     },
     "execution_count": 30,
     "metadata": {},
     "output_type": "execute_result"
    }
   ],
   "source": [
    "nse = 5\n",
    "dims = (5, 5, 2, 2)\n",
    "I = torch.cat([torch.randint(0, dims[0], size=(nse, )), torch.randint(0, dims[1], size=(nse,))], 0).reshape(2, nse)\n",
    "V = torch.randn(nse, dims[2], dims[3])\n",
    "S = torch.sparse_coo_tensor(I, V, dims).coalesce()\n",
    "D = torch.randn(dims)\n",
    "D.sparse_mask(S)"
   ]
  },
  {
   "cell_type": "code",
   "execution_count": 31,
   "id": "625e3baf",
   "metadata": {},
   "outputs": [
    {
     "name": "stdout",
     "output_type": "stream",
     "text": [
      "0\n"
     ]
    },
    {
     "data": {
      "text/plain": [
       "3"
      ]
     },
     "execution_count": 31,
     "metadata": {},
     "output_type": "execute_result"
    }
   ],
   "source": [
    "x = torch.tensor([1, 2, 3, 4, 5])\n",
    "print(x.storage_offset())\n",
    "x[3:].storage_offset()"
   ]
  },
  {
   "cell_type": "code",
   "execution_count": 32,
   "id": "e2c6f59d",
   "metadata": {},
   "outputs": [
    {
     "data": {
      "text/plain": [
       " 1\n",
       " 2\n",
       " 3\n",
       " 4\n",
       " 5\n",
       "[torch.LongStorage of size 5]"
      ]
     },
     "execution_count": 32,
     "metadata": {},
     "output_type": "execute_result"
    }
   ],
   "source": [
    "x.storage()"
   ]
  },
  {
   "cell_type": "code",
   "execution_count": 33,
   "id": "7956268b",
   "metadata": {},
   "outputs": [
    {
     "data": {
      "text/plain": [
       "torch.LongStorage"
      ]
     },
     "execution_count": 33,
     "metadata": {},
     "output_type": "execute_result"
    }
   ],
   "source": [
    "x.storage_type()"
   ]
  },
  {
   "cell_type": "code",
   "execution_count": 34,
   "id": "9c4be35d",
   "metadata": {},
   "outputs": [
    {
     "name": "stdout",
     "output_type": "stream",
     "text": [
      "(5, 1)\n",
      "5\n",
      "1\n"
     ]
    }
   ],
   "source": [
    "x = torch.tensor([[1, 2, 3, 4, 5], [6, 7, 8, 9, 10]])\n",
    "print(x.stride())\n",
    "print(x.stride(0))\n",
    "print(x.stride(-1))"
   ]
  },
  {
   "cell_type": "code",
   "execution_count": 35,
   "id": "5e23df0e",
   "metadata": {},
   "outputs": [
    {
     "data": {
      "text/plain": [
       "5"
      ]
     },
     "execution_count": 35,
     "metadata": {},
     "output_type": "execute_result"
    }
   ],
   "source": [
    "x.stride(-2)"
   ]
  },
  {
   "cell_type": "code",
   "execution_count": 36,
   "id": "1e48df87",
   "metadata": {},
   "outputs": [
    {
     "data": {
      "text/plain": [
       "[[0.9553726315498352, 0.8489100933074951],\n",
       " [0.33561378717422485, -0.7141163945198059]]"
      ]
     },
     "execution_count": 36,
     "metadata": {},
     "output_type": "execute_result"
    }
   ],
   "source": [
    "a = torch.randn(2, 2)\n",
    "a.tolist()"
   ]
  },
  {
   "cell_type": "code",
   "execution_count": 37,
   "id": "e8e229d1",
   "metadata": {},
   "outputs": [
    {
     "data": {
      "text/plain": [
       "tensor(indices=tensor([[1, 1],\n",
       "                       [0, 2]]),\n",
       "       values=tensor([ 9, 10]),\n",
       "       size=(3, 3), nnz=2, layout=torch.sparse_coo)"
      ]
     },
     "execution_count": 37,
     "metadata": {},
     "output_type": "execute_result"
    }
   ],
   "source": [
    "d = torch.tensor([[0, 0, 0], [9, 0, 10], [0, 0, 0]])\n",
    "d.to_sparse()"
   ]
  },
  {
   "cell_type": "code",
   "execution_count": 38,
   "id": "b6d4ec72",
   "metadata": {},
   "outputs": [
    {
     "data": {
      "text/plain": [
       "tensor([3, 4])"
      ]
     },
     "execution_count": 38,
     "metadata": {},
     "output_type": "execute_result"
    }
   ],
   "source": [
    "torch.tensor([3, 4])"
   ]
  },
  {
   "cell_type": "code",
   "execution_count": 39,
   "id": "abeaa953",
   "metadata": {},
   "outputs": [
    {
     "data": {
      "text/plain": [
       "tensor([[[2.6912, 1.8653],\n",
       "         [0.0000, 0.0000]],\n",
       "\n",
       "        [[0.0000, 0.0000],\n",
       "         [1.3365, 2.5620]]])"
      ]
     },
     "execution_count": 39,
     "metadata": {},
     "output_type": "execute_result"
    }
   ],
   "source": [
    "def exp_reducer(x):\n",
    "    return x.exp().sum(dim=1)\n",
    "inputs = torch.rand(2, 2)\n",
    "torch.autograd.functional.jacobian(exp_reducer, inputs)"
   ]
  },
  {
   "cell_type": "code",
   "execution_count": 41,
   "id": "2a4430a0",
   "metadata": {},
   "outputs": [
    {
     "data": {
      "text/plain": [
       "tensor([[[2.6912, 1.8653],\n",
       "         [0.0000, 0.0000]],\n",
       "\n",
       "        [[0.0000, 0.0000],\n",
       "         [1.3365, 2.5620]]], grad_fn=<ViewBackward>)"
      ]
     },
     "execution_count": 41,
     "metadata": {},
     "output_type": "execute_result"
    }
   ],
   "source": [
    "torch.autograd.functional.jacobian(exp_reducer, inputs, create_graph=True)"
   ]
  },
  {
   "cell_type": "code",
   "execution_count": 42,
   "id": "fa287850",
   "metadata": {},
   "outputs": [
    {
     "data": {
      "text/plain": [
       "(tensor([[5.0745, 0.0000],\n",
       "         [0.0000, 4.9248]]),\n",
       " tensor([[3., 0.],\n",
       "         [0., 3.]]))"
      ]
     },
     "execution_count": 42,
     "metadata": {},
     "output_type": "execute_result"
    }
   ],
   "source": [
    "def exp_adder(x, y):\n",
    "    return 2 * x.exp() + 3 * y\n",
    "inputs = (torch.rand(2), torch.rand(2))\n",
    "torch.autograd.functional.jacobian(exp_adder, inputs)"
   ]
  },
  {
   "cell_type": "code",
   "execution_count": 44,
   "id": "e2c80236",
   "metadata": {},
   "outputs": [
    {
     "data": {
      "text/plain": [
       "tensor([[[[3.9163, 0.0000],\n",
       "          [0.0000, 0.0000]],\n",
       "\n",
       "         [[0.0000, 0.4943],\n",
       "          [0.0000, 0.0000]]],\n",
       "\n",
       "\n",
       "        [[[0.0000, 0.0000],\n",
       "          [1.6688, 0.0000]],\n",
       "\n",
       "         [[0.0000, 0.0000],\n",
       "          [0.0000, 0.7788]]]])"
      ]
     },
     "execution_count": 44,
     "metadata": {},
     "output_type": "execute_result"
    }
   ],
   "source": [
    "def pow_reducer(x):\n",
    "    return x.pow(3).sum()\n",
    "inputs = torch.rand(2, 2)\n",
    "torch.autograd.functional.hessian(pow_reducer, inputs)"
   ]
  },
  {
   "cell_type": "code",
   "execution_count": 46,
   "id": "b9aecc52",
   "metadata": {},
   "outputs": [
    {
     "data": {
      "text/plain": [
       "tensor([[[[3.9163, 0.0000],\n",
       "          [0.0000, 0.0000]],\n",
       "\n",
       "         [[0.0000, 0.4943],\n",
       "          [0.0000, 0.0000]]],\n",
       "\n",
       "\n",
       "        [[[0.0000, 0.0000],\n",
       "          [1.6688, 0.0000]],\n",
       "\n",
       "         [[0.0000, 0.0000],\n",
       "          [0.0000, 0.7788]]]], grad_fn=<ViewBackward>)"
      ]
     },
     "execution_count": 46,
     "metadata": {},
     "output_type": "execute_result"
    }
   ],
   "source": [
    "torch.autograd.functional.hessian(pow_reducer, inputs, create_graph=True)"
   ]
  },
  {
   "cell_type": "code",
   "execution_count": 47,
   "id": "7dfd2850",
   "metadata": {},
   "outputs": [
    {
     "data": {
      "text/plain": [
       "((tensor([[4., 0.],\n",
       "          [0., 4.]]),\n",
       "  tensor([[0., 0.],\n",
       "          [0., 0.]])),\n",
       " (tensor([[0., 0.],\n",
       "          [0., 0.]]),\n",
       "  tensor([[6., 0.],\n",
       "          [0., 6.]])))"
      ]
     },
     "execution_count": 47,
     "metadata": {},
     "output_type": "execute_result"
    }
   ],
   "source": [
    "def pow_adder_reducer(x, y):\n",
    "    return (2 * x.pow(2) + 3 * y.pow(2)).sum()\n",
    "inputs = (torch.rand(2), torch.rand(2))\n",
    "torch.autograd.functional.hessian(pow_adder_reducer, inputs)"
   ]
  },
  {
   "cell_type": "code",
   "execution_count": 49,
   "id": "0c2df0d1",
   "metadata": {},
   "outputs": [
    {
     "data": {
      "text/plain": [
       "(tensor([7.2699, 8.5261, 5.8531, 7.1571]),\n",
       " tensor([[2.1665, 1.8535, 1.6767, 1.5733],\n",
       "         [1.7948, 2.1881, 1.9738, 2.5695],\n",
       "         [1.6397, 1.5715, 1.4887, 1.1532],\n",
       "         [2.1108, 1.6465, 1.3661, 2.0338]]))"
      ]
     },
     "execution_count": 49,
     "metadata": {},
     "output_type": "execute_result"
    }
   ],
   "source": [
    "def exp_reducer(x):\n",
    "    return x.exp().sum(dim=1)\n",
    "inputs = torch.rand(4, 4)\n",
    "v = torch.ones(4)\n",
    "torch.autograd.functional.vjp(exp_reducer, inputs, v)"
   ]
  },
  {
   "cell_type": "code",
   "execution_count": 50,
   "id": "b1b63baa",
   "metadata": {},
   "outputs": [
    {
     "data": {
      "text/plain": [
       "(tensor([7.2699, 8.5261, 5.8531, 7.1571], grad_fn=<SumBackward1>),\n",
       " tensor([[2.1665, 1.8535, 1.6767, 1.5733],\n",
       "         [1.7948, 2.1881, 1.9738, 2.5695],\n",
       "         [1.6397, 1.5715, 1.4887, 1.1532],\n",
       "         [2.1108, 1.6465, 1.3661, 2.0338]], grad_fn=<MulBackward0>))"
      ]
     },
     "execution_count": 50,
     "metadata": {},
     "output_type": "execute_result"
    }
   ],
   "source": [
    "torch.autograd.functional.vjp(exp_reducer, inputs, v, create_graph=True)"
   ]
  },
  {
   "cell_type": "code",
   "execution_count": 51,
   "id": "5b49eb34",
   "metadata": {},
   "outputs": [
    {
     "data": {
      "text/plain": [
       "(tensor([1.1497, 1.2683]), (tensor([2., 2.]), tensor([3., 3.])))"
      ]
     },
     "execution_count": 51,
     "metadata": {},
     "output_type": "execute_result"
    }
   ],
   "source": [
    "def adder(x, y):\n",
    "    return 2 * x + 3 * y\n",
    "inputs = (torch.rand(2), torch.rand(2))\n",
    "v = torch.ones(2)\n",
    "torch.autograd.functional.vjp(adder, inputs, v)"
   ]
  },
  {
   "cell_type": "code",
   "execution_count": 52,
   "id": "01e2669b",
   "metadata": {},
   "outputs": [
    {
     "data": {
      "text/plain": [
       "(tensor([7.2048, 8.7471, 7.7856, 7.4696]),\n",
       " tensor([7.2048, 8.7471, 7.7856, 7.4696]))"
      ]
     },
     "execution_count": 52,
     "metadata": {},
     "output_type": "execute_result"
    }
   ],
   "source": [
    "def exp_reducer(x):\n",
    "    return x.exp().sum(dim=1)\n",
    "inputs = torch.rand(4, 4)\n",
    "v = torch.ones(4, 4)\n",
    "torch.autograd.functional.jvp(exp_reducer, inputs, v)"
   ]
  },
  {
   "cell_type": "code",
   "execution_count": 53,
   "id": "29def738",
   "metadata": {},
   "outputs": [
    {
     "data": {
      "text/plain": [
       "(tensor([7.2048, 8.7471, 7.7856, 7.4696], grad_fn=<SumBackward1>),\n",
       " tensor([7.2048, 8.7471, 7.7856, 7.4696], grad_fn=<SqueezeBackward1>))"
      ]
     },
     "execution_count": 53,
     "metadata": {},
     "output_type": "execute_result"
    }
   ],
   "source": [
    "torch.autograd.functional.jvp(exp_reducer, inputs, v, create_graph=True)"
   ]
  },
  {
   "cell_type": "code",
   "execution_count": 55,
   "id": "ef4997ea",
   "metadata": {},
   "outputs": [
    {
     "data": {
      "text/plain": [
       "(tensor([2.6025, 1.6639]), tensor([5., 5.]))"
      ]
     },
     "execution_count": 55,
     "metadata": {},
     "output_type": "execute_result"
    }
   ],
   "source": [
    "def adder(x, y):\n",
    "    return 2 * x + 3 * y\n",
    "inputs = (torch.rand(2), torch.rand(2))\n",
    "v = (torch.ones(2), torch.ones(2))\n",
    "torch.autograd.functional.jvp(adder, inputs, v)"
   ]
  },
  {
   "cell_type": "code",
   "execution_count": 56,
   "id": "dd6311a5",
   "metadata": {},
   "outputs": [
    {
     "data": {
      "text/plain": [
       "(tensor(1.0028),\n",
       " tensor([[1.8340, 0.5826],\n",
       "         [5.9434, 0.6685]]))"
      ]
     },
     "execution_count": 56,
     "metadata": {},
     "output_type": "execute_result"
    }
   ],
   "source": [
    "def pow_reducer(x):\n",
    "    return x.pow(3).sum()\n",
    "inputs = torch.rand(2, 2)\n",
    "v = torch.ones(2, 2)\n",
    "torch.autograd.functional.vhp(pow_reducer, inputs, v)"
   ]
  },
  {
   "cell_type": "code",
   "execution_count": 57,
   "id": "2a612656",
   "metadata": {},
   "outputs": [
    {
     "data": {
      "text/plain": [
       "(tensor(1.0028, grad_fn=<SumBackward0>),\n",
       " tensor([[1.8340, 0.5826],\n",
       "         [5.9434, 0.6685]], grad_fn=<MulBackward0>))"
      ]
     },
     "execution_count": 57,
     "metadata": {},
     "output_type": "execute_result"
    }
   ],
   "source": [
    "torch.autograd.functional.vhp(pow_reducer, inputs, v, create_graph=True)"
   ]
  },
  {
   "cell_type": "code",
   "execution_count": 58,
   "id": "1906f982",
   "metadata": {},
   "outputs": [
    {
     "data": {
      "text/plain": [
       "(tensor(3.2046), (tensor([0., 0.]), tensor([6., 6.])))"
      ]
     },
     "execution_count": 58,
     "metadata": {},
     "output_type": "execute_result"
    }
   ],
   "source": [
    "def pow_adder_reducer(x, y):\n",
    "    return (2 * x.pow(2) + 3 * y.pow(2)).sum()\n",
    "inputs = (torch.rand(2), torch.rand(2))\n",
    "v = (torch.zeros(2), torch.ones(2))\n",
    "torch.autograd.functional.vhp(pow_adder_reducer, inputs, v)"
   ]
  },
  {
   "cell_type": "code",
   "execution_count": 60,
   "id": "0ae895f9",
   "metadata": {},
   "outputs": [
    {
     "data": {
      "text/plain": [
       "(tensor(1.4239),\n",
       " tensor([[2.9254, 5.6006],\n",
       "         [1.0837, 4.7264]]))"
      ]
     },
     "execution_count": 60,
     "metadata": {},
     "output_type": "execute_result"
    }
   ],
   "source": [
    "def pow_reducer(x):\n",
    "    return x.pow(3).sum()\n",
    "inputs = torch.rand(2, 2)\n",
    "v = torch.ones(2, 2)\n",
    "torch.autograd.functional.hvp(pow_reducer, inputs, v)"
   ]
  },
  {
   "cell_type": "code",
   "execution_count": 61,
   "id": "ddfd8ff0",
   "metadata": {},
   "outputs": [
    {
     "data": {
      "text/plain": [
       "(tensor(1.4239, grad_fn=<SumBackward0>),\n",
       " tensor([[2.9254, 5.6006],\n",
       "         [1.0837, 4.7264]], grad_fn=<MulBackward0>))"
      ]
     },
     "execution_count": 61,
     "metadata": {},
     "output_type": "execute_result"
    }
   ],
   "source": [
    "torch.autograd.functional.hvp(pow_reducer, inputs, v, create_graph=True)"
   ]
  },
  {
   "cell_type": "code",
   "execution_count": 62,
   "id": "9d993e9d",
   "metadata": {},
   "outputs": [
    {
     "data": {
      "text/plain": [
       "(tensor(5.5389), (tensor([0., 0.]), tensor([6., 6.])))"
      ]
     },
     "execution_count": 62,
     "metadata": {},
     "output_type": "execute_result"
    }
   ],
   "source": [
    "def pow_adder_reducer(x, y):\n",
    "    return (2 * x.pow(2) + 3 * y.pow(2)).sum()\n",
    "inputs = (torch.rand(2), torch.rand(2))\n",
    "v = (torch.zeros(2), torch.ones(2))\n",
    "torch.autograd.functional.hvp(pow_adder_reducer, inputs, v)"
   ]
  },
  {
   "cell_type": "code",
   "execution_count": 66,
   "id": "503e6716",
   "metadata": {},
   "outputs": [
    {
     "name": "stdout",
     "output_type": "stream",
     "text": [
      "False\n"
     ]
    }
   ],
   "source": [
    "x = torch.tensor([1.], requires_grad=True)\n",
    "with torch.no_grad():\n",
    "    y = x * 2\n",
    "print(y.requires_grad)\n"
   ]
  },
  {
   "cell_type": "code",
   "execution_count": 67,
   "id": "e3b7fbe8",
   "metadata": {},
   "outputs": [
    {
     "name": "stdout",
     "output_type": "stream",
     "text": [
      "True\n"
     ]
    },
    {
     "data": {
      "text/plain": [
       "True"
      ]
     },
     "execution_count": 67,
     "metadata": {},
     "output_type": "execute_result"
    }
   ],
   "source": [
    "x = torch.tensor([1.], requires_grad=True)\n",
    "with torch.no_grad():\n",
    "    with torch.enable_grad():\n",
    "        y = x * 2\n",
    "print(y.requires_grad)\n",
    "y.backward()\n",
    "x.grad\n",
    "@torch.enable_grad()\n",
    "def doubler(x):\n",
    "    return x * 2\n",
    "with torch.no_grad():\n",
    "    z = doubler(x)\n",
    "z.requires_grad"
   ]
  },
  {
   "cell_type": "code",
   "execution_count": 68,
   "id": "82f17990",
   "metadata": {},
   "outputs": [
    {
     "name": "stdout",
     "output_type": "stream",
     "text": [
      "False\n",
      "True\n"
     ]
    },
    {
     "data": {
      "text/plain": [
       "False"
      ]
     },
     "execution_count": 68,
     "metadata": {},
     "output_type": "execute_result"
    }
   ],
   "source": [
    "x = torch.tensor([1.], requires_grad=True)\n",
    "is_train = False\n",
    "with torch.set_grad_enabled(is_train):\n",
    "    y = x * 2\n",
    "print(y.requires_grad)\n",
    "torch.set_grad_enabled(True)\n",
    "y = x * 2\n",
    "print(y.requires_grad)\n",
    "torch.set_grad_enabled(False)\n",
    "y = x * 2\n",
    "y.requires_grad"
   ]
  },
  {
   "cell_type": "code",
   "execution_count": 69,
   "id": "95bf1de8",
   "metadata": {},
   "outputs": [
    {
     "name": "stdout",
     "output_type": "stream",
     "text": [
      "False\n"
     ]
    },
    {
     "data": {
      "text/plain": [
       "False"
      ]
     },
     "execution_count": 69,
     "metadata": {},
     "output_type": "execute_result"
    }
   ],
   "source": [
    "x = torch.ones(1, 2, 3, requires_grad=True)\n",
    "with torch.inference_mode():\n",
    "    y = x * x\n",
    "print(y.requires_grad)\n",
    "@torch.inference_mode()\n",
    "def func(x):\n",
    "    return x * x\n",
    "out = func(x)\n",
    "out.requires_grad"
   ]
  },
  {
   "cell_type": "code",
   "execution_count": 72,
   "id": "12c6380c",
   "metadata": {},
   "outputs": [
    {
     "name": "stdout",
     "output_type": "stream",
     "text": [
      "---------------------  ------------  ------------  ------------  ------------  ------------  ------------  \n",
      "                 Name    Self CPU %      Self CPU   CPU total %     CPU total  CPU time avg    # of Calls  \n",
      "---------------------  ------------  ------------  ------------  ------------  ------------  ------------  \n",
      "            aten::pow        74.50%       1.625ms       100.00%       2.181ms      21.813us           100  \n",
      "    aten::result_type        15.10%     329.300us        15.10%     329.300us       1.646us           200  \n",
      "             aten::to        10.40%     226.900us        10.40%     226.900us       2.269us           100  \n",
      "---------------------  ------------  ------------  ------------  ------------  ------------  ------------  \n",
      "Self CPU time total: 2.181ms\n",
      "\n"
     ]
    }
   ],
   "source": [
    "x = torch.randn((1, 1), requires_grad=True)\n",
    "with torch.autograd.profiler.profile() as prof:\n",
    "    for _ in range(100):\n",
    "        y = x ** 2\n",
    "print(prof.key_averages().table(sort_by=\"self_cpu_time_total\"))"
   ]
  },
  {
   "cell_type": "code",
   "execution_count": 2,
   "id": "1b2ca857",
   "metadata": {},
   "outputs": [
    {
     "data": {
      "text/plain": [
       "b'7'"
      ]
     },
     "execution_count": 2,
     "metadata": {},
     "output_type": "execute_result"
    }
   ],
   "source": [
    "import torch.distributed as dist\n",
    "from datetime import timedelta\n",
    "store = dist.TCPStore(\"127.0.0.1\", 0, 1, True, timedelta(seconds=30))\n",
    "store.add(\"first_key\", 1)\n",
    "store.add(\"first_key\", 6)\n",
    "store.get(\"first_key\")"
   ]
  },
  {
   "cell_type": "code",
   "execution_count": 3,
   "id": "20bc69d6",
   "metadata": {},
   "outputs": [
    {
     "data": {
      "text/plain": [
       "b'second_value'"
      ]
     },
     "execution_count": 3,
     "metadata": {},
     "output_type": "execute_result"
    }
   ],
   "source": [
    "store = dist.TCPStore(\"127.0.0.1\", 0, 1, True, timedelta(seconds=30))\n",
    "store.set(\"key\", \"first_value\")\n",
    "store.compare_set(\"key\", \"first_value\", \"second_value\")\n",
    "store.get(\"key\")"
   ]
  },
  {
   "cell_type": "code",
   "execution_count": 8,
   "id": "bf320199",
   "metadata": {},
   "outputs": [
    {
     "data": {
      "text/plain": [
       "2"
      ]
     },
     "execution_count": 8,
     "metadata": {},
     "output_type": "execute_result"
    }
   ],
   "source": [
    "stores = dist.TCPStore(\"127.0.0.1\", 0, 1, True, timedelta(seconds=30))\n",
    "stores.set(\"first_key\", \"first_value\")\n",
    "stores.num_keys()"
   ]
  },
  {
   "cell_type": "code",
   "execution_count": 11,
   "id": "a7e01628",
   "metadata": {},
   "outputs": [
    {
     "data": {
      "text/plain": [
       "False"
      ]
     },
     "execution_count": 11,
     "metadata": {},
     "output_type": "execute_result"
    }
   ],
   "source": [
    "store = dist.TCPStore(\"127.0.0.1\", 0, 1, True, timedelta(seconds=30))\n",
    "store.set(\"first_key\", \"first_value\")\n",
    "store.delete_key(\"first_key\")\n",
    "store.delete_key(\"bad_key\")"
   ]
  },
  {
   "cell_type": "code",
   "execution_count": 2,
   "id": "a44ab810",
   "metadata": {},
   "outputs": [
    {
     "data": {
      "text/plain": [
       "tensor([0.])"
      ]
     },
     "execution_count": 2,
     "metadata": {},
     "output_type": "execute_result"
    }
   ],
   "source": [
    "m = torch.distributions.bernoulli.Bernoulli(torch.tensor([0.3]))\n",
    "m.sample()"
   ]
  },
  {
   "cell_type": "code",
   "execution_count": 4,
   "id": "3048d1f3",
   "metadata": {},
   "outputs": [
    {
     "data": {
      "text/plain": [
       "tensor([0.6360])"
      ]
     },
     "execution_count": 4,
     "metadata": {},
     "output_type": "execute_result"
    }
   ],
   "source": [
    "m = torch.distributions.beta.Beta(torch.tensor([0.5]), torch.tensor([0.5]))\n",
    "m.sample()"
   ]
  },
  {
   "cell_type": "code",
   "execution_count": 5,
   "id": "e4ef7133",
   "metadata": {},
   "outputs": [
    {
     "data": {
      "text/plain": [
       "tensor([[2., 4.],\n",
       "        [2., 8.]])"
      ]
     },
     "execution_count": 5,
     "metadata": {},
     "output_type": "execute_result"
    }
   ],
   "source": [
    "m = torch.distributions.Binomial(torch.tensor([[5.], [10.]]), torch.tensor([0.5, 0.8]))\n",
    "m.sample()"
   ]
  },
  {
   "cell_type": "code",
   "execution_count": 6,
   "id": "506ab110",
   "metadata": {},
   "outputs": [
    {
     "data": {
      "text/plain": [
       "tensor(0)"
      ]
     },
     "execution_count": 6,
     "metadata": {},
     "output_type": "execute_result"
    }
   ],
   "source": [
    "m = torch.distributions.categorical.Categorical(torch.tensor([0.25, 0.25, 0.25, 0.25]))\n",
    "m.sample()"
   ]
  },
  {
   "cell_type": "code",
   "execution_count": 10,
   "id": "3762990c",
   "metadata": {},
   "outputs": [
    {
     "data": {
      "text/plain": [
       "tensor([[ 2.7839],\n",
       "        [-8.1600],\n",
       "        [-3.3887],\n",
       "        [-0.4450],\n",
       "        [ 0.2681]])"
      ]
     },
     "execution_count": 10,
     "metadata": {},
     "output_type": "execute_result"
    }
   ],
   "source": [
    "m = torch.distributions.cauchy.Cauchy(torch.tensor([0.0]), torch.tensor([1.0]))\n",
    "m.sample(torch.tensor([5]))"
   ]
  },
  {
   "cell_type": "code",
   "execution_count": 11,
   "id": "6f368be4",
   "metadata": {},
   "outputs": [
    {
     "data": {
      "text/plain": [
       "tensor([0.6199])"
      ]
     },
     "execution_count": 11,
     "metadata": {},
     "output_type": "execute_result"
    }
   ],
   "source": [
    "m = torch.distributions.chi2.Chi2(torch.tensor([1.0]))\n",
    "m.sample()"
   ]
  },
  {
   "cell_type": "code",
   "execution_count": 12,
   "id": "9af50020",
   "metadata": {},
   "outputs": [
    {
     "data": {
      "text/plain": [
       "tensor([0.5926])"
      ]
     },
     "execution_count": 12,
     "metadata": {},
     "output_type": "execute_result"
    }
   ],
   "source": [
    "m = torch.distributions.continuous_bernoulli.ContinuousBernoulli(torch.tensor([0.3]))\n",
    "m.sample()"
   ]
  },
  {
   "cell_type": "code",
   "execution_count": 13,
   "id": "748f37bc",
   "metadata": {},
   "outputs": [
    {
     "data": {
      "text/plain": [
       "tensor([0.8366, 0.1634])"
      ]
     },
     "execution_count": 13,
     "metadata": {},
     "output_type": "execute_result"
    }
   ],
   "source": [
    "m = torch.distributions.dirichlet.Dirichlet(torch.tensor([0.5, 0.5]))\n",
    "m.sample()"
   ]
  },
  {
   "cell_type": "code",
   "execution_count": 14,
   "id": "a399ce82",
   "metadata": {},
   "outputs": [
    {
     "data": {
      "text/plain": [
       "tensor([0.3474])"
      ]
     },
     "execution_count": 14,
     "metadata": {},
     "output_type": "execute_result"
    }
   ],
   "source": [
    "m = torch.distributions.exponential.Exponential(torch.tensor([1.0]))\n",
    "m.sample()"
   ]
  },
  {
   "cell_type": "code",
   "execution_count": 15,
   "id": "92fc6dd2",
   "metadata": {},
   "outputs": [
    {
     "data": {
      "text/plain": [
       "tensor([0.0596])"
      ]
     },
     "execution_count": 15,
     "metadata": {},
     "output_type": "execute_result"
    }
   ],
   "source": [
    "m = torch.distributions.fishersnedecor.FisherSnedecor(torch.tensor([2.0]), torch.tensor([2.0]))\n",
    "m.sample()"
   ]
  },
  {
   "cell_type": "code",
   "execution_count": 16,
   "id": "cff940c6",
   "metadata": {},
   "outputs": [
    {
     "data": {
      "text/plain": [
       "tensor([1.6926])"
      ]
     },
     "execution_count": 16,
     "metadata": {},
     "output_type": "execute_result"
    }
   ],
   "source": [
    "m = torch.distributions.gamma.Gamma(torch.tensor([1.0]), torch.tensor([1.0]))\n",
    "m.sample()"
   ]
  },
  {
   "cell_type": "code",
   "execution_count": 17,
   "id": "aaa6092c",
   "metadata": {},
   "outputs": [
    {
     "data": {
      "text/plain": [
       "tensor([4.])"
      ]
     },
     "execution_count": 17,
     "metadata": {},
     "output_type": "execute_result"
    }
   ],
   "source": [
    "m = torch.distributions.geometric.Geometric(torch.tensor([0.3]))\n",
    "m.sample()"
   ]
  },
  {
   "cell_type": "code",
   "execution_count": 18,
   "id": "50e487dc",
   "metadata": {},
   "outputs": [
    {
     "data": {
      "text/plain": [
       "tensor([-2.5936])"
      ]
     },
     "execution_count": 18,
     "metadata": {},
     "output_type": "execute_result"
    }
   ],
   "source": [
    "m = torch.distributions.gumbel.Gumbel(torch.tensor([1.0]), torch.tensor([2.0]))\n",
    "m.sample()"
   ]
  },
  {
   "cell_type": "code",
   "execution_count": 19,
   "id": "f8fd4e04",
   "metadata": {},
   "outputs": [
    {
     "data": {
      "text/plain": [
       "tensor([2.3153])"
      ]
     },
     "execution_count": 19,
     "metadata": {},
     "output_type": "execute_result"
    }
   ],
   "source": [
    "m = torch.distributions.half_cauchy.HalfCauchy(torch.tensor([1.0]))\n",
    "m.sample()"
   ]
  },
  {
   "cell_type": "code",
   "execution_count": 20,
   "id": "5ea2570d",
   "metadata": {},
   "outputs": [
    {
     "data": {
      "text/plain": [
       "tensor([1.4291])"
      ]
     },
     "execution_count": 20,
     "metadata": {},
     "output_type": "execute_result"
    }
   ],
   "source": [
    "m = torch.distributions.half_normal.HalfNormal(torch.tensor([1.0]))\n",
    "m.sample()"
   ]
  },
  {
   "cell_type": "code",
   "execution_count": 21,
   "id": "a943b2c0",
   "metadata": {},
   "outputs": [
    {
     "name": "stdout",
     "output_type": "stream",
     "text": [
      "[torch.Size([3]), torch.Size([])]\n"
     ]
    },
    {
     "data": {
      "text/plain": [
       "[torch.Size([]), torch.Size([3])]"
      ]
     },
     "execution_count": 21,
     "metadata": {},
     "output_type": "execute_result"
    }
   ],
   "source": [
    "loc = torch.zeros(3)\n",
    "scale = torch.ones(3)\n",
    "normal = torch.distributions.normal.Normal(loc, scale)\n",
    "print([normal.batch_shape, normal.event_shape])\n",
    "diagn = torch.distributions.independent.Independent(normal, 1)\n",
    "[diagn.batch_shape, diagn.event_shape]"
   ]
  },
  {
   "cell_type": "code",
   "execution_count": 23,
   "id": "a2019553",
   "metadata": {},
   "outputs": [
    {
     "data": {
      "text/plain": [
       "tensor([0.2266])"
      ]
     },
     "execution_count": 23,
     "metadata": {},
     "output_type": "execute_result"
    }
   ],
   "source": [
    "m = torch.distributions.kumaraswamy.Kumaraswamy(torch.tensor([1.0]), torch.tensor([1.0]))\n",
    "m.sample()"
   ]
  },
  {
   "cell_type": "code",
   "execution_count": 26,
   "id": "102f02e3",
   "metadata": {},
   "outputs": [
    {
     "data": {
      "text/plain": [
       "tensor([[ 1.0000,  0.0000,  0.0000],\n",
       "        [ 0.8650,  0.5017,  0.0000],\n",
       "        [-0.3346, -0.8003,  0.4976]])"
      ]
     },
     "execution_count": 26,
     "metadata": {},
     "output_type": "execute_result"
    }
   ],
   "source": [
    "m = torch.distributions.lkj_cholesky.LKJCholesky(3, 0.5)\n",
    "m.sample()"
   ]
  },
  {
   "cell_type": "code",
   "execution_count": 27,
   "id": "2108ab15",
   "metadata": {},
   "outputs": [
    {
     "data": {
      "text/plain": [
       "tensor([5.0860])"
      ]
     },
     "execution_count": 27,
     "metadata": {},
     "output_type": "execute_result"
    }
   ],
   "source": [
    "m = torch.distributions.laplace.Laplace(torch.tensor([0.0]), torch.tensor([1.0]))\n",
    "m.sample()"
   ]
  },
  {
   "cell_type": "code",
   "execution_count": 29,
   "id": "3e85322b",
   "metadata": {},
   "outputs": [
    {
     "data": {
      "text/plain": [
       "tensor([0.2379])"
      ]
     },
     "execution_count": 29,
     "metadata": {},
     "output_type": "execute_result"
    }
   ],
   "source": [
    "m = torch.distributions.log_normal.LogNormal(torch.tensor([0.0]), torch.tensor([1.0]))\n",
    "m.sample()"
   ]
  },
  {
   "cell_type": "code",
   "execution_count": 34,
   "id": "018e0d16",
   "metadata": {},
   "outputs": [
    {
     "data": {
      "text/plain": [
       "tensor([ 0.4133, -0.6794])"
      ]
     },
     "execution_count": 34,
     "metadata": {},
     "output_type": "execute_result"
    }
   ],
   "source": [
    "m = torch.distributions.lowrank_multivariate_normal.LowRankMultivariateNormal(torch.zeros(2), \n",
    "                                                                              torch.tensor([[1.], [0.]]), torch.ones(2))\n",
    "m.sample()"
   ]
  },
  {
   "cell_type": "code",
   "execution_count": 38,
   "id": "1cee707f",
   "metadata": {},
   "outputs": [],
   "source": [
    "mix = torch.distributions.categorical.Categorical(torch.ones(5, ))\n",
    "comp = torch.distributions.normal.Normal(torch.randn(5, ), torch.rand(5,))\n",
    "gmm = torch.distributions.mixture_same_family.MixtureSameFamily(mix, comp)"
   ]
  },
  {
   "cell_type": "code",
   "execution_count": 39,
   "id": "7ebf364f",
   "metadata": {},
   "outputs": [
    {
     "data": {
      "text/plain": [
       "tensor([23., 24., 24., 29.])"
      ]
     },
     "execution_count": 39,
     "metadata": {},
     "output_type": "execute_result"
    }
   ],
   "source": [
    "m = torch.distributions.multinomial.Multinomial(100, torch.tensor([1., 1., 1., 1.]))\n",
    "m.sample()"
   ]
  },
  {
   "cell_type": "code",
   "execution_count": 40,
   "id": "8a32b86b",
   "metadata": {},
   "outputs": [
    {
     "data": {
      "text/plain": [
       "tensor([ 0.3467, -0.1596])"
      ]
     },
     "execution_count": 40,
     "metadata": {},
     "output_type": "execute_result"
    }
   ],
   "source": [
    "m = torch.distributions.multivariate_normal.MultivariateNormal(torch.zeros(2), torch.eye(2))\n",
    "m.sample()"
   ]
  },
  {
   "cell_type": "code",
   "execution_count": 41,
   "id": "467cfecb",
   "metadata": {},
   "outputs": [
    {
     "data": {
      "text/plain": [
       "tensor([1.5626])"
      ]
     },
     "execution_count": 41,
     "metadata": {},
     "output_type": "execute_result"
    }
   ],
   "source": [
    "m = torch.distributions.normal.Normal(torch.tensor([0.0]), torch.tensor([1.0]))\n",
    "m.sample()"
   ]
  },
  {
   "cell_type": "code",
   "execution_count": 42,
   "id": "e0865ecb",
   "metadata": {},
   "outputs": [
    {
     "data": {
      "text/plain": [
       "tensor([0., 0., 0., 1.])"
      ]
     },
     "execution_count": 42,
     "metadata": {},
     "output_type": "execute_result"
    }
   ],
   "source": [
    "m = torch.distributions.one_hot_categorical.OneHotCategorical(torch.tensor([0.25, 0.25, 0.25, 0.25]))\n",
    "m.sample()"
   ]
  },
  {
   "cell_type": "code",
   "execution_count": 45,
   "id": "19e1d47e",
   "metadata": {},
   "outputs": [
    {
     "data": {
      "text/plain": [
       "tensor([3.5552])"
      ]
     },
     "execution_count": 45,
     "metadata": {},
     "output_type": "execute_result"
    }
   ],
   "source": [
    "m = torch.distributions.pareto.Pareto(torch.tensor([1.0]), torch.tensor([1.0]))\n",
    "m.sample()"
   ]
  },
  {
   "cell_type": "code",
   "execution_count": 47,
   "id": "dd57240e",
   "metadata": {},
   "outputs": [
    {
     "data": {
      "text/plain": [
       "tensor([2.])"
      ]
     },
     "execution_count": 47,
     "metadata": {},
     "output_type": "execute_result"
    }
   ],
   "source": [
    "m = torch.distributions.poisson.Poisson(torch.tensor([4.]))\n",
    "m.sample()"
   ]
  },
  {
   "cell_type": "code",
   "execution_count": 55,
   "id": "ee83a875",
   "metadata": {},
   "outputs": [
    {
     "data": {
      "text/plain": [
       "tensor([-1.4547])"
      ]
     },
     "execution_count": 55,
     "metadata": {},
     "output_type": "execute_result"
    }
   ],
   "source": [
    "m = torch.distributions.studentT.StudentT(torch.tensor([2.0]))\n",
    "m.sample()"
   ]
  },
  {
   "cell_type": "code",
   "execution_count": 57,
   "id": "a20b626c",
   "metadata": {},
   "outputs": [
    {
     "data": {
      "text/plain": [
       "tensor([4.1212])"
      ]
     },
     "execution_count": 57,
     "metadata": {},
     "output_type": "execute_result"
    }
   ],
   "source": [
    "m = torch.distributions.uniform.Uniform(torch.tensor([0.0]), torch.tensor([5.0]))\n",
    "m.sample()"
   ]
  },
  {
   "cell_type": "code",
   "execution_count": 58,
   "id": "80ef4842",
   "metadata": {},
   "outputs": [
    {
     "data": {
      "text/plain": [
       "tensor([1.1578])"
      ]
     },
     "execution_count": 58,
     "metadata": {},
     "output_type": "execute_result"
    }
   ],
   "source": [
    "m = torch.distributions.von_mises.VonMises(torch.tensor([1.0]), torch.tensor([1.0]))\n",
    "m.sample()"
   ]
  },
  {
   "cell_type": "code",
   "execution_count": 60,
   "id": "700bde1d",
   "metadata": {},
   "outputs": [
    {
     "data": {
      "text/plain": [
       "tensor([0.7256])"
      ]
     },
     "execution_count": 60,
     "metadata": {},
     "output_type": "execute_result"
    }
   ],
   "source": [
    "m = torch.distributions.weibull.Weibull(torch.tensor([1.0]), torch.tensor([1.0]))\n",
    "m.sample()"
   ]
  },
  {
   "cell_type": "code",
   "execution_count": 62,
   "id": "de9706de",
   "metadata": {},
   "outputs": [
    {
     "data": {
      "text/plain": [
       "tensor([ 6.+0.j, -2.+2.j, -2.+0.j, -2.-2.j])"
      ]
     },
     "execution_count": 62,
     "metadata": {},
     "output_type": "execute_result"
    }
   ],
   "source": [
    "t = torch.arange(4)\n",
    "torch.fft.fft(t)"
   ]
  },
  {
   "cell_type": "code",
   "execution_count": 64,
   "id": "e630e2c9",
   "metadata": {},
   "outputs": [
    {
     "data": {
      "text/plain": [
       "tensor([0.+0.j, 1.+0.j, 2.+0.j, 3.+0.j])"
      ]
     },
     "execution_count": 64,
     "metadata": {},
     "output_type": "execute_result"
    }
   ],
   "source": [
    "t = torch.tensor([6. + 0.j, -2.+2.j, -2 + 0.j, -2.-2.j])\n",
    "torch.fft.ifft(t)"
   ]
  },
  {
   "cell_type": "code",
   "execution_count": 66,
   "id": "80fa41f2",
   "metadata": {},
   "outputs": [],
   "source": [
    "x = torch.rand(10, 10, dtype=torch.complex64)\n",
    "fft2 = torch.fft.fft2(x)\n",
    "two_ffts = torch.fft.fft(torch.fft.fft(x, dim=0), dim=1)\n",
    "torch.testing.assert_close(fft2, two_ffts, check_stride=False)"
   ]
  },
  {
   "cell_type": "code",
   "execution_count": 67,
   "id": "1fd896cc",
   "metadata": {},
   "outputs": [],
   "source": [
    "x = torch.rand(10, 10, dtype=torch.complex64)\n",
    "fft2 = torch.fft.ifft2(x)\n",
    "two_ffts = torch.fft.ifft(torch.fft.ifft(x, dim=0), dim=1)\n",
    "torch.testing.assert_close(fft2, two_ffts, check_stride=False)"
   ]
  },
  {
   "cell_type": "code",
   "execution_count": 68,
   "id": "c1c6b1aa",
   "metadata": {},
   "outputs": [],
   "source": [
    "x = torch.rand(10, 10, dtype=torch.complex64)\n",
    "fft2 = torch.fft.fftn(x)\n",
    "two_ffts = torch.fft.fft(torch.fft.fft(x, dim=0), dim=1)\n",
    "torch.testing.assert_close(fft2, two_ffts, check_stride=False)"
   ]
  },
  {
   "cell_type": "code",
   "execution_count": 69,
   "id": "b41376b8",
   "metadata": {},
   "outputs": [],
   "source": [
    "x = torch.rand(10, 10, dtype=torch.complex64)\n",
    "fft2 = torch.fft.ifftn(x)\n",
    "two_ffts = torch.fft.ifft(torch.fft.ifft(x, dim=0), dim=1)\n",
    "torch.testing.assert_close(fft2, two_ffts, check_stride=False)"
   ]
  },
  {
   "cell_type": "code",
   "execution_count": 70,
   "id": "35b917e4",
   "metadata": {},
   "outputs": [
    {
     "data": {
      "text/plain": [
       "tensor([ 6.+0.j, -2.+2.j, -2.+0.j])"
      ]
     },
     "execution_count": 70,
     "metadata": {},
     "output_type": "execute_result"
    }
   ],
   "source": [
    "t = torch.arange(4)\n",
    "torch.fft.rfft(t)"
   ]
  },
  {
   "cell_type": "code",
   "execution_count": 71,
   "id": "22cc49be",
   "metadata": {},
   "outputs": [
    {
     "data": {
      "text/plain": [
       "tensor([0.1562, 0.3511, 0.7812, 1.2114])"
      ]
     },
     "execution_count": 71,
     "metadata": {},
     "output_type": "execute_result"
    }
   ],
   "source": [
    "t = torch.linspace(0, 1, 5)\n",
    "T = torch.fft.rfft(t)\n",
    "torch.fft.irfft(T)"
   ]
  },
  {
   "cell_type": "code",
   "execution_count": 72,
   "id": "c20d9e9e",
   "metadata": {},
   "outputs": [
    {
     "data": {
      "text/plain": [
       "torch.Size([10, 6])"
      ]
     },
     "execution_count": 72,
     "metadata": {},
     "output_type": "execute_result"
    }
   ],
   "source": [
    "t = torch.rand(10, 10)\n",
    "rfft2 = torch.fft.rfft2(t)\n",
    "rfft2.size()"
   ]
  },
  {
   "cell_type": "code",
   "execution_count": 73,
   "id": "1a9148d3",
   "metadata": {},
   "outputs": [],
   "source": [
    "t = torch.rand(10, 9)\n",
    "T = torch.fft.rfft2(t)\n",
    "roundtrip = torch.fft.irfft2(T, t.size())\n",
    "torch.testing.assert_close(roundtrip, t, check_stride=False)"
   ]
  },
  {
   "cell_type": "code",
   "execution_count": 74,
   "id": "3dee515e",
   "metadata": {},
   "outputs": [
    {
     "data": {
      "text/plain": [
       "torch.Size([10, 6])"
      ]
     },
     "execution_count": 74,
     "metadata": {},
     "output_type": "execute_result"
    }
   ],
   "source": [
    "t = torch.rand(10, 10)\n",
    "rfftn = torch.fft.rfftn(t)\n",
    "rfftn.size()"
   ]
  },
  {
   "cell_type": "code",
   "execution_count": 75,
   "id": "1023c59a",
   "metadata": {},
   "outputs": [
    {
     "data": {
      "text/plain": [
       "torch.Size([10, 8])"
      ]
     },
     "execution_count": 75,
     "metadata": {},
     "output_type": "execute_result"
    }
   ],
   "source": [
    "t = torch.rand(10, 9)\n",
    "T = torch.fft.rfft(t)\n",
    "torch.fft.irfftn(T).size()"
   ]
  },
  {
   "cell_type": "code",
   "execution_count": 76,
   "id": "ca4e14bc",
   "metadata": {},
   "outputs": [
    {
     "data": {
      "text/plain": [
       "tensor([0.0000, 0.2500, 0.5000, 0.7500, 1.0000])"
      ]
     },
     "execution_count": 76,
     "metadata": {},
     "output_type": "execute_result"
    }
   ],
   "source": [
    "t = torch.linspace(0, 1, 5)\n",
    "T = torch.fft.ifft(t)\n",
    "torch.fft.hfft(T[:3], n=5)"
   ]
  },
  {
   "cell_type": "code",
   "execution_count": 77,
   "id": "74eb0fc3",
   "metadata": {},
   "outputs": [
    {
     "data": {
      "text/plain": [
       "tensor([ 2.0000+-0.0000j, -0.5000-0.6882j, -0.5000-0.1625j])"
      ]
     },
     "execution_count": 77,
     "metadata": {},
     "output_type": "execute_result"
    }
   ],
   "source": [
    "t = torch.arange(5)\n",
    "torch.fft.ihfft(t)"
   ]
  },
  {
   "cell_type": "code",
   "execution_count": 82,
   "id": "b130e4e0",
   "metadata": {},
   "outputs": [
    {
     "data": {
      "text/plain": [
       "tensor([ 0.0000,  0.2000,  0.4000, -0.4000, -0.2000])"
      ]
     },
     "execution_count": 82,
     "metadata": {},
     "output_type": "execute_result"
    }
   ],
   "source": [
    "torch.fft.fftfreq(5)"
   ]
  },
  {
   "cell_type": "code",
   "execution_count": 83,
   "id": "221958f9",
   "metadata": {},
   "outputs": [
    {
     "data": {
      "text/plain": [
       "tensor([0.0000, 0.2000, 0.4000])"
      ]
     },
     "execution_count": 83,
     "metadata": {},
     "output_type": "execute_result"
    }
   ],
   "source": [
    "torch.fft.rfftfreq(5)"
   ]
  },
  {
   "cell_type": "code",
   "execution_count": 84,
   "id": "ceb6c5f4",
   "metadata": {},
   "outputs": [
    {
     "data": {
      "text/plain": [
       "tensor([ 0.0000,  0.2500, -0.5000, -0.2500])"
      ]
     },
     "execution_count": 84,
     "metadata": {},
     "output_type": "execute_result"
    }
   ],
   "source": [
    "f = torch.fft.fftfreq(4)\n",
    "f"
   ]
  },
  {
   "cell_type": "code",
   "execution_count": 88,
   "id": "3f9ffe44",
   "metadata": {},
   "outputs": [
    {
     "data": {
      "text/plain": [
       "tensor([-0.5000, -0.2500,  0.0000,  0.2500])"
      ]
     },
     "execution_count": 88,
     "metadata": {},
     "output_type": "execute_result"
    }
   ],
   "source": [
    "shift = torch.fft.fftshift(f)\n",
    "shift"
   ]
  },
  {
   "cell_type": "code",
   "execution_count": 90,
   "id": "772f2a25",
   "metadata": {},
   "outputs": [
    {
     "data": {
      "text/plain": [
       "tensor([ 0.0000,  0.2500, -0.5000, -0.2500])"
      ]
     },
     "execution_count": 90,
     "metadata": {},
     "output_type": "execute_result"
    }
   ],
   "source": [
    "torch.fft.ifftshift(shift)"
   ]
  },
  {
   "cell_type": "code",
   "execution_count": 92,
   "id": "647d6243",
   "metadata": {},
   "outputs": [
    {
     "name": "stdout",
     "output_type": "stream",
     "text": [
      "This will run after the future has finished.\n",
      "5\n"
     ]
    }
   ],
   "source": [
    "def callback(fut):\n",
    "    print(f\"This will run after the future has finished.\")\n",
    "    print(fut.wait())\n",
    "fut = torch.futures.Future()\n",
    "fut.add_done_callback(callback)\n",
    "fut.set_result(5)"
   ]
  },
  {
   "cell_type": "code",
   "execution_count": 2,
   "id": "194f1383",
   "metadata": {},
   "outputs": [
    {
     "ename": "ValueError",
     "evalue": "foo",
     "output_type": "error",
     "traceback": [
      "\u001b[1;31m---------------------------------------------------------------------------\u001b[0m",
      "\u001b[1;31mValueError\u001b[0m                                Traceback (most recent call last)",
      "\u001b[1;32m<ipython-input-2-0d945e8d6a01>\u001b[0m in \u001b[0;36m<module>\u001b[1;34m\u001b[0m\n\u001b[0;32m      1\u001b[0m \u001b[0mfut\u001b[0m \u001b[1;33m=\u001b[0m \u001b[0mtorch\u001b[0m\u001b[1;33m.\u001b[0m\u001b[0mfutures\u001b[0m\u001b[1;33m.\u001b[0m\u001b[0mFuture\u001b[0m\u001b[1;33m(\u001b[0m\u001b[1;33m)\u001b[0m\u001b[1;33m\u001b[0m\u001b[1;33m\u001b[0m\u001b[0m\n\u001b[0;32m      2\u001b[0m \u001b[0mfut\u001b[0m\u001b[1;33m.\u001b[0m\u001b[0mset_exception\u001b[0m\u001b[1;33m(\u001b[0m\u001b[0mValueError\u001b[0m\u001b[1;33m(\u001b[0m\u001b[1;34m\"foo\"\u001b[0m\u001b[1;33m)\u001b[0m\u001b[1;33m)\u001b[0m\u001b[1;33m\u001b[0m\u001b[1;33m\u001b[0m\u001b[0m\n\u001b[1;32m----> 3\u001b[1;33m \u001b[0mfut\u001b[0m\u001b[1;33m.\u001b[0m\u001b[0mwait\u001b[0m\u001b[1;33m(\u001b[0m\u001b[1;33m)\u001b[0m\u001b[1;33m\u001b[0m\u001b[1;33m\u001b[0m\u001b[0m\n\u001b[0m",
      "\u001b[1;32m~\\anaconda3\\lib\\site-packages\\torch\\futures\\__init__.py\u001b[0m in \u001b[0;36mwait\u001b[1;34m(self)\u001b[0m\n\u001b[0;32m     76\u001b[0m             \u001b[0malso\u001b[0m \u001b[0mthrow\u001b[0m \u001b[0man\u001b[0m \u001b[0merror\u001b[0m\u001b[1;33m.\u001b[0m\u001b[1;33m\u001b[0m\u001b[1;33m\u001b[0m\u001b[0m\n\u001b[0;32m     77\u001b[0m         \"\"\"\n\u001b[1;32m---> 78\u001b[1;33m         \u001b[1;32mreturn\u001b[0m \u001b[0msuper\u001b[0m\u001b[1;33m(\u001b[0m\u001b[1;33m)\u001b[0m\u001b[1;33m.\u001b[0m\u001b[0mwait\u001b[0m\u001b[1;33m(\u001b[0m\u001b[1;33m)\u001b[0m\u001b[1;33m\u001b[0m\u001b[1;33m\u001b[0m\u001b[0m\n\u001b[0m\u001b[0;32m     79\u001b[0m \u001b[1;33m\u001b[0m\u001b[0m\n\u001b[0;32m     80\u001b[0m     \u001b[1;32mdef\u001b[0m \u001b[0mvalue\u001b[0m\u001b[1;33m(\u001b[0m\u001b[0mself\u001b[0m\u001b[1;33m)\u001b[0m \u001b[1;33m->\u001b[0m \u001b[0mT\u001b[0m\u001b[1;33m:\u001b[0m\u001b[1;33m\u001b[0m\u001b[1;33m\u001b[0m\u001b[0m\n",
      "\u001b[1;32m~\\anaconda3\\lib\\site-packages\\torch\\futures\\__init__.py\u001b[0m in \u001b[0;36mraise_error\u001b[1;34m(fut_result)\u001b[0m\n\u001b[0;32m    282\u001b[0m \u001b[1;33m\u001b[0m\u001b[0m\n\u001b[0;32m    283\u001b[0m         \u001b[1;32mdef\u001b[0m \u001b[0mraise_error\u001b[0m\u001b[1;33m(\u001b[0m\u001b[0mfut_result\u001b[0m\u001b[1;33m)\u001b[0m\u001b[1;33m:\u001b[0m\u001b[1;33m\u001b[0m\u001b[1;33m\u001b[0m\u001b[0m\n\u001b[1;32m--> 284\u001b[1;33m             \u001b[1;32mraise\u001b[0m \u001b[0mfut_result\u001b[0m\u001b[1;33m\u001b[0m\u001b[1;33m\u001b[0m\u001b[0m\n\u001b[0m\u001b[0;32m    285\u001b[0m \u001b[1;33m\u001b[0m\u001b[0m\n\u001b[0;32m    286\u001b[0m         \u001b[0msuper\u001b[0m\u001b[1;33m(\u001b[0m\u001b[1;33m)\u001b[0m\u001b[1;33m.\u001b[0m\u001b[0m_set_unwrap_func\u001b[0m\u001b[1;33m(\u001b[0m\u001b[0mraise_error\u001b[0m\u001b[1;33m)\u001b[0m\u001b[1;33m\u001b[0m\u001b[1;33m\u001b[0m\u001b[0m\n",
      "\u001b[1;31mValueError\u001b[0m: foo"
     ]
    }
   ],
   "source": [
    "fut = torch.futures.Future()\n",
    "fut.set_exception(ValueError(\"foo\"))\n",
    "fut.wait()"
   ]
  },
  {
   "cell_type": "code",
   "execution_count": 3,
   "id": "4f400bf0",
   "metadata": {},
   "outputs": [
    {
     "name": "stdout",
     "output_type": "stream",
     "text": [
      "tensor([3., 3.])\n"
     ]
    }
   ],
   "source": [
    "import threading\n",
    "import time\n",
    "def slow_set_future(fut, value):\n",
    "    time.sleep(0.5)\n",
    "    fut.set_result(value)\n",
    "fut = torch.futures.Future()\n",
    "t = threading.Thread(target=slow_set_future, args=(fut, torch.ones(2) * 3))\n",
    "t.start()\n",
    "print(fut.wait())\n",
    "t.join()"
   ]
  },
  {
   "cell_type": "code",
   "execution_count": 4,
   "id": "ad5f495f",
   "metadata": {},
   "outputs": [
    {
     "name": "stdout",
     "output_type": "stream",
     "text": [
      "RPC return value is 5\n",
      "Chained cb done. None\n"
     ]
    }
   ],
   "source": [
    "def callback(fut):\n",
    "    print(f\"RPC return value is {fut.wait()}\")\n",
    "fut = torch.futures.Future()\n",
    "cb_fut = fut.then(callback)\n",
    "chain_cb_fut = cb_fut.then(lambda x: print(f\"Chained cb done. {x.wait()}\"))\n",
    "fut.set_result(5)"
   ]
  },
  {
   "cell_type": "code",
   "execution_count": 6,
   "id": "b2dba024",
   "metadata": {},
   "outputs": [
    {
     "name": "stdout",
     "output_type": "stream",
     "text": [
      "fut0 result = 0\n",
      "fut1 result = 1\n"
     ]
    }
   ],
   "source": [
    "fut0 = torch.futures.Future()\n",
    "fut1 = torch.futures.Future()\n",
    "fut = torch.futures.collect_all([fut0, fut1])\n",
    "fut0.set_result(0)\n",
    "fut1.set_result(1)\n",
    "fut_list = fut.wait()\n",
    "print(f\"fut0 result = {fut_list[0].wait()}\")\n",
    "print(f\"fut1 result = {fut_list[1].wait()}\")"
   ]
  },
  {
   "cell_type": "code",
   "execution_count": 8,
   "id": "a1b242b3",
   "metadata": {},
   "outputs": [
    {
     "name": "stdout",
     "output_type": "stream",
     "text": [
      "graph():\n",
      "    %x : [#users=1] = placeholder[target=x]\n",
      "    %param : [#users=1] = get_attr[target=param]\n",
      "    %add : [#users=1] = call_function[target=operator.add](args = (%x, %param), kwargs = {})\n",
      "    %linear : [#users=1] = call_module[target=linear](args = (%add,), kwargs = {})\n",
      "    %clamp : [#users=1] = call_method[target=clamp](args = (%linear,), kwargs = {min: 0, max: 1.0})\n",
      "    return clamp\n",
      "\n",
      "def forward(self, x):\n",
      "    param = self.param\n",
      "    add = x + param;  x = param = None\n",
      "    linear = self.linear(add);  add = None\n",
      "    clamp = linear.clamp(min = 0, max = 1.0);  linear = None\n",
      "    return clamp\n",
      "    \n"
     ]
    }
   ],
   "source": [
    "import torch\n",
    "class MyModule(torch.nn.Module):\n",
    "    def __init__(self):\n",
    "        super().__init__()\n",
    "        self.param = torch.nn.Parameter(torch.rand(3, 4))\n",
    "        self.linear = torch.nn.Linear(4, 5)\n",
    "    def forward(self, x):\n",
    "        return self.linear(x + self.param).clamp(min=0, max=1.0)\n",
    "module = MyModule()\n",
    "from torch.fx import symbolic_trace\n",
    "symbolic_traced : torch.fx.GraphModule = symbolic_trace(module)\n",
    "print(symbolic_traced.graph)\n",
    "print(symbolic_traced.code)"
   ]
  },
  {
   "cell_type": "code",
   "execution_count": 9,
   "id": "c23faf64",
   "metadata": {},
   "outputs": [
    {
     "name": "stdout",
     "output_type": "stream",
     "text": [
      "opcode         name           target                                                       args                kwargs\n",
      "-------------  -------------  -----------------------------------------------------------  ------------------  -----------\n",
      "placeholder    x              x                                                            ()                  {}\n",
      "get_attr       linear_weight  linear.weight                                                ()                  {}\n",
      "call_function  add            <built-in function add>                                      (x, linear_weight)  {}\n",
      "call_module    linear         linear                                                       (add,)              {}\n",
      "call_method    relu           relu                                                         (linear,)           {}\n",
      "call_function  sum_1          <built-in method sum of type object at 0x00007FFCC77455E0>   (relu,)             {'dim': -1}\n",
      "call_function  topk           <built-in method topk of type object at 0x00007FFCC77455E0>  (sum_1, 3)          {}\n",
      "output         output         output                                                       (topk,)             {}\n"
     ]
    }
   ],
   "source": [
    "import torch\n",
    "import torch.fx\n",
    "class MyModule(torch.nn.Module):\n",
    "    def __init__(self):\n",
    "        super().__init__()\n",
    "        self.param = torch.nn.Parameter(torch.rand(3, 4))\n",
    "        self.linear = torch.nn.Linear(4, 5)\n",
    "    def forward(self, x):\n",
    "        return torch.topk(torch.sum(self.linear(x + self.linear.weight).relu(), dim=-1), 3)\n",
    "m = MyModule()\n",
    "gm = torch.fx.symbolic_trace(m)\n",
    "gm.graph.print_tabular()"
   ]
  },
  {
   "cell_type": "code",
   "execution_count": 2,
   "id": "1b3e62fa",
   "metadata": {},
   "outputs": [
    {
     "data": {
      "text/plain": [
       "tensor([3])"
      ]
     },
     "execution_count": 2,
     "metadata": {},
     "output_type": "execute_result"
    }
   ],
   "source": [
    "torch.tensor([3])"
   ]
  },
  {
   "cell_type": "code",
   "execution_count": 5,
   "id": "d6938e75",
   "metadata": {},
   "outputs": [
    {
     "name": "stdout",
     "output_type": "stream",
     "text": [
      "(2, 2.0)\n",
      "(2, (100, 200))\n"
     ]
    }
   ],
   "source": [
    "import torch\n",
    "from typing import Tuple\n",
    "from typing import Any\n",
    "@torch.jit.export\n",
    "def inc_first_element(x: Tuple[int, Any]):\n",
    "    return (x[0] + 1, x[1])\n",
    "m = torch.jit.script(inc_first_element)\n",
    "print(m((1, 2.0)))\n",
    "print(m((1, (100, 200))))"
   ]
  },
  {
   "cell_type": "code",
   "execution_count": 8,
   "id": "4cc81511",
   "metadata": {},
   "outputs": [
    {
     "name": "stdout",
     "output_type": "stream",
     "text": [
      " 1\n",
      " 1\n",
      "[ CPUFloatType{2} ]\n",
      "True\n"
     ]
    }
   ],
   "source": [
    "import torch\n",
    "from typing import Any\n",
    "def s(a:Any):\n",
    "    print(a)\n",
    "    return (isinstance(a, torch.Tensor))\n",
    "ones = torch.ones([2])\n",
    "m = torch.jit.script(s)\n",
    "print(m(ones))"
   ]
  },
  {
   "cell_type": "code",
   "execution_count": 10,
   "id": "4ca7fc9d",
   "metadata": {},
   "outputs": [
    {
     "name": "stdout",
     "output_type": "stream",
     "text": [
      "TorchScript (2, 3)\n"
     ]
    }
   ],
   "source": [
    "from typing import NamedTuple\n",
    "from typing import Tuple\n",
    "class MyTuple(NamedTuple):\n",
    "    first: int\n",
    "    second: int\n",
    "def inc(x: MyTuple)->Tuple[int, int]:\n",
    "    return (x.first+1, x.second+1)\n",
    "t = MyTuple(first=1, second=2)\n",
    "script_inc = torch.jit.script(inc)\n",
    "print(\"TorchScript\", script_inc(t))"
   ]
  },
  {
   "cell_type": "code",
   "execution_count": 11,
   "id": "8e937291",
   "metadata": {},
   "outputs": [
    {
     "name": "stdout",
     "output_type": "stream",
     "text": [
      "(2, 3)\n"
     ]
    }
   ],
   "source": [
    "from typing import NamedTuple\n",
    "from typing import Tuple\n",
    "from collections import namedtuple\n",
    "_AnnotatedNamedTuple = NamedTuple('_NamedTupleAnnotated', [(\"first\", int), (\"second\", int)])\n",
    "_UnannotatedNamedTuple = namedtuple('_NamedTupleAnnotated', ['first', 'second'])\n",
    "def inc(x:_AnnotatedNamedTuple)->Tuple[int, int]:\n",
    "    return (x.first + 1, x.second + 1)\n",
    "m = torch.jit.script(inc)\n",
    "print(inc(_UnannotatedNamedTuple(1, 2)))"
   ]
  },
  {
   "cell_type": "code",
   "execution_count": 16,
   "id": "8b43e475",
   "metadata": {},
   "outputs": [
    {
     "name": "stdout",
     "output_type": "stream",
     "text": [
      "First instance: 4\n",
      "Second instance: tensor([4., 4., 4., 4., 4.])\n"
     ]
    }
   ],
   "source": [
    "class TestModule(torch.nn.Module):\n",
    "    def __init__(self, v):\n",
    "        super().__init__()\n",
    "        self.x = v\n",
    "    def forward(self, inc: int):\n",
    "        return self.x + inc\n",
    "m = torch.jit.script(TestModule(1))\n",
    "print(\"First instance:\", m(3))\n",
    "m = torch.jit.script(TestModule(torch.ones([5])))\n",
    "print(f\"Second instance: {m(3)}\")"
   ]
  },
  {
   "cell_type": "code",
   "execution_count": 29,
   "id": "48b5aa73",
   "metadata": {},
   "outputs": [],
   "source": [
    "class MyModule(torch.nn.Module):\n",
    "    def __init__(self, N, M):\n",
    "        super(MyModule, self).__init__()\n",
    "        self.weight = torch.nn.Parameter(torch.rand(N, M))\n",
    "        self.linear = torch.nn.Linear(N, M)\n",
    "    def forward(self, input):\n",
    "        output = self.weight.mv(input)\n",
    "        output = self.linear(output)\n",
    "        return output\n",
    "scripted_module = torch.jit.script(MyModule(2, 3))"
   ]
  },
  {
   "cell_type": "code",
   "execution_count": 31,
   "id": "0abf8437",
   "metadata": {},
   "outputs": [],
   "source": [
    "import torch\n",
    "import torch.nn as nn\n",
    "import torch.nn.functional as F\n",
    "class MyModule(nn.Module):\n",
    "    def __init__(self):\n",
    "        super(MyModule, self).__init__()\n",
    "        self.conv1 = torch.jit.trace(nn.Conv2d(1, 20, 5), torch.rand(1, 1, 16, 16))\n",
    "        self.conv2 = torch.jit.trace(nn.Conv2d(20, 20, 5), torch.rand(1, 20, 16, 16))\n",
    "    def forward(self, input):\n",
    "        input = F.relu(self.conv1(input))\n",
    "        input = F.relu(self.conv2(input))\n",
    "        return input\n",
    "scripted_module = torch.jit.script(MyModule())"
   ]
  },
  {
   "cell_type": "code",
   "execution_count": 32,
   "id": "ca6eb484",
   "metadata": {},
   "outputs": [],
   "source": [
    "class Net(nn.Module):\n",
    "    def __init__(self):\n",
    "        super(Net, self).__init__()\n",
    "        self.conv = nn.Conv2d(1, 1, 3)\n",
    "    def forward(self, x):\n",
    "        return self.conv(x)\n",
    "n = Net()\n",
    "example_weight = torch.rand(1, 1, 3, 3)\n",
    "example_forward_input = torch.rand(1, 1, 3, 3)\n",
    "module = torch.jit.trace(n.forward, example_forward_input)\n",
    "module = torch.jit.trace(n, example_forward_input)"
   ]
  },
  {
   "cell_type": "code",
   "execution_count": 34,
   "id": "eb00a367",
   "metadata": {},
   "outputs": [],
   "source": [
    "import torch\n",
    "from torch import Tensor\n",
    "def foo(a: Tensor, b: int)-> Tensor:\n",
    "    return a + b\n",
    "def bar(a):\n",
    "    fut: torch.jit.Future[Tensor] = torch.jit.fork(foo, a, b = 2)\n",
    "    return torch.jit.wait(fut)\n",
    "script_bar = torch.jit.script(bar)\n",
    "input = torch.tensor(2)\n",
    "assert script_bar(input) == bar(input)\n",
    "graph = torch.jit.trace(bar, (input, )).graph\n",
    "assert \"fork\" in str(graph)"
   ]
  },
  {
   "cell_type": "code",
   "execution_count": 36,
   "id": "0164f150",
   "metadata": {},
   "outputs": [],
   "source": [
    "import torch\n",
    "in_channels, out_channels = 3, 32\n",
    "conv = torch.nn.Conv2d(in_channels, out_channels, kernel_size=3, stride=2, bias=True)\n",
    "bn = torch.nn.BatchNorm2d(out_channels, eps=.001)\n",
    "mod = torch.nn.Sequential(conv, bn)\n",
    "frozen_mod = torch.jit.optimize_for_inference(torch.jit.script(mod.eval()))\n",
    "assert \"batch_norm\" not in str(frozen_mod.graph)\n",
    "assert \"MKLDNN\" in str(frozen_mod.graph)"
   ]
  },
  {
   "cell_type": "code",
   "execution_count": 41,
   "id": "8ec23fba",
   "metadata": {},
   "outputs": [
    {
     "name": "stdout",
     "output_type": "stream",
     "text": [
      "{'name': 20}\n"
     ]
    }
   ],
   "source": [
    "import torch\n",
    "from typing import Dict\n",
    "@torch.jit.script\n",
    "def fn():\n",
    "    d = torch.jit.annotate(Dict[str, int], {})\n",
    "    d[\"name\"] = 20\n",
    "    return d\n",
    "print(fn())"
   ]
  },
  {
   "cell_type": "code",
   "execution_count": 43,
   "id": "450a4670",
   "metadata": {},
   "outputs": [],
   "source": [
    "import torch\n",
    "def foo(x, y):\n",
    "    return 2 * x + y\n",
    "traced_foo = torch.jit.trace(foo, (torch.rand(3), torch.rand(3)))\n",
    "@torch.jit.script\n",
    "def bar(x):\n",
    "    return traced_foo(x, x)"
   ]
  },
  {
   "cell_type": "code",
   "execution_count": 44,
   "id": "94249263",
   "metadata": {},
   "outputs": [],
   "source": [
    "@torch.jit.script\n",
    "def foo(x, y):\n",
    "    if x.max() > y.max():\n",
    "        r = x\n",
    "    else:\n",
    "        r = y\n",
    "    return r\n",
    "def bar(x, y, z):\n",
    "    return foo(x, y) + z\n",
    "traced_bar = torch.jit.trace(bar, (torch.rand(3), torch.rand(3), torch.rand(3)))"
   ]
  },
  {
   "cell_type": "code",
   "execution_count": 5,
   "id": "97abda41",
   "metadata": {},
   "outputs": [
    {
     "name": "stderr",
     "output_type": "stream",
     "text": [
      "C:\\Users\\jatin\\anaconda3\\lib\\site-packages\\torch\\jit\\_trace.py:793: TracerWarning: Output nr 1. of the traced function does not match the corresponding output of the Python function. Detailed error:\n",
      "With rtol=1e-05 and atol=1e-05, found 28 element(s) (out of 30) whose difference(s) exceeded the margin of error (including 0 nan comparisons). The greatest difference was 0.28691689670085907 (0.4184271991252899 vs. 0.13151030242443085), which occurred at index (0, 2).\n",
      "  _check_trace(\n"
     ]
    },
    {
     "ename": "TracingCheckError",
     "evalue": "Tracing failed sanity checks!\nERROR: Graphs differed across invocations!\n\tGraph diff:\n\t\t  graph(%x : Tensor):\n\t\t    %1 : int = prim::Constant[value=0]() # <ipython-input-5-1464e2c963d2>:2:0\n\t\t    %2 : int = prim::Constant[value=0]() # <ipython-input-5-1464e2c963d2>:2:0\n\t\t    %result.1 : Tensor = aten::select(%x, %1, %2) # <ipython-input-5-1464e2c963d2>:2:0\n\t\t    %4 : int = prim::Constant[value=0]() # <ipython-input-5-1464e2c963d2>:4:0\n\t\t    %5 : int = prim::Constant[value=0]() # <ipython-input-5-1464e2c963d2>:4:0\n\t\t    %6 : Tensor = aten::select(%x, %4, %5) # <ipython-input-5-1464e2c963d2>:4:0\n\t\t    %result.3 : Tensor = aten::mul(%result.1, %6) # <ipython-input-5-1464e2c963d2>:4:0\n\t\t    %8 : int = prim::Constant[value=0]() # <ipython-input-5-1464e2c963d2>:4:0\n\t\t    %9 : int = prim::Constant[value=1]() # <ipython-input-5-1464e2c963d2>:4:0\n\t\t    %10 : Tensor = aten::select(%x, %8, %9) # <ipython-input-5-1464e2c963d2>:4:0\n\t\t-   %result : Tensor = aten::mul(%result.3, %10) # <ipython-input-5-1464e2c963d2>:4:0\n\t\t+   %result.5 : Tensor = aten::mul(%result.3, %10) # <ipython-input-5-1464e2c963d2>:4:0\n\t\t?          ++\n\t\t    %12 : int = prim::Constant[value=0]() # <ipython-input-5-1464e2c963d2>:4:0\n\t\t    %13 : int = prim::Constant[value=2]() # <ipython-input-5-1464e2c963d2>:4:0\n\t\t    %14 : Tensor = aten::select(%x, %12, %13) # <ipython-input-5-1464e2c963d2>:4:0\n\t\t+   %result : Tensor = aten::mul(%result.5, %14) # <ipython-input-5-1464e2c963d2>:4:0\n\t\t+   %16 : int = prim::Constant[value=0]() # <ipython-input-5-1464e2c963d2>:4:0\n\t\t+   %17 : int = prim::Constant[value=3]() # <ipython-input-5-1464e2c963d2>:4:0\n\t\t+   %18 : Tensor = aten::select(%x, %16, %17) # <ipython-input-5-1464e2c963d2>:4:0\n\t\t-   %15 : Tensor = aten::mul(%result, %14) # <ipython-input-5-1464e2c963d2>:4:0\n\t\t?     ^                                 ^\n\t\t+   %19 : Tensor = aten::mul(%result, %18) # <ipython-input-5-1464e2c963d2>:4:0\n\t\t?     ^                                 ^\n\t\t-   return (%15)\n\t\t?             ^\n\t\t+   return (%19)\n\t\t?             ^\n\tFirst diverging operator:\n\tNode diff:\n\t\t- %result : Tensor = aten::mul(%result.3, %10) # <ipython-input-5-1464e2c963d2>:4:0\n\t\t+ %result.5 : Tensor = aten::mul(%result.3, %10) # <ipython-input-5-1464e2c963d2>:4:0\n\t\t?        ++\n\tTrace source location:\n\t\t<ipython-input-5-1464e2c963d2>(4): loop_in_traced_fn\n\t\tC:\\Users\\jatin\\anaconda3\\lib\\site-packages\\torch\\jit\\_trace.py(780): trace\n\t\t<ipython-input-5-1464e2c963d2>(8): <module>\n\t\tC:\\Users\\jatin\\anaconda3\\lib\\site-packages\\IPython\\core\\interactiveshell.py(3437): run_code\n\t\tC:\\Users\\jatin\\anaconda3\\lib\\site-packages\\IPython\\core\\interactiveshell.py(3357): run_ast_nodes\n\t\tC:\\Users\\jatin\\anaconda3\\lib\\site-packages\\IPython\\core\\interactiveshell.py(3165): run_cell_async\n\t\tC:\\Users\\jatin\\anaconda3\\lib\\site-packages\\IPython\\core\\async_helpers.py(68): _pseudo_sync_runner\n\t\tC:\\Users\\jatin\\anaconda3\\lib\\site-packages\\IPython\\core\\interactiveshell.py(2940): _run_cell\n\t\tC:\\Users\\jatin\\anaconda3\\lib\\site-packages\\IPython\\core\\interactiveshell.py(2894): run_cell\n\t\tC:\\Users\\jatin\\anaconda3\\lib\\site-packages\\ipykernel\\zmqshell.py(536): run_cell\n\t\tC:\\Users\\jatin\\anaconda3\\lib\\site-packages\\ipykernel\\ipkernel.py(306): do_execute\n\t\tC:\\Users\\jatin\\anaconda3\\lib\\site-packages\\tornado\\gen.py(234): wrapper\n\t\tC:\\Users\\jatin\\anaconda3\\lib\\site-packages\\ipykernel\\kernelbase.py(543): execute_request\n\t\tC:\\Users\\jatin\\anaconda3\\lib\\site-packages\\tornado\\gen.py(234): wrapper\n\t\tC:\\Users\\jatin\\anaconda3\\lib\\site-packages\\ipykernel\\kernelbase.py(268): dispatch_shell\n\t\tC:\\Users\\jatin\\anaconda3\\lib\\site-packages\\tornado\\gen.py(234): wrapper\n\t\tC:\\Users\\jatin\\anaconda3\\lib\\site-packages\\ipykernel\\kernelbase.py(365): process_one\n\t\tC:\\Users\\jatin\\anaconda3\\lib\\site-packages\\tornado\\gen.py(775): run\n\t\tC:\\Users\\jatin\\anaconda3\\lib\\site-packages\\tornado\\gen.py(814): inner\n\t\tC:\\Users\\jatin\\anaconda3\\lib\\site-packages\\tornado\\ioloop.py(741): _run_callback\n\t\tC:\\Users\\jatin\\anaconda3\\lib\\site-packages\\tornado\\ioloop.py(688): <lambda>\n\t\tC:\\Users\\jatin\\anaconda3\\lib\\asyncio\\events.py(81): _run\n\t\tC:\\Users\\jatin\\anaconda3\\lib\\asyncio\\base_events.py(1859): _run_once\n\t\tC:\\Users\\jatin\\anaconda3\\lib\\asyncio\\base_events.py(570): run_forever\n\t\tC:\\Users\\jatin\\anaconda3\\lib\\site-packages\\tornado\\platform\\asyncio.py(199): start\n\t\tC:\\Users\\jatin\\anaconda3\\lib\\site-packages\\ipykernel\\kernelapp.py(612): start\n\t\tC:\\Users\\jatin\\anaconda3\\lib\\site-packages\\traitlets\\config\\application.py(845): launch_instance\n\t\tC:\\Users\\jatin\\anaconda3\\lib\\site-packages\\ipykernel_launcher.py(16): <module>\n\t\tC:\\Users\\jatin\\anaconda3\\lib\\runpy.py(87): _run_code\n\t\tC:\\Users\\jatin\\anaconda3\\lib\\runpy.py(194): _run_module_as_main\n\tCheck source location:\n\t\t<ipython-input-5-1464e2c963d2>(4): loop_in_traced_fn\n\t\tC:\\Users\\jatin\\anaconda3\\lib\\site-packages\\torch\\jit\\_trace.py(780): trace\n\t\tC:\\Users\\jatin\\anaconda3\\lib\\site-packages\\torch\\jit\\_trace.py(344): _check_trace\n\t\tC:\\Users\\jatin\\anaconda3\\lib\\site-packages\\torch\\autograd\\grad_mode.py(28): decorate_context\n\t\tC:\\Users\\jatin\\anaconda3\\lib\\site-packages\\torch\\jit\\_trace.py(793): trace\n\t\t<ipython-input-5-1464e2c963d2>(8): <module>\n\t\tC:\\Users\\jatin\\anaconda3\\lib\\site-packages\\IPython\\core\\interactiveshell.py(3437): run_code\n\t\tC:\\Users\\jatin\\anaconda3\\lib\\site-packages\\IPython\\core\\interactiveshell.py(3357): run_ast_nodes\n\t\tC:\\Users\\jatin\\anaconda3\\lib\\site-packages\\IPython\\core\\interactiveshell.py(3165): run_cell_async\n\t\tC:\\Users\\jatin\\anaconda3\\lib\\site-packages\\IPython\\core\\async_helpers.py(68): _pseudo_sync_runner\n\t\tC:\\Users\\jatin\\anaconda3\\lib\\site-packages\\IPython\\core\\interactiveshell.py(2940): _run_cell\n\t\tC:\\Users\\jatin\\anaconda3\\lib\\site-packages\\IPython\\core\\interactiveshell.py(2894): run_cell\n\t\tC:\\Users\\jatin\\anaconda3\\lib\\site-packages\\ipykernel\\zmqshell.py(536): run_cell\n\t\tC:\\Users\\jatin\\anaconda3\\lib\\site-packages\\ipykernel\\ipkernel.py(306): do_execute\n\t\tC:\\Users\\jatin\\anaconda3\\lib\\site-packages\\tornado\\gen.py(234): wrapper\n\t\tC:\\Users\\jatin\\anaconda3\\lib\\site-packages\\ipykernel\\kernelbase.py(543): execute_request\n\t\tC:\\Users\\jatin\\anaconda3\\lib\\site-packages\\tornado\\gen.py(234): wrapper\n\t\tC:\\Users\\jatin\\anaconda3\\lib\\site-packages\\ipykernel\\kernelbase.py(268): dispatch_shell\n\t\tC:\\Users\\jatin\\anaconda3\\lib\\site-packages\\tornado\\gen.py(234): wrapper\n\t\tC:\\Users\\jatin\\anaconda3\\lib\\site-packages\\ipykernel\\kernelbase.py(365): process_one\n\t\tC:\\Users\\jatin\\anaconda3\\lib\\site-packages\\tornado\\gen.py(775): run\n\t\tC:\\Users\\jatin\\anaconda3\\lib\\site-packages\\tornado\\gen.py(814): inner\n\t\tC:\\Users\\jatin\\anaconda3\\lib\\site-packages\\tornado\\ioloop.py(741): _run_callback\n\t\tC:\\Users\\jatin\\anaconda3\\lib\\site-packages\\tornado\\ioloop.py(688): <lambda>\n\t\tC:\\Users\\jatin\\anaconda3\\lib\\asyncio\\events.py(81): _run\n\t\tC:\\Users\\jatin\\anaconda3\\lib\\asyncio\\base_events.py(1859): _run_once\n\t\tC:\\Users\\jatin\\anaconda3\\lib\\asyncio\\base_events.py(570): run_forever\n\t\tC:\\Users\\jatin\\anaconda3\\lib\\site-packages\\tornado\\platform\\asyncio.py(199): start\n\t\tC:\\Users\\jatin\\anaconda3\\lib\\site-packages\\ipykernel\\kernelapp.py(612): start\n\t\tC:\\Users\\jatin\\anaconda3\\lib\\site-packages\\traitlets\\config\\application.py(845): launch_instance\n\t\tC:\\Users\\jatin\\anaconda3\\lib\\site-packages\\ipykernel_launcher.py(16): <module>\n\t\tC:\\Users\\jatin\\anaconda3\\lib\\runpy.py(87): _run_code\n\t\tC:\\Users\\jatin\\anaconda3\\lib\\runpy.py(194): _run_module_as_main\n",
     "output_type": "error",
     "traceback": [
      "\u001b[1;31m---------------------------------------------------------------------------\u001b[0m",
      "\u001b[1;31mTracingCheckError\u001b[0m                         Traceback (most recent call last)",
      "\u001b[1;32m<ipython-input-5-1464e2c963d2>\u001b[0m in \u001b[0;36m<module>\u001b[1;34m\u001b[0m\n\u001b[0;32m      6\u001b[0m \u001b[0minputs\u001b[0m \u001b[1;33m=\u001b[0m \u001b[1;33m(\u001b[0m\u001b[0mtorch\u001b[0m\u001b[1;33m.\u001b[0m\u001b[0mrand\u001b[0m\u001b[1;33m(\u001b[0m\u001b[1;36m3\u001b[0m\u001b[1;33m,\u001b[0m \u001b[1;36m4\u001b[0m\u001b[1;33m,\u001b[0m \u001b[1;36m5\u001b[0m\u001b[1;33m)\u001b[0m\u001b[1;33m,\u001b[0m\u001b[1;33m)\u001b[0m\u001b[1;33m\u001b[0m\u001b[1;33m\u001b[0m\u001b[0m\n\u001b[0;32m      7\u001b[0m \u001b[0mcheck_inputs\u001b[0m \u001b[1;33m=\u001b[0m \u001b[1;33m[\u001b[0m\u001b[1;33m(\u001b[0m\u001b[0mtorch\u001b[0m\u001b[1;33m.\u001b[0m\u001b[0mrand\u001b[0m\u001b[1;33m(\u001b[0m\u001b[1;36m4\u001b[0m\u001b[1;33m,\u001b[0m \u001b[1;36m5\u001b[0m\u001b[1;33m,\u001b[0m \u001b[1;36m6\u001b[0m\u001b[1;33m)\u001b[0m\u001b[1;33m,\u001b[0m \u001b[1;33m)\u001b[0m\u001b[1;33m,\u001b[0m \u001b[1;33m(\u001b[0m\u001b[0mtorch\u001b[0m\u001b[1;33m.\u001b[0m\u001b[0mrand\u001b[0m\u001b[1;33m(\u001b[0m\u001b[1;36m2\u001b[0m\u001b[1;33m,\u001b[0m \u001b[1;36m3\u001b[0m\u001b[1;33m,\u001b[0m \u001b[1;36m4\u001b[0m\u001b[1;33m)\u001b[0m\u001b[1;33m,\u001b[0m \u001b[1;33m)\u001b[0m\u001b[1;33m]\u001b[0m\u001b[1;33m\u001b[0m\u001b[1;33m\u001b[0m\u001b[0m\n\u001b[1;32m----> 8\u001b[1;33m \u001b[0mtraced\u001b[0m \u001b[1;33m=\u001b[0m \u001b[0mtorch\u001b[0m\u001b[1;33m.\u001b[0m\u001b[0mjit\u001b[0m\u001b[1;33m.\u001b[0m\u001b[0mtrace\u001b[0m\u001b[1;33m(\u001b[0m\u001b[0mloop_in_traced_fn\u001b[0m\u001b[1;33m,\u001b[0m \u001b[0minputs\u001b[0m\u001b[1;33m,\u001b[0m \u001b[0mcheck_inputs\u001b[0m\u001b[1;33m=\u001b[0m\u001b[0mcheck_inputs\u001b[0m\u001b[1;33m)\u001b[0m\u001b[1;33m\u001b[0m\u001b[1;33m\u001b[0m\u001b[0m\n\u001b[0m",
      "\u001b[1;32m~\\anaconda3\\lib\\site-packages\\torch\\jit\\_trace.py\u001b[0m in \u001b[0;36mtrace\u001b[1;34m(func, example_inputs, optimize, check_trace, check_inputs, check_tolerance, strict, _force_outplace, _module_class, _compilation_unit)\u001b[0m\n\u001b[0;32m    791\u001b[0m     \u001b[1;32mif\u001b[0m \u001b[0mcheck_trace\u001b[0m\u001b[1;33m:\u001b[0m\u001b[1;33m\u001b[0m\u001b[1;33m\u001b[0m\u001b[0m\n\u001b[0;32m    792\u001b[0m         \u001b[1;32mif\u001b[0m \u001b[0mcheck_inputs\u001b[0m \u001b[1;32mis\u001b[0m \u001b[1;32mnot\u001b[0m \u001b[1;32mNone\u001b[0m\u001b[1;33m:\u001b[0m\u001b[1;33m\u001b[0m\u001b[1;33m\u001b[0m\u001b[0m\n\u001b[1;32m--> 793\u001b[1;33m             _check_trace(\n\u001b[0m\u001b[0;32m    794\u001b[0m                 \u001b[0mcheck_inputs\u001b[0m\u001b[1;33m,\u001b[0m\u001b[1;33m\u001b[0m\u001b[1;33m\u001b[0m\u001b[0m\n\u001b[0;32m    795\u001b[0m                 \u001b[0mfunc\u001b[0m\u001b[1;33m,\u001b[0m\u001b[1;33m\u001b[0m\u001b[1;33m\u001b[0m\u001b[0m\n",
      "\u001b[1;32m~\\anaconda3\\lib\\site-packages\\torch\\autograd\\grad_mode.py\u001b[0m in \u001b[0;36mdecorate_context\u001b[1;34m(*args, **kwargs)\u001b[0m\n\u001b[0;32m     26\u001b[0m         \u001b[1;32mdef\u001b[0m \u001b[0mdecorate_context\u001b[0m\u001b[1;33m(\u001b[0m\u001b[1;33m*\u001b[0m\u001b[0margs\u001b[0m\u001b[1;33m,\u001b[0m \u001b[1;33m**\u001b[0m\u001b[0mkwargs\u001b[0m\u001b[1;33m)\u001b[0m\u001b[1;33m:\u001b[0m\u001b[1;33m\u001b[0m\u001b[1;33m\u001b[0m\u001b[0m\n\u001b[0;32m     27\u001b[0m             \u001b[1;32mwith\u001b[0m \u001b[0mself\u001b[0m\u001b[1;33m.\u001b[0m\u001b[0m__class__\u001b[0m\u001b[1;33m(\u001b[0m\u001b[1;33m)\u001b[0m\u001b[1;33m:\u001b[0m\u001b[1;33m\u001b[0m\u001b[1;33m\u001b[0m\u001b[0m\n\u001b[1;32m---> 28\u001b[1;33m                 \u001b[1;32mreturn\u001b[0m \u001b[0mfunc\u001b[0m\u001b[1;33m(\u001b[0m\u001b[1;33m*\u001b[0m\u001b[0margs\u001b[0m\u001b[1;33m,\u001b[0m \u001b[1;33m**\u001b[0m\u001b[0mkwargs\u001b[0m\u001b[1;33m)\u001b[0m\u001b[1;33m\u001b[0m\u001b[1;33m\u001b[0m\u001b[0m\n\u001b[0m\u001b[0;32m     29\u001b[0m         \u001b[1;32mreturn\u001b[0m \u001b[0mcast\u001b[0m\u001b[1;33m(\u001b[0m\u001b[0mF\u001b[0m\u001b[1;33m,\u001b[0m \u001b[0mdecorate_context\u001b[0m\u001b[1;33m)\u001b[0m\u001b[1;33m\u001b[0m\u001b[1;33m\u001b[0m\u001b[0m\n\u001b[0;32m     30\u001b[0m \u001b[1;33m\u001b[0m\u001b[0m\n",
      "\u001b[1;32m~\\anaconda3\\lib\\site-packages\\torch\\jit\\_trace.py\u001b[0m in \u001b[0;36m_check_trace\u001b[1;34m(check_inputs, func, traced_func, check_tolerance, strict, force_outplace, is_trace_module, _module_class)\u001b[0m\n\u001b[0;32m    519\u001b[0m         \u001b[0mdiag_info\u001b[0m \u001b[1;33m=\u001b[0m \u001b[0mgraph_diagnostic_info\u001b[0m\u001b[1;33m(\u001b[0m\u001b[1;33m)\u001b[0m\u001b[1;33m\u001b[0m\u001b[1;33m\u001b[0m\u001b[0m\n\u001b[0;32m    520\u001b[0m         \u001b[1;32mif\u001b[0m \u001b[0many\u001b[0m\u001b[1;33m(\u001b[0m\u001b[0minfo\u001b[0m \u001b[1;32mis\u001b[0m \u001b[1;32mnot\u001b[0m \u001b[1;32mNone\u001b[0m \u001b[1;32mfor\u001b[0m \u001b[0minfo\u001b[0m \u001b[1;32min\u001b[0m \u001b[0mdiag_info\u001b[0m\u001b[1;33m)\u001b[0m\u001b[1;33m:\u001b[0m\u001b[1;33m\u001b[0m\u001b[1;33m\u001b[0m\u001b[0m\n\u001b[1;32m--> 521\u001b[1;33m             \u001b[1;32mraise\u001b[0m \u001b[0mTracingCheckError\u001b[0m\u001b[1;33m(\u001b[0m\u001b[1;33m*\u001b[0m\u001b[0mdiag_info\u001b[0m\u001b[1;33m)\u001b[0m\u001b[1;33m\u001b[0m\u001b[1;33m\u001b[0m\u001b[0m\n\u001b[0m\u001b[0;32m    522\u001b[0m \u001b[1;33m\u001b[0m\u001b[0m\n\u001b[0;32m    523\u001b[0m \u001b[1;33m\u001b[0m\u001b[0m\n",
      "\u001b[1;31mTracingCheckError\u001b[0m: Tracing failed sanity checks!\nERROR: Graphs differed across invocations!\n\tGraph diff:\n\t\t  graph(%x : Tensor):\n\t\t    %1 : int = prim::Constant[value=0]() # <ipython-input-5-1464e2c963d2>:2:0\n\t\t    %2 : int = prim::Constant[value=0]() # <ipython-input-5-1464e2c963d2>:2:0\n\t\t    %result.1 : Tensor = aten::select(%x, %1, %2) # <ipython-input-5-1464e2c963d2>:2:0\n\t\t    %4 : int = prim::Constant[value=0]() # <ipython-input-5-1464e2c963d2>:4:0\n\t\t    %5 : int = prim::Constant[value=0]() # <ipython-input-5-1464e2c963d2>:4:0\n\t\t    %6 : Tensor = aten::select(%x, %4, %5) # <ipython-input-5-1464e2c963d2>:4:0\n\t\t    %result.3 : Tensor = aten::mul(%result.1, %6) # <ipython-input-5-1464e2c963d2>:4:0\n\t\t    %8 : int = prim::Constant[value=0]() # <ipython-input-5-1464e2c963d2>:4:0\n\t\t    %9 : int = prim::Constant[value=1]() # <ipython-input-5-1464e2c963d2>:4:0\n\t\t    %10 : Tensor = aten::select(%x, %8, %9) # <ipython-input-5-1464e2c963d2>:4:0\n\t\t-   %result : Tensor = aten::mul(%result.3, %10) # <ipython-input-5-1464e2c963d2>:4:0\n\t\t+   %result.5 : Tensor = aten::mul(%result.3, %10) # <ipython-input-5-1464e2c963d2>:4:0\n\t\t?          ++\n\t\t    %12 : int = prim::Constant[value=0]() # <ipython-input-5-1464e2c963d2>:4:0\n\t\t    %13 : int = prim::Constant[value=2]() # <ipython-input-5-1464e2c963d2>:4:0\n\t\t    %14 : Tensor = aten::select(%x, %12, %13) # <ipython-input-5-1464e2c963d2>:4:0\n\t\t+   %result : Tensor = aten::mul(%result.5, %14) # <ipython-input-5-1464e2c963d2>:4:0\n\t\t+   %16 : int = prim::Constant[value=0]() # <ipython-input-5-1464e2c963d2>:4:0\n\t\t+   %17 : int = prim::Constant[value=3]() # <ipython-input-5-1464e2c963d2>:4:0\n\t\t+   %18 : Tensor = aten::select(%x, %16, %17) # <ipython-input-5-1464e2c963d2>:4:0\n\t\t-   %15 : Tensor = aten::mul(%result, %14) # <ipython-input-5-1464e2c963d2>:4:0\n\t\t?     ^                                 ^\n\t\t+   %19 : Tensor = aten::mul(%result, %18) # <ipython-input-5-1464e2c963d2>:4:0\n\t\t?     ^                                 ^\n\t\t-   return (%15)\n\t\t?             ^\n\t\t+   return (%19)\n\t\t?             ^\n\tFirst diverging operator:\n\tNode diff:\n\t\t- %result : Tensor = aten::mul(%result.3, %10) # <ipython-input-5-1464e2c963d2>:4:0\n\t\t+ %result.5 : Tensor = aten::mul(%result.3, %10) # <ipython-input-5-1464e2c963d2>:4:0\n\t\t?        ++\n\tTrace source location:\n\t\t<ipython-input-5-1464e2c963d2>(4): loop_in_traced_fn\n\t\tC:\\Users\\jatin\\anaconda3\\lib\\site-packages\\torch\\jit\\_trace.py(780): trace\n\t\t<ipython-input-5-1464e2c963d2>(8): <module>\n\t\tC:\\Users\\jatin\\anaconda3\\lib\\site-packages\\IPython\\core\\interactiveshell.py(3437): run_code\n\t\tC:\\Users\\jatin\\anaconda3\\lib\\site-packages\\IPython\\core\\interactiveshell.py(3357): run_ast_nodes\n\t\tC:\\Users\\jatin\\anaconda3\\lib\\site-packages\\IPython\\core\\interactiveshell.py(3165): run_cell_async\n\t\tC:\\Users\\jatin\\anaconda3\\lib\\site-packages\\IPython\\core\\async_helpers.py(68): _pseudo_sync_runner\n\t\tC:\\Users\\jatin\\anaconda3\\lib\\site-packages\\IPython\\core\\interactiveshell.py(2940): _run_cell\n\t\tC:\\Users\\jatin\\anaconda3\\lib\\site-packages\\IPython\\core\\interactiveshell.py(2894): run_cell\n\t\tC:\\Users\\jatin\\anaconda3\\lib\\site-packages\\ipykernel\\zmqshell.py(536): run_cell\n\t\tC:\\Users\\jatin\\anaconda3\\lib\\site-packages\\ipykernel\\ipkernel.py(306): do_execute\n\t\tC:\\Users\\jatin\\anaconda3\\lib\\site-packages\\tornado\\gen.py(234): wrapper\n\t\tC:\\Users\\jatin\\anaconda3\\lib\\site-packages\\ipykernel\\kernelbase.py(543): execute_request\n\t\tC:\\Users\\jatin\\anaconda3\\lib\\site-packages\\tornado\\gen.py(234): wrapper\n\t\tC:\\Users\\jatin\\anaconda3\\lib\\site-packages\\ipykernel\\kernelbase.py(268): dispatch_shell\n\t\tC:\\Users\\jatin\\anaconda3\\lib\\site-packages\\tornado\\gen.py(234): wrapper\n\t\tC:\\Users\\jatin\\anaconda3\\lib\\site-packages\\ipykernel\\kernelbase.py(365): process_one\n\t\tC:\\Users\\jatin\\anaconda3\\lib\\site-packages\\tornado\\gen.py(775): run\n\t\tC:\\Users\\jatin\\anaconda3\\lib\\site-packages\\tornado\\gen.py(814): inner\n\t\tC:\\Users\\jatin\\anaconda3\\lib\\site-packages\\tornado\\ioloop.py(741): _run_callback\n\t\tC:\\Users\\jatin\\anaconda3\\lib\\site-packages\\tornado\\ioloop.py(688): <lambda>\n\t\tC:\\Users\\jatin\\anaconda3\\lib\\asyncio\\events.py(81): _run\n\t\tC:\\Users\\jatin\\anaconda3\\lib\\asyncio\\base_events.py(1859): _run_once\n\t\tC:\\Users\\jatin\\anaconda3\\lib\\asyncio\\base_events.py(570): run_forever\n\t\tC:\\Users\\jatin\\anaconda3\\lib\\site-packages\\tornado\\platform\\asyncio.py(199): start\n\t\tC:\\Users\\jatin\\anaconda3\\lib\\site-packages\\ipykernel\\kernelapp.py(612): start\n\t\tC:\\Users\\jatin\\anaconda3\\lib\\site-packages\\traitlets\\config\\application.py(845): launch_instance\n\t\tC:\\Users\\jatin\\anaconda3\\lib\\site-packages\\ipykernel_launcher.py(16): <module>\n\t\tC:\\Users\\jatin\\anaconda3\\lib\\runpy.py(87): _run_code\n\t\tC:\\Users\\jatin\\anaconda3\\lib\\runpy.py(194): _run_module_as_main\n\tCheck source location:\n\t\t<ipython-input-5-1464e2c963d2>(4): loop_in_traced_fn\n\t\tC:\\Users\\jatin\\anaconda3\\lib\\site-packages\\torch\\jit\\_trace.py(780): trace\n\t\tC:\\Users\\jatin\\anaconda3\\lib\\site-packages\\torch\\jit\\_trace.py(344): _check_trace\n\t\tC:\\Users\\jatin\\anaconda3\\lib\\site-packages\\torch\\autograd\\grad_mode.py(28): decorate_context\n\t\tC:\\Users\\jatin\\anaconda3\\lib\\site-packages\\torch\\jit\\_trace.py(793): trace\n\t\t<ipython-input-5-1464e2c963d2>(8): <module>\n\t\tC:\\Users\\jatin\\anaconda3\\lib\\site-packages\\IPython\\core\\interactiveshell.py(3437): run_code\n\t\tC:\\Users\\jatin\\anaconda3\\lib\\site-packages\\IPython\\core\\interactiveshell.py(3357): run_ast_nodes\n\t\tC:\\Users\\jatin\\anaconda3\\lib\\site-packages\\IPython\\core\\interactiveshell.py(3165): run_cell_async\n\t\tC:\\Users\\jatin\\anaconda3\\lib\\site-packages\\IPython\\core\\async_helpers.py(68): _pseudo_sync_runner\n\t\tC:\\Users\\jatin\\anaconda3\\lib\\site-packages\\IPython\\core\\interactiveshell.py(2940): _run_cell\n\t\tC:\\Users\\jatin\\anaconda3\\lib\\site-packages\\IPython\\core\\interactiveshell.py(2894): run_cell\n\t\tC:\\Users\\jatin\\anaconda3\\lib\\site-packages\\ipykernel\\zmqshell.py(536): run_cell\n\t\tC:\\Users\\jatin\\anaconda3\\lib\\site-packages\\ipykernel\\ipkernel.py(306): do_execute\n\t\tC:\\Users\\jatin\\anaconda3\\lib\\site-packages\\tornado\\gen.py(234): wrapper\n\t\tC:\\Users\\jatin\\anaconda3\\lib\\site-packages\\ipykernel\\kernelbase.py(543): execute_request\n\t\tC:\\Users\\jatin\\anaconda3\\lib\\site-packages\\tornado\\gen.py(234): wrapper\n\t\tC:\\Users\\jatin\\anaconda3\\lib\\site-packages\\ipykernel\\kernelbase.py(268): dispatch_shell\n\t\tC:\\Users\\jatin\\anaconda3\\lib\\site-packages\\tornado\\gen.py(234): wrapper\n\t\tC:\\Users\\jatin\\anaconda3\\lib\\site-packages\\ipykernel\\kernelbase.py(365): process_one\n\t\tC:\\Users\\jatin\\anaconda3\\lib\\site-packages\\tornado\\gen.py(775): run\n\t\tC:\\Users\\jatin\\anaconda3\\lib\\site-packages\\tornado\\gen.py(814): inner\n\t\tC:\\Users\\jatin\\anaconda3\\lib\\site-packages\\tornado\\ioloop.py(741): _run_callback\n\t\tC:\\Users\\jatin\\anaconda3\\lib\\site-packages\\tornado\\ioloop.py(688): <lambda>\n\t\tC:\\Users\\jatin\\anaconda3\\lib\\asyncio\\events.py(81): _run\n\t\tC:\\Users\\jatin\\anaconda3\\lib\\asyncio\\base_events.py(1859): _run_once\n\t\tC:\\Users\\jatin\\anaconda3\\lib\\asyncio\\base_events.py(570): run_forever\n\t\tC:\\Users\\jatin\\anaconda3\\lib\\site-packages\\tornado\\platform\\asyncio.py(199): start\n\t\tC:\\Users\\jatin\\anaconda3\\lib\\site-packages\\ipykernel\\kernelapp.py(612): start\n\t\tC:\\Users\\jatin\\anaconda3\\lib\\site-packages\\traitlets\\config\\application.py(845): launch_instance\n\t\tC:\\Users\\jatin\\anaconda3\\lib\\site-packages\\ipykernel_launcher.py(16): <module>\n\t\tC:\\Users\\jatin\\anaconda3\\lib\\runpy.py(87): _run_code\n\t\tC:\\Users\\jatin\\anaconda3\\lib\\runpy.py(194): _run_module_as_main\n"
     ]
    }
   ],
   "source": [
    "def loop_in_traced_fn(x):\n",
    "    result = x[0]\n",
    "    for i in range(x.size(0)):\n",
    "        result = result * x[i]\n",
    "    return result\n",
    "inputs = (torch.rand(3, 4, 5),)\n",
    "check_inputs = [(torch.rand(4, 5, 6), ), (torch.rand(2, 3, 4), )]\n",
    "traced = torch.jit.trace(loop_in_traced_fn, inputs, check_inputs=check_inputs)"
   ]
  },
  {
   "cell_type": "code",
   "execution_count": 6,
   "id": "eee071a3",
   "metadata": {},
   "outputs": [
    {
     "name": "stdout",
     "output_type": "stream",
     "text": [
      "graph(%x.1 : Tensor):\n",
      "  %9 : bool = prim::Constant[value=1]() # <ipython-input-6-d27985927d3e>:3:4\n",
      "  %2 : int = prim::Constant[value=0]() # <ipython-input-6-d27985927d3e>:2:15\n",
      "  %result.1 : Tensor = aten::select(%x.1, %2, %2) # <ipython-input-6-d27985927d3e>:2:13\n",
      "  %6 : int = aten::size(%x.1, %2) # <ipython-input-6-d27985927d3e>:3:19\n",
      "  %result : Tensor = prim::Loop(%6, %9, %result.1) # <ipython-input-6-d27985927d3e>:3:4\n",
      "    block0(%i.1 : int, %result.11 : Tensor):\n",
      "      %17 : Tensor = aten::select(%x.1, %2, %i.1) # <ipython-input-6-d27985927d3e>:4:26\n",
      "      %result.5 : Tensor = aten::mul(%result.11, %17) # <ipython-input-6-d27985927d3e>:4:17\n",
      "      -> (%9, %result.5)\n",
      "  return (%result)\n",
      "\n"
     ]
    }
   ],
   "source": [
    "def fn(x):\n",
    "    result = x[0]\n",
    "    for i in range(x.size(0)):\n",
    "        result = result * x[i]\n",
    "    return result\n",
    "inputs = (torch.rand(3, 4, 5), )\n",
    "check_inputs = [(torch.rand(4, 5, 6), ), (torch.rand(2, 3, 4), )]\n",
    "scripted_fn = torch.jit.script(fn)\n",
    "print(scripted_fn.graph)\n",
    "for input_tuple in [inputs] + check_inputs:\n",
    "    torch.testing.assert_close(fn(*input_tuple), scripted_fn(*input_tuple))"
   ]
  },
  {
   "cell_type": "code",
   "execution_count": 7,
   "id": "6c72cdbf",
   "metadata": {},
   "outputs": [
    {
     "name": "stdout",
     "output_type": "stream",
     "text": [
      "graph(%x : Float(3, 4, strides=[4, 1], requires_grad=0, device=cpu)):\n",
      "  %4 : int = prim::Constant[value=1]() # <ipython-input-7-7b26c3e7e27a>:2:0\n",
      "  %5 : int = aten::size(%x, %4) # <ipython-input-7-7b26c3e7e27a>:2:0\n",
      "  %6 : Long(device=cpu) = prim::NumToTensor(%5)\n",
      "  %7 : int = aten::Int(%6)\n",
      "  %8 : int[] = prim::ListConstruct(%7)\n",
      "  %9 : int = prim::Constant[value=6]() # <ipython-input-7-7b26c3e7e27a>:2:0\n",
      "  %10 : NoneType = prim::Constant()\n",
      "  %11 : Device = prim::Constant[value=\"cpu\"]() # <ipython-input-7-7b26c3e7e27a>:2:0\n",
      "  %12 : bool = prim::Constant[value=0]() # <ipython-input-7-7b26c3e7e27a>:2:0\n",
      "  %13 : Float(4, strides=[1], requires_grad=0, device=cpu) = aten::rand(%8, %9, %10, %11, %12) # <ipython-input-7-7b26c3e7e27a>:2:0\n",
      "  %14 : int = prim::Constant[value=0]() # <ipython-input-7-7b26c3e7e27a>:2:0\n",
      "  %15 : int = prim::Constant[value=0]() # <ipython-input-7-7b26c3e7e27a>:2:0\n",
      "  %16 : Float(4, strides=[1], requires_grad=0, device=cpu) = aten::select(%x, %14, %15) # <ipython-input-7-7b26c3e7e27a>:2:0\n",
      "  %17 : bool = prim::Constant[value=0]()\n",
      "  %18 : Float(4, strides=[1], requires_grad=0, device=cpu) = aten::copy_(%16, %13, %17) # <ipython-input-7-7b26c3e7e27a>:2:0\n",
      "  return (%x)\n",
      "\n"
     ]
    },
    {
     "name": "stderr",
     "output_type": "stream",
     "text": [
      "C:\\Users\\jatin\\anaconda3\\lib\\site-packages\\torch\\jit\\_trace.py:804: TracerWarning: Trace had nondeterministic nodes. Did you forget call .eval() on your model? Nodes:\n",
      "\t%13 : Float(4, strides=[1], requires_grad=0, device=cpu) = aten::rand(%8, %9, %10, %11, %12) # <ipython-input-7-7b26c3e7e27a>:2:0\n",
      "This may cause errors in trace checking. To disable trace checking, pass check_trace=False to torch.jit.trace()\n",
      "  _check_trace(\n",
      "C:\\Users\\jatin\\anaconda3\\lib\\site-packages\\torch\\jit\\_trace.py:804: TracerWarning: Output nr 1. of the traced function does not match the corresponding output of the Python function. Detailed error:\n",
      "With rtol=1e-05 and atol=1e-05, found 4 element(s) (out of 12) whose difference(s) exceeded the margin of error (including 0 nan comparisons). The greatest difference was 0.5748920440673828 (0.7993494272232056 vs. 0.22445738315582275), which occurred at index (0, 0).\n",
      "  _check_trace(\n"
     ]
    }
   ],
   "source": [
    "def fill_row_zero(x):\n",
    "    x[0] = torch.rand(*x.shape[1:2])\n",
    "    return x\n",
    "traced = torch.jit.trace(fill_row_zero, (torch.rand(3, 4), ))\n",
    "print(traced.graph)"
   ]
  },
  {
   "cell_type": "code",
   "execution_count": 8,
   "id": "77418fae",
   "metadata": {},
   "outputs": [],
   "source": [
    "import torch\n",
    "class Model(torch.nn.Module):\n",
    "    def __init__(self):\n",
    "        super(Model, self).__init__()\n",
    "        self.x = 2\n",
    "    def forward(self):\n",
    "        return self.x\n",
    "m = torch.jit.script(Model())"
   ]
  },
  {
   "cell_type": "code",
   "execution_count": 10,
   "id": "d6627b0c",
   "metadata": {},
   "outputs": [],
   "source": [
    "import torch\n",
    "import torch.nn as nn\n",
    "import torch.nn.functional as F\n",
    "class Model(nn.Module):\n",
    "    def __init__(self):\n",
    "        super(Model, self).__init__()\n",
    "        self.conv1 = nn.Conv2d(1, 20, 5)\n",
    "        self.conv2 = nn.Conv2d(20, 20, 5)\n",
    "    def forward(self, x):\n",
    "        x = F.relu(self.conv1(x))\n",
    "        return F.relu(self.conv2(x))\n",
    "my_model = Model()\n",
    "my_scripted_model = torch.jit.script(my_model)"
   ]
  },
  {
   "cell_type": "code",
   "execution_count": 2,
   "id": "94b37849",
   "metadata": {},
   "outputs": [],
   "source": [
    "import torch.nn as nn\n",
    "class MyModule(nn.Module):\n",
    "    def implicitly_compiled_method(self, x):\n",
    "        return x + 99\n",
    "    def forward(self, x):\n",
    "        return x + 10\n",
    "    @torch.jit.export\n",
    "    def another_forward(self, x):\n",
    "        return self.implicitly_compiled_method(x)\n",
    "    def unused_method(self, x):\n",
    "        return x - 20\n",
    "m = torch.jit.script(MyModule())"
   ]
  },
  {
   "cell_type": "code",
   "execution_count": 3,
   "id": "c946d102",
   "metadata": {},
   "outputs": [],
   "source": [
    "@torch.jit.script\n",
    "def some_fn():\n",
    "    return 2\n",
    "@torch.jit.ignore\n",
    "def some_fn2():\n",
    "    return 2\n",
    "@torch.jit.unused\n",
    "def some_fn3():\n",
    "    import pdb; pdb.set_trace()\n",
    "    return 4\n",
    "@torch.jit.export\n",
    "def some_fn4():\n",
    "    return 2"
   ]
  },
  {
   "cell_type": "code",
   "execution_count": 5,
   "id": "4dd1bf0a",
   "metadata": {},
   "outputs": [
    {
     "data": {
      "text/plain": [
       "20"
      ]
     },
     "execution_count": 5,
     "metadata": {},
     "output_type": "execute_result"
    }
   ],
   "source": [
    "from typing import Dict\n",
    "class MyModule(torch.jit.ScriptModule):\n",
    "    def __init__(self):\n",
    "        super(MyModule, self).__init__()\n",
    "        self.my_dict = torch.jit.Attribute({}, Dict[str, int])\n",
    "        self.my_int = torch.jit.Attribute(20, int)\n",
    "m = MyModule()\n",
    "m.my_int"
   ]
  },
  {
   "cell_type": "code",
   "execution_count": 6,
   "id": "d6ffbd82",
   "metadata": {},
   "outputs": [
    {
     "data": {
      "text/plain": [
       "tensor(7.7460)"
      ]
     },
     "execution_count": 6,
     "metadata": {},
     "output_type": "execute_result"
    }
   ],
   "source": [
    "from torch import linalg as LA\n",
    "a = torch.arange(9, dtype=torch.float) - 4\n",
    "B = a.reshape((3, 3))\n",
    "LA.norm(B)"
   ]
  },
  {
   "cell_type": "code",
   "execution_count": 7,
   "id": "cc937f8f",
   "metadata": {},
   "outputs": [
    {
     "data": {
      "text/plain": [
       "tensor(0.)"
      ]
     },
     "execution_count": 7,
     "metadata": {},
     "output_type": "execute_result"
    }
   ],
   "source": [
    "LA.norm(a, -float(\"inf\"))"
   ]
  },
  {
   "cell_type": "code",
   "execution_count": 9,
   "id": "2208b85f",
   "metadata": {},
   "outputs": [
    {
     "name": "stdout",
     "output_type": "stream",
     "text": [
      "tensor(5.4345)\n",
      "tensor(5.4345)\n"
     ]
    }
   ],
   "source": [
    "print(LA.vector_norm(a, ord=3.5))\n",
    "print(LA.vector_norm(B, ord=3.5))"
   ]
  },
  {
   "cell_type": "code",
   "execution_count": 10,
   "id": "42c16749",
   "metadata": {},
   "outputs": [
    {
     "data": {
      "text/plain": [
       "tensor(7.7460)"
      ]
     },
     "execution_count": 10,
     "metadata": {},
     "output_type": "execute_result"
    }
   ],
   "source": [
    "LA.matrix_norm(B)"
   ]
  },
  {
   "cell_type": "code",
   "execution_count": 12,
   "id": "9e91d034",
   "metadata": {},
   "outputs": [
    {
     "data": {
      "text/plain": [
       "tensor([7.7460, 7.7460])"
      ]
     },
     "execution_count": 12,
     "metadata": {},
     "output_type": "execute_result"
    }
   ],
   "source": [
    "c = B.expand(2, -1, -1)\n",
    "LA.matrix_norm(c)"
   ]
  },
  {
   "cell_type": "code",
   "execution_count": 14,
   "id": "00a89b8a",
   "metadata": {},
   "outputs": [
    {
     "data": {
      "text/plain": [
       "tensor(-1.3261)"
      ]
     },
     "execution_count": 14,
     "metadata": {},
     "output_type": "execute_result"
    }
   ],
   "source": [
    "A = torch.randn(3, 3)\n",
    "torch.linalg.det(A)"
   ]
  },
  {
   "cell_type": "code",
   "execution_count": 16,
   "id": "d6ca4546",
   "metadata": {},
   "outputs": [
    {
     "name": "stdout",
     "output_type": "stream",
     "text": [
      "torch.return_types.linalg_slogdet(\n",
      "sign=tensor(-1.),\n",
      "logabsdet=tensor(0.2823))\n"
     ]
    }
   ],
   "source": [
    "# print(torch.linalg.logdet(A))\n",
    "print(torch.linalg.slogdet(A))"
   ]
  },
  {
   "cell_type": "code",
   "execution_count": 17,
   "id": "ff7216bb",
   "metadata": {},
   "outputs": [
    {
     "data": {
      "text/plain": [
       "tensor([4.5793, 4.5844, 8.1285])"
      ]
     },
     "execution_count": 17,
     "metadata": {},
     "output_type": "execute_result"
    }
   ],
   "source": [
    "A = torch.randn(3, 4, 4, dtype=torch.complex64)\n",
    "torch.linalg.cond(A)"
   ]
  },
  {
   "cell_type": "code",
   "execution_count": 19,
   "id": "a7588594",
   "metadata": {},
   "outputs": [
    {
     "data": {
      "text/plain": [
       "tensor(1.4142, dtype=torch.float64)"
      ]
     },
     "execution_count": 19,
     "metadata": {},
     "output_type": "execute_result"
    }
   ],
   "source": [
    "A = torch.tensor([[1, 0, -1], [0, 1, 0], [1, 0, 1]], dtype=float)\n",
    "torch.linalg.cond(A)"
   ]
  },
  {
   "cell_type": "code",
   "execution_count": 21,
   "id": "d988211f",
   "metadata": {},
   "outputs": [
    {
     "data": {
      "text/plain": [
       "tensor(9)"
      ]
     },
     "execution_count": 21,
     "metadata": {},
     "output_type": "execute_result"
    }
   ],
   "source": [
    "A = torch.eye(10)\n",
    "A[0, 0] = 0\n",
    "torch.linalg.matrix_rank(A)"
   ]
  },
  {
   "cell_type": "code",
   "execution_count": 26,
   "id": "5a90d89f",
   "metadata": {},
   "outputs": [
    {
     "data": {
      "text/plain": [
       "tensor([[3, 3, 3, 3],\n",
       "        [3, 3, 3, 3]])"
      ]
     },
     "execution_count": 26,
     "metadata": {},
     "output_type": "execute_result"
    }
   ],
   "source": [
    "A = torch.randn(2, 4, 3, 3, dtype=torch.complex64)\n",
    "torch.linalg.matrix_rank(A)"
   ]
  },
  {
   "cell_type": "code",
   "execution_count": 27,
   "id": "f3fa37c3",
   "metadata": {},
   "outputs": [
    {
     "data": {
      "text/plain": [
       "tensor([[ 3.2332+2.6967e-18j, -0.7550-4.8069e-01j],\n",
       "        [-0.7550+4.8069e-01j,  2.0208+1.2575e-17j]], dtype=torch.complex128)"
      ]
     },
     "execution_count": 27,
     "metadata": {},
     "output_type": "execute_result"
    }
   ],
   "source": [
    "A = torch.randn(2, 2, dtype=torch.complex128)\n",
    "A = A @ A.T.conj() + torch.eye(2)\n",
    "A"
   ]
  },
  {
   "cell_type": "code",
   "execution_count": 28,
   "id": "2c8ce3f5",
   "metadata": {},
   "outputs": [
    {
     "data": {
      "text/plain": [
       "tensor([[ 1.7981+0.0000j,  0.0000+0.0000j],\n",
       "        [-0.4199+0.2673j,  1.3315+0.0000j]], dtype=torch.complex128)"
      ]
     },
     "execution_count": 28,
     "metadata": {},
     "output_type": "execute_result"
    }
   ],
   "source": [
    "torch.linalg.cholesky(A)"
   ]
  },
  {
   "cell_type": "code",
   "execution_count": 29,
   "id": "be828b69",
   "metadata": {},
   "outputs": [
    {
     "name": "stdout",
     "output_type": "stream",
     "text": [
      "tensor([[-0.8571,  0.3943,  0.3314],\n",
      "        [-0.4286, -0.9029, -0.0343],\n",
      "        [ 0.2857, -0.1714,  0.9429]])\n",
      "tensor([[ -14.0000,  -21.0000,   14.0000],\n",
      "        [   0.0000, -175.0000,   70.0000],\n",
      "        [   0.0000,    0.0000,  -35.0000]])\n"
     ]
    }
   ],
   "source": [
    "A = torch.tensor([[12., -51, 4], [6, 167, -68], [-4, 24, -41]])\n",
    "Q, R = torch.linalg.qr(A)\n",
    "print(Q)\n",
    "print(R)"
   ]
  },
  {
   "cell_type": "code",
   "execution_count": 32,
   "id": "29023249",
   "metadata": {},
   "outputs": [
    {
     "data": {
      "text/plain": [
       "tensor(193.1580)"
      ]
     },
     "execution_count": 32,
     "metadata": {},
     "output_type": "execute_result"
    }
   ],
   "source": [
    "torch.dist(Q @ R, torch.eye(3))"
   ]
  },
  {
   "cell_type": "code",
   "execution_count": 35,
   "id": "24913d57",
   "metadata": {},
   "outputs": [
    {
     "data": {
      "text/plain": [
       "tensor(5.4672e-16, dtype=torch.float64)"
      ]
     },
     "execution_count": 35,
     "metadata": {},
     "output_type": "execute_result"
    }
   ],
   "source": [
    "A = torch.randn(3, 2, 2, dtype=torch.float64)\n",
    "L, V = torch.linalg.eig(A)\n",
    "torch.dist(V @ torch.diag_embed(L) @ torch.linalg.inv(V), A)"
   ]
  },
  {
   "cell_type": "code",
   "execution_count": 36,
   "id": "5a4a123b",
   "metadata": {},
   "outputs": [
    {
     "data": {
      "text/plain": [
       "tensor([0.9201-1.8736j, 0.7970+1.9244j], dtype=torch.complex128)"
      ]
     },
     "execution_count": 36,
     "metadata": {},
     "output_type": "execute_result"
    }
   ],
   "source": [
    "A = torch.randn(2, 2, dtype=torch.complex128)\n",
    "L = torch.linalg.eigvals(A)\n",
    "L"
   ]
  },
  {
   "cell_type": "code",
   "execution_count": 37,
   "id": "e58b78ed",
   "metadata": {},
   "outputs": [
    {
     "name": "stdout",
     "output_type": "stream",
     "text": [
      "tensor([-2.1710,  0.8325], dtype=torch.float64)\n"
     ]
    },
    {
     "data": {
      "text/plain": [
       "tensor([[ 0.5527+0.0000j, -0.8334+0.0000j],\n",
       "        [-0.5276-0.6451j, -0.3499-0.4278j]], dtype=torch.complex128)"
      ]
     },
     "execution_count": 37,
     "metadata": {},
     "output_type": "execute_result"
    }
   ],
   "source": [
    "A = torch.randn(2, 2, dtype=torch.complex128)\n",
    "A = A + A.T.conj()\n",
    "L, Q = torch.linalg.eigh(A)\n",
    "print(L)\n",
    "Q"
   ]
  },
  {
   "cell_type": "code",
   "execution_count": 38,
   "id": "cd1a6820",
   "metadata": {},
   "outputs": [
    {
     "data": {
      "text/plain": [
       "tensor([-2.1710,  0.8325], dtype=torch.float64)"
      ]
     },
     "execution_count": 38,
     "metadata": {},
     "output_type": "execute_result"
    }
   ],
   "source": [
    "torch.linalg.eigvalsh(A)"
   ]
  },
  {
   "cell_type": "code",
   "execution_count": 39,
   "id": "3ccaafb3",
   "metadata": {},
   "outputs": [
    {
     "data": {
      "text/plain": [
       "(torch.Size([5, 3]), torch.Size([3]), torch.Size([3, 3]))"
      ]
     },
     "execution_count": 39,
     "metadata": {},
     "output_type": "execute_result"
    }
   ],
   "source": [
    "A = torch.randn(5, 3)\n",
    "U, S, Vh = torch.linalg.svd(A, full_matrices=False)\n",
    "U.shape, S.shape, Vh.shape"
   ]
  },
  {
   "cell_type": "code",
   "execution_count": 40,
   "id": "643d593c",
   "metadata": {},
   "outputs": [
    {
     "data": {
      "text/plain": [
       "tensor([3.2635, 1.5888, 1.0854])"
      ]
     },
     "execution_count": 40,
     "metadata": {},
     "output_type": "execute_result"
    }
   ],
   "source": [
    "A = torch.randn(5, 3)\n",
    "S = torch.linalg.svdvals(A)\n",
    "S"
   ]
  },
  {
   "cell_type": "code",
   "execution_count": 41,
   "id": "cd2a3f7b",
   "metadata": {},
   "outputs": [
    {
     "data": {
      "text/plain": [
       "True"
      ]
     },
     "execution_count": 41,
     "metadata": {},
     "output_type": "execute_result"
    }
   ],
   "source": [
    "A = torch.randn(3, 3)\n",
    "b = torch.randn(3)\n",
    "x = torch.linalg.solve(A, b)\n",
    "torch.allclose(A @ x, b)"
   ]
  },
  {
   "cell_type": "code",
   "execution_count": 43,
   "id": "f045b1f1",
   "metadata": {},
   "outputs": [
    {
     "data": {
      "text/plain": [
       "tensor(4.4329e-07)"
      ]
     },
     "execution_count": 43,
     "metadata": {},
     "output_type": "execute_result"
    }
   ],
   "source": [
    "A = torch.tensor([[[10, 2, 3], [3, 10, 5], [5, 6, 12]]], dtype=torch.float)\n",
    "B = torch.tensor([[[2, 5, 1], [3, 2, 1], [5, 1, 9]], [[4, 2, 9], [2, 0, 3], [2, 5, 3]]], dtype=torch.float)\n",
    "X = torch.linalg.lstsq(A, B).solution\n",
    "torch.dist(X, torch.linalg.pinv(A) @ B)"
   ]
  },
  {
   "cell_type": "code",
   "execution_count": 44,
   "id": "c0367d40",
   "metadata": {},
   "outputs": [
    {
     "data": {
      "text/plain": [
       "tensor(3.3247e-07)"
      ]
     },
     "execution_count": 44,
     "metadata": {},
     "output_type": "execute_result"
    }
   ],
   "source": [
    "A = torch.randn(4, 4)\n",
    "Ainv = torch.linalg.inv(A)\n",
    "torch.dist(A @ Ainv, torch.eye(4))"
   ]
  },
  {
   "cell_type": "code",
   "execution_count": 45,
   "id": "b72cfdf0",
   "metadata": {},
   "outputs": [
    {
     "data": {
      "text/plain": [
       "tensor(4.4053e-07)"
      ]
     },
     "execution_count": 45,
     "metadata": {},
     "output_type": "execute_result"
    }
   ],
   "source": [
    "A = torch.randn(2, 6, 3)\n",
    "Apinv = torch.linalg.pinv(A)\n",
    "torch.dist(Apinv @ A, torch.eye(3))"
   ]
  },
  {
   "cell_type": "code",
   "execution_count": 48,
   "id": "b7b8cb93",
   "metadata": {},
   "outputs": [
    {
     "data": {
      "text/plain": [
       "tensor([[1., 0., 0.],\n",
       "        [0., 1., 0.],\n",
       "        [0., 0., 1.]])"
      ]
     },
     "execution_count": 48,
     "metadata": {},
     "output_type": "execute_result"
    }
   ],
   "source": [
    "A = torch.randn(3, 3)\n",
    "torch.linalg.matrix_power(A, 0)"
   ]
  },
  {
   "cell_type": "code",
   "execution_count": 50,
   "id": "b028282b",
   "metadata": {},
   "outputs": [
    {
     "data": {
      "text/plain": [
       "tensor([[ 26,  49],\n",
       "        [ 80, 148]])"
      ]
     },
     "execution_count": 50,
     "metadata": {},
     "output_type": "execute_result"
    }
   ],
   "source": [
    "from torch.linalg import multi_dot\n",
    "A = torch.arange(2 * 3).view(2, 3)\n",
    "B = torch.arange(3 * 2).view(3, 2)\n",
    "C = torch.arange(2 * 2).view(2, 2)\n",
    "multi_dot((A, B, C))"
   ]
  },
  {
   "cell_type": "code",
   "execution_count": 52,
   "id": "4ef5496d",
   "metadata": {},
   "outputs": [
    {
     "data": {
      "text/plain": [
       "tensor(0.)"
      ]
     },
     "execution_count": 52,
     "metadata": {},
     "output_type": "execute_result"
    }
   ],
   "source": [
    "A = torch.randn(2, 2)\n",
    "h, tau = torch.geqrf(A)\n",
    "Q = torch.linalg.householder_product(h, tau)\n",
    "torch.dist(Q, torch.linalg.qr(A).Q)"
   ]
  },
  {
   "cell_type": "code",
   "execution_count": 53,
   "id": "39801168",
   "metadata": {},
   "outputs": [
    {
     "name": "stdout",
     "output_type": "stream",
     "text": [
      "torch.Size([8, 3, 4, 6])\n"
     ]
    },
    {
     "data": {
      "text/plain": [
       "True"
      ]
     },
     "execution_count": 53,
     "metadata": {},
     "output_type": "execute_result"
    }
   ],
   "source": [
    "A = torch.eye(4 * 6).reshape(4, 6, 8, 3)\n",
    "Ainv = torch.linalg.tensorinv(A, ind=2)\n",
    "print(Ainv.shape)\n",
    "B = torch.randn(4, 6)\n",
    "torch.allclose(torch.tensordot(Ainv, B), torch.linalg.tensorsolve(A, B))"
   ]
  },
  {
   "cell_type": "code",
   "execution_count": 55,
   "id": "76610268",
   "metadata": {},
   "outputs": [
    {
     "data": {
      "text/plain": [
       "torch.Size([2, 3, 4])"
      ]
     },
     "execution_count": 55,
     "metadata": {},
     "output_type": "execute_result"
    }
   ],
   "source": [
    "A = torch.eye(2 * 3* 4).reshape((2 * 3, 4, 2, 3, 4))\n",
    "B = torch.randn(2 * 3, 4)\n",
    "X = torch.linalg.tensorsolve(A, B)\n",
    "X.shape"
   ]
  },
  {
   "cell_type": "code",
   "execution_count": 56,
   "id": "4a97aeb4",
   "metadata": {},
   "outputs": [
    {
     "name": "stdout",
     "output_type": "stream",
     "text": [
      "tensor([[ 1.6014-3.9002e-17j, -0.8521+3.6165e-01j],\n",
      "        [-0.8521-3.6165e-01j,  1.7246-2.3920e-17j]], dtype=torch.complex128)\n",
      "tensor([[ 1.2655+0.0000j,  0.0000+0.0000j],\n",
      "        [-0.6733-0.2858j,  1.0907+0.0000j]], dtype=torch.complex128)\n",
      "tensor(0, dtype=torch.int32)\n"
     ]
    }
   ],
   "source": [
    "A = torch.randn(2, 2, dtype=torch.complex128)\n",
    "A = A @ A.t().conj()\n",
    "L, info = torch.linalg.cholesky_ex(A)\n",
    "print(A)\n",
    "print(L)\n",
    "print(info)"
   ]
  },
  {
   "cell_type": "code",
   "execution_count": 57,
   "id": "6d56ddff",
   "metadata": {},
   "outputs": [
    {
     "name": "stdout",
     "output_type": "stream",
     "text": [
      "tensor(0.)\n"
     ]
    },
    {
     "data": {
      "text/plain": [
       "tensor(0, dtype=torch.int32)"
      ]
     },
     "execution_count": 57,
     "metadata": {},
     "output_type": "execute_result"
    }
   ],
   "source": [
    "A = torch.randn(3, 3)\n",
    "Ainv, info = torch.linalg.inv_ex(A)\n",
    "print(torch.dist(torch.linalg.inv(A), Ainv))\n",
    "info"
   ]
  },
  {
   "cell_type": "code",
   "execution_count": 58,
   "id": "0c7de35e",
   "metadata": {},
   "outputs": [
    {
     "data": {
      "text/plain": [
       "tensor([  -inf, 0.0000, 0.3466])"
      ]
     },
     "execution_count": 58,
     "metadata": {},
     "output_type": "execute_result"
    }
   ],
   "source": [
    "a = torch.arange(-0.5, 1, 0.5)\n",
    "torch.special.entr(a)"
   ]
  },
  {
   "cell_type": "code",
   "execution_count": 59,
   "id": "c38d9024",
   "metadata": {},
   "outputs": [
    {
     "data": {
      "text/plain": [
       "tensor([ 0.0000, -0.8427,  1.0000])"
      ]
     },
     "execution_count": 59,
     "metadata": {},
     "output_type": "execute_result"
    }
   ],
   "source": [
    "torch.special.erf(torch.tensor([0, -1., 10.]))"
   ]
  },
  {
   "cell_type": "code",
   "execution_count": 60,
   "id": "247217ee",
   "metadata": {},
   "outputs": [
    {
     "data": {
      "text/plain": [
       "tensor([1.0000e+00, 1.8427e+00, 1.4013e-45])"
      ]
     },
     "execution_count": 60,
     "metadata": {},
     "output_type": "execute_result"
    }
   ],
   "source": [
    "torch.special.erfc(torch.tensor([0, -1., 10.]))"
   ]
  },
  {
   "cell_type": "code",
   "execution_count": 62,
   "id": "649be1c2",
   "metadata": {},
   "outputs": [
    {
     "data": {
      "text/plain": [
       "tensor([0.0000, 0.4769,   -inf])"
      ]
     },
     "execution_count": 62,
     "metadata": {},
     "output_type": "execute_result"
    }
   ],
   "source": [
    "torch.special.erfinv(torch.tensor([0, 0.5, -1.]))"
   ]
  },
  {
   "cell_type": "code",
   "execution_count": 63,
   "id": "e8a9f13c",
   "metadata": {},
   "outputs": [
    {
     "data": {
      "text/plain": [
       "tensor([0.1224, 0.5349, 0.1172, 0.2745])"
      ]
     },
     "execution_count": 63,
     "metadata": {},
     "output_type": "execute_result"
    }
   ],
   "source": [
    "t = torch.randn(4)\n",
    "torch.special.expit(t)"
   ]
  },
  {
   "cell_type": "code",
   "execution_count": 66,
   "id": "17eccfb7",
   "metadata": {},
   "outputs": [
    {
     "data": {
      "text/plain": [
       "tensor([0., 1.])"
      ]
     },
     "execution_count": 66,
     "metadata": {},
     "output_type": "execute_result"
    }
   ],
   "source": [
    "import math\n",
    "torch.special.expm1(torch.tensor([0, math.log(2.)]))"
   ]
  },
  {
   "cell_type": "code",
   "execution_count": 67,
   "id": "86fa52d4",
   "metadata": {},
   "outputs": [
    {
     "data": {
      "text/plain": [
       "tensor([ 1.,  2.,  8., 16.])"
      ]
     },
     "execution_count": 67,
     "metadata": {},
     "output_type": "execute_result"
    }
   ],
   "source": [
    "torch.special.exp2(torch.tensor([0, math.log2(2.), 3, 4]))"
   ]
  },
  {
   "cell_type": "code",
   "execution_count": 69,
   "id": "3f45e292",
   "metadata": {},
   "outputs": [
    {
     "data": {
      "text/plain": [
       "tensor([ 0.5724,  0.0000, -0.1208])"
      ]
     },
     "execution_count": 69,
     "metadata": {},
     "output_type": "execute_result"
    }
   ],
   "source": [
    "a = torch.arange(0.5, 2, 0.5)\n",
    "torch.special.gammaln(a)"
   ]
  },
  {
   "cell_type": "code",
   "execution_count": 75,
   "id": "3f50951e",
   "metadata": {},
   "outputs": [
    {
     "data": {
      "text/plain": [
       "tensor([ 1.0000,  1.2661,  2.2796,  4.8808, 11.3019])"
      ]
     },
     "execution_count": 75,
     "metadata": {},
     "output_type": "execute_result"
    }
   ],
   "source": [
    "torch.i0(torch.arange(5, dtype=torch.float32))"
   ]
  },
  {
   "cell_type": "code",
   "execution_count": 77,
   "id": "f8d1c252",
   "metadata": {},
   "outputs": [
    {
     "data": {
      "text/plain": [
       "tensor([1.0000, 0.4658, 0.3085, 0.2430, 0.2070])"
      ]
     },
     "execution_count": 77,
     "metadata": {},
     "output_type": "execute_result"
    }
   ],
   "source": [
    "torch.special.i0e(torch.arange(5, dtype=torch.float32))"
   ]
  },
  {
   "cell_type": "code",
   "execution_count": 80,
   "id": "3b73d18b",
   "metadata": {},
   "outputs": [
    {
     "data": {
      "text/plain": [
       "tensor([-0.7958,  3.1312, -3.3644,  1.2448, -1.1219])"
      ]
     },
     "execution_count": 80,
     "metadata": {},
     "output_type": "execute_result"
    }
   ],
   "source": [
    "a = torch.rand(5)\n",
    "torch.special.logit(a, eps=1e-6)"
   ]
  },
  {
   "cell_type": "code",
   "execution_count": 85,
   "id": "522f1c87",
   "metadata": {},
   "outputs": [
    {
     "data": {
      "text/plain": [
       "tensor([0., 0., 0., 0., nan])"
      ]
     },
     "execution_count": 85,
     "metadata": {},
     "output_type": "execute_result"
    }
   ],
   "source": [
    "x = torch.zeros(5,)\n",
    "y = torch.tensor([-1, 0, 1, float('inf'), float('nan')])\n",
    "torch.special.xlog1py(x, y)"
   ]
  },
  {
   "cell_type": "code",
   "execution_count": 89,
   "id": "6eaef560",
   "metadata": {},
   "outputs": [
    {
     "data": {
      "text/plain": [
       "True"
      ]
     },
     "execution_count": 89,
     "metadata": {},
     "output_type": "execute_result"
    }
   ],
   "source": [
    "torch.Tensor.as_subclass in torch.overrides.get_ignored_functions()"
   ]
  },
  {
   "cell_type": "code",
   "execution_count": 90,
   "id": "074c8c1e",
   "metadata": {},
   "outputs": [
    {
     "data": {
      "text/plain": [
       "False"
      ]
     },
     "execution_count": 90,
     "metadata": {},
     "output_type": "execute_result"
    }
   ],
   "source": [
    "torch.add in torch.overrides.get_overridable_functions()"
   ]
  },
  {
   "cell_type": "code",
   "execution_count": 93,
   "id": "d8da7bcb",
   "metadata": {},
   "outputs": [
    {
     "data": {
      "text/plain": [
       "<Signature (input, other, out=None)>"
      ]
     },
     "execution_count": 93,
     "metadata": {},
     "output_type": "execute_result"
    }
   ],
   "source": [
    "import inspect\n",
    "my_add = torch.overrides.get_testing_overrides()[torch.add]\n",
    "inspect.signature(my_add)"
   ]
  },
  {
   "cell_type": "code",
   "execution_count": 95,
   "id": "ec0700e4",
   "metadata": {},
   "outputs": [],
   "source": [
    "def func(a):\n",
    "    if type(a) is not torch.Tensor:\n",
    "        return torch.overrides.handle_torch_function(func, (a, ), a)\n",
    "    return a + 0"
   ]
  },
  {
   "cell_type": "code",
   "execution_count": 96,
   "id": "90bf08bf",
   "metadata": {},
   "outputs": [
    {
     "data": {
      "text/plain": [
       "True"
      ]
     },
     "execution_count": 96,
     "metadata": {},
     "output_type": "execute_result"
    }
   ],
   "source": [
    "class SubTensor(torch.Tensor):\n",
    "    ...\n",
    "torch.overrides.is_tensor_like(SubTensor([0]))"
   ]
  },
  {
   "cell_type": "code",
   "execution_count": 97,
   "id": "1f3048e2",
   "metadata": {},
   "outputs": [],
   "source": [
    "def dispatcher(a):\n",
    "    return a\n",
    "@torch.overrides.wrap_torch_function(dispatcher)\n",
    "def func(a):\n",
    "    return a + 0"
   ]
  },
  {
   "cell_type": "code",
   "execution_count": 107,
   "id": "ed74da4c",
   "metadata": {},
   "outputs": [],
   "source": [
    "from torch.package import PackageExporter"
   ]
  },
  {
   "cell_type": "code",
   "execution_count": 111,
   "id": "6633d6cb",
   "metadata": {},
   "outputs": [
    {
     "name": "stdout",
     "output_type": "stream",
     "text": [
      "tensor.pkl depends on:\n",
      "  torch._utils\n",
      "  torch\n",
      "  collections\n",
      "\n",
      "\n",
      "implicitly adding torch._utils to external modules since it is part of the standard library and is a dependency.\n",
      "implicitly adding torch to external modules since it is part of the standard library and is a dependency.\n",
      "implicitly adding collections to external modules since it is part of the standard library and is a dependency.\n",
      "Dependency graph for exported package: \n",
      "https://dreampuf.github.io/GraphvizOnline/#digraph%20G%20%7B%0Arankdir%20%3D%20LR%3B%0Anode%20%5Bshape%3Dbox%5D%3B%0A%0A%22%3Cmy_resources.tensor.pkl%3E%22%20-%3E%20%22torch._utils%22%3B%0A%22%3Cmy_resources.tensor.pkl%3E%22%20-%3E%20%22torch%22%3B%0A%22%3Cmy_resources.tensor.pkl%3E%22%20-%3E%20%22collections%22%3B%0A%7D%0A\n"
     ]
    }
   ],
   "source": [
    "with PackageExporter(\"package.pt\") as exporter:\n",
    "    exporter.save_pickle(\"my_resources\", \"tensor.pkl\", torch.randn(4))\n",
    "    exporter.save_text(\"config_stuff\", \"words.txt\", \"a sample\")"
   ]
  },
  {
   "cell_type": "code",
   "execution_count": 112,
   "id": "59628b9b",
   "metadata": {},
   "outputs": [],
   "source": [
    "importer = torch.package.PackageImporter(\"package.pt\")\n",
    "my_tensor = importer.load_pickle(\"my_resources\", \"tensor.pkl\")\n",
    "text = importer.load_text(\"config_stuff\", \"words.txt\")"
   ]
  },
  {
   "cell_type": "code",
   "execution_count": 2,
   "id": "75ac182b",
   "metadata": {},
   "outputs": [],
   "source": [
    "gain = torch.nn.init.calculate_gain(\"leaky_relu\", 0.2)"
   ]
  },
  {
   "cell_type": "code",
   "execution_count": 3,
   "id": "3731ec2f",
   "metadata": {},
   "outputs": [
    {
     "data": {
      "text/plain": [
       "1.3867504905630728"
      ]
     },
     "execution_count": 3,
     "metadata": {},
     "output_type": "execute_result"
    }
   ],
   "source": [
    "gain"
   ]
  },
  {
   "cell_type": "code",
   "execution_count": 5,
   "id": "14d36bb7",
   "metadata": {},
   "outputs": [
    {
     "data": {
      "text/plain": [
       "tensor([[0.9584, 0.2190, 0.9279, 0.5354, 0.6853],\n",
       "        [0.3684, 0.6573, 0.3949, 0.7952, 0.1049],\n",
       "        [0.8523, 0.4098, 0.1074, 0.8224, 0.2985]])"
      ]
     },
     "execution_count": 5,
     "metadata": {},
     "output_type": "execute_result"
    }
   ],
   "source": [
    "m = torch.empty(3, 5)\n",
    "torch.nn.init.uniform_(m)"
   ]
  },
  {
   "cell_type": "code",
   "execution_count": 7,
   "id": "a4c586ec",
   "metadata": {},
   "outputs": [
    {
     "data": {
      "text/plain": [
       "tensor([[ 1.3249,  1.6248, -0.3909,  0.3470, -0.0066],\n",
       "        [ 0.1708, -0.4501, -0.0108,  0.0491,  0.0286],\n",
       "        [ 0.8473, -0.3848, -0.8905, -0.2987,  0.5127]])"
      ]
     },
     "execution_count": 7,
     "metadata": {},
     "output_type": "execute_result"
    }
   ],
   "source": [
    "torch.nn.init.normal_(m)"
   ]
  },
  {
   "cell_type": "code",
   "execution_count": 8,
   "id": "dd22cf63",
   "metadata": {},
   "outputs": [
    {
     "data": {
      "text/plain": [
       "tensor([[0.3000, 0.3000, 0.3000, 0.3000, 0.3000],\n",
       "        [0.3000, 0.3000, 0.3000, 0.3000, 0.3000],\n",
       "        [0.3000, 0.3000, 0.3000, 0.3000, 0.3000]])"
      ]
     },
     "execution_count": 8,
     "metadata": {},
     "output_type": "execute_result"
    }
   ],
   "source": [
    "torch.nn.init.constant_(m, 0.3)"
   ]
  },
  {
   "cell_type": "code",
   "execution_count": 10,
   "id": "ab08123d",
   "metadata": {},
   "outputs": [
    {
     "data": {
      "text/plain": [
       "tensor([[1., 1., 1., 1., 1.],\n",
       "        [1., 1., 1., 1., 1.],\n",
       "        [1., 1., 1., 1., 1.]])"
      ]
     },
     "execution_count": 10,
     "metadata": {},
     "output_type": "execute_result"
    }
   ],
   "source": [
    "torch.nn.init.ones_(m)"
   ]
  },
  {
   "cell_type": "code",
   "execution_count": 11,
   "id": "fde733b9",
   "metadata": {},
   "outputs": [
    {
     "data": {
      "text/plain": [
       "tensor([[0., 0., 0., 0., 0.],\n",
       "        [0., 0., 0., 0., 0.],\n",
       "        [0., 0., 0., 0., 0.]])"
      ]
     },
     "execution_count": 11,
     "metadata": {},
     "output_type": "execute_result"
    }
   ],
   "source": [
    "torch.nn.init.zeros_(m)"
   ]
  },
  {
   "cell_type": "code",
   "execution_count": 12,
   "id": "744dd766",
   "metadata": {},
   "outputs": [
    {
     "data": {
      "text/plain": [
       "tensor([[1., 0., 0., 0., 0.],\n",
       "        [0., 1., 0., 0., 0.],\n",
       "        [0., 0., 1., 0., 0.]])"
      ]
     },
     "execution_count": 12,
     "metadata": {},
     "output_type": "execute_result"
    }
   ],
   "source": [
    "torch.nn.init.eye_(m)"
   ]
  },
  {
   "cell_type": "code",
   "execution_count": 13,
   "id": "f407209b",
   "metadata": {},
   "outputs": [
    {
     "data": {
      "text/plain": [
       "tensor([[[[0., 0., 0., 0., 0.],\n",
       "          [0., 0., 0., 0., 0.],\n",
       "          [0., 0., 1., 0., 0.],\n",
       "          [0., 0., 0., 0., 0.],\n",
       "          [0., 0., 0., 0., 0.]],\n",
       "\n",
       "         [[0., 0., 0., 0., 0.],\n",
       "          [0., 0., 0., 0., 0.],\n",
       "          [0., 0., 0., 0., 0.],\n",
       "          [0., 0., 0., 0., 0.],\n",
       "          [0., 0., 0., 0., 0.]],\n",
       "\n",
       "         [[0., 0., 0., 0., 0.],\n",
       "          [0., 0., 0., 0., 0.],\n",
       "          [0., 0., 0., 0., 0.],\n",
       "          [0., 0., 0., 0., 0.],\n",
       "          [0., 0., 0., 0., 0.]],\n",
       "\n",
       "         ...,\n",
       "\n",
       "         [[0., 0., 0., 0., 0.],\n",
       "          [0., 0., 0., 0., 0.],\n",
       "          [0., 0., 0., 0., 0.],\n",
       "          [0., 0., 0., 0., 0.],\n",
       "          [0., 0., 0., 0., 0.]],\n",
       "\n",
       "         [[0., 0., 0., 0., 0.],\n",
       "          [0., 0., 0., 0., 0.],\n",
       "          [0., 0., 0., 0., 0.],\n",
       "          [0., 0., 0., 0., 0.],\n",
       "          [0., 0., 0., 0., 0.]],\n",
       "\n",
       "         [[0., 0., 0., 0., 0.],\n",
       "          [0., 0., 0., 0., 0.],\n",
       "          [0., 0., 0., 0., 0.],\n",
       "          [0., 0., 0., 0., 0.],\n",
       "          [0., 0., 0., 0., 0.]]],\n",
       "\n",
       "\n",
       "        [[[0., 0., 0., 0., 0.],\n",
       "          [0., 0., 0., 0., 0.],\n",
       "          [0., 0., 0., 0., 0.],\n",
       "          [0., 0., 0., 0., 0.],\n",
       "          [0., 0., 0., 0., 0.]],\n",
       "\n",
       "         [[0., 0., 0., 0., 0.],\n",
       "          [0., 0., 0., 0., 0.],\n",
       "          [0., 0., 1., 0., 0.],\n",
       "          [0., 0., 0., 0., 0.],\n",
       "          [0., 0., 0., 0., 0.]],\n",
       "\n",
       "         [[0., 0., 0., 0., 0.],\n",
       "          [0., 0., 0., 0., 0.],\n",
       "          [0., 0., 0., 0., 0.],\n",
       "          [0., 0., 0., 0., 0.],\n",
       "          [0., 0., 0., 0., 0.]],\n",
       "\n",
       "         ...,\n",
       "\n",
       "         [[0., 0., 0., 0., 0.],\n",
       "          [0., 0., 0., 0., 0.],\n",
       "          [0., 0., 0., 0., 0.],\n",
       "          [0., 0., 0., 0., 0.],\n",
       "          [0., 0., 0., 0., 0.]],\n",
       "\n",
       "         [[0., 0., 0., 0., 0.],\n",
       "          [0., 0., 0., 0., 0.],\n",
       "          [0., 0., 0., 0., 0.],\n",
       "          [0., 0., 0., 0., 0.],\n",
       "          [0., 0., 0., 0., 0.]],\n",
       "\n",
       "         [[0., 0., 0., 0., 0.],\n",
       "          [0., 0., 0., 0., 0.],\n",
       "          [0., 0., 0., 0., 0.],\n",
       "          [0., 0., 0., 0., 0.],\n",
       "          [0., 0., 0., 0., 0.]]],\n",
       "\n",
       "\n",
       "        [[[0., 0., 0., 0., 0.],\n",
       "          [0., 0., 0., 0., 0.],\n",
       "          [0., 0., 0., 0., 0.],\n",
       "          [0., 0., 0., 0., 0.],\n",
       "          [0., 0., 0., 0., 0.]],\n",
       "\n",
       "         [[0., 0., 0., 0., 0.],\n",
       "          [0., 0., 0., 0., 0.],\n",
       "          [0., 0., 0., 0., 0.],\n",
       "          [0., 0., 0., 0., 0.],\n",
       "          [0., 0., 0., 0., 0.]],\n",
       "\n",
       "         [[0., 0., 0., 0., 0.],\n",
       "          [0., 0., 0., 0., 0.],\n",
       "          [0., 0., 1., 0., 0.],\n",
       "          [0., 0., 0., 0., 0.],\n",
       "          [0., 0., 0., 0., 0.]],\n",
       "\n",
       "         ...,\n",
       "\n",
       "         [[0., 0., 0., 0., 0.],\n",
       "          [0., 0., 0., 0., 0.],\n",
       "          [0., 0., 0., 0., 0.],\n",
       "          [0., 0., 0., 0., 0.],\n",
       "          [0., 0., 0., 0., 0.]],\n",
       "\n",
       "         [[0., 0., 0., 0., 0.],\n",
       "          [0., 0., 0., 0., 0.],\n",
       "          [0., 0., 0., 0., 0.],\n",
       "          [0., 0., 0., 0., 0.],\n",
       "          [0., 0., 0., 0., 0.]],\n",
       "\n",
       "         [[0., 0., 0., 0., 0.],\n",
       "          [0., 0., 0., 0., 0.],\n",
       "          [0., 0., 0., 0., 0.],\n",
       "          [0., 0., 0., 0., 0.],\n",
       "          [0., 0., 0., 0., 0.]]]])"
      ]
     },
     "execution_count": 13,
     "metadata": {},
     "output_type": "execute_result"
    }
   ],
   "source": [
    "w = torch.empty(3, 16, 5, 5)\n",
    "torch.nn.init.dirac_(w)"
   ]
  },
  {
   "cell_type": "code",
   "execution_count": 16,
   "id": "e5806c9f",
   "metadata": {},
   "outputs": [
    {
     "data": {
      "text/plain": [
       "tensor([[ 0.7319,  0.0070,  0.5564, -0.4534, -0.0692],\n",
       "        [-0.7767,  0.5756, -0.2745, -0.8639,  0.8891],\n",
       "        [ 0.1480,  1.0976,  0.6112, -0.4536, -0.6664]])"
      ]
     },
     "execution_count": 16,
     "metadata": {},
     "output_type": "execute_result"
    }
   ],
   "source": [
    "torch.nn.init.xavier_uniform_(m, gain=torch.nn.init.calculate_gain(\"relu\"))"
   ]
  },
  {
   "cell_type": "code",
   "execution_count": 18,
   "id": "b4ef7420",
   "metadata": {},
   "outputs": [
    {
     "data": {
      "text/plain": [
       "tensor([[ 0.1172, -0.3119,  0.3522, -0.4159, -0.5255],\n",
       "        [ 0.2012, -0.0141,  0.4407,  0.5820,  0.1637],\n",
       "        [-0.0733,  0.1447,  0.2937,  0.4981,  0.0221]])"
      ]
     },
     "execution_count": 18,
     "metadata": {},
     "output_type": "execute_result"
    }
   ],
   "source": [
    "torch.nn.init.xavier_normal_(m)"
   ]
  },
  {
   "cell_type": "code",
   "execution_count": 19,
   "id": "8f2a8d1e",
   "metadata": {},
   "outputs": [
    {
     "data": {
      "text/plain": [
       "tensor([[-0.3418, -0.6898,  0.9060, -0.3055, -0.2486],\n",
       "        [-0.3696, -1.0236,  1.0224,  0.4461, -0.4644],\n",
       "        [-0.3318,  0.8218,  1.0911,  1.0146,  1.0218]])"
      ]
     },
     "execution_count": 19,
     "metadata": {},
     "output_type": "execute_result"
    }
   ],
   "source": [
    "torch.nn.init.kaiming_uniform_(m, mode=\"fan_in\", nonlinearity=\"relu\")"
   ]
  },
  {
   "cell_type": "code",
   "execution_count": 20,
   "id": "a2ceeb30",
   "metadata": {},
   "outputs": [
    {
     "data": {
      "text/plain": [
       "tensor([[-0.1079, -1.4880, -0.1063,  0.9117,  0.4729],\n",
       "        [-0.8723, -0.3095, -0.6424, -1.1043, -0.2977],\n",
       "        [ 0.3701, -0.4191,  0.3964, -0.7231, -1.1504]])"
      ]
     },
     "execution_count": 20,
     "metadata": {},
     "output_type": "execute_result"
    }
   ],
   "source": [
    "torch.nn.init.kaiming_normal_(m, mode=\"fan_out\", nonlinearity=\"relu\")"
   ]
  },
  {
   "cell_type": "code",
   "execution_count": 21,
   "id": "391f8731",
   "metadata": {},
   "outputs": [
    {
     "data": {
      "text/plain": [
       "tensor([[-0.0433, -0.2573,  0.7338,  0.0483,  0.6254],\n",
       "        [-0.0905,  0.1988, -0.5955,  0.0159,  0.7729],\n",
       "        [-0.6144,  0.0308,  0.0487, -0.7864, -0.0262]])"
      ]
     },
     "execution_count": 21,
     "metadata": {},
     "output_type": "execute_result"
    }
   ],
   "source": [
    "torch.nn.init.orthogonal_(m)"
   ]
  },
  {
   "cell_type": "code",
   "execution_count": 24,
   "id": "7393ab13",
   "metadata": {},
   "outputs": [
    {
     "data": {
      "text/plain": [
       "tensor([[ 0.0000, -0.0023,  0.0000, -0.0005,  0.0000],\n",
       "        [ 0.0109,  0.0030, -0.0195,  0.0067,  0.0071],\n",
       "        [-0.0093,  0.0000, -0.0060,  0.0000,  0.0047]])"
      ]
     },
     "execution_count": 24,
     "metadata": {},
     "output_type": "execute_result"
    }
   ],
   "source": [
    "torch.nn.init.sparse_(m, sparsity=0.1)"
   ]
  },
  {
   "cell_type": "code",
   "execution_count": 25,
   "id": "ae9cd7f3",
   "metadata": {},
   "outputs": [
    {
     "data": {
      "text/plain": [
       "tensor([[-0.1879-0.5462j, -0.3580+0.0752j],\n",
       "        [-0.3668+0.6411j, -1.0295+0.5774j]])"
      ]
     },
     "execution_count": 25,
     "metadata": {},
     "output_type": "execute_result"
    }
   ],
   "source": [
    "x = torch.randn(2, 2, dtype=torch.cfloat)\n",
    "x"
   ]
  },
  {
   "cell_type": "code",
   "execution_count": 26,
   "id": "63331832",
   "metadata": {},
   "outputs": [
    {
     "data": {
      "text/plain": [
       "tensor([[ 0.1824,  0.5618],\n",
       "        [-0.4795, -0.0286],\n",
       "        [-0.3625,  0.5554]])"
      ]
     },
     "execution_count": 26,
     "metadata": {},
     "output_type": "execute_result"
    }
   ],
   "source": [
    "a = torch.randn(3, 2)\n",
    "a"
   ]
  },
  {
   "cell_type": "code",
   "execution_count": 27,
   "id": "09ef8b82",
   "metadata": {},
   "outputs": [
    {
     "data": {
      "text/plain": [
       "tensor([ 0.1824+0.5618j, -0.4795-0.0286j, -0.3625+0.5554j])"
      ]
     },
     "execution_count": 27,
     "metadata": {},
     "output_type": "execute_result"
    }
   ],
   "source": [
    "y = torch.view_as_complex(a)\n",
    "y"
   ]
  },
  {
   "cell_type": "code",
   "execution_count": 28,
   "id": "94832f5a",
   "metadata": {},
   "outputs": [
    {
     "data": {
      "text/plain": [
       "tensor([[ 0.1824,  0.5618],\n",
       "        [-0.4795, -0.0286],\n",
       "        [-0.3625,  0.5554]])"
      ]
     },
     "execution_count": 28,
     "metadata": {},
     "output_type": "execute_result"
    }
   ],
   "source": [
    "torch.view_as_real(y)"
   ]
  },
  {
   "cell_type": "code",
   "execution_count": 29,
   "id": "ed2b733b",
   "metadata": {},
   "outputs": [
    {
     "name": "stdout",
     "output_type": "stream",
     "text": [
      "tensor([ 0.1824, -0.4795, -0.3625])\n",
      "tensor([ 0.5618, -0.0286,  0.5554])\n",
      "tensor([ 0.3647, -0.9591, -0.7250])\n"
     ]
    },
    {
     "data": {
      "text/plain": [
       "(2,)"
      ]
     },
     "execution_count": 29,
     "metadata": {},
     "output_type": "execute_result"
    }
   ],
   "source": [
    "print(y.real)\n",
    "print(y.imag)\n",
    "print(y.real.mul_(2))\n",
    "y.real.stride()"
   ]
  },
  {
   "cell_type": "code",
   "execution_count": 30,
   "id": "345007b7",
   "metadata": {},
   "outputs": [
    {
     "name": "stdout",
     "output_type": "stream",
     "text": [
      "tensor([3.0000, 5.6569])\n",
      "tensor([1.5708, 0.7854])\n"
     ]
    }
   ],
   "source": [
    "x1 = torch.tensor([3j, 4 + 4j])\n",
    "print(x1.abs())\n",
    "print(x1.angle())"
   ]
  },
  {
   "cell_type": "code",
   "execution_count": 40,
   "id": "e6466721",
   "metadata": {},
   "outputs": [],
   "source": [
    "import os\n",
    "os.environ[\"MASTER_ADDR\"] = \"localhost\"\n",
    "os.environ[\"MASTER_PORT\"] = \"29500\"\n",
    "# torch.distributed.rpc.init_rpc('worker', rank=0, world_size=1)\n",
    "fc1 = torch.nn.Linear(16, 8).cpu()\n",
    "fc2 = torch.nn.Linear(8, 4).cpu()\n",
    "model = torch.nn.Sequential(fc1, fc2)\n",
    "input = torch.rand(16, 16).cpu()\n",
    "output_rref = model(input)"
   ]
  },
  {
   "cell_type": "code",
   "execution_count": 47,
   "id": "19c9369a",
   "metadata": {},
   "outputs": [],
   "source": [
    "class M(torch.nn.Module):\n",
    "    def __init__(self):\n",
    "        super(M, self).__init__()\n",
    "        self.fc = torch.nn.Linear(4, 4)\n",
    "    def forward(self, x):\n",
    "        x = self.fc(x)\n",
    "        return x\n",
    "model_fp32 = M()\n",
    "model_int8 = torch.quantization.quantize_dynamic(model_fp32, {torch.nn.Linear}, dtype=torch.qint8)\n",
    "input_fp32 = torch.randn(4, 4, 4, 4)\n",
    "res = model_int8(input_fp32)"
   ]
  },
  {
   "cell_type": "code",
   "execution_count": 49,
   "id": "1e724850",
   "metadata": {},
   "outputs": [],
   "source": [
    "class M(torch.nn.Module):\n",
    "    def __init__(self):\n",
    "        super(M, self).__init__()\n",
    "        self.quant = torch.quantization.QuantStub()\n",
    "        self.conv = torch.nn.Conv2d(1, 1, 1)\n",
    "        self.relu = torch.nn.ReLU()\n",
    "        self.dequant = torch.quantization.DeQuantStub()\n",
    "    def forward(self, x):\n",
    "        x = self.quant(x)\n",
    "        x = self.conv(x)\n",
    "        x = self.relu(x)\n",
    "        x = self.dequant(x)\n",
    "        return x\n",
    "model_fp32 = M()\n",
    "model_fp32.eval()\n",
    "model_fp32.qconfig = torch.quantization.get_default_qconfig('fbgemm')\n",
    "model_fp32_fused = torch.quantization.fuse_modules(model_fp32, [['conv', 'relu']])\n",
    "model_fp32_prepared = torch.quantization.prepare(model_fp32_fused)\n",
    "input_fp32 = torch.randn(4, 1, 4, 4)\n",
    "model_fp32_prepared(input_fp32)\n",
    "model_int8 = torch.quantization.convert(model_fp32_prepared)\n",
    "res = model_int8(input_fp32)"
   ]
  },
  {
   "cell_type": "code",
   "execution_count": 52,
   "id": "8038649d",
   "metadata": {},
   "outputs": [
    {
     "name": "stderr",
     "output_type": "stream",
     "text": [
      "C:\\Users\\jatin\\anaconda3\\lib\\site-packages\\torch\\quantization\\observer.py:244: UserWarning: must run observer before calling calculate_qparams.                                        Returning default scale and zero point \n",
      "  warnings.warn(\n"
     ]
    }
   ],
   "source": [
    "class M(torch.nn.Module):\n",
    "    def __init__(self):\n",
    "        super(M, self).__init__()\n",
    "        self.quant = torch.quantization.QuantStub()\n",
    "        self.conv = torch.nn.Conv2d(1, 1, 1)\n",
    "        self.bn = torch.nn.BatchNorm2d(1)\n",
    "        self.relu = torch.nn.ReLU()\n",
    "        self.dequant = torch.quantization.DeQuantStub()\n",
    "    def forward(self, x):\n",
    "        x = self.quant(x)\n",
    "        x = self.conv(x)\n",
    "        x = self.bn(x)\n",
    "        x = self.relu(x)\n",
    "        x = self.dequant(x)\n",
    "        return x\n",
    "model_fp32 = M()\n",
    "model_fp32.train()\n",
    "model_fp32.qconfig = torch.quantization.get_default_qat_qconfig(\"fbgemm\")\n",
    "model_fp32_fused = torch.quantization.fuse_modules(model_fp32, [[\"conv\", \"bn\", \"relu\"]])\n",
    "model_fp32_prepared = torch.quantization.prepare_qat(model_fp32_fused)\n",
    "# training_loop(model_fp32_prepared)\n",
    "model_fp32_prepared.eval()\n",
    "model_int8 = torch.quantization.convert(model_fp32_prepared)\n",
    "res = model_int8(input_fp32)"
   ]
  },
  {
   "cell_type": "code",
   "execution_count": 55,
   "id": "098593fd",
   "metadata": {},
   "outputs": [
    {
     "name": "stderr",
     "output_type": "stream",
     "text": [
      "C:\\Users\\jatin\\anaconda3\\lib\\site-packages\\torch\\quantization\\fx\\quantization_patterns.py:441: UserWarning: dtype combination: (torch.float32, torch.qint8, torch.quint8) is not supported by Conv supported dtype combinations are: [(torch.quint8, torch.qint8, None)]\n",
      "  warnings.warn(\n"
     ]
    }
   ],
   "source": [
    "import copy\n",
    "import torch.quantization.quantize_fx as quantize_fx\n",
    "model_fp = M()\n",
    "model_to_quantize = copy.deepcopy(model_fp)\n",
    "model_to_quantize.eval()\n",
    "qconfig_dict = {\"\":torch.quantization.default_dynamic_qconfig}\n",
    "model_prepared = quantize_fx.prepare_fx(model_to_quantize, qconfig_dict)\n",
    "model_quantize = quantize_fx.convert_fx(model_prepared)"
   ]
  },
  {
   "cell_type": "code",
   "execution_count": 60,
   "id": "4b2ff7a6",
   "metadata": {},
   "outputs": [],
   "source": [
    "model_to_quantize = copy.deepcopy(model_fp)\n",
    "qconfig_dict = {\"\":torch.quantization.get_default_qconfig('qnnpack')}\n",
    "model_to_quantize.eval()\n",
    "model_prepared = quantize_fx.prepare_fx(model_to_quantize, qconfig_dict)\n",
    "model_quantized = quantize_fx.convert_fx(model_prepared)\n",
    "\n",
    "model_to_quantize = copy.deepcopy(model_fp)\n",
    "qconfig_dict = {\"\": torch.quantization.get_default_qat_qconfig('qnnpack')}\n",
    "model_to_quantize.train()\n",
    "model_prepared = quantize_fx.prepare_qat_fx(model_to_quantize, qconfig_dict)\n",
    "model_quantized = quantize_fx.convert_fx(model_prepared)"
   ]
  },
  {
   "cell_type": "code",
   "execution_count": 61,
   "id": "51cc412e",
   "metadata": {},
   "outputs": [],
   "source": [
    "qconfig = torch.quantization.get_default_qconfig('fbgemm')\n",
    "qconfig = torch.quantization.get_default_qat_qconfig(\"fbgemm\")\n",
    "torch.backends.quantized.engine = \"fbgemm\""
   ]
  },
  {
   "cell_type": "code",
   "execution_count": 1,
   "id": "c63d96fe",
   "metadata": {},
   "outputs": [],
   "source": [
    "import torch"
   ]
  },
  {
   "cell_type": "code",
   "execution_count": 2,
   "id": "61de3733",
   "metadata": {},
   "outputs": [],
   "source": [
    "import torch.nn.quantized as nnq\n",
    "import torch.quantization.quantize_fx\n",
    "class CustomModule(torch.nn.Module):\n",
    "    def __init__(self):\n",
    "        super().__init__()\n",
    "        self.linear = torch.nn.Linear(3, 3)\n",
    "    def forward(self, x):\n",
    "        return self.linear(x)\n",
    "    \n",
    "class ObservedCustomModule(torch.nn.Module):\n",
    "    def __init__(self, linear):\n",
    "        super().__init__()\n",
    "        self.linear = linear\n",
    "    def forward(self, x):\n",
    "        return self.linear(x)\n",
    "    @classmethod\n",
    "    def from_float(cls, float_module):\n",
    "        assert hasattr(float_module, \"qconfig\")\n",
    "        observed = cls(float_module.linear)\n",
    "        observed.qconfig = float_module.qconfig\n",
    "        return observed\n",
    "\n",
    "class StaticQuantizedCustomModule(torch.nn.Module):\n",
    "    def __init__(self, linear):\n",
    "        super().__init__()\n",
    "        self.linear = linear\n",
    "    def forward(self, x):\n",
    "        return self.linear(x)\n",
    "    @classmethod\n",
    "    def from_observed(cls, observed_module):\n",
    "        assert hasattr(observed_module, 'qconfig')\n",
    "        assert hasattr(observed_module, 'activation_post_process')\n",
    "        observed_module.linear.activation_post_process = observed_module.activation_post_process\n",
    "        quantized = cls(nnq.Linear.from_float(observed_module.linear))\n",
    "        return quantized"
   ]
  },
  {
   "cell_type": "code",
   "execution_count": 7,
   "id": "ff57b543",
   "metadata": {},
   "outputs": [],
   "source": [
    "m = torch.nn.Sequential(CustomModule()).eval()\n",
    "prepare_custom_config_dict = {\n",
    "    \"float_to_observed_custom_module_class\":{\n",
    "        CustomModule: ObservedCustomModule\n",
    "    }\n",
    "}\n",
    "convert_custom_config_dict = {\n",
    "    \"observed_to_quantized_custom_module_class\":{\n",
    "        ObservedCustomModule: StaticQuantizedCustomModule\n",
    "    }\n",
    "}\n",
    "m.qconfig = torch.quantization.default_qconfig\n",
    "mp = torch.quantization.prepare(m, prepare_custom_config_dict=prepare_custom_config_dict)\n",
    "mq = torch.quantization.convert(mp, convert_custom_config_dict=convert_custom_config_dict)\n",
    "m = torch.nn.Sequential(CustomModule()).eval()\n",
    "qconfig_dict = {'':torch.quantization.default_qconfig}\n",
    "prepare_custom_config_dict = {\n",
    "    \"float_to_observed_custom_module_class\": {\n",
    "        \"static\":{\n",
    "            CustomModule: ObservedCustomModule,\n",
    "        }\n",
    "    }\n",
    "}\n",
    "convert_custom_config_dict = {\n",
    "    \"observed_to_quatization_custom_module_class\": {\n",
    "        \"static\":{\n",
    "            ObservedCustomModule: StaticQuantizedCustomModule,\n",
    "        }\n",
    "    }\n",
    "}\n",
    "mp = torch.quantization.quantize_fx.prepare_fx(m, qconfig_dict, prepare_custom_config_dict=prepare_custom_config_dict)\n",
    "mq = torch.quantization.quantize_fx.convert_fx(mp, convert_custom_config_dict=convert_custom_config_dict)"
   ]
  },
  {
   "cell_type": "code",
   "execution_count": 5,
   "id": "e9ed689b",
   "metadata": {},
   "outputs": [
    {
     "name": "stdout",
     "output_type": "stream",
     "text": [
      "tensor(indices=tensor([[0, 1, 1],\n",
      "                       [2, 0, 2]]),\n",
      "       values=tensor([3, 4, 5]),\n",
      "       size=(2, 3), nnz=3, layout=torch.sparse_coo)\n"
     ]
    },
    {
     "data": {
      "text/plain": [
       "tensor([[0, 0, 3],\n",
       "        [4, 0, 5]])"
      ]
     },
     "execution_count": 5,
     "metadata": {},
     "output_type": "execute_result"
    }
   ],
   "source": [
    "i = [[0, 1, 1], \n",
    "    [2, 0, 2]]\n",
    "v = [3, 4, 5]\n",
    "s = torch.sparse_coo_tensor(i, v, (2, 3))\n",
    "print(s)\n",
    "s.to_dense()"
   ]
  },
  {
   "cell_type": "code",
   "execution_count": 12,
   "id": "13773e45",
   "metadata": {},
   "outputs": [
    {
     "data": {
      "text/plain": [
       "tensor([[0, 0, 3],\n",
       "        [4, 0, 5]])"
      ]
     },
     "execution_count": 12,
     "metadata": {},
     "output_type": "execute_result"
    }
   ],
   "source": [
    "i = [[0, 2], [1, 0], [1, 2]]\n",
    "v = [3, 4, 5]\n",
    "s = torch.sparse_coo_tensor(list(zip(*i)), v, (2, 3))\n",
    "s = torch.sparse_coo_tensor(torch.tensor(i).t(), v, torch.Size([2, 3])).to_dense()\n",
    "s"
   ]
  },
  {
   "cell_type": "code",
   "execution_count": 15,
   "id": "d2f8c928",
   "metadata": {},
   "outputs": [
    {
     "data": {
      "text/plain": [
       "tensor([-0.0989,  1.0555])"
      ]
     },
     "execution_count": 15,
     "metadata": {},
     "output_type": "execute_result"
    }
   ],
   "source": [
    "mat = torch.randn(2, 3)\n",
    "vec = torch.randn(3)\n",
    "torch.mv(mat, vec)"
   ]
  },
  {
   "cell_type": "code",
   "execution_count": 16,
   "id": "da39c46e",
   "metadata": {},
   "outputs": [
    {
     "data": {
      "text/plain": [
       "tensor([[ 1.,  2.,  3.],\n",
       "        [ 2.,  4.,  6.],\n",
       "        [ 3.,  6.,  9.],\n",
       "        [ 4.,  8., 12.]])"
      ]
     },
     "execution_count": 16,
     "metadata": {},
     "output_type": "execute_result"
    }
   ],
   "source": [
    "v1 = torch.arange(1., 5.)\n",
    "v2 = torch.arange(1., 4.)\n",
    "torch.outer(v1, v2)"
   ]
  },
  {
   "cell_type": "code",
   "execution_count": 19,
   "id": "efb7b3ed",
   "metadata": {},
   "outputs": [
    {
     "name": "stdout",
     "output_type": "stream",
     "text": [
      "tensor([[-0.8571,  0.3943,  0.3314],\n",
      "        [-0.4286, -0.9029, -0.0343],\n",
      "        [ 0.2857, -0.1714,  0.9429]])\n",
      "tensor([[ -14.0000,  -21.0000,   14.0000],\n",
      "        [   0.0000, -175.0000,   70.0000],\n",
      "        [   0.0000,    0.0000,  -35.0000]])\n"
     ]
    }
   ],
   "source": [
    "a = torch.tensor([[12., -51, 4], [6, 167, -68], [-4, 24, -41]])\n",
    "q, r = torch.qr(a)\n",
    "print(q)\n",
    "print(r)"
   ]
  },
  {
   "cell_type": "code",
   "execution_count": 20,
   "id": "6e56657d",
   "metadata": {},
   "outputs": [
    {
     "name": "stderr",
     "output_type": "stream",
     "text": [
      "<ipython-input-20-2dc47a92198c>:3: UserWarning: torch.solve is deprecated in favor of torch.linalg.solveand will be removed in a future PyTorch release.\n",
      "torch.linalg.solve has its arguments reversed and does not return the LU factorization.\n",
      "To get the LU factorization see torch.lu, which can be used with torch.lu_solve or torch.lu_unpack.\n",
      "X = torch.solve(B, A).solution\n",
      "should be replaced with\n",
      "X = torch.linalg.solve(A, B) (Triggered internally at  ..\\aten\\src\\ATen\\native\\BatchLinearAlgebra.cpp:760.)\n",
      "  X, LU = torch.solve(B, A)\n"
     ]
    },
    {
     "data": {
      "text/plain": [
       "tensor(6.5206e-06)"
      ]
     },
     "execution_count": 20,
     "metadata": {},
     "output_type": "execute_result"
    }
   ],
   "source": [
    "A = torch.randn(2, 3, 1, 4, 4)\n",
    "B = torch.randn(2, 3, 1, 4, 6)\n",
    "X, LU = torch.solve(B, A)\n",
    "torch.dist(B, A.matmul(X))"
   ]
  },
  {
   "cell_type": "code",
   "execution_count": 21,
   "id": "c8201f39",
   "metadata": {},
   "outputs": [
    {
     "name": "stdout",
     "output_type": "stream",
     "text": [
      "tensor([[ 0.3117, -0.4150, -0.0856],\n",
      "        [ 0.2220, -0.8414,  0.1032],\n",
      "        [-0.1134, -0.0046,  0.4629],\n",
      "        [-0.6920, -0.2841, -0.6198],\n",
      "        [ 0.6016,  0.1979, -0.6194]])\n",
      "tensor([2.2635, 2.1693, 1.5099])\n",
      "tensor([[ 0.0397, -0.9673, -0.2505],\n",
      "        [ 0.7683, -0.1308,  0.6266],\n",
      "        [ 0.6388,  0.2173, -0.7380]])\n"
     ]
    }
   ],
   "source": [
    "a = torch.randn(5, 3)\n",
    "u, s, v = torch.svd(a)\n",
    "print(u)\n",
    "print(s)\n",
    "print(v)"
   ]
  },
  {
   "cell_type": "code",
   "execution_count": 22,
   "id": "f0bc681b",
   "metadata": {},
   "outputs": [
    {
     "name": "stderr",
     "output_type": "stream",
     "text": [
      "<ipython-input-22-b475e1e86a61>:2: UserWarning: torch.symeig is deprecated in favor of torch.linalg.eigh and will be removed in a future PyTorch release.\n",
      "The default behavior has changed from using the upper triangular portion of the matrix by default to using the lower triangular portion.\n",
      "L, _ = torch.symeig(A, upper=upper)\n",
      "should be replaced with\n",
      "L = torch.linalg.eigvalsh(A, UPLO='U' if upper else 'L')\n",
      "and\n",
      "L, V = torch.symeig(A, eigenvectors=True)\n",
      "should be replaced with\n",
      "L, V = torch.linalg.eigh(A, UPLO='U' if upper else 'L') (Triggered internally at  ..\\aten\\src\\ATen\\native\\BatchLinearAlgebra.cpp:2500.)\n",
      "  e, v = torch.symeig(a, eigenvectors=True)\n"
     ]
    }
   ],
   "source": [
    "a = torch.randn(5, 5)\n",
    "e, v = torch.symeig(a, eigenvectors=True)"
   ]
  },
  {
   "cell_type": "code",
   "execution_count": 23,
   "id": "dcf5aca0",
   "metadata": {},
   "outputs": [
    {
     "data": {
      "text/plain": [
       "tensor(indices=tensor([[1, 1],\n",
       "                       [0, 2]]),\n",
       "       values=tensor([ 9, 10]),\n",
       "       size=(3, 3), nnz=2, layout=torch.sparse_coo)"
      ]
     },
     "execution_count": 23,
     "metadata": {},
     "output_type": "execute_result"
    }
   ],
   "source": [
    "d = torch.tensor([[0, 0, 0], [9, 0, 10], [0, 0, 0]])\n",
    "d.to_sparse()"
   ]
  },
  {
   "cell_type": "code",
   "execution_count": 24,
   "id": "ef14e386",
   "metadata": {},
   "outputs": [
    {
     "data": {
      "text/plain": [
       "tensor([[0.1699, 0.1815],\n",
       "        [0.3992, 0.9767]], grad_fn=<SparseAddmmBackward>)"
      ]
     },
     "execution_count": 24,
     "metadata": {},
     "output_type": "execute_result"
    }
   ],
   "source": [
    "a = torch.randn(2, 3).to_sparse().requires_grad_(True)\n",
    "b = torch.randn(3, 2, requires_grad=True)\n",
    "y = torch.sparse.mm(a, b)\n",
    "y"
   ]
  },
  {
   "cell_type": "code",
   "execution_count": 25,
   "id": "97428a37",
   "metadata": {},
   "outputs": [],
   "source": [
    "expected = np.array([1e0, 1e-1, 1e-2])\n",
    "actual = np.arccos(np.cos(expected))\n",
    "torch.testing.assert_close(actual, expected)"
   ]
  },
  {
   "cell_type": "code",
   "execution_count": 30,
   "id": "c95d8fe8",
   "metadata": {},
   "outputs": [
    {
     "name": "stdout",
     "output_type": "stream",
     "text": [
      "False\n",
      "False\n"
     ]
    }
   ],
   "source": [
    "class SimpleCustomBatch:\n",
    "    def __init__(self, data):\n",
    "        transposed_data = list(zip(*data))\n",
    "        self.inp = torch.stack(transposed_data[0], 0)\n",
    "        self.tgt = torch.stack(transposed_data[1], 0)\n",
    "    def pin_memory(self):\n",
    "        self.inp = self.inp.pin_memory()\n",
    "        self.tgt = self.tgt.pin_memory()\n",
    "def collate_wrapper(batch):\n",
    "    return SimpleCustomBatch(batch)\n",
    "\n",
    "inps = torch.arange(10 * 5, dtype=torch.float32).view(10, 5)\n",
    "thts = torch.arange(10 * 5, dtype=torch.float32).view(10, 5)\n",
    "dataset = (inps, thts)\n",
    "loader = torch.utils.data.DataLoader(dataset, batch_size=2, collate_fn=collate_wrapper, pin_memory=True)\n",
    "for batch_ndx, sample in enumerate(loader):\n",
    "    print(sample.inp.is_pinned())\n",
    "    print(sample.tgt.is_pinned())"
   ]
  },
  {
   "cell_type": "code",
   "execution_count": 35,
   "id": "c7b47922",
   "metadata": {},
   "outputs": [
    {
     "name": "stdout",
     "output_type": "stream",
     "text": [
      "[tensor([3]), tensor([4]), tensor([5]), tensor([6])]\n"
     ]
    }
   ],
   "source": [
    "class MyIteratorDataset(torch.utils.data.IterableDataset):\n",
    "    def __init__(self, start, end):\n",
    "        super(MyIteratorDataset).__init__()\n",
    "        assert end > start, \"this example will workd with end >= start\"\n",
    "        self.start = start\n",
    "        self.end = end\n",
    "    def __iter__(self):\n",
    "        worker_info = torch.utils.data.get_worker_info()\n",
    "        if worker_info is None:\n",
    "            iter_start = self.start\n",
    "            iter_end = self.end\n",
    "        else:\n",
    "            per_worker = int(math.ceil((self.end - self.start)/float(worker_info_num_workers)))\n",
    "            worker_id = worker_info.id\n",
    "            iter_start = self.start + worker_id * per_worker\n",
    "            iter_end = min(iter_start + per_worker, self.end)\n",
    "        return iter(range(iter_start, iter_end))\n",
    "ds = MyIteratorDataset(start=3, end=7)\n",
    "print(list(torch.utils.data.DataLoader(ds, num_workers=0)))"
   ]
  },
  {
   "cell_type": "code",
   "execution_count": 40,
   "id": "a0c9cebe",
   "metadata": {},
   "outputs": [
    {
     "name": "stdout",
     "output_type": "stream",
     "text": [
      "[tensor([3]), tensor([4]), tensor([5]), tensor([6])]\n"
     ]
    }
   ],
   "source": [
    "class MyIterableDataset(torch.utils.data.IterableDataset):\n",
    "    def __init__(self, start, end):\n",
    "        super(MyIterableDataset).__init__()\n",
    "        assert end > start, \"This example code only works wityh end >= start\"\n",
    "        self.start = start\n",
    "        self.end = end\n",
    "    def __iter__(self):\n",
    "        return iter(range(self.start, self.end))\n",
    "ds = MyIterableDataset(start=3, end = 7)\n",
    "print(list(torch.utils.data.DataLoader(ds, num_workers=0)))"
   ]
  },
  {
   "cell_type": "code",
   "execution_count": 46,
   "id": "1bebaa7b",
   "metadata": {},
   "outputs": [
    {
     "data": {
      "text/plain": [
       "<capsule object \"dltensor\" at 0x0000019802016F00>"
      ]
     },
     "execution_count": 46,
     "metadata": {},
     "output_type": "execute_result"
    }
   ],
   "source": [
    "t = torch.arange(4)\n",
    "capsule = torch.utils.dlpack.to_dlpack(t)\n",
    "capsule"
   ]
  },
  {
   "cell_type": "code",
   "execution_count": 48,
   "id": "ce4287d5",
   "metadata": {},
   "outputs": [],
   "source": [
    "t3 = torch.utils.dlpack.from_dlpack(capsule)"
   ]
  },
  {
   "cell_type": "code",
   "execution_count": 49,
   "id": "3e48431b",
   "metadata": {},
   "outputs": [
    {
     "name": "stdout",
     "output_type": "stream",
     "text": [
      "tensor([0, 1, 2, 3])\n",
      "tensor([-9,  1,  2,  3])\n",
      "tensor([-9,  1,  2,  3])\n"
     ]
    }
   ],
   "source": [
    "print(t3)\n",
    "t3[0] = -9\n",
    "print(t3)\n",
    "print(t)"
   ]
  },
  {
   "cell_type": "code",
   "execution_count": 50,
   "id": "48455ea2",
   "metadata": {},
   "outputs": [],
   "source": [
    "import torch.utils.mobile_optimizer"
   ]
  },
  {
   "cell_type": "code",
   "execution_count": null,
   "id": "6ac49f88",
   "metadata": {},
   "outputs": [
    {
     "name": "stderr",
     "output_type": "stream",
     "text": [
      "Downloading: \"https://s3.amazonaws.com/pytorch/models/resnet18-5c106cde.pth\" to C:\\Users\\jatin/.cache\\torch\\hub\\checkpoints\\resnet18-5c106cde.pth\n"
     ]
    },
    {
     "data": {
      "application/vnd.jupyter.widget-view+json": {
       "model_id": "d801746371f549769a02a665cf2fd787",
       "version_major": 2,
       "version_minor": 0
      },
      "text/plain": [
       "  0%|          | 0.00/44.7M [00:00<?, ?B/s]"
      ]
     },
     "metadata": {},
     "output_type": "display_data"
    }
   ],
   "source": [
    "state_dict = torch.hub.load_state_dict_from_url(\"https://s3.amazonaws.com/pytorch/models/resnet18-5c106cde.pth\")"
   ]
  },
  {
   "cell_type": "code",
   "execution_count": 54,
   "id": "a7a0ce2b",
   "metadata": {},
   "outputs": [],
   "source": [
    "import torch.utils.model_zoo"
   ]
  },
  {
   "cell_type": "code",
   "execution_count": 55,
   "id": "02e3f41a",
   "metadata": {},
   "outputs": [],
   "source": [
    "from torch.utils.tensorboard import SummaryWriter"
   ]
  },
  {
   "cell_type": "code",
   "execution_count": 58,
   "id": "c9d1f7fb",
   "metadata": {},
   "outputs": [],
   "source": [
    "import numpy as np\n",
    "writer = SummaryWriter()\n",
    "for n_iter in range(100):\n",
    "    writer.add_scalar('Loss/train', np.random.random(), n_iter)\n",
    "    writer.add_scalar(\"Loss/test\", np.random.random(), n_iter)\n",
    "    writer.add_scalar(\"Accuracy/train\", np.random.random(), n_iter)\n",
    "    writer.add_scalar('Accuracy/test', np.random.random(), n_iter)\n",
    "writer.close()"
   ]
  },
  {
   "cell_type": "code",
   "execution_count": 59,
   "id": "7f67e125",
   "metadata": {},
   "outputs": [],
   "source": [
    "writer = SummaryWriter()\n",
    "x = range(100)\n",
    "for i in x:\n",
    "    writer.add_scalar('y=2x', i * 2, i)\n",
    "writer.close()"
   ]
  },
  {
   "cell_type": "code",
   "execution_count": 60,
   "id": "1cd7dbe0",
   "metadata": {},
   "outputs": [],
   "source": [
    "writer = SummaryWriter()\n",
    "for i in range(10):\n",
    "    x = np.random.random(1000)\n",
    "writer.add_histogram(\"distribution centers\", x + i, i)\n",
    "writer.close()"
   ]
  },
  {
   "cell_type": "code",
   "execution_count": 62,
   "id": "29903d2c",
   "metadata": {},
   "outputs": [
    {
     "name": "stderr",
     "output_type": "stream",
     "text": [
      "<ipython-input-62-eb74a8e0f1fd>:1: UserWarning: Named tensors and all their associated APIs are an experimental feature and subject to change. Please do not use them for anything important until they are released as stable. (Triggered internally at  ..\\c10/core/TensorImpl.h:1156.)\n",
      "  torch.zeros(2, 3, names=('N', 'C'))\n"
     ]
    },
    {
     "data": {
      "text/plain": [
       "tensor([[0., 0., 0.],\n",
       "        [0., 0., 0.]], names=('N', 'C'))"
      ]
     },
     "execution_count": 62,
     "metadata": {},
     "output_type": "execute_result"
    }
   ],
   "source": [
    "torch.zeros(2, 3, names=('N', 'C'))"
   ]
  },
  {
   "cell_type": "code",
   "execution_count": 63,
   "id": "fd84a7db",
   "metadata": {},
   "outputs": [
    {
     "data": {
      "text/plain": [
       "('N', 'C', 'height', 'width')"
      ]
     },
     "execution_count": 63,
     "metadata": {},
     "output_type": "execute_result"
    }
   ],
   "source": [
    "imgs = torch.randn(1 ,2, 2, 3, names=('N', 'C', 'H', 'W'))\n",
    "renamed_imgs = imgs.rename(H='height', W=\"width\")\n",
    "renamed_imgs.names"
   ]
  },
  {
   "cell_type": "code",
   "execution_count": 64,
   "id": "b2aeebf4",
   "metadata": {},
   "outputs": [
    {
     "data": {
      "text/plain": [
       "('N', 'C', 'H', 'W')"
      ]
     },
     "execution_count": 64,
     "metadata": {},
     "output_type": "execute_result"
    }
   ],
   "source": [
    "imgs = torch.randn(32, 3, 128, 128)\n",
    "named_imgs = imgs.refine_names('N', 'C', \"H\", 'W')\n",
    "named_imgs.names"
   ]
  },
  {
   "cell_type": "code",
   "execution_count": 65,
   "id": "e292675e",
   "metadata": {},
   "outputs": [
    {
     "data": {
      "text/plain": [
       "(('N', 'features'), torch.Size([32, 49152]))"
      ]
     },
     "execution_count": 65,
     "metadata": {},
     "output_type": "execute_result"
    }
   ],
   "source": [
    "imgs = torch.randn(32, 3, 128, 128, names=('N', 'C', 'H', 'W'))\n",
    "flat_imgs = imgs.flatten(['C', 'H', 'W'], 'features')\n",
    "flat_imgs.names, flat_imgs.shape"
   ]
  },
  {
   "cell_type": "code",
   "execution_count": 66,
   "id": "ccc7355b",
   "metadata": {},
   "outputs": [
    {
     "data": {
      "text/plain": [
       "tensor([[ 0.2717],\n",
       "        [-0.6989]], names=('B1', 'B2'))"
      ]
     },
     "execution_count": 66,
     "metadata": {},
     "output_type": "execute_result"
    }
   ],
   "source": [
    "torch.randn(2, names=('A',)).unflatten('A', (('B1', -1), ('B2', 1)))"
   ]
  },
  {
   "cell_type": "code",
   "execution_count": 69,
   "id": "8da33bbf",
   "metadata": {},
   "outputs": [
    {
     "data": {
      "text/plain": [
       "('F', 'E', 'A', 'B', 'C', 'D')"
      ]
     },
     "execution_count": 69,
     "metadata": {},
     "output_type": "execute_result"
    }
   ],
   "source": [
    "tensor = torch.randn(2, 2, 2, 2, 2, 2)\n",
    "named_tensor = tensor.refine_names('A', 'B', 'C', 'D', 'E', 'F')\n",
    "named_tensor.align_to('F', 'E', ...).names"
   ]
  },
  {
   "cell_type": "code",
   "execution_count": 71,
   "id": "74957a53",
   "metadata": {},
   "outputs": [
    {
     "data": {
      "text/plain": [
       "('N', 'H', 'W', 'C')"
      ]
     },
     "execution_count": 71,
     "metadata": {},
     "output_type": "execute_result"
    }
   ],
   "source": [
    "mask = torch.randint(2, [127, 128], dtype=torch.bool).refine_names('W', 'H')\n",
    "imgs = torch.randn(32, 128, 127, 3, names=('N', 'H', 'W', 'C'))\n",
    "imgs.masked_fill_(mask.align_as(imgs), 0).names"
   ]
  },
  {
   "cell_type": "code",
   "execution_count": 74,
   "id": "c5fbdf55",
   "metadata": {},
   "outputs": [],
   "source": [
    "import torchaudio"
   ]
  },
  {
   "cell_type": "code",
   "execution_count": 77,
   "id": "d20e0bc3",
   "metadata": {},
   "outputs": [
    {
     "data": {
      "text/plain": [
       "torch.Size([2, 1025, 231])"
      ]
     },
     "execution_count": 77,
     "metadata": {},
     "output_type": "execute_result"
    }
   ],
   "source": [
    "import math\n",
    "freq, hop_length = 1025, 512\n",
    "complex_specgrams = torch.randn(2, freq, 300, dtype=torch.cfloat)\n",
    "rate = 1.3\n",
    "phase_advance = torch.linspace(0, math.pi * hop_length, freq)[..., None]\n",
    "x = torchaudio.functional.phase_vocoder(complex_specgrams, rate, phase_advance)\n",
    "x.shape"
   ]
  },
  {
   "cell_type": "code",
   "execution_count": 78,
   "id": "a6567490",
   "metadata": {},
   "outputs": [],
   "source": [
    "specgram = torch.randn(1, 40, 1000)\n",
    "delta = torchaudio.functional.compute_deltas(specgram)"
   ]
  },
  {
   "cell_type": "code",
   "execution_count": 80,
   "id": "7176ca01",
   "metadata": {},
   "outputs": [
    {
     "data": {
      "text/plain": [
       "torch.Size([1, 40, 1000])"
      ]
     },
     "execution_count": 80,
     "metadata": {},
     "output_type": "execute_result"
    }
   ],
   "source": [
    "delta.shape"
   ]
  },
  {
   "cell_type": "markdown",
   "id": "feec943b",
   "metadata": {},
   "source": [
    "# Audio I/O"
   ]
  },
  {
   "cell_type": "code",
   "execution_count": 4,
   "id": "fb7bc72b",
   "metadata": {},
   "outputs": [
    {
     "name": "stdout",
     "output_type": "stream",
     "text": [
      "1.9.1+cpu\n",
      "0.9.1\n"
     ]
    }
   ],
   "source": [
    "import torch\n",
    "import torchaudio\n",
    "print(torch.__version__)\n",
    "print(torchaudio.__version__)\n",
    "import os\n",
    "import requests\n",
    "import matplotlib.pyplot as plt"
   ]
  },
  {
   "cell_type": "code",
   "execution_count": 5,
   "id": "d574313d",
   "metadata": {},
   "outputs": [],
   "source": [
    "_SAMPLE_DIR = \"_assets\"\n",
    "SAMPLE_WAV_URL = \"https://pytorch-tutorial-assets.s3.amazonaws.com/steam-train-whistle-daniel_simon.wav\"\n",
    "SAMPLE_WAV_PATH = os.path.join(_SAMPLE_DIR, \"steam.wav\")\n",
    "\n",
    "SAMPLE_MP3_URL = \"https://pytorch-tutorial-assets.s3.amazonaws.com/steam-train-whistle-daniel_simon.mp3\"\n",
    "SAMPLE_MP3_PATH = os.path.join(_SAMPLE_DIR, \"steam.mp3\")\n",
    "\n",
    "SAMPLE_GSM_URL = \"https://pytorch-tutorial-assets.s3.amazonaws.com/steam-train-whistle-daniel_simon.gsm\"\n",
    "SAMPLE_GSM_PATH = os.path.join(_SAMPLE_DIR, \"steam.gsm\")\n",
    "\n",
    "SAMPLE_WAV_SPEECH_URL = \"https://pytorch-tutorial-assets.s3.amazonaws.com/VOiCES_devkit/source-16k/train/sp0307/Lab41-SRI-VOiCES-src-sp0307-ch127535-sg0042.wav\"  # noqa: E501\n",
    "SAMPLE_WAV_SPEECH_PATH = os.path.join(_SAMPLE_DIR, \"speech.wav\")\n",
    "\n",
    "SAMPLE_TAR_URL = \"https://pytorch-tutorial-assets.s3.amazonaws.com/VOiCES_devkit.tar.gz\"\n",
    "SAMPLE_TAR_PATH = os.path.join(_SAMPLE_DIR, \"sample.tar.gz\")\n",
    "SAMPLE_TAR_ITEM = \"VOiCES_devkit/source-16k/train/sp0307/Lab41-SRI-VOiCES-src-sp0307-ch127535-sg0042.wav\"\n",
    "\n",
    "S3_BUCKET = \"pytorch-tutorial-assets\"\n",
    "S3_KEY = \"VOiCES_devkit/source-16k/train/sp0307/Lab41-SRI-VOiCES-src-sp0307-ch127535-sg0042.wav\""
   ]
  },
  {
   "cell_type": "code",
   "execution_count": 6,
   "id": "49131657",
   "metadata": {},
   "outputs": [],
   "source": [
    "def _fetch_data():\n",
    "    os.makedirs(_SAMPLE_DIR, exist_ok=True)\n",
    "    uri = [(SAMPLE_WAV_URL, SAMPLE_WAV_PATH), (SAMPLE_MP3_URL, SAMPLE_MP3_PATH), \n",
    "          (SAMPLE_GSM_URL, SAMPLE_GSM_PATH), (SAMPLE_WAV_SPEECH_URL, SAMPLE_WAV_SPEECH_PATH), \n",
    "          (SAMPLE_TAR_URL, SAMPLE_TAR_PATH)]\n",
    "    for url, path in uri:\n",
    "        with open(path, \"wb\") as file_:\n",
    "            file_.write(requests.get(url).content)\n",
    "_fetch_data()"
   ]
  },
  {
   "cell_type": "code",
   "execution_count": 7,
   "id": "563d54fb",
   "metadata": {},
   "outputs": [],
   "source": [
    "def print_stats(waveform, sample_rate=None, src=None):\n",
    "    if src:\n",
    "        print(\"-\" * 10)\n",
    "        print(\"Source:\", src)\n",
    "        print(\"-\" * 10)\n",
    "    if sample_rate:\n",
    "        print(\"Sample Rate:\", sample_rate)\n",
    "    print(\"shape: \", tuple(waveform.shape))\n",
    "    print(\"Dtype:\", waveform.dtype)\n",
    "    print(f\"- Max: {waveform.max().item():6.3f}\")\n",
    "    print(f\"- Min: {waveform.min().item():6.3f}\")\n",
    "    print(f\"- Mean: {waveform.mean().item():6.3f}\")\n",
    "    print(f\"- Std Dev: {waveform.std().item():6.3f}\")\n",
    "    print()\n",
    "    print(waveform)\n",
    "    print()\n",
    "    "
   ]
  },
  {
   "cell_type": "code",
   "execution_count": 8,
   "id": "eb1d5069",
   "metadata": {},
   "outputs": [],
   "source": [
    "def plot_waveform(waveform, sample_rate, titles=\"waveform\", xlim=None, ylim=None):\n",
    "    waveform = waveform.numpy()\n",
    "    num_channels, num_frames = waveform.shape\n",
    "    time_axis = torch.arange(0, num_frames) / sample_rate\n",
    "    figure, axes = plt.subplots(num_channels, 1)\n",
    "    if num_channels == 1:\n",
    "        axes = [axes]\n",
    "    for c in range(num_channels):\n",
    "        axes[c].plot(time_axis, waveform[c], linewidth=1)\n",
    "        axes[c].grid(True)\n",
    "        if num_channels> 1:\n",
    "            axes[c].set_ylabel(f\"Channel {c + 1}\")\n",
    "        if xlim:\n",
    "            axes[c].set_xlim(xlim)\n",
    "        if ylim:\n",
    "            axes[c].set_ylim(ylim)\n",
    "    figure.suptitle(title)\n",
    "    plt.show(block=False)"
   ]
  },
  {
   "cell_type": "code",
   "execution_count": 9,
   "id": "0a9f1d77",
   "metadata": {},
   "outputs": [],
   "source": [
    "def plot_specgram(waveform, sample_rate, title=\"Spectrogram\", xlim=None):\n",
    "    waveform = waveform.numpy()\n",
    "    num_channels, num_frames = waveform.shape\n",
    "    figure, axes = plt.subplots(num_channels, 1)\n",
    "    if num_channels == 1:\n",
    "        axes = [axes]\n",
    "    for c in range(num_channels):\n",
    "        axes[c].specgram(waveform[c], Fs=sample_rate)\n",
    "        if num_channels > 1:\n",
    "            axes[c].set_ylabel(f\"Channel {c + 1}\")\n",
    "        if xlim:\n",
    "            axes[c].set_xlim(xlim)\n",
    "    figure.suptitle(title)\n",
    "    plt.show(block=False)"
   ]
  },
  {
   "cell_type": "code",
   "execution_count": 10,
   "id": "590da0c6",
   "metadata": {},
   "outputs": [],
   "source": [
    "def play_audio(waveform, sample_rate):\n",
    "    waveform=waveform.numpy()\n",
    "    num_channels, num_frames = waveform.shape\n",
    "    if num_channels == 1:\n",
    "        display(Audio(waveform[0], rate=sample_rate))\n",
    "    elif num_channels == 2:\n",
    "        display(Audio((waveform[0], waveform[1]), rate=sample_rate))\n",
    "    else:\n",
    "        raise ValueError(\"Waveform with more than 2 channels are not supported\")\n",
    "        "
   ]
  },
  {
   "cell_type": "code",
   "execution_count": 11,
   "id": "6099885f",
   "metadata": {},
   "outputs": [],
   "source": [
    "def _get_sample(path, resample=None):\n",
    "    effects = [[\"remix\", \"1\"]]\n",
    "    if resample:\n",
    "        effects.extend([\n",
    "            [\"lowpass\", f\"{resample//2}\"],\n",
    "            [\"rate\", f\"{resample}\"]\n",
    "        ])\n",
    "    return torchaudio.sox_effects.apply_effects_file(path, effects=effects)\n",
    "\n",
    "def get_sample(*, resample=None):\n",
    "    return _get_sample(SAMPLE_WAV_PATH, resample=resample)\n",
    "\n",
    "def inspect_file(path):\n",
    "    print(\"-\" * 10)\n",
    "    print(\"Source:\", path)\n",
    "    print(\"-\"*10)\n",
    "    print(f\"- File size: {os.path.getsize(path)} bytes\")\n",
    "    print(f\"- {torchaudio.info(path)}\")"
   ]
  },
  {
   "cell_type": "code",
   "execution_count": 12,
   "id": "e20abf62",
   "metadata": {},
   "outputs": [
    {
     "name": "stdout",
     "output_type": "stream",
     "text": [
      "AudioMetaData(sample_rate=44100, num_frames=109368, num_channels=2, bits_per_sample=16, encoding=PCM_S)\n"
     ]
    }
   ],
   "source": [
    "metadata = torchaudio.info(SAMPLE_WAV_PATH)\n",
    "print(metadata)"
   ]
  },
  {
   "cell_type": "code",
   "execution_count": 13,
   "id": "48645891",
   "metadata": {},
   "outputs": [
    {
     "data": {
      "text/plain": [
       "'soundfile'"
      ]
     },
     "execution_count": 13,
     "metadata": {},
     "output_type": "execute_result"
    }
   ],
   "source": [
    "str(torchaudio.get_audio_backend())"
   ]
  },
  {
   "cell_type": "code",
   "execution_count": 14,
   "id": "7b79f5ea",
   "metadata": {},
   "outputs": [],
   "source": [
    "# metadata = torchaudio.info(SAMPLE_MP3_PATH, format=\"mp3\")\n",
    "# print(metadata)\n",
    "# metadata = torchaudio.info(SAMPLE_GSM_PATH, format=\"gsm\")\n",
    "# print(metadata)"
   ]
  },
  {
   "cell_type": "code",
   "execution_count": 15,
   "id": "4a0432b6",
   "metadata": {},
   "outputs": [],
   "source": [
    "# print(\"Source:\", SAMPLE_WAV_URL)\n",
    "# with requests.get(SAMPLE_WAV_URL, stream=True) as response:\n",
    "#     metadata = torchaudio.info(response.raw)\n",
    "# print(metadata)"
   ]
  },
  {
   "cell_type": "code",
   "execution_count": 16,
   "id": "e4b003f5",
   "metadata": {},
   "outputs": [],
   "source": [
    "# print(\"Source\", SAMPLE_MP3_URL)\n",
    "# with requests.get(SAMPLE_MP3_URL, stream=True) as response:\n",
    "#     metadata = torchaudio.info(response.raw, format=\"mp3\")\n",
    "#     print(f\"Fetched {response.raw.tell()} bytes\")\n",
    "# print(metadata)"
   ]
  },
  {
   "cell_type": "code",
   "execution_count": null,
   "id": "26b87700",
   "metadata": {},
   "outputs": [
    {
     "name": "stdout",
     "output_type": "stream",
     "text": [
      "Sample Rate: 16000\n",
      "shape:  (1, 54400)\n",
      "Dtype: torch.float32\n",
      "- Max:  0.668\n",
      "- Min: -1.000\n",
      "- Mean:  0.000\n",
      "- Std Dev:  0.122\n",
      "\n",
      "tensor([[0.0183, 0.0180, 0.0180,  ..., 0.0018, 0.0019, 0.0032]])\n",
      "\n"
     ]
    }
   ],
   "source": [
    "waveform, sample_rate = torchaudio.load(SAMPLE_WAV_SPEECH_PATH)\n",
    "print_stats(waveform, sample_rate=sample_rate)\n",
    "plot_waveform(waveform, sample_rate)\n",
    "plot_specgram(waveform, sample_rate)\n",
    "play_audio(waveform, sample_rate)"
   ]
  },
  {
   "cell_type": "markdown",
   "id": "f4254487",
   "metadata": {},
   "source": [
    "# Audio Resampling"
   ]
  },
  {
   "cell_type": "code",
   "execution_count": 2,
   "id": "9cd6b366",
   "metadata": {},
   "outputs": [
    {
     "name": "stdout",
     "output_type": "stream",
     "text": [
      "1.9.1+cpu\n",
      "0.9.1\n"
     ]
    }
   ],
   "source": [
    "import torch\n",
    "import torchaudio\n",
    "import torchaudio.functional as F\n",
    "import torchaudio.transforms as T\n",
    "print(torch.__version__)\n",
    "print(torchaudio.__version__)"
   ]
  },
  {
   "cell_type": "code",
   "execution_count": 3,
   "id": "f5671703",
   "metadata": {},
   "outputs": [],
   "source": [
    "import math\n",
    "import time\n",
    "# import librosa\n",
    "import matplotlib.pyplot as plt\n",
    "import pandas as pd\n",
    "from IPython.display import Audio, display\n",
    "DEFAULT_OFFSET = 201\n",
    "SWEEP_MAX_SAMPLE_RATE = 48000\n",
    "DEFAULT_LOWPASS_FILTER_WIDTH = 6\n",
    "DEFAULT_ROLLOFF = 0.99\n",
    "DEFAULT_RESAMPLING_METHOD = \"sinc_interpolation\""
   ]
  },
  {
   "cell_type": "code",
   "execution_count": 4,
   "id": "35cdb32c",
   "metadata": {},
   "outputs": [],
   "source": [
    "def _get_log_freq(sample_rate, max_sweep_rate, offset):\n",
    "    start, stop = math.log(offset), math.log(offset + max_sweep_rate // 2)\n",
    "    return torch.exp(torch.linspace(start, stop, sample_rate, dtype=torch.double)) - offset"
   ]
  },
  {
   "cell_type": "code",
   "execution_count": 5,
   "id": "0e55a5b5",
   "metadata": {},
   "outputs": [],
   "source": [
    "def _get_inverse_log_freq(freq, sample_rate, offset):\n",
    "    half = sample_rate // 2\n",
    "    return sample_rate * (math.log(1 + freq / offset) / math.log(1 + half / offset))"
   ]
  },
  {
   "cell_type": "code",
   "execution_count": 6,
   "id": "7e112ab0",
   "metadata": {},
   "outputs": [],
   "source": [
    "def _get_freq_ticks(sample_rate, offset, f_max):\n",
    "    time, freq = [], []\n",
    "    for exp in range(2, 5):\n",
    "        for v in range(1, 10):\n",
    "            f = v * 10 ** exp\n",
    "            if f < sample_rate // 2:\n",
    "                t = _get_inverse_log_freq(f, sample_rate, offset) / sample_rate\n",
    "                time.append(t)\n",
    "                freq.append(f)\n",
    "    t_max = _get_inverse_log_freq(f_max, sample_rate, offset) / sample_rate\n",
    "    time.append(t_max)\n",
    "    freq.append(f_max)\n",
    "    return time, freq"
   ]
  },
  {
   "cell_type": "code",
   "execution_count": 7,
   "id": "dc1ac8b8",
   "metadata": {},
   "outputs": [],
   "source": [
    "def get_sine_sweep(sample_rate, offset=DEFAULT_OFFSET):\n",
    "    max_sweep_rate = sample_rate\n",
    "    freq = _get_log_freq(sample_rate, max_sweep_rate, offset)\n",
    "    delta = 2 * math.pi * freq / sample_rate\n",
    "    cummulative = torch.cumsum(delta, dim=0)\n",
    "    signal = torch.sin(cummulative).unsqueeze(dim=0)\n",
    "    return signal"
   ]
  },
  {
   "cell_type": "code",
   "execution_count": 8,
   "id": "d2cdec30",
   "metadata": {},
   "outputs": [],
   "source": [
    "def plot_sweep(waveform, sample_rate, title, max_sweep_rate=SWEEP_MAX_SAMPLE_RATE, offset=DEFAULT_OFFSET):\n",
    "    x_ticks = [100, 500, 1000, 5000, 10000, 20000, max_sweep_rate // 2]\n",
    "    y_ticks = [1000, 5000, 10000, 20000, sample_rate // 2]\n",
    "    time, freq = _get_freq_ticks(max_sweep_rate, offset, sample_rate // 2)\n",
    "    freq_x = [f if f in x_ticks and f <= max_sweep_rate // 2 else None for f in freq]\n",
    "    freq_y = [f for f in freq if f >= 1000 and f in y_ticks and f <= sample_rate // 2]\n",
    "    figure, axis = plt.subplots(1, 1)\n",
    "    axis.specgram(waveform[0].numpy(), Fs=sample_rate)\n",
    "    plt.yticks(freq_y, freq_y)\n",
    "    plt.xticks(time, freq_x)\n",
    "    axis.set_xlabel(\"Original Signal Frequence (Hz, log scale)\")\n",
    "    axis.set_ylabel(\"Waveform Frequency (HZ)\")\n",
    "    axis.xaxis.grid(True, alpha=0.67)\n",
    "    axis.yaxis.grid(True, alpha=0.67)\n",
    "    figure.suptitle(f\"{title} (sample rate: {sample_rate} HZ)\")\n",
    "    plt.show(block=True)"
   ]
  },
  {
   "cell_type": "code",
   "execution_count": 9,
   "id": "f9dc831e",
   "metadata": {},
   "outputs": [],
   "source": [
    "def play_audio(waveform, sample_rate):\n",
    "    waveform = waveform.numpy()\n",
    "    num_channels, num_frames = waveform.shape\n",
    "    if num_channels == 1:\n",
    "        display(Audio(waveform[0], rate=sample_rate))\n",
    "    elif num_chanels == 2:\n",
    "        display(Audio(waveform[0], waveform[1]), rate=sample_rate)\n",
    "    else:\n",
    "        raise ValueError(\"Waveform with more than 2 channels are not supported\")\n",
    "    "
   ]
  },
  {
   "cell_type": "code",
   "execution_count": 10,
   "id": "0e765f4b",
   "metadata": {},
   "outputs": [],
   "source": [
    "def plot_specgram(waveform, sample_rate, title=\"Spectrogram\", xlim=None):\n",
    "    waveform = waveform.numpy()\n",
    "    num_channels, num_frames = waveform.shape\n",
    "    figure, axes = plt.subplot(num_channels, 1)\n",
    "    if num_channels == 1:\n",
    "        axes = [axes]\n",
    "    for c in range(num_channels):\n",
    "        axes[c].specgram(waveform[c], Fs=sample_rate)\n",
    "        if num_channels > 1:\n",
    "            axes[c].set_ylabel(f\"Channels {c + 1}\")\n",
    "        if xlim:\n",
    "            axes[c].set_xlim(xlim)\n",
    "    figure.suptitle(title)\n",
    "    plt.show(block=False)"
   ]
  },
  {
   "cell_type": "code",
   "execution_count": 28,
   "id": "00ef44d7",
   "metadata": {},
   "outputs": [],
   "source": [
    "def benchmark_resample(method, waveform, sample_rate, resample_rate, lowpass_filter_width=DEFAULT_LOWPASS_FILTER_WIDTH,\n",
    "                      rolloff=DEFAULT_ROLLOFF, resampling_method=DEFAULT_RESAMPLING_METHOD, beta=None, \n",
    "                       librosa_type=None, iters=5):\n",
    "    if method == \"functional\":\n",
    "        begin = time.time()\n",
    "        for _ in range(iters):\n",
    "            F.resample(waveform, sample_rate, resample_rate, lowpass_filter_width=lowpass_filter_width, rolloff=rolloff, \n",
    "                    resampling_method=resampling_method)\n",
    "        elapsed = time.time() - begin\n",
    "        return elapsed / iters\n",
    "    elif method == \"transforms\":\n",
    "        resampler = T.Resample(sample_rate, resample_rate, lowpass_filter_width=lowpass_filter_width, rolloff=rolloff, \n",
    "                              resampling_method=resampling_method, dtype=waveform.dtype)\n",
    "        begin = time.time()\n",
    "        for _ in range(iters):\n",
    "            resampler(waveform)\n",
    "        elapsed = time.time() - begin\n",
    "        return elapsed / iters\n",
    "    elif method == \"librosa\":\n",
    "        waveform_np = waveform.squeeze().numpy()\n",
    "        begin = time.time()\n",
    "        for _ in range(iters):\n",
    "            librosa.resample(waveform_np, orig_sr=sample_rate, target_sr=resample_rate, res_type=librosa_type)\n",
    "        elapsed = time.time() - begin\n",
    "        return elapsed / iters\n",
    "    "
   ]
  },
  {
   "cell_type": "code",
   "execution_count": 12,
   "id": "750596e4",
   "metadata": {},
   "outputs": [],
   "source": [
    "sample_rate = 48000\n",
    "resample_rate = 32000\n",
    "waveform = get_sine_sweep(sample_rate)\n"
   ]
  },
  {
   "cell_type": "code",
   "execution_count": 13,
   "id": "8d4c7eef",
   "metadata": {},
   "outputs": [
    {
     "data": {
      "text/html": [
       "\n",
       "                <audio  controls=\"controls\" >\n",
       "                    <source src=\"data:audio/wav;base64,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\" type=\"audio/wav\" />\n",
       "                    Your browser does not support the audio element.\n",
       "                </audio>\n",
       "              "
      ],
      "text/plain": [
       "<IPython.lib.display.Audio object>"
      ]
     },
     "metadata": {},
     "output_type": "display_data"
    }
   ],
   "source": [
    "play_audio(waveform, sample_rate)"
   ]
  },
  {
   "cell_type": "code",
   "execution_count": 14,
   "id": "23ac52c0",
   "metadata": {},
   "outputs": [],
   "source": [
    "sample_rate = 48000\n",
    "resample_rate = 32000\n",
    "resampled_waveform = F.resample(waveform, sample_rate, resample_rate, resampling_method=\"sinc_interpolation\")"
   ]
  },
  {
   "cell_type": "code",
   "execution_count": 36,
   "id": "cc14110d",
   "metadata": {},
   "outputs": [],
   "source": [
    "configs = {\n",
    "    \"downsample (48 -> 44.1 kHz)\": [48000, 44100],\n",
    "    \"downsample (16 -> 8kHz)\": [16000, 8000],\n",
    "    \"upsample (44.1 -> 48kHz)\": [44100, 48000],\n",
    "    \"upsample (8 -> 16 kHz)\": [8000, 16000],\n",
    "}\n",
    "for label in configs:\n",
    "    times, rows = [], []\n",
    "    sample_rate = configs[label][0]\n",
    "    resample_rate = configs[label][1]\n",
    "    waveform = get_sine_sweep(sample_rate)\n",
    "    \n",
    "    f_time = benchmark_resample(\"functional\", waveform, sample_rate, resample_rate, lowpass_filter_width=64)\n",
    "    t_time = benchmark_resample(\"transforms\", waveform, sample_rate, resample_rate, lowpass_filter_width=64)\n",
    "    times.append([None, 1000 * f_time, 1000 * t_time])\n",
    "    rows.append(\"sinc (width 64)\")\n",
    "    \n",
    "    f_time = benchmark_resample(\"functional\", waveform, sample_rate, resample_rate, lowpass_filter_width=64)\n",
    "    t_time = benchmark_resample(\"transforms\", waveform, sample_rate, resample_rate, lowpass_filter_width=64)\n",
    "    times.append([None, 1000 * f_time, 1000 * t_time])\n",
    "    rows.append(\"sinc (width 64)\")\n",
    "    \n",
    "    t_time = benchmark_resample(\"transforms\", waveform, sample_rate, resample_rate, lowpass_filter_width=64, \n",
    "                                rolloff=0.85\n",
    "                               , resampling_method=\"kaiser_window\", beta=8.555504641634386)\n",
    "    times.append([1000 * f_time * t_time])"
   ]
  },
  {
   "cell_type": "markdown",
   "id": "a3c6c43b",
   "metadata": {},
   "source": [
    "# Audio Data Augmentation"
   ]
  },
  {
   "cell_type": "code",
   "execution_count": 37,
   "id": "0ecee63d",
   "metadata": {},
   "outputs": [
    {
     "name": "stdout",
     "output_type": "stream",
     "text": [
      "1.9.1+cpu\n",
      "0.9.1\n"
     ]
    }
   ],
   "source": [
    "import torch\n",
    "import torchaudio\n",
    "import torchaudio.functional as F\n",
    "print(torch.__version__)\n",
    "print(torchaudio.__version__)"
   ]
  },
  {
   "cell_type": "code",
   "execution_count": 38,
   "id": "9864fbc8",
   "metadata": {},
   "outputs": [],
   "source": [
    "import math\n",
    "import os\n",
    "\n",
    "import matplotlib.pyplot as plt\n",
    "import requests\n",
    "from IPython.display import Audio, display\n",
    "\n",
    "\n",
    "_SAMPLE_DIR = \"_assets\"\n",
    "\n",
    "SAMPLE_WAV_URL = \"https://pytorch-tutorial-assets.s3.amazonaws.com/steam-train-whistle-daniel_simon.wav\"\n",
    "SAMPLE_WAV_PATH = os.path.join(_SAMPLE_DIR, \"steam.wav\")\n",
    "\n",
    "SAMPLE_RIR_URL = \"https://pytorch-tutorial-assets.s3.amazonaws.com/VOiCES_devkit/distant-16k/room-response/rm1/impulse/Lab41-SRI-VOiCES-rm1-impulse-mc01-stu-clo.wav\"  # noqa: E501\n",
    "SAMPLE_RIR_PATH = os.path.join(_SAMPLE_DIR, \"rir.wav\")\n",
    "\n",
    "SAMPLE_WAV_SPEECH_URL = \"https://pytorch-tutorial-assets.s3.amazonaws.com/VOiCES_devkit/source-16k/train/sp0307/Lab41-SRI-VOiCES-src-sp0307-ch127535-sg0042.wav\"  # noqa: E501\n",
    "SAMPLE_WAV_SPEECH_PATH = os.path.join(_SAMPLE_DIR, \"speech.wav\")\n",
    "\n",
    "SAMPLE_NOISE_URL = \"https://pytorch-tutorial-assets.s3.amazonaws.com/VOiCES_devkit/distant-16k/distractors/rm1/babb/Lab41-SRI-VOiCES-rm1-babb-mc01-stu-clo.wav\"  # noqa: E501\n",
    "SAMPLE_NOISE_PATH = os.path.join(_SAMPLE_DIR, \"bg.wav\")\n",
    "\n",
    "os.makedirs(_SAMPLE_DIR, exist_ok=True)"
   ]
  },
  {
   "cell_type": "code",
   "execution_count": 40,
   "id": "4dba4daf",
   "metadata": {},
   "outputs": [],
   "source": [
    "def _fetch_data():\n",
    "    uri = [\n",
    "        (SAMPLE_WAV_URL, SAMPLE_WAV_PATH),\n",
    "        (SAMPLE_RIR_URL, SAMPLE_RIR_PATH),\n",
    "        (SAMPLE_WAV_SPEECH_URL, SAMPLE_WAV_SPEECH_PATH),\n",
    "        (SAMPLE_NOISE_URL, SAMPLE_NOISE_PATH)\n",
    "    ]\n",
    "    for url, path in uri:\n",
    "        with open(path, \"wb\") as file_:\n",
    "            file_.write(requests.get(url).content)\n",
    "_fetch_data()"
   ]
  },
  {
   "cell_type": "code",
   "execution_count": 47,
   "id": "819fa18d",
   "metadata": {},
   "outputs": [],
   "source": [
    "def _get_sample(path, resample=None):\n",
    "    effects = [[\"remix\", \"1\"]]\n",
    "    if resample:\n",
    "        effects.extend([\n",
    "            [\"lowpass\", f\"{resample // 2}\"],\n",
    "            [\"rate\", f\"{resample}\"]\n",
    "        ])\n",
    "    return torchaudio.sox_effects.apply_effects_file(path, effects=effects)"
   ]
  },
  {
   "cell_type": "code",
   "execution_count": 42,
   "id": "3489e132",
   "metadata": {},
   "outputs": [],
   "source": [
    "def get_sample(*, resample=None):\n",
    "    return _get_sample(SAMPLE_WAV_PATH, resample=resample)\n",
    "\n",
    "def get_speech_sample(*, resample=None):\n",
    "    return _get_sample(SAMPLE_WAV_SPEECH_PATH, resample=resample)\n",
    "\n",
    "def plot_waveform(waveform, sample_rate, title=\"Waveform\", xlim=None, ylim=None):\n",
    "    waveform = waveform.numpy()\n",
    "    num_channels, num_frames = waveform.shape\n",
    "    time_axis = torch.arange(0, num_frames) / sample_rate\n",
    "    \n",
    "    figure, axes = plt.subplot(num_channels, 1)\n",
    "    if num_channels == 1:\n",
    "        axes = [axes]\n",
    "    for c in range(num_channels):\n",
    "        axes[c].plot(time_axis, waveform[c], linewidth=1)\n",
    "        axes[c].grid(True)\n",
    "        if num_channels > 1:\n",
    "            axes[c].set_ylabel(f\"Channel {c + 1}\")\n",
    "        if xlim:\n",
    "            axes[c].set_xlim(xlim)\n",
    "        if ylim:\n",
    "            axes[c].set_ylim(ylim)\n",
    "    figure.suptitle(title)\n",
    "    plt.show(block=False)"
   ]
  },
  {
   "cell_type": "code",
   "execution_count": 43,
   "id": "2f94c46b",
   "metadata": {},
   "outputs": [],
   "source": [
    "def print_stats(waveform, sample_rate=None, src=None):\n",
    "    if src:\n",
    "        print(\"-\" * 10)\n",
    "        print(\"Source\", src)\n",
    "        print(\"-\" * 10)\n",
    "    if sample_rate:\n",
    "        print(\"Sample Rate:\", sample_rate)\n",
    "    print(\"Shape\", tuple(waveform.shape))\n",
    "    print(\"Dtype\", waveform.dtype)\n",
    "    print(f\" - Max: {waveform.max().item():6.3f}\")\n",
    "    print(f\" - Min: {waveform.min().item():6.3f}\")\n",
    "    print(f\" - Mean: {waveform.mean().item():6.3f}\")\n",
    "    print(f\" - Std Dev: {waveform.std().item():6.3f}\")\n",
    "    print()\n",
    "    print(waveform)\n",
    "    print()"
   ]
  },
  {
   "cell_type": "code",
   "execution_count": 44,
   "id": "c0dec85a",
   "metadata": {},
   "outputs": [],
   "source": [
    "def play_audio(waveform, sample_rate):\n",
    "    waveform = waveform.numpy()\n",
    "    num_channels, num_frames = waveform.shape\n",
    "    if num_channels == 1:\n",
    "        return Audio(waveform[0], rate=sample_rate)\n",
    "    elif num_channels == 2:\n",
    "        return Audio(waveform[0], waveform[1], rate=sample_rate)\n",
    "    else:\n",
    "        raise ValueError(\"Waveform width more than 2 channels are not supported\")"
   ]
  },
  {
   "cell_type": "code",
   "execution_count": 45,
   "id": "438de1f9",
   "metadata": {},
   "outputs": [],
   "source": [
    "def get_rir_sample(*, resample=None, processed=False):\n",
    "    rir_raw, sample_rate = _get_sample(SAMPLE_RIR_PATH, resample=resample)\n",
    "    if not processed:\n",
    "        return rir_raw, sample_rate\n",
    "    rir = rir_raw[:, int(sample_rate * 1.01) : int(sample_rate * 1.3)]\n",
    "    rir = rir / torch.norm(rir, p = 2)\n",
    "    rir = torch.flip(rir, [1])\n",
    "    return rir, sample_rate\n",
    "def get_noise_sample(*, resample=None):\n",
    "    return _get_sample(SAMPLE_NOISE_PATH, resample=resample)"
   ]
  },
  {
   "cell_type": "markdown",
   "id": "882ac77c",
   "metadata": {},
   "source": [
    "# Torch Model"
   ]
  },
  {
   "cell_type": "code",
   "execution_count": 53,
   "id": "1a4902d9",
   "metadata": {},
   "outputs": [
    {
     "name": "stdout",
     "output_type": "stream",
     "text": [
      "1.9.1+cpu\n",
      "0.9.1\n",
      "cpu\n"
     ]
    }
   ],
   "source": [
    "import os\n",
    "import IPython\n",
    "import matplotlib\n",
    "import matplotlib.pyplot as plt\n",
    "import requests\n",
    "import torch\n",
    "import torchaudio\n",
    "matplotlib.rcParams[\"figure.figsize\"] = [16.0, 4.8]\n",
    "torch.random.manual_seed(0)\n",
    "device = torch.device(\"cuda\" if torch.cuda.is_available() else \"cpu\")\n",
    "print(torch.__version__)\n",
    "print(torchaudio.__version__)\n",
    "print(device)"
   ]
  },
  {
   "cell_type": "code",
   "execution_count": 54,
   "id": "3fec09cf",
   "metadata": {},
   "outputs": [],
   "source": [
    "SPEECH_URL = \"https://pytorch-tutorial-assets.s3.amazonaws.com/VOiCES_devkit/source-16k/train/sp0307/Lab41-SRI-VOiCES-src-sp0307-ch127535-sg0042.wav\"  # noqa: E501\n",
    "SPEECH_FILE = \"_assets/speech.wav\"\n",
    "\n",
    "if not os.path.exists(SPEECH_FILE):\n",
    "    os.makedirs(\"_assets\", exist_ok=True)\n",
    "    with open(SPEECH_FILE, \"wb\") as file:\n",
    "        file.write(requests.get(SPEECH_URL).content)"
   ]
  },
  {
   "cell_type": "markdown",
   "id": "5e668267",
   "metadata": {},
   "source": [
    "# torch vision"
   ]
  },
  {
   "cell_type": "code",
   "execution_count": 6,
   "id": "d2b1699a",
   "metadata": {},
   "outputs": [],
   "source": [
    "import torchvision.transforms as transforms\n",
    "import torch"
   ]
  },
  {
   "cell_type": "code",
   "execution_count": 8,
   "id": "8e006769",
   "metadata": {},
   "outputs": [],
   "source": [
    "transform = torch.nn.Sequential(transforms.CenterCrop(10), transforms.Normalize((0.485, 0.456, 0.406), (0.229, 0.224, 0.225)))\n",
    "script_transforms = torch.jit.script(transform)"
   ]
  },
  {
   "cell_type": "code",
   "execution_count": 10,
   "id": "983e0e19",
   "metadata": {},
   "outputs": [
    {
     "data": {
      "text/plain": [
       "Compose(\n",
       "    CenterCrop(size=(10, 10))\n",
       "    PILToTensor()\n",
       "    ConvertImageDtype()\n",
       ")"
      ]
     },
     "execution_count": 10,
     "metadata": {},
     "output_type": "execute_result"
    }
   ],
   "source": [
    "transforms.Compose([\n",
    "    transforms.CenterCrop(10),\n",
    "    transforms.PILToTensor(),\n",
    "    transforms.ConvertImageDtype(torch.float),\n",
    "])"
   ]
  },
  {
   "cell_type": "code",
   "execution_count": 11,
   "id": "092c27a0",
   "metadata": {},
   "outputs": [
    {
     "data": {
      "text/plain": [
       "Grayscale(num_output_channels=5)"
      ]
     },
     "execution_count": 11,
     "metadata": {},
     "output_type": "execute_result"
    }
   ],
   "source": [
    "transforms.Grayscale(5)"
   ]
  },
  {
   "cell_type": "code",
   "execution_count": 14,
   "id": "7ffca6df",
   "metadata": {},
   "outputs": [],
   "source": [
    "transform = transforms.RandomApply(torch.nn.ModuleList([\n",
    "    transforms.ColorJitter()\n",
    "]), p=0.3)"
   ]
  },
  {
   "cell_type": "code",
   "execution_count": 16,
   "id": "abdc79e2",
   "metadata": {},
   "outputs": [],
   "source": [
    "transfrom = transforms.Compose([\n",
    "    transforms.RandomHorizontalFlip(),\n",
    "    transforms.PILToTensor(),\n",
    "    transforms.Normalize((0.485, 0.456, 0.406), (0.229, 0.224, 0.225)),\n",
    "    transforms.RandomErasing()\n",
    "])"
   ]
  },
  {
   "cell_type": "code",
   "execution_count": 18,
   "id": "77bf2ad7",
   "metadata": {},
   "outputs": [],
   "source": [
    "import torchvision.transforms.functional as TF\n",
    "import random\n",
    "class MyRotationTransform:\n",
    "    def __init__(self, angles):\n",
    "        self.angles = angles\n",
    "    def __call__(self, x):\n",
    "        angle = random.choice(self.angles)\n",
    "        return TF.rotate(x, angles)\n",
    "rotation_transform = MyRotationTransform(angles=[-30, -15, 0, 15, 30])"
   ]
  },
  {
   "cell_type": "code",
   "execution_count": 19,
   "id": "e3897c23",
   "metadata": {},
   "outputs": [],
   "source": [
    "import torchvision"
   ]
  },
  {
   "cell_type": "code",
   "execution_count": 20,
   "id": "bf232056",
   "metadata": {},
   "outputs": [
    {
     "name": "stdout",
     "output_type": "stream",
     "text": [
      "torch.Size([4, 5, 8, 8])\n"
     ]
    }
   ],
   "source": [
    "inputs = torch.rand(4, 3, 10, 10)\n",
    "kh, kw = 3, 3\n",
    "weight = torch.rand(5, 3, kh, kw)\n",
    "offset = torch.rand(4, 2 * kh * kw, 8, 8)\n",
    "mask = torch.rand(4, kh * kw, 8, 8)\n",
    "out = torchvision.ops.deform_conv2d(inputs, offset, weight, mask=mask)\n",
    "print(out.shape)"
   ]
  },
  {
   "cell_type": "code",
   "execution_count": 22,
   "id": "13040cad",
   "metadata": {},
   "outputs": [
    {
     "name": "stdout",
     "output_type": "stream",
     "text": [
      "torch.Size([6, 5, 3, 3])\n"
     ]
    }
   ],
   "source": [
    "m = torchvision.ops.MultiScaleRoIAlign(['feat1', 'feat2'], 3, 2)\n",
    "i = {}\n",
    "i[\"feat1\"] = torch.rand(1, 5, 64, 64)\n",
    "i[\"feat2\"] = torch.rand(1, 5, 32, 32)\n",
    "i[\"feat3\"] = torch.rand(1, 5, 16, 16)\n",
    "boxes = torch.rand(6, 4) * 256\n",
    "boxes[:, 2:] += boxes[:, :2]\n",
    "image_sizes = [(512, 512)]\n",
    "output = m(i, [boxes], image_sizes)\n",
    "print(output.shape)"
   ]
  },
  {
   "cell_type": "code",
   "execution_count": 23,
   "id": "412c4f09",
   "metadata": {},
   "outputs": [
    {
     "name": "stdout",
     "output_type": "stream",
     "text": [
      "[('feat0', torch.Size([1, 5, 64, 64])), ('feat2', torch.Size([1, 5, 16, 16])), ('feat3', torch.Size([1, 5, 8, 8]))]\n"
     ]
    }
   ],
   "source": [
    "m = torchvision.ops.FeaturePyramidNetwork([10, 20, 30], 5)\n",
    "x = {}\n",
    "x[\"feat0\"] = torch.rand(1, 10, 64, 64)\n",
    "x[\"feat2\"] = torch.rand(1, 20, 16, 16)\n",
    "x[\"feat3\"] = torch.rand(1, 30, 8, 8)\n",
    "output = m(x)\n",
    "print([(k, v.shape) for k, v in output.items()])"
   ]
  },
  {
   "cell_type": "markdown",
   "id": "edd73e91",
   "metadata": {},
   "source": [
    "# Torch Text"
   ]
  },
  {
   "cell_type": "code",
   "execution_count": 1,
   "id": "e9ad7abc",
   "metadata": {},
   "outputs": [],
   "source": [
    "import torchtext"
   ]
  },
  {
   "cell_type": "code",
   "execution_count": 4,
   "id": "a7f29077",
   "metadata": {},
   "outputs": [
    {
     "name": "stdout",
     "output_type": "stream",
     "text": [
      "torch.Size([21, 256, 3])\n"
     ]
    }
   ],
   "source": [
    "import torch\n",
    "SDP = torchtext.nn.ScaledDotProduct(dropout=0.1)\n",
    "q = torch.randn(21, 256, 3)\n",
    "k = v = torch.randn(21, 256, 3)\n",
    "attn_output, attn_weights = SDP(q, k, v)\n",
    "print(attn_output.shape)"
   ]
  },
  {
   "cell_type": "code",
   "execution_count": 5,
   "id": "5d1208b9",
   "metadata": {},
   "outputs": [
    {
     "name": "stdout",
     "output_type": "stream",
     "text": [
      "torch.Size([21, 64, 10])\n"
     ]
    }
   ],
   "source": [
    "from torchtext.nn import MultiheadAttentionContainer, InProjContainer, ScaledDotProduct\n",
    "embed_dim, num_heads, bsz = 10, 5, 64\n",
    "in_prj_ontainer=InProjContainer(torch.nn.Linear(embed_dim, embed_dim), \n",
    "                torch.nn.Linear(embed_dim, embed_dim),\n",
    "                torch.nn.Linear(embed_dim, embed_dim))\n",
    "MHA = MultiheadAttentionContainer(num_heads, in_prj_ontainer, ScaledDotProduct(), torch.nn.Linear(embed_dim, \n",
    "                                                                                                    embed_dim))\n",
    "query = torch.rand((21, bsz, embed_dim))\n",
    "key = value = torch.rand((16, bsz, embed_dim))\n",
    "attn_output, attn_weights = MHA(query, key, value)\n",
    "print(attn_output.shape)"
   ]
  },
  {
   "cell_type": "code",
   "execution_count": 6,
   "id": "11cd4814",
   "metadata": {},
   "outputs": [
    {
     "data": {
      "text/plain": [
       "0.8408964276313782"
      ]
     },
     "execution_count": 6,
     "metadata": {},
     "output_type": "execute_result"
    }
   ],
   "source": [
    "from torchtext.data.metrics import bleu_score\n",
    "candidate_corpus = [['My', \"full\", \"pytorch\", \"test\"], [\"Another\", \"Sentence\"]]\n",
    "references_corpus = [[[\"My\", \"full\", \"pytorch\", \"test\"], [\"Completely\", \"Different\"]], [[\"No\", \"Match\"]]]\n",
    "bleu_score(candidate_corpus, references_corpus)"
   ]
  },
  {
   "cell_type": "code",
   "execution_count": 2,
   "id": "6065572a",
   "metadata": {},
   "outputs": [
    {
     "data": {
      "text/plain": [
       "['you', 'can', 'now', 'install', 'torchtext', 'uning', 'pip', '!']"
      ]
     },
     "execution_count": 2,
     "metadata": {},
     "output_type": "execute_result"
    }
   ],
   "source": [
    "import torchtext\n",
    "from torchtext.data import get_tokenizer\n",
    "tokenizer = get_tokenizer(\"basic_english\")\n",
    "tokens = tokenizer(\"You can now install torchtext uning pip!\")\n",
    "tokens"
   ]
  },
  {
   "cell_type": "code",
   "execution_count": 4,
   "id": "ae1922fa",
   "metadata": {},
   "outputs": [],
   "source": [
    "from torchtext.data.utils import ngrams_iterator"
   ]
  },
  {
   "cell_type": "code",
   "execution_count": 9,
   "id": "b1f683c3",
   "metadata": {},
   "outputs": [
    {
     "data": {
      "text/plain": [
       "['you',\n",
       " 'can',\n",
       " 'now',\n",
       " 'install',\n",
       " 'torchtext',\n",
       " 'uning',\n",
       " 'pip',\n",
       " '!',\n",
       " 'you can',\n",
       " 'can now',\n",
       " 'now install',\n",
       " 'install torchtext',\n",
       " 'torchtext uning',\n",
       " 'uning pip',\n",
       " 'pip !']"
      ]
     },
     "execution_count": 9,
     "metadata": {},
     "output_type": "execute_result"
    }
   ],
   "source": [
    "list(ngrams_iterator(tokens, 2))"
   ]
  },
  {
   "cell_type": "code",
   "execution_count": 13,
   "id": "5a5552bc",
   "metadata": {},
   "outputs": [
    {
     "name": "stdout",
     "output_type": "stream",
     "text": [
      "0\n",
      "0\n",
      "-1\n"
     ]
    },
    {
     "data": {
      "text/plain": [
       "True"
      ]
     },
     "execution_count": 13,
     "metadata": {},
     "output_type": "execute_result"
    }
   ],
   "source": [
    "from torchtext.vocab import vocab\n",
    "from collections import Counter, OrderedDict\n",
    "counter = Counter([\"a\", \"a\", \"b\", \"b\"])\n",
    "sorted_by_freq_tuples = sorted(counter.items(), key=lambda x: x[1], reverse=True)\n",
    "ordered_dict = OrderedDict(sorted_by_freq_tuples)\n",
    "v1 = vocab(ordered_dict)\n",
    "print(v1['a'])\n",
    "tokens = ['e', 'd', 'c', 'b', 'a']\n",
    "unk_token = '<unk>'\n",
    "default_index = -1\n",
    "v2 = vocab(OrderedDict([(token, 1) for token in tokens]), specials=[unk_token])\n",
    "v2.set_default_index(default_index)\n",
    "print(v2[\"<unk>\"])\n",
    "print(v2['out of vocab'])\n",
    "v2.set_default_index(v2[unk_token])\n",
    "v2[\"out of vocab\"] is v2[unk_token]"
   ]
  },
  {
   "cell_type": "code",
   "execution_count": null,
   "id": "50b99a47",
   "metadata": {},
   "outputs": [],
   "source": []
  }
 ],
 "metadata": {
  "kernelspec": {
   "display_name": "Python 3",
   "language": "python",
   "name": "python3"
  },
  "language_info": {
   "codemirror_mode": {
    "name": "ipython",
    "version": 3
   },
   "file_extension": ".py",
   "mimetype": "text/x-python",
   "name": "python",
   "nbconvert_exporter": "python",
   "pygments_lexer": "ipython3",
   "version": "3.8.8"
  }
 },
 "nbformat": 4,
 "nbformat_minor": 5
}
