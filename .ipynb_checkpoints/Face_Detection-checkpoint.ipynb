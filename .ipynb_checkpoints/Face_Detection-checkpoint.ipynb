{
 "cells": [
  {
   "cell_type": "code",
   "execution_count": 1,
   "id": "a4609a07",
   "metadata": {},
   "outputs": [],
   "source": [
    "import tensorflow as tf\n",
    "import numpy as np\n",
    "import matplotlib.pyplot as plt"
   ]
  },
  {
   "cell_type": "code",
   "execution_count": 29,
   "id": "daea52fa",
   "metadata": {},
   "outputs": [
    {
     "name": "stdout",
     "output_type": "stream",
     "text": [
      "Found 13386 files belonging to 2 classes.\n"
     ]
    }
   ],
   "source": [
    "train_data = tf.keras.preprocessing.image_dataset_from_directory(\"D:/Datasets/face_detection/train\", image_size=(224, 224), label_mode=\"categorical\")"
   ]
  },
  {
   "cell_type": "code",
   "execution_count": 30,
   "id": "74e79915",
   "metadata": {},
   "outputs": [],
   "source": [
    "def show_labels(images, labels):\n",
    "    images = tf.cast(images/255.0, tf.float32)\n",
    "    labels = tf.cast(labels, tf.float32)\n",
    "    return images, labels"
   ]
  },
  {
   "cell_type": "code",
   "execution_count": 31,
   "id": "5812df58",
   "metadata": {},
   "outputs": [],
   "source": [
    "train_data = train_data.map(show_labels)"
   ]
  },
  {
   "cell_type": "code",
   "execution_count": 32,
   "id": "23dd2f7d",
   "metadata": {},
   "outputs": [
    {
     "name": "stdout",
     "output_type": "stream",
     "text": [
      "tf.Tensor(\n",
      "[[1. 0.]\n",
      " [1. 0.]\n",
      " [1. 0.]\n",
      " [1. 0.]\n",
      " [1. 0.]\n",
      " [1. 0.]\n",
      " [1. 0.]\n",
      " [1. 0.]\n",
      " [1. 0.]\n",
      " [1. 0.]\n",
      " [1. 0.]\n",
      " [1. 0.]\n",
      " [1. 0.]\n",
      " [1. 0.]\n",
      " [1. 0.]\n",
      " [1. 0.]\n",
      " [1. 0.]\n",
      " [1. 0.]\n",
      " [1. 0.]\n",
      " [1. 0.]\n",
      " [1. 0.]\n",
      " [1. 0.]\n",
      " [1. 0.]\n",
      " [1. 0.]\n",
      " [1. 0.]\n",
      " [1. 0.]\n",
      " [1. 0.]\n",
      " [1. 0.]\n",
      " [1. 0.]\n",
      " [1. 0.]\n",
      " [1. 0.]\n",
      " [1. 0.]], shape=(32, 2), dtype=float32)\n",
      "tf.Tensor(\n",
      "[[1. 0.]\n",
      " [1. 0.]\n",
      " [1. 0.]\n",
      " [1. 0.]\n",
      " [1. 0.]\n",
      " [1. 0.]\n",
      " [1. 0.]\n",
      " [1. 0.]\n",
      " [1. 0.]\n",
      " [1. 0.]\n",
      " [1. 0.]\n",
      " [1. 0.]\n",
      " [1. 0.]\n",
      " [1. 0.]\n",
      " [1. 0.]\n",
      " [1. 0.]\n",
      " [1. 0.]\n",
      " [1. 0.]\n",
      " [1. 0.]\n",
      " [1. 0.]\n",
      " [1. 0.]\n",
      " [1. 0.]\n",
      " [1. 0.]\n",
      " [1. 0.]\n",
      " [1. 0.]\n",
      " [1. 0.]\n",
      " [1. 0.]\n",
      " [1. 0.]\n",
      " [1. 0.]\n",
      " [1. 0.]\n",
      " [1. 0.]\n",
      " [1. 0.]], shape=(32, 2), dtype=float32)\n",
      "tf.Tensor(\n",
      "[[1. 0.]\n",
      " [1. 0.]\n",
      " [1. 0.]\n",
      " [1. 0.]\n",
      " [1. 0.]\n",
      " [1. 0.]\n",
      " [1. 0.]\n",
      " [1. 0.]\n",
      " [1. 0.]\n",
      " [1. 0.]\n",
      " [1. 0.]\n",
      " [1. 0.]\n",
      " [1. 0.]\n",
      " [1. 0.]\n",
      " [1. 0.]\n",
      " [1. 0.]\n",
      " [1. 0.]\n",
      " [1. 0.]\n",
      " [1. 0.]\n",
      " [1. 0.]\n",
      " [1. 0.]\n",
      " [1. 0.]\n",
      " [1. 0.]\n",
      " [1. 0.]\n",
      " [1. 0.]\n",
      " [1. 0.]\n",
      " [1. 0.]\n",
      " [1. 0.]\n",
      " [1. 0.]\n",
      " [1. 0.]\n",
      " [1. 0.]\n",
      " [1. 0.]], shape=(32, 2), dtype=float32)\n",
      "tf.Tensor(\n",
      "[[1. 0.]\n",
      " [1. 0.]\n",
      " [1. 0.]\n",
      " [1. 0.]\n",
      " [1. 0.]\n",
      " [1. 0.]\n",
      " [1. 0.]\n",
      " [1. 0.]\n",
      " [1. 0.]\n",
      " [1. 0.]\n",
      " [1. 0.]\n",
      " [1. 0.]\n",
      " [1. 0.]\n",
      " [1. 0.]\n",
      " [1. 0.]\n",
      " [1. 0.]\n",
      " [1. 0.]\n",
      " [1. 0.]\n",
      " [1. 0.]\n",
      " [1. 0.]\n",
      " [1. 0.]\n",
      " [1. 0.]\n",
      " [1. 0.]\n",
      " [1. 0.]\n",
      " [1. 0.]\n",
      " [1. 0.]\n",
      " [1. 0.]\n",
      " [1. 0.]\n",
      " [1. 0.]\n",
      " [1. 0.]\n",
      " [1. 0.]\n",
      " [1. 0.]], shape=(32, 2), dtype=float32)\n",
      "tf.Tensor(\n",
      "[[1. 0.]\n",
      " [1. 0.]\n",
      " [1. 0.]\n",
      " [1. 0.]\n",
      " [1. 0.]\n",
      " [1. 0.]\n",
      " [1. 0.]\n",
      " [1. 0.]\n",
      " [1. 0.]\n",
      " [1. 0.]\n",
      " [1. 0.]\n",
      " [1. 0.]\n",
      " [1. 0.]\n",
      " [1. 0.]\n",
      " [1. 0.]\n",
      " [1. 0.]\n",
      " [1. 0.]\n",
      " [1. 0.]\n",
      " [1. 0.]\n",
      " [1. 0.]\n",
      " [1. 0.]\n",
      " [1. 0.]\n",
      " [1. 0.]\n",
      " [1. 0.]\n",
      " [1. 0.]\n",
      " [1. 0.]\n",
      " [1. 0.]\n",
      " [1. 0.]\n",
      " [1. 0.]\n",
      " [1. 0.]\n",
      " [1. 0.]\n",
      " [1. 0.]], shape=(32, 2), dtype=float32)\n",
      "tf.Tensor(\n",
      "[[1. 0.]\n",
      " [1. 0.]\n",
      " [1. 0.]\n",
      " [1. 0.]\n",
      " [1. 0.]\n",
      " [1. 0.]\n",
      " [1. 0.]\n",
      " [1. 0.]\n",
      " [1. 0.]\n",
      " [1. 0.]\n",
      " [1. 0.]\n",
      " [1. 0.]\n",
      " [1. 0.]\n",
      " [1. 0.]\n",
      " [1. 0.]\n",
      " [1. 0.]\n",
      " [1. 0.]\n",
      " [1. 0.]\n",
      " [1. 0.]\n",
      " [1. 0.]\n",
      " [1. 0.]\n",
      " [1. 0.]\n",
      " [1. 0.]\n",
      " [1. 0.]\n",
      " [1. 0.]\n",
      " [1. 0.]\n",
      " [1. 0.]\n",
      " [1. 0.]\n",
      " [1. 0.]\n",
      " [1. 0.]\n",
      " [1. 0.]\n",
      " [1. 0.]], shape=(32, 2), dtype=float32)\n",
      "tf.Tensor(\n",
      "[[1. 0.]\n",
      " [1. 0.]\n",
      " [1. 0.]\n",
      " [1. 0.]\n",
      " [1. 0.]\n",
      " [1. 0.]\n",
      " [1. 0.]\n",
      " [1. 0.]\n",
      " [1. 0.]\n",
      " [1. 0.]\n",
      " [1. 0.]\n",
      " [1. 0.]\n",
      " [1. 0.]\n",
      " [1. 0.]\n",
      " [1. 0.]\n",
      " [1. 0.]\n",
      " [1. 0.]\n",
      " [1. 0.]\n",
      " [1. 0.]\n",
      " [1. 0.]\n",
      " [1. 0.]\n",
      " [1. 0.]\n",
      " [1. 0.]\n",
      " [1. 0.]\n",
      " [1. 0.]\n",
      " [1. 0.]\n",
      " [1. 0.]\n",
      " [1. 0.]\n",
      " [1. 0.]\n",
      " [1. 0.]\n",
      " [1. 0.]\n",
      " [1. 0.]], shape=(32, 2), dtype=float32)\n",
      "tf.Tensor(\n",
      "[[1. 0.]\n",
      " [1. 0.]\n",
      " [1. 0.]\n",
      " [1. 0.]\n",
      " [1. 0.]\n",
      " [1. 0.]\n",
      " [1. 0.]\n",
      " [1. 0.]\n",
      " [1. 0.]\n",
      " [1. 0.]\n",
      " [1. 0.]\n",
      " [1. 0.]\n",
      " [1. 0.]\n",
      " [1. 0.]\n",
      " [1. 0.]\n",
      " [1. 0.]\n",
      " [1. 0.]\n",
      " [1. 0.]\n",
      " [1. 0.]\n",
      " [1. 0.]\n",
      " [1. 0.]\n",
      " [1. 0.]\n",
      " [1. 0.]\n",
      " [1. 0.]\n",
      " [1. 0.]\n",
      " [1. 0.]\n",
      " [1. 0.]\n",
      " [1. 0.]\n",
      " [1. 0.]\n",
      " [1. 0.]\n",
      " [1. 0.]\n",
      " [1. 0.]], shape=(32, 2), dtype=float32)\n",
      "tf.Tensor(\n",
      "[[1. 0.]\n",
      " [1. 0.]\n",
      " [1. 0.]\n",
      " [1. 0.]\n",
      " [1. 0.]\n",
      " [1. 0.]\n",
      " [1. 0.]\n",
      " [1. 0.]\n",
      " [1. 0.]\n",
      " [1. 0.]\n",
      " [1. 0.]\n",
      " [1. 0.]\n",
      " [1. 0.]\n",
      " [1. 0.]\n",
      " [1. 0.]\n",
      " [1. 0.]\n",
      " [1. 0.]\n",
      " [1. 0.]\n",
      " [1. 0.]\n",
      " [1. 0.]\n",
      " [1. 0.]\n",
      " [1. 0.]\n",
      " [1. 0.]\n",
      " [1. 0.]\n",
      " [1. 0.]\n",
      " [1. 0.]\n",
      " [1. 0.]\n",
      " [1. 0.]\n",
      " [1. 0.]\n",
      " [1. 0.]\n",
      " [1. 0.]\n",
      " [1. 0.]], shape=(32, 2), dtype=float32)\n",
      "tf.Tensor(\n",
      "[[1. 0.]\n",
      " [1. 0.]\n",
      " [1. 0.]\n",
      " [1. 0.]\n",
      " [1. 0.]\n",
      " [1. 0.]\n",
      " [1. 0.]\n",
      " [1. 0.]\n",
      " [1. 0.]\n",
      " [1. 0.]\n",
      " [1. 0.]\n",
      " [1. 0.]\n",
      " [1. 0.]\n",
      " [1. 0.]\n",
      " [1. 0.]\n",
      " [1. 0.]\n",
      " [1. 0.]\n",
      " [1. 0.]\n",
      " [1. 0.]\n",
      " [1. 0.]\n",
      " [1. 0.]\n",
      " [1. 0.]\n",
      " [1. 0.]\n",
      " [1. 0.]\n",
      " [1. 0.]\n",
      " [1. 0.]\n",
      " [1. 0.]\n",
      " [1. 0.]\n",
      " [1. 0.]\n",
      " [1. 0.]\n",
      " [1. 0.]\n",
      " [1. 0.]], shape=(32, 2), dtype=float32)\n"
     ]
    }
   ],
   "source": [
    "for data, label in train_data.take(10):\n",
    "    print(label)"
   ]
  },
  {
   "cell_type": "code",
   "execution_count": 43,
   "id": "6b3bef00",
   "metadata": {},
   "outputs": [],
   "source": [
    "directory_path = 'D:/Datasets/face_detection/train/labels/*'\n",
    "text = tf.data.Dataset.list_files(directory_path, shuffle=False)\n",
    "# text_files = file_dataset.filter(lambda x: tf.strings.regex_full_match(x, '.*\\\\.txt'))"
   ]
  },
  {
   "cell_type": "code",
   "execution_count": 44,
   "id": "a4c1f043",
   "metadata": {},
   "outputs": [
    {
     "name": "stdout",
     "output_type": "stream",
     "text": [
      "<TensorSliceDataset element_spec=TensorSpec(shape=(), dtype=tf.string, name=None)>\n"
     ]
    }
   ],
   "source": [
    "print(text)"
   ]
  },
  {
   "cell_type": "code",
   "execution_count": 45,
   "id": "bd8234d4",
   "metadata": {},
   "outputs": [
    {
     "name": "stdout",
     "output_type": "stream",
     "text": [
      "tf.Tensor(b'D:\\\\Datasets\\\\face_detection\\\\train\\\\labels\\\\00006c07d2b033d1.txt', shape=(), dtype=string)\n"
     ]
    }
   ],
   "source": [
    "for data in text.take(1):\n",
    "    print(data)"
   ]
  },
  {
   "cell_type": "code",
   "execution_count": 46,
   "id": "479837fa",
   "metadata": {},
   "outputs": [],
   "source": [
    "directory_path = 'D:/Datasets/face_detection/train/images/*'\n",
    "images = tf.data.Dataset.list_files(directory_path, shuffle=False)"
   ]
  },
  {
   "cell_type": "code",
   "execution_count": 47,
   "id": "23e36a34",
   "metadata": {},
   "outputs": [
    {
     "name": "stdout",
     "output_type": "stream",
     "text": [
      "tf.Tensor(b'D:\\\\Datasets\\\\face_detection\\\\train\\\\images\\\\00006c07d2b033d1.jpg', shape=(), dtype=string)\n"
     ]
    }
   ],
   "source": [
    "for data in images.take(1):\n",
    "    print(data)"
   ]
  },
  {
   "cell_type": "code",
   "execution_count": 50,
   "id": "ad9f9f79",
   "metadata": {},
   "outputs": [],
   "source": [
    "def text_dataset(file_path):\n",
    "    text = tf.io.read_file(file_path)\n",
    "    return text"
   ]
  },
  {
   "cell_type": "code",
   "execution_count": 51,
   "id": "3a3a46eb",
   "metadata": {},
   "outputs": [],
   "source": [
    "labels = text.map(text_dataset)"
   ]
  },
  {
   "cell_type": "code",
   "execution_count": 53,
   "id": "2f2e1aac",
   "metadata": {},
   "outputs": [
    {
     "name": "stdout",
     "output_type": "stream",
     "text": [
      "tf.Tensor(b'0 0.3943359375 0.325390125 0.139063 0.192188\\r\\n0 0.6656245 0.315625 0.1421880000000001 0.189062\\r\\n', shape=(), dtype=string)\n",
      "tf.Tensor(b'0 0.2209375 0.4151388225584594 0.078125 0.14449399999999998\\r\\n0 0.3569921875 0.32394094910591476 0.085625 0.167401\\r\\n0 0.6877734375 0.2591553287482806 0.12312500000000004 0.23259900000000003\\r\\n', shape=(), dtype=string)\n",
      "tf.Tensor(b'0 0.09109375 0.4865220414507772 0.024999999999999994 0.03233900000000001\\r\\n0 0.4146875 0.7943527772020724 0.048750000000000016 0.08457700000000003\\r\\n0 0.5009375 0.7248044507772021 0.04750000000000004 0.09038100000000002\\r\\n0 0.7919140625 0.8028965440414508 0.04937500000000006 0.158374\\r\\n0 0.8465625 0.5360630829015544 0.04812499999999997 0.06384800000000002\\r\\n', shape=(), dtype=string)\n",
      "tf.Tensor(b'0 0.6008612280701754 0.25036425 0.19475600000000007 0.16583399999999998\\r\\n', shape=(), dtype=string)\n",
      "tf.Tensor(b'0 0.6238847748776509 0.5287109375 0.607516 0.57625\\r\\n', shape=(), dtype=string)\n"
     ]
    }
   ],
   "source": [
    "for data in labels.take(5):\n",
    "    print(data)"
   ]
  },
  {
   "cell_type": "code",
   "execution_count": 76,
   "id": "55dff2c4",
   "metadata": {},
   "outputs": [
    {
     "name": "stdout",
     "output_type": "stream",
     "text": [
      "tf.Tensor(\n",
      "[0.         0.39433593 0.32539013 0.139063   0.192188   0.\n",
      " 0.6656245  0.315625   0.142188   0.189062  ], shape=(10,), dtype=float32)\n",
      "tf.Tensor(\n",
      "[0.         0.2209375  0.4151388  0.078125   0.144494   0.\n",
      " 0.3569922  0.32394096 0.085625   0.167401   0.         0.68777347\n",
      " 0.25915533 0.123125   0.232599  ], shape=(15,), dtype=float32)\n",
      "tf.Tensor(\n",
      "[0.         0.09109375 0.48652205 0.025      0.032339   0.\n",
      " 0.4146875  0.79435277 0.04875    0.084577   0.         0.5009375\n",
      " 0.72480446 0.0475     0.090381   0.         0.79191405 0.80289656\n",
      " 0.049375   0.158374   0.         0.8465625  0.5360631  0.048125\n",
      " 0.063848  ], shape=(25,), dtype=float32)\n",
      "tf.Tensor([0.         0.60086125 0.25036424 0.194756   0.165834  ], shape=(5,), dtype=float32)\n",
      "tf.Tensor([0.         0.6238848  0.52871096 0.607516   0.57625   ], shape=(5,), dtype=float32)\n"
     ]
    }
   ],
   "source": [
    "for data in labels.take(5):\n",
    "    split_data = tf.strings.split(data)\n",
    "    float_tensors = tf.strings.to_number(split_data, out_type=tf.float32)\n",
    "    print(float_tensors)"
   ]
  },
  {
   "cell_type": "code",
   "execution_count": 77,
   "id": "37bf4498",
   "metadata": {},
   "outputs": [],
   "source": [
    "def data_to_numbers(data):\n",
    "    split_data = tf.strings.split(data)\n",
    "    return tf.strings.to_number(split_data, out_type=tf.float32)"
   ]
  },
  {
   "cell_type": "code",
   "execution_count": 78,
   "id": "d45e6f16",
   "metadata": {},
   "outputs": [],
   "source": [
    "labelss = labels.map(data_to_numbers)"
   ]
  },
  {
   "cell_type": "code",
   "execution_count": 79,
   "id": "04cce87a",
   "metadata": {},
   "outputs": [
    {
     "name": "stdout",
     "output_type": "stream",
     "text": [
      "tf.Tensor(\n",
      "[0.         0.39433593 0.32539013 0.139063   0.192188   0.\n",
      " 0.6656245  0.315625   0.142188   0.189062  ], shape=(10,), dtype=float32)\n",
      "tf.Tensor(\n",
      "[0.         0.2209375  0.4151388  0.078125   0.144494   0.\n",
      " 0.3569922  0.32394096 0.085625   0.167401   0.         0.68777347\n",
      " 0.25915533 0.123125   0.232599  ], shape=(15,), dtype=float32)\n",
      "tf.Tensor(\n",
      "[0.         0.09109375 0.48652205 0.025      0.032339   0.\n",
      " 0.4146875  0.79435277 0.04875    0.084577   0.         0.5009375\n",
      " 0.72480446 0.0475     0.090381   0.         0.79191405 0.80289656\n",
      " 0.049375   0.158374   0.         0.8465625  0.5360631  0.048125\n",
      " 0.063848  ], shape=(25,), dtype=float32)\n",
      "tf.Tensor([0.         0.60086125 0.25036424 0.194756   0.165834  ], shape=(5,), dtype=float32)\n",
      "tf.Tensor([0.         0.6238848  0.52871096 0.607516   0.57625   ], shape=(5,), dtype=float32)\n"
     ]
    }
   ],
   "source": [
    "for data in labelss.take(5):\n",
    "    print(data)"
   ]
  },
  {
   "cell_type": "code",
   "execution_count": 103,
   "id": "189fcd73",
   "metadata": {},
   "outputs": [],
   "source": [
    "def preprocess_image(image_path, target_size=(224, 224)):\n",
    "    image = tf.io.read_file(image_path)\n",
    "    image = tf.image.decode_image(image, channels=3, expand_animations = False)\n",
    "    return image"
   ]
  },
  {
   "cell_type": "code",
   "execution_count": 104,
   "id": "c7d4d503",
   "metadata": {},
   "outputs": [],
   "source": [
    "image_dataset = images.map(preprocess_image)"
   ]
  },
  {
   "cell_type": "code",
   "execution_count": 105,
   "id": "da33ed9d",
   "metadata": {},
   "outputs": [
    {
     "data": {
      "text/plain": [
       "<MapDataset element_spec=TensorSpec(shape=(None, None, 3), dtype=tf.uint8, name=None)>"
      ]
     },
     "execution_count": 105,
     "metadata": {},
     "output_type": "execute_result"
    }
   ],
   "source": [
    "image_dataset"
   ]
  },
  {
   "cell_type": "code",
   "execution_count": 106,
   "id": "842ec9d8",
   "metadata": {},
   "outputs": [
    {
     "name": "stdout",
     "output_type": "stream",
     "text": [
      "tf.Tensor([1024 1024    3], shape=(3,), dtype=int32)\n"
     ]
    }
   ],
   "source": [
    "for data in image_dataset.take(1):\n",
    "    print(tf.shape(data))"
   ]
  },
  {
   "cell_type": "code",
   "execution_count": 107,
   "id": "3b72a967",
   "metadata": {},
   "outputs": [],
   "source": [
    "def convert_the_dataset(data):\n",
    "    data = tf.cast(data, tf.float32)/255.0\n",
    "    return data"
   ]
  },
  {
   "cell_type": "code",
   "execution_count": 108,
   "id": "00982090",
   "metadata": {},
   "outputs": [],
   "source": [
    "image_datasets = image_dataset.map(convert_the_dataset)"
   ]
  },
  {
   "cell_type": "code",
   "execution_count": 109,
   "id": "9aed5079",
   "metadata": {},
   "outputs": [],
   "source": [
    "def resize(data):\n",
    "    return tf.image.resize(data, [224, 224])"
   ]
  },
  {
   "cell_type": "code",
   "execution_count": 110,
   "id": "f33c1f13",
   "metadata": {},
   "outputs": [],
   "source": [
    "image_datasetss = image_datasets.map(resize)"
   ]
  },
  {
   "cell_type": "code",
   "execution_count": 131,
   "id": "ff94c5e0",
   "metadata": {},
   "outputs": [],
   "source": [
    "import matplotlib.patches as patches "
   ]
  },
  {
   "cell_type": "code",
   "execution_count": 140,
   "id": "ae5500d1",
   "metadata": {},
   "outputs": [],
   "source": [
    "def labels_reshape(data):\n",
    "    return tf.reshape(data, (None, 5))"
   ]
  },
  {
   "cell_type": "code",
   "execution_count": null,
   "id": "b5bd7a0c",
   "metadata": {},
   "outputs": [],
   "source": []
  },
  {
   "cell_type": "code",
   "execution_count": null,
   "id": "3512d5bd",
   "metadata": {},
   "outputs": [],
   "source": []
  },
  {
   "cell_type": "code",
   "execution_count": null,
   "id": "384f618a",
   "metadata": {},
   "outputs": [],
   "source": []
  },
  {
   "cell_type": "code",
   "execution_count": null,
   "id": "124cd8ef",
   "metadata": {},
   "outputs": [],
   "source": [
    "\n"
   ]
  },
  {
   "cell_type": "code",
   "execution_count": null,
   "id": "43ff7167",
   "metadata": {},
   "outputs": [],
   "source": []
  }
 ],
 "metadata": {
  "kernelspec": {
   "display_name": "Python 3",
   "language": "python",
   "name": "python3"
  },
  "language_info": {
   "codemirror_mode": {
    "name": "ipython",
    "version": 3
   },
   "file_extension": ".py",
   "mimetype": "text/x-python",
   "name": "python",
   "nbconvert_exporter": "python",
   "pygments_lexer": "ipython3",
   "version": "3.8.8"
  }
 },
 "nbformat": 4,
 "nbformat_minor": 5
}
